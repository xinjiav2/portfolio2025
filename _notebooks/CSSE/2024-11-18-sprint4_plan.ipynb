{
 "cells": [
  {
   "cell_type": "raw",
   "metadata": {
    "vscode": {
     "languageId": "raw"
    }
   },
   "source": [
    "---\n",
    "layout: post\n",
    "title: Sprint 4 - CSSE Objectives \n",
    "description: Exploring the Platformer Game \n",
    "type: issues \n",
    "courses: { csse: {week: 13} }\n",
    "comments: true\n",
    "permalink: /csse/sprint4/objectives\n",
    "---"
   ]
  },
  {
   "cell_type": "markdown",
   "metadata": {},
   "source": [
    "### Start a new type of Gaming\n",
    "\n",
    "As teams of 3 we will all be working on the same Platformer Game. We will be adding or extending levels in the game. \n",
    "\n",
    "- Each team will make a fork of [platformer3x](https://github.com/nighthawkcoders/platformer3x) and start working on their own game level.\n",
    "\n",
    "- Each team will select a topic to become knowledgable in and teach to other classmembers including hacks.\n",
    "\n",
    "- Each individual will discuss code they planned, changed, and understand in the live review.  There will be checkpoints on this progress.\n",
    "\n",
    "#### Grading Guideline\n",
    "- **55%**: Minimum per item\n",
    "- **75%**: Mostly done\n",
    "- **85%**: Complete\n",
    "- **90%**: Maximum perfection\n",
    "\n",
    "#### Assignments Evaluation\n",
    "\n",
    "| **Assignment** | **Weight** | **Grade** | **Evidence** |\n",
    "|----------------|------------|-----------|--------------|\n",
    "| Sprint 4 Plan  | 1          |           |              |\n",
    "| Sprint 4 Code  | 2          |           |              |\n",
    "| Integrations   | 2          |           |              |\n",
    "| Teach          | 2          |           |              |\n",
    "| **Total**      | 7          |           |              |\n",
    "\n",
    "#### Skills Evaluation\n",
    "\n",
    "| **Skill**                  | **Weight**    | **Grade** | **Evidence** |\n",
    "|----------------------------|---------------|-----------|--------------|\n",
    "| Work Habits (Analytics)    | 1             |           |              |\n",
    "| Live Review                | 2             |           |              | \n",
    "| **Total**                  | 3             |           |              |\n",
    "\n",
    "#### Raw Form\n",
    "\n",
    "```text\n",
    "| **Assignment** | **Weight** | **Grade** | **Evidence** |\n",
    "|----------------|------------|-----------|--------------|\n",
    "| Sprint 4 Plan  | 1          |           |              |\n",
    "| Sprint 4 Code  | 2          |           |              |\n",
    "| Integrations   | 2          |           |              |\n",
    "| Teach          | 2          |           |              |\n",
    "| **Total**      | 7          |           |              |\n",
    "\n",
    "#### Skills Evaluation\n",
    "\n",
    "| **Skill**                  | **Weight**    | **Grade** | **Evidence** |\n",
    "|----------------------------|---------------|-----------|--------------|\n",
    "| Work Habits (Analytics)    | 1             |           |              |\n",
    "| Live Review                | 2             |           |              | \n",
    "| **Total**                  | 3             |           |              |\n",
    "```"
   ]
  }
 ],
 "metadata": {
  "language_info": {
   "name": "python"
  }
 },
 "nbformat": 4,
 "nbformat_minor": 2
}
