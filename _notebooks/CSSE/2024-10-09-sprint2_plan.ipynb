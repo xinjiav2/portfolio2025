{
 "cells": [
  {
   "cell_type": "raw",
   "metadata": {
    "vscode": {
     "languageId": "raw"
    }
   },
   "source": [
    "---\n",
    "layout: post\n",
    "title: Sprint 2 - CSSE Objectives \n",
    "description:  Student Teach and Software Development Objectives for Sprint 2\n",
    "type: issues \n",
    "courses: { csse: {week: 4} }\n",
    "comments: true\n",
    "---"
   ]
  },
  {
   "cell_type": "markdown",
   "metadata": {},
   "source": [
    "## Issues\n",
    "Teacher and Self evaluation are critical to our success and improvements.   Be sure to add evidence."
   ]
  },
  {
   "cell_type": "markdown",
   "metadata": {},
   "source": [
    "### JavaScript starters\n",
    "\n",
    "#### Grade Rank\n",
    "- .55 is minimum per item\n",
    "- .75 is mostly done\n",
    "- .85 is complete\n",
    "- .90 is maximum perfection\n",
    "\n",
    "\n",
    "#### Raw Form for Review Ticket\n",
    "\n",
    "Below is a check list is used to support the following Sprint 2 statement\n",
    "\n",
    "> A key focus of this course is to make Web Games using JavaScript. The weeks of Sprint 2 start covering object-oriented programming in JavaScript with a game emphasis. Topics include control structures, data types, input/output, operators, classes, methods and parameters, basic inheritance, and documentation practices.\n",
    "\n",
    "Self grade yourself on each item in checklist.  Many of the inidividual items have been graded, simply use grade formerly given.  If you received a low grade, you may want to emphasize improvement.\n",
    "\n",
    "The Teacher and TA will only allow you to show items of accomplishments from your Web site.  We are looking for understanding on the day we talk to you.  If you received a bad grad, extracting hacks into new personal learning IPYNB or showing concepts of hacks in game is a \"Higher\" way to show understanding.  Think about the best way to provide confidence to Teacher or TA that you know information.  \n",
    "\n",
    "FYI, many of these elements are absolute requirements for College Articulation after trimester 2.  Try to be creative in demonstrating how you gained understanding.\n",
    "\n",
    "```text\n",
    "| **Assignment**             | **Points**    | **Grade** | **Evidence** |\n",
    "|----------------------------|---------------|-----------|--------------|\n",
    "| JSON Object & Arrays       | 1             |           |              |\n",
    "| Variables Input and Output | 1             |           |              |\n",
    "| Data Types and Operators   | 1             |           |              |\n",
    "| For Loops using Sprites    | 1             |           |              |\n",
    "| Game Work, hack usage      | 1             |           |              |\n",
    "| Web Site: Home Page, Ideas | 1             |           |              | \n",
    "| Total                      | 5             |           |              |\n",
    "\n",
    "In your discussion you should describe soft skills accomplishments and work habits.  The Teacher and TA need to be convinced that you are making efforts to learn on your own and with others.  The classroom mantra is to reward effort.  \n",
    "\n",
    "| **Skill**                  | **Points**    | **Grade** | **Evidence** |\n",
    "|----------------------------|---------------|-----------|--------------|\n",
    "| Work Habits (Analytics)    | 1             |           |              |\n",
    "| Advocacy / Collaboration   | 1             |           |              |\n",
    "| Beyond Perfunctory         | 1             |           |              | \n",
    "| Total                      | 3             |           |              |\n",
    "```"
   ]
  }
 ],
 "metadata": {
  "language_info": {
   "name": "python"
  }
 },
 "nbformat": 4,
 "nbformat_minor": 2
}
