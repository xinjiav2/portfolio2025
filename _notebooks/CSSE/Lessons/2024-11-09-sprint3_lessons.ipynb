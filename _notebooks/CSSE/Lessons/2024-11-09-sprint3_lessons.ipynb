{
 "cells": [
  {
   "cell_type": "raw",
   "metadata": {
    "vscode": {
     "languageId": "raw"
    }
   },
   "source": [
    "---\n",
    "layout: post\n",
    "title: JavaScript Lessons\n",
    "description: Student defined lesson using JavaScript\n",
    "type: ccc \n",
    "courses: { csse: {week: 8} }\n",
    "comments: true\n",
    "permalink: /csse/sprint3/lessons\n",
    "---"
   ]
  },
  {
   "cell_type": "markdown",
   "metadata": {},
   "source": [
    "## Lessons Requirements\n",
    "\n",
    "Teaching lessons and showing understanding are **critical** to meet college articulation requirements.\n",
    "\n",
    "### Preparay\n",
    "\n",
    "> One Notebook for each person.  Each person will teach and have popcorn hack.  The team of teachers will assign homework to students.\n",
    "\n",
    "- Lessons will be taught in teams of 3s. \n",
    "- 3 seperate Notebooks. One per person. \n",
    "- Plan to teach for 3 to 5 minutes.  Each Teacher should teach a new concept.\n",
    "- Each individual lesson will have a Jupyter Notebooks and have code cells that run.\n",
    "- Add game concepts to your lesson to make your lesson useful to the class.\n",
    "- Utilize HTML Input and DOM elements for outputs.  This will help lessons be more \"game\" like if you can interact with the cell.\n",
    "- Plan to assist students on Popcorn hack for about 5 minutes.  Students should be able to complete it all popcorn hacks in class.\n",
    "- A Homework Notebook should be prepared that contains everything needed to be turned in to graders, it should contain all popcorn hacks and homework requirments.\n",
    "  - Prepare detail instructions on popcorn hacks, this should be a procedure.\n",
    "  - Prepare homework idea that can be accomplished in about 15-30 minutes.  \n",
    "  - Share weighting of Popcorn hack and homework, #1 .15, #2, .15, #3 .15, HW, .45\n",
    "- Be sure you review your team teach work prior to pull request.  Lessons should complement each other, not be repetitive.\n",
    "\n",
    "### Teaching Day\n",
    "\n",
    "> All team teachers need to have teaching part and guide students through a popcorn hack.\n",
    "\n",
    "- Student/Teachers will call class to order\n",
    "- Student/Teachers will provide instructions on where to obtain lessons.\n",
    "- Teach concepts and conclude each individual sesson with a Popcorn Hacks.\n",
    "- Students will guilde Popcorn Hacks and assign Homework.\n",
    "- Students will post a Google Doc on Slack in #coding to collect HW for grading.\n",
    "- Students will allow 24 hours for HW completion.\n",
    "- Instruct students that if the post HW in blog it is worth .01 extra credit if it has Input and DOM interactions.\n",
    "\n",
    "### Grading\n",
    "\n",
    "> Student/Teachers will grade homework 24 hours after collection time.\n",
    "- Grading is on .9 basis if on time, .8 basis if late\n",
    "- Students receive .01 extra credit if HW is shown on blog with dynamic inputs and outputs.\n",
    "- Update Google Doc with score on each part (popcorn hacks, homework).\n",
    "- Make comments on each item where deduction or extra credit is provided."
   ]
  },
  {
   "cell_type": "markdown",
   "metadata": {},
   "source": [
    "## Fall 2024 schdule\n",
    "\n",
    "Obtain files from portfolio_2025 `Lessons` directory.  GitHub [link](https://github.com/nighthawkcoders/portfolio_2025/tree/main/_notebooks/CSSE/Lessons).\n",
    "\n",
    "| Group | Lesson | Day |\n",
    "|-------|--------|-----|\n",
    "|  Ethan, Cason, Aria     |   Variables     | Wed 30th |\n",
    "|  Aneesh, Aaryav, Aditya   |  Math expressions  |  Thu 31st  |\n",
    "|  Shay, Yusef, William   |   Conditions  |  Fri 1st, simplify homework |\n",
    "|  Anika, Lara, Avantika  |   Nested Conditions  | Mon 4th, add parts |\n",
    "|  Lucas, Ethan, Alex    |   Classes and Methods  | Tue 2nd, change homework for class, simplify |\n",
    "\n",
    "| Group | Lesson | Status |\n",
    "|-------|--------|-----|\n",
    "|  Santhosh, Akhil, Veera | Data Abstractions | Fri 8th |\n",
    "|  Kian, Srinaga. Michael    |   Iteration  | Tue 12th |\n",
    "|  Logan, Matthew, Hamin   |   Strings  | Wed 13th |\n",
    "|  Jeong, Amal, Nora   |   Booleans  | Delayed, no pull request|\n",
    "|  Dylan, Leila, Zoey     |   Arrays/Lists  | Delayed, no pull request |"
   ]
  }
 ],
 "metadata": {
  "language_info": {
   "name": "python"
  }
 },
 "nbformat": 4,
 "nbformat_minor": 2
}
