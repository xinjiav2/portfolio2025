{
 "cells": [
  {
   "cell_type": "raw",
   "metadata": {
    "vscode": {
     "languageId": "raw"
    }
   },
   "source": [
    "---\n",
    "layout: post \n",
    "title: API Controller\n",
    "description: Creating an API request and response to the Spring Boot application.\n",
    "permalink: /java/spring/api/\n",
    "categories: [Java Spring]\n",
    "menu: nav/java_spring.html\n",
    "---"
   ]
  },
  {
   "cell_type": "markdown",
   "metadata": {},
   "source": [
    "## API Controller (JokesApiController)\n",
    "\n",
    "> This backend component of the Spring framework is responsible for building out the RESTful API services to access the data. Below is the `JokesApiController`, which is extensively commented to aid understanding.\n",
    "- **@Autowired**: This annotation provides full access to `JokesJpaRepository`.\n",
    "- **@GetMapping** and **@PutMapping**: These annotations enable endpoints for RESTful web services to access (accessor Get) and modify (mutator Put) the data.\n",
    "- **@PathVariable**: This annotation is used for obtaining information from the request URL.\n",
    "- **ResponseEntity**: Review the methods that return `ResponseEntity`, a Spring Framework implementation that encapsulates the entire HTTP response, including the status code, headers, and body. This allows for a more flexible and comprehensive way to handle HTTP responses according to RESTful API standards.\n",
    "- **Method Signatures**: Review the signatures of the methods to understand how the Java return type is converted to JSON using the `ResponseEntity` object. This conversion is handled by Spring's `HttpMessageConverter`, which automatically serializes the Java objects into JSON format for the HTTP response body.\n",
    "- **Generics**: A feature in Java that allows you to define classes, interfaces, and methods with a generic type `<T>`. In the `JokesApiController`, we are consumers of a class definition with generics from `public class ResponseEntity<T>`. This enables the return of a serialized instance of `ResponseEntity<List<Jokes>>` or `ResponseEntity<Jokes>` using specific types. "
   ]
  },
  {
   "cell_type": "markdown",
   "metadata": {
    "vscode": {
     "languageId": "raw"
    }
   },
   "source": [
    "### AP CSA Curriculum Comparisons\n",
    "\n",
    "- **Generics**: We are required to use and understand generic types in using `public class ArrayList<T>`. This is similar to how we use `public class ResponseEntity<T>` in the `JokesApiController`.\n",
    "- **Method Signatures**: The term signature is used in the curriculum to describe method definitions: `scope, return type, method name, parameters`. The signature is tightly coupled to the return type, which is important in understanding how methods like `getJokes()` and `setLike()` return `ResponseEntity` objects.\n",
    "- **Accessors and Mutators**: Making `accessors` and `mutators` in APIs reinforces the need to have backend services to perform `accessor` or `mutator` methods in Plain Old Java Objects (POJOs). JPA (Java Persistence API) enables us to inject those services into our POJO class definitions.\n",
    "- **List**: The `interface List<T>` is the parent of the College Board required `class ArrayList<T> implements List`. In the inheritance language, `List` is the interface definition and `ArrayList` is a specific implementation of `List` with enhancements and overrides. The `ArrayList` class adds features such as a resizable array, fast random access, and automatic memory management, constant time performance for get/set.\n",
    "    - List Interface: Defines the methods that any list implementation must provide.\n",
    "    - ArrayList Implementation: Provides constant-time performance for get and set operations due to its underlying array structure.\n",
    "    - LinkedList Implementation: Provides linear-time performance for get and set operations due to its underlying doubly-linked list structure.\n",
    "    - Vector Implementation: Synchronized, thread-safe implementation of a dynamic array. Provides similar functionality to `ArrayList` but with synchronization, meaning it can be safely accessed by multiple threads simultaneously.   \n",
    "    - Stack Implementation: Extends `Vector` and provides LIFO (last-in-first-out) stack operations."
   ]
  },
  {
   "cell_type": "markdown",
   "metadata": {},
   "source": [
    "```java\n",
    "import org.springframework.beans.factory.annotation.Autowired;\n",
    "import org.springframework.http.HttpStatus;\n",
    "import org.springframework.http.ResponseEntity;\n",
    "import org.springframework.web.bind.annotation.*;\n",
    "\n",
    "import java.util.List;\n",
    "import java.util.Optional;\n",
    "\n",
    "@RestController // Annotation to simplify the creation of RESTful web services\n",
    "@RequestMapping(\"/api/jokes\")  // All requests in this class begin with this URI\n",
    "public class JokesApiController {\n",
    "\n",
    "    /**\n",
    "     * @Autowired\n",
    "     * This annotation allows Spring to automatically inject the JokesJpaRepository dependency.\n",
    "     * The JokesJpaRepository is an interface, so the injected dependency means that Spring is automatically creating an instance of a class that implements this interface. This instance is then used to connect JPA methods to the POJO (Plain Old Java Object) class, enabling easy Database CRUD (Create, Read, Update, Delete) operations.\n",
    "     */\n",
    "    @Autowired\n",
    "    private JokesJpaRepository repository;\n",
    "\n",
    "    /**\n",
    "     * GET List of Jokes\n",
    "     * \n",
    "     * @GetMapping annotation is used for mapping HTTP GET requests onto specific handler methods.\n",
    "     * \n",
    "     * @return ResponseEntity<List<Jokes>> - A ResponseEntity containing a list of Jokes objects and an HTTP status code.\n",
    "     * The ResponseEntity encapsulates the entire HTTP response, including the status code, headers, and body.\n",
    "     * The list of Jokes objects is serialized to JSON format for the HTTP response body.\n",
    "     */\n",
    "    @GetMapping(\"/\")\n",
    "    public ResponseEntity<List<Jokes>> getJokes() {\n",
    "        // ResponseEntity returns List of Jokes provided by JPA findAll()\n",
    "        return new ResponseEntity<>(repository.findAll(), HttpStatus.OK);\n",
    "    }\n",
    "\n",
    "    /**\n",
    "     * Update Like\n",
    "     * \n",
    "     * @PutMapping annotation is used for mapping HTTP PUT requests onto specific handler methods.\n",
    "     * @PathVariable annotation extracts the templated part {id} from the URI.\n",
    "     * \n",
    "     * @param id The ID of the joke to be liked.\n",
    "     * @return ResponseEntity<Jokes> - A ResponseEntity containing the updated Jokes object and an HTTP status code.\n",
    "     * The ResponseEntity encapsulates the entire HTTP response, including the status code, headers, and body.\n",
    "     * The Jokes object is serialized to JSON format for the HTTP response body.\n",
    "     */\n",
    "    @PutMapping(\"/like/{id}\")\n",
    "    public ResponseEntity<Jokes> setLike(@PathVariable long id) {\n",
    "        /* \n",
    "        * Optional (below) is a container object which helps determine if a result is present. \n",
    "        * If a value is present, isPresent() will return true\n",
    "        * get() will return the value.\n",
    "        */\n",
    "        Optional<Jokes> optional = repository.findById(id);\n",
    "        if (optional.isPresent()) {  // Good ID\n",
    "            Jokes joke = optional.get();  // Value from findByID\n",
    "            joke.setHaha(joke.getHaha() + 1); // Increment value\n",
    "            repository.save(joke);  // Save entity\n",
    "            return new ResponseEntity<>(joke, HttpStatus.OK);  // OK HTTP response: status code, headers, and body\n",
    "        }\n",
    "        // Bad ID\n",
    "        return new ResponseEntity<>(HttpStatus.BAD_REQUEST);  // Failed HTTP response: status code, headers, and body\n",
    "    }\n",
    "\n",
    "    /* Update Jeer\n",
    "     */\n",
    "    @PutMapping(\"/jeer/{id}\")\n",
    "    public ResponseEntity<Jokes> setJeer(@PathVariable long id) {\n",
    "        Optional<Jokes> optional = repository.findById(id);\n",
    "        if (optional.isPresent()) {  // Good ID\n",
    "            Jokes joke = optional.get();\n",
    "            joke.setBoohoo(joke.getBoohoo() + 1);\n",
    "            repository.save(joke);\n",
    "            return new ResponseEntity<>(joke, HttpStatus.OK);\n",
    "        }\n",
    "        // Bad ID\n",
    "        return new ResponseEntity<>(HttpStatus.BAD_REQUEST);\n",
    "    }\n",
    "}\n",
    "```"
   ]
  }
 ],
 "metadata": {
  "kernelspec": {
   "display_name": "Java",
   "language": "java",
   "name": "java"
  },
  "language_info": {
   "codemirror_mode": "java",
   "file_extension": ".jshell",
   "mimetype": "text/x-java-source",
   "name": "java",
   "pygments_lexer": "java",
   "version": "17.0.12+0"
  }
 },
 "nbformat": 4,
 "nbformat_minor": 2
}
