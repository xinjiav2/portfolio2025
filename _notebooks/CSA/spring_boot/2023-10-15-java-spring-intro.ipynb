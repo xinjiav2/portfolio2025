{
 "cells": [
  {
   "cell_type": "raw",
   "metadata": {
    "vscode": {
     "languageId": "raw"
    }
   },
   "source": [
    "---\n",
    "layout: post \n",
    "title: Introduction Java Spring Framework\n",
    "description: Introduction to API, JPA, ORM, POJOs in Java Spring Framework\n",
    "categories: [Spring]\n",
    "permalink: /java/spring/intro/\n",
    "menu: nav/java_spring.html\n",
    "---"
   ]
  },
  {
   "cell_type": "markdown",
   "metadata": {},
   "source": [
    "## Introduction\n",
    "\n",
    "APIs build programmatic interactions between applications, people, and businesses.  They are designed around sharing data and executing pre-defined processes.  Spring Boot and Spring Data JPA reduce time for development; developers implement POJOs and JPA access layers; Spring hanldes the rest.  \n",
    "\n",
    "An API allows you to request and receive data from the system. A POJO is the foundation for making an Entity that is turned into a Database.  The Java Persistent API (JPA) allows the database to be queried and updated.    \n",
    "\n",
    "The subject of this article is Jokes, likes (haha)  and dislike (boohoo).   User clicks haha or boohoo and updates counters.\n",
    "\n",
    "[Runtime](https://nighthawkcoders.github.io/portfolio_2025/java/spring/jokes)\n",
    "\n",
    "[Back-end Java Spring Files](https://github.com/nighthawkcoders/spring_2025/tree/master/src/main/java/com/nighthawk/spring_portfolio/mvc/jokes)\n",
    "- Jokes.java - contains POJO which defines Model\n",
    "- JokesApiControler.java - contains APIs and Control, which respond to View actions\n",
    "- JokesJpaRepository.java - contains CRUD and data acess queries\n",
    "\n",
    "### Visual Overview\n",
    "\n",
    "```\n",
    " Spring API and ORM\n",
    "  ------------------\n",
    "    +-------------------+\n",
    "    |   API Controller  |-- Developer defines Request Mappings\n",
    "    |     Request       |----- @PathVariable are received\n",
    "    |     JPA call      |----- @Autowired method is called\n",
    "    |     Respone       |----- ResponseEntity<> wraps data from JPA (ie JSON)\n",
    "    +-------------------+\n",
    "       |\n",
    "       | JPA Methods\n",
    "       v\n",
    "    +-----------------+\n",
    "    |  JPA            |-- Developer defines Database Queries\n",
    "    |   Java          | ----- a.) JPA built in (long names)\n",
    "    |   Persistent    | ----- b.) SQL native queries\n",
    "    |   API           | \n",
    "    +-----------------+\n",
    "       |\n",
    "       | Database Access Methods\n",
    "       v\n",
    "    +-----------------+\n",
    "    |  ORM            | -- Spring layers supporting Database Framework\n",
    "    |   Object        | ----- Behind the scene managing tables\n",
    "    |   Relational    |  ----- Behind the scene database construction\n",
    "    |   Model         |\n",
    "    +-----------------+\n",
    "       |\n",
    "       | Entities Definition\n",
    "       v\n",
    "    +-----------------+\n",
    "    |  Database/POJOs | -- Developer defines each Class\n",
    "    |    Plain        | ----- Define attributes in Table\n",
    "    |    Old Java     | ----- Define relationships in Database\n",
    "    |    Objects      | \n",
    "    +-----------------+\n",
    "```"
   ]
  }
 ],
 "metadata": {
  "language_info": {
   "name": "python"
  }
 },
 "nbformat": 4,
 "nbformat_minor": 2
}
