{
 "cells": [
  {
   "cell_type": "raw",
   "metadata": {
    "vscode": {
     "languageId": "raw"
    }
   },
   "source": [
    "---\n",
    "layout: post \n",
    "title: Java Spring Hacks \n",
    "description: A POJO is basis of the Spring framework, but also it is basis of Java and the AP CSA exam. \n",
    "permalink: /java/spring/hacks/\n",
    "categories: [Java Spring]\n",
    "menu: nav/java_spring.html\n",
    "---"
   ]
  },
  {
   "cell_type": "markdown",
   "metadata": {},
   "source": [
    "## Hacks\n",
    "Start work on your own personal blog, using this series as a template.\n",
    "\n",
    "### AP required.  \n",
    "Review the lambok annotations (https://projectlombok.org/features/). \n",
    "\n",
    "- Write a POJO and show code generated code by lambok.  \n",
    "  - Name all the Object methods\n",
    "  - Make a blog of this generated code in context of requirements for the AP exam at the end of Unit 9.\n",
    "\n",
    "### PBL foundational.  \n",
    "\n",
    "Establish a POJO, JPA and APIs in your own repository.  You can begin with Jokes and modify to your needs.  \n",
    "\n",
    "This will be beginnings of and **ideation phase** for your Trimester 1 N@tM final project.  Everyone at the table should have an idea and create a full stack project.  \n",
    "\n",
    "- Integration of your ideation into common repository will be a different phase.  This is personal ideation.\n",
    "- Consider this as your final individual PBL test and ideation project.  We expect to be completely finished with this by Oct 21st.\n",
    "- Planning at table for collaboritive ideation is highly advised.  This project need to be in your team N@tM final.\n",
    "- Scrum Master coordinating with teacher on building something useful for future Teaching is expected in N@tM final.   If your project(s) gets pulled into nighthawk coders, you will get an 'A\"!\n",
    "\n",
    "#### Make a new POJO\n",
    "**Alert**, delete /volumes/sqlite.db each time you change schema.  Schema changes are not ugraded automatically as you simply rebuild.\n",
    "\n",
    "  - Come up with a simple idea to record data updates from User in SQL table\n",
    "  - Validate creation of SQL table with SQLite Extension, aka SQLite3 Editor\n",
    "  - Add to blog.\n",
    "\n",
    "### Make a new API endpoint\n",
    "An endpoint will require POJO, JPA, and REST controller.  [Test your API using Postman](https://www.geeksforgeeks.org/basics-of-api-testing-using-postman/).  You should be able to test with localhost:8085 using the spring project.\n",
    "\n",
    "  - Build @RESTController\n",
    "  - Build custom methods extending JPARepository\n",
    "  - Save your Postman queries\n",
    "  - Have queries for GET and PUT operations\n",
    "  - Add to blog.\n",
    "\n",
    "### Make a new Frontend page\n",
    "The frontend page should be simple to test and should have minimal typing.  Just clicking.\n",
    "\n",
    "  - Use definitions like config.js to allow easy migration from frontend to backend\n",
    "  - Be sure to have both Read and Put operations\n",
    "  - Add to blog.\n",
    "\n",
    "\n",
    "### Resources, recommended by ChatGPT\n",
    "1. [Spring Framework Documentation](https://spring.io/projects/spring-framework)\n",
    "  The official Spring Framework documentation is entirely free to access. It provides comprehensive information on various Spring modules, including Spring Boot and Spring Data JPA.\n",
    "\n",
    "2. [Baeldung Spring Boot Tutorials](https://www.baeldung.com/spring-boot)\n",
    "  Baeldung: Baeldung offers a mix of free and paid content. While some articles may require a subscription, many tutorials and guides on Spring Boot and Spring Data JPA are available for free.\n",
    "\n",
    "3. [Baeldung Spring Boot Tutorials](https://www.baeldung.com/spring-boot)\n",
    "  Spring Guides: The Spring Guides are completely free and provide step-by-step tutorials on various aspects of Spring development, including Spring Boot and Spring Data JPA.\n",
    "\n",
    "4. [Spring Guides](https://spring.io/guides)\n",
    "Java Brains YouTube Channel: The Java Brains YouTube channel offers free video tutorials on Java and Spring frameworks, including dedicated playlists for Spring Boot and Spring Data JPA.\n",
    "\n",
    "5 Java Brains YouTube Channe\n",
    "  Spring Data JPA Reference Documentation: The Spring Data JPA reference documentation is freely available online and provides in-depth insights into Spring Data JPA features.\n",
    "  - [Java Brains Spring Boot Playlist](https://www.youtube.com/playlist?list=PLqq-6Pq4lTTZSKAFG6aCDVDP86Qx4lNas)\n",
    "  - [Java Brains Spring Data JPA Playlist](https://www.youtube.com/playlist?list=PLqq-6Pq4lTTZSKAFG6aCDVDP86Qx4lNas)\n",
    "\n",
    "[Spring Data JPA Reference Documentation](https://docs.spring.io/spring-data/jpa/docs/current/reference/html/#reference)\n",
    "  The Spring Data JPA reference documentation is freely available online and provides in-depth insights into Spring Data JPA features."
   ]
  }
 ],
 "metadata": {
  "language_info": {
   "name": "python"
  }
 },
 "nbformat": 4,
 "nbformat_minor": 2
}
