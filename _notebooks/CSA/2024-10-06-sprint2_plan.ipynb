{
 "cells": [
  {
   "cell_type": "raw",
   "metadata": {
    "vscode": {
     "languageId": "raw"
    }
   },
   "source": [
    "---\n",
    "layout: post\n",
    "title: Sprint 2 - CSA Objectives \n",
    "description:  Student Teach and Software Development Objectives for Sprint 2\n",
    "type: issues \n",
    "courses: { csa: {week: 3} }\n",
    "comments: true\n",
    "---"
   ]
  },
  {
   "cell_type": "markdown",
   "metadata": {},
   "source": [
    "## Issues\n",
    "Teacher and Peer evaluation are critical to our success and improvements.   Be sure to support meeting objectives by providing feedback and acting on feedback received."
   ]
  },
  {
   "cell_type": "markdown",
   "metadata": {},
   "source": [
    "## Student Teaching - Part 1 Fundamentals\n",
    "\n",
    "Students will engage in lesson preparation, teaching, and grading. This activity is often called \"Team Teach\". The process and purpose are as follows:\n",
    "\n",
    "1. Learn Units #1-#10 from the College Board.\n",
    "2. Build a lesson using Java for each of the topics provided by the teacher's starters.\n",
    "3. The lesson should include a Tech Talk portion, popcorn hacks, and homework hacks. The lesson should NOT have more than 5 minutes of talking before engaging students in an activity (e.g., popcorn hacks).\n",
    "4. Be prepared to grade homework. This means having a plan for homework and a plan for grading the homework. You will grade on a \"1-point\" scale. Weight popcorn hacks and homework hacks in the grading.\n",
    "5. Lesson time will be between 20 and 30 minutes. Homework time should be about the same as lesson time."
   ]
  },
  {
   "cell_type": "markdown",
   "metadata": {},
   "source": [
    "### Lesson Building \n",
    "\n",
    "#### Grading Guideline\n",
    "- 55% is minimum per item\n",
    "- 75% is mostly done\n",
    "- 85% is complete\n",
    "- 90% is maximum perfection\n",
    "\n",
    "| **Assignment**             | **Points**    | **Grade** | **Evidence** |\n",
    "|----------------------------|---------------|-----------|--------------|\n",
    "| Pull Request (Integration) | 2             |           |              |\n",
    "| Relevancy Checklist (Peer) | 2             |           |              |\n",
    "| Lesson (Group)             | 1             |           |              |\n",
    "| Homework, Popcorn Hacks    | 1 x 8         |           |              |\n",
    "| Individual Contribution    | 1             |           |              |\n",
    "| Personal Notebooks / Blogs | 1             |           |              |\n",
    "| **Total**                  | 12            |           |              |\n",
    "\n",
    "\n",
    "| **Skill**                  | **Points**    | **Grade** | **Evidence** |\n",
    "|----------------------------|---------------|-----------|--------------|\n",
    "| Work Habits (Analytics)    |   1           |           |              |\n",
    "| Team Planning (Issue)      |   1           |           |              |\n",
    "| Presentation Memories      |   1           |           |              |\n",
    "| Grading and Feedback       |   1           |           |              |\n",
    "| Beyond Perfunctory         |   1           |           |              | \n",
    "| **Total**                  |   5           |           |              |\n",
    "\n",
    "#### Raw Form\n",
    "\n",
    "```text\n",
    "| **Assignment**             | **Points**    | **Grade** | **Evidence** |\n",
    "|----------------------------|---------------|-----------|--------------|\n",
    "| Pull Request (Integration) | 2             |           |              |\n",
    "| Relevancy Checklist (Peer) | 2             |           |              |\n",
    "| Lesson (Group)             | 1             |           |              |\n",
    "| Homework, Popcorn Hacks    | 1 x 8         |           |              |\n",
    "| Individual Contribution    | 1             |           |              |\n",
    "| Personal Notebooks / Blogs | 1             |           |              |\n",
    "| Total                      | 12            |           |              |\n",
    "\n",
    "\n",
    "| **Skill**                  | **Points**    | **Grade** | **Evidence** |\n",
    "|----------------------------|---------------|-----------|--------------|\n",
    "| Work Habits (Analytics)    |   1           |           |              |\n",
    "| Team Planning (Issue)      |   1           |           |              |\n",
    "| Presentation Memories      |   1           |           |              |\n",
    "| Grading and Feedback       |   1           |           |              |\n",
    "| Beyond Perfunctory         |   1           |           |              | \n",
    "| Total                      |   5           |           |              |\n",
    "```"
   ]
  },
  {
   "cell_type": "markdown",
   "metadata": {},
   "source": [
    "### Lesson Review - Topic Relevancy (Stdent Review)\n",
    "\n",
    "Peer review checklist.  Guideance\n",
    "\n",
    "- Scurm Master should coordinate.\n",
    "\n",
    "- Peer grading should be coordinated in Slack, if there are any issues.\n",
    "\n",
    "- Lesson providers will receive reviews from a peers in another class, doing the same topic, by enabling Utterances on your topic(s).\n",
    "\n",
    "- Peer graders will grade on Utterances.  Be sure two people provide a review to every section of lesson (ie 2 reviews on intro, 2 reviews on .1, 2 reviews on .2, ...).  \n",
    "\n",
    "- Assingments are to review corresponding topics in other classes where possible.  Otherwise review topic that does not match one taught in classroom.\n",
    "\n",
    "Note 1. **Student reviewers will be evaluated on how and if you perform a review** \n",
    "Note 2. **Student lesson providers will be evaluated if they improve lesson based off of feedback.  Remebmer/document your changes**\n",
    "\n",
    "\n",
    "#### Relevancy Checklist\n",
    "\n",
    "| **Assignment**          | **Weightage** | **Grade** | **Comments** |\n",
    "|-------------------------|---------------|-----------|--------------|\n",
    "| College Board Coverage  | 20            | TBD       | TBD          |\n",
    "| Java Examples           | 30            | TBD       | TBD          |\n",
    "| Popcorn Hack Usage      | 10            | TBD       | TBD          |\n",
    "| Homework                | 10            | TBD       | TBD          |\n",
    "| Grading Plan            | 10            | TBD       | TBD          |\n",
    "| Original an Creative    | 10            | TBD       | TBD          |\n",
    "| **Total**               | **90**        |           |              |\n",
    "\n",
    "#### Raw Form\n",
    "\n",
    "```text\n",
    "| **Assignment**          | **Weightage** | **Grade** | **Comments** |\n",
    "|-------------------------|---------------|-----------|--------------|\n",
    "| College Board Coverage  | 20            | TBD       | TBD          |\n",
    "| Java Examples           | 30            | TBD       | TBD          |\n",
    "| Popcorn Hack Usage      | 10            | TBD       | TBD          |\n",
    "| Homework                | 10            | TBD       | TBD          |\n",
    "| Grading Plan            | 10            | TBD       | TBD          |\n",
    "| Original an Creative    | 10            | TBD       | TBD          |\n",
    "| Total                  | **90**        |           |              |\n",
    "```"
   ]
  }
 ],
 "metadata": {
  "language_info": {
   "name": "python"
  }
 },
 "nbformat": 4,
 "nbformat_minor": 2
}
