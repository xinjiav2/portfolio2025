{
 "cells": [
  {
   "cell_type": "raw",
   "metadata": {
    "vscode": {
     "languageId": "raw"
    }
   },
   "source": [
    "---\n",
    "layout: post\n",
    "title: Sprint 4 - CSA Mini-Project Ideation and Objectives \n",
    "description:  Software Integration and Development using ideas from College Board's FRQs and more.\n",
    "type: issues \n",
    "courses: { csa: {week: 13} }\n",
    "comments: true\n",
    "permalink: /csa/sprint4/objectives\n",
    "---"
   ]
  },
  {
   "cell_type": "markdown",
   "metadata": {},
   "source": [
    "## Sprint Objects\n",
    "\n",
    "1. **Integrate to portfolio_2025**.  Pure integration should only be a portion of your teams work.  Integration is significantly important to Teacher and must be coordinated according to Teachers needs.  There will only be one person with rights to to pull code into portfolio_2025 per certain populace 8 - 12 people.   This work will require coordination accross periods as a result of people shifting in the trimester.\n",
    "\n",
    "2. **FRQs and extending ideas for portfolo_2025**.  Using ideas already developed by your team, CB FRQs. and Teacher needs the students will be directed to enhance Teachers code.  You should look through FRQs and FRQ types (Methods and Control Structures, Classes, Arrays and ArrayLists, 2D arrays).  Students should solve some of these FRQs and think about how they could integrate into portfolio_2025 project ideas.  Ideastion is built on doing and looking at former ideas:\n",
    "\n",
    "- Thymeleaf MVC labs menu: https://thymeleaf.nighthawkcodingsociety.com/mvc/fibonacci\n",
    "- Java Hacks folder: https://github.com/nighthawkcoders/spring_2025/tree/master/src/main/java/com/nighthawk/spring_portfolio/hacks\n",
    "- Jinja 2D project: https://jinja.nighthawkcodingsociety.com/starter/rgb/\n",
    "\n",
    "3. **Teaching Elements** There needs to be teaching involved in all the things we do.   As you develop ideas you should think about items you would like to teach.  We need teaching for Unit 10, the four FRQ types, and depth in Classes, Polymorphism, sorting/collectables, etc.   In Sprint 4. last year, we had topics and lessons taught here: https://nighthawkcoders.github.io/teacher_portfolio/navigation/csa.  I am looking for better materials and processes for my class next year, as well as you learning topics this year."
   ]
  },
  {
   "cell_type": "markdown",
   "metadata": {},
   "source": [
    "## Planning\n",
    "\n",
    "A priority will be placed in planning for this Sprint!  You need approval from Teacher on plans.\n",
    "\n",
    "1. **Individual Issues**:\n",
    "   - It is required to build an issue and/or blog that describes your personal journey in all sprints.\n",
    "\n",
    "2. **Team Issue(s)**:\n",
    "   - To collaborate effectively, there should be issue(s) assigned to you from the team.\n",
    "   - These issues should show progression from ideation, development, integration (pull request), and how you validated tests.\n",
    "\n",
    "3. **Preparation**:\n",
    "   - It is best to go through checklists, at least weekly. Use these as guidelines and adapt as required.\n",
    "   - The teacher will want you to summarize work accommplished individually and as team.\n",
    "   - A significant part of your success will depend on how you present and self-evaluate.  This time self evaluation should be centered on Unit #1 to #10 and all FRQ types."
   ]
  }
 ],
 "metadata": {
  "language_info": {
   "name": "python"
  }
 },
 "nbformat": 4,
 "nbformat_minor": 2
}
