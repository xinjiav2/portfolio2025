{
 "cells": [
  {
   "cell_type": "raw",
   "metadata": {
    "vscode": {
     "languageId": "raw"
    }
   },
   "source": [
    "---\n",
    "layout: post\n",
    "toc: true\n",
    "title: Unit 8 - 2D Arrays Declaring and Initializing\n",
    "description: 2D Arrays Lesson\n",
    "authors: Anusha Khobare\n",
    "categories: [AP CSA]\n",
    "type: ccc\n",
    "permalink: /unit8lesson-p1-declare-initialize\n",
    "menu: nav/CSA_Units/csa_unit8_p1.html\n",
    "---"
   ]
  },
  {
   "cell_type": "markdown",
   "metadata": {},
   "source": [
    "## How to declare/initialize 2D arrays"
   ]
  },
  {
   "cell_type": "raw",
   "metadata": {
    "vscode": {
     "languageId": "raw"
    }
   },
   "source": [
    "// Boiler Plate Code\n",
    "public class Main {\n",
    "    public static void main(String[] args) {\n",
    "\n",
    "        */ (Intialize Array Here) */\n",
    "\n",
    "        // Display Array Code below\n",
    "        for(int i = 0; i < myArray.length; i++) {\n",
    "            for (int j = 0; j < myArray[i].length; j++) {\n",
    "                System.out.print(myArray[i][j] + \" \");\n",
    "            }\n",
    "            System.out.println();\n",
    "        }\n",
    "    }\n",
    "}\n",
    "\n",
    "Main.main(null)"
   ]
  },
  {
   "cell_type": "markdown",
   "metadata": {},
   "source": [
    "1) All in one\n",
    "~~~\n",
    "int[][] matrix = {\n",
    "    {1, 2, 3},\n",
    "    {4, 5, 6},\n",
    "    {7, 8, 9}\n",
    "};\n",
    "~~~"
   ]
  },
  {
   "cell_type": "markdown",
   "metadata": {},
   "source": [
    "2) Empty array and manual input with indexes\n",
    "~~~\n",
    "// Declare a 3x3 empty 2D array\n",
    "int[][] matrix = new int[3][3];\n",
    "\n",
    "// Assign values to the 2D array using indexes\n",
    "matrix[0][0] = 1;\n",
    "matrix[0][1] = 2;\n",
    "matrix[0][2] = 3;\n",
    "matrix[1][0] = 4;\n",
    "matrix[1][1] = 5;\n",
    "matrix[1][2] = 6;\n",
    "matrix[2][0] = 7;\n",
    "matrix[2][1] = 8;\n",
    "matrix[2][2] = 9;\n",
    "~~~"
   ]
  },
  {
   "cell_type": "markdown",
   "metadata": {},
   "source": [
    "3) Nested For-Loop\n",
    "~~~\n",
    "int value = 1; // Start value\n",
    "for (int i = 0; i < matrix.length; i++) {  // Outer loop for rows\n",
    "    for (int j = 0; j < matrix[i].length; j++) {  // Inner loop for columns\n",
    "        matrix[i][j] = value++; // Assign value and increment\n",
    "    }\n",
    "}\n",
    "~~~"
   ]
  },
  {
   "cell_type": "markdown",
   "metadata": {},
   "source": [
    "### Popcorn Hack 1 (Part 1): \n",
    "- **Intialize a 2D array of the people in your group grouped based on pairs with 3 different methods** \n",
    "- ex Array: [[Anusha, Vibha],[Avanthika, Matthew]]"
   ]
  },
  {
   "cell_type": "markdown",
   "metadata": {},
   "source": [
    "## Ragged Arrays\n",
    "**Ragged Arrays** (College Board Standard): \n",
    "- non-rectangular array with different number of coloms in each row\n",
    "- Also called non-rectangular, assymetric, or jagged arrays\n",
    "![image](https://github.com/user-attachments/assets/0124c0ef-91a2-4835-bd31-69db3e4d2c64)\n",
    "~~~\n",
    "// Code to create the Ragged Array itself (intialize with one of 3 methods)\n",
    "\n",
    "int[][] raggedArray = new int[3][];  // Outer array with 3 rows\n",
    "\n",
    "// Assign each row with different lengths\n",
    "raggedArray[0] = new int[2];  // 1st row has 2 columns\n",
    "raggedArray[1] = new int[4];  // 2nd row has 4 columns\n",
    "raggedArray[2] = new int[3];  // 3rd row has 3 columns\n",
    "~~~\n",
    "### Popcorn Hack #2:\n",
    "Output a number keypad (numbers 0-9)\n",
    "- Create a ragged array (for each row of the keypad)\n",
    "- Populate array with nested for loop\n",
    "- Just use the numbers (0-9) (no special symbols for the keypad)\n",
    "![Keypad for Reference](https://github.com/user-attachments/assets/ffdaf81a-cb8d-4c89-957a-e01d4bca2f6a)\n",
    "\n",
    "  "
   ]
  }
 ],
 "metadata": {
  "kernelspec": {
   "display_name": "Java",
   "language": "java",
   "name": "java"
  },
  "language_info": {
   "codemirror_mode": "java",
   "file_extension": ".jshell",
   "mimetype": "text/x-java-source",
   "name": "Java",
   "pygments_lexer": "java",
   "version": "17.0.12+7-Ubuntu-1ubuntu222.04"
  },
  "orig_nbformat": 4
 },
 "nbformat": 4,
 "nbformat_minor": 2
}
