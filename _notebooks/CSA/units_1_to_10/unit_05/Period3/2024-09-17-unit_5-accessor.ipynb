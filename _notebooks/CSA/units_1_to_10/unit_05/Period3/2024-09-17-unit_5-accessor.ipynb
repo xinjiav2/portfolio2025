{
 "cells": [
  {
   "cell_type": "raw",
   "metadata": {
    "vscode": {
     "languageId": "raw"
    }
   },
   "source": [
    "---\n",
    "layout: post\n",
    "title: Accessor Methods\n",
    "description: Team Teach\n",
    "toc: True\n",
    "permalink: /csa/unit5/5.4/\n",
    "menu: nav/CSA_Units/csa_unit5_p3.html\n",
    "\n",
    "---"
   ]
  },
  {
   "cell_type": "markdown",
   "metadata": {},
   "source": [
    "<img src=\"https://github.com/user-attachments/assets/a3b941af-c2cd-403f-8a56-c23908834d99\" width=\"500px\" height=\"auto\">\n"
   ]
  },
  {
   "cell_type": "markdown",
   "metadata": {},
   "source": [
    "## What is an Accessory Method?\n",
    "\n",
    "An accessor method, also known as getter methods allows other objects to obtain the value of instance variables or **static** variables.\n",
    "\n",
    "## Purpose of Accessor Methods\n",
    "- Allows safe access to instance variables\n",
    "- Accessor Methods keep data access private and secure\n",
    "- If you need to access instance variables form a different class, accessor methods are necessary"
   ]
  },
  {
   "cell_type": "markdown",
   "metadata": {},
   "source": [
    "## Lets Make Our Own Accessor Methods"
   ]
  },
  {
   "cell_type": "code",
   "execution_count": 1,
   "metadata": {},
   "outputs": [
    {
     "name": "stdout",
     "output_type": "stream",
     "text": [
      "Kevin\n",
      "4.1\n",
      "Sprout-Cut\n",
      "2\n"
     ]
    }
   ],
   "source": [
    "public class Minion\n",
    "{\n",
    "    // Start by defining instance variables that you'll want to access later via the accessor methods\n",
    "    private double height;\n",
    "    private String name;\n",
    "    private String hair;\n",
    "    private int eyes;\n",
    "\n",
    "    // Default Constructor\n",
    "    //String n, int c\n",
    "    public Minion()\n",
    "    {\n",
    "        height = 3.7;\n",
    "        name = \"Bob\";\n",
    "        hair = \"None\";\n",
    "        eyes = 2;\n",
    "    }\n",
    "\n",
    "    // Overloaded Constructor\n",
    "    public Minion(double h, String n, String hr, int e)\n",
    "    {\n",
    "        height = h;\n",
    "        name = n;\n",
    "        hair = hr;\n",
    "        eyes = e;\n",
    "    }\n",
    "    // Accessor Methods!\n",
    "    public double getHeight()\n",
    "    {\n",
    "        return height;\n",
    "    }\n",
    "    public String getName()\n",
    "    {\n",
    "        return name;\n",
    "    }\n",
    "    public String getHair()\n",
    "    {\n",
    "        return hair;\n",
    "    }\n",
    "    public int getEyes()\n",
    "    {\n",
    "        return eyes;\n",
    "    }\n",
    "}\n",
    "\n",
    "// Create minion object Kevin\n",
    "Minion kevin = new Minion(4.10,\"Kevin\",\"Sprout-Cut\",2);\n",
    "\n",
    "// Print Kevin's properties\n",
    "System.out.println(kevin.getName());\n",
    "System.out.println(kevin.getHeight());\n",
    "System.out.println(kevin.getHair());\n",
    "System.out.println(kevin.getEyes());"
   ]
  },
  {
   "cell_type": "markdown",
   "metadata": {},
   "source": [
    "## Popcorn Hack\n",
    "Gru is preparing for his big mission to steal the moon, and he needs to assign his minions various tasks based on their skills. Create a new getter method called ``skillLevel`` and print out the Minion's ``skillLevel``Minion class with the attributes ``name, task, and skillLevel.`` Implement some getter accessor methods, and then create a ``Minion`` object to retrieve its values."
   ]
  },
  {
   "cell_type": "code",
   "execution_count": 3,
   "metadata": {},
   "outputs": [
    {
     "name": "stdout",
     "output_type": "stream",
     "text": [
      "Stuart\n",
      "Developing propulsion system\n"
     ]
    }
   ],
   "source": [
    "public class Minion {\n",
    "    private String name;\n",
    "    private String task;\n",
    "    \n",
    "    // Create  skillLevel instance variable\n",
    "\n",
    "    public Minion(String n, String t)\n",
    "    {\n",
    "        name = n;\n",
    "        task = t;\n",
    "    }\n",
    "    // Getter Methods\n",
    "    public String getName()\n",
    "    {\n",
    "        return name;\n",
    "    }\n",
    "    public String getTask()\n",
    "    {\n",
    "        return task;\n",
    "    }\n",
    "\n",
    "    // Add getter method here\n",
    "}\n",
    "Minion Stuart = new Minion(\"Stuart\", \"Developing propulsion system\");\n",
    "System.out.println(Stuart.getName());\n",
    "System.out.println(Stuart.getTask());\n",
    "// Add print statement to get skillLevel\n",
    "\n"
   ]
  },
  {
   "cell_type": "markdown",
   "metadata": {},
   "source": [
    "## Things to keep in mind when creating your Accessor Methods\n",
    "- The accessor method must be public so that you can retrieve your instance variables outside of the class\n",
    "- The return Type must match the type of the instance variable accessed\n",
    "- The naming convention is often getNameOfVariable\n",
    "- There should be **no** parameters in your getter methods"
   ]
  },
  {
   "cell_type": "markdown",
   "metadata": {},
   "source": [
    "![image](https://github.com/user-attachments/assets/17c57fb1-3572-4e6d-b695-914285cc867b)\n"
   ]
  }
 ],
 "metadata": {
  "kernelspec": {
   "display_name": "Java",
   "language": "java",
   "name": "java"
  },
  "language_info": {
   "codemirror_mode": "java",
   "file_extension": ".jshell",
   "mimetype": "text/x-java-source",
   "name": "java",
   "pygments_lexer": "java",
   "version": "11.0.24+8-post-Ubuntu-1ubuntu322.04"
  }
 },
 "nbformat": 4,
 "nbformat_minor": 2
}
