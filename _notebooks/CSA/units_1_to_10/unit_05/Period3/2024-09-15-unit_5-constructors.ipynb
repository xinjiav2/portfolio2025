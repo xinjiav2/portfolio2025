{
 "cells": [
  {
   "cell_type": "raw",
   "metadata": {
    "vscode": {
     "languageId": "raw"
    }
   },
   "source": [
    "---\n",
    "layout: post\n",
    "title: Constructors\n",
    "description: Unit 5 Classes and Objects - Constructors\n",
    "toc: True\n",
    "permalink: /csa/unit5/5.2/\n",
    "menu: nav/CSA_Units/csa_unit5_p3.html\n",
    "---"
   ]
  },
  {
   "cell_type": "markdown",
   "metadata": {},
   "source": [
    "<img src=\"https://github.com/user-attachments/assets/c53b4b5d-d58c-4e06-b6d1-09df8b7ee78a\" width=\"500px\" height=\"auto\">"
   ]
  },
  {
   "cell_type": "markdown",
   "metadata": {},
   "source": [
    "## Definition\n",
    "\n",
    "Constructors are like methods but are called as soon as an object of a class is made. They have the same name as the class and have no return type."
   ]
  },
  {
   "cell_type": "code",
   "execution_count": null,
   "metadata": {},
   "outputs": [],
   "source": [
    "public class Minion {\n",
    "    Minion() {\n",
    "        // constructor body\n",
    "    }\n",
    "}"
   ]
  },
  {
   "cell_type": "markdown",
   "metadata": {},
   "source": [
    "## Cool example 🥶"
   ]
  },
  {
   "cell_type": "code",
   "execution_count": 2,
   "metadata": {},
   "outputs": [
    {
     "name": "stdout",
     "output_type": "stream",
     "text": [
      "Name is: Bob\n"
     ]
    }
   ],
   "source": [
    "class Minion\n",
    "{\n",
    "    // our name variable\n",
    "    String name;\n",
    "\n",
    "    // constructor\n",
    "    Minion()\n",
    "    {\n",
    "        name = \"Bob\"; // set the name to something\n",
    "    }\n",
    "}\n",
    "// Create minion object\n",
    "Minion myMinion = new Minion();\n",
    "System.out.println(\"Name is: \" + myMinion.name);"
   ]
  },
  {
   "cell_type": "markdown",
   "metadata": {},
   "source": [
    "### Your turn (yes this is a popcorn hack)\n",
    "\n",
    "- Make your own class with an integer variable\n",
    "- Make a constructor for that\n",
    "- Create an object and print the variable"
   ]
  },
  {
   "cell_type": "markdown",
   "metadata": {},
   "source": [
    "## Constructor types (wait, theres more???)"
   ]
  },
  {
   "cell_type": "markdown",
   "metadata": {},
   "source": [
    "### No-Arg Constructors\n",
    "\n",
    "A constructor with no parameters (arguments). Basically the one I just showed.\n",
    "\n",
    "```java\n",
    "Minion(/* there are no paremeters here*/) {\n",
    "    name = \"Bob\";\n",
    "}\n",
    "```\n",
    "\n",
    "You can have a private and public version."
   ]
  },
  {
   "cell_type": "code",
   "execution_count": 6,
   "metadata": {},
   "outputs": [],
   "source": [
    "// private no-arg constructor\n",
    "\n",
    "class Minion\n",
    "{\n",
    "    // our name variable\n",
    "    String name;\n",
    "\n",
    "    // constructor\n",
    "    private Minion() {\n",
    "        name = \"Bob\"; // set the name to something\n",
    "    }\n",
    "\n",
    "    public static void main(String[] args) {\n",
    "        Minion myMinion = new Minion();\n",
    "    }\n",
    "}\n",
    "\n",
    "// you can't make the object out of the class like below:\n",
    "// you will get an error\n",
    "\n",
    "// Minion myMinion = new Minion();"
   ]
  },
  {
   "cell_type": "code",
   "execution_count": 7,
   "metadata": {},
   "outputs": [],
   "source": [
    "// public no-arg constructor\n",
    "\n",
    "class Minion\n",
    "{\n",
    "    // our name variable\n",
    "    String name;\n",
    "\n",
    "    // constructor\n",
    "    public Minion() {\n",
    "        name = \"Bob\"; // set the name to something\n",
    "    }\n",
    "}\n",
    "\n",
    "// i can run this outside of the class now\n",
    "Minion myMinion = new Minion();"
   ]
  },
  {
   "cell_type": "markdown",
   "metadata": {},
   "source": [
    "### Paremeterized Constructors\n",
    "\n",
    "A constructor WITH parameters (arguments).\n",
    "\n",
    "```java\n",
    "Minion(String n) {\n",
    "    name = n;\n",
    "}\n",
    "```\n",
    "\n",
    "That's cool, but why use this???\n",
    "\n",
    "Well, what if I don't want the name to be \"Bob\"? What if I want it to be named \"mitochondria\"? That's what a parameterized constructor helps with!"
   ]
  },
  {
   "cell_type": "code",
   "execution_count": 9,
   "metadata": {},
   "outputs": [
    {
     "name": "stdout",
     "output_type": "stream",
     "text": [
      "Name is: mitochondria\n",
      "Name is: Democratic Republic of Congo\n"
     ]
    }
   ],
   "source": [
    "class Minion\n",
    "{\n",
    "    // our name variable\n",
    "    String name;\n",
    "\n",
    "    // constructor\n",
    "    Minion(String n) {\n",
    "        name = n; // set the name to something\n",
    "    }\n",
    "}\n",
    "\n",
    "// demo:\n",
    "Minion myMinion = new Minion(\"mitochondria\");\n",
    "System.out.println(\"Name is: \" + myMinion.name);\n",
    "\n",
    "Minion myOtherMinion = new Minion(\"Democratic Republic of Congo\");\n",
    "System.out.println(\"Name is: \" + myOtherMinion.name);"
   ]
  },
  {
   "cell_type": "markdown",
   "metadata": {},
   "source": [
    "### Default Constructors\n",
    "\n",
    "**You can run but you can't hide (from constructors).**\n",
    "\n",
    "If you don't specify a constructor, Java will automatically make a no-arg constructor when you execute the constructor. You can think of it like a hidden constructor."
   ]
  },
  {
   "cell_type": "code",
   "execution_count": 11,
   "metadata": {},
   "outputs": [
    {
     "name": "stdout",
     "output_type": "stream",
     "text": [
      "Name is: null\n"
     ]
    }
   ],
   "source": [
    "class Minion\n",
    "{\n",
    "    // our name variable\n",
    "    String name;\n",
    "\n",
    "}\n",
    "\n",
    "Minion myMinion = new Minion();\n",
    "System.out.println(\"Name is: \" + myMinion.name);\n",
    "\n",
    "// output should be null since we didn't give a value"
   ]
  },
  {
   "cell_type": "markdown",
   "metadata": {},
   "source": [
    "### Your turn (aren't you having fun!!!)\n",
    "\n",
    "Using the code you wrote before (you did do the previous popcorn hack... right?), complete the following\n",
    "- Make a no-arg constructor\n",
    "- Make a parameterized constructor\n",
    "- \"Make\" a default constructor\n",
    "\n",
    "Please seperate all of those three into different code cells.\n",
    "\n",
    "Also, you don't actually have to use your previous code. I just thought it would be a good template."
   ]
  },
  {
   "cell_type": "markdown",
   "metadata": {},
   "source": [
    "## Notes on contructors\n",
    "- Constructors are always made by default\n",
    "- To make a constructor:\n",
    "  - Constructor name should be same as class name\n",
    "  - Constructor has no return type\n",
    "- Constructor types:\n",
    "  -  No-Arg Constructor - a constructor that does not accept any arguments\n",
    "  -  Parameterized constructor - a constructor that accepts arguments\n",
    "  -  Default Constructor - a constructor that is automatically created by the Java compiler if it is not explicitly defined.\n",
    "-  Constructor cannot be `abstract`, `static`, or `final`\n",
    "-  A constructor can be overloaded (see below)"
   ]
  },
  {
   "cell_type": "code",
   "execution_count": 12,
   "metadata": {},
   "outputs": [
    {
     "name": "stdout",
     "output_type": "stream",
     "text": [
      "Bob\n",
      "Kevin\n"
     ]
    }
   ],
   "source": [
    "// overloaded constructor\n",
    "// (i put this last since it's a bit complicated)\n",
    "\n",
    "class Minion\n",
    "{\n",
    "    String name;\n",
    "\n",
    "    // no-arg constructor\n",
    "    Minion() {\n",
    "        this.name = \"Bob\";\n",
    "    }\n",
    "\n",
    "    // parameterized constructor\n",
    "    // notice how it has the same name as the no-arg\n",
    "    Minion(String n) {\n",
    "        this.name = n;\n",
    "    }\n",
    "\n",
    "    public String getName() {\n",
    "        return name;\n",
    "    }\n",
    "\n",
    "}\n",
    "\n",
    "Minion myMinion = new Minion(); // no parameters\n",
    "Minion myOtherMinion = new Minion(\"Kevin\"); // with parameters\n",
    "\n",
    "System.out.println(myMinion.getName());\n",
    "System.out.println(myOtherMinion.getName());"
   ]
  },
  {
   "cell_type": "markdown",
   "metadata": {},
   "source": [
    "### Your turn\n",
    "\n",
    "- Make a overloaded constructor"
   ]
  }
 ],
 "metadata": {
  "kernelspec": {
   "display_name": "Java",
   "language": "java",
   "name": "java"
  },
  "language_info": {
   "codemirror_mode": "java",
   "file_extension": ".jshell",
   "mimetype": "text/x-java-source",
   "name": "java",
   "pygments_lexer": "java",
   "version": "3.12.6"
  }
 },
 "nbformat": 4,
 "nbformat_minor": 2
}
