{
 "cells": [
  {
   "cell_type": "raw",
   "metadata": {
    "vscode": {
     "languageId": "raw"
    }
   },
   "source": [
    "---\n",
    "layout: post\n",
    "title: Anatomy \n",
    "description: Unit 5 Classes and Objects -  Anatomy\n",
    "toc: True\n",
    "menu: nav/CSA_Units/csa_unit5_p3.html\n",
    "permalink: /csa/unit5/5.1/"
   ]
  },
  {
   "cell_type": "markdown",
   "metadata": {},
   "source": [
    "## Anatomy of a Class\n",
    "\n",
    "what is a class\n",
    "In object-oriented programming (OOP), a class is a blueprint for creating objects, which are the building blocks of a program. A class is a template that defines the variables and methods for a specific type of object.\n",
    "\n",
    "A class is composed of several key components that define its structure, behavior, and interaction with objects. Following are the key components of a class:\n",
    "\n",
    "### Class Declaration\n",
    "This is the starting point of any class. It includes the class keyword, class name, and access modifiers (public, private, etc.). It is a common convention to capitalize the first letter of the class name."
   ]
  },
  {
   "cell_type": "code",
   "execution_count": null,
   "metadata": {
    "vscode": {
     "languageId": "java"
    }
   },
   "outputs": [],
   "source": [
    "public class Minions {\n",
    "    // class body\n",
    "}\n"
   ]
  },
  {
   "cell_type": "markdown",
   "metadata": {},
   "source": [
    "### Instance Variables\n",
    "Instance variables represent the attributes of the class. These variables are declared inside the class but outside any method. Instance variables are normally set as private variable and can be accessed using Accessor and Mutator methods."
   ]
  },
  {
   "cell_type": "code",
   "execution_count": null,
   "metadata": {
    "vscode": {
     "languageId": "java"
    }
   },
   "outputs": [],
   "source": [
    "public class Minions {\n",
    "    private String color;\n",
    "    private int num_eyes;\n",
    "}\n"
   ]
  },
  {
   "cell_type": "markdown",
   "metadata": {},
   "source": [
    "### Constructors\n",
    "A constructor is a special method that is called when an object is instantiated. It typically initializes the object’s fields.\n",
    "\n",
    "1. Default constructor: A constructor with no parameters.\n",
    "1. Overloaded constructor: A constructor that accepts parameters to initialize fields."
   ]
  },
  {
   "cell_type": "code",
   "execution_count": null,
   "metadata": {
    "vscode": {
     "languageId": "java"
    }
   },
   "outputs": [],
   "source": [
    "public class Minions {\n",
    "    private String color;\n",
    "    private int num_eyes;\n",
    "    \n",
    "    // Default constructor\n",
    "    public Minions() {\n",
    "        color = \"\";\n",
    "        num_eyes = 0;   \n",
    "    }\n",
    "\n",
    "    // Overloaded constructor\n",
    "    public Minions(String c, int n) {\n",
    "        color = c;\n",
    "        num_eyes = n;\n",
    "    }\n",
    "}"
   ]
  },
  {
   "cell_type": "markdown",
   "metadata": {},
   "source": [
    "### Methods\n",
    "Methods define the behavior of a class. These are functions that operate on the class’s data (fields) or provide functionality.\n",
    "\n",
    "1. Accessor methods (Getters): Used to retrieve field values.\n",
    "1. Mutator methods (Setters): Used to modify field values."
   ]
  },
  {
   "cell_type": "code",
   "execution_count": null,
   "metadata": {
    "vscode": {
     "languageId": "java"
    }
   },
   "outputs": [],
   "source": [
    "public class Minions {\n",
    "    private String color;\n",
    "    private int num_eyes;\n",
    "    \n",
    "    // Default constructor\n",
    "    public Minions() {\n",
    "        color = \"\";\n",
    "        num_eyes = 0;   \n",
    "    }\n",
    "\n",
    "    // Overloaded constructor\n",
    "    public Minions(String c, int n) {\n",
    "        color = c;\n",
    "        num_eyes = n;\n",
    "    }\n",
    "\n",
    "    //Accessor Methods\n",
    "    public String getColor() {\n",
    "        return color;\n",
    "    }\n",
    "\n",
    "    public int getnumeyes(){\n",
    "        return num_eyes;\n",
    "    }\n",
    "\n",
    "    //Mutator Methods\n",
    "    public void setColor(String c){\n",
    "        color = c;\n",
    "    }\n",
    "\n",
    "    public void setNumeyes(int n){\n",
    "        if(n < 0 || n > 2){\n",
    "            num_eyes = 1; //default value\n",
    "        }\n",
    "        else {\n",
    "            num_eyes = n;\n",
    "        }\n",
    "    }\n",
    "}"
   ]
  },
  {
   "cell_type": "markdown",
   "metadata": {},
   "source": [
    "### Data Encapsulation\n",
    "Encapsulation is achieved by making instance variables private and providing public getter and setter methods to access and update the fields. This ensures that the internal implementation is hidden from the user and protects the object’s state. The setter method can contain validation logic that ensures only valid data is assigned to the field."
   ]
  },
  {
   "cell_type": "markdown",
   "metadata": {},
   "source": [
    "### Popcorn Hack 1.\n",
    "\n",
    "Write a Student class. \n",
    "    - Each student has a name \n",
    "    - Each student has a score (out of 100)\n",
    "    - A student passes if their score is above 70\n",
    "\n",
    "Check which student passes (write a class header, instance variables, constructors, and methods)"
   ]
  },
  {
   "cell_type": "code",
   "execution_count": null,
   "metadata": {
    "vscode": {
     "languageId": "java"
    }
   },
   "outputs": [],
   "source": [
    "public class Student {\n",
    "    private String name;\n",
    "    private int score;\n",
    "    \n",
    "    // Default constructor\n",
    "    public Student() {\n",
    "        name = \"\";\n",
    "        score = 0;   \n",
    "    }\n",
    "\n",
    "    // Overloaded constructor\n",
    "    public Student(String n, int s) {\n",
    "        name = n;\n",
    "        score = s;\n",
    "    }\n",
    "\n",
    "    //Accessor Methods\n",
    "    public String getName() {\n",
    "        return name;\n",
    "    }\n",
    "\n",
    "    public int getScore(){\n",
    "        return score;\n",
    "    }\n",
    "\n",
    "    //Mutator Methods\n",
    "    public void setName(String n){\n",
    "        name = n;\n",
    "    }\n",
    "\n",
    "    public void setScore(int s){\n",
    "        if(s < 0 || s > 100){\n",
    "            score = 0; //default value\n",
    "        }\n",
    "        else {\n",
    "            score = s;\n",
    "        }\n",
    "    }\n",
    "\n",
    "    public boolean pass(){\n",
    "        return (score >= 70);\n",
    "    }\n",
    "}"
   ]
  }
 ],
 "metadata": {
  "language_info": {
   "name": "python"
  },
  "orig_nbformat": 4
 },
 "nbformat": 4,
 "nbformat_minor": 2
}
