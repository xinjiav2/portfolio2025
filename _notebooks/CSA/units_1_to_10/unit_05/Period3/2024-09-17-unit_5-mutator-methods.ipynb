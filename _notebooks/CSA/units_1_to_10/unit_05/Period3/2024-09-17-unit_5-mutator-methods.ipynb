{
 "cells": [
  {
   "cell_type": "raw",
   "metadata": {
    "vscode": {
     "languageId": "raw"
    }
   },
   "source": [
    "---\n",
    "layout: post\n",
    "title: Mutator Methods\n",
    "description: Team Teach\n",
    "toc: True\n",
    "permalink: /csa/unit5/5.5/\n",
    "menu: nav/CSA_Units/csa_unit5_p3.html\n",
    "\n",
    "---"
   ]
  },
  {
   "cell_type": "markdown",
   "metadata": {},
   "source": [
    "<img src=\"https://github.com/user-attachments/assets/c53b4b5d-d58c-4e06-b6d1-09df8b7ee78a\" width=\"500px\" height=\"auto\">"
   ]
  },
  {
   "cell_type": "markdown",
   "metadata": {},
   "source": [
    "## Definition\n",
    "\n",
    "A mutator method modifies an object's state my changing the value of its fields or attributes.\n",
    "\n",
    "Example:\n",
    "\n",
    "Say you have an object called \"Minion.\" If I have a field like \"name,\" a mutator method lets me change its value.\n",
    "\n",
    "## Okay but why???\n",
    "\n",
    "Mutator methods are part of Java's philsophy of \"encapsulation.\"\n",
    "\n",
    "That's nerd-speak for \"keeping things seperate\". It's the idea of enclosing data and methods as a unit. You want to restrict direct access to data, only accessing them through a PROPERLY defined way."
   ]
  },
  {
   "cell_type": "markdown",
   "metadata": {},
   "source": [
    "## Mutator method types:\n",
    "\n",
    "Accessors: can you guess what this does? That's right, it lets you *access* data. These can be called \"get\" methods or \"getters.\""
   ]
  },
  {
   "cell_type": "code",
   "execution_count": null,
   "metadata": {
    "vscode": {
     "languageId": "java"
    }
   },
   "outputs": [],
   "source": [
    "public class Minion\n",
    "{\n",
    "    private String name;\n",
    "\n",
    "    // notice how the getter method starts with \"get\" (pretty creative, I know)\n",
    "    // these methods have to be names like this where you have get<whatever variable>\n",
    "    public String getName() {\n",
    "        // because \"name\" is a string, return type is String\n",
    "        return name;\n",
    "    }\n",
    "}"
   ]
  },
  {
   "cell_type": "markdown",
   "metadata": {},
   "source": [
    "### Your turn!\n",
    "\n",
    "- Make your own class with your own getter method"
   ]
  },
  {
   "cell_type": "markdown",
   "metadata": {},
   "source": [
    "Mutators: wait a minute, a \"mutator\" is a type of mutator method??? Yeah, Java is kinda wacky like that. Try not to think about it much. Anyways... these methods let you *mutate* data (basically change it). They can be called \"set\" methods or \"setters.\""
   ]
  },
  {
   "cell_type": "code",
   "execution_count": null,
   "metadata": {
    "vscode": {
     "languageId": "java"
    }
   },
   "outputs": [],
   "source": [
    "public class Minion\n",
    "{\n",
    "    private String name;\n",
    "\n",
    "    // same naming scheme as a getter but with set instead\n",
    "    public void setName(String n) {\n",
    "        name = n;\n",
    "    }\n",
    "}"
   ]
  },
  {
   "cell_type": "markdown",
   "metadata": {},
   "source": [
    "### Your turn!\n",
    "\n",
    "- Make your own class with your own **setter** method"
   ]
  },
  {
   "cell_type": "markdown",
   "metadata": {},
   "source": [
    "## EXAMPLE TIME WOOOOOOO!!!!!!! 🤓🤓🤓"
   ]
  },
  {
   "cell_type": "code",
   "execution_count": 22,
   "metadata": {
    "vscode": {
     "languageId": "java"
    }
   },
   "outputs": [
    {
     "name": "stdout",
     "output_type": "stream",
     "text": [
      "Kevin\n",
      "Bob\n"
     ]
    }
   ],
   "source": [
    "public class Minion {\n",
    "    // the minion's name\n",
    "    private String name;\n",
    "\n",
    "    // Constructor to set the name\n",
    "    public Minion(String n) {\n",
    "        name = n;\n",
    "    }\n",
    "\n",
    "    // getter\n",
    "    public String getName() {\n",
    "        return name;\n",
    "    }\n",
    "\n",
    "    // setter\n",
    "    public void setName(String n) {\n",
    "        name = n;\n",
    "    }\n",
    "}\n",
    "\n",
    "// Create a Minion object and interact with it\n",
    "Minion myMinion = new Minion(\"Kevin\");\n",
    "\n",
    "System.out.println(myMinion.getName()); // get the name\n",
    "\n",
    "myMinion.setName(\"Bob\");\n",
    "System.out.println(myMinion.getName()); // wow look, the name changed!!\n"
   ]
  },
  {
   "cell_type": "markdown",
   "metadata": {},
   "source": [
    "### Your turn!\n",
    "\n",
    "Make your own class with:\n",
    "- A constructor\n",
    "- A getter\n",
    "- A setter\n",
    "\n",
    "Create an object and interact with it! Make sure you use both your setter and getter methods at least once."
   ]
  },
  {
   "cell_type": "markdown",
   "metadata": {},
   "source": [
    "## When making mutator methods...\n",
    "- A setter method has a `void` return type since it doesn't return anything\n",
    "  - Naming convention: `set<variable name>` like `setName`\n",
    "- A getter method's return type is of what it is returning\n",
    "  - Naming convention: `get<variable name>` like `getName`\n",
    "- Mutator methods in general change variable in a safe way\n",
    "  - They have to be public if you want to access these variable outside of the class (which is the purpose they serve)\n",
    "- Parameter type matches the variable you're modifying\n",
    "  - `public void setName(String n)`\n",
    "  - You are modifying a `String` called `n`\n",
    "  - Parameter type matches!"
   ]
  }
 ],
 "metadata": {
  "kernelspec": {
   "display_name": "Java",
   "language": "java",
   "name": "java"
  },
  "language_info": {
   "codemirror_mode": "java",
   "file_extension": ".jshell",
   "mimetype": "text/x-java-source",
   "name": "Java",
   "pygments_lexer": "java",
   "version": "17.0.12+7-Ubuntu-1ubuntu222.04"
  }
 },
 "nbformat": 4,
 "nbformat_minor": 2
}
