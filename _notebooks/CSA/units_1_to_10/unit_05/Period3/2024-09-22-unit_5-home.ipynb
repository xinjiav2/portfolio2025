{
 "cells": [
  {
   "cell_type": "raw",
   "metadata": {
    "vscode": {
     "languageId": "raw"
    }
   },
   "source": [
    "---\n",
    "layout: post\n",
    "title: Unit 5 Classes P3\n",
    "type: ccc\n",
    "toc: True\n",
    "courses: {'csa': {'week': 6}}\n",
    "permalink: /csa/unit5/\n",
    "menu: nav/CSA_Units/csa_unit5_p3.html\n",
    "---"
   ]
  },
  {
   "cell_type": "markdown",
   "metadata": {},
   "source": [
    "## Unit 5 Homepage\n",
    "In unit 5, you will be learning all about classes and methods in Java.\n",
    "\n",
    "### Learning Objectives\n",
    "- Learn about the different types of methods\n",
    "- Understand how to write classes \n",
    "- Practice your skills in the homework!\n",
    "\n",
    "### Topics\n",
    "- **5.1** Anatomy of a Class\n",
    "- **5.2** Constructors\n",
    "- **5.4** Accessor Methods\n",
    "- **5.5** Mutator Methods\n",
    "- **5.6** Writing Methods\n",
    "- **5.7** Static Variables and Methods\n",
    "- **5.8** Scope and Access\n",
    "- **5.9** this Keyword\n",
    "\n",
    "\n",
    "\n"
   ]
  }
 ],
 "metadata": {
  "language_info": {
   "name": "python"
  }
 },
 "nbformat": 4,
 "nbformat_minor": 2
}
