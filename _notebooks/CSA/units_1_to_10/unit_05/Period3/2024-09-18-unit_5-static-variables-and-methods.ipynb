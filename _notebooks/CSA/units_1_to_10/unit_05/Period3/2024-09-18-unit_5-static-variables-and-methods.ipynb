{
 "cells": [
  {
   "cell_type": "raw",
   "metadata": {
    "vscode": {
     "languageId": "raw"
    }
   },
   "source": [
    "---\n",
    "layout: post\n",
    "toc: true\n",
    "title: Static Variables and Methods\n",
    "Authors: Aashray, Lilian, Matthew, Tara, and Trevor\n",
    "permalink: /csa/unit5/5.7/\n",
    "menu: nav/CSA_Units/csa_unit5_p3.html\n",
    "\n",
    "---"
   ]
  },
  {
   "cell_type": "markdown",
   "metadata": {},
   "source": [
    "<img src=\"https://github.com/user-attachments/assets/526e3a43-a642-4112-8b33-8038b57832cd\">"
   ]
  },
  {
   "cell_type": "markdown",
   "metadata": {},
   "source": [
    "## What are static variables?\n",
    "> Static variables: belong to the class rather than a particular instance. \n",
    "- These types of variables are variables shared across all instances of a class."
   ]
  },
  {
   "cell_type": "code",
   "execution_count": 13,
   "metadata": {
    "vscode": {
     "languageId": "java"
    }
   },
   "outputs": [
    {
     "name": "stdout",
     "output_type": "stream",
     "text": [
      "Total gadgets made: 3\n"
     ]
    }
   ],
   "source": [
    "import java.util.ArrayList;\n",
    "import java.util.List;\n",
    "\n",
    "public class Gadget {\n",
    "    public static int totalGadgets = 0;  // Static variable to track total gadgets made\n",
    "    private String gadgetName;  // Instance variable to store the name of the gadget\n",
    "    //public static List<Gadget> gadgetsList = new ArrayList<>();  // Static list to track all gadgets\n",
    "\n",
    "    // Constructor to set the gadget name and increment totalGadgets\n",
    "    public Gadget(String gadgetName) {\n",
    "        this.gadgetName = gadgetName;\n",
    "        totalGadgets++;  // Increment the total gadgets count\n",
    "        // gadgetsList.add(this);  // Add this gadget to the static list\n",
    "    }\n",
    "\n",
    "}\n",
    "// In the Main class:\n",
    "public class Main {\n",
    "    public static void main(String[] args) {\n",
    "        // Create three gadgets\n",
    "        Gadget g1 = new Gadget(\"Freeze Ray\");\n",
    "        Gadget g2 = new Gadget(\"Banana Blaster\");\n",
    "        Gadget g3 = new Gadget(\"Lipstick Taser\");\n",
    "\n",
    "        // Print the total number of gadgets\n",
    "        System.out.println(\"Total gadgets made: \" + Gadget.totalGadgets);\n",
    "    }\n",
    "}\n",
    "\n",
    "Main.main(null);\n"
   ]
  },
  {
   "cell_type": "markdown",
   "metadata": {},
   "source": [
    "## Cool, but why did I have to use a static variable?\n",
    "- The totalGadgets was made as a static variable because it is tracking data that is shared across **all instances** of the Gadget class.\n",
    "- If totalGadgets was an instance variable, then it would always be 1 since it would only reflect how many gadgets are in the specific instance."
   ]
  },
  {
   "cell_type": "markdown",
   "metadata": {},
   "source": [
    "## Popcorn hacks:\n",
    "- Look at some of the code I've commented out and try experimenting with gadgetsList if you want. Otherwise, just make a static variable that serves a purpose in the program."
   ]
  },
  {
   "cell_type": "markdown",
   "metadata": {},
   "source": [
    "## What are static methods?\n",
    "> Static methods are associated with the class and not any object of the class\n",
    "- Static methods can only directly access other static methods and static variables of the class. \n",
    "- They cannot use the \"this\" keyword because they don't belong to any instance."
   ]
  },
  {
   "cell_type": "markdown",
   "metadata": {},
   "source": [
    "## Here's an example:"
   ]
  },
  {
   "cell_type": "code",
   "execution_count": 14,
   "metadata": {
    "vscode": {
     "languageId": "java"
    }
   },
   "outputs": [
    {
     "name": "stdout",
     "output_type": "stream",
     "text": [
      "Total gadgets made: 3\n",
      "Gadgets created:\n",
      "- Freeze Ray\n",
      "- Banana Blaster\n",
      "- Lipstick Taser\n"
     ]
    }
   ],
   "source": [
    "import java.util.ArrayList;\n",
    "import java.util.List;\n",
    "\n",
    "public class Gadget {\n",
    "    public static int totalGadgets = 0;  // Static variable to track total gadgets made\n",
    "    private String gadgetName;  // Instance variable to store the name of the gadget\n",
    "    public static List<Gadget> gadgetsList = new ArrayList<>();  // Static list to track all gadgets\n",
    "\n",
    "    // Constructor to set the gadget name and increment totalGadgets\n",
    "    public Gadget(String gadgetName) {\n",
    "        this.gadgetName = gadgetName;\n",
    "        totalGadgets++;  // Increment the total gadgets count\n",
    "        gadgetsList.add(this);  // Add this gadget to the static list\n",
    "    }\n",
    "\n",
    "    // Getter for the gadget name\n",
    "    public String getGadgetName() {\n",
    "        return gadgetName;\n",
    "    }\n",
    "\n",
    "    // Static method to print all gadgets in the list\n",
    "    public static void printAllGadgets() {\n",
    "        System.out.println(\"Gadgets created:\");\n",
    "        for (int i = 0; i < gadgetsList.size(); i++) {\n",
    "            System.out.println(\"- \" + gadgetsList.get(i).getGadgetName());\n",
    "        }\n",
    "    }\n",
    "}\n",
    "\n",
    "// In the Main class:\n",
    "public class Main {\n",
    "    public static void main(String[] args) {\n",
    "        // Create three gadgets\n",
    "        Gadget g1 = new Gadget(\"Freeze Ray\");\n",
    "        Gadget g2 = new Gadget(\"Banana Blaster\");\n",
    "        Gadget g3 = new Gadget(\"Lipstick Taser\");\n",
    "\n",
    "        // Print the total number of gadgets\n",
    "        System.out.println(\"Total gadgets made: \" + Gadget.totalGadgets);\n",
    "\n",
    "        // Print all gadgets stored in the static list\n",
    "        Gadget.printAllGadgets();\n",
    "    }\n",
    "}\n",
    "\n",
    "Main.main(null);\n"
   ]
  },
  {
   "cell_type": "markdown",
   "metadata": {},
   "source": [
    "## Why did I use a static method?\n",
    "- Static methods can only directly access other static variables and methods, such as gadgetsList\n",
    "- I needed to print inforamtion about all instances of the Gadget class, which applied to the entire class as a whole."
   ]
  },
  {
   "cell_type": "markdown",
   "metadata": {
    "vscode": {
     "languageId": "java"
    }
   },
   "source": [
    "## Popcorn hack:\n",
    "Dr. Nefario and Gru need to calculate the cost of their equipment to remain under the budget for this year! Add a second parameter to the Gadget constructor to include cost for Gadget instances, and make a static method to calculate the price of all gadgets that have been made so far."
   ]
  }
 ],
 "metadata": {
  "kernelspec": {
   "display_name": "Java",
   "language": "java",
   "name": "java"
  },
  "language_info": {
   "codemirror_mode": "java",
   "file_extension": ".jshell",
   "mimetype": "text/x-java-source",
   "name": "Java",
   "pygments_lexer": "java",
   "version": "17.0.12+7-Ubuntu-1ubuntu222.04"
  }
 },
 "nbformat": 4,
 "nbformat_minor": 2
}
