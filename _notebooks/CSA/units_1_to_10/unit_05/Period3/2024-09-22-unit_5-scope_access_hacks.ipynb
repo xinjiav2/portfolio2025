{
 "cells": [
  {
   "cell_type": "raw",
   "metadata": {
    "vscode": {
     "languageId": "raw"
    }
   },
   "source": [
    "---\n",
    "layout: post\n",
    "title: Scope and Access\n",
    "description: Team Teach\n",
    "toc: True\n",
    "permalink: /csa/unit5/5.8/\n",
    "menu: nav/CSA_Units/csa_unit5_p3.html\n",
    "---"
   ]
  },
  {
   "cell_type": "markdown",
   "metadata": {},
   "source": [
    "<img src=https://github.com/user-attachments/assets/317d0cb3-0d1b-4c31-8e4f-3f66f47d1a9c width='500px' height='auto'>"
   ]
  },
  {
   "cell_type": "markdown",
   "metadata": {},
   "source": [
    "## Scope and Access"
   ]
  },
  {
   "cell_type": "markdown",
   "metadata": {},
   "source": [
    "## Local Scope\n",
    "- Local variables can be ``declared in the body of constructors and methods``. These variables may only be used within the constructor method and cannot be declared to be **public** or **private**\n",
    "\n",
    "- When there is a local variable with the same name as an instance variable, the variable name will refer to the local variable instead of the instance variable\n",
    "\n",
    "- Formal parameters and variables declared in a method or constructor can only be used within that method or constructor"
   ]
  },
  {
   "cell_type": "code",
   "execution_count": null,
   "metadata": {
    "vscode": {
     "languageId": "java"
    }
   },
   "outputs": [],
   "source": [
    "public class LocalScopeExample{\n",
    "    public void Local()\n",
    "    {\n",
    "        int a = 10;//Defining a local variable\n",
    "        if (a > 5)\n",
    "        {\n",
    "            int b = 20;//Defining a variable in the local scope of this if statement\n",
    "        }\n",
    "            // Try to access the local variable outside the class\n",
    "        System.out.println(b);\n",
    "\n",
    "    }\n",
    "}\n",
    "LocalScopeExample example = new LocalScopeExample();\n",
    "example.Local(); // This will print: Value of b: 20"
   ]
  },
  {
   "cell_type": "markdown",
   "metadata": {},
   "source": [
    "## Class Level Scope\n",
    "- Instance variables will be accessible **anywhere within the class** and they can be used in all of the methods in the class. If the variable is defined as ``private`` the variable will not be accessible outside of the class. If it is defined as public, it allows access to a class, method or variable from ``both inside and outside the class.``"
   ]
  },
  {
   "cell_type": "code",
   "execution_count": null,
   "metadata": {
    "vscode": {
     "languageId": "java"
    }
   },
   "outputs": [],
   "source": [
    "public class LocalScopeExample{\n",
    "    // Defining an instance variable\n",
    "    private int b = 10;\n",
    "\n",
    "    public void Local()\n",
    "    {\n",
    "        int a = 10;//Defining a local variable\n",
    "        if (a > 5)\n",
    "        {\n",
    "            b = 20;//Defining a variable in the local scope of this if statement\n",
    "        }\n",
    "            // Try to access the local variable outside the class\n",
    "        System.out.println(\"Value of b: \" + b);\n",
    "    }\n",
    "}\n",
    "LocalScopeExample example = new LocalScopeExample();\n",
    "example.Local(); // This will print: Value of b: 20"
   ]
  },
  {
   "cell_type": "markdown",
   "metadata": {},
   "source": [
    "## Let's go through an example\n",
    "\n",
    "Lets create a class called MinionMood. In order to ensure maximum productivity with the minions we have to keep track of how they're feeling throughout the day.\n",
    "\n",
    "Then lets create some instance variables and a method to increase the happiness level of the minion based on how many bananas they have eaten, and make it such that the energy level of the minion decreases based on how many tasks they have to complete."
   ]
  },
  {
   "cell_type": "code",
   "execution_count": null,
   "metadata": {
    "vscode": {
     "languageId": "java"
    }
   },
   "outputs": [],
   "source": [
    "public class MinionMood\n",
    "{\n",
    "    private int happinessLevel;\n",
    "    private int energyLevel;\n",
    "\n",
    "    public MinionMood(int bananas, int tasks)\n",
    "    {\n",
    "        int happinessLevel = 2*bananas;\n",
    "        int energyLevel = tasks;\n",
    "    }\n",
    "    public String toString()\n",
    "    {\n",
    "        return \"Happiness Level: \" + happinessLevel + \"\\nEnergy Level: \" + energyLevel;\n",
    "    }\n",
    "}\n",
    "\n",
    "MinionMood bob = new MinionMood(5, 2);\n",
    "System.out.println(bob);\n"
   ]
  },
  {
   "cell_type": "markdown",
   "metadata": {},
   "source": [
    "## Popcorn Hack\n",
    "- Figure out why the happiness level and the energy level is not showing up the way we want it to. First one to do so will get a high five from Trevor Huang."
   ]
  },
  {
   "cell_type": "markdown",
   "metadata": {},
   "source": [
    "## Oops...\n",
    "\n",
    "Its very important to keep in mind that a local variable within a method that has the same name as an instance variable will just redeclare the variable. So, to make the code work the way we want it to, all that we have to do is get rid of the statements that redeclare the variable.s"
   ]
  }
 ],
 "metadata": {
  "kernelspec": {
   "display_name": "Java",
   "language": "java",
   "name": "java"
  },
  "language_info": {
   "codemirror_mode": "java",
   "file_extension": ".jshell",
   "mimetype": "text/x-java-source",
   "name": "Java",
   "pygments_lexer": "java",
   "version": "11.0.24+8-post-Ubuntu-1ubuntu322.04"
  }
 },
 "nbformat": 4,
 "nbformat_minor": 2
}
