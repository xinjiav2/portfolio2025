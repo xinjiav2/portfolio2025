{
 "cells": [
  {
   "cell_type": "raw",
   "metadata": {
    "vscode": {
     "languageId": "raw"
    }
   },
   "source": [
    "---\n",
    "layout: post\n",
    "title: toString Method\n",
    "description: Team Teach\n",
    "toc: True\n",
    "permalink: /csa/unit5/5.41/\n",
    "menu: nav/CSA_Units/csa_unit5_p3.html\n",
    "\n",
    "---"
   ]
  },
  {
   "cell_type": "markdown",
   "metadata": {},
   "source": [
    "<img src=\"https://github.com/user-attachments/assets/c53b4b5d-d58c-4e06-b6d1-09df8b7ee78a\" width=\"500px\" height=\"auto\">"
   ]
  },
  {
   "cell_type": "markdown",
   "metadata": {},
   "source": [
    "## toString Accessor Method\n",
    "The toString accessor method is an overridden method that is included in classes to provide a description of a specific object. It returns a sting description of the instance variables of the object. The method is called automatically to try to convert an object to a String when needed.\n",
    "\n",
    "If System.out.print or System.out.println is passed an object, that object's toString method is called and the returned string is printed."
   ]
  },
  {
   "cell_type": "markdown",
   "metadata": {},
   "source": [
    "## If you try to just print the object...\n",
    "It won't print the information that you want."
   ]
  },
  {
   "cell_type": "code",
   "execution_count": 1,
   "metadata": {},
   "outputs": [
    {
     "name": "stdout",
     "output_type": "stream",
     "text": [
      "REPL.$JShell$12$Minion@f979182\n"
     ]
    }
   ],
   "source": [
    "public class Minion\n",
    "{\n",
    "    // Start by defining instance variables that you'll want to access later via the accessor methods\n",
    "    private double height;\n",
    "    private String name;\n",
    "    private String hair;\n",
    "    private int eyes;\n",
    "\n",
    "    // Default Constructor\n",
    "    //String n, int c\n",
    "    public Minion()\n",
    "    {\n",
    "        height = 3.7;\n",
    "        name = \"Bob\";\n",
    "        hair = \"None\";\n",
    "        eyes = 2;\n",
    "    }\n",
    "\n",
    "    // Overloaded Constructor\n",
    "    public Minion(double h, String n, String hr, int e)\n",
    "    {\n",
    "        height = h;\n",
    "        name = n;\n",
    "        hair = hr;\n",
    "        eyes = e;\n",
    "    }\n",
    "    // Accessor Methods!\n",
    "    public double getHeight()\n",
    "    {\n",
    "        return height;\n",
    "    }\n",
    "    public String getName()\n",
    "    {\n",
    "        return name;\n",
    "    }\n",
    "    public String getHair()\n",
    "    {\n",
    "        return hair;\n",
    "    }\n",
    "    public int getEyes()\n",
    "    {\n",
    "        return eyes;\n",
    "    }\n",
    "}\n",
    "// Create minion object Kevin\n",
    "Minion kevin = new Minion(4.10,\"Kevin\",\"Sprout-Cut\",2);\n",
    "\n",
    "// Print Kevin Object\n",
    "System.out.println(kevin);"
   ]
  },
  {
   "cell_type": "markdown",
   "metadata": {},
   "source": [
    "## The toString Method\n",
    "When the System.out.println() is used, the toString method ``within the class`` is automatically called to print the object's values.\n",
    "![image](https://github.com/user-attachments/assets/ba8657e5-a3ba-4445-b26a-ad6712cf223b)"
   ]
  },
  {
   "cell_type": "markdown",
   "metadata": {},
   "source": [
    "## Popcorn Hack\n",
    "\n",
    "Return all the instance variables in ``Minion`` so that we can directly print the object values of the minion Kevin."
   ]
  },
  {
   "cell_type": "code",
   "execution_count": 4,
   "metadata": {},
   "outputs": [
    {
     "name": "stdout",
     "output_type": "stream",
     "text": [
      "Name:Kevin\n",
      "Height: 4.1\n",
      "Hair:Sprout-Cut\n",
      "Eyes: 2\n"
     ]
    }
   ],
   "source": [
    "public class Minion\n",
    "{\n",
    "    // Start by defining instance variables that you'll want to access later via the accessor methods\n",
    "    private double height;\n",
    "    private String name;\n",
    "    private String hair;\n",
    "    private int eyes;\n",
    "\n",
    "    // Default Constructor\n",
    "    //String n, int c\n",
    "    public Minion()\n",
    "    {\n",
    "        height = 3.7;\n",
    "        name = \"Bob\";\n",
    "        hair = \"None\";\n",
    "        eyes = 2;\n",
    "    }\n",
    "\n",
    "    // Overloaded Constructor\n",
    "    public Minion(double h, String n, String hr, int e)\n",
    "    {\n",
    "        height = h;\n",
    "        name = n;\n",
    "        hair = hr;\n",
    "        eyes = e;\n",
    "    }\n",
    "    // Accessor Methods!\n",
    "    public String toString()\n",
    "    {\n",
    "        // Code here\n",
    "    }\n",
    "}\n",
    "// Create minion object Kevin\n",
    "Minion kevin = new Minion(4.10,\"Kevin\",\"Sprout-Cut\",2);\n",
    "\n",
    "// Print Kevin Object\n",
    "System.out.println(kevin);"
   ]
  },
  {
   "cell_type": "markdown",
   "metadata": {},
   "source": [
    "## When Creating a toString Accessor Method...\n",
    "- You cannot change the header of the method public String toString() -> cannot change this\n",
    "- Always returns string\n",
    "- Doesn't take any parameters\n",
    "- When System.out.printIn(object) is called on an object:\n",
    "    - toString method is called\n",
    "    - returned string is printed"
   ]
  }
 ],
 "metadata": {
  "kernelspec": {
   "display_name": "Java",
   "language": "java",
   "name": "java"
  },
  "language_info": {
   "codemirror_mode": "java",
   "file_extension": ".jshell",
   "mimetype": "text/x-java-source",
   "name": "java",
   "pygments_lexer": "java",
   "version": "11.0.24+8-post-Ubuntu-1ubuntu322.04"
  }
 },
 "nbformat": 4,
 "nbformat_minor": 2
}
