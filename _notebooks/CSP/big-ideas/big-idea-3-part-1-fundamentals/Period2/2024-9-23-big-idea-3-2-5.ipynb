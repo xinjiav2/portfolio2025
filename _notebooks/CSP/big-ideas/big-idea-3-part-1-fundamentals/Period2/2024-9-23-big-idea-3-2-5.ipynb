{
 "cells": [
  {
   "cell_type": "raw",
   "metadata": {
    "vscode": {
     "languageId": "raw"
    }
   },
   "source": [
    "---\n",
    "toc: false\n",
    "comments: true\n",
    "layout: post\n",
    "title: 3.2 Lesson Period 2 - Tuples Data Abstraction\n",
    "description: Student led teaching on Abstraction. Teaching how various data types can use abstraction for copmutational efficiency.\n",
    "permalink: /csp/big-idea/p2/3-2-5/\n",
    "categories: [CSP Big Ideas]\n",
    "author:  Nikhil Maturi, Yash Parikh, Neil Chandra, Rohan Bojja (P.2)\n",
    "menu: nav/csp_units/csp_unit3_p2_fundamentals.html\n",
    "---"
   ]
  },
  {
   "cell_type": "markdown",
   "metadata": {},
   "source": [
    "## Tuples - 3.2.5"
   ]
  },
  {
   "cell_type": "code",
   "execution_count": 1,
   "metadata": {},
   "outputs": [
    {
     "name": "stdout",
     "output_type": "stream",
     "text": [
      "Tuple: (8, 12)\n",
      "--------------------------------------------------\n",
      "Length:\n",
      "2\n",
      "--------------------------------------------------\n",
      "Unpacking:\n",
      "x: 8\n",
      "y: 12\n",
      "--------------------------------------------------\n",
      "Repetition:\n",
      "(8, 12, 8, 12, 8, 12)\n",
      "--------------------------------------------------\n",
      "Minimum:\n",
      "8\n",
      "Maximum:\n",
      "12\n",
      "Summation:\n",
      "20\n",
      "--------------------------------------------------\n"
     ]
    }
   ],
   "source": [
    "# Tuples have many uses, they are often used in math applications for things like coordinates...\n",
    "# Tuples are immutable meaning they can't be changed after creation\n",
    "myTuple = (8, 12)\n",
    "print(\"Tuple:\", myTuple)\n",
    "print(\"-\"*50)\n",
    "\n",
    "# Tuple Length\n",
    "print(\"Length:\")\n",
    "print(len(myTuple))\n",
    "print(\"-\"*50)\n",
    "\n",
    "# Tuple Unpacking\n",
    "print(\"Unpacking:\") # abstracts having to index then manually assign\n",
    "x, y = myTuple # assigns each part of tuple to seperate variables\n",
    "print(\"x:\", x)\n",
    "print(\"y:\", y)\n",
    "print(\"-\"*50)\n",
    "\n",
    "# Tuple Repetition\n",
    "print(\"Repetition:\") # simplifies having to loop or index then reassign\n",
    "print(myTuple * 3)\n",
    "print(\"-\"*50)\n",
    "\n",
    "# Min, Max, Sum\n",
    "print(\"Minimum:\") # simplifies having to loop then compute all manually\n",
    "print(min(myTuple))\n",
    "print(\"Maximum:\")\n",
    "print(max(myTuple))\n",
    "print(\"Summation:\")\n",
    "print(sum(myTuple))\n",
    "print(\"-\"*50)"
   ]
  },
  {
   "attachments": {},
   "cell_type": "markdown",
   "metadata": {},
   "source": [
    "## Javscript Version"
   ]
  },
  {
   "cell_type": "code",
   "execution_count": null,
   "metadata": {
    "vscode": {
     "languageId": "javascript"
    }
   },
   "outputs": [],
   "source": [
    "%%js\n",
    "let myTuple = [8, 12];  // Arrays are used in place of tuples in JavaScript\n",
    "console.log(\"Tuple:\", myTuple);\n",
    "console.log(\"-\".repeat(50));\n",
    "\n",
    "// Length of the array\n",
    "console.log(\"Length:\");\n",
    "console.log(myTuple.length);\n",
    "console.log(\"-\".repeat(50));\n",
    "\n",
    "// Unpacking\n",
    "let [x, y] = myTuple;\n",
    "console.log(\"x:\", x);\n",
    "console.log(\"y:\", y);\n",
    "console.log(\"-\".repeat(50));\n",
    "\n",
    "// Repetition\n",
    "console.log(\"Repetition:\");\n",
    "console.log([...myTuple, ...myTuple, ...myTuple]); // Repeating array elements\n",
    "console.log(\"-\".repeat(50));\n",
    "\n",
    "// Min, Max, Sum\n",
    "console.log(\"Minimum:\");\n",
    "console.log(Math.min(...myTuple));\n",
    "console.log(\"Maximum:\");\n",
    "console.log(Math.max(...myTuple));\n",
    "console.log(\"Summation:\");\n",
    "console.log(myTuple.reduce((a, b) => a + b, 0)); // Summing elements of array\n",
    "console.log(\"-\".repeat(50));\n",
    "\n",
    "\n",
    "\n",
    "print(\"Minimum:\")\n",
    "print(min(myTuple))\n",
    "print(\"Maximum:\")\n",
    "print(max(myTuple))\n",
    "print(\"Summation:\")\n",
    "print(sum(myTuple))\n",
    "print(\"-\"*50)"
   ]
  },
  {
   "attachments": {},
   "cell_type": "markdown",
   "metadata": {},
   "source": [
    "<div id=\"output4\"></div>\n",
    "\n",
    "<script>\n",
    "// Arrays are used in place of tuples in JavaScript\n",
    "let myTuple = [8, 12];\n",
    "\n",
    "// Select the output element\n",
    "let outputElement4 = document.getElementById(\"output4\");\n",
    "\n",
    "// Display the initial tuple (array)\n",
    "outputElement4.innerHTML = `\n",
    "  <p><strong>Tuple:</strong> [${myTuple.join(\", \")}]</p>\n",
    "  <p>${\"-\".repeat(50)}</p>\n",
    "`;\n",
    "\n",
    "// Length of the array\n",
    "outputElement4.innerHTML += `\n",
    "  <p><strong>Length:</strong> ${myTuple.length}</p>\n",
    "  <p>${\"-\".repeat(50)}</p>\n",
    "`;\n",
    "\n",
    "// Unpacking\n",
    "let [x, y] = myTuple;\n",
    "outputElement4.innerHTML += `\n",
    "  <p><strong>Unpacking:</strong></p>\n",
    "  <p>x: ${x}</p>\n",
    "  <p>y: ${y}</p>\n",
    "  <p>${\"-\".repeat(50)}</p>\n",
    "`;\n",
    "\n",
    "// Repetition\n",
    "outputElement4.innerHTML += `\n",
    "  <p><strong>Repetition:</strong> [${[...myTuple, ...myTuple, ...myTuple].join(\", \")}]</p>\n",
    "  <p>${\"-\".repeat(50)}</p>\n",
    "`;\n",
    "\n",
    "// Min, Max, Sum\n",
    "outputElement4.innerHTML += `\n",
    "  <p><strong>Minimum:</strong> ${Math.min(...myTuple)}</p>\n",
    "  <p><strong>Maximum:</strong> ${Math.max(...myTuple)}</p>\n",
    "  <p><strong>Summation:</strong> ${myTuple.reduce((a, b) => a + b, 0)}</p>\n",
    "  <p>${\"-\".repeat(50)}</p>\n",
    "`;\n",
    "</script>"
   ]
  }
 ],
 "metadata": {
  "kernelspec": {
   "display_name": "venv",
   "language": "python",
   "name": "python3"
  },
  "language_info": {
   "codemirror_mode": {
    "name": "ipython",
    "version": 3
   },
   "file_extension": ".py",
   "mimetype": "text/x-python",
   "name": "python",
   "nbconvert_exporter": "python",
   "pygments_lexer": "ipython3",
   "version": "3.9.19"
  },
  "vscode": {
   "interpreter": {
    "hash": "72756fa0984efdc44fb8517b692d10defb2e78cf8a4e51ca5670a6eeef22a31e"
   }
  }
 },
 "nbformat": 4,
 "nbformat_minor": 2
}
