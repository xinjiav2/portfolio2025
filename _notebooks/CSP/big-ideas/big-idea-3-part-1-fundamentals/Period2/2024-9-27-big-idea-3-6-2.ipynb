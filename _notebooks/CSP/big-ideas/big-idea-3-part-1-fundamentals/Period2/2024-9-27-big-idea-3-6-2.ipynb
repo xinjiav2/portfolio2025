{
 "cells": [
  {
   "cell_type": "raw",
   "metadata": {},
   "source": [
    "---\n",
    "toc: false\n",
    "comments: true\n",
    "layout: post\n",
    "title: 3.6.2 Conditionals \n",
    "description: Student led teaching on Conditionals using Javascript and Python\n",
    "permalink: /csp/big-idea/p2/3-6-2\n",
    "categories: [CSP Big Ideas]\n",
    "author:  Kush, Nolan, Vincent, and Tarun\n",
    "menu: nav/csp_units/csp_unit3_p2_fundamentals.html\n",
    "---"
   ]
  },
  {
   "cell_type": "markdown",
   "metadata": {},
   "source": [
    "### Example using the Random library"
   ]
  },
  {
   "cell_type": "code",
   "execution_count": 4,
   "metadata": {
    "vscode": {
     "languageId": "javascript"
    }
   },
   "outputs": [
    {
     "data": {
      "application/javascript": "let num1 = Math.floor(Math.random() * 21); // Generates a random integer between 0 and 20\nlet num2 = Math.floor(Math.random() * 21); // Generates a random integer between 0 and 20\n\nif (num1 > num2) {\n    console.log(num1 + ' > ' + num2);\n} else if (num1 < num2) {\n    console.log(num1 + ' < ' + num2);\n} else {\n    console.log(num1 + ' = ' + num2);\n}\n",
      "text/plain": [
       "<IPython.core.display.Javascript object>"
      ]
     },
     "metadata": {},
     "output_type": "display_data"
    }
   ],
   "source": [
    "%%js\n",
    "let num1 = Math.floor(Math.random() * 21); // Generates a random integer between 0 and 20\n",
    "let num2 = Math.floor(Math.random() * 21); // Generates a random integer between 0 and 20\n",
    "\n",
    "if (num1 > num2) {\n",
    "    console.log(num1 + ' > ' + num2);\n",
    "} else if (num1 < num2) {\n",
    "    console.log(num1 + ' < ' + num2);\n",
    "} else {\n",
    "    console.log(num1 + ' = ' + num2);\n",
    "}"
   ]
  },
  {
   "cell_type": "code",
   "execution_count": 2,
   "metadata": {},
   "outputs": [
    {
     "name": "stdout",
     "output_type": "stream",
     "text": [
      "16 > 3\n"
     ]
    }
   ],
   "source": [
    "from random import randint\n",
    "num_1 = randint(0,20)\n",
    "num_2 = randint(0,20)\n",
    "if num_1>num_2:\n",
    "    print(num_1,'>',num_2)\n",
    "elif num_1<num_2:\n",
    "    print(num_1,'<',num_2)\n",
    "else:\n",
    "    print(num_1,'=',num_2)"
   ]
  },
  {
   "cell_type": "markdown",
   "metadata": {},
   "source": [
    "- This code imports the randint function from the random module.\n",
    "- Two variables, num_1 and num_2, are assigned random integers between 0 and 20 using random.randint(0, 20).\n",
    "- A conditional checks if num_1 is greater than num_2.\n",
    "- If num_1 is greater than num_2, it prints num_1 > num_2.\n",
    "- If the first condition is False, the next condition checks if num_1 is less than num_2.\n",
    "- If num_1 is less than num_2, it prints num_1 < num_2.\n",
    "- If neither condition is True (the numbers are equal), the conditional moves to the else statement.\n",
    "- The else statement prints num_1 = num_2."
   ]
  },
  {
   "cell_type": "markdown",
   "metadata": {},
   "source": [
    "### Example using Boolean and Random"
   ]
  },
  {
   "cell_type": "code",
   "execution_count": 1,
   "metadata": {},
   "outputs": [
    {
     "name": "stdout",
     "output_type": "stream",
     "text": [
      "1 is odd.\n"
     ]
    }
   ],
   "source": [
    "import random\n",
    "\n",
    "random_num = random.randint(-10, 10)  # Generates a random integer between -10 and 10\n",
    "\n",
    "# Check if the number is even or odd\n",
    "if random_num % 2 == 0:\n",
    "    print(f\"{random_num} is even.\")\n",
    "else:\n",
    "    print(f\"{random_num} is odd.\")"
   ]
  },
  {
   "cell_type": "markdown",
   "metadata": {},
   "source": [
    "- Random Number Generation: The code generates a random integer between -10 and 10 using random.randint().\n",
    "- Even or Odd Check: It checks if the generated number is even or odd by using the modulo operator %, which determines if there is a remainder when dividing by 2.\n",
    "- Output Result: It prints a message indicating whether the random number is even or odd based on the result of the conditional check."
   ]
  },
  {
   "cell_type": "markdown",
   "metadata": {},
   "source": [
    "# Homework"
   ]
  },
  {
   "cell_type": "markdown",
   "metadata": {},
   "source": [
    "Directions:\n",
    "- Make a quiz game on any topic of you choice\n",
    "- Have 5 questions based on you topic\n",
    "- Use a function to ask the question\n",
    "- Use modules if you would like(Not requried)\n",
    "- Use the language of your choice"
   ]
  },
  {
   "cell_type": "code",
   "execution_count": null,
   "metadata": {},
   "outputs": [],
   "source": [
    "import sys\n",
    "\n",
    "def question_with_response(prompt):\n",
    "    answer = input(prompt)\n",
    "    return answer\n",
    "\n",
    "questions = 5\n",
    "correct = 0\n",
    "\n",
    "user_name = question_with_response(\"Enter your name: \")\n",
    "print(f'Hello, {user_name}! You are running Python using {sys.executable}.')\n",
    "ready = question_with_response(\"Are you ready to take a sports quiz? (yes/no): \")\n",
    "if ready.lower() != 'yes':\n",
    "    print(\"Come back when you're ready! Goodbye.\")\n",
    "    sys.exit()\n",
    "\n",
    "q1 = question_with_response(\"1. How many players are on the field for one team in American football? (a) 11 (b) 9 (c) 15: \")\n",
    "if q1.lower() == \"a\":\n",
    "    print(\"Correct!\")\n",
    "    correct += 1\n",
    "else:\n",
    "    print(\"Incorrect. The correct answer is (a) 11.\")\n",
    "\n",
    "q2 = question_with_response(\"2. In basketball, how many points is a shot from beyond the three-point line worth? (a) 2 (b) 3 (c) 4: \")\n",
    "if q2.lower() == \"b\":\n",
    "    print(\"Correct!\")\n",
    "    correct += 1\n",
    "else:\n",
    "    print(\"Incorrect. The correct answer is (b) 3.\")\n",
    "\n",
    "q3 = question_with_response(\"3. What is the maximum duration of a standard professional soccer match (without extra time)? (a) 60 minutes (b) 90 minutes (c) 120 minutes: \")\n",
    "if q3.lower() == \"b\":\n",
    "    print(\"Correct!\")\n",
    "    correct += 1\n",
    "else:\n",
    "    print(\"Incorrect. The correct answer is (b) 90 minutes.\")\n",
    "\n",
    "q4 = question_with_response(\"4. In tennis, what is the term used when the score is 40-40? (a) Deuce (b) Match point (c) Advantage: \")\n",
    "if q4.lower() == \"a\":\n",
    "    print(\"Correct!\")\n",
    "    correct += 1\n",
    "else:\n",
    "    print(\"Incorrect. The correct answer is (a) Deuce.\")\n",
    "\n",
    "q5 = question_with_response(\"5. In which year did the first modern Olympic Games take place? (a) 1896 (b) 1900 (c) 1912: \")\n",
    "if q5.lower() == \"a\":\n",
    "    print(\"Correct!\")\n",
    "    correct += 1\n",
    "else:\n",
    "    print(\"Incorrect. The correct answer is (a) 1896.\")\n",
    "\n",
    "print(f'{user_name}, you scored {correct}/{questions}!')\n",
    "\n",
    "print(\"\\nHomework Hack: Let's try a simple comparison program!\")\n",
    "\n",
    "num1 = float(input(\"Enter the first number: \"))\n",
    "num2 = float(input(\"Enter the second number: \"))\n",
    "\n",
    "if num1 == num2:\n",
    "    print(\"Both numbers are equal.\")\n",
    "elif num1 > num2:\n",
    "    print(f\"The first number ({num1}) is larger.\")\n",
    "else:\n",
    "    print(f\"The second number ({num2}) is larger.\")"
   ]
  },
  {
   "cell_type": "markdown",
   "metadata": {},
   "source": [
    "- The program starts by importing the `sys` module and defining a function `question_with_response` to handle user input.\n",
    "- The quiz consists of 5 multiple-choice questions, each checking the user's answer and increasing a `correct` counter for every right response.\n",
    "- Personalized interaction is achieved by greeting the user with their name and confirming if they are ready to proceed with the quiz.\n",
    "- After the quiz, the program displays the user's total score based on the number of correct answers out of 5.\n",
    "- The code includes a \"homework hack\" where the user inputs two numbers, and the program compares and prints whether they are equal or which one is larger."
   ]
  }
 ],
 "metadata": {
  "kernelspec": {
   "display_name": "Python 3",
   "language": "python",
   "name": "python3"
  },
  "language_info": {
   "codemirror_mode": {
    "name": "ipython",
    "version": 3
   },
   "file_extension": ".py",
   "mimetype": "text/x-python",
   "name": "python",
   "nbconvert_exporter": "python",
   "pygments_lexer": "ipython3",
   "version": "3.10.12"
  }
 },
 "nbformat": 4,
 "nbformat_minor": 2
}
