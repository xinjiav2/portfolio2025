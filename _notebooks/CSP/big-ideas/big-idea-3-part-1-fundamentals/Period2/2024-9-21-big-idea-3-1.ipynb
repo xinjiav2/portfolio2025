{
 "cells": [
  {
   "cell_type": "raw",
   "metadata": {
    "vscode": {
     "languageId": "raw"
    }
   },
   "source": [
    "---\n",
    "layout: post\n",
    "title: 3.1-P2 Variables and Assignments\n",
    "description: This lesson explains how variables are abstractions used to represent and store data.\n",
    "categories: [Python, Javascript]\n",
    "permalink: /csp/big-idea/p2/3-1\n",
    "menu: nav/csp_units/csp_unit3_p2_fundamentals.html\n",
    "author: Arhaan, Mihir, Akshaj, Keerthan\n",
    "toc: true\n",
    "comments: true\n",
    "---"
   ]
  },
  {
   "cell_type": "markdown",
   "metadata": {
    "vscode": {
     "languageId": "raw"
    }
   },
   "source": [
    "# **Introduction to Variables**\n",
    "\n",
    "---\n",
    "\n",
    "## What is a Variable?\n",
    "\n",
    "A **variable** is like a container that holds information. You can store data in a variable and use it later in your program.\n",
    "\n",
    "For example, if you want to store a person's name or age, you can use variables to do that.\n",
    "\n",
    "---\n",
    "\n",
    "## Video Help \n",
    "\n",
    "<div>\n",
    "    <p> Click the following button to get extra help on loops in coding </p>\n",
    "</div>\n",
    "<a href=\"https://www.youtube.com/watch?v=KpJ385shzgM\">\n",
    "<button class=\"button button1\">Variables Video</button>\n",
    "</a>\n",
    "\n",
    "\n",
    "## Creating Variables\n",
    "\n",
    "You can create a variable and assign a value to it using the assignment operator `=`.\n",
    "\n",
    "### Example:\n",
    "```python\n",
    "# Python Example\n",
    "name = \"Alice\"  # This is a string variable\n",
    "age = 15        # This is an integer variable\n",
    "\n",
    "// JavaScript Example\n",
    "let name = \"Alice\";  // This is a string variable\n",
    "let age = 15;        // This is an integer variable\n"
   ]
  },
  {
   "cell_type": "markdown",
   "metadata": {},
   "source": [
    "## Using Variables in Programs\n",
    "\n",
    "Once you have created a variable, you can use it throughout your program.\n",
    "\n",
    "\n"
   ]
  },
  {
   "cell_type": "code",
   "execution_count": 3,
   "metadata": {},
   "outputs": [
    {
     "name": "stdout",
     "output_type": "stream",
     "text": [
      "My name is John\n",
      "I am 25 years old.\n"
     ]
    }
   ],
   "source": [
    "# Define variables\n",
    "name = \"John\"  # Replace with the desired name\n",
    "age = 25       # Replace with the desired age\n",
    "\n",
    "# Print statements\n",
    "print(\"My name is\", name)\n",
    "print(\"I am\", age, \"years old.\")\n",
    "\n"
   ]
  },
  {
   "cell_type": "code",
   "execution_count": 4,
   "metadata": {
    "vscode": {
     "languageId": "javascript"
    }
   },
   "outputs": [
    {
     "data": {
      "application/javascript": "// JavaScript Example\nconsole.log(\"My name is \" + name);\nconsole.log(\"I am \" + age + \" years old.\");\n",
      "text/plain": [
       "<IPython.core.display.Javascript object>"
      ]
     },
     "metadata": {},
     "output_type": "display_data"
    }
   ],
   "source": [
    "%%js\n",
    "// JavaScript Example\n",
    "console.log(\"My name is \" + name);\n",
    "console.log(\"I am \" + age + \" years old.\");\n"
   ]
  },
  {
   "cell_type": "markdown",
   "metadata": {},
   "source": [
    "## Naming Variables\n",
    "When you create variables, it's important to choose good names. Here are some tips:\n",
    "\n",
    "Be Descriptive: Choose names that describe the data they hold, like age or favorite_color.\n",
    "\n",
    "Use Camel Case: For multi-word names, use camel case (e.g., favoriteColor).\n",
    "\n",
    "Avoid Spaces and Special Characters: Stick to letters, numbers, and underscores.\n"
   ]
  },
  {
   "cell_type": "code",
   "execution_count": 5,
   "metadata": {},
   "outputs": [
    {
     "name": "stdout",
     "output_type": "stream",
     "text": [
      "The city is New York\n",
      "The population is 8419600\n"
     ]
    }
   ],
   "source": [
    "# Creating and using variables\n",
    "city = \"New York\"\n",
    "population = 8419600\n",
    "\n",
    "print(\"The city is\", city)\n",
    "print(\"The population is\", population)\n"
   ]
  },
  {
   "cell_type": "code",
   "execution_count": 6,
   "metadata": {
    "vscode": {
     "languageId": "javascript"
    }
   },
   "outputs": [
    {
     "data": {
      "application/javascript": "// Creating and using variables\nlet city = \"New York\";\nlet population = 8419600;\n\nconsole.log(\"The city is \" + city);\nconsole.log(\"The population is \" + population);\n",
      "text/plain": [
       "<IPython.core.display.Javascript object>"
      ]
     },
     "metadata": {},
     "output_type": "display_data"
    }
   ],
   "source": [
    "%%js\n",
    "// Creating and using variables\n",
    "let city = \"New York\";\n",
    "let population = 8419600;\n",
    "\n",
    "console.log(\"The city is \" + city);\n",
    "console.log(\"The population is \" + population);\n"
   ]
  }
 ],
 "metadata": {
  "kernelspec": {
   "display_name": "venv",
   "language": "python",
   "name": "python3"
  },
  "language_info": {
   "codemirror_mode": {
    "name": "ipython",
    "version": 3
   },
   "file_extension": ".py",
   "mimetype": "text/x-python",
   "name": "python",
   "nbconvert_exporter": "python",
   "pygments_lexer": "ipython3",
   "version": "3.12.5"
  }
 },
 "nbformat": 4,
 "nbformat_minor": 2
}
