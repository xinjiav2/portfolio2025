{
 "cells": [
  {
   "cell_type": "raw",
   "metadata": {
    "vscode": {
     "languageId": "raw"
    }
   },
   "source": [
    "---\n",
    "toc: false\n",
    "comments: true\n",
    "layout: post\n",
    "title: 3.2 Lesson Period 2 - Boolean Data Abstraction\n",
    "description: Student led teaching on Abstraction. Teaching how various data types can use abstraction for copmutational efficiency.\n",
    "permalink: /csp/big-idea/p2/3-2-8/\n",
    "categories: [CSP Big Ideas]\n",
    "author:  Nikhil Maturi, Yash Parikh, Neil Chandra, Rohan Bojja (P.2)\n",
    "menu: nav/csp_units/csp_unit3_p2_fundamentals.html\n",
    "---"
   ]
  },
  {
   "cell_type": "markdown",
   "metadata": {},
   "source": [
    "## Boolean - 3.2.8"
   ]
  },
  {
   "cell_type": "code",
   "execution_count": 1,
   "metadata": {},
   "outputs": [
    {
     "name": "stdout",
     "output_type": "stream",
     "text": [
      "print(10 > 9): True\n",
      "print(10 == 9): False\n",
      "print(10 < 9): False\n",
      "\n",
      "a is 200, b is 33\n",
      "b is not greater than a\n",
      "\n",
      "abc: True\n",
      "123: True\n",
      "[]: False\n",
      "[apple, cherry, banana]: True\n"
     ]
    }
   ],
   "source": [
    "print(\"print(10 > 9):\", 10 > 9)\n",
    "print(\"print(10 == 9):\", 10 == 9)\n",
    "print(\"print(10 < 9):\", 10 < 9)\n",
    "\n",
    "a = 200\n",
    "b = 33\n",
    "# Booleans are data abstractions because they are used to represent truth value. They allow the flow of programs and conditional statements, while hiding the underlying workings of the function.\n",
    "print(\"\\na is 200, b is 33\")\n",
    "\n",
    "if b > a:\n",
    "  print(\"b is greater than a\")\n",
    "else:\n",
    "  print(\"b is not greater than a\")\n",
    "\n",
    "#Almost any value is evaluated to True if it has some sort of content.\n",
    "#Any string is True, except empty strings.\n",
    "#Any number is True, except 0.\n",
    "#Any list, tuple, set, and dictionary are True, except empty ones.\n",
    "print(\"\\nabc:\", bool(\"abc\"))\n",
    "print(\"123:\", bool(123))\n",
    "print(\"[]:\", bool([]))\n",
    "print(\"[apple, cherry, banana]:\", bool([\"apple\", \"cherry\", \"banana\"]))"
   ]
  },
  {
   "cell_type": "markdown",
   "metadata": {},
   "source": [
    "## Javascript"
   ]
  },
  {
   "cell_type": "code",
   "execution_count": 1,
   "metadata": {
    "vscode": {
     "languageId": "javascript"
    }
   },
   "outputs": [
    {
     "ename": "SyntaxError",
     "evalue": "invalid syntax (1810492081.py, line 5)",
     "output_type": "error",
     "traceback": [
      "\u001b[0;36m  Cell \u001b[0;32mIn[1], line 5\u001b[0;36m\u001b[0m\n\u001b[0;31m    var a = 200;\u001b[0m\n\u001b[0m        ^\u001b[0m\n\u001b[0;31mSyntaxError\u001b[0m\u001b[0;31m:\u001b[0m invalid syntax\n"
     ]
    }
   ],
   "source": [
    "console.log(10 > 9);\n",
    "console.log(10 == 9);\n",
    "console.log(10 < 9);\n",
    "\n",
    "var a = 200;\n",
    "var b = 33;\n",
    "\n",
    "if (b > a) {\n",
    "    console.log(\"b is greater than a\")\n",
    "} else {\n",
    "    console.log(\"a is greater than b\")\n",
    "}\n",
    "\n",
    "console.log(Boolean(\"abc\"))\n",
    "console.log(Boolean(123))\n",
    "console.log(Boolean([]))\n",
    "console.log(Boolean([\"apple\", \"cherry\", \"banana\"]))\n"
   ]
  },
  {
   "cell_type": "markdown",
   "metadata": {},
   "source": [
    "<div id=\"output3\"></div>\n",
    "\n",
    "<script>\n",
    "// Comparison Operations\n",
    "document.getElementById(\"output3\").innerHTML = `\n",
    "  <p>print(10 > 9): ${10 > 9}</p>\n",
    "  <p>print(10 == 9): ${10 == 9}</p>\n",
    "  <p>print(10 < 9): ${10 < 9}</p>\n",
    "`;\n",
    "\n",
    "// Variables for comparison\n",
    "var a = 200;\n",
    "var b = 33;\n",
    "\n",
    "document.getElementById(\"output3\").innerHTML += `\n",
    "  <p>a is 200, b is 33</p>\n",
    "`;\n",
    "\n",
    "// Conditional check\n",
    "if (b > a) {\n",
    "  document.getElementById(\"output3\").innerHTML += `\n",
    "    <p>b is greater than a</p>\n",
    "  `;\n",
    "} else {\n",
    "  document.getElementById(\"output3\").innerHTML += `\n",
    "    <p>b is not greater than a</p>\n",
    "  `;\n",
    "}\n",
    "\n",
    "// Boolean evaluations\n",
    "document.getElementById(\"output3\").innerHTML += `\n",
    "  <p>abc: ${Boolean(\"abc\")}</p>\n",
    "  <p>123: ${Boolean(123)}</p>\n",
    "  <p>[]: ${Boolean([])}</p>\n",
    "  <p>[apple, cherry, banana]: ${Boolean([\"apple\", \"cherry\", \"banana\"])}</p>\n",
    "`;\n",
    "</script>\n"
   ]
  }
 ],
 "metadata": {
  "kernelspec": {
   "display_name": "venv",
   "language": "python",
   "name": "python3"
  },
  "language_info": {
   "codemirror_mode": {
    "name": "ipython",
    "version": 3
   },
   "file_extension": ".py",
   "mimetype": "text/x-python",
   "name": "python",
   "nbconvert_exporter": "python",
   "pygments_lexer": "ipython3",
   "version": "3.12.3"
  }
 },
 "nbformat": 4,
 "nbformat_minor": 2
}
