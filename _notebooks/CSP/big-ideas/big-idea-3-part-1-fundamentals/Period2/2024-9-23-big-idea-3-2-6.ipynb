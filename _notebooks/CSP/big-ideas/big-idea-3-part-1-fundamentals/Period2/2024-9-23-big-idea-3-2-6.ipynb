{
 "cells": [
  {
   "cell_type": "raw",
   "metadata": {
    "vscode": {
     "languageId": "raw"
    }
   },
   "source": [
    "---\n",
    "toc: false\n",
    "comments: true\n",
    "layout: post\n",
    "title: 3.2 Lesson Period 2 - Dictionaries Data Abstraction\n",
    "description: Student led teaching on Abstraction. Teaching how various data types can use abstraction for copmutational efficiency.\n",
    "permalink: /csp/big-idea/p2/3-2-6/\n",
    "categories: [CSP Big Ideas]\n",
    "author:  Nikhil Maturi, Yash Parikh, Neil Chandra, Rohan Bojja (P.2)\n",
    "menu: nav/csp_units/csp_unit3_p2_fundamentals.html\n",
    "---"
   ]
  },
  {
   "cell_type": "markdown",
   "metadata": {},
   "source": [
    "## Dictionaries - 3.2.6"
   ]
  },
  {
   "cell_type": "code",
   "execution_count": 1,
   "metadata": {},
   "outputs": [
    {
     "name": "stdout",
     "output_type": "stream",
     "text": [
      "\n",
      "The whole dictionary is:\n",
      "{'brand': 'Ford', 'model': 'Mustang', 'year': 1964}\n",
      "\n",
      "The value of the key 'brand' is:\n",
      "Ford\n",
      "\n",
      "The value of the key 'model' is:\n",
      "Mustang\n",
      "\n",
      "The value of the key 'year' is:\n",
      "1964\n"
     ]
    }
   ],
   "source": [
    "mydictionary = {\n",
    "  #key : value\n",
    "  \"brand\": \"Ford\",\n",
    "  \"model\": \"Mustang\",\n",
    "  \"year\": 1964\n",
    "}\n",
    "\n",
    "# Dictionaries are abstractions because they allow for efficient storage and retrieval of key-value pairs without exposing the underlying workings\n",
    "\n",
    "print(\"\\nThe whole dictionary is:\")\n",
    "print(mydictionary)\n",
    "\n",
    "print(\"\\nThe value of the key 'brand' is:\")\n",
    "     #dictionaryname[key]\n",
    "print(mydictionary[\"brand\"])\n",
    "\n",
    "\n",
    "print(\"\\nThe value of the key 'model' is:\")\n",
    "print(mydictionary[\"model\"])\n",
    "\n",
    "print(\"\\nThe value of the key 'year' is:\")\n",
    "print(mydictionary[\"year\"])"
   ]
  },
  {
   "cell_type": "markdown",
   "metadata": {},
   "source": [
    "## Javascript Version"
   ]
  },
  {
   "cell_type": "code",
   "execution_count": 7,
   "metadata": {
    "vscode": {
     "languageId": "javascript"
    }
   },
   "outputs": [
    {
     "data": {
      "application/javascript": "var mydictionary = {\n    \"brand\": \"Ford\",\n    \"model\": \"Mustang\",\n    \"year\": 1964\n};\n\njson_object = JSON.stringify(mydictionary, null, 2)\nconsole.log(json_object)\nconsole.log(mydictionary[\"brand\"])\nconsole.log(mydictionary[\"model\"])\nconsole.log(mydictionary[\"year\"])\n",
      "text/plain": [
       "<IPython.core.display.Javascript object>"
      ]
     },
     "metadata": {},
     "output_type": "display_data"
    }
   ],
   "source": [
    "%%js\n",
    "var mydictionary = {\n",
    "    \"brand\": \"Ford\",\n",
    "    \"model\": \"Mustang\",\n",
    "    \"year\": 1964\n",
    "};\n",
    "\n",
    "json_object = JSON.stringify(mydictionary, null, 2)\n",
    "console.log(json_object)\n",
    "console.log(mydictionary[\"brand\"])\n",
    "console.log(mydictionary[\"model\"])\n",
    "console.log(mydictionary[\"year\"])\n"
   ]
  },
  {
   "cell_type": "markdown",
   "metadata": {},
   "source": [
    "<div id=\"output\"></div>\n",
    "\n",
    "<script>\n",
    "// JavaScript object\n",
    "var mydictionary = {\n",
    "    \"brand\": \"Ford\",\n",
    "    \"model\": \"Mustang\",\n",
    "    \"year\": 1964\n",
    "};\n",
    "\n",
    "// Creating HTML output with JavaScript\n",
    "var output = `\n",
    "  <p>The whole dictionary is: <pre>${JSON.stringify(mydictionary, null, 2)}</pre></p>\n",
    "  <p>The value of the key 'brand' is: ${mydictionary[\"brand\"]}</p>\n",
    "  <p>The value of the key 'model' is: ${mydictionary[\"model\"]}</p>\n",
    "  <p>The value of the key 'year' is: ${mydictionary[\"year\"]}</p>\n",
    "`;\n",
    "\n",
    "// Display the output in the HTML body\n",
    "document.getElementById(\"output\").innerHTML = output;\n",
    "</script>\n"
   ]
  },
  {
   "cell_type": "markdown",
   "metadata": {},
   "source": [
    "## Serialization and Deserialization\n",
    "\n",
    "The process of serialization is to \"convert an object's state into a format that can be transported\"\n",
    "Pretty simply: converting object types from one another\n",
    "\n",
    "The process we will show is python dictionaries to JSON strings!"
   ]
  },
  {
   "cell_type": "code",
   "execution_count": 4,
   "metadata": {},
   "outputs": [
    {
     "name": "stdout",
     "output_type": "stream",
     "text": [
      "\n",
      "Our dictionary as a json string: {\"brand\": \"Ford\", \"model\": \"Mustang\", \"year\": 1964}\n"
     ]
    }
   ],
   "source": [
    "import json #importing the json library\n",
    "\n",
    "#let's use our dictionary from before!\n",
    "jsondict = json.dumps(mydictionary) #converts the dictionary to a json string\n",
    "print(\"\\nOur dictionary as a json string:\", jsondict)"
   ]
  }
 ],
 "metadata": {
  "kernelspec": {
   "display_name": "venv",
   "language": "python",
   "name": "python3"
  },
  "language_info": {
   "codemirror_mode": {
    "name": "ipython",
    "version": 3
   },
   "file_extension": ".py",
   "mimetype": "text/x-python",
   "name": "python",
   "nbconvert_exporter": "python",
   "pygments_lexer": "ipython3",
   "version": "3.12.3"
  }
 },
 "nbformat": 4,
 "nbformat_minor": 2
}
