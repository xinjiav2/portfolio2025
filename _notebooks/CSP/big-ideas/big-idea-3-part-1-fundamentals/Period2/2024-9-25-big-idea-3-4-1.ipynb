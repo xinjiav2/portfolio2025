{
 "cells": [
  {
   "cell_type": "raw",
   "metadata": {
    "vscode": {
     "languageId": "raw"
    }
   },
   "source": [
    "---\n",
    "layout: post\n",
    "title: 3.4 Javascript Strings\n",
    "description: Gain and understanding of how strings work\n",
    "categories: [DevOps, Javascript]\n",
    "permalink: /csp/big-idea/p2/3-4-1\n",
    "menu: nav/csp_units/csp_unit3_p2_fundamentals.html\n",
    "author: Keerthan\n",
    "toc: true\n",
    "comments: true\n",
    "---"
   ]
  },
  {
   "cell_type": "markdown",
   "metadata": {},
   "source": [
    "\n",
    "# Strings & Palindromes in Javascript"
   ]
  },
  {
   "cell_type": "markdown",
   "metadata": {},
   "source": [
    "## Javascript Strings\n",
    "The concepts of Python Strings & Javascript Strings are the same, however the way these concepts are implemented across these two languages vary, and there are some important distinctions that’ll be highlighted in this blog. If you haven’t already, check out the first blog\n"
   ]
  },
  {
   "cell_type": "markdown",
   "metadata": {},
   "source": [
    "## Making Strings\n",
    "When it comes to making strings, there are three ways of going about it— Each method requiring that you surround the text you want to make a string with these characters. These methods are listed below:\n",
    "\n",
    "\n",
    "Single Quotes (‘’) Double Quotes (“”) Backticks (``)\n",
    "\n",
    "\n",
    "Single Quotes and Double Quotes are the most conventionally used and serve the same purpose. Surrounding text as to delineate them as strings and not another data type. So most of the time, you’ll be using either single or double quotes.\n",
    "\n",
    "\n",
    "However, the last option, strings that use backticks (known as template strings), are also very important to know and a proficient coder in Javascript will take advantage of this type of string when the opportunity arises. We’ll come back to this string later, but what you should know now is that it allows you to implant javascript code that isn’t inherently a string into your string, such as a variable.\n",
    "\n",
    "\n",
    "To confirm whether a variable is a string or not, you can put the potential string inside typeof()."
   ]
  },
  {
   "cell_type": "code",
   "execution_count": 1,
   "metadata": {
    "vscode": {
     "languageId": "javascript"
    }
   },
   "outputs": [
    {
     "data": {
      "application/javascript": "let intro = 'Your Journey Begins Here.'\nlet fruit = \"orange\"\n\n\n// Checking if string\ntypeof(intro) //Output: True\ntypeof(fruit) //Output: True\n",
      "text/plain": [
       "<IPython.core.display.Javascript object>"
      ]
     },
     "metadata": {},
     "output_type": "display_data"
    }
   ],
   "source": [
    "%%js\n",
    "let intro = 'Your Journey Begins Here.'\n",
    "let fruit = \"orange\"\n",
    "\n",
    "\n",
    "// Checking if string\n",
    "typeof(intro) //Output: True\n",
    "typeof(fruit) //Output: True"
   ]
  },
  {
   "cell_type": "markdown",
   "metadata": {},
   "source": [
    "## Concatenation\n",
    "Concatenation is the combining or joining of different strings. It allows us to take one string and merge it with another. Refer to the example below:"
   ]
  },
  {
   "cell_type": "code",
   "execution_count": 2,
   "metadata": {
    "vscode": {
     "languageId": "javascript"
    }
   },
   "outputs": [
    {
     "data": {
      "application/javascript": "\n\nlet greeting = \"Hello \" + \"Class\";\nconsole.log(greeting); // Output: Hello Class\n\n\nlet word = \"Break\" + \"fast\";\nconsole.log(word) //Output: Breakfast\n\n\nconsole.log ( greeting + word ) //Output: Hello Class Breakfast\n",
      "text/plain": [
       "<IPython.core.display.Javascript object>"
      ]
     },
     "metadata": {},
     "output_type": "display_data"
    }
   ],
   "source": [
    "%%js\n",
    "\n",
    "\n",
    "let greeting = \"Hello \" + \"Class\";\n",
    "console.log(greeting); // Output: Hello Class\n",
    "\n",
    "\n",
    "let word = \"Break\" + \"fast\";\n",
    "console.log(word) //Output: Breakfast\n",
    "\n",
    "\n",
    "console.log ( greeting + word ) //Output: Hello Class Breakfast"
   ]
  },
  {
   "cell_type": "markdown",
   "metadata": {},
   "source": [
    "Concatenation is used to address the need to keep strings separate for storing dynamic data (like user input) and then combine them into a single, cohesive string."
   ]
  },
  {
   "cell_type": "code",
   "execution_count": 3,
   "metadata": {
    "vscode": {
     "languageId": "javascript"
    }
   },
   "outputs": [
    {
     "data": {
      "application/javascript": "\n\n// Example 1\nlet favoriteFood = prompt(\"Enter your favorite food: \");\nlet favoriteSport = prompt(\"Enter your favorite sport: \");\n\n\nlet message = \"Your favorite food is \" + favoriteFood + \" and your favorite sport is \" + favoriteSport + \".\";\nconsole.log(message);\n",
      "text/plain": [
       "<IPython.core.display.Javascript object>"
      ]
     },
     "metadata": {},
     "output_type": "display_data"
    }
   ],
   "source": [
    "%%js\n",
    "\n",
    "\n",
    "// Example 1\n",
    "let favoriteFood = prompt(\"Enter your favorite food: \");\n",
    "let favoriteSport = prompt(\"Enter your favorite sport: \");\n",
    "\n",
    "\n",
    "let message = \"Your favorite food is \" + favoriteFood + \" and your favorite sport is \" + favoriteSport + \".\";\n",
    "console.log(message);"
   ]
  },
  {
   "cell_type": "code",
   "execution_count": 4,
   "metadata": {
    "vscode": {
     "languageId": "javascript"
    }
   },
   "outputs": [
    {
     "ename": "SyntaxError",
     "evalue": "invalid syntax (2097945391.py, line 1)",
     "output_type": "error",
     "traceback": [
      "\u001b[0;36m  Cell \u001b[0;32mIn[4], line 1\u001b[0;36m\u001b[0m\n\u001b[0;31m    // Example 2\u001b[0m\n\u001b[0m    ^\u001b[0m\n\u001b[0;31mSyntaxError\u001b[0m\u001b[0;31m:\u001b[0m invalid syntax\n"
     ]
    }
   ],
   "source": [
    "// Example 2\n",
    "let dreamVacation = prompt(\"Enter your dream vacation destination: \");\n",
    "let favoriteSeason = prompt(\"Enter your favorite season: \");\n",
    "\n",
    "\n",
    "let vacationMessage = \"Your dream vacation is to \" + dreamVacation + \" and your favorite season is \" + favoriteSeason + \".\";\n",
    "console.log(vacationMessage);"
   ]
  },
  {
   "cell_type": "markdown",
   "metadata": {},
   "source": [
    "## String Interpolation\n",
    "String interpolation brings us back to using backticks, also known as template strings. Rather than combining multiple strings, template strings allow us to embed variables and JavaScript expressions directly within the string.\n",
    "\n",
    "\n",
    "The following examples are the same as the ones above, but we utilize interpolation instead of concatenation:"
   ]
  },
  {
   "cell_type": "code",
   "execution_count": null,
   "metadata": {
    "vscode": {
     "languageId": "javascript"
    }
   },
   "outputs": [],
   "source": [
    "\n",
    "%%js\n",
    "\n",
    "\n",
    "// Example 1\n",
    "let userHobby = prompt(\"Enter your hobby: \");\n",
    "let favoritePlace = prompt(\"Enter your favorite place: \");\n",
    "\n",
    "\n",
    "let message = `Your hobby is ${userHobby} and your favorite place is ${favoritePlace}.`;\n",
    "console.log(message);"
   ]
  },
  {
   "cell_type": "markdown",
   "metadata": {},
   "source": [
    "As you can see for yourself, interpolation is much cleaner & efficient than concatenation. The only things you need to do in order to interpolate a string is to:\n",
    "\n",
    "\n",
    "Use backticks\n",
    "\n",
    "\n",
    "Surround the variable or javascript expression in ${variable_here}"
   ]
  },
  {
   "cell_type": "markdown",
   "metadata": {},
   "source": [
    "## Indexing a Character\n",
    "Indexing a character is just a more technically correct way of saying how to access a character within a string. Each character in a string is assigned a number that we can use to access it individually."
   ]
  },
  {
   "cell_type": "code",
   "execution_count": null,
   "metadata": {
    "vscode": {
     "languageId": "javascript"
    }
   },
   "outputs": [],
   "source": [
    "%%js\n",
    "\n",
    "\n",
    "let fruit = \"Banana\";\n",
    "\n",
    "\n",
    "console.log(fruit[1]); // Output: a\n",
    "console.log(fruit.at(1)); // Output: a\n",
    "\n",
    "\n",
    "console.log(fruit[6]); // Output: undefined\n",
    "console.log(fruit.at(6)); // Output: undefined"
   ]
  },
  {
   "cell_type": "markdown",
   "metadata": {},
   "source": [
    "In the Python Strings lesson, we learned that indexing starts at 0, and negative numbers can be used to count backwards. In JavaScript, you can access characters in two ways:\n",
    "\n",
    "\n",
    "Using brackets: [#]\n",
    "Using the at method: .at(#)\n",
    "I recommend using the at() method, as brackets cannot handle negative indices (resulting in undefined) unless you implement additional steps, which makes it unnecessarily complicated."
   ]
  },
  {
   "cell_type": "markdown",
   "metadata": {},
   "source": [
    "## Substrings\n",
    "\n",
    "\n",
    "There are 3 ways to retrieve a substring in JavaScript: substring, substr, & slice\n",
    "\n",
    "\n",
    "For this blog post, we’ll be exclusively covering slice which is arguably the most flexible of the three options. Feel free to look into the others, but keep in mind slice can do anything the other methods can and more.\n",
    "\n",
    "\n",
    "Substrings is a part of a string that we have taken using the slice function. It allows us to take more than one character as indexing allows.\n",
    "\n",
    "\n",
    "The slice() method extracts characters from a string between two specified indices and returns a new string. It takes two parameters:\n",
    "\n",
    "\n",
    "The starting index (inclusive)\n",
    "The ending index (exclusive)"
   ]
  },
  {
   "cell_type": "code",
   "execution_count": null,
   "metadata": {
    "vscode": {
     "languageId": "javascript"
    }
   },
   "outputs": [],
   "source": [
    "%%js\n",
    "\n",
    "\n",
    "let greeting = \"Goodbye, Universe!\";\n",
    "let city = \"San Francisco\";\n",
    "let continent = \"North America\";\n",
    "\n",
    "\n",
    "// Extract and display \"Goodbye\" from the greeting\n",
    "console.log(greeting.slice(0, 7)); // Output: Goodbye\n",
    "\n",
    "\n",
    "// Extract and display \"Universe\" from the greeting\n",
    "console.log(greeting.slice(-8)); // Output: Universe\n",
    "\n",
    "\n",
    "// Display everything from the second character onward in city\n",
    "console.log(city.slice(1)); // Output: an Francisco\n",
    "\n",
    "\n",
    "// Display everything from the third character onward in city\n",
    "console.log(city.slice(-9)); // Output: Francisco\n",
    "\n",
    "\n",
    "// Extract substring starting from index 4 and ending before the last index in city\n",
    "console.log(city.slice(4, -3)); // Output: Fran"
   ]
  },
  {
   "cell_type": "markdown",
   "metadata": {},
   "source": [
    "## Escape Characters\n",
    "\n",
    "\n",
    "The \\ is often known as the escape character as inputting it into a string allows you to temporarily escape the string and add something to the string that isn’t just text (or text that can’t be added conventionally).\n",
    "\n",
    "\n",
    "Here are some of the most common uses:\n"
   ]
  },
  {
   "cell_type": "code",
   "execution_count": null,
   "metadata": {
    "vscode": {
     "languageId": "javascript"
    }
   },
   "outputs": [],
   "source": [
    "%%js\n",
    "\n",
    "\n",
    "let message = \"Goodbye Universe\";\n",
    "\n",
    "\n",
    "// Create a new line\n",
    "console.log(\"Goodbye\\nUniverse\"); // Output: Goodbye\n",
    "                                   //         Universe\n",
    "\n",
    "\n",
    "// Create a horizontal tab\n",
    "console.log(\"Goodbye\\tUniverse\"); // Output: Goodbye   Universe\n",
    "\n",
    "\n",
    "// Create a backslash\n",
    "console.log(\"Goodbye\\\\Universe\"); // Output: Goodbye\\Universe\n",
    "\n",
    "\n",
    "// Add a unicode character\n",
    "console.log(\"\\u2731\"); // Output: ✱ (a star character)"
   ]
  }
 ],
 "metadata": {
  "kernelspec": {
   "display_name": "venv",
   "language": "python",
   "name": "python3"
  },
  "language_info": {
   "codemirror_mode": {
    "name": "ipython",
    "version": 3
   },
   "file_extension": ".py",
   "mimetype": "text/x-python",
   "name": "python",
   "nbconvert_exporter": "python",
   "pygments_lexer": "ipython3",
   "version": "3.12.5"
  }
 },
 "nbformat": 4,
 "nbformat_minor": 2
}
