{
 "cells": [
  {
   "cell_type": "raw",
   "metadata": {
    "vscode": {
     "languageId": "raw"
    }
   },
   "source": [
    "---\n",
    "toc: false\n",
    "comments: true\n",
    "layout: post\n",
    "title: 3.5.3 Booleans Hack (P2)\n",
    "description: Student led teaching on Booleans. Learn how booleans are used in decision-making with logical operators. \n",
    "permalink: /csp/big-idea/p2/3-5-3\n",
    "categories: [CSP Big Ideas]\n",
    "author: Shriya, Lalita, Manas, Ethan\n",
    "menu: nav/csp_units/csp_unit3_p2_fundamentals.html\n",
    "---"
   ]
  },
  {
   "cell_type": "markdown",
   "metadata": {},
   "source": [
    "# Homework Hack"
   ]
  },
  {
   "cell_type": "markdown",
   "metadata": {},
   "source": [
    "### Create a Logic Gates Simulator in Python and Java this demonstrates how different logical operations (AND, OR, NOT, NAND, NOR, XOR) work with various inputs. This can visually represent how truth tables function."
   ]
  },
  {
   "cell_type": "markdown",
   "metadata": {},
   "source": [
    "### Logic Gate Simulator in Python"
   ]
  },
  {
   "cell_type": "code",
   "execution_count": 1,
   "metadata": {},
   "outputs": [
    {
     "name": "stdout",
     "output_type": "stream",
     "text": [
      "A     B | AND | OR | NOT A\n",
      "---------------------------\n",
      "1     1     | 1    | 1   | False\n",
      "1     0     | 0    | 1   | False\n",
      "0     1     | 0    | 1   | True\n",
      "0     0     | 0    | 0   | True\n"
     ]
    }
   ],
   "source": [
    "def AND(A, B):\n",
    "    return A and B\n",
    "\n",
    "def OR(A, B):\n",
    "    return A or B\n",
    "\n",
    "def NOT(A):\n",
    "    return not A\n",
    "\n",
    "print(\"A     B | AND | OR | NOT A\")\n",
    "print(\"---------------------------\")\n",
    "for A in [True, False]:\n",
    "    for B in [True, False]:\n",
    "        print(f\"{A:<5} {B:<5} | {AND(A, B):<4} | {OR(A, B):<3} | {NOT(A)}\")\n"
   ]
  },
  {
   "cell_type": "markdown",
   "metadata": {},
   "source": [
    "### Logic Gate Simulator in Javascript"
   ]
  },
  {
   "cell_type": "code",
   "execution_count": 1,
   "metadata": {
    "vscode": {
     "languageId": "javascript"
    }
   },
   "outputs": [
    {
     "data": {
      "application/javascript": "\n// Define logic gate functions\nfunction AND(A, B) {\n    return A && B;\n}\n\nfunction OR(A, B) {\n    return A || B;\n}\n\nfunction NOT(A) {\n    return !A;\n}\n\nfunction NAND(A, B) {\n    return !(A && B);\n}\n\nfunction NOR(A, B) {\n    return !(A || B);\n}\n\nfunction XOR(A, B) {\n    return A !== B;\n}\n\n// Display the results of the logic gates\nfunction displayGateOperations(A, B) {\n    console.log(\"A: \" + A + \", B: \" + B);\n    console.log(\"AND: \" + AND(A, B));\n    console.log(\"OR: \" + OR(A, B));\n    console.log(\"NOT A: \" + NOT(A));\n    console.log(\"NAND: \" + NAND(A, B));\n    console.log(\"NOR: \" + NOR(A, B));\n    console.log(\"XOR: \" + XOR(A, B));\n    console.log(\"-----------------------------\");\n}\n\n// Main logic gate simulator function\nfunction logicGateSimulator() {\n    console.log(\"Logic Gate Simulator\");\n    console.log(\"Enter 'exit' to quit\");\n\n    while (true) {\n        let A_input = prompt(\"Enter value for A (true/false): \").trim();\n        if (A_input.toLowerCase() === \"exit\") {\n            break;\n        }\n\n        let B_input = prompt(\"Enter value for B (true/false): \").trim();\n        if (B_input.toLowerCase() === \"exit\") {\n            break;\n        }\n\n        // Convert inputs to boolean\n        let A = (A_input.toLowerCase() === 'true');\n        let B = (B_input.toLowerCase() === 'true');\n\n        // Display the results\n        displayGateOperations(A, B);\n    }\n}\n\n// Run the logic gate simulator\nlogicGateSimulator();\n",
      "text/plain": [
       "<IPython.core.display.Javascript object>"
      ]
     },
     "metadata": {},
     "output_type": "display_data"
    }
   ],
   "source": [
    "%%javascript\n",
    "\n",
    "// Define logic gate functions\n",
    "function AND(A, B) {\n",
    "    return A && B;\n",
    "}\n",
    "\n",
    "function OR(A, B) {\n",
    "    return A || B;\n",
    "}\n",
    "\n",
    "function NOT(A) {\n",
    "    return !A;\n",
    "}\n",
    "\n",
    "function NAND(A, B) {\n",
    "    return !(A && B);\n",
    "}\n",
    "\n",
    "function NOR(A, B) {\n",
    "    return !(A || B);\n",
    "}\n",
    "\n",
    "function XOR(A, B) {\n",
    "    return A !== B;\n",
    "}\n",
    "\n",
    "// Display the results of the logic gates\n",
    "function displayGateOperations(A, B) {\n",
    "    console.log(\"A: \" + A + \", B: \" + B);\n",
    "    console.log(\"AND: \" + AND(A, B));\n",
    "    console.log(\"OR: \" + OR(A, B));\n",
    "    console.log(\"NOT A: \" + NOT(A));\n",
    "    console.log(\"NAND: \" + NAND(A, B));\n",
    "    console.log(\"NOR: \" + NOR(A, B));\n",
    "    console.log(\"XOR: \" + XOR(A, B));\n",
    "    console.log(\"-----------------------------\");\n",
    "}\n",
    "\n",
    "// Main logic gate simulator function\n",
    "function logicGateSimulator() {\n",
    "    console.log(\"Logic Gate Simulator\");\n",
    "    console.log(\"Enter 'exit' to quit\");\n",
    "\n",
    "    while (true) {\n",
    "        let A_input = prompt(\"Enter value for A (true/false): \").trim();\n",
    "        if (A_input.toLowerCase() === \"exit\") {\n",
    "            break;\n",
    "        }\n",
    "\n",
    "        let B_input = prompt(\"Enter value for B (true/false): \").trim();\n",
    "        if (B_input.toLowerCase() === \"exit\") {\n",
    "            break;\n",
    "        }\n",
    "\n",
    "        // Convert inputs to boolean\n",
    "        let A = (A_input.toLowerCase() === 'true');\n",
    "        let B = (B_input.toLowerCase() === 'true');\n",
    "\n",
    "        // Display the results\n",
    "        displayGateOperations(A, B);\n",
    "    }\n",
    "}\n",
    "\n",
    "// Run the logic gate simulator\n",
    "logicGateSimulator();\n"
   ]
  },
  {
   "cell_type": "markdown",
   "metadata": {},
   "source": [
    "<style>\n",
    "    article {\n",
    "        background-color: #000000 !important; /* Black background */\n",
    "        border: 3px solid #1a1a2e !important; /* Dark blue border */\n",
    "        padding: 25px !important;\n",
    "        border-radius: 50px !important;\n",
    "    }\n",
    "    article h1 {\n",
    "        color: #ffffff !important; /* White header */\n",
    "    }\n",
    "    article h2, h3, h4, p {\n",
    "        color: #ffffff !important; /* White text */\n",
    "    }\n",
    "    article ul, ol, li {\n",
    "        background-color: #1a1a2e !important; /* Dark blue for lists */\n",
    "        border-left: 5px solid #1f4068 !important; /* Slightly lighter blue list border */\n",
    "        color: #ffffff !important; /* White list text */\n",
    "        padding: 12px 25px !important;\n",
    "        margin: 12px 0 !important;\n",
    "        border-radius: 50px !important;\n",
    "    }\n",
    "    article .center-text {\n",
    "        text-align: center !important;\n",
    "    }\n",
    "    article summary {\n",
    "        color: #ffffff !important; /* White summary */\n",
    "    }\n",
    "    article code {\n",
    "        color: #ffffff !important; /* White code text */\n",
    "        background-color: #1f4068 !important; /* Dark blue background */\n",
    "        padding: 3px 6px !important;\n",
    "        border-radius: 50px !important;\n",
    "    }\n",
    "</style>\n"
   ]
  }
 ],
 "metadata": {
  "kernelspec": {
   "display_name": "venv",
   "language": "python",
   "name": "python3"
  },
  "language_info": {
   "codemirror_mode": {
    "name": "ipython",
    "version": 3
   },
   "file_extension": ".py",
   "mimetype": "text/x-python",
   "name": "python",
   "nbconvert_exporter": "python",
   "pygments_lexer": "ipython3",
   "version": "3.12.5"
  }
 },
 "nbformat": 4,
 "nbformat_minor": 2
}
