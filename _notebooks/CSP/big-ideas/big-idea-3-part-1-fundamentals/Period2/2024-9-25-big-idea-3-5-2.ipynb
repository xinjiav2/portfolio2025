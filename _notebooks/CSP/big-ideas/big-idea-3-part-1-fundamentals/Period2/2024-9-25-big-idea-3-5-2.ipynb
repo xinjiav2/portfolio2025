{
 "cells": [
  {
   "cell_type": "raw",
   "metadata": {
    "vscode": {
     "languageId": "raw"
    }
   },
   "source": [
    "---\n",
    "toc: false\n",
    "comments: true\n",
    "layout: post\n",
    "title: 3.5.2 Boolean Values Java (P2)\n",
    "description: Student led teaching on Iteration. Learn how to do loops with Java and Python.\n",
    "permalink: /csp/big-idea/p2/3-5-2\n",
    "categories: [CSP Big Ideas]\n",
    "author:  Shriya, Lalita, Ethan, Manas\n",
    "menu: nav/csp_units/csp_unit3_p2_fundamentals.html\n",
    "---"
   ]
  },
  {
   "cell_type": "markdown",
   "metadata": {},
   "source": [
    "# Boolean Java\n",
    "\n",
    "- A Boolean value is either true or false.\n",
    "- A Boolean expression produces a Boolean value (true or false) when evaluated."
   ]
  },
  {
   "cell_type": "markdown",
   "metadata": {},
   "source": [
    "## Relational operators: \n",
    "- Used to test the relationship between 2 variables, expressions, or values. These relational operators are used for comparisons and they evaluate to a Boolean value (true or false).\n",
    "\n",
    "Equal to (==): Compares two values for equality after converting them to a common type.\n",
    "- 5 == '5'  // true \n",
    "\n",
    "- 5 == 5    // true\n",
    "\n",
    "\n",
    "\n",
    "Strictly Equal to (===): Compares two values for equality without type conversion.\n",
    "\n",
    "- 5 === '5'  // false \n",
    "\n",
    "- 5 === 5    // true\n",
    "\n",
    "Not Equal to (!=): Returns true if the operands are not equal after type conversion.\n",
    "\n",
    "- 5 != '5'   // false \n",
    "\n",
    "- 5 != 6     // true\n",
    "\n",
    "Strictly Not Equal to (!==): Returns true if the operands are not equal and not of the same type.\n",
    "\n",
    "- 5 !== '5'  // true \n",
    "\n",
    "- 5 !== 5    // false\n",
    "\n",
    "Greater than (>): Returns true if the left operand is greater than the right operand.\n",
    "\n",
    "- 5 > 3  // true\n",
    "\n",
    "- 3 > 5  // false\n",
    "\n",
    "Greater than or Equal to (>=): Returns true if the left operand is greater than or equal to the right operand.\n",
    "\n",
    "- 5 >= 5  // true\n",
    "\n",
    "- 3 >= 5  // false\n",
    "\n",
    "Less than (<): Returns true if the left operand is less than the right operand.\n",
    "\n",
    "- 3 < 5  // true\n",
    "\n",
    "- 5 < 3  // false\n",
    "\n",
    "Less than or Equal to (<=): Returns true if the left operand is less than or equal to the right operand.\n",
    "\n",
    "- 5 <= 5  // true\n",
    "\n",
    "- 5 <= 3  // false\n",
    "\n",
    "\n"
   ]
  },
  {
   "cell_type": "markdown",
   "metadata": {},
   "source": [
    "<b>Example:</b> The legal age to drive in California is 16 years old. How would we write a Boolean expression to check if someone is at least 16 years old?\n",
    "\n",
    "    \n",
    "\n"
   ]
  },
  {
   "cell_type": "code",
   "execution_count": 1,
   "metadata": {
    "vscode": {
     "languageId": "javascript"
    }
   },
   "outputs": [
    {
     "data": {
      "application/javascript": "\npublic class Main {\n    public static void main(String[] args) {\n        int age = 17;  // Example age\n        boolean isEligibleToDrive = age >= 16;\n        System.out.println(isEligibleToDrive);  // Output: true if age is 16 or more, false otherwise\n    }\n}\n",
      "text/plain": [
       "<IPython.core.display.Javascript object>"
      ]
     },
     "metadata": {},
     "output_type": "display_data"
    }
   ],
   "source": [
    "%%javascript\n",
    "\n",
    "public class Main {\n",
    "    public static void main(String[] args) {\n",
    "        int age = 17;  // Example age\n",
    "        boolean isEligibleToDrive = age >= 16;\n",
    "        System.out.println(isEligibleToDrive);  // Output: true if age is 16 or more, false otherwise\n",
    "    }\n",
    "}\n"
   ]
  },
  {
   "cell_type": "markdown",
   "metadata": {},
   "source": [
    "- A company offers free shipping for orders of at least $50. Write a Boolean expression to check if the total order amount qualifies for free shipping.\n",
    "\n"
   ]
  },
  {
   "cell_type": "code",
   "execution_count": 4,
   "metadata": {
    "vscode": {
     "languageId": "javascript"
    }
   },
   "outputs": [
    {
     "data": {
      "application/javascript": "\npublic class Main {\n    public static void main(String[] args) {\n        // Example costs of three items\n        double cost1 = 60;\n        double cost2 = 45;\n        double cost3 = 55;\n        \n        // Check if the average of the costs is at least $50\n        boolean qualifiesForFreeShipping = (cost1 + cost2 + cost3) / 3 >= 50;\n        System.out.println(qualifiesForFreeShipping);  // Output: true if the average is 50 or more, false otherwise\n        \n        // Example of checking if an order amount qualifies for free shipping\n        double orderAmount = 55;  // Example order amount\n        boolean isEligibleForFreeShipping = orderAmount >= 50;\n        System.out.println(isEligibleForFreeShipping);  // Output: true if the order amount is 50 or more, false otherwise\n    }\n}\n",
      "text/plain": [
       "<IPython.core.display.Javascript object>"
      ]
     },
     "metadata": {},
     "output_type": "display_data"
    }
   ],
   "source": [
    "%%javascript\n",
    "\n",
    "public class Main {\n",
    "    public static void main(String[] args) {\n",
    "        // Example costs of three items\n",
    "        double cost1 = 60;\n",
    "        double cost2 = 45;\n",
    "        double cost3 = 55;\n",
    "        \n",
    "        // Check if the average of the costs is at least $50\n",
    "        boolean qualifiesForFreeShipping = (cost1 + cost2 + cost3) / 3 >= 50;\n",
    "        System.out.println(qualifiesForFreeShipping);  // Output: true if the average is 50 or more, false otherwise\n",
    "        \n",
    "        // Example of checking if an order amount qualifies for free shipping\n",
    "        double orderAmount = 55;  // Example order amount\n",
    "        boolean isEligibleForFreeShipping = orderAmount >= 50;\n",
    "        System.out.println(isEligibleForFreeShipping);  // Output: true if the order amount is 50 or more, false otherwise\n",
    "    }\n",
    "}\n"
   ]
  },
  {
   "cell_type": "markdown",
   "metadata": {},
   "source": []
  },
  {
   "cell_type": "markdown",
   "metadata": {},
   "source": [
    "## Logical operators:\n",
    "Used to evaluate multiple conditions to produce a single Boolean value.\n",
    "\n",
    "Logical AND (&&): Returns true if both operands are true.\n",
    "\n",
    "- true && true   // true\n",
    "\n",
    "- true && false  // false\n",
    "\n",
    "Logical OR (||): Returns true if at least one of the operands is true. \n",
    "\n",
    "- true || false  // true\n",
    "\n",
    "- false || false // false\n",
    "\n",
    "Logical NOT (!): Returns the opposite of the boolean value.\n",
    "\n",
    "- !true   // false\n",
    " \n",
    "- !false  // true\n"
   ]
  },
  {
   "cell_type": "markdown",
   "metadata": {},
   "source": [
    "<b>Example:</b> You win the game if you score at least 10 points and have 5 lives left or if you score at least 50 points and have more than 0 lives left. Write the Boolean expression for this scenario.\n"
   ]
  },
  {
   "cell_type": "code",
   "execution_count": 5,
   "metadata": {
    "vscode": {
     "languageId": "javascript"
    }
   },
   "outputs": [
    {
     "data": {
      "application/javascript": "\nlet score = 12;  // Example score\nlet lives = 5;   // Example lives\n\n// Boolean expression to check if the player wins the game\nlet hasWon = (score >= 10 && lives === 5) || (score >= 50 && lives > 0);\n\nconsole.log(hasWon);  // Output: true if the player meets any of the winning conditions, false otherwise\n",
      "text/plain": [
       "<IPython.core.display.Javascript object>"
      ]
     },
     "metadata": {},
     "output_type": "display_data"
    }
   ],
   "source": [
    "%%javascript\n",
    "\n",
    "let score = 12;  // Example score\n",
    "let lives = 5;   // Example lives\n",
    "\n",
    "// Boolean expression to check if the player wins the game\n",
    "let hasWon = (score >= 10 && lives === 5) || (score >= 50 && lives > 0);\n",
    "\n",
    "console.log(hasWon);  // Output: true if the player meets any of the winning conditions, false otherwise\n"
   ]
  },
  {
   "cell_type": "markdown",
   "metadata": {},
   "source": [
    "<b>Example:</b> Write a Boolean expression to check if the average of height1, height2, and height3 is at least 65 inches.\n",
    "\n"
   ]
  },
  {
   "cell_type": "code",
   "execution_count": 7,
   "metadata": {
    "vscode": {
     "languageId": "javascript"
    }
   },
   "outputs": [
    {
     "data": {
      "application/javascript": "\nlet height1 = 66;  // Example height in inches\nlet height2 = 64;  // Example height in inches\nlet height3 = 65;  // Example height in inches\n\n// Calculate the average and check if it is at least 65 inches\nlet isAverageHeightAtLeast65 = (height1 + height2 + height3) / 3 >= 65;\n\nconsole.log(isAverageHeightAtLeast65);  // Output: true if average height is 65 or more, false otherwise\n",
      "text/plain": [
       "<IPython.core.display.Javascript object>"
      ]
     },
     "metadata": {},
     "output_type": "display_data"
    }
   ],
   "source": [
    "%%javascript\n",
    "\n",
    "let height1 = 66;  // Example height in inches\n",
    "let height2 = 64;  // Example height in inches\n",
    "let height3 = 65;  // Example height in inches\n",
    "\n",
    "// Calculate the average and check if it is at least 65 inches\n",
    "let isAverageHeightAtLeast65 = (height1 + height2 + height3) / 3 >= 65;\n",
    "\n",
    "console.log(isAverageHeightAtLeast65);  // Output: true if average height is 65 or more, false otherwise\n"
   ]
  },
  {
   "cell_type": "markdown",
   "metadata": {},
   "source": [
    "<style>\n",
    "    article {\n",
    "        background-color: #000000 !important; /* Black background */\n",
    "        border: 3px solid #1a1a2e !important; /* Dark blue border */\n",
    "        padding: 25px !important;\n",
    "        border-radius: 50px !important;\n",
    "    }\n",
    "    article h1 {\n",
    "        color: #ffffff !important; /* White header */\n",
    "    }\n",
    "    article h2, h3, h4, p {\n",
    "        color: #ffffff !important; /* White text */\n",
    "    }\n",
    "    article ul, ol, li {\n",
    "        background-color: #1a1a2e !important; /* Dark blue for lists */\n",
    "        border-left: 5px solid #1f4068 !important; /* Slightly lighter blue list border */\n",
    "        color: #ffffff !important; /* White list text */\n",
    "        padding: 12px 25px !important;\n",
    "        margin: 12px 0 !important;\n",
    "        border-radius: 50px !important;\n",
    "    }\n",
    "    article .center-text {\n",
    "        text-align: center !important;\n",
    "    }\n",
    "    article summary {\n",
    "        color: #ffffff !important; /* White summary */\n",
    "    }\n",
    "    article code {\n",
    "        color: #ffffff !important; /* White code text */\n",
    "        background-color: #1f4068 !important; /* Dark blue background */\n",
    "        padding: 3px 6px !important;\n",
    "        border-radius: 50px !important;\n",
    "    }\n",
    "</style>\n"
   ]
  }
 ],
 "metadata": {
  "kernelspec": {
   "display_name": "Python 3",
   "language": "python",
   "name": "python3"
  },
  "language_info": {
   "codemirror_mode": {
    "name": "ipython",
    "version": 3
   },
   "file_extension": ".py",
   "mimetype": "text/x-python",
   "name": "python",
   "nbconvert_exporter": "python",
   "pygments_lexer": "ipython3",
   "version": "3.12.5"
  }
 },
 "nbformat": 4,
 "nbformat_minor": 2
}
