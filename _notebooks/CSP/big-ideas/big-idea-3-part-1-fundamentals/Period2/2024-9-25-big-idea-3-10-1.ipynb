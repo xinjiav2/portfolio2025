{
 "cells": [
  {
   "cell_type": "raw",
   "metadata": {},
   "source": [
    "---\n",
    "toc: false\n",
    "comments: true\n",
    "layout: post\n",
    "title: 3.10.1 List Operations\n",
    "description: Student led teaching on Lists. Learn how storage and manipulation of multiple items using indexing to access individual elements.\n",
    "permalink: /csp/big-idea/p2/3-10-1\n",
    "categories: [CSP Big Ideas]\n",
    "author:  Alex\n",
    "menu: nav/csp_units/csp_unit3_p2_fundamentals.html\n",
    "---"
   ]
  },
  {
   "cell_type": "markdown",
   "metadata": {
    "vscode": {
     "languageId": "plaintext"
    }
   },
   "source": [
    "<span style=\"color: #4A7C2E; font-size: 28px; font-weight: bold;\"> .Lists</span>\n",
    "\n",
    "<span style=\"color: #4A7C2E;\">In Python, lists are containers which can store various types of data. They are ordered, meaning they are arranged in a numbered sequence starting at 0 (first element is 0th element), and are mutable, which means we can change the data in a list.</span>\n"
   ]
  },
  {
   "cell_type": "code",
   "execution_count": 7,
   "metadata": {},
   "outputs": [],
   "source": [
    "# Creating an empty list\n",
    "\n",
    "mylist = []"
   ]
  },
  {
   "cell_type": "code",
   "execution_count": 2,
   "metadata": {},
   "outputs": [
    {
     "name": "stdout",
     "output_type": "stream",
     "text": [
      "['apple', 'orange', 'banana']\n"
     ]
    }
   ],
   "source": [
    "# apple is 0th element, orange is 1st, and banana is second\n",
    "mylist = [\"apple\", \"orange\", \"banana\"]\n",
    "\n",
    "print(mylist)"
   ]
  },
  {
   "cell_type": "markdown",
   "metadata": {},
   "source": [
    " <span style=\"color: #4A7C2E; font-size: 28px; font-weight: bold;\">List Manipulation</span>\n",
    "\n",
    "<span style=\"color: #4A7C2E;\">We can use many different operations on a table just like how you use mathematical operations on numbers.</span>\n",
    "\n",
    "<span style=\"color: #4A7C2E;\">In Python, some of these operations include:</span>\n",
    "<ul style=\"color: #4A7C2E;\">\n",
    "    <li>Indexing: accessing a list item through its index, or position in the list</li>\n",
    "    <li>Assigning: assigning new values to list through referencing indices</li>\n",
    "    <li>Inserting: adding new values to a list without overwriting existing ones (sometimes pushes other values up an index)</li>\n",
    "    <li>Appending: adding values to the end of a list</li>\n",
    "    <li>Removing: delete values by index, sometimes causing other values to move down in list</li>\n",
    "    <li>Length: find how many values are in a list</li>\n",
    "</ul>\n"
   ]
  },
  {
   "cell_type": "code",
   "execution_count": 6,
   "metadata": {},
   "outputs": [
    {
     "name": "stdout",
     "output_type": "stream",
     "text": [
      "apple\n",
      "orange\n"
     ]
    }
   ],
   "source": [
    "# Indexing\n",
    "# Values in a table can be accessing using the list[index] format, where 'list' is your list name and 'index' is the numeric position of your data value in the list\n",
    "mylist = [\"apple\", \"orange\", \"banana\"]\n",
    "\n",
    "print(mylist[0])\n",
    "print(mylist[1])"
   ]
  },
  {
   "cell_type": "code",
   "execution_count": 8,
   "metadata": {},
   "outputs": [
    {
     "name": "stdout",
     "output_type": "stream",
     "text": [
      "['apple', 'foo', 'watermelon']\n"
     ]
    }
   ],
   "source": [
    "# Assigning values\n",
    "# We can assign values by taking the list at a certain index and setting that to a new value\n",
    "# You can also take list elements and assign them to another list\n",
    "\n",
    "mylist = [\"apple\", \"orange\", \"banana\"]\n",
    "mylist2 = [\"foo\", \"bar\"]\n",
    "\n",
    "mylist[2] = \"watermelon\"\n",
    "mylist[1] = mylist2[0]\n",
    "\n",
    "print(mylist)"
   ]
  },
  {
   "cell_type": "code",
   "execution_count": 11,
   "metadata": {},
   "outputs": [
    {
     "name": "stdout",
     "output_type": "stream",
     "text": [
      "['apple', 'orange', 'watermelon', 'banana']\n"
     ]
    }
   ],
   "source": [
    "# Inserting\n",
    "# When inserting values, you use the .insert table method and specify the index and value you are inserting\n",
    "\n",
    "mylist = [\"apple\", \"orange\", \"banana\"]\n",
    "mylist.insert(2,\"watermelon\")\n",
    "\n",
    "print(mylist)"
   ]
  },
  {
   "cell_type": "code",
   "execution_count": 1,
   "metadata": {},
   "outputs": [
    {
     "name": "stdout",
     "output_type": "stream",
     "text": [
      "['apple', 'orange', 'banana', 'watermelon']\n"
     ]
    }
   ],
   "source": [
    "# Appending\n",
    "# Appending is just like inserting, but doesnt take an index parameter and will add your value to the end of the list\n",
    "\n",
    "mylist = [\"apple\", \"orange\", \"banana\"]\n",
    "mylist.append(\"watermelon\")\n",
    "\n",
    "print(mylist)"
   ]
  },
  {
   "cell_type": "code",
   "execution_count": 2,
   "metadata": {},
   "outputs": [
    {
     "name": "stdout",
     "output_type": "stream",
     "text": [
      "['orange', 'banana']\n"
     ]
    }
   ],
   "source": [
    "# Removing\n",
    "# You can remove a value using .remove method, by giving an value that you want removed\n",
    "\n",
    "mylist = [\"apple\", \"orange\", \"banana\"]\n",
    "mylist.remove(\"apple\")\n",
    "\n",
    "print(mylist)"
   ]
  },
  {
   "cell_type": "code",
   "execution_count": 3,
   "metadata": {},
   "outputs": [
    {
     "name": "stdout",
     "output_type": "stream",
     "text": [
      "3\n"
     ]
    }
   ],
   "source": [
    "# Length\n",
    "# len() function gives you the amount of elements in your list \n",
    "\n",
    "mylist = [\"apple\", \"orange\", \"banana\"]\n",
    "\n",
    "print(len(mylist))"
   ]
  },
  {
   "cell_type": "code",
   "execution_count": 4,
   "metadata": {},
   "outputs": [
    {
     "name": "stdout",
     "output_type": "stream",
     "text": [
      "apple\n",
      "orange\n",
      "banana\n"
     ]
    }
   ],
   "source": [
    "# Iterating through a list using for loops\n",
    "# Use the 'in' keyword while specifying an iterator variable 'fruit' for list\n",
    "\n",
    "mylist = [\"apple\", \"orange\", \"banana\"]\n",
    "\n",
    "for fruit in mylist:\n",
    "    print(fruit)"
   ]
  },
  {
   "cell_type": "markdown",
   "metadata": {},
   "source": [
    "<span style=\"color: #4A7C2E; font-size: 28px; font-weight: bold;\"> Homework</span>\n",
    "\n",
    "<ul style=\"color: #4A7C2E;\">\n",
    "    <li>Create a Python script that starts out with a list containing various data values (type doesn't matter).</li>\n",
    "    <li>Allow the user to input a number, check to see if the number corresponds to an existing index in the list.</li>\n",
    "    <li>Remove the item at the given index from the list.</li>\n",
    "</ul>\n"
   ]
  }
 ],
 "metadata": {
  "kernelspec": {
   "display_name": "venv",
   "language": "python",
   "name": "python3"
  },
  "language_info": {
   "codemirror_mode": {
    "name": "ipython",
    "version": 3
   },
   "file_extension": ".py",
   "mimetype": "text/x-python",
   "name": "python",
   "nbconvert_exporter": "python",
   "pygments_lexer": "ipython3",
   "version": "3.12.3"
  }
 },
 "nbformat": 4,
 "nbformat_minor": 2
}
