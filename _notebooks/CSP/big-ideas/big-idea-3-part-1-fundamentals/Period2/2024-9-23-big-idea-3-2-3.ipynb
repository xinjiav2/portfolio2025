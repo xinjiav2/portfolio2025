{
 "cells": [
  {
   "cell_type": "raw",
   "metadata": {
    "vscode": {
     "languageId": "raw"
    }
   },
   "source": [
    "---\n",
    "toc: false\n",
    "comments: true\n",
    "layout: post\n",
    "title: 3.2 Lesson Period 2 - Strings Data Abstraction\n",
    "description: Student led teaching on Abstraction. Teaching how various data types can use abstraction for copmutational efficiency.\n",
    "permalink: /csp/big-idea/p2/3-2-3/\n",
    "categories: [CSP Big Ideas]\n",
    "author:  Nikhil Maturi, Yash Parikh, Neil Chandra, Rohan Bojja (P.2)\n",
    "menu: nav/csp_units/csp_unit3_p2_fundamentals.html\n",
    "---"
   ]
  },
  {
   "cell_type": "markdown",
   "metadata": {},
   "source": [
    "## Strings - 3.2.3"
   ]
  },
  {
   "cell_type": "code",
   "execution_count": 1,
   "metadata": {},
   "outputs": [
    {
     "name": "stdout",
     "output_type": "stream",
     "text": [
      "Concatenation:\n",
      "First name and Last Name: John Doe\n",
      "--------------------------------------------------\n",
      "Repetition:\n",
      "HaHaHaHa\n",
      "--------------------------------------------------\n",
      "Indexing:\n",
      "Water\n",
      "--------------------------------------------------\n",
      "Length of String:\n",
      "4\n",
      "--------------------------------------------------\n",
      "Changing Letter Format:\n",
      "JOHN\n",
      "John\n",
      "--------------------------------------------------\n",
      "Removing whitespace:\n",
      "Watermelon\n"
     ]
    }
   ],
   "source": [
    "# Are an abstraction since it allows you to perform operations on multiple words and/or letters without seperating them individually\n",
    "# Allows letters to be represented using language rather than numbers\n",
    "firstName = \"John\"\n",
    "lastName = \"Doe\"\n",
    "laugh = \"Ha\"\n",
    "fruit = \"Watermelon\"\n",
    "fruitWithSpace = \"   Watermelon   \"\n",
    "\n",
    "# Concatenation\n",
    "print(\"Concatenation:\")\n",
    "print(\"First name and Last Name:\", firstName + \" \" + lastName) #abstracts by allowing dynamic manipulation of strings\n",
    "print(\"-\"*50)\n",
    "\n",
    "# Repetition\n",
    "print(\"Repetition:\")\n",
    "print(laugh * 4) #abstracts having to use a loop to repeat the string\n",
    "print(\"-\"*50)\n",
    "\n",
    "# Indexing String\n",
    "print(\"Indexing:\")\n",
    "# 0 based indexing system\n",
    "print(fruit[0:5]) #abstracts having to use a loop to iterate then manually obtain the first 4 letters\n",
    "print(\"-\"*50)\n",
    "\n",
    "# Length of String\n",
    "print(\"Length of String:\")\n",
    "print(len(firstName)) #abstracts having to count the letters manually or using more steps\n",
    "print(\"-\"*50)\n",
    "\n",
    "# Change Letter Format\n",
    "# prevents having to loops to manually change letter format based on condition\n",
    "# otherwise would require checking through ASCII or other methods\n",
    "print(\"Changing Letter Format:\")\n",
    "print(firstName.upper())\n",
    "print(firstName.title())\n",
    "print(\"-\"*50)\n",
    "\n",
    "# Strip\n",
    "# Abstraction as a condition and loop is not required to identify spaces and remove them\n",
    "print(\"Removing whitespace:\")\n",
    "print(fruitWithSpace.strip())\n"
   ]
  },
  {
   "attachments": {},
   "cell_type": "markdown",
   "metadata": {},
   "source": [
    "## Javscript Version"
   ]
  },
  {
   "cell_type": "code",
   "execution_count": null,
   "metadata": {
    "vscode": {
     "languageId": "javascript"
    }
   },
   "outputs": [],
   "source": [
    "%%js\n",
    "let firstName = \"John\";\n",
    "let lastName = \"Doe\";\n",
    "let laugh = \"Ha\";\n",
    "let fruit = \"Watermelon\";\n",
    "let fruitWithSpace = \"   Watermelon   \";\n",
    "\n",
    "\n",
    "console.log(\"Concatenation:\");\n",
    "console.log(\"First name and Last Name:\", firstName + \" \" + lastName); \n",
    "console.log(\"-\".repeat(50));\n",
    "\n",
    "\n",
    "console.log(\"Repetition:\");\n",
    "console.log(laugh.repeat(4)); \n",
    "console.log(\"-\".repeat(50));\n",
    "\n",
    "\n",
    "console.log(\"Indexing:\");\n",
    "console.log(fruit.slice(0, 5)); \n",
    "console.log(\"-\".repeat(50));\n",
    "\n",
    "\n",
    "console.log(\"Length of String:\");\n",
    "console.log(firstName.length); \n",
    "console.log(\"-\".repeat(50));\n",
    "\n",
    "\n",
    "console.log(\"Changing Letter Format:\");\n",
    "console.log(firstName.toUpperCase());\n",
    "console.log(firstName[0].toUpperCase() + firstName.slice(1).toLowerCase());\n",
    "console.log(\"-\".repeat(50));\n",
    "\n",
    "\n",
    "console.log(\"Removing whitespace:\");\n",
    "console.log(fruitWithSpace.trim());"
   ]
  },
  {
   "attachments": {},
   "cell_type": "markdown",
   "metadata": {},
   "source": [
    "<div id=\"output2\"></div>\n",
    "\n",
    "<script>\n",
    "// JavaScript variables\n",
    "let firstName = \"John\";\n",
    "let lastName = \"Doe\";\n",
    "let laugh = \"Ha\";\n",
    "let fruit = \"Watermelon\";\n",
    "let fruitWithSpace = \"   Watermelon   \";\n",
    "\n",
    "// Select the output element\n",
    "let outputElement2 = document.getElementById(\"output2\");\n",
    "\n",
    "// Display the output\n",
    "outputElement2.innerHTML = `\n",
    "  <p><strong>Concatenation:</strong></p>\n",
    "  <p>First name and Last Name: ${firstName + \" \" + lastName}</p>\n",
    "  <p>${\"-\".repeat(50)}</p>\n",
    "  \n",
    "  <p><strong>Repetition:</strong></p>\n",
    "  <p>${laugh.repeat(4)}</p>\n",
    "  <p>${\"-\".repeat(50)}</p>\n",
    "  \n",
    "  <p><strong>Indexing:</strong></p>\n",
    "  <p>${fruit.slice(0, 5)}</p>\n",
    "  <p>${\"-\".repeat(50)}</p>\n",
    "  \n",
    "  <p><strong>Length of String:</strong></p>\n",
    "  <p>${firstName.length}</p>\n",
    "  <p>${\"-\".repeat(50)}</p>\n",
    "  \n",
    "  <p><strong>Changing Letter Format:</strong></p>\n",
    "  <p>${firstName.toUpperCase()}</p>\n",
    "  <p>${firstName[0].toUpperCase() + firstName.slice(1).toLowerCase()}</p>\n",
    "  <p>${\"-\".repeat(50)}</p>\n",
    "  \n",
    "  <p><strong>Removing whitespace:</strong></p>\n",
    "  <p>${fruitWithSpace.trim()}</p>\n",
    "`;\n",
    "</script>"
   ]
  }
 ],
 "metadata": {
  "kernelspec": {
   "display_name": "venv",
   "language": "python",
   "name": "python3"
  },
  "language_info": {
   "codemirror_mode": {
    "name": "ipython",
    "version": 3
   },
   "file_extension": ".py",
   "mimetype": "text/x-python",
   "name": "python",
   "nbconvert_exporter": "python",
   "pygments_lexer": "ipython3",
   "version": "3.12.5 (main, Aug  6 2024, 19:08:49) [Clang 15.0.0 (clang-1500.1.0.2.5)]"
  },
  "vscode": {
   "interpreter": {
    "hash": "72756fa0984efdc44fb8517b692d10defb2e78cf8a4e51ca5670a6eeef22a31e"
   }
  }
 },
 "nbformat": 4,
 "nbformat_minor": 2
}
