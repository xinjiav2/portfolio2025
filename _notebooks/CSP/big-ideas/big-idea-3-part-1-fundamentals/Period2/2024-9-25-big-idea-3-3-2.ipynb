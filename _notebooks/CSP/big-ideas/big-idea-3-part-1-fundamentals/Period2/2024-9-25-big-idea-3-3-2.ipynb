{
 "cells": [
  {
   "cell_type": "raw",
   "metadata": {
    "vscode": {
     "languageId": "raw"
    }
   },
   "source": [
    "---\n",
    "toc: false\n",
    "comments: true\n",
    "layout: post\n",
    "title: 3.3.2 Mathematical Expressions (P2)\n",
    "description: Student led teaching on  Mathematical Expressions. Learn how mathematical expressions involve using arithmetic operators (like addition, subtraction, multiplication, and division) to perform calculations\n",
    "permalink: /csp/big-idea/p2/3-3-2\n",
    "categories: [CSP Big Ideas]\n",
    "author: Ethan, Manas, Lalita, Shriya\n",
    "menu: nav/csp_units/csp_unit3_p2_fundamentals.html\n",
    "---"
   ]
  },
  {
   "cell_type": "markdown",
   "metadata": {},
   "source": [
    "## 3.3 Continued - Mathematical Operations\n",
    "- Addition: a + b\n",
    "- Subtraction: a - b\n",
    "- Multiplication: a * b\n",
    "- Division: a / b\n",
    "- Modulus (remainder of a/b): a MOD b\n",
    "- For python it is %\n",
    "- Math in order of operations \n",
    "- MOD is held to the value of multiplication + division in PEMDAS"
   ]
  },
  {
   "cell_type": "code",
   "execution_count": 1,
   "metadata": {},
   "outputs": [
    {
     "name": "stdout",
     "output_type": "stream",
     "text": [
      "22.5\n"
     ]
    }
   ],
   "source": [
    "num1 = 40\n",
    "num2 = num1 / 2 \n",
    "num3 = 6 * num2 + 3 # pemdas --> multiplication then additon\n",
    "result = num2 % 6 * num1 + 4 - num3 / 2 # pemdas --> modulus, then multiplication, then subtraction, then division\n",
    "print (result)"
   ]
  },
  {
   "cell_type": "markdown",
   "metadata": {},
   "source": [
    "## Example #2\n",
    "What will the code below print?"
   ]
  },
  {
   "cell_type": "code",
   "execution_count": null,
   "metadata": {},
   "outputs": [],
   "source": [
    "numb1 = 40\n",
    "numb2 = numb1 /4 \n",
    "numb3 = numb2 * 10 + 3\n",
    "print(numb3)"
   ]
  },
  {
   "cell_type": "markdown",
   "metadata": {},
   "source": [
    "<style>\n",
    "    article {\n",
    "        background-color: #000000 !important; /* Black background */\n",
    "        border: 3px solid #1a1a2e !important; /* Dark blue border */\n",
    "        padding: 25px !important;\n",
    "        border-radius: 50px !important;\n",
    "    }\n",
    "    article h1 {\n",
    "        color: #ffffff !important; /* White header */\n",
    "    }\n",
    "    article h2, h3, h4, p {\n",
    "        color: #ffffff !important; /* White text */\n",
    "    }\n",
    "    article ul, ol, li {\n",
    "        background-color: #1a1a2e !important; /* Dark blue for lists */\n",
    "        border-left: 5px solid #1f4068 !important; /* Slightly lighter blue list border */\n",
    "        color: #ffffff !important; /* White list text */\n",
    "        padding: 12px 25px !important;\n",
    "        margin: 12px 0 !important;\n",
    "        border-radius: 50px !important;\n",
    "    }\n",
    "    article .center-text {\n",
    "        text-align: center !important;\n",
    "    }\n",
    "    article summary {\n",
    "        color: #ffffff !important; /* White summary */\n",
    "    }\n",
    "    article code {\n",
    "        color: #ffffff !important; /* White code text */\n",
    "        background-color: #1f4068 !important; /* Dark blue background */\n",
    "        padding: 3px 6px !important;\n",
    "        border-radius: 50px !important;\n",
    "    }\n",
    "</style>\n"
   ]
  }
 ],
 "metadata": {
  "kernelspec": {
   "display_name": "Python 3",
   "language": "python",
   "name": "python3"
  },
  "language_info": {
   "codemirror_mode": {
    "name": "ipython",
    "version": 3
   },
   "file_extension": ".py",
   "mimetype": "text/x-python",
   "name": "python",
   "nbconvert_exporter": "python",
   "pygments_lexer": "ipython3",
   "version": "3.12.5"
  }
 },
 "nbformat": 4,
 "nbformat_minor": 2
}
