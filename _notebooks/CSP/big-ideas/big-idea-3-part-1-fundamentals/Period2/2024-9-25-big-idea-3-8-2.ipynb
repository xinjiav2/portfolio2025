{
 "cells": [
  {
   "cell_type": "raw",
   "metadata": {
    "vscode": {
     "languageId": "raw"
    }
   },
   "source": [
    "---\n",
    "toc: false\n",
    "comments: true\n",
    "layout: post\n",
    "title: 3.8.2 While, Do-While (P2)\n",
    "description: Student led teaching on Iteration. Learn how to do loops with Java and Python.\n",
    "permalink: /csp/big-idea/p2/3-8-2\n",
    "categories: [CSP Big Ideas]\n",
    "author:  Mirabelle Anderson\n",
    "menu: nav/csp_units/csp_unit3_p2_fundamentals.html\n",
    "---"
   ]
  },
  {
   "cell_type": "markdown",
   "metadata": {
    "vscode": {
     "languageId": "raw"
    }
   },
   "source": [
    "<span style=\"color: pink; font-size: 40px; font-family: 'Times New Roman';\"> While Loops </span> <br>\n",
    "A while loop is a control flow statement that repeatedly executes a block of code as long as a specified condition is true. \n",
    "The loop will continue to execute until the condition becomes false, at which point the loop terminates.\n",
    "\n",
    "A working while loop has three key components: <br>\n",
    "- Initialization of the loop control variable <br>\n",
    "- Actions or operations performed within the loop <br>\n",
    "- Update of the loop control variable to eventually meet the termination condition <br>\n",
    "\n",
    "The loop evaluates the condition before each iteration, so if the condition is false at the start, the loop's body may never execute."
   ]
  },
  {
   "cell_type": "markdown",
   "metadata": {},
   "source": [
    "<span style=\"color: pink; font-size: 35px; font-family: 'Times New Roman';\"> While Loop Using Python </span>"
   ]
  },
  {
   "cell_type": "code",
   "execution_count": 16,
   "metadata": {},
   "outputs": [
    {
     "name": "stdout",
     "output_type": "stream",
     "text": [
      "Number is: 1\n",
      "Number is: 2\n",
      "Number is: 3\n",
      "Number is: 4\n",
      "Number is: 5\n"
     ]
    }
   ],
   "source": [
    "# Initialize the control variable\n",
    "number = 1\n",
    "\n",
    "# While loop that runs as long as the counter is less than or equal to 5\n",
    "while number <= 5:\n",
    "    print(\"Number is:\", number)\n",
    "    \n",
    "    # Update the control variable (increment by 1)\n",
    "    number += 1\n"
   ]
  },
  {
   "cell_type": "markdown",
   "metadata": {},
   "source": [
    "<span style=\"color: pink; font-size: 35px; font-family: 'Times New Roman';\"> While Loop Using Javascript </span>"
   ]
  },
  {
   "cell_type": "code",
   "execution_count": 39,
   "metadata": {
    "vscode": {
     "languageId": "javascript"
    }
   },
   "outputs": [
    {
     "data": {
      "application/javascript": "let i = 10;  // Initialize a variable\n\nwhile (i >= 0) {  // Condition: loop runs as long as i is greater than or equal to 0\n    console.log(\"Countdown: \" + i);  // Output the current value of i\n    i--;  // Decrement the value of i\n}\n\nconsole.log(\"Liftoff!\");  // Message after the loop completes\n",
      "text/plain": [
       "<IPython.core.display.Javascript object>"
      ]
     },
     "metadata": {},
     "output_type": "display_data"
    }
   ],
   "source": [
    "%%js\n",
    "let i = 10;  // Initialize a variable\n",
    "\n",
    "while (i >= 0) {  // Condition: loop runs as long as i is greater than or equal to 0\n",
    "    console.log(\"Countdown: \" + i);  // Output the current value of i\n",
    "    i--;  // Decrement the value of i\n",
    "}\n",
    "\n",
    "console.log(\"Liftoff!\");  // Message after the loop completes\n"
   ]
  },
  {
   "cell_type": "markdown",
   "metadata": {},
   "source": [
    " <span style=\"color: pink; font-size: 35px; font-family: 'Times New Roman';\"> While Loop Popcorn Hack #1 (Uses Javascript) </span>\n",
    "\n",
    "- Generates and prints all even numbers between 1 and 20.<br>\n",
    "- It's a handy loop for quick number generation with minimal effort."
   ]
  },
  {
   "cell_type": "code",
   "execution_count": 2,
   "metadata": {
    "vscode": {
     "languageId": "javascript"
    }
   },
   "outputs": [
    {
     "name": "stdout",
     "output_type": "stream",
     "text": [
      "2\n",
      "4\n",
      "6\n",
      "8\n",
      "10\n",
      "12\n",
      "14\n",
      "16\n",
      "18\n",
      "20\n"
     ]
    }
   ],
   "source": [
    "number = 1\n",
    "\n",
    "while number <= 20:\n",
    "    if number % 2 == 0:\n",
    "        print(number)\n",
    "    number += 1"
   ]
  },
  {
   "cell_type": "markdown",
   "metadata": {
    "vscode": {
     "languageId": "raw"
    }
   },
   "source": [
    "<span style=\"color: pink; font-size: 40px; font-family: 'Times New Roman';\"> Do-While Loops</span> <br>\n",
    "A control flow statement that executes a block of code at least once. It will continue to execute \n",
    "the block repeatedly, or stop, depending on a true/false condition evaluated at the end.\n",
    "\n",
    "A working loop has three key components:<br>\n",
    "- Actions or operations performed within the loop<br>\n",
    "- Update of the loop control variable (flag)<br>\n",
    "- Test expression to determine whether the loop continues or terminates\n"
   ]
  },
  {
   "cell_type": "markdown",
   "metadata": {},
   "source": [
    "<span style=\"color: pink; font-size: 35px; font-family: 'Times New Roman';\"> Do-While Loop Using Python </span>"
   ]
  },
  {
   "cell_type": "code",
   "execution_count": 42,
   "metadata": {},
   "outputs": [
    {
     "name": "stdout",
     "output_type": "stream",
     "text": [
      "The count is: 0\n",
      "The count is: 1\n",
      "The count is: 2\n",
      "The count is: 3\n",
      "The count is: 4\n"
     ]
    }
   ],
   "source": [
    "# Initialize a variable\n",
    "count = 0\n",
    "\n",
    "while True:  # Infinite loop to mimic 'do'\n",
    "    print(\"The count is:\", count)\n",
    "    count += 1  # Increment the count\n",
    "    \n",
    "    # Check condition at the end (like in a do-while loop)\n",
    "    if count >= 5:\n",
    "        break  # Exit the loop when the condition is met\n"
   ]
  },
  {
   "cell_type": "markdown",
   "metadata": {},
   "source": [
    "<span style=\"color: pink; font-size: 35px; font-family: 'Times New Roman';\"> Do-While Loop Using Javascript </span>"
   ]
  },
  {
   "cell_type": "code",
   "execution_count": 1,
   "metadata": {},
   "outputs": [
    {
     "data": {
      "application/javascript": "\nlet count = 0;\n\ndo {\n    console.log(\"The count is: \" + count);\n    count++;  // Increment the count\n} while (count < 5);\n\nconsole.log(\"Loop is done.\");\n",
      "text/plain": [
       "<IPython.core.display.Javascript object>"
      ]
     },
     "metadata": {},
     "output_type": "display_data"
    }
   ],
   "source": [
    "%%js\n",
    "\n",
    "let count = 0;\n",
    "\n",
    "do {\n",
    "    console.log(\"The count is: \" + count);\n",
    "    count++;  // Increment the count\n",
    "} while (count < 5);\n",
    "\n",
    "console.log(\"Loop is done.\");\n"
   ]
  },
  {
   "cell_type": "markdown",
   "metadata": {},
   "source": [
    "<span style=\"color: pink; font-size: 35px; font-family: 'Times New Roman';\"> Do-While Popcorn Hack #2 (Uses Python) </span>\n",
    "\n",
    "- Simulates flipping a coin until it lands on \"heads\" using random generation.<br>\n",
    "- It’s a simple hack to simulate random events."
   ]
  },
  {
   "cell_type": "code",
   "execution_count": 2,
   "metadata": {},
   "outputs": [
    {
     "name": "stdout",
     "output_type": "stream",
     "text": [
      "Flipped: tails\n",
      "Flipped: tails\n",
      "Flipped: tails\n",
      "Flipped: tails\n",
      "Flipped: heads\n",
      "Landed on heads!\n"
     ]
    }
   ],
   "source": [
    "import random\n",
    "\n",
    "flip = \"\"\n",
    "\n",
    "while flip != \"heads\":\n",
    "    flip = random.choice([\"heads\", \"tails\"])\n",
    "    print(f\"Flipped: {flip}\")\n",
    "\n",
    "print(\"Landed on heads!\")"
   ]
  },
  {
   "cell_type": "markdown",
   "metadata": {},
   "source": [
    "<span style=\"color: pink; font-size: 35px; font-family: 'Times New Roman';\"> Homework Assignment: Advanced while and do-while Loop Practice </span>\n",
    "\n",
    "##### **Task 1: FizzBuzz with a Twist (while loop)**\n",
    "\n",
    "Objective: Create a modified version of the classic FizzBuzz game using a while loop.\n",
    "\n",
    "Print numbers from 1 to 50.<br>\n",
    "For multiples of 3, print \"Fizz\" instead of the number.<br>\n",
    "For multiples of 5, print \"Buzz\" instead of the number.<br>\n",
    "For numbers divisible by both 3 and 5, print \"FizzBuzz\".<br>\n",
    "Add a twist: for multiples of 7, print \"Boom\".<br>\n",
    "\n",
    "**Challenge:** Change the range to numbers between 50 and 100 and modify the conditions to fit this new range (e.g., multiples of 4 instead of 3).\n",
    "\n",
    "##### **Task 2: User Authentication System (do-while loop)**\n",
    "\n",
    "Objective: Simulate a basic user login system with a do-while loop.\n",
    "\n",
    "The user has 3 attempts to enter the correct username and password.<br>\n",
    "After each failed attempt, display how many attempts are left.<br>\n",
    "After 3 failed attempts, display a message saying the account is locked.<br>\n",
    "Use a do-while loop to handle the login process, prompting the user for their credentials until they either succeed or run out of attempts.<br>\n",
    "\n",
    "**Challenge:** Add functionality to \"reset\" the password if the user runs out of attempts, prompting for a security question."
   ]
  },
  {
   "cell_type": "markdown",
   "metadata": {},
   "source": [
    "<span style=\"color: pink; font-size: 30px; font-family: 'Times New Roman';\"> Reflection: Loop Efficiency </span> <br>\n",
    "For a reflection, consider loop efficiency:\n",
    "\n",
    "**When would it be better to use a while loop instead of a do-while loop, and vice versa?**"
   ]
  }
 ],
 "metadata": {
  "kernelspec": {
   "display_name": "venv",
   "language": "python",
   "name": "python3"
  },
  "language_info": {
   "codemirror_mode": {
    "name": "ipython",
    "version": 3
   },
   "file_extension": ".py",
   "mimetype": "text/x-python",
   "name": "python",
   "nbconvert_exporter": "python",
   "pygments_lexer": "ipython3",
   "version": "3.12.3"
  }
 },
 "nbformat": 4,
 "nbformat_minor": 2
}
