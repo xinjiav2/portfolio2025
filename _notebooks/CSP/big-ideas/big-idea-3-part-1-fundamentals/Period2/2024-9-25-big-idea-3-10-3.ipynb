{
 "cells": [
  {
   "cell_type": "raw",
   "metadata": {},
   "source": [
    "---\n",
    "toc: false\n",
    "comments: true\n",
    "layout: post\n",
    "title: 3.10.3 List Functions\n",
    "description: Student led teaching on Lists. Learn how storage and manipulation of multiple items using indexing to access individual elements.\n",
    "permalink: /csp/big-idea/p2/3-10-3\n",
    "categories: [CSP Big Ideas]\n",
    "author: Darsh\n",
    "menu: nav/csp_units/csp_unit3_p2_fundamentals.html\n",
    "---"
   ]
  },
  {
   "cell_type": "markdown",
   "metadata": {
    "vscode": {
     "languageId": "plaintext"
    }
   },
   "source": [
    "<span style=\"color: #4A7C2E; font-size: 24px; font-weight: bold;\"> Find Max and Min Numbers in a List</span>\n",
    "\n",
    "<span style=\"color: #4A7C2E;\">This Python code defines a function to find the maximum and minimum numbers in a list.</span>\n",
    "\n",
    "<ol style=\"color: #3D6B3A;\">\n",
    "<li><strong>Function</strong>: <code>find_max_min(numbers)</code> takes a list and returns the max and min values.</li>\n",
    "<li><strong>Empty List Check</strong>: Returns <code>(None, None)</code> if the list is empty.</li>\n",
    "<li><strong>Initialization</strong>: Sets <code>max_num</code> and <code>min_num</code> to the first element.</li>\n",
    "<li><strong>Iteration</strong>: Loops through the list to update <code>max_num</code> and <code>min_num</code>.</li>\n",
    "<li><strong>Example Usage</strong>:</li>\n",
    "</ol>\n",
    "\n",
    "<span style=\"color: #4A7C2E; font-size: 18px; font-weight: bold;\"> Example Code:</span>\n",
    "\n",
    "<pre style=\"background-color: #4E3B31; color: white; padding: 10px; border-radius: 5px;\">\n",
    "<span style=\"color: #D9B68C;\">def find_max_min(numbers):</span>\n",
    "    <span style=\"color: #D9B68C;\"># Check for empty list</span>\n",
    "    <span style=\"color: #388E3C;\">if not numbers:</span>\n",
    "        <span style=\"color: #388E3C;\">return (None, None)</span>\n",
    "    \n",
    "    max_num = min_num = numbers[0]  <span style=\"color: #D9B68C;\"># Initialization</span>\n",
    "    \n",
    "    <span style=\"color: #D9B68C;\"># Iterate through the list</span>\n",
    "    <span style=\"color: #388E3C;\">for num in numbers:</span>\n",
    "        <span style=\"color: #388E3C;\">if num > max_num:</span>\n",
    "            max_num = num\n",
    "        <span style=\"color: #388E3C;\">if num < min_num:</span>\n",
    "            min_num = num\n",
    "            \n",
    "    <span style=\"color: #D9B68C;\"># Return the max and min values</span>\n",
    "    <span style=\"color: #388E3C;\">return max_num, min_num</span>\n",
    "\n",
    "<span style=\"color: #D9B68C;\"># Example usage</span>\n",
    "numbers = [3, 1, 4, 1, 5, 9]\n",
    "max_num, min_num = find_max_min(numbers)\n",
    "print(f\"\\033[92mMax: {max_num}, Min: {min_num}\\033[0m\")  <span style=\"color: #D9B68C;\"># Bright green for output</span>\n",
    "</pre>\n"
   ]
  },
  {
   "cell_type": "code",
   "execution_count": 3,
   "metadata": {},
   "outputs": [
    {
     "name": "stdout",
     "output_type": "stream",
     "text": [
      "Maximum number: 9\n",
      "Minimum number: 1\n"
     ]
    }
   ],
   "source": [
    "def find_max_min(numbers):\n",
    "    if not numbers:\n",
    "        return None, None  # <span style=\"color: #D9B68C;\">Return None if the list is empty</span>\n",
    "    \n",
    "    max_num = numbers[0]  # <span style=\"color: #D9B68C;\">Start with the first number as the max</span>\n",
    "    min_num = numbers[0]  # <span style=\"color: #D9B68C;\">Start with the first number as the min</span>\n",
    "    \n",
    "    for num in numbers:\n",
    "        if num > max_num:\n",
    "            max_num = num  # <span style=\"color: #D9B68C;\">Update max if a larger number is found</span>\n",
    "        if num < min_num:\n",
    "            min_num = num  # <span style=\"color: #D9B68C;\">Update min if a smaller number is found</span>\n",
    "            \n",
    "    return max_num, min_num  # <span style=\"color: #D9B68C;\">Return the found max and min</span>\n",
    "\n",
    "# Example usage\n",
    "numbers = [3, 1, 4, 1, 5, 9, 2, 6, 5, 3, 5]\n",
    "max_num, min_num = find_max_min(numbers)\n",
    "\n",
    "print(f\"Maximum number: {max_num}\")\n",
    "print(f\"Minimum number: {min_num}\")\n",
    "\n"
   ]
  },
  {
   "cell_type": "markdown",
   "metadata": {},
   "source": [
    "<span style=\"color: #4A7C2E; font-size: 24px; font-weight: bold;\"> Iteration Through Loops in Python</span>\n",
    "\n",
    "<span style=\"color: #4A7C2E;\">This code demonstrates how to iterate through a list using both a <code>for</code> loop and a <code>while</code> loop.</span>\n",
    "\n",
    "<ol style=\"color: #3D6B3A;\">\n",
    "<li><strong>For Loop</strong>: Iterates through each element in a list.</li>\n",
    "<li><strong>While Loop</strong>: Continues until a condition is no longer met.</li>\n",
    "</ol>\n",
    "\n",
    "<span style=\"color: #4A7C2E; font-size: 18px; font-weight: bold;\">Example Code:</span>\n",
    "\n",
    "<pre style=\"background-color: #4E3B31; color: white; padding: 10px; border-radius: 5px;\">\n",
    "<span style=\"color: #D9B68C;\"># List of numbers</span>\n",
    "numbers = [1, 2, 3, 4, 5]\n",
    "\n",
    "<span style=\"color: #D9B68C;\"># Using a for loop</span>\n",
    "print(<span style=\"color: #E64A19;\">\"Using a for loop:\"</span>)\n",
    "for num in numbers:\n",
    "    print(num)\n",
    "\n",
    "<span style=\"color: #D9B68C;\"># Using a while loop</span>\n",
    "print(<span style=\"color: #E64A19;\">\"\\nUsing a while loop:\"</span>)\n",
    "index = 0\n",
    "while index < len(numbers):\n",
    "    print(numbers[index])\n",
    "    index += 1\n",
    "</pre>\n"
   ]
  },
  {
   "cell_type": "code",
   "execution_count": 11,
   "metadata": {},
   "outputs": [
    {
     "name": "stdout",
     "output_type": "stream",
     "text": [
      "Using a for loop:\n",
      "1\n",
      "2\n",
      "3\n",
      "4\n",
      "5\n",
      "\n",
      "Using a while loop:\n",
      "1\n",
      "2\n",
      "3\n",
      "4\n",
      "5\n"
     ]
    }
   ],
   "source": [
    "# List of numbers\n",
    "numbers = [1, 2, 3, 4, 5]\n",
    "\n",
    "# Using a for loop\n",
    "print(\"Using a for loop:\")\n",
    "for num in numbers:\n",
    "    print(num)\n",
    "\n",
    "# Using a while loop\n",
    "print(\"\\nUsing a while loop:\")\n",
    "index = 0\n",
    "while index < len(numbers):\n",
    "    print(numbers[index])\n",
    "    index += 1\n"
   ]
  },
  {
   "cell_type": "markdown",
   "metadata": {},
   "source": [
    "Another Example"
   ]
  },
  {
   "cell_type": "code",
   "execution_count": 12,
   "metadata": {},
   "outputs": [
    {
     "name": "stdout",
     "output_type": "stream",
     "text": [
      "Using a for loop:\n",
      "apple\n",
      "banana\n",
      "cherry\n",
      "date\n",
      "elderberry\n",
      "\n",
      "Using a while loop:\n",
      "apple\n",
      "banana\n",
      "cherry\n",
      "date\n",
      "elderberry\n"
     ]
    }
   ],
   "source": [
    "# List of fruits\n",
    "fruits = [\"apple\", \"banana\", \"cherry\", \"date\", \"elderberry\"]\n",
    "\n",
    "# Using a for loop\n",
    "print(\"Using a for loop:\")\n",
    "for fruit in fruits:\n",
    "    print(fruit)\n",
    "\n",
    "# Using a while loop\n",
    "print(\"\\nUsing a while loop:\")\n",
    "index = 0\n",
    "while index < len(fruits):\n",
    "    print(fruits[index])\n",
    "    index += 1\n",
    "\n",
    "    \n"
   ]
  },
  {
   "cell_type": "markdown",
   "metadata": {},
   "source": [
    "<span style=\"color: #4A7C2E; font-size: 24px; font-weight: bold;\">And here is a cool Rock, Paper, Scissors Game hat uses iterations through the lists by using loops to find the right number.</span> \n",
    "\n"
   ]
  },
  {
   "cell_type": "code",
   "execution_count": 4,
   "metadata": {},
   "outputs": [
    {
     "data": {
      "text/html": [
       "\n",
       "    <div style=\"background-color: #4E3B31; color: #D9B68C; padding: 10px; border-radius: 5px; font-size: 14px;\">\n",
       "        <p>You chose: <strong style=\"color: #4A7C2E;\">rock</strong></p>\n",
       "        <p>Computer chose: <strong style=\"color: #4A7C2E;\">paper</strong></p>\n",
       "        <p>Computer wins!</p>\n",
       "    </div>\n",
       "    "
      ],
      "text/plain": [
       "<IPython.core.display.HTML object>"
      ]
     },
     "metadata": {},
     "output_type": "display_data"
    }
   ],
   "source": [
    "import random\n",
    "import ipywidgets as widgets\n",
    "from IPython.display import display, clear_output, HTML\n",
    "\n",
    "# Game choices\n",
    "choices = [\"rock\", \"paper\", \"scissors\"]\n",
    "\n",
    "# Function to determine the winner\n",
    "def determine_winner(player, computer):\n",
    "    if player == computer:\n",
    "        return \"It's a tie!\"\n",
    "    elif (player == \"rock\" and computer == \"scissors\") or \\\n",
    "         (player == \"paper\" and computer == \"rock\") or \\\n",
    "         (player == \"scissors\" and computer == \"paper\"):\n",
    "        return \"You win!\"\n",
    "    else:\n",
    "        return \"Computer wins!\"\n",
    "\n",
    "# Function to handle button clicks\n",
    "def on_button_click(choice):\n",
    "    computer_choice = random.choice(choices)\n",
    "    result = determine_winner(choice, computer_choice)\n",
    "    \n",
    "    # Clear previous output\n",
    "    clear_output(wait=True)\n",
    "    \n",
    "    # Display choices and result with earthy theme\n",
    "    output_html = f\"\"\"\n",
    "    <div style=\"background-color: #4E3B31; color: #D9B68C; padding: 10px; border-radius: 5px; font-size: 14px;\">\n",
    "        <p>You chose: <strong style=\"color: #4A7C2E;\">{choice}</strong></p>\n",
    "        <p>Computer chose: <strong style=\"color: #4A7C2E;\">{computer_choice}</strong></p>\n",
    "        <p>{result}</p>\n",
    "    </div>\n",
    "    \"\"\"\n",
    "    \n",
    "    display(HTML(output_html))\n",
    "\n",
    "# Create buttons for each choice\n",
    "buttons = {choice: widgets.Button(description=choice.capitalize()) for choice in choices}\n",
    "\n",
    "# Set up the button click event\n",
    "for choice, button in buttons.items():\n",
    "    button.on_click(lambda b, choice=choice: on_button_click(choice))\n",
    "\n",
    "# Display buttons\n",
    "display(*buttons.values())\n"
   ]
  },
  {
   "cell_type": "markdown",
   "metadata": {},
   "source": [
    "<span style=\"color: #4A7C2E; font-size: 28px; font-weight: bold;\"> Homework</span>\n"
   ]
  },
  {
   "cell_type": "markdown",
   "metadata": {},
   "source": [
    "<span style=\"color: green;\">Create a list of your favorite hobbies and use loops to run through each hobby. Here is a code starter to get your thoughts going.</span>\n",
    "\n",
    "\n"
   ]
  },
  {
   "cell_type": "code",
   "execution_count": 5,
   "metadata": {},
   "outputs": [],
   "source": [
    "hobbies = [\"Reading\", \"Hiking\", \"Cooking\", \"Gaming\", \"Photography\"]"
   ]
  }
 ],
 "metadata": {
  "kernelspec": {
   "display_name": "venv",
   "language": "python",
   "name": "python3"
  },
  "language_info": {
   "codemirror_mode": {
    "name": "ipython",
    "version": 3
   },
   "file_extension": ".py",
   "mimetype": "text/x-python",
   "name": "python",
   "nbconvert_exporter": "python",
   "pygments_lexer": "ipython3",
   "version": "3.12.3"
  }
 },
 "nbformat": 4,
 "nbformat_minor": 2
}
