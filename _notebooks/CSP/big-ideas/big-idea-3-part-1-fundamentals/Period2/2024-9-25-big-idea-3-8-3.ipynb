{
 "cells": [
  {
   "cell_type": "raw",
   "metadata": {
    "vscode": {
     "languageId": "raw"
    }
   },
   "source": [
    "---\n",
    "toc: false\n",
    "comments: true\n",
    "layout: post\n",
    "title: 3.8.3 Index Loops\n",
    "description: Student led teaching on Iteration. Learn how to do loops with Java and Python.\n",
    "permalink: /csp/big-idea/p2/3-8-3\n",
    "categories: [CSP Big Ideas]\n",
    "author:  Alejandro Rubio\n",
    "menu: nav/csp_units/csp_unit3_p2_fundamentals.html\n",
    "---"
   ]
  },
  {
   "cell_type": "markdown",
   "metadata": {},
   "source": [
    "<span style=\"color: pink; font-size: 30px; font-family: 'Times New Roman';\"> **What is an \"Index Loop\"?** </span>\n",
    "\n",
    "<span style=\"color: pink; font-size: 25px; font-family: 'Times New Roman';\"> Index Loop </span>\n",
    "\n",
    "An **index loop** iterates, repeats through elements in a collection sequentially, over elements of a sequence while tracking their **index** (position). This is useful when both the **value** and its **position** are needed.\n",
    "\n",
    "In Python, the `enumerate()` function creates an index loop, providing both the index and the element.\n",
    "\n",
    "- **Access elements** alongside their index\n",
    "- **Perform operations** based on an element's position\n",
    "\n",
    "**Example**: You can display both the index and the item in a list using an index loop.\n",
    "\n",
    "\n",
    "<span style=\"color: pink; font-size: 25px; font-family: 'Times New Roman';\">  Python Index Loop </span>"
   ]
  },
  {
   "cell_type": "code",
   "execution_count": 9,
   "metadata": {},
   "outputs": [
    {
     "name": "stdout",
     "output_type": "stream",
     "text": [
      "Index 0: Item 1\n",
      "Index 1: Item 2\n",
      "Index 2: Item 3\n",
      "Index 3: Item 4\n",
      "Index 4: Item 5\n"
     ]
    }
   ],
   "source": [
    "# List of items\n",
    "items = [\"Item 1\", \"Item 2\", \"Item 3\", \"Item 4\", \"Item 5\"]\n",
    "\n",
    "# Loop through the items list and print each item with its index\n",
    "for index, item in enumerate(items):\n",
    "    print(f\"Index {index}: {item}\")\n"
   ]
  },
  {
   "cell_type": "markdown",
   "metadata": {},
   "source": [
    "<span style=\"color: pink; font-size: 30px; font-family: 'Times New Roman';\"> Javascript Index loop </span>"
   ]
  },
  {
   "cell_type": "code",
   "execution_count": 10,
   "metadata": {
    "vscode": {
     "languageId": "javascript"
    }
   },
   "outputs": [
    {
     "data": {
      "application/javascript": "\nconst items = [\"Item 1\", \"Item 2\", \"Item 3\", \"Item 4\", \"Item 5\"];\n\nitems.forEach((item, index) => {\n    console.log(`Index ${index}: ${item}`);\n});\n",
      "text/plain": [
       "<IPython.core.display.Javascript object>"
      ]
     },
     "metadata": {},
     "output_type": "display_data"
    }
   ],
   "source": [
    "%%javascript\n",
    "\n",
    "const items = [\"Item 1\", \"Item 2\", \"Item 3\", \"Item 4\", \"Item 5\"];\n",
    "\n",
    "items.forEach((item, index) => {\n",
    "    console.log(`Index ${index}: ${item}`);\n",
    "});\n"
   ]
  },
  {
   "cell_type": "markdown",
   "metadata": {},
   "source": [
    "<span style=\"color: pink; font-size: 30px; font-family: 'Times New Roman';\">  Python Popcorn Hack </span>\n",
    "\n",
    "\n",
    "\n",
    "\n",
    "\n"
   ]
  },
  {
   "cell_type": "code",
   "execution_count": 1,
   "metadata": {},
   "outputs": [
    {
     "name": "stdout",
     "output_type": "stream",
     "text": [
      "Your To-Do List:\n",
      "1. Finish homework\n",
      "2. Clean the room\n",
      "3. Go grocery shopping\n",
      "4. Read a book\n",
      "5. Exercise\n"
     ]
    }
   ],
   "source": [
    "# List of tasks\n",
    "tasks = [\n",
    "    \"Finish homework\",\n",
    "    \"Clean the room\",\n",
    "    \"Go grocery shopping\",\n",
    "    \"Read a book\",\n",
    "    \"Exercise\"\n",
    "]\n",
    "\n",
    "# Function to display tasks with indices\n",
    "def display_tasks():\n",
    "    print(\"Your To-Do List:\")\n",
    "    for index in range(len(tasks)):\n",
    "        print(f\"{index + 1}. {tasks[index]}\")  # Display task with its index\n",
    "\n",
    "# Call the function\n",
    "display_tasks()\n"
   ]
  },
  {
   "cell_type": "markdown",
   "metadata": {},
   "source": [
    "<span style=\"color: pink; font-size: 30px; font-family: 'Times New Roman';\"> Javascript Popcorn Hack </span>"
   ]
  },
  {
   "cell_type": "code",
   "execution_count": 2,
   "metadata": {
    "vscode": {
     "languageId": "javascript"
    }
   },
   "outputs": [
    {
     "data": {
      "application/javascript": "// List of tasks\nconst tasks = [\n    \"Finish homework\",\n    \"Clean the room\",\n    \"Go grocery shopping\",\n    \"Read a book\",\n    \"Exercise\"\n];\n\n// Function to display tasks with indices\nfunction displayTasks() {\n    console.log(\"Your To-Do List:\");\n    for (let index = 0; index < tasks.length; index++) {\n        console.log(`${index + 1}. ${tasks[index]}`); // Display task with its index\n    }\n}\n\n// Call the function\ndisplayTasks();\n",
      "text/plain": [
       "<IPython.core.display.Javascript object>"
      ]
     },
     "metadata": {},
     "output_type": "display_data"
    }
   ],
   "source": [
    "%%javascript\n",
    "// List of tasks\n",
    "const tasks = [\n",
    "    \"Finish homework\",\n",
    "    \"Clean the room\",\n",
    "    \"Go grocery shopping\",\n",
    "    \"Read a book\",\n",
    "    \"Exercise\"\n",
    "];\n",
    "\n",
    "// Function to display tasks with indices\n",
    "function displayTasks() {\n",
    "    console.log(\"Your To-Do List:\");\n",
    "    for (let index = 0; index < tasks.length; index++) {\n",
    "        console.log(`${index + 1}. ${tasks[index]}`); // Display task with its index\n",
    "    }\n",
    "}\n",
    "\n",
    "// Call the function\n",
    "displayTasks();"
   ]
  },
  {
   "cell_type": "markdown",
   "metadata": {},
   "source": [
    "<span style=\"color: pink; font-size: 25px; font-family: 'Times New Roman';\">  Summary of To-Do List Codes </span>\n",
    "\n",
    "Both the Python and JavaScript codes display a list of tasks with their indices.\n",
    "\n",
    "1. **Task List**: Define a list of tasks.\n",
    "   \n",
    "2. **Display Function**: Create a function that loops through the tasks and prints each one alongside its index.\n",
    "\n",
    "3. **Function Call**: Execute the function to show the list.\n",
    "\n",
    "<span style=\"color: pink; font-size: 25px; font-family: 'Times New Roman';\"> How to Create Your Own </span>\n",
    "\n",
    "To create your own version, follow these steps:\n",
    "\n",
    "1. **Define Your Tasks**: List the tasks you want to include.\n",
    "\n",
    "2. **Create a Display Function**: Write a function that iterates through the tasks and prints them with their indices.\n",
    "\n",
    "3. **Call the Function**: Execute the function to display your tasks.\n",
    "\n",
    "Using this template, you can easily customize your own to-do list!\n"
   ]
  }
 ],
 "metadata": {
  "kernelspec": {
   "display_name": "venv",
   "language": "python",
   "name": "python3"
  },
  "language_info": {
   "codemirror_mode": {
    "name": "ipython",
    "version": 3
   },
   "file_extension": ".py",
   "mimetype": "text/x-python",
   "name": "python",
   "nbconvert_exporter": "python",
   "pygments_lexer": "ipython3",
   "version": "3.12.3"
  }
 },
 "nbformat": 4,
 "nbformat_minor": 2
}
