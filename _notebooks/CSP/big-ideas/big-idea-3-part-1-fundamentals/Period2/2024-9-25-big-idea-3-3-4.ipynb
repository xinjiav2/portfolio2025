{
 "cells": [
  {
   "cell_type": "raw",
   "metadata": {
    "vscode": {
     "languageId": "raw"
    }
   },
   "source": [
    "---\n",
    "toc: false\n",
    "comments: true\n",
    "layout: post\n",
    "title: 3.3.4 Mathematical Expressions (P2)\n",
    "description: Student led teaching on  Mathematical Expressions. Learn how mathematical expressions involve using arithmetic operators (like addition, subtraction, multiplication, and division) to perform calculations\n",
    "permalink: /csp/big-idea/p2/3-3-4\n",
    "categories: [CSP Big Ideas]\n",
    "author: Manas, Shriya, Lalita, Ethan\n",
    "menu: nav/csp_units/csp_unit3_p2_fundamentals.html\n",
    "---"
   ]
  },
  {
   "cell_type": "raw",
   "metadata": {
    "vscode": {
     "languageId": "raw"
    }
   },
   "source": [
    "Challenge: Try to implement more than one algorithm for the Fibonacci sequence"
   ]
  },
  {
   "cell_type": "code",
   "execution_count": 8,
   "metadata": {},
   "outputs": [
    {
     "name": "stderr",
     "output_type": "stream",
     "text": [
      "INFO:Matrix raised to power 3:\n",
      "[[3 2]\n",
      " [2 1]]\n"
     ]
    },
    {
     "name": "stdout",
     "output_type": "stream",
     "text": [
      "Fibonacci number at position 4 is: 3\n"
     ]
    }
   ],
   "source": [
    "#Python: Fibonacci Using Matrix Exponentiation\n",
    "\n",
    "import numpy as np\n",
    "import logging\n",
    "import sys\n",
    "\n",
    "# Configure logging\n",
    "logging.basicConfig(level=logging.INFO, format='%(levelname)s:%(message)s')\n",
    "\n",
    "def matrix_multiply(A, B):\n",
    "    \"\"\"\n",
    "    Perform matrix multiplication between two numpy arrays A and B.\n",
    "    \"\"\"\n",
    "    logging.debug(f\"Multiplying matrices:\\n{A}\\n{B}\")\n",
    "    return np.dot(A, B)\n",
    "\n",
    "def matrix_power(M, power):\n",
    "    \"\"\"\n",
    "    Raise matrix M to the specified power using binary exponentiation.\n",
    "    \"\"\"\n",
    "    if power < 0:\n",
    "        raise ValueError(\"Power must be a non-negative integer.\")\n",
    "    \n",
    "    result = np.identity(len(M), dtype=object)\n",
    "    logging.debug(f\"Initial identity matrix:\\n{result}\")\n",
    "    \n",
    "    while power > 0:\n",
    "        if power % 2 == 1:\n",
    "            result = matrix_multiply(result, M)\n",
    "            logging.debug(f\"Result after multiplying by M:\\n{result}\")\n",
    "        M = matrix_multiply(M, M)\n",
    "        logging.debug(f\"Matrix M squared:\\n{M}\")\n",
    "        power = power // 2\n",
    "        logging.debug(f\"Power reduced to: {power}\")\n",
    "    \n",
    "    return result\n",
    "\n",
    "def fibonacci_matrix(n):\n",
    "    \"\"\"\n",
    "    Calculate the nth Fibonacci number using matrix exponentiation.\n",
    "    \"\"\"\n",
    "    if not isinstance(n, int):\n",
    "        raise TypeError(\"Input must be an integer.\")\n",
    "    if n < 0:\n",
    "        raise ValueError(\"Fibonacci number is not defined for negative integers.\")\n",
    "    elif n == 0:\n",
    "        return 0\n",
    "    elif n == 1:\n",
    "        return 1\n",
    "    \n",
    "    F = np.array([[1, 1],\n",
    "                  [1, 0]], dtype=object)\n",
    "    \n",
    "    result = matrix_power(F, n-1)\n",
    "    \n",
    "    logging.info(f\"Matrix raised to power {n-1}:\\n{result}\")\n",
    "    \n",
    "    return result[0][0]\n",
    "\n",
    "def validate_input(user_input):\n",
    "    \"\"\"\n",
    "    Validate the user input to ensure it's a non-negative integer.\n",
    "    \"\"\"\n",
    "    try:\n",
    "        value = int(user_input)\n",
    "        if value < 0:\n",
    "            raise ValueError\n",
    "        return value\n",
    "    except ValueError:\n",
    "        raise ValueError(\"Please enter a valid non-negative integer.\")\n",
    "\n",
    "def main():\n",
    "    \"\"\"\n",
    "    Main function to execute the Fibonacci calculation.\n",
    "    \"\"\"\n",
    "    try:\n",
    "        user_input = input(\"Enter the position of the Fibonacci number you want to calculate: \")\n",
    "        n = validate_input(user_input)\n",
    "        fib_n = fibonacci_matrix(n)\n",
    "        print(f\"Fibonacci number at position {n} is: {fib_n}\")\n",
    "    except ValueError as ve:\n",
    "        logging.error(ve)\n",
    "    except Exception as e:\n",
    "        logging.error(f\"An unexpected error occurred: {e}\")\n",
    "        sys.exit(1)\n",
    "\n",
    "if __name__ == \"__main__\":\n",
    "    main()\n",
    "\n"
   ]
  },
  {
   "cell_type": "code",
   "execution_count": 2,
   "metadata": {
    "vscode": {
     "languageId": "javascript"
    }
   },
   "outputs": [
    {
     "data": {
      "application/javascript": "\n2. Java: Fibonacci Using Dynamic Programming\n\npublic class FibonacciDP {\n    \n    // Method to calculate Fibonacci using dynamic programming with optimized space\n    public static long fibonacci(int n) {\n        // Base cases for Fibonacci\n        if (n == 0) return 0;\n        if (n == 1) return 1;\n\n        // Variables to store previous two Fibonacci numbers\n        long prev1 = 1, prev2 = 0;\n        long current = 0;\n\n        // Iteratively calculate Fibonacci\n        for (int i = 2; i <= n; i++) {\n            current = prev1 + prev2;\n            prev2 = prev1;\n            prev1 = current;\n        }\n\n        return current;\n    }\n\n    // Efficient matrix exponentiation approach (O(log n))\n    public static long fibonacciMatrix(int n) {\n        if (n == 0) return 0;\n        \n        long[][] F = { { 1, 1 }, { 1, 0 } };\n        power(F, n - 1);\n\n        return F[0][0];\n    }\n\n    // Helper method to perform matrix exponentiation\n    private static void power(long[][] F, int n) {\n        if (n == 0 || n == 1) return;\n\n        long[][] M = { { 1, 1 }, { 1, 0 } };\n\n        power(F, n / 2);\n        multiply(F, F); // Square the matrix\n\n        if (n % 2 != 0) multiply(F, M); // Multiply by M if n is odd\n    }\n\n    // Matrix multiplication helper\n    private static void multiply(long[][] F, long[][] M) {\n        long x = F[0][0] * M[0][0] + F[0][1] * M[1][0];\n        long y = F[0][0] * M[0][1] + F[0][1] * M[1][1];\n        long z = F[1][0] * M[0][0] + F[1][1] * M[1][0];\n        long w = F[1][0] * M[0][1] + F[1][1] * M[1][1];\n\n        F[0][0] = x;\n        F[0][1] = y;\n        F[1][0] = z;\n        F[1][1] = w;\n    }\n\n    public static void main(String[] args) {\n        int n = 50;\n\n        // Using dynamic programming with optimized space\n        System.out.println(\"Fibonacci number at position \" + n + \" using DP is: \" + fibonacci(n));\n\n        // Using matrix exponentiation (O(log n))\n        System.out.println(\"Fibonacci number at position \" + n + \" using Matrix Exponentiation is: \" + fibonacciMatrix(n));\n    }\n}\n",
      "text/plain": [
       "<IPython.core.display.Javascript object>"
      ]
     },
     "metadata": {},
     "output_type": "display_data"
    }
   ],
   "source": [
    "%%javascript\n",
    "\n",
    "2. Java: Fibonacci Using Dynamic Programming\n",
    "\n",
    "public class FibonacciDP {\n",
    "    \n",
    "    // Method to calculate Fibonacci using dynamic programming with optimized space\n",
    "    public static long fibonacci(int n) {\n",
    "        // Base cases for Fibonacci\n",
    "        if (n == 0) return 0;\n",
    "        if (n == 1) return 1;\n",
    "\n",
    "        // Variables to store previous two Fibonacci numbers\n",
    "        long prev1 = 1, prev2 = 0;\n",
    "        long current = 0;\n",
    "\n",
    "        // Iteratively calculate Fibonacci\n",
    "        for (int i = 2; i <= n; i++) {\n",
    "            current = prev1 + prev2;\n",
    "            prev2 = prev1;\n",
    "            prev1 = current;\n",
    "        }\n",
    "\n",
    "        return current;\n",
    "    }\n",
    "\n",
    "    // Efficient matrix exponentiation approach (O(log n))\n",
    "    public static long fibonacciMatrix(int n) {\n",
    "        if (n == 0) return 0;\n",
    "        \n",
    "        long[][] F = { { 1, 1 }, { 1, 0 } };\n",
    "        power(F, n - 1);\n",
    "\n",
    "        return F[0][0];\n",
    "    }\n",
    "\n",
    "    // Helper method to perform matrix exponentiation\n",
    "    private static void power(long[][] F, int n) {\n",
    "        if (n == 0 || n == 1) return;\n",
    "\n",
    "        long[][] M = { { 1, 1 }, { 1, 0 } };\n",
    "\n",
    "        power(F, n / 2);\n",
    "        multiply(F, F); // Square the matrix\n",
    "\n",
    "        if (n % 2 != 0) multiply(F, M); // Multiply by M if n is odd\n",
    "    }\n",
    "\n",
    "    // Matrix multiplication helper\n",
    "    private static void multiply(long[][] F, long[][] M) {\n",
    "        long x = F[0][0] * M[0][0] + F[0][1] * M[1][0];\n",
    "        long y = F[0][0] * M[0][1] + F[0][1] * M[1][1];\n",
    "        long z = F[1][0] * M[0][0] + F[1][1] * M[1][0];\n",
    "        long w = F[1][0] * M[0][1] + F[1][1] * M[1][1];\n",
    "\n",
    "        F[0][0] = x;\n",
    "        F[0][1] = y;\n",
    "        F[1][0] = z;\n",
    "        F[1][1] = w;\n",
    "    }\n",
    "\n",
    "    public static void main(String[] args) {\n",
    "        int n = 50;\n",
    "\n",
    "        // Using dynamic programming with optimized space\n",
    "        System.out.println(\"Fibonacci number at position \" + n + \" using DP is: \" + fibonacci(n));\n",
    "\n",
    "        // Using matrix exponentiation (O(log n))\n",
    "        System.out.println(\"Fibonacci number at position \" + n + \" using Matrix Exponentiation is: \" + fibonacciMatrix(n));\n",
    "    }\n",
    "}\n"
   ]
  },
  {
   "cell_type": "markdown",
   "metadata": {},
   "source": [
    "<style>\n",
    "    article {\n",
    "        background-color: #000000 !important; /* Black background */\n",
    "        border: 3px solid #1a1a2e !important; /* Dark blue border */\n",
    "        padding: 25px !important;\n",
    "        border-radius: 50px !important;\n",
    "    }\n",
    "    article h1 {\n",
    "        color: #ffffff !important; /* White header */\n",
    "    }\n",
    "    article h2, h3, h4, p {\n",
    "        color: #ffffff !important; /* White text */\n",
    "    }\n",
    "    article ul, ol, li {\n",
    "        background-color: #1a1a2e !important; /* Dark blue for lists */\n",
    "        border-left: 5px solid #1f4068 !important; /* Slightly lighter blue list border */\n",
    "        color: #ffffff !important; /* White list text */\n",
    "        padding: 12px 25px !important;\n",
    "        margin: 12px 0 !important;\n",
    "        border-radius: 50px !important;\n",
    "    }\n",
    "    article .center-text {\n",
    "        text-align: center !important;\n",
    "    }\n",
    "    article summary {\n",
    "        color: #ffffff !important; /* White summary */\n",
    "    }\n",
    "    article code {\n",
    "        color: #ffffff !important; /* White code text */\n",
    "        background-color: #1f4068 !important; /* Dark blue background */\n",
    "        padding: 3px 6px !important;\n",
    "        border-radius: 50px !important;\n",
    "    }\n",
    "</style>\n"
   ]
  }
 ],
 "metadata": {
  "kernelspec": {
   "display_name": "Python 3",
   "language": "python",
   "name": "python3"
  },
  "language_info": {
   "codemirror_mode": {
    "name": "ipython",
    "version": 3
   },
   "file_extension": ".py",
   "mimetype": "text/x-python",
   "name": "python",
   "nbconvert_exporter": "python",
   "pygments_lexer": "ipython3",
   "version": "3.12.5"
  }
 },
 "nbformat": 4,
 "nbformat_minor": 2
}
