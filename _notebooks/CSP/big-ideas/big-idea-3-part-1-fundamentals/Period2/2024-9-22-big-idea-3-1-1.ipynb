{
 "cells": [
  {
   "cell_type": "raw",
   "metadata": {
    "vscode": {
     "languageId": "raw"
    }
   },
   "source": [
    "---\n",
    "layout: post\n",
    "title: Python Variables\n",
    "description: Creating a lesson by using Python. \n",
    "categories: [Python, Javascript]\n",
    "permalink: /csp/big-idea/p2/3-1-1\n",
    "menu: nav/csp_units/csp_unit3_p2_fundamentals.html\n",
    "author: Akshaj\n",
    "comments: true\n",
    "---"
   ]
  },
  {
   "cell_type": "markdown",
   "metadata": {},
   "source": [
    "## Big Idea 3.1: Variables and Assignments\n",
    "\n",
    "Learn how variables are used in programs to simplify more complex problems\n",
    "\n",
    "### Lesson \n",
    "\n",
    "1. **Variables**:\n",
    "   - What are variables?\n",
    "\n",
    "2. **Varaible Naming**:\n",
    "   - SnakeCase\n",
    "   - PascalCase\n",
    "   - CamelCase\n",
    "   - Putting it all to together\n",
    "\n",
    "3. **Variable Types**:\n",
    "   - Integers\n",
    "   - Strings\n",
    "   - Boolean\n",
    "   - Float\n",
    "   - Lists\n",
    "   - Dictionaries In Pyhton\n",
    "\n",
    "4. **Operators on string**\n",
    "   - (+)\n",
    "   - (*)"
   ]
  },
  {
   "cell_type": "markdown",
   "metadata": {},
   "source": [
    "## Variables\n",
    "\n",
    "**Variables**\n",
    "\n",
    "Variables ae used to store some kind of data in program that can be referenced elsewhere (Often more than once)"
   ]
  },
  {
   "cell_type": "code",
   "execution_count": 7,
   "metadata": {},
   "outputs": [
    {
     "name": "stdout",
     "output_type": "stream",
     "text": [
      "Akshaj\n",
      "15 years old\n",
      "Akshaj 15 years old\n"
     ]
    }
   ],
   "source": [
    "# Variables\n",
    "\n",
    "name = \"Akshaj\"\n",
    "age = \"15 years old\"\n",
    "Grade = \"10th grade\"\n",
    "\n",
    "print (name)\n",
    "print (age) \n",
    "print (name, age)\n"
   ]
  },
  {
   "cell_type": "markdown",
   "metadata": {},
   "source": [
    "**These variables are used to simplify code. Instead of reapeting the staement 15 years old. Everytime I want to refer to it, I just use the variable \"age\"**"
   ]
  },
  {
   "cell_type": "markdown",
   "metadata": {},
   "source": [
    "## Variable Naming\n",
    "\n",
    "**Variable Naming goes over the different ways people like to name their variables. These are based on personal preferences. But their are 3 common ones used amongst all the coders. This is to prevent any confusion when collaborating**"
   ]
  },
  {
   "cell_type": "markdown",
   "metadata": {},
   "source": [
    "### Snake Case\n",
    "Snake case is when you place an underscore (_) between the the two words in the variable name. This underscore is to replace the space betweent the words"
   ]
  },
  {
   "cell_type": "code",
   "execution_count": 8,
   "metadata": {},
   "outputs": [
    {
     "name": "stdout",
     "output_type": "stream",
     "text": [
      "Arhaan\n",
      "34\n"
     ]
    }
   ],
   "source": [
    "# SnakeCase\n",
    "\n",
    "Scrum_Master = \"Arhaan\"\n",
    "print(Scrum_Master)\n",
    "\n",
    "num_1 = 34\n",
    "print(num_1)"
   ]
  },
  {
   "cell_type": "markdown",
   "metadata": {},
   "source": [
    "### Pascal Case\n",
    "In Pascal Case, The coder capitalizes the first letter of every word in the variable name. There are no spaces between the words"
   ]
  },
  {
   "cell_type": "code",
   "execution_count": 9,
   "metadata": {},
   "outputs": [
    {
     "name": "stdout",
     "output_type": "stream",
     "text": [
      "Arhaan\n",
      "Akshaj\n"
     ]
    }
   ],
   "source": [
    "# PascalCase\n",
    "\n",
    "ScrumMaster = \"Arhaan\"\n",
    "print(ScrumMaster)\n",
    "\n",
    "TeamLeader = \"Akshaj\"\n",
    "print(TeamLeader)"
   ]
  },
  {
   "cell_type": "markdown",
   "metadata": {},
   "source": [
    "### CamelCase\n",
    "**In CamelCase, The coder capitalizes the first letter of the second word of the variable name. This continue onward for every subsequent word**"
   ]
  },
  {
   "cell_type": "code",
   "execution_count": 10,
   "metadata": {},
   "outputs": [
    {
     "name": "stdout",
     "output_type": "stream",
     "text": [
      "Arhaan\n",
      "Akshaj\n"
     ]
    }
   ],
   "source": [
    "# CamelCase\n",
    "scrumMaster = \"Arhaan\"\n",
    "print(scrumMaster)\n",
    "\n",
    "teamLeader = \"Akshaj\"\n",
    "print(teamLeader)"
   ]
  },
  {
   "cell_type": "markdown",
   "metadata": {},
   "source": [
    "### Putting it all together\n",
    "**Even though these are different ways to annotate your variables, they work together to support different purposes in code.\n",
    "\n",
    "### Naming Conventions in Python\n",
    "\n",
    "**snake_case**: Used for variable names, function names, and method names.\n",
    "- Example: my_variable, calculate_sum(), get_user_input().\n",
    "\n",
    "**PascalCase**: Used for class names.\n",
    "- Example: MyClass, UserProfile, DataProcessor.\n",
    "\n",
    "**CAPS_SNAKE_CASE**: Used for constants.\n",
    "- Example: MAX_CONNECTIONS, DEFAULT_TIMEOUT, PI."
   ]
  },
  {
   "cell_type": "code",
   "execution_count": 11,
   "metadata": {},
   "outputs": [
    {
     "name": "stdout",
     "output_type": "stream",
     "text": [
      "Arhaan Akshaj Mihir Unknown\n"
     ]
    }
   ],
   "source": [
    "# Popcorn Hack\n",
    "# Even though all these work, which of these is standard for Python?\n",
    "\n",
    "Scrum_Master = \"Arhaan\"\n",
    "GroupMaster = \"Akshaj\"\n",
    "groupMember = \"Mihir\"\n",
    "unkown_member = \"Unknown\"\n",
    "\n",
    "print (Scrum_Master, GroupMaster, groupMember, unkown_member)"
   ]
  },
  {
   "cell_type": "markdown",
   "metadata": {},
   "source": [
    "## Variable Types"
   ]
  },
  {
   "cell_type": "markdown",
   "metadata": {},
   "source": [
    "### Integers\n",
    "**Integers are when numerical whole numbers, both positive and negative are assigned with a variable name. This variable can be called upon later on**"
   ]
  },
  {
   "cell_type": "code",
   "execution_count": 12,
   "metadata": {},
   "outputs": [
    {
     "name": "stdout",
     "output_type": "stream",
     "text": [
      "45\n",
      "-11\n",
      "0\n"
     ]
    }
   ],
   "source": [
    "# Integers\n",
    "\n",
    "a = 45\n",
    "b = -11\n",
    "c = 0 \n",
    "\n",
    "print(a)\n",
    "print(b)\n",
    "print(c)"
   ]
  },
  {
   "cell_type": "markdown",
   "metadata": {},
   "source": [
    "### Strings\n",
    "**When phrases or sentences are assigned a variable name, that can be called upon later**\n",
    "\n"
   ]
  },
  {
   "cell_type": "code",
   "execution_count": 13,
   "metadata": {},
   "outputs": [
    {
     "name": "stdout",
     "output_type": "stream",
     "text": [
      "Why did the two Java methods get a divorce?\n",
      "Because they had constant arguments.\n"
     ]
    }
   ],
   "source": [
    "# Strings\n",
    "\n",
    "Joke = \"Why did the two Java methods get a divorce?\"\n",
    "Answer = \"Because they had constant arguments.\"\n",
    "\n",
    "print (Joke)\n",
    "print (Answer)"
   ]
  },
  {
   "cell_type": "markdown",
   "metadata": {},
   "source": [
    "### Boolean\n",
    "**Booleans are true or false statements. You state if if the statement is true of false. You assign a result if it's true, also a assigned result if it's false.**"
   ]
  },
  {
   "cell_type": "code",
   "execution_count": 14,
   "metadata": {},
   "outputs": [
    {
     "name": "stdout",
     "output_type": "stream",
     "text": [
      "You are a student.\n"
     ]
    }
   ],
   "source": [
    "# Boolean\n",
    "\n",
    "is_student = True\n",
    "\n",
    "if is_student:\n",
    "    print(\"You are a student.\")\n",
    "else:\n",
    "    print(\"You are not a student.\")\n",
    "\n"
   ]
  },
  {
   "cell_type": "markdown",
   "metadata": {},
   "source": [
    "### Float\n",
    "**Floats are numbers that aren't integers and also have decimals within the assigned value**"
   ]
  },
  {
   "cell_type": "code",
   "execution_count": 15,
   "metadata": {},
   "outputs": [
    {
     "name": "stdout",
     "output_type": "stream",
     "text": [
      "2.712828\n"
     ]
    }
   ],
   "source": [
    "# Float\n",
    "\n",
    "e = 2.712828\n",
    "\n",
    "print(e)"
   ]
  },
  {
   "cell_type": "markdown",
   "metadata": {},
   "source": [
    "### Lists\n",
    "**When a bunch of numbers or phrases are grouped together, and represented by one list variable**"
   ]
  },
  {
   "cell_type": "code",
   "execution_count": 16,
   "metadata": {},
   "outputs": [
    {
     "name": "stdout",
     "output_type": "stream",
     "text": [
      "['Akshaj', 'Arhaan', 'Mihir', 'Keirthan']\n",
      "Keirthan\n"
     ]
    }
   ],
   "source": [
    "# Lists\n",
    "\n",
    "group_members = [\"Akshaj\", \"Arhaan\", \"Mihir\", \"Keirthan\"]\n",
    "print(group_members)\n",
    "print(group_members[3])"
   ]
  },
  {
   "cell_type": "markdown",
   "metadata": {},
   "source": [
    "### Dictionaries In Python\n",
    "**In Python, dictionaries are flexible data structures that hold key-value pairs. Because every value in a dictionary has a distinct key, efficient value lookups and retrievals are possible. They are kinda similar to lists**"
   ]
  },
  {
   "cell_type": "code",
   "execution_count": 17,
   "metadata": {},
   "outputs": [
    {
     "name": "stdout",
     "output_type": "stream",
     "text": [
      "John\n",
      "19\n",
      "['Golf', 'Soccer']\n"
     ]
    }
   ],
   "source": [
    "#Dictionaries In Python\n",
    "\n",
    "student_info = {\n",
    "    \"name\": \"John\",\n",
    "    \"age\": 19,\n",
    "    \"grade\": \"11th\",\n",
    "    \"favorite_sports\": [\"Golf\", \"Soccer\"]\n",
    "}\n",
    "\n",
    "print(student_info[\"name\"])\n",
    "print(student_info[\"age\"])\n",
    "print(student_info[\"favorite_sports\"])   "
   ]
  },
  {
   "cell_type": "markdown",
   "metadata": {},
   "source": [
    "## Operators\n",
    "**Operators such as (+) & (*) work with phrases. While many more operators apply on integers**"
   ]
  },
  {
   "cell_type": "code",
   "execution_count": 18,
   "metadata": {},
   "outputs": [
    {
     "name": "stdout",
     "output_type": "stream",
     "text": [
      "my name is John\n",
      "JohnJohnJohnJohnJohnJohnJohnJohnJohnJohn\n",
      "5\n",
      "1\n",
      "20\n",
      "2.0\n",
      "2\n",
      "9.423\n",
      "1\n"
     ]
    }
   ],
   "source": [
    "#Operators\n",
    "\n",
    "n = \"my name is \"\n",
    "name = \"John\"\n",
    "\n",
    "print (n+name)\n",
    "print (name * 10)\n",
    "\n",
    "# With Integers\n",
    "\n",
    "n_1 = 2\n",
    "n_2 = 3\n",
    "n_3 = 4\n",
    "n_4 = 5\n",
    "n_5 = 3.141\n",
    "\n",
    "# all those symbols basicailly work the way we use them in math except (//)\n",
    "\n",
    "# When you 8 // 3 = It divides it and then rounds down to the nearest whole number\n",
    "print (n_1 + n_2)\n",
    "print (n_2 - n_1)\n",
    "print (n_3 * n_4)\n",
    "print (n_3 / n_1)\n",
    "print (n_4 // n_1)\n",
    "print (n_5 * n_2)\n",
    "print (n_4 % n_1)"
   ]
  }
 ],
 "metadata": {
  "kernelspec": {
   "display_name": "venv",
   "language": "python",
   "name": "python3"
  },
  "language_info": {
   "codemirror_mode": {
    "name": "ipython",
    "version": 3
   },
   "file_extension": ".py",
   "mimetype": "text/x-python",
   "name": "python",
   "nbconvert_exporter": "python",
   "pygments_lexer": "ipython3",
   "version": "3.12.5"
  }
 },
 "nbformat": 4,
 "nbformat_minor": 2
}
