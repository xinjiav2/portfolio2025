{
 "cells": [
  {
   "cell_type": "raw",
   "metadata": {
    "vscode": {
     "languageId": "raw"
    }
   },
   "source": [
    "---\n",
    "layout: post\n",
    "title: 3.4 Python Strings\n",
    "description: Creating a lesson by using Javascript. \n",
    "categories: [Python, Javascript]\n",
    "permalink: /csp/big-idea/p2/3-4-2\n",
    "menu: nav/csp_units/csp_unit3_p2_fundamentals.html\n",
    "author: Mihir\n",
    "toc: true\n",
    "comments: true\n",
    "---\n",
    "\n"
   ]
  },
  {
   "cell_type": "markdown",
   "metadata": {},
   "source": [
    "# String Operations in Python\n",
    "\n",
    "Strings are an ordered sequence of characters, which can include letters, numbers, or even spaces. A **substring** is part of an existing string. Various procedures are available in Python for working with strings."
   ]
  },
  {
   "cell_type": "markdown",
   "metadata": {},
   "source": [
    "## Len Function\n",
    "\n",
    "The len function returns the number of characters in a string. \n",
    "\n",
    "For example:"
   ]
  },
  {
   "cell_type": "code",
   "execution_count": 1,
   "metadata": {},
   "outputs": [
    {
     "data": {
      "text/plain": [
       "5"
      ]
     },
     "execution_count": 1,
     "metadata": {},
     "output_type": "execute_result"
    }
   ],
   "source": [
    "len (\"APCSP\") #Output is 5"
   ]
  },
  {
   "cell_type": "markdown",
   "metadata": {},
   "source": [
    "This function will return 5, which is the number of characters in the string \"APCSP\""
   ]
  },
  {
   "cell_type": "markdown",
   "metadata": {},
   "source": [
    "## Concat Feature\n",
    "\n",
    "The concat function merges both strings together. For example, if I wanted to say Hi Bob, instead of writing \"Hi Bob\" as a string, I could concat the string to say Hi + Bob. For example:\n"
   ]
  },
  {
   "cell_type": "code",
   "execution_count": 2,
   "metadata": {},
   "outputs": [
    {
     "name": "stdout",
     "output_type": "stream",
     "text": [
      "HiBob\n"
     ]
    }
   ],
   "source": [
    "concat = \"Hi\" + \"Bob\"\n",
    "\n",
    "print(concat) # Output is HiBob\n",
    "\n"
   ]
  },
  {
   "cell_type": "markdown",
   "metadata": {},
   "source": [
    "Note that you don't actually have to use concat as the name of the variable, the concat serves as a function you can do even when the variable is not named concat. For example:"
   ]
  },
  {
   "cell_type": "code",
   "execution_count": 3,
   "metadata": {},
   "outputs": [
    {
     "name": "stdout",
     "output_type": "stream",
     "text": [
      "The quick brown fox jumped over the lazy dog\n"
     ]
    }
   ],
   "source": [
    "story = \"The quick brown fox \" + \"jumped over the lazy dog\"\n",
    "\n",
    "print(story) # Output is the Quick Brown fox jumped over the lazy dog"
   ]
  },
  {
   "cell_type": "markdown",
   "metadata": {},
   "source": [
    "Now, let's talk about substrings. Substrings are portions of strings. In python, you can extract substrings by specifying the start and end index positions of the characters that you want. Let's try it out with the story variable we just created!"
   ]
  },
  {
   "cell_type": "code",
   "execution_count": 4,
   "metadata": {},
   "outputs": [
    {
     "name": "stdout",
     "output_type": "stream",
     "text": [
      " quick\n"
     ]
    }
   ],
   "source": [
    "storysubstring = story[3:9]\n",
    "\n",
    "print(storysubstring)\n",
    "\n",
    "# Output is \"quick\""
   ]
  },
  {
   "cell_type": "markdown",
   "metadata": {},
   "source": [
    "As you can see, we specified which characters we wanted using brackets following the variable of choice. The output of the command was \"quick\", as quick is the first 3-9 characters of the string story, or asa we learned, \"quick\" is the substring."
   ]
  },
  {
   "cell_type": "markdown",
   "metadata": {},
   "source": [
    "Now let's recap what we've learned with...:\n",
    "\n",
    "# Putting this all together...\n",
    "\n",
    "The goal of this hack is to find the third-sixth characters of my full name. Let's start!\n",
    "\n",
    "Here we're going to start off by finding the number of characters in our last name. I'll be using my last name as an example. I'll first make it a variable, then find the length of it."
   ]
  },
  {
   "cell_type": "code",
   "execution_count": 5,
   "metadata": {},
   "outputs": [
    {
     "name": "stdout",
     "output_type": "stream",
     "text": [
      "5\n"
     ]
    }
   ],
   "source": [
    "last_name = \"Thaha\"\n",
    "length = len(last_name)\n",
    "\n",
    "print(length) # Output: 5"
   ]
  },
  {
   "cell_type": "markdown",
   "metadata": {},
   "source": [
    "I'll now use the concat feature to merge my first and last name."
   ]
  },
  {
   "cell_type": "code",
   "execution_count": 6,
   "metadata": {},
   "outputs": [
    {
     "name": "stdout",
     "output_type": "stream",
     "text": [
      "MihirThaha\n"
     ]
    }
   ],
   "source": [
    "first_name = \"Mihir\"\n",
    "\n",
    "last_name = \"Thaha\"\n",
    "\n",
    "full_name = first_name + last_name\n",
    "\n",
    "print(full_name) # Output: MihirThaha"
   ]
  },
  {
   "cell_type": "markdown",
   "metadata": {},
   "source": [
    "Finally, let's use the substring feature to find the 3rd to 5th characters in my last name"
   ]
  },
  {
   "cell_type": "code",
   "execution_count": 7,
   "metadata": {},
   "outputs": [
    {
     "name": "stdout",
     "output_type": "stream",
     "text": [
      "hirT\n"
     ]
    }
   ],
   "source": [
    "namesubstring = full_name[2:5] # Note that we use 2 instead of three, because the counting starts at 0 instead of 1. If we wanted to start from the third character, we'd need to start from 2.\n",
    "print(namesubstring) # Output: hir"
   ]
  },
  {
   "cell_type": "markdown",
   "metadata": {},
   "source": [
    "## Palindromes\n",
    "A palindrome is a string that reads the same from left to right. For example, \"5005\" and \"racecar\" are both palindromes because they read the same from left to right."
   ]
  },
  {
   "cell_type": "code",
   "execution_count": 8,
   "metadata": {},
   "outputs": [
    {
     "name": "stdout",
     "output_type": "stream",
     "text": [
      "True\n",
      "False\n",
      "True\n",
      "False\n"
     ]
    }
   ],
   "source": [
    "def palindrome(input_str):\n",
    "    # Remove spaces and convert the string to lowercase\n",
    "    clean_str = input_str.replace(\" \", \"\").lower()\n",
    "\n",
    "    # Check if the cleaned string is equal to its reverse\n",
    "    return clean_str == clean_str[::-1]\n",
    "\n",
    "# Example usage\n",
    "print(palindrome(\"A man a plan a canal Panama\"))  \n",
    "print(palindrome(\"hello\"))  \n",
    "print(palindrome(\"taco cat\"))\n",
    "print(palindrome(\"hi\"))\n"
   ]
  },
  {
   "cell_type": "markdown",
   "metadata": {},
   "source": [
    "This function checks if the string is the same forward as it is reverse\n",
    "\n",
    "If it is a palendrome, the function will output True, and if it's not then the function will output false!\n"
   ]
  }
 ],
 "metadata": {
  "kernelspec": {
   "display_name": "venv",
   "language": "python",
   "name": "python3"
  },
  "language_info": {
   "codemirror_mode": {
    "name": "ipython",
    "version": 3
   },
   "file_extension": ".py",
   "mimetype": "text/x-python",
   "name": "python",
   "nbconvert_exporter": "python",
   "pygments_lexer": "ipython3",
   "version": "3.12.5"
  }
 },
 "nbformat": 4,
 "nbformat_minor": 2
}
