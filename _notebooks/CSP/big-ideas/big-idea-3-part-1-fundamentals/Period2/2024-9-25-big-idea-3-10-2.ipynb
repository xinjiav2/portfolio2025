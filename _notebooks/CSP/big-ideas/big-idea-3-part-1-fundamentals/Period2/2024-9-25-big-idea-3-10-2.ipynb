{
 "cells": [
  {
   "cell_type": "raw",
   "metadata": {},
   "source": [
    "---\n",
    "toc: false\n",
    "comments: true\n",
    "layout: post\n",
    "title: 3.10.2 List Pseudocode\n",
    "description: Student led teaching on Lists. Learn how storage and manipulation of multiple items using indexing to access individual elements.\n",
    "permalink: /csp/big-idea/p2/3-10-2\n",
    "categories: [CSP Big Ideas]\n",
    "author: Daksha\n",
    "menu: nav/csp_units/csp_unit3_p2_fundamentals.html\n",
    "---"
   ]
  },
  {
   "cell_type": "markdown",
   "metadata": {
    "vscode": {
     "languageId": "plaintext"
    }
   },
   "source": [
    "## Sum of Even Numbers of a list\n",
    "\n",
    "### Pseudocode\n",
    "\n",
    "### Intro: \n",
    "- The code calculates the sum of even numbers from a list of numbers (nums). It uses a loop to iterate through the list, checks if each number is even (i.e., divisible by 2), and adds it to the variable even_sum if true. After completing the loop, it displays the sum of all even numbers in the list.\n",
    "\n",
    "### Step by Step process:\n",
    "1. A list nums contains the numbers 1 through 10.\n",
    "2. The variable even_sum is initialized to 0.\n",
    "3. The code iterates through each number in nums.\n",
    "4. If the number is even (checked using score % 2 == 0), it's added to even_sum.\n",
    "5. After all even numbers are summed, the result (30) is printed."
   ]
  },
  {
   "cell_type": "markdown",
   "metadata": {},
   "source": [
    "<span style=\"color: #4A7C2E; font-size: 24px; font-weight: bold;\"> Homework:</span>\n",
    "\n",
    "<ol style=\"color: #4A7C2E;\">\n",
    "    <li><strong>Create a list:</strong> Create a list which has a yes or no answer and 2 questions.</li>\n",
    "    <li><strong>Convert the code:</strong> Make the code in Python for easier accessibility.</li>\n",
    "</ol>\n"
   ]
  },
  {
   "cell_type": "code",
   "execution_count": 1,
   "metadata": {
    "vscode": {
     "languageId": "powershell"
    }
   },
   "outputs": [
    {
     "ename": "SyntaxError",
     "evalue": "invalid character '←' (U+2190) (294484985.py, line 3)",
     "output_type": "error",
     "traceback": [
      "\u001b[0;36m  Cell \u001b[0;32mIn[1], line 3\u001b[0;36m\u001b[0m\n\u001b[0;31m    even_sum ← 0\u001b[0m\n\u001b[0m             ^\u001b[0m\n\u001b[0;31mSyntaxError\u001b[0m\u001b[0;31m:\u001b[0m invalid character '←' (U+2190)\n"
     ]
    }
   ],
   "source": [
    "sum -> 15\n",
    "nums <- [1, 2, 3, 4, 5, 6, 7, 8, 9, 10, 11, 12, 13, 14, 15]\n",
    "even_sum ← 0\n",
    "\n",
    "FOR EACH score IN nums\n",
    "    IF score MOD 2 = 0 THEN\n",
    "        even_sum ← even_sum + score\n",
    "    END IF\n",
    "END FOR\n",
    "\n",
    "DISPLAY (\"Sum of even numbers in the list:\", even_sum)\n",
    "\n",
    "This code is run in pseudocode, it cannot be directly run by any interpreter or compiler. \n",
    "However, pseudocode is meant to be easily translated into real programming languages like Python, Java, C++, etc. \n",
    "It is used to describe algorithms in a simple, readable format without worrying about syntax rules of any specific language."
   ]
  },
  {
   "cell_type": "markdown",
   "metadata": {},
   "source": [
    "### Interpreting In python\n",
    "- Psueodocode can be used to interpret into python, below will show what this code looks like in python"
   ]
  },
  {
   "cell_type": "code",
   "execution_count": 3,
   "metadata": {},
   "outputs": [
    {
     "name": "stdout",
     "output_type": "stream",
     "text": [
      "Sum of even numbers in the list: 56\n"
     ]
    }
   ],
   "source": [
    "nums = [1, 2, 3, 4, 5, 6, 7, 8, 9, 10, 11, 12, 13, 14, 15]\n",
    "even_sum = 0\n",
    "\n",
    "for score in nums:\n",
    "    if score % 2 == 0:\n",
    "        even_sum += score\n",
    "\n",
    "print(\"Sum of even numbers in the list:\", even_sum)\n"
   ]
  },
  {
   "cell_type": "code",
   "execution_count": 1,
   "metadata": {},
   "outputs": [
    {
     "ename": "SyntaxError",
     "evalue": "invalid character '←' (U+2190) (2127776647.py, line 3)",
     "output_type": "error",
     "traceback": [
      "\u001b[0;36m  Cell \u001b[0;32mIn[1], line 3\u001b[0;36m\u001b[0m\n\u001b[0;31m    Pseudo Code: my_list ← [1, 2, 3]  # Initializes a list with elements 1, 2, and 3\u001b[0m\n\u001b[0m                         ^\u001b[0m\n\u001b[0;31mSyntaxError\u001b[0m\u001b[0;31m:\u001b[0m invalid character '←' (U+2190)\n"
     ]
    }
   ],
   "source": [
    "Creating a List\n",
    "Python: my_list = [1, 2, 3]  # Initializes a list with elements 1, 2, and 3\n",
    "Pseudo Code: my_list ← [1, 2, 3]  # Initializes a list with elements 1, 2, and 3\n",
    "\n",
    "Accessing Elements\n",
    "Python: value = my_list[index]  # Retrieves the element at the specified index from my_list\n",
    "Pseudo Code: value <- my_list[index]  # Retrieves the element at the specified index from my_list\n",
    "\n",
    "Appending Elements\n",
    "Python: my_list.append(new_value)  # Adds new_value to the end of my_list\n",
    "Pseudo Code: Append new_value to my_list  # Adds new_value to the end of my_list\n",
    "\n",
    "Inserting Elements\n",
    "Python: my_list.insert(index, new_value)  # Inserts new_value at the specified index in my_list\n",
    "Pseudo Code: Insert new_value at index in my_list  # Inserts new_value at the specified index in my_list\n",
    "\n",
    "Removing Elements\n",
    "Python: my_list.remove(value)  # Removes the first occurrence of value from my_list\n",
    "Pseudo Code: Remove value from my_list  # Removes the first occurrence of value from my_list\n",
    "\n",
    "Modifying Elements\n",
    "Python: my_list[index] = new_value  # Replaces the element at the specified index with new_value\n",
    "Pseudo Code: my_list[index] <- new_value  # Replaces the element at the specified index with new_value\n",
    "\n",
    "Checking Length\n",
    "Python: length = len(my_list)  # Gets the number of elements in my_list\n",
    "Pseudo Code: length <- Length of my_list  # Gets the number of elements in my_list\n",
    "\n",
    "Iterating through a List\n",
    "Python: for item in my_list:  # Loops through each item in my_list\n",
    "{ <block of statement> }  # Executes the block of statements for each item\n",
    "Pseudo Code: For each item in my_list:  # Loops through each item in my_list\n",
    "{ <block of statement> }  # Executes the block of statements for each item\n",
    "\n",
    "Checking for Existence\n",
    "Python: if value in my_list:  # Checks if value exists in my_list\n",
    "{ <block of statement> }  # Executes the block of statements if value is found\n",
    "Pseudo Code: If value is in my_list:  # Checks if value exists in my_list\n",
    "{ <block of statement> }  # Executes the block of statements if value is found\n",
    "\n",
    "List Slicing\n",
    "Python: sub_list = my_list[start:end]  # Creates a new list from my_list starting at start index to end index (exclusive)\n",
    "Pseudo Code: sub_list <- my_list[start:end]  # Creates a new list from my_list starting at start index to end index (exclusive)\n"
   ]
  },
  {
   "cell_type": "markdown",
   "metadata": {},
   "source": [
    "<span style=\"color: #4A7C2E; font-size: 28px; font-weight: bold;\"> Homework</span>\n",
    "\n",
    "<ul style=\"color: #4A7C2E;\">\n",
    "    <li>Make a list in pseudocode of 30 numbers and find the sum of all even numbers, then the sum of all odd numbers.</li>\n",
    "    <li>After doing this, convert the code into Python.</li>\n",
    "</ul>\n"
   ]
  }
 ],
 "metadata": {
  "kernelspec": {
   "display_name": "venv",
   "language": "python",
   "name": "python3"
  },
  "language_info": {
   "codemirror_mode": {
    "name": "ipython",
    "version": 3
   },
   "file_extension": ".py",
   "mimetype": "text/x-python",
   "name": "python",
   "nbconvert_exporter": "python",
   "pygments_lexer": "ipython3",
   "version": "3.12.3"
  }
 },
 "nbformat": 4,
 "nbformat_minor": 2
}
