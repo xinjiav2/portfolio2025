{
 "cells": [
  {
   "cell_type": "raw",
   "metadata": {
    "vscode": {
     "languageId": "raw"
    }
   },
   "source": [
    "---\n",
    "toc: false\n",
    "comments: true\n",
    "layout: post\n",
    "title: 3.2 Lesson Period 2 - None Data Abstraction\n",
    "description: Student led teaching on Abstraction. Teaching how various data types can use abstraction for copmutational efficiency.\n",
    "permalink: /csp/big-idea/p2/3-2-9/\n",
    "categories: [CSP Big Ideas]\n",
    "author:  Nikhil Maturi, Yash Parikh, Neil Chandra, Rohan Bojja (P.2)\n",
    "menu: nav/csp_units/csp_unit3_p2_fundamentals.html\n",
    "---"
   ]
  },
  {
   "cell_type": "markdown",
   "metadata": {},
   "source": [
    "## None - 3.2.9"
   ]
  },
  {
   "cell_type": "code",
   "execution_count": 1,
   "metadata": {},
   "outputs": [
    {
     "name": "stdout",
     "output_type": "stream",
     "text": [
      "x = None\n",
      "Output of x: None\n",
      "So is x true, or is x false?\n",
      "None is not True, or False, None is just None...\n"
     ]
    }
   ],
   "source": [
    "print(\"x = None\")\n",
    "x = None\n",
    "# Nones are data abstractions because they represent a nonexistent value for better handling of unspecified data.\n",
    "\n",
    "print(\"Output of x:\", x)\n",
    "print(\"So is x true, or is x false?\")\n",
    "if x:\n",
    "  print(\"Do you think None is True?\")\n",
    "elif x is False:\n",
    "  print (\"Do you think None is False?\")\n",
    "else:\n",
    "  print(\"None is not True, or False, None is just None...\")"
   ]
  },
  {
   "cell_type": "markdown",
   "metadata": {},
   "source": [
    "## Javascript Version"
   ]
  },
  {
   "cell_type": "code",
   "execution_count": null,
   "metadata": {
    "vscode": {
     "languageId": "javascript"
    }
   },
   "outputs": [],
   "source": [
    "var x = null;\n",
    "console.log(\"Output of X\", x)\n",
    "\n",
    "if (x) {\n",
    "    console.log(\"Do you think null True?\");\n",
    "} else if (x == false) {\n",
    "    console.log(\"Do you think null is False\");\n",
    "} else {\n",
    "    console.log(\"Null is not True or False, null is just null...\");\n",
    "}"
   ]
  },
  {
   "cell_type": "markdown",
   "metadata": {},
   "source": [
    "<div id=\"output4\"></div>\n",
    "\n",
    "<script>\n",
    "// Defining a null value (equivalent to None in Python)\n",
    "var x = null;\n",
    "\n",
    "// Displaying the initial value of x\n",
    "document.getElementById(\"output4\").innerHTML = `\n",
    "  <p>x = null</p>\n",
    "  <p>Output of x: ${x}</p>\n",
    "`;\n",
    "\n",
    "// Checking if x is true or false\n",
    "document.getElementById(\"output4\").innerHTML += `\n",
    "  <p>So is x true, or is x false?</p>\n",
    "`;\n",
    "\n",
    "if (x) {\n",
    "  document.getElementById(\"output4\").innerHTML += `\n",
    "    <p>Do you think null is True?</p>\n",
    "  `;\n",
    "} else if (x === false) {\n",
    "  document.getElementById(\"output4\").innerHTML += `\n",
    "    <p>Do you think null is False?</p>\n",
    "  `;\n",
    "} else {\n",
    "  document.getElementById(\"output4\").innerHTML += `\n",
    "    <p>Null is not True or False, null is just null...</p>\n",
    "  `;\n",
    "}\n",
    "</script>\n"
   ]
  }
 ],
 "metadata": {
  "kernelspec": {
   "display_name": "venv",
   "language": "python",
   "name": "python3"
  },
  "language_info": {
   "codemirror_mode": {
    "name": "ipython",
    "version": 3
   },
   "file_extension": ".py",
   "mimetype": "text/x-python",
   "name": "python",
   "nbconvert_exporter": "python",
   "pygments_lexer": "ipython3",
   "version": "3.12.3"
  }
 },
 "nbformat": 4,
 "nbformat_minor": 2
}
