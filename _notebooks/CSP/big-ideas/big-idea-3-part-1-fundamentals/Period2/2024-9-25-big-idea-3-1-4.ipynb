{
 "cells": [
  {
   "cell_type": "raw",
   "metadata": {
    "vscode": {
     "languageId": "raw"
    }
   },
   "source": [
    "---\n",
    "layout: post\n",
    "title: Python Variables\n",
    "description: Creating a lesson by using Python. \n",
    "categories: [Python, Javascript]\n",
    "permalink: /csp/big-idea/p2/3-1-4\n",
    "menu: nav/csp_units/csp_unit3_p2_fundamentals.html\n",
    "author: Arhaan, Akshaj\n",
    "toc: true\n",
    "comments: true\n",
    "---"
   ]
  },
  {
   "cell_type": "markdown",
   "metadata": {
    "vscode": {
     "languageId": "raw"
    }
   },
   "source": [
    "# **Python Homework: Shopping List Calculator**\n",
    "\n",
    "## Objective\n",
    "\n",
    "In this assignment, you will create a simple shopping list calculator that allows users to add items to their shopping list, input their prices, and calculate the total cost. \n",
    "\n",
    "---\n",
    "\n",
    "## **Assignment Steps**\n",
    "\n",
    "### Step 1: Initialize Your Shopping List\n",
    "\n",
    "1. Create an empty list to store the items in the shopping list.\n",
    "2. Create a variable to store the total cost, initialized to zero.\n",
    "\n",
    "### Step 2: User Input for Shopping List\n",
    "\n",
    "Implement a loop that allows users to add items to their shopping list until they decide to stop. For each item, ask the user to input:\n",
    "- The name of the item\n",
    "- The price of the item\n",
    "\n",
    "### Example (Python):\n",
    "```python\n",
    "shopping_list = []\n",
    "total_cost = 0.0\n",
    "\n",
    "while True:\n",
    "    item_name = input(\"Enter the item name (or 'done' to finish): \")\n",
    "    if item_name.lower() == 'done':\n",
    "        break\n",
    "    item_price = float(input(\"Enter the price of the item: \"))\n",
    "    \n",
    "    shopping_list.append((item_name, item_price))\n",
    "    total_cost += item_price\n"
   ]
  },
  {
   "cell_type": "markdown",
   "metadata": {},
   "source": [
    "# Javascript Homework: Recipe Ingredient Converter\n",
    "\n",
    "### Objective:\n",
    "In this assignment, you will create a simple recipe ingredient converter that allows users to input ingredient quantities in one unit and convert them to another unit (e.g., cups to tablespoons). \n",
    "\n",
    "### Assignment Steps:\n",
    "\n",
    "#### Step 1: Initialize Conversion Rates\n",
    "- Create variables for common conversion rates. For example:\n",
    "  - 1 cup = 16 tablespoons\n",
    "  - 1 tablespoon = 3 teaspoons\n",
    "  - 1 cup = 48 teaspoons\n",
    "\n",
    "#### Step 2:  Input for Ingredients\n",
    "- Implement a loop that allows users to input ingredient quantities until they decide to stop. For each ingredient, ask the user to input:\n",
    "  - The name of the ingredient\n",
    "  - The quantity of the ingredient\n",
    "  - The current unit (e.g., cups, tablespoons, teaspoons)\n",
    "\n",
    "#### Step 3: Conversion Logic\n",
    "- Based on the unit provided, convert the quantity to the desired unit. For example:\n",
    "  - If the user inputs cups, convert to tablespoons or teaspoons.\n",
    "  - Provide an option for the user to specify the desired conversion unit.\n",
    "\n",
    "#### Step 4: Display the Converted Results\n",
    "- After the user has finished inputting ingredients, print out the original quantities along with the converted values.\n",
    "\n",
    "\n",
    "### Example:\n",
    "1. If the user inputs:\n",
    "   - **Ingredient**: Sugar\n",
    "   - **Quantity**: 2\n",
    "   - **Unit**: Cups\n",
    "\n",
    "2. The program should convert this to:\n",
    "   - 32 tablespoons or 96 teaspoons."
   ]
  }
 ],
 "metadata": {
  "kernelspec": {
   "display_name": "venv",
   "language": "python",
   "name": "python3"
  },
  "language_info": {
   "codemirror_mode": {
    "name": "ipython",
    "version": 3
   },
   "file_extension": ".py",
   "mimetype": "text/x-python",
   "name": "python",
   "nbconvert_exporter": "python",
   "pygments_lexer": "ipython3",
   "version": "3.12.5"
  }
 },
 "nbformat": 4,
 "nbformat_minor": 2
}
