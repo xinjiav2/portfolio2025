{
 "cells": [
  {
   "cell_type": "raw",
   "metadata": {
    "vscode": {
     "languageId": "raw"
    }
   },
   "source": [
    "---\n",
    "toc: false\n",
    "comments: true\n",
    "layout: post\n",
    "title: 3.2 Lesson Period 2 - Float Data Abstraction\n",
    "description: Student led teaching on Abstraction. Teaching how various data types can use abstraction for copmutational efficiency.\n",
    "permalink: /csp/big-idea/p2/3-2-2/\n",
    "categories: [CSP Big Ideas]\n",
    "author:  Nikhil Maturi, Yash Parikh, Neil Chandra, Rohan Bojja (P.2)\n",
    "menu: nav/csp_units/csp_unit3_p2_fundamentals.html\n",
    "---"
   ]
  },
  {
   "cell_type": "markdown",
   "metadata": {},
   "source": [
    "## Floats - 3.2.2"
   ]
  },
  {
   "cell_type": "code",
   "execution_count": 1,
   "metadata": {},
   "outputs": [
    {
     "name": "stdout",
     "output_type": "stream",
     "text": [
      "Number of Chocolate Pieces 4.5\n",
      "Number of Fruit Pieces 3.5\n",
      "Number of Chocolate Pieces and Number of Fruit Pieces 8.0\n"
     ]
    }
   ],
   "source": [
    "numberOfChocolatePieces = 4.5 # this is an abstraction as to write this with integers you would have to write 9/2 which adds complexity\n",
    "numberOfFruitPieces = 7/2\n",
    "\n",
    "print(\"Number of Chocolate Pieces\", numberOfChocolatePieces)\n",
    "print(\"Number of Fruit Pieces\", numberOfFruitPieces)\n",
    "print(\"Number of Chocolate Pieces and Number of Fruit Pieces\", numberOfChocolatePieces + numberOfFruitPieces)"
   ]
  },
  {
   "attachments": {},
   "cell_type": "markdown",
   "metadata": {},
   "source": [
    "## Javscript Version"
   ]
  },
  {
   "cell_type": "code",
   "execution_count": null,
   "metadata": {
    "vscode": {
     "languageId": "javascript"
    }
   },
   "outputs": [],
   "source": [
    "%%js\n",
    "let numberOfChocolatePieces = 4.5;\n",
    "let numberOfFruitPieces = 7/2;\n",
    "\n",
    "console.log(\"Number of Chocolate Pieces\", numberOfChocolatePieces);\n",
    "console.log(\"Number of Fruit Pieces\", numberOfFruitPieces);\n",
    "console.log(\"Number of Chocolate Pieces and Number of Fruit Pieces\", numberOfChocolatePieces + numberOfFruitPieces);"
   ]
  },
  {
   "attachments": {},
   "cell_type": "markdown",
   "metadata": {},
   "source": [
    "<div id=\"output1\"></div>\n",
    "\n",
    "<script>\n",
    "// JavaScript variables\n",
    "let numberOfChocolatePieces = 4.5;\n",
    "let numberOfFruitPieces = 7 / 2;\n",
    "\n",
    "// Select the output element\n",
    "let outputElement1 = document.getElementById(\"output1\");\n",
    "\n",
    "// Display the output\n",
    "outputElement1.innerHTML += `\n",
    "  <p>Number of Chocolate Pieces: ${numberOfChocolatePieces}</p>\n",
    "  <p>Number of Fruit Pieces: ${numberOfFruitPieces}</p>\n",
    "  <p>Total Pieces (Chocolate + Fruit): ${numberOfChocolatePieces + numberOfFruitPieces}</p>\n",
    "`;\n",
    "</script>"
   ]
  }
 ],
 "metadata": {
  "kernelspec": {
   "display_name": "venv",
   "language": "python",
   "name": "python3"
  },
  "language_info": {
   "codemirror_mode": {
    "name": "ipython",
    "version": 3
   },
   "file_extension": ".py",
   "mimetype": "text/x-python",
   "name": "python",
   "nbconvert_exporter": "python",
   "pygments_lexer": "ipython3",
   "version": "3.9.19"
  },
  "vscode": {
   "interpreter": {
    "hash": "72756fa0984efdc44fb8517b692d10defb2e78cf8a4e51ca5670a6eeef22a31e"
   }
  }
 },
 "nbformat": 4,
 "nbformat_minor": 2
}
