{
 "cells": [
  {
   "cell_type": "raw",
   "metadata": {
    "vscode": {
     "languageId": "raw"
    }
   },
   "source": [
    "---\n",
    "toc: false\n",
    "comments: true\n",
    "layout: post\n",
    "title: 3.6-P2 Conditionals \n",
    "description: Student led teaching on Conditionals using Javascript and Python\n",
    "permalink: /csp/big-idea/p2/3-6\n",
    "categories: [CSP Big Ideas]\n",
    "author:  Kush, Nolan, Vincent, and Tarun\n",
    "menu: nav/csp_units/csp_unit3_p2_fundamentals.html\n",
    "---"
   ]
  },
  {
   "cell_type": "markdown",
   "metadata": {},
   "source": [
    "## Content Outline\n",
    "\n",
    "3.6.1\n",
    "- If statements\n",
    "- Else statements\n",
    "- Javascript and Python examples\n",
    "\n",
    "\n",
    "3.6.2\n",
    "- Examples with Boolean\n",
    "- Usage of modules\n",
    "- Homework Assignment(Example Included)\n"
   ]
  },
  {
   "cell_type": "markdown",
   "metadata": {},
   "source": [
    "# Popcorn Hack #1"
   ]
  },
  {
   "cell_type": "markdown",
   "metadata": {},
   "source": [
    "#### Task:\n",
    "\n",
    "- Write a general conditional based on a topic of you choice\n",
    "- Use an if and an else statement \n",
    "\n"
   ]
  },
  {
   "cell_type": "code",
   "execution_count": 1,
   "metadata": {},
   "outputs": [
    {
     "data": {
      "application/javascript": "let grade = parseInt(prompt('Enter your grade in the class (0-100): '));\n\nif (grade >= 70) {\n    console.log('You are passing your class.');\n} else {\n    console.log('You are failing your class.');\n}\n\nlet isStudying = confirm('Are you studying for the test? (OK for Yes, Cancel for No)');\n\nif (isStudying) {\n    console.log('You will do well on your test.');\n} else {\n    console.log('You should lock in and study.');\n}\n",
      "text/plain": [
       "<IPython.core.display.Javascript object>"
      ]
     },
     "metadata": {},
     "output_type": "display_data"
    }
   ],
   "source": [
    "score = 85\n",
    "\n",
    "# Conditional statement\n",
    "if score >= 75:\n",
    "    print(\"You passed the test!\")\n",
    "else:\n",
    "    print(\"You failed the test.\")"
   ]
  },
  {
   "cell_type": "code",
   "execution_count": 2,
   "metadata": {
    "vscode": {
     "languageId": "javascript"
    }
   },
   "outputs": [
    {
     "data": {
      "application/javascript": "let score = 85;\n\n// Conditional statement\nif (score >= 75) {\n    console.log(\"You passed the test!\");\n} else {\n    console.log(\"You failed the test.\");\n}\n",
      "text/plain": [
       "<IPython.core.display.Javascript object>"
      ]
     },
     "metadata": {},
     "output_type": "display_data"
    }
   ],
   "source": [
    "%%js\n",
    "let score = 85;\n",
    "\n",
    "// Conditional statement\n",
    "if (score >= 75) {\n",
    "    console.log(\"You passed the test!\");\n",
    "} else {\n",
    "    console.log(\"You failed the test.\");\n",
    "}\n"
   ]
  },
  {
   "cell_type": "markdown",
   "metadata": {},
   "source": [
    "# Popcorn Hack #2"
   ]
  },
  {
   "cell_type": "markdown",
   "metadata": {},
   "source": [
    "Criteria:\n",
    "- Use a boolean value to check in a conditional\n",
    "- Set an original value for the boolean variable as an input\n",
    "- Create a conditional using said boolean variable checking if its true or false.\n",
    "- Complete in Javascript and Python"
   ]
  },
  {
   "cell_type": "code",
   "execution_count": null,
   "metadata": {},
   "outputs": [],
   "source": [
    "owns_a_key = True\n",
    "\n",
    "if owns_a_key:\n",
    "    print(\"Come on in!\")\n",
    "else:\n",
    "    print(\"You need a key to come in here\")"
   ]
  },
  {
   "cell_type": "code",
   "execution_count": 3,
   "metadata": {
    "vscode": {
     "languageId": "javascript"
    }
   },
   "outputs": [
    {
     "data": {
      "application/javascript": "let owns_a_key = true;\n\nif (owns_a_key) {\n    console.log(\"Come on in!\");\n} else {\n    console.log(\"You need a key to come in here.\");\n}\n",
      "text/plain": [
       "<IPython.core.display.Javascript object>"
      ]
     },
     "metadata": {},
     "output_type": "display_data"
    }
   ],
   "source": [
    "%%js\n",
    "let owns_a_key = true;\n",
    "\n",
    "if (owns_a_key) {\n",
    "    console.log(\"Come on in!\");\n",
    "} else {\n",
    "    console.log(\"You need a key to come in here.\");\n",
    "}\n"
   ]
  },
  {
   "cell_type": "markdown",
   "metadata": {},
   "source": [
    "# Popcorn Hack #3"
   ]
  },
  {
   "cell_type": "markdown",
   "metadata": {},
   "source": [
    "#### Task\n",
    "\n",
    "\n",
    "Use a library of your choice to practice your skills with conditionals\n",
    "\n",
    "Criteria: \n",
    "- Import any kind of library.\n",
    "- Use a conditional using the library you imported(be creative with how you use it)\n",
    "- Complete in Javascript and Python"
   ]
  },
  {
   "cell_type": "code",
   "execution_count": null,
   "metadata": {},
   "outputs": [],
   "source": [
    "import random\n",
    "\n",
    "roll_dice = random.randint(1, 6)\n",
    "\n",
    "print(\"Rolling the dice...\")\n",
    "print(f\"You rolled a {roll_dice}\")\n",
    "\n",
    "if roll_dice == 1:\n",
    "    print(\"Oh no! You rolled a one. Try again!\")\n",
    "elif roll_dice <= 3:\n",
    "    print(\"You rolled a low number. Better luck next time!\")\n",
    "elif roll_dice == 4:\n",
    "    print(\"Not bad! You rolled a four.\")\n",
    "elif roll_dice <= 5:\n",
    "    print(\"Great roll! You rolled a five.\")\n",
    "else:\n",
    "    print(\"Awesome! You rolled a six! You're on a roll!\")"
   ]
  },
  {
   "cell_type": "code",
   "execution_count": 4,
   "metadata": {
    "vscode": {
     "languageId": "javascript"
    }
   },
   "outputs": [
    {
     "data": {
      "application/javascript": "let roll_dice = Math.floor(Math.random() * 6) + 1;\n\nconsole.log(\"Rolling the dice...\");\nconsole.log(`You rolled a ${roll_dice}`);\n\nif (roll_dice === 1) {\n    console.log(\"Oh no! You rolled a one. Try again!\");\n} else if (roll_dice <= 3) {\n    console.log(\"You rolled a low number. Better luck next time!\");\n} else if (roll_dice === 4) {\n    console.log(\"Not bad! You rolled a four.\");\n} else if (roll_dice === 5) {\n    console.log(\"Great roll! You rolled a five.\");\n} else {\n    console.log(\"Awesome! You rolled a six! You're on a roll!\");\n}\n",
      "text/plain": [
       "<IPython.core.display.Javascript object>"
      ]
     },
     "metadata": {},
     "output_type": "display_data"
    }
   ],
   "source": [
    "%%js\n",
    "let roll_dice = Math.floor(Math.random() * 6) + 1;\n",
    "\n",
    "console.log(\"Rolling the dice...\");\n",
    "console.log(`You rolled a ${roll_dice}`);\n",
    "\n",
    "if (roll_dice === 1) {\n",
    "    console.log(\"Oh no! You rolled a one. Try again!\");\n",
    "} else if (roll_dice <= 3) {\n",
    "    console.log(\"You rolled a low number. Better luck next time!\");\n",
    "} else if (roll_dice === 4) {\n",
    "    console.log(\"Not bad! You rolled a four.\");\n",
    "} else if (roll_dice === 5) {\n",
    "    console.log(\"Great roll! You rolled a five.\");\n",
    "} else {\n",
    "    console.log(\"Awesome! You rolled a six! You're on a roll!\");\n",
    "}"
   ]
  }
 ],
 "metadata": {
  "kernelspec": {
   "display_name": "Python 3",
   "language": "python",
   "name": "python3"
  },
  "language_info": {
   "codemirror_mode": {
    "name": "ipython",
    "version": 3
   },
   "file_extension": ".py",
   "mimetype": "text/x-python",
   "name": "python",
   "nbconvert_exporter": "python",
   "pygments_lexer": "ipython3",
   "version": "3.9.6"
  }
 },
 "nbformat": 4,
 "nbformat_minor": 2
}
