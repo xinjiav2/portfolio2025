{
 "cells": [
  {
   "cell_type": "raw",
   "metadata": {
    "vscode": {
     "languageId": "raw"
    }
   },
   "source": [
    "---\n",
    "toc: false\n",
    "comments: true\n",
    "layout: post\n",
    "title: 3.2-P2  Data Abstraction\n",
    "description: Student led teaching on Abstraction. Teaching how various data types can use abstraction for computational efficiency.\n",
    "permalink: /csp/big-idea/p2/3-2/\n",
    "categories: [CSP Big Ideas]\n",
    "author:  Nikhil Maturi, Yash Parikh, Neil Chandra, Rohan Bojja (P.2)\n",
    "menu: nav/csp_units/csp_unit3_p2_fundamentals.html\n",
    "---"
   ]
  },
  {
   "attachments": {},
   "cell_type": "markdown",
   "metadata": {},
   "source": [
    "## Practice Quiz (CODE: 97639328)\n",
    "> Try this quiz out after you review all the topics!"
   ]
  },
  {
   "attachments": {},
   "cell_type": "markdown",
   "metadata": {},
   "source": [
    "\n",
    "<style>\n",
    "        /* Modal container */\n",
    "        .modal {\n",
    "            display: none; /* Hidden by default */\n",
    "            position: fixed;\n",
    "            z-index: 1; /* On top */\n",
    "            left: 0;\n",
    "            top: 0;\n",
    "            width: 100%;\n",
    "            height: 100%;\n",
    "            background-color: rgba(0, 0, 0, 0.8); /* Black background with opacity */\n",
    "        }\n",
    "\n",
    "        /* Modal content */\n",
    "        .modal-content {\n",
    "            position: relative;\n",
    "            background-color: white;\n",
    "            margin: auto;\n",
    "            padding: 20px;\n",
    "            width: 90%; /* Modal size almost full screen */\n",
    "            height: 90%; /* Modal height */\n",
    "            border-radius: 10px;\n",
    "            overflow: hidden; /* Hide overflow */\n",
    "        }\n",
    "\n",
    "        /* Close button */\n",
    "        .close {\n",
    "            position: absolute;\n",
    "            top: 10px;\n",
    "            right: 20px;\n",
    "            color: black;\n",
    "            font-size: 30px;\n",
    "            font-weight: bold;\n",
    "            cursor: pointer;\n",
    "        }\n",
    "\n",
    "        /* Embed content */\n",
    "        iframe {\n",
    "            width: 100%;\n",
    "            height: 100%;\n",
    "            border: none;\n",
    "        }\n",
    "</style>\n",
    "\n",
    "<button id=\"openModal\">Open Modal</button>\n",
    "\n",
    "<!-- The Modal -->\n",
    "<div id=\"myModal\" class=\"modal\">\n",
    "\n",
    "<!-- Modal content -->\n",
    "<div class=\"modal-content\">\n",
    "    <span class=\"close\">&times;</span>\n",
    "    <!-- Embedded content (YouTube video in this example) -->\n",
    "    <embed src=\"https://quizizz.com/join\" width=\"1000px\" height=\"600px\">\n",
    "</div>\n",
    "\n",
    "</div>\n",
    "\n",
    "<script>\n",
    "    // Get modal and elements\n",
    "    const modal = document.getElementById(\"myModal\");\n",
    "    const btn = document.getElementById(\"openModal\");\n",
    "    const span = document.getElementsByClassName(\"close\")[0];\n",
    "\n",
    "    // Open modal on button click\n",
    "    btn.onclick = function() {\n",
    "        modal.style.display = \"block\";\n",
    "    }\n",
    "\n",
    "    // Close modal when 'x' is clicked\n",
    "    span.onclick = function() {\n",
    "        modal.style.display = \"none\";\n",
    "    }\n",
    "\n",
    "    // Close modal when clicking outside the modal content\n",
    "    window.onclick = function(event) {\n",
    "        if (event.target == modal) {\n",
    "            modal.style.display = \"none\";\n",
    "        }\n",
    "    }\n",
    "</script>"
   ]
  },
  {
   "cell_type": "markdown",
   "metadata": {},
   "source": [
    "## Popcorn Hack #1\n",
    "> Please abstract the keys of bananas, apples, and pears, and assign them to numbers 1, 2, and 3 in the most effective way possible.\n",
    "> Please print out the output of access one values through its corresponding key."
   ]
  },
  {
   "cell_type": "markdown",
   "metadata": {
    "vscode": {
     "languageId": "javascript"
    }
   },
   "source": [
    "<details>\n",
    "    <summary>See Answer</summary>\n",
    "    <pre><code>\n",
    "bestDictionaryEver = {\"bananas\": 1, \"apples\": 2, \"pears\": 3}\n",
    "print(bestDictionaryEver[\"pears\"]) #any key will do\n",
    "    </code></pre>\n",
    "</details>"
   ]
  },
  {
   "cell_type": "markdown",
   "metadata": {},
   "source": [
    "## Popcorn Hack #2\n",
    "> Please create a simple calculator in JavaScript and python, with only the basic functions of division, addition, subtraction, and multiplication.\n",
    "> You do not need to build an interface for the calculator, it can be completely command line based.\n",
    "> For example, first input = first number, second input = second number, and third input = math function."
   ]
  },
  {
   "cell_type": "markdown",
   "metadata": {},
   "source": [
    "<details>\n",
    "    <summary>See Answer</summary>\n",
    "    <pre><code>\n",
    "firstNumber = int(input(\"Please Enter the First Number Here: \"))\n",
    "secondNumber = int(input(\"Please Enter the Second Number Here: \"))\n",
    "mathFunction = int(input(\"Please Enter the function here: \")) #Ex: +, -, *, /\n",
    "\n",
    "if mathFunction == \"+\":\n",
    "    print(firstNumber + secondNumber)\n",
    "elif mathFunction == \"-\":\n",
    "    print(firstNumber - secondNumber)\n",
    "elif mathFunction == \"*\":\n",
    "    print(firstNumber * secondNumber)\n",
    "elif mathFunction == \"/\":\n",
    "    print(firstNumber / secondNumber)\n",
    "    </code></pre>\n",
    "</details>"
   ]
  },
  {
   "cell_type": "markdown",
   "metadata": {},
   "source": [
    "## Popcorn Hack #3\n",
    "\n",
    "> Task: Write a function that takes a list of strings and an integer n. The function should return a new list where each > string in the original list is repeated n times."
   ]
  },
  {
   "cell_type": "markdown",
   "metadata": {},
   "source": [
    "<details>\n",
    "    <summary>See Answer</summary>\n",
    "    <pre><code>\n",
    "def repeat_strings_in_list(strings, n): \n",
    "    result = [] # Creating array\n",
    "    for string in strings:\n",
    "        result.append(string * n)  # Repeating the string `n` times\n",
    "    return result\n",
    "\n",
    "string_list = [\"hello\", \"world\", \"python\"]\n",
    "print(repeat_strings_in_list(string_list, 3))\n",
    "    </code></pre>\n",
    "</details>\n"
   ]
  },
  {
   "cell_type": "markdown",
   "metadata": {},
   "source": [
    "## Popcorn Hack #4"
   ]
  },
  {
   "cell_type": "markdown",
   "metadata": {},
   "source": [
    "> Please create a function that compares two sets, and checks if there is an value within set 2 that is within set 1. If a value from set 2 is in set 1, then return the boolean output 'True' . If not, then return the boolean value 'False'. Here is an example of a check for your code:"
   ]
  },
  {
   "cell_type": "code",
   "execution_count": null,
   "metadata": {},
   "outputs": [],
   "source": [
    "print(sets_have_common_elements({1, 2, 3}, {3, 4}))  # Output: True\n",
    "print(sets_have_common_elements({1, 2, 3}, {4, 5}))  # Output: False"
   ]
  },
  {
   "cell_type": "markdown",
   "metadata": {},
   "source": [
    "<details>\n",
    "    <summary>See Answer</summary>\n",
    "    <pre><code>\n",
    "def sets_have_common_elements(set1, set2):\n",
    "    for elem in set1:\n",
    "        if elem in set2:\n",
    "            return True\n",
    "    return False\n",
    "print(sets_have_common_elements({1, 2, 3}, {3, 4}))  # Output: True\n",
    "print(sets_have_common_elements({1, 2, 3}, {4, 5}))  # Output: False\n",
    "print(sets_have_common_elements({1, 2}, {2}))         # Output: False\n",
    "print(sets_have_common_elements({}, {}))             # Output: False\n",
    "    </code></pre>\n",
    "</details>\n"
   ]
  },
  {
   "cell_type": "markdown",
   "metadata": {},
   "source": [
    "## Homework Hack"
   ]
  },
  {
   "cell_type": "markdown",
   "metadata": {},
   "source": [
    "### Part 1: Create a Profile Information (dict)\n",
    "Create a dictionary called \"profile\" that contains the following keys.\n",
    "Create the variables \"name\", \"age\", \"city\", and \"favorite_color\".\n",
    "Assign values to these keys. Name should be a string, age should be an integer, city should be a string, and favorite_color should be a string."
   ]
  },
  {
   "cell_type": "markdown",
   "metadata": {},
   "source": [
    "<details>\n",
    "    <summary>See Answer</summary>\n",
    "    <pre><code>\n",
    "profile = {\n",
    "    \"name\": \"Your Name\",\n",
    "    \"age\": 15,\n",
    "    \"city\": \"Your City\",\n",
    "    \"favorite_color\": \"Blue\"\n",
    "}\n",
    "print(\"Profile:\", profile)\n",
    "    </code></pre>\n",
    "</details>\n"
   ]
  },
  {
   "cell_type": "markdown",
   "metadata": {},
   "source": [
    "### Part 2: Create a List of Hobbies (list)\n",
    "Create a list called \"hobbies\" that includes three of your hobbies as strings. Print the \"hobbies\" list."
   ]
  },
  {
   "cell_type": "markdown",
   "metadata": {},
   "source": [
    "<details>\n",
    "    <summary>See Answer</summary>\n",
    "    <pre><code>\n",
    "hobbies = [\"Reading\", \"Gaming\", \"Swimming\"]\n",
    "print(\"Hobbies:\", hobbies)\n",
    "    </code></pre>\n",
    "</details>\n"
   ]
  },
  {
   "cell_type": "markdown",
   "metadata": {},
   "source": [
    "### Part 3: Add Hobbies to Profile (dict and list)\n",
    "Add the \"hobbies\" list to the \"profile\" dictionary under the key \"hobbies\". Print the updated \"profile\" dictionary."
   ]
  },
  {
   "cell_type": "markdown",
   "metadata": {},
   "source": [
    "<details>\n",
    "    <summary>See Answer</summary>\n",
    "    <pre><code>\n",
    "profile[\"hobbies\"] = hobbies\n",
    "print(\"Updated Profile:\", profile)\n",
    "    </code></pre>\n",
    "</details>\n"
   ]
  },
  {
   "cell_type": "markdown",
   "metadata": {},
   "source": [
    "### Part 4: Check Availability of a Hobby (bool)\n",
    "Choose one of your hobbies and create a boolean variable called \"has_hobby\". Set \"has_hobby\" to True if your hobby is available to do today, otherwise set it to False. Print a message using \"has_hobby\" like: \"Is <<your hobby>> available today? <<True/False>>\""
   ]
  },
  {
   "cell_type": "markdown",
   "metadata": {},
   "source": [
    "<details>\n",
    "    <summary>See Answer</summary>\n",
    "    <pre><code>\n",
    "has_hobby = True  # or False\n",
    "print(f\"Is {hobbies[0]} available today? {has_hobby}\")\n",
    "    </code></pre>\n",
    "</details>\n"
   ]
  },
  {
   "cell_type": "markdown",
   "metadata": {},
   "source": [
    "### Part 5: Total Number of Hobbies (int)\n",
    "Create a variable called \"total_hobbies\" and set it to the number of hobbies in your \"hobbies\" list. Print a message like: \"I have <<total_hobbies>> hobbies.\""
   ]
  },
  {
   "cell_type": "markdown",
   "metadata": {},
   "source": [
    "<details>\n",
    "    <summary>See Answer</summary>\n",
    "    <pre><code>\n",
    "total_hobbies = len(hobbies)\n",
    "print(f\"I have {total_hobbies} hobbies.\")\n",
    "    </code></pre>\n",
    "</details>\n"
   ]
  },
  {
   "cell_type": "markdown",
   "metadata": {},
   "source": [
    "### Part 6: Favorite Hobbies (tuple)\n",
    "Create a tuple called \"favorite_hobbies\" that contains your two most favorite hobbies. Print the \"favorite_hobbies\" tuple."
   ]
  },
  {
   "cell_type": "markdown",
   "metadata": {},
   "source": [
    "<details>\n",
    "    <summary>See Answer</summary>\n",
    "    <pre><code>\n",
    "favorite_hobbies = (\"Gaming\", \"Reading\")\n",
    "print(\"Favorite Hobbies:\", favorite_hobbies)\n",
    "    </code></pre>\n",
    "</details>\n"
   ]
  },
  {
   "cell_type": "markdown",
   "metadata": {},
   "source": [
    "### Part 7: Add a New Item to Your Profile (set)\n",
    "Create a set called \"skills\" and add three unique skills you have. Print the set of \"skills\"."
   ]
  },
  {
   "cell_type": "markdown",
   "metadata": {},
   "source": [
    "<details>\n",
    "    <summary>See Answer</summary>\n",
    "    <pre><code>\n",
    "skills = {\"Coding\", \"Drawing\", \"Cooking\"}\n",
    "print(\"Skills:\", skills)\n",
    "    </code></pre>\n",
    "</details>\n"
   ]
  },
  {
   "cell_type": "markdown",
   "metadata": {},
   "source": [
    "### Part 8: Decide to Add a New Skill (NoneType)\n",
    "You are thinking about learning a new skill. Create a variable called \"new_skill\" and set it to None (you haven't decided yet). Print the value of \"new_skill\".\n"
   ]
  },
  {
   "cell_type": "markdown",
   "metadata": {},
   "source": [
    "<details>\n",
    "    <summary>See Answer</summary>\n",
    "    <pre><code>\n",
    "new_skill = None\n",
    "print(\"New Skill:\", new_skill)\n",
    "    </code></pre>\n",
    "</details>\n"
   ]
  },
  {
   "cell_type": "markdown",
   "metadata": {},
   "source": [
    "### Part 9: Calculate Total Profile Cost (float)\n",
    "Assume each hobby costs $5 to pursue and each skill costs $10 to develop. Create a variable called \"total_cost\" as a float, and calculate how much it would cost to develop all your hobbies and skills. Print the total cost."
   ]
  },
  {
   "cell_type": "markdown",
   "metadata": {},
   "source": [
    "<details>\n",
    "    <summary>See Answer</summary>\n",
    "    <pre><code>\n",
    "total_cost = float(total_hobbies * 5 + len(skills) * 10)\n",
    "print(f\"Total cost to pursue hobbies and skills: ${total_cost:.2f}\")\n",
    "    </code></pre>\n",
    "</details>\n"
   ]
  },
  {
   "cell_type": "markdown",
   "metadata": {},
   "source": [
    "## BONUS: Remake the entire thing using JavaScript!"
   ]
  },
  {
   "cell_type": "markdown",
   "metadata": {},
   "source": []
  }
 ],
 "metadata": {
  "kernelspec": {
   "display_name": "Python 3",
   "language": "python",
   "name": "python3"
  },
  "language_info": {
   "codemirror_mode": {
    "name": "ipython",
    "version": 3
   },
   "file_extension": ".py",
   "mimetype": "text/x-python",
   "name": "python",
   "nbconvert_exporter": "python",
   "pygments_lexer": "ipython3",
   "version": "3.10.0 (v3.10.0:b494f5935c, Oct  4 2021, 14:59:19) [Clang 12.0.5 (clang-1205.0.22.11)]"
  },
  "vscode": {
   "interpreter": {
    "hash": "aee8b7b246df8f9039afb4144a1f6fd8d2ca17a180786b69acc140d282b71a49"
   }
  }
 },
 "nbformat": 4,
 "nbformat_minor": 2
}
