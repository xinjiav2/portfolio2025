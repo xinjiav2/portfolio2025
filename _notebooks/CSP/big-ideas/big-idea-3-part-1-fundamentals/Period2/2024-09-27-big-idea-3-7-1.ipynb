{
 "cells": [
  {
   "cell_type": "raw",
   "metadata": {
    "vscode": {
     "languageId": "raw"
    }
   },
   "source": [
    "---\n",
    "toc: false\n",
    "comments: true\n",
    "layout: post\n",
    "title: 3.7-P2 Nested Conditionals\n",
    "description: Student led teaching Nested Conditionals using Javascript and Python \n",
    "permalink: /csp/big-idea/p2/3-7-1\n",
    "categories: [CSP Big Ideas]\n",
    "author:  Nolan, Tarun, Kush, and Vincent \n",
    "menu: nav/csp_units/csp_unit3_p2_fundamentals.html\n",
    "---"
   ]
  },
  {
   "cell_type": "markdown",
   "metadata": {},
   "source": [
    "## Nested conditionals and what are they? \n",
    "- *Conditional Statements*: A conditional statement in programming is a way to make decisions. It checks if something is true or false, and based on that, it tells the program what to do next.\n",
    "- *Nested Conditionals*: A nested conditional in coding is when an if or else statement is placed inside another if or else statement. This allows for checking multiple conditions in sequence"
   ]
  },
  {
   "cell_type": "markdown",
   "metadata": {},
   "source": [
    "<img src=\"https://scaler.com/topics/images/flowchart-for-nested-if-else-statements\" alt=\"Flowchart for Nested If-Else Statements\" width=\"500\" height=\"400\">\n"
   ]
  },
  {
   "cell_type": "markdown",
   "metadata": {},
   "source": [
    "### Example #1: Drivers license"
   ]
  },
  {
   "cell_type": "markdown",
   "metadata": {},
   "source": [
    "#### Python"
   ]
  },
  {
   "cell_type": "code",
   "execution_count": 3,
   "metadata": {},
   "outputs": [
    {
     "name": "stdout",
     "output_type": "stream",
     "text": [
      "Not old enough to drive.\n"
     ]
    }
   ],
   "source": [
    "age = int(input(\"Enter your age: \"))\n",
    "has_license = input(\"Do you have a driver's license? (yes/no): \").lower()\n",
    "\n",
    "if age >= 16:\n",
    "    if has_license == \"yes\":\n",
    "        print(\"You can drive!\")\n",
    "    else:\n",
    "        print(\"Get a driver's license.\")\n",
    "else:\n",
    "    print(\"Not old enough to drive.\")"
   ]
  },
  {
   "cell_type": "markdown",
   "metadata": {},
   "source": [
    "#### Javascript"
   ]
  },
  {
   "cell_type": "code",
   "execution_count": 1,
   "metadata": {
    "vscode": {
     "languageId": "javascript"
    }
   },
   "outputs": [
    {
     "data": {
      "application/javascript": "// Get user input\nlet age = parseInt(prompt(\"Enter your age: \"));\nlet hasLicense = prompt(\"Do you have a driver's license? (yes/no): \").toLowerCase();\n\n// Check if the person can drive\nif (age >= 18) {\n    if (hasLicense === \"yes\") {\n        console.log(\"You can drive!\");\n    } else {\n        console.log(\"Get a driver's license.\");\n    }\n} else {\n    console.log(\"Not old enough to drive.\");\n}\n",
      "text/plain": [
       "<IPython.core.display.Javascript object>"
      ]
     },
     "metadata": {},
     "output_type": "display_data"
    }
   ],
   "source": [
    "%%js\n",
    "// Get user input\n",
    "let age = parseInt(prompt(\"Enter your age: \"));\n",
    "let hasLicense = prompt(\"Do you have a driver's license? (yes/no): \").toLowerCase();\n",
    "\n",
    "// Check if the person can drive\n",
    "if (age >= 16) {\n",
    "    if (hasLicense === \"yes\") {\n",
    "        console.log(\"You can drive!\");\n",
    "    } else {\n",
    "        console.log(\"Get a driver's license.\");\n",
    "    }\n",
    "} else {\n",
    "    console.log(\"Not old enough to drive.\");\n",
    "}"
   ]
  },
  {
   "cell_type": "markdown",
   "metadata": {},
   "source": [
    "- User Input: The code prompts the user to enter their age and whether they have a driver's license, storing the values in age and hasLicense.\n",
    "- Age Check: It first checks if the user is 18 years old or older. If true, it proceeds to check if they have a driver's license.\n",
    "- License Check: Depending on whether they have a license, the code outputs either \"You can drive!\" or \"Get a driver's license.\" If the user is under 18, it outputs \"Not old enough to drive.\""
   ]
  },
  {
   "cell_type": "markdown",
   "metadata": {},
   "source": [
    "### Example #2: Credit Score"
   ]
  },
  {
   "cell_type": "markdown",
   "metadata": {},
   "source": [
    "#### Python"
   ]
  },
  {
   "cell_type": "code",
   "execution_count": null,
   "metadata": {},
   "outputs": [
    {
     "name": "stdout",
     "output_type": "stream",
     "text": [
      "Not eligible for loan due to low credit score\n"
     ]
    }
   ],
   "source": [
    "credit_score = 100\n",
    "income = 10000\n",
    "\n",
    "if credit_score < 700:\n",
    "    print(\"Not eligible for loan due to low credit score\")\n",
    "elif income < 50000:\n",
    "    print(\"Not eligible for loan due to low income\")\n",
    "else:\n",
    "    print(\"Eligible for loan\")"
   ]
  },
  {
   "cell_type": "markdown",
   "metadata": {},
   "source": [
    "#### Javascript"
   ]
  },
  {
   "cell_type": "code",
   "execution_count": 1,
   "metadata": {
    "vscode": {
     "languageId": "javascript"
    }
   },
   "outputs": [
    {
     "data": {
      "application/javascript": "let credit_score = 100;\nlet income = 10000;\n\nif (credit_score < 700) {\n    console.log(\"Not eligible for loan due to low credit score\");\n} else if (income < 50000) {\n    console.log(\"Not eligible for loan due to low income\");\n} else {\n    console.log(\"Eligible for loan\");\n}\n",
      "text/plain": [
       "<IPython.core.display.Javascript object>"
      ]
     },
     "metadata": {},
     "output_type": "display_data"
    }
   ],
   "source": [
    "%%js\n",
    "let credit_score = 100;\n",
    "let income = 10000;\n",
    "\n",
    "if (credit_score < 700) {\n",
    "    console.log(\"Not eligible for loan due to low credit score\");\n",
    "} else if (income < 50000) {\n",
    "    console.log(\"Not eligible for loan due to low income\");\n",
    "} else {\n",
    "    console.log(\"Eligible for loan\");\n",
    "}"
   ]
  },
  {
   "cell_type": "markdown",
   "metadata": {},
   "source": [
    "- Both snippets (Python and JavaScript) check loan eligibility based on two factors: credit_score and income.\n",
    "- If the credit_score is less than 700, both codes print a message stating that the person is not eligible due to a low credit score.\n",
    "- If the credit_score is 700 or higher but the income is less than 50,000, both codes output that the person is not eligible due to low income.\n",
    "- If both conditions are met (credit score ≥ 700 and income ≥ 50,000), both snippets print that the person is eligible for a loan.\n",
    "- The Python code uses print() to display messages in the console, while the JavaScript code uses console.log() to achieve the same result."
   ]
  },
  {
   "cell_type": "markdown",
   "metadata": {},
   "source": [
    "### Example #3 : Shipping"
   ]
  },
  {
   "cell_type": "code",
   "execution_count": 4,
   "metadata": {},
   "outputs": [
    {
     "name": "stdout",
     "output_type": "stream",
     "text": [
      "Free express shipping\n"
     ]
    }
   ],
   "source": [
    "is_subscriber = True\n",
    "order_weight = 12\n",
    "\n",
    "if is_subscriber:\n",
    "    if order_weight > 10:\n",
    "        print(\"Free express shipping\")\n",
    "    else:\n",
    "        print(\"Free standard shipping\")\n",
    "else:\n",
    "    if order_weight > 10:\n",
    "        print(\"Free standard shipping\")\n",
    "    else:\n",
    "        print(\"No free shipping\")\n"
   ]
  },
  {
   "cell_type": "markdown",
   "metadata": {},
   "source": [
    "- The code checks if a person is a subscriber using the is_subscriber variable.\n",
    "- If they are a subscriber and the order_weight is greater than 10, it prints \"Free express shipping.\"\n",
    "- If they are a subscriber and the weight is 10 or less, it prints \"Free standard shipping.\"\n",
    "- If they are not a subscriber, it checks the weight again and either prints \"Free standard shipping\" or \"No free shipping\" based on the weight."
   ]
  },
  {
   "cell_type": "markdown",
   "metadata": {},
   "source": [
    "## Summary of Nested Conditionals and Conditional Statements"
   ]
  },
  {
   "cell_type": "markdown",
   "metadata": {},
   "source": [
    "- Conditional Statements*: Conditional statements are programming structures that run specific code based on whether a condition is true or false. The most common type is the if statement, which can be followed by else or else if to manage different outcomes.\n",
    "- Nested Conditionals*: Nested conditionals are when one conditional statement is placed inside another, allowing you to check extra conditions based on earlier ones, which helps your program make more complex decisions."
   ]
  }
 ],
 "metadata": {
  "kernelspec": {
   "display_name": "venv",
   "language": "python",
   "name": "python3"
  },
  "language_info": {
   "codemirror_mode": {
    "name": "ipython",
    "version": 3
   },
   "file_extension": ".py",
   "mimetype": "text/x-python",
   "name": "python",
   "nbconvert_exporter": "python",
   "pygments_lexer": "ipython3",
   "version": "3.9.6"
  }
 },
 "nbformat": 4,
 "nbformat_minor": 2
}
