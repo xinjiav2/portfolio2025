{
 "cells": [
  {
   "cell_type": "raw",
   "metadata": {
    "vscode": {
     "languageId": "raw"
    }
   },
   "source": [
    "---\n",
    "layout: post\n",
    "title: Javascript Variables\n",
    "description: Creating a lesson by using Javascript. \n",
    "categories: [Python, Javascript]\n",
    "permalink: /csp/big-idea/p2/3-1-2\n",
    "menu: nav/csp_units/csp_unit3_p2_fundamentals.html\n",
    "author: Arhaan\n",
    "toc: true\n",
    "comments: true\n",
    "---"
   ]
  },
  {
   "cell_type": "markdown",
   "metadata": {},
   "source": [
    "## JavaScript Variables and Data Types\n",
    "\n",
    "In this notebook, we will explore different types of variables and data types used in JavaScript. JavaScript is a dynamically typed language, which means that variables do not need to be explicitly declared with a type. The type of the variable is determined by the value assigned to it.\n",
    "\n",
    "### Types of Variables in JavaScript:\n",
    "- `var`: Declares a variable, optionally initializing it to a value.\n",
    "- `let`: Declares a block-scoped local variable, optionally initializing it to a value.\n",
    "- `const`: Declares a block-scoped, read-only constant.\n",
    "\n",
    "### Data Types in JavaScript:\n",
    "- Primitive Data Types:\n",
    "  - `String`\n",
    "  - `Number`\n",
    "  - `Boolean`\n",
    "  - `Null`\n",
    "  - `Undefined`\n",
    "  - `Symbol`\n",
    "- Non-primitive Data Types:\n",
    "  - `Object`\n",
    "  - `Array`\n",
    "  - `Function`"
   ]
  },
  {
   "cell_type": "markdown",
   "metadata": {},
   "source": [
    "## Naming convention in JavaScript\n",
    "The convention in JavaScript is different in Python on its use of **camelCase for variables**, functions, and mehods;  verus Python usage of snake_case.\n",
    "\n",
    "- **camelCase** is used for variables, functions, and methods.\n",
    "- **PascalCase** is used for class names and constructor functions.\n",
    "- **UPPER_SNAKE_CASE** is used for constants."
   ]
  },
  {
   "cell_type": "markdown",
   "metadata": {
    "vscode": {
     "languageId": "javascript"
    }
   },
   "source": [
    "## Strings in JavaScript\n",
    "\n",
    "A **string** in JavaScript is used to represent textual data. Strings are created by enclosing characters within quotes (single or double quotes).\n",
    "\n",
    "### Example:\n",
    "In this example, we will declare a string variable and print it to the console.\n"
   ]
  },
  {
   "cell_type": "code",
   "execution_count": 15,
   "metadata": {
    "vscode": {
     "languageId": "javascript"
    }
   },
   "outputs": [
    {
     "data": {
      "application/javascript": "// 1. Strings\nlet name = \"Arhaan\";\nconsole.log(\"String: \", name);\nelement.append(\"String: \" + name + \"<br>\");\n",
      "text/plain": [
       "<IPython.core.display.Javascript object>"
      ]
     },
     "metadata": {},
     "output_type": "display_data"
    }
   ],
   "source": [
    "%%js\n",
    "// 1. Strings\n",
    "let name = \"Arhaan\";\n",
    "console.log(\"String: \", name);\n",
    "element.append(\"String: \" + name + \"<br>\");"
   ]
  },
  {
   "cell_type": "markdown",
   "metadata": {},
   "source": [
    "## Numbers in JavaScript\n",
    "\n",
    "JavaScript has only one type of number. Numbers can be written with or without decimals. They can be integers or floating-point numbers.\n",
    "\n",
    "### Example:\n",
    "In this example, we will declare a number variable and print it to the console.\n"
   ]
  },
  {
   "cell_type": "code",
   "execution_count": 16,
   "metadata": {
    "vscode": {
     "languageId": "javascript"
    }
   },
   "outputs": [
    {
     "data": {
      "application/javascript": "let age = 25;\nlet height = 5.9;\nconsole.log(age);   // Output: 25\nconsole.log(height); // Output: 5.9\n\n",
      "text/plain": [
       "<IPython.core.display.Javascript object>"
      ]
     },
     "metadata": {},
     "output_type": "display_data"
    }
   ],
   "source": [
    "%%js\n",
    "let age = 25;\n",
    "let height = 5.9;\n",
    "console.log(age);   // Output: 25\n",
    "console.log(height); // Output: 5.9\n",
    "\n"
   ]
  },
  {
   "cell_type": "markdown",
   "metadata": {},
   "source": [
    "## Booleans in JavaScript\n",
    "\n",
    "A **boolean** represents one of two values: `true` or `false`. Booleans are typically used for logical operations.\n",
    "\n",
    "### Example:\n",
    "In this example, we will declare a boolean variable and print it to the console.\n"
   ]
  },
  {
   "cell_type": "code",
   "execution_count": 17,
   "metadata": {
    "vscode": {
     "languageId": "javascript"
    }
   },
   "outputs": [
    {
     "data": {
      "application/javascript": "let isStudent = true;\nlet isGraduate = false;\nconsole.log(isStudent);  // Output: true\nconsole.log(isGraduate);  // Output: false\n\n",
      "text/plain": [
       "<IPython.core.display.Javascript object>"
      ]
     },
     "metadata": {},
     "output_type": "display_data"
    }
   ],
   "source": [
    "%%js\n",
    "let isStudent = true;\n",
    "let isGraduate = false;\n",
    "console.log(isStudent);  // Output: true\n",
    "console.log(isGraduate);  // Output: false\n",
    "\n"
   ]
  },
  {
   "cell_type": "markdown",
   "metadata": {},
   "source": [
    "## Undefined in JavaScript\n",
    "\n",
    "A variable in JavaScript that has been declared but not assigned a value has the value `undefined`.\n",
    "\n",
    "### Example:\n",
    "In this example, we will declare an undefined variable and print its value.\n"
   ]
  },
  {
   "cell_type": "code",
   "execution_count": 18,
   "metadata": {
    "vscode": {
     "languageId": "javascript"
    }
   },
   "outputs": [
    {
     "data": {
      "application/javascript": "// 4. Undefined\nlet uninitialized;\nconsole.log(uninitialized); // Output: undefined\n\n",
      "text/plain": [
       "<IPython.core.display.Javascript object>"
      ]
     },
     "metadata": {},
     "output_type": "display_data"
    }
   ],
   "source": [
    "%%js\n",
    "// 4. Undefined\n",
    "let uninitialized;\n",
    "console.log(uninitialized); // Output: undefined\n",
    "\n"
   ]
  },
  {
   "cell_type": "markdown",
   "metadata": {},
   "source": [
    "## Null in JavaScript\n",
    "\n",
    "The `null` value represents the intentional absence of any object value. It is often used to indicate that a variable should not contain any value.\n",
    "\n",
    "### Example:\n",
    "In this example, we will declare a null variable and print its value.\n"
   ]
  },
  {
   "cell_type": "code",
   "execution_count": 19,
   "metadata": {
    "vscode": {
     "languageId": "javascript"
    }
   },
   "outputs": [
    {
     "data": {
      "application/javascript": "let emptyValue = null;\nconsole.log(emptyValue); // Output: null\n\n",
      "text/plain": [
       "<IPython.core.display.Javascript object>"
      ]
     },
     "metadata": {},
     "output_type": "display_data"
    }
   ],
   "source": [
    "%%js\n",
    "let emptyValue = null;\n",
    "console.log(emptyValue); // Output: null\n",
    "\n"
   ]
  },
  {
   "cell_type": "markdown",
   "metadata": {},
   "source": [
    "## Symbol\n",
    "\n",
    "A unique and immutable data type used primarily as object property keys.\n",
    "\n"
   ]
  },
  {
   "cell_type": "code",
   "execution_count": 26,
   "metadata": {
    "vscode": {
     "languageId": "javascript"
    }
   },
   "outputs": [
    {
     "data": {
      "application/javascript": "// Creating a unique Symbol\nlet uniqueId = Symbol('id');\n\n// Outputting the Symbol\nconsole.log(uniqueId); // Output: Symbol(id)\n\n\n",
      "text/plain": [
       "<IPython.core.display.Javascript object>"
      ]
     },
     "metadata": {},
     "output_type": "display_data"
    }
   ],
   "source": [
    "%%js\n",
    "// Creating a unique Symbol\n",
    "let uniqueId = Symbol('id');\n",
    "\n",
    "// Outputting the Symbol\n",
    "console.log(uniqueId); // Output: Symbol(id)\n",
    "\n",
    "\n"
   ]
  },
  {
   "cell_type": "markdown",
   "metadata": {},
   "source": [
    "## Arrays and Objects in JavaScript\n",
    "\n",
    "### Arrays:\n",
    "Arrays are used to store multiple values in a single variable. Each value is called an element, and arrays can store values of any type.\n",
    "\n",
    "### Objects:\n",
    "Objects are collections of key-value pairs where each key (also called a property) is associated with a value. Objects are the most important data type in JavaScript. They are also called **JSON Objects** and are similart to Python dictionaries.\n",
    "\n",
    "### Example:\n",
    "In this example, we will declare an array and an object and print them to the console.\n"
   ]
  },
  {
   "cell_type": "code",
   "execution_count": 11,
   "metadata": {
    "vscode": {
     "languageId": "javascript"
    }
   },
   "outputs": [
    {
     "data": {
      "application/javascript": "\n//Arrays\nlet colors = [\"red\", \"green\", \"blue\"];\nconsole.log(colors); // Output: ['red', 'green', 'blue']\n\n//objects\nlet person = {\n    name: \"John Doe\",\n    age: 25,\n    isStudent: true\n};\nconsole.log(person); // Output: { name: 'John Doe', age: 25, isStudent: true }\n\n//fumction \nfunction greet(name) {\n    return \"Hello, \" + name + \"!\";\n}\nconsole.log(greet(\"Alice\")); // Output: Hello, Alice!\n\n",
      "text/plain": [
       "<IPython.core.display.Javascript object>"
      ]
     },
     "metadata": {},
     "output_type": "display_data"
    }
   ],
   "source": [
    "%%js\n",
    "\n",
    "//Arrays\n",
    "let colors = [\"red\", \"green\", \"blue\"];\n",
    "console.log(colors); // Output: ['red', 'green', 'blue']\n",
    "\n",
    "//objects\n",
    "let person = {\n",
    "    name: \"John Doe\",\n",
    "    age: 25,\n",
    "    isStudent: true\n",
    "};\n",
    "console.log(person); // Output: { name: 'John Doe', age: 25, isStudent: true }\n",
    "\n",
    "//fumction \n",
    "function greet(name) {\n",
    "    return \"Hello, \" + name + \"!\";\n",
    "}\n",
    "console.log(greet(\"Alice\")); // Output: Hello, Alice!\n",
    "\n"
   ]
  }
 ],
 "metadata": {
  "kernelspec": {
   "display_name": "venv",
   "language": "python",
   "name": "python3"
  },
  "language_info": {
   "codemirror_mode": {
    "name": "ipython",
    "version": 3
   },
   "file_extension": ".py",
   "mimetype": "text/x-python",
   "name": "python",
   "nbconvert_exporter": "python",
   "pygments_lexer": "ipython3",
   "version": "3.12.5"
  }
 },
 "nbformat": 4,
 "nbformat_minor": 2
}
