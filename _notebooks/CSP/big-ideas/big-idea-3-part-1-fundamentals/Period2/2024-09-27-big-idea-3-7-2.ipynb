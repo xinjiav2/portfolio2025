{
 "cells": [
  {
   "cell_type": "raw",
   "metadata": {},
   "source": [
    "---\n",
    "toc: false\n",
    "comments: true\n",
    "layout: post\n",
    "title: 3.7.2 Nested Conditionals Homework Hack\n",
    "description: Student led teaching on Conditionals using Javascript and Python\n",
    "permalink: /csp/big-idea/p2/3-7-2\n",
    "categories: [CSP Big Ideas]\n",
    "author:  Kush, Nolan, Vincent, and Tarun\n",
    "menu: nav/csp_units/csp_unit3_p2_fundamentals.html\n",
    "---"
   ]
  },
  {
   "cell_type": "markdown",
   "metadata": {},
   "source": [
    "## Homework Hack"
   ]
  },
  {
   "cell_type": "markdown",
   "metadata": {},
   "source": [
    "## Directions:\n",
    "Task List:\n",
    "1. Get Age: Prompt the user to enter their age.\n",
    "2. Check Ball Ownership: Ask if they have a ball (yes/no).\n",
    "3. Check Eligibility: Verify if they are at least 5 years old and have a ball.\n",
    "4. Determine Group: Assign a play group based on age (under 8 or 8 and older).\n",
    "5. Display Result: Print whether they can join the game and their group."
   ]
  },
  {
   "cell_type": "markdown",
   "metadata": {},
   "source": [
    "# Solution:"
   ]
  },
  {
   "cell_type": "code",
   "execution_count": 1,
   "metadata": {},
   "outputs": [
    {
     "name": "stdout",
     "output_type": "stream",
     "text": [
      "Sorry, you can't join the game yet.\n"
     ]
    }
   ],
   "source": [
    "# Input age and whether the child has a ball\n",
    "age = int(input(\"Enter your age: \"))\n",
    "has_ball = input(\"Do you have a ball? (yes/no): \").lower()\n",
    "\n",
    "# Check if the child can join the game\n",
    "can_join_game = age >= 5 and has_ball == \"yes\"\n",
    "\n",
    "if can_join_game:\n",
    "    if age < 8:\n",
    "        message = \"You can play with the younger kids.\"\n",
    "    else:\n",
    "        message = \"You can play with the older kids.\"\n",
    "\n",
    "    print(f\"Great! {message}\")\n",
    "else:\n",
    "    print(\"Sorry, you can't join the game yet.\")"
   ]
  }
 ],
 "metadata": {
  "kernelspec": {
   "display_name": "Python 3",
   "language": "python",
   "name": "python3"
  },
  "language_info": {
   "codemirror_mode": {
    "name": "ipython",
    "version": 3
   },
   "file_extension": ".py",
   "mimetype": "text/x-python",
   "name": "python",
   "nbconvert_exporter": "python",
   "pygments_lexer": "ipython3",
   "version": "3.10.12"
  }
 },
 "nbformat": 4,
 "nbformat_minor": 2
}
