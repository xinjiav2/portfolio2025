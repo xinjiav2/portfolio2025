{
 "cells": [
  {
   "cell_type": "raw",
   "metadata": {
    "vscode": {
     "languageId": "raw"
    }
   },
   "source": [
    "---\n",
    "toc: false\n",
    "comments: true\n",
    "layout: post\n",
    "title: 3.7-P2 Nested Conditionals \n",
    "description: Student led teaching on Nested Conditionals using Javascript and Python\n",
    "permalink: /csp/big-idea/p2/3-7\n",
    "categories: [CSP Big Ideas]\n",
    "author:  Kush, Nolan, Vincent, and Tarun\n",
    "menu: nav/csp_units/csp_unit3_p2_fundamentals.html\n",
    "---"
   ]
  },
  {
   "cell_type": "markdown",
   "metadata": {},
   "source": [
    "## Content Outline\n",
    "\n",
    "3.7.1\n",
    "- If statements\n",
    "- Else Statements\n",
    "- Nested Conditionals\n",
    "- Examples using Javascript and Python\n",
    "\n",
    "3.7.2\n",
    "- Homework Hack Assignment\n",
    "- Homework Hack Javscript and Python Examples"
   ]
  },
  {
   "cell_type": "markdown",
   "metadata": {},
   "source": [
    "# Popcorn Hack #1"
   ]
  },
  {
   "cell_type": "markdown",
   "metadata": {},
   "source": [
    "### Task:\n",
    "\n",
    "Prompt the user for their age and whether they like sweets, then based on their age and preference, print either \"You can have candy,\" \"You can have a healthy snack,\" or \"You get a fruit snack.\""
   ]
  },
  {
   "cell_type": "code",
   "execution_count": null,
   "metadata": {},
   "outputs": [],
   "source": [
    "age = int(input(\"Enter your age: \"))\n",
    "likes_sweets = input(\"Do you like sweets? (yes/no): \").lower()\n",
    "\n",
    "if age >= 10:\n",
    "    if likes_sweets == \"yes\":\n",
    "        print(\"You can have candy!\")\n",
    "    else:\n",
    "        print(\"You can have a healthy snack.\")\n",
    "else:\n",
    "    print(\"You get a fruit snack.\")\n"
   ]
  },
  {
   "cell_type": "markdown",
   "metadata": {},
   "source": [
    "# Popcorn Hack #2"
   ]
  },
  {
   "cell_type": "markdown",
   "metadata": {},
   "source": [
    "### Task\n",
    "\n",
    "Create a Python program that checks your savings against the prices of different laptops and informs you which one you can afford to buy."
   ]
  },
  {
   "cell_type": "code",
   "execution_count": 2,
   "metadata": {},
   "outputs": [
    {
     "data": {
      "application/javascript": "// Weather Conditions\nlet is_sunny = true;\nlet is_raining = false;\n\n// Outdoor activity logic based on weather\nif (is_sunny) {\n    console.log(\"It's a nice day for outdoor activities.\");\n\n    if (is_raining) {\n        console.log(\"You might need an umbrella.\");\n    } else {\n        console.log(\"Enjoy the sunshine!\");\n    }\n} else {\n    console.log(\"Stay indoors today.\");\n}\n",
      "text/plain": [
       "<IPython.core.display.Javascript object>"
      ]
     },
     "metadata": {},
     "output_type": "display_data"
    }
   ],
   "source": [
    "# Savings\n",
    "savings = 500  \n",
    "\n",
    "# Laptop prices\n",
    "dell_price = 800\n",
    "hp_price = 700\n",
    "macbook_price = 1200\n",
    "\n",
    "# Determine which laptop you can buy\n",
    "if savings >= macbook_price:\n",
    "    print(\"You can buy a MacBook!\")\n",
    "elif savings >= dell_price:\n",
    "    print(\"You can buy a Dell laptop!\")\n",
    "elif savings >= hp_price:\n",
    "    print(\"You can buy an HP laptop!\")\n",
    "else:\n",
    "    print(\"You don't have enough money to buy a laptop.\")\n"
   ]
  },
  {
   "cell_type": "markdown",
   "metadata": {},
   "source": [
    "# Popcorn Hack #3"
   ]
  },
  {
   "cell_type": "markdown",
   "metadata": {},
   "source": [
    "### Task\n",
    "\n",
    "Create a simple JavaScript program that on the topic of your choice using boolean values and nested conditionals\n",
    "\n"
   ]
  },
  {
   "cell_type": "code",
   "execution_count": null,
   "metadata": {
    "vscode": {
     "languageId": "javascript"
    }
   },
   "outputs": [],
   "source": [
    "%%js\n",
    "// Grocery Conditions\n",
    "let is_store_open = true;\n",
    "let is_vegetables_available = false;\n",
    "\n",
    "// Shopping logic based on store and item availability\n",
    "if (is_store_open) {\n",
    "    console.log(\"You can go grocery shopping.\");\n",
    "\n",
    "    if (is_vegetables_available) {\n",
    "        console.log(\"Buy some fresh vegetables.\");\n",
    "    } else {\n",
    "        console.log(\"Check for other items on your list.\");\n",
    "    }\n",
    "} else {\n",
    "    console.log(\"The store is closed, shop another day.\");\n",
    "}"
   ]
  }
 ],
 "metadata": {
  "kernelspec": {
   "display_name": "Python 3",
   "language": "python",
   "name": "python3"
  },
  "language_info": {
   "codemirror_mode": {
    "name": "ipython",
    "version": 3
   },
   "file_extension": ".py",
   "mimetype": "text/x-python",
   "name": "python",
   "nbconvert_exporter": "python",
   "pygments_lexer": "ipython3",
   "version": "3.9.6"
  }
 },
 "nbformat": 4,
 "nbformat_minor": 2
}
