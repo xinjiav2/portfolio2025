{
 "cells": [
  {
   "cell_type": "raw",
   "metadata": {
    "vscode": {
     "languageId": "raw"
    }
   },
   "source": [
    "---\n",
    "layout: post\n",
    "title: 3.4-P2 Strings\n",
    "description: Interpret programs that use strings. \n",
    "categories: [Python, Javascript]\n",
    "permalink: /csp/big-idea/p2/3-4\n",
    "menu: nav/csp_units/csp_unit3_p2_fundamentals.html\n",
    "author: Arhaan, Mihir, Akshaj, Keerthan\n",
    "toc: true\n",
    "comments: true\n",
    "---"
   ]
  },
  {
   "cell_type": "markdown",
   "metadata": {},
   "source": [
    "## 3.4 Strings: Javascript\n",
    "Keerthan Karumudi\n",
    " - concatenation\n",
    " - string Interpolation\n",
    " - Indexing\n",
    " - substrings\n",
    " - escape characters"
   ]
  }
 ],
 "metadata": {
  "kernelspec": {
   "display_name": "venv",
   "language": "python",
   "name": "python3"
  },
  "language_info": {
   "codemirror_mode": {
    "name": "ipython",
    "version": 3
   },
   "file_extension": ".py",
   "mimetype": "text/x-python",
   "name": "python",
   "nbconvert_exporter": "python",
   "pygments_lexer": "ipython3",
   "version": "3.12.5"
  }
 },
 "nbformat": 4,
 "nbformat_minor": 2
}
