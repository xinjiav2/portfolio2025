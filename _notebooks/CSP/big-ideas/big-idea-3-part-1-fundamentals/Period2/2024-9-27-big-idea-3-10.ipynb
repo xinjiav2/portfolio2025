{
 "cells": [
  {
   "cell_type": "raw",
   "metadata": {
    "vscode": {
     "languageId": "raw"
    }
   },
   "source": [
    "---\n",
    "toc: false\n",
    "comments: true \n",
    "layout: post\n",
    "title: 3.10-P2 Lists\n",
    "description: Learn how storage and manipulation of multiple data items is performed using lists and indexing.\n",
    "permalink: /csp/big-idea/p2/3-10\n",
    "categories: [CSP Big Ideas]\n",
    "author:  Alex, Daksha, Darsh, Zach\n",
    "menu: nav/csp_units/csp_unit3_p2_fundamentals.html\n",
    "---"
   ]
  },
  {
   "cell_type": "markdown",
   "metadata": {},
   "source": [
    "## Outline of Content and Hacks"
   ]
  },
  {
   "cell_type": "markdown",
   "metadata": {
    "vscode": {
     "languageId": "raw"
    }
   },
   "source": [
    "### 3.10. Lists\n",
    "\n",
    "#### 3.10.1 List Operations - Alex Gustaf\n",
    "- **Assigning Values**: Assign values to list elements.\n",
    "- **Inserting Elements**: Insert elements at specific positions in the list.\n",
    "- **Appending Elements**: Append new elements to the end of the list.\n",
    "- **Removing Elements**: Remove elements from the list.\n",
    "- **Calculating Length**: Calculate the length of the list.\n",
    "\n",
    "---\n",
    "\n",
    "#### 3.10.2 Pseudocode: Sum of Even Numbers in a List - Daksha Gowda\n",
    "- **Variables**: Define necessary variables for calculation.\n",
    "- **Create Number List**: Initialize a list of numbers to work with.\n",
    "- **Modulus Operator**: Use the modulus operator to identify even numbers.\n",
    "- **Control Structures**: Implement `for` loops and `if` statements for iteration and condition checking.\n",
    "\n",
    "---\n",
    "\n",
    "#### 3.10.3 Hacks: Functions - Darsh\n",
    "- **Find Max and Min**: Create a function to identify the largest and smallest numbers in a list.\n",
    "- **Iterate Through the List**: Utilize loops to process each element effectively.\n",
    "\n",
    "---\n",
    "\n",
    "#### 3.10.4 Hacks: Lists - Zachary Peltz\n",
    "- **User Input**: Accept input from the user to populate the list.\n",
    "- **Element Attributes/Values**: Explore the attributes or values associated with list elements.\n",
    "\n",
    "---\n"
   ]
  },
  {
   "cell_type": "markdown",
   "metadata": {
    "vscode": {
     "languageId": "raw"
    }
   },
   "source": [
    "## Popcorn Hack #1\n",
    "\n",
    "- Take user input with input() function and append data to a list\n",
    "- Add all numbers in list and print sum\n",
    "- Allow removing of values using .pop method (removes last element in list)"
   ]
  },
  {
   "cell_type": "code",
   "execution_count": 1,
   "metadata": {},
   "outputs": [
    {
     "name": "stdout",
     "output_type": "stream",
     "text": [
      "Adding Numbers In List Script\n",
      "-------------------------\n",
      "Sum of numbers in list is 0\n",
      "Sum of numbers in list is 0\n",
      "Sum of numbers in list is 0\n",
      "No values to delete\n",
      "No values to delete\n"
     ]
    }
   ],
   "source": [
    "print(\"Adding Numbers In List Script\")\n",
    "print(\"-\"*25)\n",
    "numlist = []\n",
    "while True:\n",
    "    start = input(\"Would you like to (1) enter numbers (2) add numbers (3) remove last value added or (4) exit: \")\n",
    "    if start == \"1\":\n",
    "        val = input(\"Enter a numeric value: \") # take input while storing it in a variable\n",
    "        try: \n",
    "            test = int(val) # testing to see if input is an integer (numeric)\n",
    "        except:\n",
    "            print(\"Please enter a valid number\")\n",
    "            continue # 'continue' keyword skips to next step of while loop (basically restarting the loop)\n",
    "        numlist.append(int(val)) # append method to add values\n",
    "        print(\"Added \"+val+\" to list.\")\n",
    "    elif start == \"2\":\n",
    "        sum = 0\n",
    "        for num in numlist: # loop through list and add all values to sum variable\n",
    "            sum += num\n",
    "        print(\"Sum of numbers in list is \"+str(sum))\n",
    "    elif start == \"3\":\n",
    "        if len(numlist) > 0: # Make sure there are values in list to remove\n",
    "            print(\"Removed \"+str(numlist[len(numlist)-1])+\" from list.\")\n",
    "            numlist.pop()\n",
    "        else:\n",
    "            print(\"No values to delete\")\n",
    "    elif start == \"4\":\n",
    "        break # Break out of the while loop, or it will continue running forever\n",
    "    else:\n",
    "        continue\n",
    "\n",
    "\n"
   ]
  },
  {
   "cell_type": "markdown",
   "metadata": {},
   "source": [
    "## Popcorn Hack #2\n",
    "> using Pseuodcode, make a list of the number 1 through 100 and find the sum of all even numbers. Then use python and change your code into python"
   ]
  },
  {
   "cell_type": "markdown",
   "metadata": {},
   "source": [
    "<details>\n",
    "    <summary>See Answer</summary>\n",
    "    <pre><code>\n",
    "\n",
    "### Pseudocode\n",
    "   nums ← 1 to 100\n",
    "odd_sum ← 0\n",
    "\n",
    "FOR EACH score IN nums\n",
    "    IF score MOD 2 ≠ 0 THEN\n",
    "        odd_sum ← odd_sum + score\n",
    "    END IF\n",
    "END FOR\n",
    "\n",
    "DISPLAY (\"Sum of odd numbers in the list:\", odd_sum)\n",
    "\n",
    "### now in python\n",
    "nums = range(1, 101)  # This creates a range of numbers from 1 to 100\n",
    "odd_sum = 0\n",
    "\n",
    "for score in nums:\n",
    "    if score % 2 != 0:\n",
    "        odd_sum += score\n",
    "\n",
    "print(\"Sum of odd numbers in the list:\", odd_sum)\n",
    "</code></pre>\n",
    "\n",
    "\n",
    "</details>"
   ]
  },
  {
   "cell_type": "markdown",
   "metadata": {},
   "source": [
    "## Popcorn Hack #3"
   ]
  },
  {
   "cell_type": "markdown",
   "metadata": {},
   "source": [
    "<span style=\"color: #4A7C2E; font-size: 28px; font-weight: bold;\">Tasklist Generator</span>\n",
    "\n",
    "<p style=\"color: #4A7C2E;\">This Python code creates an empty list and prompts the user to append or add to the list by typing in Classes which they may have homework for. The code then prompts to finish the input whenever they feel like it. This helps as a task planner that can give an overall and concise representation of the classes with homeworks inputted.</p>\n",
    "\n",
    "<span style=\"color: #4A7C2E; font-size: 26px; font-weight: bold;\">Code</span>\n",
    "\n",
    "\n"
   ]
  },
  {
   "cell_type": "code",
   "execution_count": 2,
   "metadata": {},
   "outputs": [
    {
     "name": "stdout",
     "output_type": "stream",
     "text": [
      "Enter your tasks (type 'done' to finish):\n",
      "You have 5 task(s) on your list:\n",
      "- Homework for calc\n",
      "- Homework for APEL\n",
      "- Homework for CSP\n",
      "- Homework for chem\n",
      "- Homewok for history\n"
     ]
    }
   ],
   "source": [
    "def gather_tasks():\n",
    "    tasks = []\n",
    "    print(\"Enter your tasks (type 'done' to finish):\")\n",
    "    \n",
    "    while True:\n",
    "        task = input(\"Task: \")\n",
    "        if task.lower() == 'done':\n",
    "            break\n",
    "        tasks.append(task)\n",
    "    \n",
    "    return tasks\n",
    "\n",
    "def display_tasks(tasks):\n",
    "    count = len(tasks)\n",
    "    print(f\"You have {count} task(s) on your list:\")  \n",
    "    for task in tasks:No col\n",
    "        print(f\"- {task}\")  \n",
    "\n",
    "if __name__ == \"__main__\":\n",
    "    user_tasks = gather_tasks()\n",
    "    display_tasks(user_tasks)\n"
   ]
  }
 ],
 "metadata": {
  "kernelspec": {
   "display_name": "venv",
   "language": "python",
   "name": "python3"
  },
  "language_info": {
   "codemirror_mode": {
    "name": "ipython",
    "version": 3
   },
   "file_extension": ".py",
   "mimetype": "text/x-python",
   "name": "python",
   "nbconvert_exporter": "python",
   "pygments_lexer": "ipython3",
   "version": "3.12.3"
  }
 },
 "nbformat": 4,
 "nbformat_minor": 2
}
