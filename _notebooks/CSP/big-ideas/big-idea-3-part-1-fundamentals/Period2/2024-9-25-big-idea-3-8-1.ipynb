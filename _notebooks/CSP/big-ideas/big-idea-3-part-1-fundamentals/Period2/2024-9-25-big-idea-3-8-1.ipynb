{
 "cells": [
  {
   "cell_type": "raw",
   "metadata": {
    "vscode": {
     "languageId": "raw"
    }
   },
   "source": [
    "---\n",
    "toc: false\n",
    "comments: true\n",
    "layout: post\n",
    "title: 3.8.1 For Loops \n",
    "description: Student led teaching on Iteration. Learn how to do loops with Java and Python.\n",
    "permalink: /csp/big-idea/p2/3-8-1\n",
    "categories: [CSP Big Ideas]\n",
    "author:  Arshia Deb Roy\n",
    "menu: nav/csp_units/csp_unit3_p2_fundamentals.html\n",
    "---"
   ]
  },
  {
   "cell_type": "markdown",
   "metadata": {},
   "source": [
    "<span style=\"color: pink; font-size: 50px; font-family: 'Times New Roman';\"> For Loops </span>\n",
    "- A for loop is used in python for iterating over a sequence of code. \n",
    "- Through using a for loop, we can execute a set of commands that are in a list or set.\n",
    "-  Here is an example"
   ]
  },
  {
   "cell_type": "code",
   "execution_count": 1,
   "metadata": {},
   "outputs": [
    {
     "name": "stdout",
     "output_type": "stream",
     "text": [
      "🥒\n",
      "🥑\n",
      "🥕\n"
     ]
    }
   ],
   "source": [
    "vegetables = [\"🥒\", \"🥑\", \"🥕\"]\n",
    "for x in vegetables:\n",
    "  print(x)"
   ]
  },
  {
   "cell_type": "markdown",
   "metadata": {},
   "source": [
    "<span style=\"color: pink; font-size: 40px; font-family: 'Times New Roman';\"> Looping Through a String </span>\n",
    "- Even strings are iterable objects and contain a sequence of characters \n",
    "- Here in an example"
   ]
  },
  {
   "cell_type": "code",
   "execution_count": 13,
   "metadata": {},
   "outputs": [
    {
     "name": "stdout",
     "output_type": "stream",
     "text": [
      "a\n",
      "v\n",
      "o\n",
      "c\n",
      "a\n",
      "d\n",
      "o\n"
     ]
    }
   ],
   "source": [
    "for x in \"avocado\":\n",
    "  print(x) "
   ]
  },
  {
   "cell_type": "markdown",
   "metadata": {},
   "source": [
    "<span style=\"color: pink; font-size: 40px; font-family: 'Times New Roman';\"> The Break Statement </span>\n",
    "- A break statement can aid us in stopping a loop before it has loops all the items. \n",
    "- Here is an example"
   ]
  },
  {
   "cell_type": "code",
   "execution_count": 12,
   "metadata": {},
   "outputs": [
    {
     "name": "stdout",
     "output_type": "stream",
     "text": [
      "🥒\n",
      "🥑\n"
     ]
    }
   ],
   "source": [
    "vegetables = [\"🥒\", \"🥑\", \"🥕\"]\n",
    "for x in vegetables:\n",
    "  print(x)\n",
    "  if x == \"🥑\":\n",
    "    break"
   ]
  },
  {
   "cell_type": "markdown",
   "metadata": {},
   "source": [
    "<span style=\"color: pink; font-size: 40px; font-family: 'Times New Roman';\"> For Loops in Javascript </span>\n",
    "- For Loops that are iterated over arrays can be in executed in Javascript in addition to Python.\n",
    "- Here is an example"
   ]
  },
  {
   "cell_type": "code",
   "execution_count": 10,
   "metadata": {
    "vscode": {
     "languageId": "javascript"
    }
   },
   "outputs": [
    {
     "data": {
      "application/javascript": "const fruits = ['apple', 'banana', 'cherry'];\n\nfor (let i = 0; i < fruits.length; i++) {\n    console.log(fruits[i]);\n}\n",
      "text/plain": [
       "<IPython.core.display.Javascript object>"
      ]
     },
     "metadata": {},
     "output_type": "display_data"
    }
   ],
   "source": [
    "%%javascript\n",
    "const fruits = ['apple', 'banana', 'cherry'];\n",
    "\n",
    "for (let i = 0; i < fruits.length; i++) {\n",
    "    console.log(fruits[i]);\n",
    "}"
   ]
  },
  {
   "cell_type": "markdown",
   "metadata": {},
   "source": [
    "<span style=\"color: pink; font-size: 35px; font-family: 'Times New Roman';\"> Looping Through a String in Javascript </span>\n",
    "- This Loop is used to help iterate through every character in the string but in javascript\n",
    "- Here is an example "
   ]
  },
  {
   "cell_type": "code",
   "execution_count": 9,
   "metadata": {
    "vscode": {
     "languageId": "javascript"
    }
   },
   "outputs": [
    {
     "data": {
      "application/javascript": "const str = \"Hello, World!\";\n\nfor (let i = 0; i < str.length; i++) {\n    console.log(str[i]);\n}\n",
      "text/plain": [
       "<IPython.core.display.Javascript object>"
      ]
     },
     "metadata": {},
     "output_type": "display_data"
    }
   ],
   "source": [
    "%%javascript\n",
    "const str = \"Hello, World!\";\n",
    "\n",
    "for (let i = 0; i < str.length; i++) {\n",
    "    console.log(str[i]);\n",
    "}"
   ]
  },
  {
   "cell_type": "markdown",
   "metadata": {},
   "source": [
    "<span style=\"color: pink; font-size: 40px; font-family: 'Times New Roman';\"> Popcorn Hack #1 </span >\n",
    "- This first hack is in Javascript and allows you to count from 0 to 4. \n",
    "- Through using this simple hack you can utilize for loops and create an array of numbers "
   ]
  },
  {
   "cell_type": "code",
   "execution_count": 8,
   "metadata": {
    "vscode": {
     "languageId": "javascript"
    }
   },
   "outputs": [
    {
     "data": {
      "application/javascript": "for (let i = 0; i < 5; i++) {\n    console.log(i);\n}\n",
      "text/plain": [
       "<IPython.core.display.Javascript object>"
      ]
     },
     "metadata": {},
     "output_type": "display_data"
    }
   ],
   "source": [
    "%%javascript\n",
    "for (let i = 0; i < 5; i++) {\n",
    "    console.log(i);\n",
    "}"
   ]
  },
  {
   "cell_type": "markdown",
   "metadata": {},
   "source": [
    "<span style=\"color: pink; font-size: 40px; font-family: 'Times New Roman';\"> Popcorn Hack #2 </span>\n",
    "- The second hack is the use of code to make an array of fruits using Python\n",
    "- Through this hack you can use minimal code to list your favorite things "
   ]
  },
  {
   "cell_type": "code",
   "execution_count": 7,
   "metadata": {},
   "outputs": [
    {
     "name": "stdout",
     "output_type": "stream",
     "text": [
      "🍎\n",
      "🍌\n",
      "🍒\n"
     ]
    }
   ],
   "source": [
    "fruits = ['🍎', '🍌', '🍒']\n",
    "\n",
    "for fruit in fruits:\n",
    "    print(fruit)"
   ]
  },
  {
   "cell_type": "markdown",
   "metadata": {},
   "source": [
    "<span style=\"color: pink; font-size: 40px; font-family: 'Times New Roman';\"> Homework </span>\n",
    "- Try to add in two of the loops into your code, one in python and one in javascript. \n",
    "- This will help build your understanding on loops in both javascript and python \n",
    "- Additionally, try looping through a dictionary in order to be more creative with your code and personalize it"
   ]
  },
  {
   "cell_type": "code",
   "execution_count": 6,
   "metadata": {},
   "outputs": [
    {
     "name": "stdout",
     "output_type": "stream",
     "text": [
      "name Arshia\n",
      "age 16\n",
      "Arshia\n",
      "16\n",
      "name Arshia\n",
      "age 16\n"
     ]
    }
   ],
   "source": [
    "person = {'name': 'Arshia', 'age': 16}\n",
    "\n",
    "# Looping through keys\n",
    "for key in person:\n",
    "    print(key, person[key])\n",
    "\n",
    "# Looping through values\n",
    "for value in person.values():\n",
    "    print(value)\n",
    "\n",
    "# Looping through keys and values\n",
    "for key, value in person.items():\n",
    "    print(key, value)\n"
   ]
  }
 ],
 "metadata": {
  "kernelspec": {
   "display_name": "Python 3",
   "language": "python",
   "name": "python3"
  },
  "language_info": {
   "codemirror_mode": {
    "name": "ipython",
    "version": 3
   },
   "file_extension": ".py",
   "mimetype": "text/x-python",
   "name": "python",
   "nbconvert_exporter": "python",
   "pygments_lexer": "ipython3",
   "version": "3.12.3"
  }
 },
 "nbformat": 4,
 "nbformat_minor": 2
}
