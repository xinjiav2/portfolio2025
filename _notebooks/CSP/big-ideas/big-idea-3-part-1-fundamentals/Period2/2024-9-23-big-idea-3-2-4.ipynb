{
 "cells": [
  {
   "cell_type": "raw",
   "metadata": {
    "vscode": {
     "languageId": "raw"
    }
   },
   "source": [
    "---\n",
    "toc: false\n",
    "comments: true\n",
    "layout: post\n",
    "title: 3.2 Lesson Period 2 - Lists Data Abstraction\n",
    "description: Student led teaching on Abstraction. Teaching how various data types can use abstraction for copmutational efficiency.\n",
    "permalink: /csp/big-idea/p2/3-2-4/\n",
    "categories: [CSP Big Ideas]\n",
    "author:  Nikhil Maturi, Yash Parikh, Neil Chandra, Rohan Bojja (P.2)\n",
    "menu: nav/csp_units/csp_unit3_p2_fundamentals.html\n",
    "---"
   ]
  },
  {
   "cell_type": "markdown",
   "metadata": {},
   "source": [
    "## Lists - 3.2.4"
   ]
  },
  {
   "cell_type": "code",
   "execution_count": 1,
   "metadata": {},
   "outputs": [
    {
     "name": "stdout",
     "output_type": "stream",
     "text": [
      "['Jolly Rancher', 'Kit Kat', 'Starburst', 'Nerds', 'Nerd Clusters']\n",
      "--------------------------------------------------\n",
      "Appending i.e Adding Items to the List:\n",
      "['Jolly Rancher', 'Kit Kat', 'Starburst', 'Nerds', 'Nerd Clusters']\n",
      "--------------------------------------------------\n",
      "Removing Element from List:\n",
      "['Jolly Rancher', 'Kit Kat', 'Starburst', 'Nerds', 'Nerd Clusters', 'Laffy Taffy']\n",
      "--------------------------------------------------\n",
      "Sorts lists:\n",
      "Post sort list ['Jolly Rancher', 'Laffy Taffy', 'Nerd Clusters', 'Nerds', 'Starburst']\n"
     ]
    }
   ],
   "source": [
    "# Lists are abstraction because of their ability to group multiple data types together, without defining them separately\n",
    "# Lists also allow you to perform operations on them without excessive loops and checking, resulting in simpler code and efficiency\n",
    "candy = [\"Jolly Rancher\", \"Kit Kat\", \"Starburst\", \"Nerds\", \"Nerd Clusters\"]\n",
    "print(candy)\n",
    "print(\"-\"*50)\n",
    "\n",
    "# appending\n",
    "print(\"Appending i.e Adding Items to the List:\")\n",
    "print(candy)\n",
    "print(\"-\"*50)\n",
    "# abstracts having to manually extend list and inserting element removes that aspect of memory management\n",
    "candy.append(\"Laffy Taffy\") #adds item to end of list\n",
    "\n",
    "# removing\n",
    "print(\"Removing Element from List:\")\n",
    "print(candy)\n",
    "print(\"-\"*50)\n",
    "candy.remove(\"Kit Kat\")\n",
    "\n",
    "# sorting\n",
    "print(\"Sorts lists:\")\n",
    "candy.sort() # removes task of writing sorting algorithm from scratch with high computational efficiency, n log n.\n",
    "print(\"Post sort list\", candy)\n",
    "\n",
    "# duplicating\n",
    "candy_copy = candy.copy() # removes aspect of memory management and manual iteration to create list, and removes appending operations\n",
    "\n"
   ]
  },
  {
   "attachments": {},
   "cell_type": "markdown",
   "metadata": {},
   "source": [
    "## Javscript Version"
   ]
  },
  {
   "cell_type": "code",
   "execution_count": null,
   "metadata": {
    "vscode": {
     "languageId": "javascript"
    }
   },
   "outputs": [],
   "source": [
    "%%js\n",
    "// Lists in JavaScript (arrays)\n",
    "let candy = [\"Jolly Rancher\", \"Kit Kat\", \"Starburst\", \"Nerds\", \"Nerd Clusters\"];\n",
    "console.log(candy);\n",
    "console.log(\"-\".repeat(50));\n",
    "\n",
    "// Appending (Adding items to the list)\n",
    "console.log(\"Appending i.e. Adding Items to the List:\");\n",
    "candy.push(\"Laffy Taffy\");  // Adds item to the end of the list\n",
    "console.log(candy);\n",
    "console.log(\"-\".repeat(50));\n",
    "\n",
    "// Removing element from list\n",
    "console.log(\"Removing Element from List:\");\n",
    "let index = candy.indexOf(\"Kit Kat\");\n",
    "if (index !== -1) candy.splice(index, 1); // Removes \"Kit Kat\" if it exists\n",
    "console.log(candy);\n",
    "console.log(\"-\".repeat(50));\n",
    "\n",
    "// Sorting the list\n",
    "console.log(\"Sorts lists:\");\n",
    "candy.sort(); // removes task of writing sorting algorithm from scratch with high computational efficiency, n log n.\n",
    "console.log(\"Post sort list:\", candy);\n",
    "\n",
    "// Duplicating (copying) the list\n",
    "let candy_copy = [...candy]; // Creates a shallow copy of the list\n",
    "console.log(\"Candy copy:\", candy_copy);"
   ]
  },
  {
   "attachments": {},
   "cell_type": "markdown",
   "metadata": {},
   "source": [
    "<div id=\"output3\"></div>\n",
    "\n",
    "<script>\n",
    "// Lists in JavaScript (arrays)\n",
    "let candy = [\"Jolly Rancher\", \"Kit Kat\", \"Starburst\", \"Nerds\", \"Nerd Clusters\"];\n",
    "\n",
    "// Select the output element\n",
    "let outputElement3 = document.getElementById(\"output3\");\n",
    "\n",
    "// Display the initial list\n",
    "outputElement3.innerHTML = `\n",
    "  <p><strong>Initial List:</strong> ${candy.join(\", \")}</p>\n",
    "  <p>${\"-\".repeat(50)}</p>\n",
    "`;\n",
    "\n",
    "// Appending (Adding items to the list)\n",
    "candy.push(\"Laffy Taffy\");  // Adds item to the end of the list\n",
    "outputElement3.innerHTML += `\n",
    "  <p><strong>Appending (Adding Items to the List):</strong></p>\n",
    "  <p>${candy.join(\", \")}</p>\n",
    "  <p>${\"-\".repeat(50)}</p>\n",
    "`;\n",
    "\n",
    "// Removing element from list\n",
    "let index = candy.indexOf(\"Kit Kat\");\n",
    "if (index !== -1) candy.splice(index, 1); // Removes \"Kit Kat\" if it exists\n",
    "outputElement3.innerHTML += `\n",
    "  <p><strong>Removing Element from List (Kit Kat):</strong></p>\n",
    "  <p>${candy.join(\", \")}</p>\n",
    "  <p>${\"-\".repeat(50)}</p>\n",
    "`;\n",
    "\n",
    "// Sorting the list\n",
    "candy.sort(); // Sorts the list alphabetically\n",
    "outputElement3.innerHTML += `\n",
    "  <p><strong>Sorted List:</strong></p>\n",
    "  <p>${candy.join(\", \")}</p>\n",
    "  <p>${\"-\".repeat(50)}</p>\n",
    "`;\n",
    "\n",
    "// Duplicating (copying) the list\n",
    "let candy_copy = [...candy]; // Creates a shallow copy of the list\n",
    "outputElement3.innerHTML += `\n",
    "  <p><strong>Copied List:</strong></p>\n",
    "  <p>${candy_copy.join(\", \")}</p>\n",
    "`;\n",
    "</script>"
   ]
  }
 ],
 "metadata": {
  "kernelspec": {
   "display_name": "venv",
   "language": "python",
   "name": "python3"
  },
  "language_info": {
   "codemirror_mode": {
    "name": "ipython",
    "version": 3
   },
   "file_extension": ".py",
   "mimetype": "text/x-python",
   "name": "python",
   "nbconvert_exporter": "python",
   "pygments_lexer": "ipython3",
   "version": "3.9.19"
  },
  "vscode": {
   "interpreter": {
    "hash": "72756fa0984efdc44fb8517b692d10defb2e78cf8a4e51ca5670a6eeef22a31e"
   }
  }
 },
 "nbformat": 4,
 "nbformat_minor": 2
}
