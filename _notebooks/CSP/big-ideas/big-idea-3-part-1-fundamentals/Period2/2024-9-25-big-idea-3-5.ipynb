{
 "cells": [
  {
   "cell_type": "raw",
   "metadata": {
    "vscode": {
     "languageId": "raw"
    }
   },
   "source": [
    "---\n",
    "toc: false\n",
    "comments: true\n",
    "layout: post\n",
    "title: 3.5 Overview of Content (P2)\n",
    "description: Student led teaching on  Mathematical Expressions. Learn how mathematical expressions involve using arithmetic operators (like addition, subtraction, multiplication, and division) to perform calculations\n",
    "permalink: /csp/big-idea/p2/3-5\n",
    "categories: [CSP Big Ideas]\n",
    "author: Manas, Shriya, Lalita, Ethan\n",
    "menu: nav/csp_units/csp_unit3_p2_fundamentals.html\n",
    "---"
   ]
  },
  {
   "cell_type": "markdown",
   "metadata": {},
   "source": [
    "_3.5.1_ Boolean Values in Python\n",
    "- Boolean Pythons \n",
    "- Rational Operators Python\n",
    "- Logical Operators Python\n",
    "\n",
    "_3.5.2_ Boolean Values in Java\n",
    "- Boolean Java\n",
    "- Rational Operators Java\n",
    "- Logical Operators\n",
    "\n",
    "_3.5.3_ Homework Hacks\n",
    "- Create Logic Gate Simulator in Python and Java\n",
    "\n",
    "_3.5.4_ Popcorn Hacks\n",
    "- Contrapositive Law in Python and Java"
   ]
  },
  {
   "cell_type": "markdown",
   "metadata": {},
   "source": [
    "<style>\n",
    "    article {\n",
    "        background-color: #000000 !important; /* Black background */\n",
    "        border: 3px solid #1a1a2e !important; /* Dark blue border */\n",
    "        padding: 25px !important;\n",
    "        border-radius: 50px !important;\n",
    "    }\n",
    "    article h1 {\n",
    "        color: #ffffff !important; /* White header */\n",
    "    }\n",
    "    article h2, h3, h4, p {\n",
    "        color: #ffffff !important; /* White text */\n",
    "    }\n",
    "    article ul, ol, li {\n",
    "        background-color: #1a1a2e !important; /* Dark blue for lists */\n",
    "        border-left: 5px solid #1f4068 !important; /* Slightly lighter blue list border */\n",
    "        color: #ffffff !important; /* White list text */\n",
    "        padding: 12px 25px !important;\n",
    "        margin: 12px 0 !important;\n",
    "        border-radius: 50px !important;\n",
    "    }\n",
    "    article .center-text {\n",
    "        text-align: center !important;\n",
    "    }\n",
    "    article summary {\n",
    "        color: #ffffff !important; /* White summary */\n",
    "    }\n",
    "    article code {\n",
    "        color: #ffffff !important; /* White code text */\n",
    "        background-color: #1f4068 !important; /* Dark blue background */\n",
    "        padding: 3px 6px !important;\n",
    "        border-radius: 50px !important;\n",
    "    }\n",
    "</style>\n"
   ]
  }
 ],
 "metadata": {
  "language_info": {
   "name": "python"
  }
 },
 "nbformat": 4,
 "nbformat_minor": 2
}
