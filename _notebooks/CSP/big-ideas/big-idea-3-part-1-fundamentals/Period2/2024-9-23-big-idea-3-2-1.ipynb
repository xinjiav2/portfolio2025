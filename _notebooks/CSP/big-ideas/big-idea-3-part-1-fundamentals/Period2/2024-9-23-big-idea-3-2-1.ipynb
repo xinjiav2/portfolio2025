{
 "cells": [
  {
   "cell_type": "raw",
   "metadata": {
    "vscode": {
     "languageId": "raw"
    }
   },
   "source": [
    "---\n",
    "toc: false\n",
    "comments: true\n",
    "layout: post\n",
    "title: 3.2 Lesson Period 2 - Integer Data Abstraction\n",
    "description: Student led teaching on Abstraction. Teaching how various data types can use abstraction for copmutational efficiency.\n",
    "permalink: /csp/big-idea/p2/3-2-1/\n",
    "categories: [CSP Big Ideas]\n",
    "author:  Nikhil Maturi, Yash Parikh, Neil Chandra, Rohan Bojja (P.2)\n",
    "menu: nav/csp_units/csp_unit3_p2_fundamentals.html\n",
    "---"
   ]
  },
  {
   "cell_type": "markdown",
   "metadata": {},
   "source": [
    "## Integers - 3.2.1"
   ]
  },
  {
   "cell_type": "code",
   "execution_count": 1,
   "metadata": {},
   "outputs": [
    {
     "name": "stdout",
     "output_type": "stream",
     "text": [
      "DogAge 99\n",
      "CatAge 101\n",
      "--------------------------------------------------\n",
      "Arithmetic Operations:\n",
      "DogAge + CatAge = 200\n",
      "DogAge - CatAge = -2\n",
      "DogAge * CatAge = 9999\n",
      "DogAge/CatAge = 0.9801980198019802\n",
      "DogAge^CatAge = 3623720178604972098813098663067922123278149558725344544918977989723238743032175007053245780749266808966549534096463148419710533398337814216985343009467904985311514465603728812874382843771759324099510099\n",
      "--------------------------------------------------\n",
      "Counting:\n",
      "Dog Age + 0 = 99\n",
      "Dog Age + 1 = 100\n",
      "Dog Age + 2 = 101\n",
      "Dog Age + 3 = 102\n",
      "Dog Age + 4 = 103\n",
      "Dog Age + 5 = 104\n",
      "Dog Age + 6 = 105\n",
      "Dog Age + 7 = 106\n",
      "Dog Age + 8 = 107\n",
      "Dog Age + 9 = 108\n"
     ]
    }
   ],
   "source": [
    "# Declaring Integers\n",
    "# They can be any length, long or short\n",
    "DogAge = 99\n",
    "CatAge = 101\n",
    "seconds_alive = 109020390\n",
    "\n",
    "# Arithmetic Operations\n",
    "print(\"DogAge\", DogAge)\n",
    "print(\"CatAge\", CatAge)\n",
    "print(\"-\"*50)\n",
    "print(\"Arithmetic Operations:\")\n",
    "print(\"DogAge + CatAge =\", DogAge + CatAge) #addition\n",
    "print(\"DogAge - CatAge =\", DogAge - CatAge) #subtraction\n",
    "print(\"DogAge * CatAge =\", DogAge * CatAge) #multiplication\n",
    "print(\"DogAge/CatAge =\", DogAge/CatAge) #division\n",
    "print(\"DogAge^CatAge =\", DogAge ** CatAge) #exponentiation\n",
    "print(\"-\"*50)\n",
    "\n",
    "# Counting\n",
    "print(\"Counting:\")\n",
    "for i in range(10):\n",
    "    print(f\"Dog Age + {i} =\", DogAge + i)\n",
    "\n",
    "# Integers are abstractions since they simplify the concept of positive and or negative by creating a single datatype for both\n",
    "# Integers also abstractions as they simplify the process of performing mathematical operations as you can do it with a single datatype"
   ]
  },
  {
   "attachments": {},
   "cell_type": "markdown",
   "metadata": {},
   "source": [
    "## Javascript Version"
   ]
  },
  {
   "cell_type": "code",
   "execution_count": null,
   "metadata": {
    "vscode": {
     "languageId": "javascript"
    }
   },
   "outputs": [],
   "source": [
    "%%js\n",
    "let DogAge = 99;\n",
    "let CatAge = 101;\n",
    "let seconds_alive = 109020390;\n",
    "\n",
    "// Arithmetic Operations\n",
    "console.log(\"DogAge\", DogAge);\n",
    "console.log(\"CatAge\", CatAge);\n",
    "console.log(\"-\".repeat(50));\n",
    "console.log(\"Arithmetic Operations:\");\n",
    "console.log(\"DogAge + CatAge =\", DogAge + CatAge); // addition\n",
    "console.log(\"DogAge - CatAge =\", DogAge - CatAge); // subtraction\n",
    "console.log(\"DogAge * CatAge =\", DogAge * CatAge); // multiplication\n",
    "console.log(\"DogAge / CatAge =\", DogAge / CatAge); // division\n",
    "console.log(\"DogAge^CatAge =\", Math.pow(DogAge, CatAge)); // exponentiation\n",
    "console.log(\"-\".repeat(50));\n",
    "\n",
    "// Counting\n",
    "console.log(\"Counting:\");\n",
    "for (let i = 0; i < 10; i++) {\n",
    "    console.log(`Dog Age + ${i} =`, DogAge + i);\n",
    "}"
   ]
  },
  {
   "attachments": {},
   "cell_type": "markdown",
   "metadata": {},
   "source": [
    "<div id=\"output\"></div>\n",
    "\n",
    "<script>\n",
    "// JavaScript variables\n",
    "let DogAge = 99;\n",
    "let CatAge = 101;\n",
    "let seconds_alive = 109020390;\n",
    "\n",
    "// Select the output element\n",
    "let outputElement = document.getElementById(\"output\");\n",
    "\n",
    "// Directly update the HTML for each operation\n",
    "outputElement.innerHTML = `\n",
    "  <p>DogAge: ${DogAge}</p>\n",
    "  <p>CatAge: ${CatAge}</p>\n",
    "  <p>${\"-\".repeat(50)}</p>\n",
    "  <p>Arithmetic Operations:</p>\n",
    "  <p>DogAge + CatAge = ${DogAge + CatAge}</p>\n",
    "  <p>DogAge - CatAge = ${DogAge - CatAge}</p>\n",
    "  <p>DogAge * CatAge = ${DogAge * CatAge}</p>\n",
    "  <p>DogAge / CatAge = ${DogAge / CatAge}</p>\n",
    "  <p>DogAge^CatAge = ${Math.pow(DogAge, CatAge)}</p>\n",
    "  <p>${\"-\".repeat(50)}</p>\n",
    "  <p>Counting:</p>\n",
    "`;\n",
    "\n",
    "// Counting loop\n",
    "for (let i = 0; i < 10; i++) {\n",
    "    outputElement.innerHTML += `<p>Dog Age + ${i} = ${DogAge + i}</p>`;\n",
    "}\n",
    "</script>"
   ]
  },
  {
   "cell_type": "markdown",
   "metadata": {},
   "source": [
    "<p class=\"codepen\" data-height=\"500\" data-theme-id=\"light\" data-default-tab=\"html,result\" data-user=\"Nikhil-Maturi\" data-slug-hash=\"LYwGyyo\" style=\"height: 300px; box-sizing: border-box; display: flex; align-items: center; justify-content: center; border: 2px solid;\">\n",
    "  <span><a href=\"https://codepen.io/Nikhil-Maturi/pen/LYwGyyo\">See the Pen</a> on <a href=\"https://codepen.io\">CodePen</a>.</span>\n",
    "</p>\n",
    "<script async src=\"https://cpwebassets.codepen.io/assets/embed/ei.js\"></script>"
   ]
  }
 ],
 "metadata": {
  "kernelspec": {
   "display_name": "venv",
   "language": "python",
   "name": "python3"
  },
  "language_info": {
   "codemirror_mode": {
    "name": "ipython",
    "version": 3
   },
   "file_extension": ".py",
   "mimetype": "text/x-python",
   "name": "python",
   "nbconvert_exporter": "python",
   "pygments_lexer": "ipython3",
   "version": "3.9.19"
  },
  "vscode": {
   "interpreter": {
    "hash": "72756fa0984efdc44fb8517b692d10defb2e78cf8a4e51ca5670a6eeef22a31e"
   }
  }
 },
 "nbformat": 4,
 "nbformat_minor": 2
}
