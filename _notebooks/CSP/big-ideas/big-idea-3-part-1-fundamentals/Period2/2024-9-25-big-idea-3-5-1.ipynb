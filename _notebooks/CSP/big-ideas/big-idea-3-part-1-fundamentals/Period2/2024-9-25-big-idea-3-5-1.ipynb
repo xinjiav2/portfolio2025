{
 "cells": [
  {
   "cell_type": "raw",
   "metadata": {
    "vscode": {
     "languageId": "raw"
    }
   },
   "source": [
    "---\n",
    "toc: false\n",
    "comments: true\n",
    "layout: post\n",
    "title: 3.5.1 Boolean Values Python (P2)\n",
    "description: Student led teaching on Iteration. Learn how to do loops with Java and Python.\n",
    "permalink: /csp/big-idea/p2/3-5-1\n",
    "categories: [CSP Big Ideas]\n",
    "author:  Shriya, Lalita, Ethan, Manas\n",
    "menu: nav/csp_units/csp_unit3_p2_fundamentals.html\n",
    "---"
   ]
  },
  {
   "cell_type": "markdown",
   "metadata": {},
   "source": [
    "# Boolean Python\n",
    "\n",
    "- A Boolean value can only be true or false.\n",
    "- A Boolean expression, when evaluated, results in a Boolean value of either true or false."
   ]
  },
  {
   "cell_type": "markdown",
   "metadata": {},
   "source": [
    "## Relational operators!\n",
    "- Used to test the relationship between 2 variables, expressions, or values. These relational operators are used for comparisons and they evaluate to a Boolean value (true or false).\n",
    "\n",
    "<b>Ex.</b> a > b is only true if a is greater than b otherwise it is false \n",
    "\n",
    "- a == b (equals)\t\n",
    "- a != b (not equal to)\n",
    "- a > b (greater than)\n",
    "- a < b (less than)\n",
    "- a >= b (greater than or equal to)\n",
    "- a <= b (less than or equal to)\n"
   ]
  },
  {
   "cell_type": "code",
   "execution_count": 1,
   "metadata": {},
   "outputs": [
    {
     "name": "stdout",
     "output_type": "stream",
     "text": [
      "True\n"
     ]
    }
   ],
   "source": [
    "# Example: The legal age to drive in California is 16 years old.\n",
    "# Boolean expression to check if someone is at least 16 years old\n",
    "\n",
    "age = 17  # Example age\n",
    "\n",
    "# Check if the person is eligible to drive\n",
    "is_eligible_to_drive = age >= 16\n",
    "\n",
    "print(is_eligible_to_drive)  # Output: True if age is 16 or more, False otherwise\n"
   ]
  },
  {
   "cell_type": "code",
   "execution_count": 2,
   "metadata": {},
   "outputs": [
    {
     "name": "stdout",
     "output_type": "stream",
     "text": [
      "Average cost qualifies for free shipping: True\n",
      "Order amount qualifies for free shipping: True\n"
     ]
    }
   ],
   "source": [
    "# A company offers free shipping for orders of at least $50.\n",
    "# Boolean expression to check if the total order amount qualifies for free shipping\n",
    "\n",
    "# Example order costs\n",
    "cost1 = 40\n",
    "cost2 = 60\n",
    "cost3 = 50\n",
    "\n",
    "# Check if the average cost is at least $50\n",
    "average_cost = (cost1 + cost2 + cost3) / 3\n",
    "is_eligible_for_free_shipping_average = average_cost >= 50\n",
    "print(\"Average cost qualifies for free shipping:\", is_eligible_for_free_shipping_average)\n",
    "\n",
    "# We can also check a specific order amount\n",
    "order_amount = 55  # Example order amount\n",
    "is_eligible_for_free_shipping = order_amount >= 50\n",
    "print(\"Order amount qualifies for free shipping:\", is_eligible_for_free_shipping)\n"
   ]
  },
  {
   "cell_type": "markdown",
   "metadata": {},
   "source": [
    "## Logical operators:\n",
    "Used to evaluate multiple conditions to produce a single Boolean value.\n",
    "\n",
    "- <b>NOT</b>\tevaluates to true if condition is false, otherwise evaluates to false\n",
    "- <b>AND</b>\tevaluates to true if both conditions are true, otherwise evaluates to false\n",
    "- <b>OR</b>\tevaluates to true if either condition is true or if both conditions are true, otherwise evaluates to false"
   ]
  },
  {
   "cell_type": "code",
   "execution_count": 5,
   "metadata": {},
   "outputs": [
    {
     "name": "stdout",
     "output_type": "stream",
     "text": [
      "Player wins: True\n"
     ]
    }
   ],
   "source": [
    "# Example: You win the game if you score at least 10 points and have 5 lives left \n",
    "# OR if you score at least 50 points and have more than 0 lives left.\n",
    "\n",
    "score = 12  # Example score\n",
    "lives = 5   # Example lives\n",
    "\n",
    "# Boolean expression to check if you win the game\n",
    "is_winner = (score >= 10 and lives == 5) or (score >= 50 and lives > 0)\n",
    "\n",
    "print(\"Player wins:\", is_winner)\n"
   ]
  },
  {
   "cell_type": "code",
   "execution_count": 4,
   "metadata": {},
   "outputs": [
    {
     "name": "stdout",
     "output_type": "stream",
     "text": [
      "Average height is at least 65 inches: True\n"
     ]
    }
   ],
   "source": [
    "# Example: Write a Boolean expression to check if the average of height1, height2, and height3 is at least 65 inches.\n",
    "\n",
    "height1 = 64  # Example height in inches\n",
    "height2 = 66  # Example height in inches\n",
    "height3 = 67  # Example height in inches\n",
    "\n",
    "# Calculate the average height\n",
    "average_height = (height1 + height2 + height3) / 3\n",
    "\n",
    "# Boolean expression to check if the average height is at least 65 inches\n",
    "is_tall_enough = average_height >= 65\n",
    "\n",
    "print(\"Average height is at least 65 inches:\", is_tall_enough)\n"
   ]
  },
  {
   "cell_type": "code",
   "execution_count": 3,
   "metadata": {},
   "outputs": [
    {
     "name": "stdout",
     "output_type": "stream",
     "text": [
      "True\n"
     ]
    }
   ],
   "source": [
    "# Example: Write a Boolean expression to check if the average of height1, height2, and height3 is at least 65 inches.\n",
    "\n",
    "height1 = 63  # Example height in inches\n",
    "height2 = 67  # Example height in inches\n",
    "height3 = 66  # Example height in inches\n",
    "\n",
    "# Boolean expression to check if the average height is at least 65 inches\n",
    "average_height = (height1 + height2 + height3) / 3\n",
    "is_tall_enough = average_height >= 65\n",
    "\n",
    "print(is_tall_enough)  # Output: True if the average height is at least 65 inches, False otherwise\n"
   ]
  },
  {
   "cell_type": "markdown",
   "metadata": {},
   "source": [
    "<style>\n",
    "    article {\n",
    "        background-color: #000000 !important; /* Black background */\n",
    "        border: 3px solid #1a1a2e !important; /* Dark blue border */\n",
    "        padding: 25px !important;\n",
    "        border-radius: 50px !important;\n",
    "    }\n",
    "    article h1 {\n",
    "        color: #ffffff !important; /* White header */\n",
    "    }\n",
    "    article h2, h3, h4, p {\n",
    "        color: #ffffff !important; /* White text */\n",
    "    }\n",
    "    article ul, ol, li {\n",
    "        background-color: #1a1a2e !important; /* Dark blue for lists */\n",
    "        border-left: 5px solid #1f4068 !important; /* Slightly lighter blue list border */\n",
    "        color: #ffffff !important; /* White list text */\n",
    "        padding: 12px 25px !important;\n",
    "        margin: 12px 0 !important;\n",
    "        border-radius: 50px !important;\n",
    "    }\n",
    "    article .center-text {\n",
    "        text-align: center !important;\n",
    "    }\n",
    "    article summary {\n",
    "        color: #ffffff !important; /* White summary */\n",
    "    }\n",
    "    article code {\n",
    "        color: #ffffff !important; /* White code text */\n",
    "        background-color: #1f4068 !important; /* Dark blue background */\n",
    "        padding: 3px 6px !important;\n",
    "        border-radius: 50px !important;\n",
    "    }\n",
    "</style>\n"
   ]
  }
 ],
 "metadata": {
  "kernelspec": {
   "display_name": "Python 3",
   "language": "python",
   "name": "python3"
  },
  "language_info": {
   "codemirror_mode": {
    "name": "ipython",
    "version": 3
   },
   "file_extension": ".py",
   "mimetype": "text/x-python",
   "name": "python",
   "nbconvert_exporter": "python",
   "pygments_lexer": "ipython3",
   "version": "3.12.5"
  }
 },
 "nbformat": 4,
 "nbformat_minor": 2
}
