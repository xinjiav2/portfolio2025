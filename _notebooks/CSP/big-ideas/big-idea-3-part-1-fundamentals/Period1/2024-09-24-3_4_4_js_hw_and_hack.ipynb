{
 "cells": [
  {
   "cell_type": "raw",
   "metadata": {
    "vscode": {
     "languageId": "raw"
    }
   },
   "source": [
    "---\n",
    "toc: true\n",
    "layout: post\n",
    "title: 3.4 String Operations \n",
    "permalink: /csp/big-idea/p1/3-4-4-js-hw-hack\n",
    "description: 3.4 Team Teach String Operations\n",
    "menu: nav/csp_units/csp_unit3_p1_fundamentals.html\n",
    "comments: true\n",
    "---"
   ]
  },
  {
   "cell_type": "markdown",
   "metadata": {
    "vscode": {
     "languageId": "raw"
    }
   },
   "source": [
    "<html>\n",
    "    <style>\n",
    "        @keyframes bounce {\n",
    "            0%, 20%, 50%, 80%, 100% {\n",
    "                transform: translateY(0);\n",
    "            }\n",
    "            10%, 30%, 60%, 90% {\n",
    "                transform: translateY(-30px);\n",
    "            }\n",
    "            40%, 70% {\n",
    "                transform: translateY(-15px);\n",
    "            }\n",
    "        }\n",
    "        @keyframes bounce2 {\n",
    "            /* bounce */\n",
    "            0%, 20%, 50%, 80%, 100% {\n",
    "                transform: translateY(0);\n",
    "            }\n",
    "            10%, 30%, 60%, 90% {\n",
    "                transform: translateY(-30px);\n",
    "            }\n",
    "            40%, 70% {\n",
    "                transform: translateY(-15px);\n",
    "            }\n",
    "            /* flips */\n",
    "            0%, 25% {\n",
    "                transform: rotateZ(0deg);\n",
    "            }\n",
    "            25%, 50% {\n",
    "                transform: rotateY(180deg);\n",
    "            }\n",
    "            50%, 75% {\n",
    "                transform: rotateZ(180deg);\n",
    "            }\n",
    "            75%, 100% {\n",
    "                transform: rotateY(0deg);\n",
    "            }\n",
    "        }\n",
    "        h2{\n",
    "            color: #ffd9d9;\n",
    "        }\n",
    "    </style>\n",
    "    <br>\n",
    "    <br>\n",
    "    <br>\n",
    "    <br>\n",
    "    <br>\n",
    "    <img style=\"animation: bounce2 3s ease infinite; max-width: 25%; filter: saturate(200%);\" src=\"{{site.baseurl}}/images/p1group1images/img4.png\">\n",
    "    <br>\n",
    "    <br>\n",
    "    <p style=\"animation: bounce 3s ease infinite; background: linear-gradient(to right, #C9B1FF, #FFCAF2, #FFB2B1, #FFF3AD, #BCFFBC, #A2EDFF);-webkit-text-fill-color: transparent; -webkit-background-clip: text;\"> ____________________________________________________________________________________________________________________________________________</p>\n",
    "</html>"
   ]
  },
  {
   "cell_type": "markdown",
   "metadata": {},
   "source": [
    "<html>\n",
    "    <style>\n",
    "        @keyframes bounce {\n",
    "            0%, 20%, 50%, 80%, 100% {\n",
    "                transform: translateY(0);\n",
    "            }\n",
    "            10%, 30%, 60%, 90% {\n",
    "                transform: translateY(-30px);\n",
    "            }\n",
    "            40%, 70% {\n",
    "                transform: translateY(-15px);\n",
    "            }\n",
    "        }\n",
    "        @keyframes bounce2 {\n",
    "            /* bounce */\n",
    "            0%, 20%, 50%, 80%, 100% {\n",
    "                transform: translateY(0);\n",
    "            }\n",
    "            10%, 30%, 60%, 90% {\n",
    "                transform: translateY(-30px);\n",
    "            }\n",
    "            40%, 70% {\n",
    "                transform: translateY(-15px);\n",
    "            }\n",
    "            /* flips */\n",
    "            0%, 25% {\n",
    "                transform: rotateZ(0deg);\n",
    "            }\n",
    "            25%, 50% {\n",
    "                transform: rotateY(180deg);\n",
    "            }\n",
    "            50%, 75% {\n",
    "                transform: rotateZ(180deg);\n",
    "            }\n",
    "            75%, 100% {\n",
    "                transform: rotateY(0deg);\n",
    "            }\n",
    "        }\n",
    "        h2{\n",
    "            color: #ffd9d9;\n",
    "        }\n",
    "    </style>\n",
    "    <br>\n",
    "    <br>\n",
    "    <br>\n",
    "    <br>\n",
    "    <br>\n",
    "    <p style=\"animation: bounce 3s ease infinite; background: linear-gradient(to right, #C9B1FF, #FFCAF2, #FFB2B1, #FFF3AD, #BCFFBC, #A2EDFF);-webkit-text-fill-color: transparent; -webkit-background-clip: text;\"> ____________________________________________________________________________________________________________________________________________</p>\n",
    "</html>"
   ]
  },
  {
   "cell_type": "markdown",
   "metadata": {},
   "source": [
    "<html>\n",
    "    <body>\n",
    "        <br>\n",
    "        <h2>Measuring String Length</h2>\n",
    "        <li>The len() function in Python allows us to find the length of a string</li>\n",
    "        <li>Use '.length' in JavaScript to do this as well</li>\n",
    "        <br>\n",
    "    </body>\n",
    "    <style>\n",
    "        h1 {\n",
    "            color: #ff00fb;\n",
    "            padding-left: 10px;\n",
    "        }\n",
    "        h2 {\n",
    "            color: #ff00fb;\n",
    "            padding-left: 10px;\n",
    "        }\n",
    "        div {\n",
    "            background-color: #33c9ff;\n",
    "            border-radius: 10px;\n",
    "        }\n",
    "        li {\n",
    "            color: #864d00;\n",
    "            padding-left: 30px;\n",
    "            font-size: 18px;\n",
    "        }\n",
    "    </style>\n",
    "</html>\n",
    "\n",
    "## Sample Hack - String Analyzation\n",
    "- Determine metrics about strings (length, chars, palidrome(?), etc.)"
   ]
  },
  {
   "cell_type": "code",
   "execution_count": 1,
   "metadata": {
    "vscode": {
     "languageId": "javascript"
    }
   },
   "outputs": [
    {
     "data": {
      "application/javascript": "const string1 = \"Brawl Stars is a fun game!\";\nconst string2 = \"Tacocat\";\n\n\nconsole.log(\"String 1: \" + string1);\nconst length1 = string1.length;\nconsole.log(\"Length: \" + length1);\n\n\nfunction countVowels(inputString) {\n    const vowels = 'aeiouAEIOU';\n    let count = 0;\n    for (const char of inputString) {\n        if (vowels.includes(char)) {\n            count++;\n        }\n    }\n    return count;\n}\n\n\nconsole.log(\"Vowel Count: \" + countVowels(string1));\n\n\nfunction averageWordLength(inputString) {\n    const words = inputString.split(/\\s+/);\n    if (words.length === 0) {\n        return 0;\n    }\n    const totalLength = words.reduce((sum, word) => sum + word.length, 0);\n    return totalLength / words.length;\n}\n\n\nconsole.log(\"Average Word Length: \" + averageWordLength(string1));\n\n\nfunction isPalindrome(inputString) {\n    const sanitizedString = inputString.replace(/\\s+/g, '').toLowerCase();\n    return sanitizedString === sanitizedString.split('').reverse().join('');\n}\n\n\nconsole.log(\"Palindrome or Not? \" + isPalindrome(string1));\nconsole.log(\"String 2: \" + string2);\nconst length2 = string2.length;\nconsole.log(\"Length: \" + length2);\nconsole.log(\"Vowel Count: \" + countVowels(string2));\nconsole.log(\"Average Word Length: \" + averageWordLength(string2));\nconsole.log(\"Palindrome or Not? \" + isPalindrome(string2));\n",
      "text/plain": [
       "<IPython.core.display.Javascript object>"
      ]
     },
     "metadata": {},
     "output_type": "display_data"
    }
   ],
   "source": [
    "%%js\n",
    "const string1 = \"Brawl Stars is a fun game!\";\n",
    "const string2 = \"Star Brawl war Brats\";\n",
    "\n",
    "\n",
    "console.log(\"String 1: \" + string1);\n",
    "const length1 = string1.length;\n",
    "console.log(\"Length: \" + length1);\n",
    "\n",
    "\n",
    "function countVowels(inputString) {\n",
    "    const vowels = 'aeiouAEIOU';\n",
    "    let count = 0;\n",
    "    for (const char of inputString) {\n",
    "        if (vowels.includes(char)) {\n",
    "            count++;\n",
    "        }\n",
    "    }\n",
    "    return count;\n",
    "}\n",
    "\n",
    "\n",
    "console.log(\"Vowel Count: \" + countVowels(string1));\n",
    "\n",
    "\n",
    "function averageWordLength(inputString) {\n",
    "    const words = inputString.split(/\\s+/);\n",
    "    if (words.length === 0) {\n",
    "        return 0;\n",
    "    }\n",
    "    const totalLength = words.reduce((sum, word) => sum + word.length, 0);\n",
    "    return totalLength / words.length;\n",
    "}\n",
    "\n",
    "\n",
    "console.log(\"Average Word Length: \" + averageWordLength(string1));\n",
    "\n",
    "\n",
    "function isPalindrome(inputString) {\n",
    "    const sanitizedString = inputString.replace(/\\s+/g, '').toLowerCase();\n",
    "    return sanitizedString === sanitizedString.split('').reverse().join('');\n",
    "}\n",
    "\n",
    "\n",
    "console.log(\"Palindrome or Not? \" + isPalindrome(string1));\n",
    "console.log(\"String 2: \" + string2);\n",
    "const length2 = string2.length;\n",
    "console.log(\"Length: \" + length2);\n",
    "console.log(\"Vowel Count: \" + countVowels(string2));\n",
    "console.log(\"Average Word Length: \" + averageWordLength(string2));\n",
    "console.log(\"Palindrome or Not? \" + isPalindrome(string2));"
   ]
  },
  {
   "cell_type": "markdown",
   "metadata": {},
   "source": [
    "## Homework is to create a JavaScript hack for Password Validator"
   ]
  }
 ],
 "metadata": {
  "kernelspec": {
   "display_name": "Python 3",
   "language": "python",
   "name": "python3"
  },
  "language_info": {
   "codemirror_mode": {
    "name": "ipython",
    "version": 3
   },
   "file_extension": ".py",
   "mimetype": "text/x-python",
   "name": "python",
   "nbconvert_exporter": "python",
   "pygments_lexer": "ipython3",
   "version": "3.12.3"
  }
 },
 "nbformat": 4,
 "nbformat_minor": 2
}
