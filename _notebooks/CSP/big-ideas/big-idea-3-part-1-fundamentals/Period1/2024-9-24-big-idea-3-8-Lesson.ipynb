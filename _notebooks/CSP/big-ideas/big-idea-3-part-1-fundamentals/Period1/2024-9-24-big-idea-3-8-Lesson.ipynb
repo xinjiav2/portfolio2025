{
 "cells": [
  {
   "cell_type": "raw",
   "metadata": {
    "vscode": {
     "languageId": "raw"
    }
   },
   "source": [
    "---\n",
    "toc: false\n",
    "comments: true\n",
    "layout: post\n",
    "title: Iterations In Python and JavaScript 3.8\n",
    "description: Learn about the giant world of iterations. \n",
    "permalink: /csp/big-idea/3-8/p1\n",
    "categories: [CSP Big Ideas 3]\n",
    "author:  Arya, Shawn, Aarav\n",
    "menu: nav/csp_units/csp_unit3_p1_fundamentals.html\n",
    "---"
   ]
  },
  {
   "cell_type": "markdown",
   "metadata": {},
   "source": [
    "<img src=\"https://media4.giphy.com/media/l0HlJcWbeo9AgcbPq/giphy.gif?cid=6c09b952arn38n02bg6y5a0r0cavnn9ax4lll9akws9ckwhe&ep=v1_internal_gif_by_id&rid=giphy.gif&ct=g\" alt=\"Animated GIF\" width = \"175\" height = \"175\">\n",
    "\n",
    "\n",
    "<h1>\n",
    "  Iterations 3.8 | Introduction\n",
    "</h1>\n",
    "\n",
    "<style>\n",
    "  h1 {\n",
    "    width: 0;\n",
    "    white-space: nowrap;\n",
    "    overflow: hidden;\n",
    "    border-right: 3px solid;\n",
    "    font-family: monospace;\n",
    "    animation: typing 3s steps(30, end) infinite, blink-caret 0.75s step-end infinite, glow 1s ease-in-out infinite alternate;\n",
    "    text-shadow: 0 0 5px purple, 0 0 10px purple, 0 0 15px purple, 0 0 20px purple;\n",
    "  }\n",
    "\n",
    "  @keyframes typing {\n",
    "    from { width: 0; }\n",
    "    to { width: 100%; }\n",
    "  }\n",
    "\n",
    "  @keyframes blink-caret {\n",
    "    from, to { border-color: transparent; }\n",
    "    50% { border-color: purple; }\n",
    "  }\n",
    "\n",
    "  @keyframes glow {\n",
    "    from {\n",
    "      text-shadow: 0 0 5px purple, 0 0 10px purple, 0 0 15px purple, 0 0 20px purple;\n",
    "    }\n",
    "    to {\n",
    "      text-shadow: 0 0 20px purple, 0 0 30px purple, 0 0 40px purple, 0 0 50px purple;\n",
    "    }\n",
    "  }\n",
    "</style>\n",
    "\n"
   ]
  },
  {
   "cell_type": "markdown",
   "metadata": {},
   "source": [
    "Iterations or Loops are super important when coding in Python or Javascript. They essentially allow you to repeat tasks over and over again for as long as you want as much as you want.\n",
    "\n",
    "There are 4 types of loops that will be covered:\n",
    "- For loops\n",
    "- While loops\n",
    "- Do/While loops\n",
    "- Infinite loops"
   ]
  },
  {
   "cell_type": "markdown",
   "metadata": {
    "vscode": {
     "languageId": "raw"
    }
   },
   "source": [
    "For Loops:\n",
    "- Used to iterate over a sequence\n",
    "- repeat a code a certain number of times, \n",
    "- \"for\" goes through each item"
   ]
  },
  {
   "cell_type": "code",
   "execution_count": null,
   "metadata": {},
   "outputs": [],
   "source": [
    "# Example 1: Simple for loop in Python\n",
    "groceries = [\"milk\", \"bread\", \"eggs\", \"juice\", \"yogurt\"]\n",
    "for grocery in groceries:\n",
    "    print(grocery)"
   ]
  },
  {
   "cell_type": "code",
   "execution_count": null,
   "metadata": {},
   "outputs": [],
   "source": [
    "#Example 2: Simple for loop in JavaScript\n",
    "let groceries = [\"milk\", \"bread\", \"eggs\", \"juice\", \"yogurt\"];\n",
    "for (let i = 0; i < groceries.length; i++) {\n",
    "    console.log(groceries[i]);\n",
    "}"
   ]
  },
  {
   "cell_type": "code",
   "execution_count": 4,
   "metadata": {
    "vscode": {
     "languageId": "javascript"
    }
   },
   "outputs": [
    {
     "data": {
      "application/javascript": "console.log(\"hello\")\n",
      "text/plain": [
       "<IPython.core.display.Javascript object>"
      ]
     },
     "metadata": {},
     "output_type": "display_data"
    }
   ],
   "source": [
    "%%js\n",
    "console.log(\"hello\")"
   ]
  },
  {
   "cell_type": "markdown",
   "metadata": {
    "vscode": {
     "languageId": "raw"
    }
   },
   "source": [
    "While Loops:\n",
    "- keeps running as a given condition is True\n",
    "- this loop starts with count = 0\n",
    "- as long as condition is met, of count being less than 5, it will keep running\n",
    "    Inside Loop:\n",
    "    - prints current value of count\n",
    "    - count gets increased by one ever iteration"
   ]
  },
  {
   "cell_type": "code",
   "execution_count": null,
   "metadata": {},
   "outputs": [],
   "source": [
    "# Example While Loop in Python\n",
    "count = 0\n",
    "while count < 5:\n",
    "    print(count)\n",
    "    count += 1"
   ]
  },
  {
   "cell_type": "code",
   "execution_count": null,
   "metadata": {},
   "outputs": [],
   "source": [
    "# Example While Loop in JavaScript\n",
    "\n",
    "let count = 0;\n",
    "\n",
    "while (count < 5) [\n",
    "    console.log(count);\n",
    "    count++;\n",
    "]"
   ]
  },
  {
   "cell_type": "markdown",
   "metadata": {
    "vscode": {
     "languageId": "raw"
    }
   },
   "source": [
    "Do-While Loops:\n",
    "- executes code block at least one before checking condition\n",
    "- guarentees that loops is run at least one time, no matter the condition"
   ]
  },
  {
   "cell_type": "markdown",
   "metadata": {
    "vscode": {
     "languageId": "raw"
    }
   },
   "source": [
    "Infinite Loops:\n",
    "- a loop that never stops running because condition never becomes False\n",
    "- this is the same code as previous while loops, but you never update count so it always remains at 0\n",
    "- because it is at 0, the while loop runs forever"
   ]
  },
  {
   "cell_type": "code",
   "execution_count": null,
   "metadata": {},
   "outputs": [],
   "source": [
    "# Example of Infinite Loop in Python\n",
    "count = 0\n",
    "while count < 5:\n",
    "    print(count)\n",
    "    # Forgetting to update `count` makes it run forever"
   ]
  },
  {
   "cell_type": "code",
   "execution_count": 5,
   "metadata": {},
   "outputs": [
    {
     "data": {
      "application/javascript": "# Example of Infinite Loop in JavaScript\n\nlet count = 0;\n\nwhile (count < 5) {\n    console.log(count);\n    # Forgetting to update the 'count' causes an infinite loop\n}\n",
      "text/plain": [
       "<IPython.core.display.Javascript object>"
      ]
     },
     "metadata": {},
     "output_type": "display_data"
    }
   ],
   "source": [
    "%%js\n",
    "# Example of Infinite Loop in JavaScript\n",
    "\n",
    "let count = 0;\n",
    "\n",
    "while (count < 5) {\n",
    "    console.log(count);\n",
    "    # Forgetting to update the 'count' causes an infinite loop\n",
    "}"
   ]
  },
  {
   "cell_type": "markdown",
   "metadata": {},
   "source": [
    "# Looping with Dictionaries\n",
    "- Iterate through the elements of lists and dictionaries"
   ]
  },
  {
   "cell_type": "code",
   "execution_count": null,
   "metadata": {},
   "outputs": [],
   "source": [
    "person = {\"name\": \"Arya\", \"age\": 15, \"city\": \"San Diego\"}\n",
    "for key, value in person.items():\n",
    "    print(key, \":\", value)"
   ]
  },
  {
   "cell_type": "markdown",
   "metadata": {},
   "source": [
    "How This Works:\n",
    "Dictionary Definition: The dictionary person has three key-value pairs:\n",
    "\n",
    "\"name\": \"Arya\"\n",
    "\"age\": 15\n",
    "\"city\": \"San Diego\"\n",
    "FOR EACH key, value IN person::\n",
    "\n",
    "FOR EACH means the loop will go through each element in the dictionary.\n",
    "In Python, dictionaries store key-value pairs. For example, \"name\" is a key, and \"Arya\" is its corresponding value.\n",
    "The .items() method is used to get both the key and the value in each iteration.\n",
    "Loop Execution:\n",
    "\n",
    "First Iteration:\n",
    "key = \"name\"\n",
    "value = \"Arya\"\n",
    "The program displays: name : Arya\n",
    "Second Iteration:\n",
    "key = \"age\"\n",
    "value = 15\n",
    "The program displays: age : 15\n",
    "Third Iteration:\n",
    "key = \"city\"\n",
    "value = \"San Diego\"\n",
    "The program displays: city : San Diego\n",
    "DISPLAY key, \":\", value:\n",
    "\n",
    "For each pair, it prints the key, followed by a colon :, and then the value.\n",
    "In Python, this is done using print(key, \":\", value)."
   ]
  },
  {
   "cell_type": "markdown",
   "metadata": {},
   "source": [
    "# Looping with Index Variable \n",
    "- using range()"
   ]
  },
  {
   "cell_type": "code",
   "execution_count": null,
   "metadata": {},
   "outputs": [],
   "source": [
    "fruits = ['apple', 'banana', 'cherry']\n",
    "for i in range(len(fruits)):\n",
    "    print(f\"Index {i}: {fruits[i]}\")\n"
   ]
  },
  {
   "cell_type": "markdown",
   "metadata": {},
   "source": [
    "How it works:\n",
    "\n",
    "- range(len(fruits)) generates numbers from 0 to 2 (since len(fruits) is 3).\n",
    "- The loop runs 3 times (one for each index), and in each iteration:\n",
    "    - i takes the value of the index.\n",
    "    - fruits[i] gives the element at that index."
   ]
  },
  {
   "cell_type": "markdown",
   "metadata": {},
   "source": [
    "# Nested If Statements\n",
    "- when an if statement is placed inside another if, elif, or else statement"
   ]
  },
  {
   "cell_type": "code",
   "execution_count": 1,
   "metadata": {},
   "outputs": [
    {
     "name": "stdout",
     "output_type": "stream",
     "text": [
      "You are old enough to watch the movie.\n",
      "You can enter the theater.\n"
     ]
    }
   ],
   "source": [
    "age = 20\n",
    "has_ticket = True\n",
    "\n",
    "if age >= 18:\n",
    "    print(\"You are old enough to watch the movie.\")\n",
    "    if has_ticket:\n",
    "        print(\"You can enter the theater.\")\n",
    "    else:\n",
    "        print(\"You need a ticket to enter.\")\n",
    "else:\n",
    "    print(\"You are too young to watch this movie.\")\n"
   ]
  },
  {
   "cell_type": "markdown",
   "metadata": {},
   "source": [
    "Explanation:\n",
    "- if checks if age variable is over 18, prints false if not\n",
    "- if if statement is checked then moves on to next if statement and checks has_ticket\n",
    "- if has_ticket true then prints statment, if false prints another statement"
   ]
  },
  {
   "cell_type": "markdown",
   "metadata": {},
   "source": [
    "# APCSP Pseudo-Code: Nested Loops for Group Names"
   ]
  },
  {
   "cell_type": "code",
   "execution_count": null,
   "metadata": {},
   "outputs": [],
   "source": [
    "groups = [['arya', 'shawn'], ['aarav']]\n",
    "\n",
    "for pair in groups:\n",
    "    for person in pair:\n",
    "        print(person + ' is cool')\n",
    "    print(pair[0] + ' and ' + pair[1] + ' love to code code code')"
   ]
  },
  {
   "cell_type": "markdown",
   "metadata": {},
   "source": [
    "# Try/Except"
   ]
  },
  {
   "cell_type": "code",
   "execution_count": null,
   "metadata": {},
   "outputs": [],
   "source": [
    "try:\n",
    "    num = int(input(\"Enter a number: \"))  # Code that might raise an exception\n",
    "    result = 10 / num  # Could raise ZeroDivisionError if num is 0\n",
    "    print(\"Result:\", result)\n",
    "except ValueError:\n",
    "    print(\"That's not a valid number!\")\n",
    "except ZeroDivisionError:\n",
    "    print(\"You can't divide by zero!\")\n",
    "else:\n",
    "    print(\"Operation was successful!\")"
   ]
  },
  {
   "cell_type": "markdown",
   "metadata": {},
   "source": [
    "Explanation: \n",
    "- The try block tells user to enter a number, then tries to divide the number by 10\n",
    "- The Value error code runs when the number is not a valid integer\n",
    "- if the input is 0, then runs zero division error\n",
    "- the else block runs if try was succesful\n",
    "Why Use Try/Except?\n",
    "-  Imagine you're asking a friend to do math. If they don't understand and say something wrong, you want to guide them back instead of just getting frustrated. That's what try/except does in programming—it helps manage mistakes without crashing."
   ]
  }
 ],
 "metadata": {
  "kernelspec": {
   "display_name": "Python 3 (ipykernel)",
   "language": "python",
   "name": "python3"
  },
  "language_info": {
   "codemirror_mode": {
    "name": "ipython",
    "version": 3
   },
   "file_extension": ".py",
   "mimetype": "text/x-python",
   "name": "python",
   "nbconvert_exporter": "python",
   "pygments_lexer": "ipython3",
   "version": "3.10.12"
  }
 },
 "nbformat": 4,
 "nbformat_minor": 4
}
