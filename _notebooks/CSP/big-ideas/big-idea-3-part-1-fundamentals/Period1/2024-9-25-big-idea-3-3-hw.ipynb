{
 "cells": [
  {
   "cell_type": "code",
   "execution_count": null,
   "metadata": {
    "vscode": {
     "languageId": "plaintext"
    }
   },
   "outputs": [],
   "source": [
    "---\n",
    "toc: false\n",
    "comments: true\n",
    "layout: post\n",
    "title: 3.3 Mathematical Expressions\n",
    "description: Student led teaching on  Mathematical Expressions. Learn how mathematical expressions involve using arithmetic operators (like addition, subtraction, multiplication, and division) to perform calculations\n",
    "permalink: /csp/big-idea/3-3-hw\n",
    "categories: [CSP Big Ideas]\n",
    "author: Bailey, Travis, Leon, Anyi\n",
    "menu: nav/csp_units/csp_unit3_p1_fundamentals.html\n",
    "---"
   ]
  },
  {
   "cell_type": "markdown",
   "metadata": {},
   "source": [
    "<style>\n",
    "    .left-pattern, .right-pattern {\n",
    "        position: fixed;\n",
    "        top: 0;\n",
    "        width: 200px;\n",
    "        height: 100%;\n",
    "        background-image: url('https://cdn.pixabay.com/photo/2022/11/02/22/25/background-7566164_1280.jpg');\n",
    "        background-repeat: no-repeat;\n",
    "        background-size: cover;\n",
    "        z-index: -1;\n",
    "    }\n",
    "    .left-pattern {\n",
    "        left: 0;\n",
    "    }\n",
    "    .right-pattern {\n",
    "        right: 0;\n",
    "    }\n",
    "    body {\n",
    "        font-family: 'Comic Sans MS', cursive, sans-serif;\n",
    "    }\n",
    "    h1 {\n",
    "             color: #ffffff;  \n",
    "            text-shadow: \n",
    "                0 0 3px #00ccff,  \n",
    "                0 0 6px #00ccff, \n",
    "                0 0 10px #00ccff;\n",
    "        }\n",
    "</style>\n",
    "\n",
    "<!-- Left and right side patterns -->\n",
    "<div class='left-pattern'></div>\n",
    "<div class='right-pattern'></div>"
   ]
  },
  {
   "cell_type": "markdown",
   "metadata": {},
   "source": [
    "<h1>Homework Hacks 📕</h1>\n",
    "Review the instructions and examples in the lesson and create a function that will produce a certain term in the fibonacci sequence that is inputted as well as one that can find the area of a circle, square, and a rectangle by asking for input on what the shape is, and what the value(s) are that are needed to calculate the area of the shape. "
   ]
  },
  {
   "cell_type": "markdown",
   "metadata": {},
   "source": [
    "Challenge: Add one that can do the volume of rectangluar prisms, spheres, and pyramids."
   ]
  },
  {
   "cell_type": "markdown",
   "metadata": {},
   "source": [
    "Formulas:"
   ]
  },
  {
   "cell_type": "markdown",
   "metadata": {},
   "source": [
    "- Volume of rectangluar prism is base x width x height\n",
    "- Volume of sphere is 4/3 x pi x r cubed\n",
    "- Volume of pyramid is 1/3 x base x width x height"
   ]
  },
  {
   "cell_type": "markdown",
   "metadata": {},
   "source": [
    "<h1>Take a Quiz</h1>\n",
    "Test out your skills with this quiz."
   ]
  },
  {
   "cell_type": "markdown",
   "metadata": {},
   "source": [
    "<a href=\"https://quizizz.com/admin/quiz/66f587a56e3b4a5563ad14f3\">Quizizz Link</a>"
   ]
  }
 ],
 "metadata": {
  "kernelspec": {
   "display_name": ".venv",
   "language": "python",
   "name": "python3"
  },
  "language_info": {
   "codemirror_mode": {
    "name": "ipython",
    "version": 3
   },
   "file_extension": ".py",
   "mimetype": "text/x-python",
   "name": "python",
   "nbconvert_exporter": "python",
   "pygments_lexer": "ipython3",
   "version": "3.12.6"
  }
 },
 "nbformat": 4,
 "nbformat_minor": 2
}
