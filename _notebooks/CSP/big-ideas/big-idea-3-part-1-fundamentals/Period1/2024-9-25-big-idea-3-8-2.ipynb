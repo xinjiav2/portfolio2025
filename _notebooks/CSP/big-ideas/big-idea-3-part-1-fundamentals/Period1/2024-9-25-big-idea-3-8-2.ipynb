{
 "cells": [
  {
   "cell_type": "raw",
   "id": "239b6182",
   "metadata": {
    "vscode": {
     "languageId": "raw"
    }
   },
   "source": [
    "---\n",
    "toc: false\n",
    "comments: true\n",
    "layout: post\n",
    "title: Homework Hack for Iteration 3.8\n",
    "description: Homework hack available for you to try!\n",
    "permalink: /csp/big-idea/3-8/p1/3-8-2\n",
    "categories: [CSP Big Ideas 3]\n",
    "author:  Arya, Shawn, Aarav\n",
    "menu: nav/csp_units/csp_unit3_p1_fundamentals.html\n",
    "---"
   ]
  },
  {
   "cell_type": "markdown",
   "id": "0c56a9e4",
   "metadata": {},
   "source": [
    "<style>\n",
    "  h1 {\n",
    "    animation: glow 1s ease-in-out infinite alternate;\n",
    "  }\n",
    "</style>\n",
    "\n",
    "<h1>\n",
    "  Homework Hack: Looping Practice\n",
    "</h1>\n",
    "<style>\n",
    "@keyframes glow {\n",
    "  from {\n",
    "    text-shadow: 0 0 5px red, 0 0 10px red, 0 0 15px red, 0 0 20px red;\n",
    "  }\n",
    "  to {\n",
    "    text-shadow: 0 0 20px red, 0 0 30px red, 0 0 40px red, 0 0 50px red;\n",
    "  }\n",
    "}\n",
    "</style>\n",
    "\n",
    "Create a program that asks the user for a number and keeps asking until they enter a positive number.\n",
    "\n",
    "Requirements:\n",
    "1. Input Validation: Make sure that the input is actually a number. Display an 'error' message if the user inputted something that is NOT a number\n",
    "2. Positive Checker: If the user has entered a number that is positive, print a 'success!' message with the entered number\n",
    "3. If the user has entered a number that is not positive like zero or a negative number, print a 'try again' message, prompting them to keep inputting numbers till they input a positive number."
   ]
  }
 ],
 "metadata": {
  "kernelspec": {
   "display_name": "Python 3 (ipykernel)",
   "language": "python",
   "name": "python3"
  },
  "language_info": {
   "codemirror_mode": {
    "name": "ipython",
    "version": 3
   },
   "file_extension": ".py",
   "mimetype": "text/x-python",
   "name": "python",
   "nbconvert_exporter": "python",
   "pygments_lexer": "ipython3",
   "version": "3.10.12"
  }
 },
 "nbformat": 4,
 "nbformat_minor": 5
}
