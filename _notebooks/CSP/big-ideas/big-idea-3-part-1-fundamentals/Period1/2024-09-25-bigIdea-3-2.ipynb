{
 "cells": [
  {
   "cell_type": "markdown",
   "metadata": {},
   "source": [
    "---\n",
    "toc: false\n",
    "comments: true\n",
    "layout: post\n",
    "title: 3.2 Data Types in Python\n",
    "description: Learn about the Data Types in Python. \n",
    "permalink: /csp/big-idea/3-2/p1\n",
    "categories: [CSP Big Ideas 3]\n",
    "author:  Soni, Katherine, Aditi, Sanya\n",
    "menu: \n",
    "  - nav/csp_units/csp_unit3_p1_fundamentals.html\n",
    "---"
   ]
  },
  {
   "cell_type": "markdown",
   "metadata": {},
   "source": []
  }
 ],
 "metadata": {
  "language_info": {
   "name": "python"
  }
 },
 "nbformat": 4,
 "nbformat_minor": 2
}
