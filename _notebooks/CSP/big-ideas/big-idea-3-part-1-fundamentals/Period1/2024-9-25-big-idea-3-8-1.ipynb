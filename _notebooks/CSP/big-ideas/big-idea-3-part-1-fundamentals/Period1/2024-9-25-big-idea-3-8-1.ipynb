{
 "cells": [
  {
   "cell_type": "raw",
   "id": "419ec974",
   "metadata": {
    "vscode": {
     "languageId": "raw"
    }
   },
   "source": [
    "---\n",
    "toc: false\n",
    "comments: true\n",
    "layout: post\n",
    "title: Popcorn Hacks for Iteration 3.8\n",
    "description: Popcorn hacks available for you to try!. \n",
    "permalink: /csp/big-idea/3-8/p1/3-8-1\n",
    "categories: [CSP Big Ideas 3]\n",
    "author:  Arya, Shawn, Aarav\n",
    "menu: nav/csp_units/csp_unit3_p1_fundamentals.html\n",
    "---"
   ]
  },
  {
   "cell_type": "markdown",
   "id": "e9fda9ad",
   "metadata": {},
   "source": [
    "<style>\n",
    "  h1 {\n",
    "    animation: glow 1s ease-in-out infinite alternate;\n",
    "  }\n",
    "</style>\n",
    "\n",
    "<h1>\n",
    "  Popcorn Hack 1\n",
    "</h1>\n",
    "\n",
    "<style>\n",
    "@keyframes glow {\n",
    "  from {\n",
    "    text-shadow: 0 0 5px #fff, 0 0 10px #ff00ff, 0 0 15px #ff00ff, 0 0 20px #ff00ff;\n",
    "  }\n",
    "  to {\n",
    "    text-shadow: 0 0 20px #ff00ff, 0 0 30px #ff00ff, 0 0 40px #ff00ff, 0 0 50px #ff00ff;\n",
    "  }\n",
    "}\n",
    "</style>\n",
    "\n",
    "Using this code and nested if statements, check if the user is a student by defining a variable and putting a user input. Modify the code and implement a feature that asks the user if they are a student. If yes is answered, allow a 20 percent discount off of the original 10 dollar ticket. If no is answered, keep the price the same. Make sure it is able to handle invalid responses such as responses other than \"yes\" or \"no\" by prompting the user to answer again with a simple \"yes\" or \"no\"\n",
    "\n",
    "CHALLENGE: Add a feature that asks for the age of the user, and make varying ticket prices based off of the age groups.\n",
    "- Ages 0-12: Child Ticket (50% off)\n",
    "- Ages 13-63 Adult Ticket (0% off)\n",
    "- Ages 65+: Senior Ticket (30% off)"
   ]
  },
  {
   "cell_type": "markdown",
   "id": "5953e1aa",
   "metadata": {},
   "source": [
    "# Popcorn Hack 2\n",
    "- Using this code, check if the number is even or odd, after satisfying the successful operation. "
   ]
  }
 ],
 "metadata": {
  "kernelspec": {
   "display_name": "Python 3 (ipykernel)",
   "language": "python",
   "name": "python3"
  },
  "language_info": {
   "codemirror_mode": {
    "name": "ipython",
    "version": 3
   },
   "file_extension": ".py",
   "mimetype": "text/x-python",
   "name": "python",
   "nbconvert_exporter": "python",
   "pygments_lexer": "ipython3",
   "version": "3.10.12"
  }
 },
 "nbformat": 4,
 "nbformat_minor": 5
}
