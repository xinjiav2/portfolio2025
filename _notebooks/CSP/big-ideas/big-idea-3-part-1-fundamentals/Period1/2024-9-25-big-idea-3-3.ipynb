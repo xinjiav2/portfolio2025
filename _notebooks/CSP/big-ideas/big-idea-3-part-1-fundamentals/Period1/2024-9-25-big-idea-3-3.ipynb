{
 "cells": [
  {
   "cell_type": "code",
   "execution_count": null,
   "metadata": {
    "vscode": {
     "languageId": "plaintext"
    }
   },
   "outputs": [],
   "source": [
    "---\n",
    "toc: false\n",
    "comments: true\n",
    "layout: post\n",
    "title: 3.3 Mathematical Expressions 🔣\n",
    "description: Student led teaching on  Mathematical Expressions. Learn how mathematical expressions involve using arithmetic operators (like addition, subtraction, multiplication, and division) to perform calculations\n",
    "permalink: /csp/big-idea/3-3/p1\n",
    "categories: [CSP Big Ideas]\n",
    "author: Bailey, Travis, Leon, Anyi\n",
    "menu: nav/csp_units/csp_unit3_p1_fundamentals.html\n",
    "---"
   ]
  },
  {
   "cell_type": "markdown",
   "metadata": {},
   "source": [
    "<style>\n",
    "    .left-pattern, .right-pattern {\n",
    "        position: fixed;\n",
    "        top: 0;\n",
    "        width: 200px;\n",
    "        height: 100%;\n",
    "        background-image: url('https://cdn.pixabay.com/photo/2022/11/02/22/25/background-7566164_1280.jpg');\n",
    "        background-repeat: no-repeat;\n",
    "        background-size: cover;\n",
    "        z-index: -1;\n",
    "    }\n",
    "    .left-pattern {\n",
    "        left: 0;\n",
    "    }\n",
    "    .right-pattern {\n",
    "        right: 0;\n",
    "    }\n",
    "    .wtv {\n",
    "    background-color: #1e3d59;\n",
    "    padding: 10px;\n",
    "    border-radius: 5px;\n",
    "    }\n",
    "    body {\n",
    "        font-family: 'Comic Sans MS', cursive, sans-serif;\n",
    "    }\n",
    "    h1 {\n",
    "             color: #ffffff;  \n",
    "            text-shadow: \n",
    "                0 0 3px #00ccff,  \n",
    "                0 0 6px #00ccff, \n",
    "                0 0 10px #00ccff;\n",
    "        }\n",
    "</style>\n"
   ]
  },
  {
   "cell_type": "markdown",
   "metadata": {},
   "source": [
    "<div class=\"wtv\">\n",
    "<h1>Mathematical Operations 🔣</h1>\n",
    "</div>\n",
    "\n",
    "- ➕Addition: a + b \n",
    "- ➖Subtraction: a - b\n",
    "- ✖️Multiplication: a * b\n",
    "- ➗Division: a / b\n",
    "- Modulus (remainder of a/b): JavaScript: a MOD b, Python: a % b\n",
    "- Math is performed according to order of operations (PEMDAS)\n",
    "- For those who aren't familiar with PEMDAS, the first opperation performed is anything in parantheses, then comes exponents, then multiplication and division at the same time in order from left to right and then addition and subtraction from left to right\n",
    "- Modulus is performed at the same time as multiplication or division\n"
   ]
  },
  {
   "cell_type": "markdown",
   "metadata": {},
   "source": []
  },
  {
   "cell_type": "markdown",
   "metadata": {},
   "source": [
    "<div class=\"wtv\">\n",
    "<h1>Example 1</h1>\n",
    "</div>\n",
    "Write a function that will output a y value for y = 7(x+4)-6 when given an input of an x value. \n"
   ]
  },
  {
   "cell_type": "code",
   "execution_count": null,
   "metadata": {},
   "outputs": [],
   "source": [
    "# Defines the function so that it can be called later\n",
    "def output(x):\n",
    "    # Prints the output by first performing x plus 4, then that quantity times 7 and finally subtracting 6 from that answer.\n",
    "    print(7 * (x + 4) - 6)"
   ]
  },
  {
   "cell_type": "markdown",
   "metadata": {},
   "source": [
    "<div class=\"wtv\">\n",
    "<h1>Example 2</h1>\n",
    "What will the code below print?\n",
    "</div>"
   ]
  },
  {
   "cell_type": "code",
   "execution_count": null,
   "metadata": {},
   "outputs": [],
   "source": [
    "number1 = 8\n",
    "number2 = 3\n",
    "number3 = number1 % number2\n",
    "number4 = number3 * number1 + 70\n",
    "print(number4)"
   ]
  },
  {
   "cell_type": "markdown",
   "metadata": {},
   "source": [
    "<div class=\"wtv\">\n",
    "<h1>Example 3</h1>\n",
    "Create a list of numbers that will all be tested for whether they are divisible by 3. If they are divisible by 3 the output will say that the number is divisible by 3 and if they aren't divisible by 3 the output will be the remainder when the number is divided by 3.\n",
    "</div>"
   ]
  },
  {
   "cell_type": "code",
   "execution_count": null,
   "metadata": {},
   "outputs": [],
   "source": [
    "# List of numbers. Can be changed to include any number of integers.\n",
    "numbers = [14, 18, 19, 23]\n",
    "\n",
    "# For loop that will run through every number in the list of numbers.\n",
    "for num in numbers:\n",
    "    # Creates a variable which stores the modulus of each number when divided by 3.\n",
    "    remainder = num % 3\n",
    "    # Checks to see if the modulus is 0 meaning there is no remainder when divided.\n",
    "    if remainder == 0:\n",
    "        # Prints that the number is divisible if there is no remainder.\n",
    "        print(num, \"is divisible by 3\")\n",
    "    # Runs if the remainder is anything other than 0.\n",
    "    else:\n",
    "        # Prints that the remainder when divided by 3 is whatever the modulus was stored as.\n",
    "        print(\"The remainder when\", num, \"is divided by 3 is\", remainder)"
   ]
  }
 ],
 "metadata": {
  "kernelspec": {
   "display_name": ".venv",
   "language": "python",
   "name": "python3"
  },
  "language_info": {
   "codemirror_mode": {
    "name": "ipython",
    "version": 3
   },
   "file_extension": ".py",
   "mimetype": "text/x-python",
   "name": "python",
   "nbconvert_exporter": "python",
   "pygments_lexer": "ipython3",
   "version": "3.12.6"
  }
 },
 "nbformat": 4,
 "nbformat_minor": 2
}
