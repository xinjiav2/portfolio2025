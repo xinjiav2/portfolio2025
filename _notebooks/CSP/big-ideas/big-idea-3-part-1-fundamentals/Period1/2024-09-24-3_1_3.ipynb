{
 "cells": [
  {
   "cell_type": "raw",
   "metadata": {
    "vscode": {
     "languageId": "raw"
    }
   },
   "source": [
    "---\n",
    "toc: true\n",
    "layout: post\n",
    "title: 3.1 Variables and Strings\n",
    "permalink: /csp/big-idea/p1/3-1-3\n",
    "description: Team Teach String Operations\n",
    "menu: nav/csp_units/csp_unit3_p1_fundamentals.html\n",
    "comments: true\n",
    "---"
   ]
  },
  {
   "cell_type": "markdown",
   "metadata": {},
   "source": [
    "<html>\n",
    "    <style>\n",
    "        @keyframes bounce {\n",
    "            0%, 20%, 50%, 80%, 100% {\n",
    "                transform: translateY(0);\n",
    "            }\n",
    "            10%, 30%, 60%, 90% {\n",
    "                transform: translateY(-30px);\n",
    "            }\n",
    "            40%, 70% {\n",
    "                transform: translateY(-15px);\n",
    "            }\n",
    "        }\n",
    "        @keyframes bounce2 {\n",
    "            /* bounce */\n",
    "            0%, 20%, 50%, 80%, 100% {\n",
    "                transform: translateY(0);\n",
    "            }\n",
    "            10%, 30%, 60%, 90% {\n",
    "                transform: translateY(-30px);\n",
    "            }\n",
    "            40%, 70% {\n",
    "                transform: translateY(-15px);\n",
    "            }\n",
    "            /* flips */\n",
    "            0%, 25% {\n",
    "                transform: rotateZ(0deg);\n",
    "            }\n",
    "            25%, 50% {\n",
    "                transform: rotateY(180deg);\n",
    "            }\n",
    "            50%, 75% {\n",
    "                transform: rotateZ(180deg);\n",
    "            }\n",
    "            75%, 100% {\n",
    "                transform: rotateY(0deg);\n",
    "            }\n",
    "        }\n",
    "        h2{\n",
    "            color: #ffd9d9;\n",
    "        }\n",
    "    </style>\n",
    "    <br>\n",
    "    <br>\n",
    "    <br>\n",
    "    <br>\n",
    "    <br>\n",
    "    <img style=\"animation: bounce2 3s ease infinite; max-width: 25%; filter: saturate(200%);\" src=\"{{site.baseurl}}/images/p1group1images/img7.png\">\n",
    "    <br>\n",
    "    <br>\n",
    "    <p style=\"animation: bounce 3s ease infinite; background: linear-gradient(to right, #C9B1FF, #FFCAF2, #FFB2B1, #FFF3AD, #BCFFBC, #A2EDFF);-webkit-text-fill-color: transparent; -webkit-background-clip: text;\"> ____________________________________________________________________________________________________________________________________________</p>\n",
    "</html>"
   ]
  },
  {
   "cell_type": "markdown",
   "metadata": {},
   "source": [
    "\n",
    "<br>\n",
    "<h2>Variables for Input and Output</h2>\n",
    "<li>Variables are usually used for values that are not constant, and are subject to change (user inputs, positions, whatever)</li>\n",
    "<br>\n",
    "<style>\n",
    "    h1 {\n",
    "        color: #ff00fb;\n",
    "        padding-left: 10px;\n",
    "    }\n",
    "    h2 {\n",
    "        color: #ff00fb;\n",
    "        padding-left: 10px;\n",
    "    }\n",
    "    div {\n",
    "        background-color: #33c9ff;\n",
    "        border-radius: 10px;\n",
    "    }\n",
    "    li {\n",
    "        color: #864d00;\n",
    "        padding-left: 30px;\n",
    "        font-size: 18px;\n",
    "    }\n",
    "</style>"
   ]
  },
  {
   "cell_type": "code",
   "execution_count": 1,
   "metadata": {},
   "outputs": [
    {
     "name": "stdout",
     "output_type": "stream",
     "text": [
      "Your favorite brawler is: Mico\n"
     ]
    }
   ],
   "source": [
    "# define variables\n",
    "brawler = input(\"what's your favorite brawler (#)?:\")\n",
    "\n",
    "# print variable\n",
    "print(\"Your favorite brawler is:\", brawler)"
   ]
  },
  {
   "cell_type": "code",
   "execution_count": 14,
   "metadata": {
    "vscode": {
     "languageId": "html"
    }
   },
   "outputs": [
    {
     "data": {
      "text/html": [
       "\n",
       "<div>\n",
       "  <!-- Label for the input field -->\n",
       "  <label for=\"ageInput\">What's your age (#)?</label>\n",
       "  \n",
       "  <!-- Input field to capture the user's age -->\n",
       "  <input type=\"number\" id=\"ageInput\" name=\"ageInput\">\n",
       "  \n",
       "  <!-- Button to submit the input value -->\n",
       "  <button onclick=\"submitAge()\">Submit</button>\n",
       "</div>\n",
       "\n",
       "<!-- Div to display the output -->\n",
       "<div id=\"output\"></div>\n",
       "\n",
       "<script>\n",
       "  // Function to handle the submission of the age input\n",
       "  function submitAge() {\n",
       "    // Get the value from the HTML input field\n",
       "    let age = document.getElementById('ageInput').value;\n",
       "    \n",
       "    // Log the value to the console\n",
       "    console.log(age);\n",
       "    \n",
       "    // Display the value on the page\n",
       "    document.getElementById('output').innerText = `Your age is: ${age}`;\n",
       "  }\n",
       "</script>\n"
      ],
      "text/plain": [
       "<IPython.core.display.HTML object>"
      ]
     },
     "metadata": {},
     "output_type": "display_data"
    }
   ],
   "source": [
    "%%html \n",
    "\n",
    "<div>\n",
    "  <!--(for demo purposes)-->\n",
    "  <!--label for the input field-->\n",
    "  <label for=\"brawlerInput\">What's your favorite brawler (#)?</label>\n",
    "  \n",
    "  <!--input field to capture the user's age -->\n",
    "  <input type=\"number\" id=\"brawlerInput\" name=\"brawlerInput\">\n",
    "  \n",
    "  <!--button to submit the input value-->\n",
    "  <button onclick=\"submitBrawler()\">Submit</button>\n",
    "</div>\n",
    "\n",
    "<!--display the output-->\n",
    "<div id=\"output\"></div>\n",
    "\n",
    "<script>\n",
    "  // function to handle the submission of the age input\n",
    "  function submitBrawler() {\n",
    "    // get the value from the HTML input field\n",
    "    let brawler = document.getElementById('brawlerInput').value;\n",
    "    \n",
    "    // log the value to the console\n",
    "    console.log(brawler);\n",
    "    \n",
    "    // display the value on the page\n",
    "    document.getElementById('output').innerText = `Your favorite brawler is: ${brawler}`;\n",
    "  }\n",
    "</script>"
   ]
  }
 ],
 "metadata": {
  "kernelspec": {
   "display_name": "Python 3",
   "language": "python",
   "name": "python3"
  },
  "language_info": {
   "codemirror_mode": {
    "name": "ipython",
    "version": 3
   },
   "file_extension": ".py",
   "mimetype": "text/x-python",
   "name": "python",
   "nbconvert_exporter": "python",
   "pygments_lexer": "ipython3",
   "version": "3.10.12"
  }
 },
 "nbformat": 4,
 "nbformat_minor": 2
}
