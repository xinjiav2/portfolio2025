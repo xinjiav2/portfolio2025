{
 "cells": [
  {
   "cell_type": "raw",
   "metadata": {
    "vscode": {
     "languageId": "raw"
    }
   },
   "source": [
    "---\n",
    "toc: false\n",
    "comments: true\n",
    "layout: post\n",
    "title: 3.6 Mastering Conditionals - Control Program Flow with IF, ELSE, and More\n",
    "description: Student led teaching on Conditionals. Learn how conditionals control the flow of a program by executing specific blocks of code under certain conditions.\n",
    "permalink: /csp/big-idea/3-6/p1\n",
    "categories: [CSP Big Ideas]\n",
    "author: Gavin, Gyutae, Marti, Zaid\n",
    "menu: nav/csp_units/csp_unit3_p1_fundamentals.html\n",
    "---"
   ]
  },
  {
   "cell_type": "markdown",
   "metadata": {},
   "source": [
    "## Conditionals\n",
    "\n",
    "- Affect the sequential flow of control by executing different statements based on the value of a Boolean expression."
   ]
  },
  {
   "cell_type": "raw",
   "metadata": {
    "vscode": {
     "languageId": "raw"
    }
   },
   "source": [
    "IF (condition)\n",
    "{\n",
    "\t<block of statements>\n",
    "}\n",
    "\n",
    "The code in <block of statements> is executed if the Boolean expression condition evaluates to true; no action is taken if condition evaluates to false.\n",
    "\n",
    "IF (condition)\n",
    "{\n",
    "\t<block of statements>\n",
    "}\n",
    "ELSE\n",
    "{\n",
    "\t<second block of statements>\n",
    "}\n",
    "\n",
    "The code in the first <block of statements> is executed if the Boolean expression condition evaluates to true; otherwise, the code in <second block of statements> is executed."
   ]
  },
  {
   "cell_type": "markdown",
   "metadata": {},
   "source": [
    "<b>Example:</b> Calculate the sum of 2 numbers. If the sum is greater than 10, display 10; otherwise, display the sum."
   ]
  },
  {
   "cell_type": "raw",
   "metadata": {
    "vscode": {
     "languageId": "raw"
    }
   },
   "source": [
    "num1 = INPUT\n",
    "num2 = INPUT\n",
    "sum = num1 + num2\n",
    "IF (sum > 10)\n",
    "{\n",
    "\tDISPLAY (10)\n",
    "}\n",
    "ELSE\n",
    "{\n",
    "\tDISPLAY (sum)\n",
    "}"
   ]
  },
  {
   "cell_type": "markdown",
   "metadata": {},
   "source": [
    "# Example\n",
    "\n",
    "- Add a variable that represents an age.\n",
    "\n",
    "- Add an 'if' and 'print' function that says \"You are an adult\" if your age is greater than or equal to 18.\n",
    "\n",
    "- Make a function that prints \"You are a minor\" with the else function."
   ]
  },
  {
   "cell_type": "code",
   "execution_count": null,
   "metadata": {},
   "outputs": [],
   "source": [
    "\n",
    "age = input(\"age: \")\n",
    "if int(age) >= 18:\n",
    "    print(\"Adult\")\n",
    "else:\n",
    "    print(\"Minor\")"
   ]
  },
  {
   "cell_type": "markdown",
   "metadata": {},
   "source": [
    "## JavaScript\n",
    "This is the JS equivalent of the code"
   ]
  },
  {
   "cell_type": "code",
   "execution_count": null,
   "metadata": {
    "vscode": {
     "languageId": "javascript"
    }
   },
   "outputs": [],
   "source": [
    "let age = prompt(\"Enter your age:\");\n",
    "if (parseInt(age) >= 18) {\n",
    "    console.log(\"Adult\");\n",
    "} else {\n",
    "    console.log(\"Minor\");\n",
    "}"
   ]
  },
  {
   "cell_type": "markdown",
   "metadata": {},
   "source": [
    "# Example\n",
    "\n",
    "- Make a variable called 'is_raining' and set it to 'True\".\n",
    "\n",
    "- Make an if statement that prints \"Bring an umbrella!\" if it is true\n",
    "\n",
    "- Make an else statement that says \"The weather is clear\"."
   ]
  },
  {
   "cell_type": "code",
   "execution_count": null,
   "metadata": {},
   "outputs": [],
   "source": [
    "\n",
    "is_raining = False\n",
    "if is_raining:\n",
    "    print(\"Bring a umbrella\")\n",
    "else:\n",
    "    print(\"The weather is clear\")"
   ]
  },
  {
   "cell_type": "markdown",
   "metadata": {},
   "source": [
    "## JavaScript\n",
    "This is the JS equivalent of the code"
   ]
  },
  {
   "cell_type": "code",
   "execution_count": null,
   "metadata": {
    "vscode": {
     "languageId": "javascript"
    }
   },
   "outputs": [],
   "source": [
    "let isRaining = false;\n",
    "if (isRaining) {\n",
    "    console.log(\"Bring an umbrella\");\n",
    "} else {\n",
    "    console.log(\"The weather is clear\");\n",
    "}"
   ]
  },
  {
   "cell_type": "markdown",
   "metadata": {},
   "source": [
    "# Example\n",
    "\n",
    "- Make a function to randomize numbers between 0 and 100 to be assigned to variables a and b using random.randint\n",
    "\n",
    "- Print the values of the variables\n",
    "\n",
    "- Print the relationship of the variables; a is more than, same as, or less than b"
   ]
  },
  {
   "cell_type": "code",
   "execution_count": null,
   "metadata": {},
   "outputs": [],
   "source": [
    "\n",
    "import random\n",
    "\n",
    "\n",
    "a = random.randint(0,100)\n",
    "b = random.randint(0,100)\n",
    "print(a, b)\n",
    "\n",
    "if a > b:\n",
    "    print( str(a) + \" > \" + str(b) )\n",
    "elif a < b: \n",
    "    print( str(a) + \" < \" + str(b) )\n",
    "else:\n",
    "    print( str(a) + \" = \" + str(b) )\n",
    "\n"
   ]
  },
  {
   "cell_type": "markdown",
   "metadata": {},
   "source": [
    "## JavaScript\n",
    "This is the JS equivalent of the code"
   ]
  },
  {
   "cell_type": "code",
   "execution_count": null,
   "metadata": {
    "vscode": {
     "languageId": "javascript"
    }
   },
   "outputs": [],
   "source": [
    "let a = Math.floor(Math.random() * 101); // Random number between 0 and 100\n",
    "let b = Math.floor(Math.random() * 101);\n",
    "\n",
    "console.log(a, b);\n",
    "\n",
    "if (a > b) {\n",
    "    console.log(a + \" > \" + b);\n",
    "} else if (a < b) {\n",
    "    console.log(a + \" < \" + b);\n",
    "} else {\n",
    "    console.log(a + \" = \" + b);\n",
    "}"
   ]
  },
  {
   "cell_type": "markdown",
   "metadata": {},
   "source": [
    "## Quiz!"
   ]
  },
  {
   "cell_type": "markdown",
   "metadata": {},
   "source": [
    "<button id=\"start-quiz\" onclick=\"startQuiz()\">Start Quiz</button>\n",
    "\n",
    "<div id=\"quiz-questions\" style=\"display: none;\"> <!-- Initially hidden -->\n",
    "</div>\n",
    "\n",
    "<script>\n",
    "    const questions = [\n",
    "        {\n",
    "            question: \"What keyword is used in Python to check a condition?\",\n",
    "            content: \"\",\n",
    "            answer: \"if\",\n",
    "            explanation: \"In Python, the 'if' keyword is used to check a condition.\",\n",
    "            options: [\n",
    "                {\n",
    "                    text: \"for\",\n",
    "                    correct: false\n",
    "                },\n",
    "                {\n",
    "                    text: \"if\",\n",
    "                    correct: true\n",
    "                },\n",
    "                {\n",
    "                    text: \"while\",\n",
    "                    correct: false\n",
    "                }\n",
    "            ]\n",
    "        },\n",
    "        {\n",
    "            question: \"What happens if an `if` condition is false and there is an `else` block?\",\n",
    "            content: \"\",\n",
    "            answer: \"The `else` block runs\",\n",
    "            explanation: \"If the `if` condition is false, the `else` block runs as a fallback.\",\n",
    "            options: [\n",
    "                {\n",
    "                    text: \"The program does nothing\",\n",
    "                    correct: false\n",
    "                },\n",
    "                {\n",
    "                    text: \"The `else` block runs\",\n",
    "                    correct: true\n",
    "                },\n",
    "                {\n",
    "                    text: \"An error occurs\",\n",
    "                    correct: false\n",
    "                }\n",
    "            ]\n",
    "        },\n",
    "        {\n",
    "            question: \"What is the purpose of the `elif` keyword in Python?\",\n",
    "            content: \"\",\n",
    "            answer: \"It checks another condition if the previous one was false\",\n",
    "            explanation: \"The `elif` keyword checks another condition if the `if` statement was false, allowing multiple conditions to be tested.\",\n",
    "            options: [\n",
    "                {\n",
    "                    text: \"It checks another condition if the previous one was false\",\n",
    "                    correct: true\n",
    "                },\n",
    "                {\n",
    "                    text: \"It ends the program\",\n",
    "                    correct: false\n",
    "                },\n",
    "                {\n",
    "                    text: \"It only runs if the `if` block runs\",\n",
    "                    correct: false\n",
    "                }\n",
    "            ]\n",
    "        },\n",
    "        {\n",
    "            question: \"Which of the following is a correct Boolean expression in an `if` statement?\",\n",
    "            content: \"\",\n",
    "            answer: \"if 5 > 3\",\n",
    "            explanation: \"`if 5 > 3` is a valid Boolean expression in Python, as it compares two values.\",\n",
    "            options: [\n",
    "                {\n",
    "                    text: \"if 5 > 3\",\n",
    "                    correct: true\n",
    "                },\n",
    "                {\n",
    "                    text: \"if 'text'\",\n",
    "                    correct: false\n",
    "                },\n",
    "                {\n",
    "                    text: \"if == 10\",\n",
    "                    correct: false\n",
    "                }\n",
    "            ]\n",
    "        },\n",
    "        {\n",
    "            question: \"What is a nested conditional?\",\n",
    "            content: \"3.7 Preview!\",\n",
    "            answer: \"An `if` statement inside another `if` statement\",\n",
    "            explanation: \"A nested conditional refers to an `if` statement inside another `if` statement, allowing for more complex logic.\",\n",
    "            options: [\n",
    "                {\n",
    "                    text: \"An `if` statement inside another `if` statement\",\n",
    "                    correct: true\n",
    "                },\n",
    "                {\n",
    "                    text: \"An `else` block that runs without conditions\",\n",
    "                    correct: false\n",
    "                },\n",
    "                {\n",
    "                    text: \"A loop inside a conditional\",\n",
    "                    correct: false\n",
    "                }\n",
    "            ]\n",
    "        }\n",
    "    ]\n",
    "\n",
    "    let quizStarted = false;\n",
    "\n",
    "    function startQuiz() {\n",
    "        if (quizStarted) {\n",
    "            return;\n",
    "        }\n",
    "        document.getElementById('start-quiz').remove();\n",
    "        document.getElementById('quiz-questions').style.display = 'block'; // Show quiz after starting\n",
    "        quizStarted = true;\n",
    "        for (let i = 0; i < questions.length; i++) {\n",
    "            let question = questions[i];\n",
    "            let div = document.createElement('div');\n",
    "            div.classList.add('question');\n",
    "            div.innerHTML = `<h2>${question.question}</h2><p class=\"content-text\">${question.content}</p>`;\n",
    "            document.getElementById('quiz-questions').appendChild(div);\n",
    "\n",
    "            let options = document.createElement('div');\n",
    "            div.appendChild(options);\n",
    "            options.classList.add('options');\n",
    "            const shuffledOptions = shuffle(question.options);\n",
    "            for (let j = 0; j < shuffledOptions.length; j++) {\n",
    "                let option = shuffledOptions[j];\n",
    "                let optionBtn = document.createElement('button');\n",
    "                optionBtn.innerHTML = option.text;\n",
    "                optionBtn.value = option.correct;\n",
    "                optionBtn.classList.add('option-btn');\n",
    "                optionBtn.onclick = function () {\n",
    "                    handleAnswer(optionBtn, option, question, options);\n",
    "                };\n",
    "                options.appendChild(optionBtn);\n",
    "            }\n",
    "        }\n",
    "    }\n",
    "\n",
    "    function handleAnswer(optionBtn, option, question, optionsContainer) {\n",
    "        // Disable all buttons for this question\n",
    "        let allButtons = optionsContainer.getElementsByClassName('option-btn');\n",
    "        for (let btn of allButtons) {\n",
    "            btn.disabled = true;\n",
    "        }\n",
    "\n",
    "        // Show the explanation\n",
    "        let explanationDiv = document.createElement('p');\n",
    "        explanationDiv.classList.add('explanation');\n",
    "\n",
    "        if (option.correct) {\n",
    "            optionBtn.classList.add('correct');\n",
    "            explanationDiv.innerHTML = `<strong>Correct!</strong> ${question.explanation}`;\n",
    "        } else {\n",
    "            optionBtn.classList.add('incorrect');\n",
    "            explanationDiv.innerHTML = `<strong>Incorrect.</strong> ${question.explanation}`;\n",
    "\n",
    "            // Highlight the correct answer\n",
    "            for (let btn of allButtons) {\n",
    "                if (btn.value === \"true\") {\n",
    "                    btn.classList.add('correct');\n",
    "                }\n",
    "            }\n",
    "        }\n",
    "\n",
    "        // Append the explanation below the options\n",
    "        optionsContainer.parentNode.appendChild(explanationDiv);\n",
    "    }\n",
    "\n",
    "    function shuffle(array) {\n",
    "        const shuffledArray = [...array];\n",
    "        let currentIndex = shuffledArray.length;\n",
    "\n",
    "        // While there remain elements to shuffle...\n",
    "        while (currentIndex != 0) {\n",
    "\n",
    "            // Pick a remaining element...\n",
    "            let randomIndex = Math.floor(Math.random() * currentIndex);\n",
    "            currentIndex--;\n",
    "\n",
    "            // And swap it with the current element.\n",
    "            [shuffledArray[currentIndex], shuffledArray[randomIndex]] = [shuffledArray[randomIndex], shuffledArray[currentIndex]];\n",
    "        }\n",
    "        return shuffledArray;\n",
    "    }\n",
    "</script>\n",
    "\n",
    "<style>\n",
    "    body {\n",
    "        font-family: Arial, sans-serif;\n",
    "        background-color: #f0f4f8; /* Light gray background for readability */\n",
    "        color: #333; /* Dark text color for contrast */\n",
    "        margin: 0;\n",
    "        padding: 0;\n",
    "    }\n",
    "\n",
    "    #quiz-questions {\n",
    "        max-width: 800px;\n",
    "        margin: 20px auto;\n",
    "        padding: 20px;\n",
    "        background-color: #ffffff; /* White background for the quiz box */\n",
    "        box-shadow: 0 4px 8px rgba(0, 0, 0, 0.1); /* Subtle shadow for depth */\n",
    "        border-radius: 8px; /* Rounded corners */\n",
    "    }\n",
    "\n",
    "    .question {\n",
    "        margin-bottom: 20px;\n",
    "        padding: 15px;\n",
    "        border-bottom: 1px solid #ddd; /* Light border between questions */\n",
    "    }\n",
    "\n",
    "    .question h2 {\n",
    "        margin-bottom: 10px;\n",
    "        color: #1a73e8; /* Blue color for questions */\n",
    "    }\n",
    "\n",
    "    .options {\n",
    "        margin-top: 10px;\n",
    "    }\n",
    "\n",
    "    .options button {\n",
    "        background-color: #f1f3f4;\n",
    "        border: none;\n",
    "        padding: 10px 15px;\n",
    "        margin: 5px;\n",
    "        border-radius: 5px;\n",
    "        cursor: pointer;\n",
    "        font-size: 16px;\n",
    "        color: #333;\n",
    "    }\n",
    "\n",
    "    .options button:hover {\n",
    "        background-color: #e0e0e0;\n",
    "    }\n",
    "\n",
    "    .correct {\n",
    "        background-color: #00FF00 !important;\n",
    "        color: black !important;\n",
    "    }\n",
    "\n",
    "    .incorrect {\n",
    "        background-color: red !important;\n",
    "        color: white !important;\n",
    "    }\n",
    "\n",
    "    #start-quiz {\n",
    "        display: block;\n",
    "        margin: 20px auto;\n",
    "        padding: 10px 20px;\n",
    "        font-size: 18px;\n",
    "        background-color: #1a73e8;\n",
    "        color: white;\n",
    "        border: none;\n",
    "        border-radius: 5px;\n",
    "        cursor: pointer;\n",
    "    }\n",
    "\n",
    "    #start-quiz:hover {\n",
    "        background-color: #155ab6;\n",
    "    }\n",
    "\n",
    "    .explanation {\n",
    "        margin-top: 10px;\n",
    "        font-size: 14px;\n",
    "        color: #000 !important; /* Changed to black for readability */\n",
    "    }\n",
    "\n",
    "    .content-text {\n",
    "        color: #333 !important; /* Darker text for content */\n",
    "    }\n",
    "</style>\n"
   ]
  },
  {
   "cell_type": "markdown",
   "metadata": {},
   "source": [
    "# Homework Hack\n",
    "Write a Python program that takes two numbers as input from the user. The program should:\n",
    "\n",
    "- Determine if the numbers are equal.\n",
    "- If the numbers are different, print which number is larger."
   ]
  },
  {
   "cell_type": "markdown",
   "metadata": {},
   "source": [
    "## Submission\n",
    "Submit your assignment [HERE](https://docs.google.com/forms/d/e/1FAIpQLSe7wYZidfPD-fJCE-aYXt89_OCC15MSLXmfVZUjKX6mzE7M6A/viewform)<br><br>\n",
    "This is how we grade:\n",
    "- 1.0 = above and beyond - mortensen level code\n",
    "- 0.95 = challenge hack completed + all other hacks are well done\n",
    "- 0.9 = all hacks completed, but challenge is not attempted/not good\n",
    "- 0.85 = hacks are not well made / incomplete\n",
    "- 0.75 = some hacks are missing\n",
    "- 0.5 = not submitted"
   ]
  },
  {
   "cell_type": "markdown",
   "metadata": {},
   "source": [
    "## Answer:\n",
    "<a href=\"{{site.baseurl}}/csp/big-idea/3-6/p1/solution\">See an example solution</a>"
   ]
  },
  {
   "cell_type": "markdown",
   "metadata": {},
   "source": [
    "<style>\n",
    "    article {\n",
    "        background: linear-gradient(#ac4cf5, #7adeff);\n",
    "        filter: drop-shadow(0 0 0.75rem white);    \n",
    "    }\n",
    "    header {\n",
    "        z-index: 9999999\n",
    "    }\n",
    "    pre {\n",
    "        border: 3px solid #ff7878;\n",
    "    }\n",
    "</style>"
   ]
  }
 ],
 "metadata": {
  "kernelspec": {
   "display_name": "Python 3",
   "language": "python",
   "name": "python3"
  },
  "language_info": {
   "codemirror_mode": {
    "name": "ipython",
    "version": 3
   },
   "file_extension": ".py",
   "mimetype": "text/x-python",
   "name": "python",
   "nbconvert_exporter": "python",
   "pygments_lexer": "ipython3",
   "version": "3.11.9"
  }
 },
 "nbformat": 4,
 "nbformat_minor": 2
}
