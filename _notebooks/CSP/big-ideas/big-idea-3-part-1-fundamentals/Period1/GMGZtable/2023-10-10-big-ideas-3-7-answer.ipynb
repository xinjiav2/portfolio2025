{
 "cells": [
  {
   "cell_type": "markdown",
   "metadata": {},
   "source": [
    "---\n",
    "toc: false\n",
    "comments: true\n",
    "layout: post\n",
    "title: 3.7 Mastering Nested Conditionals - Unlocking Advanced Decision-Making in Programming\n",
    "description: A supplemental blog on nested conditionals. Learn how nested conditionals allow for more complex decision-making by enabling multiple levels of conditions than regular conditionals. \n",
    "permalink: /csp/big-idea/3-7/p1/solution\n",
    "author: Gavin, Gyutae, Marti, Zaid\n",
    "menu: nav/csp_units/csp_unit3_p1_fundamentals.html\n",
    "---"
   ]
  },
  {
   "cell_type": "code",
   "execution_count": null,
   "metadata": {
    "vscode": {
     "languageId": "html"
    }
   },
   "outputs": [],
   "source": [
    "IF exam_score >= 60\n",
    "{\n",
    "    IF attendance >= 75\n",
    "    {\n",
    "        DISPLAY \"Pass\"\n",
    "    }\n",
    "    ELSE\n",
    "    {\n",
    "        DISPLAY \"Fail due to low attendance\"\n",
    "    }\n",
    "}\n",
    "ELSE\n",
    "{\n",
    "    DISPLAY \"Fail due to low exam score\"\n",
    "}"
   ]
  },
  {
   "cell_type": "code",
   "execution_count": null,
   "metadata": {},
   "outputs": [],
   "source": [
    "## Python Segment\n",
    "\n",
    "# Ask the user for input values\n",
    "weight = float(input(\"Enter the weight of the package in pounds: \"))\n",
    "delivery_days = int(input(\"Enter the delivery speed (number of delivery days): \"))\n",
    "\n",
    "# Determine if the delivery is under 3 days or not\n",
    "is_express = delivery_days < 3\n",
    "\n",
    "# Nested conditionals to calculate shipping cost\n",
    "if is_express:  # More expensive if under 3 days\n",
    "    if weight <= 5:\n",
    "        print(\"Shipping cost is $15\")\n",
    "    else:\n",
    "        print(\"Shipping cost is $25\")\n",
    "else:  # Less expensive if 3 days or more\n",
    "    if weight <= 5:\n",
    "        print(\"Shipping cost is $5\")\n",
    "    else:\n",
    "        print(\"Shipping cost is $10\")"
   ]
  },
  {
   "cell_type": "code",
   "execution_count": null,
   "metadata": {},
   "outputs": [],
   "source": [
    "## Another Example \n",
    "\n",
    "# Ask the user for input values\n",
    "age = int(input(\"Enter your age: \"))\n",
    "is_student = input(\"Are you a student? (yes or no): \")\n",
    "\n",
    "# Determine if the user is a student\n",
    "student_discount = (is_student == 'yes' or is_student == 'Yes' or is_student == 'YES')\n",
    "\n",
    "# Nested conditionals to calculate ticket price\n",
    "if age < 12:  # Child ticket\n",
    "    ticket_price = 8  # Base price for children\n",
    "elif age >= 12 and age <= 64:  # Adult ticket\n",
    "    ticket_price = 12  # Base price for adults\n",
    "else:  # Senior ticket\n",
    "    ticket_price = 10  # Base price for seniors\n",
    "\n",
    "# Apply student discount if applicable\n",
    "if student_discount:\n",
    "    ticket_price *= 0.8  # 20% discount\n",
    "\n",
    "print(f\"The ticket price is: ${ticket_price:.2f}\")\n",
    "\n"
   ]
  },
  {
   "cell_type": "code",
   "execution_count": null,
   "metadata": {},
   "outputs": [],
   "source": [
    "# Example program to classify the type of triangle based on the lengths of its sides\n",
    "\n",
    "# Step 1: Get input for the three sides of the triangle\n",
    "side1 = float(input(\"Enter the length of side 1: \"))\n",
    "side2 = float(input(\"Enter the length of side 2: \"))\n",
    "side3 = float(input(\"Enter the length of side 3: \"))\n",
    "\n",
    "# Step 2: Check if the entered sides can form a valid triangle\n",
    "if (side1 + side2 > side3) and (side1 + side3 > side2) and (side2 + side3 > side1):\n",
    "    # Step 3: Use nested conditionals to determine the type of triangle\n",
    "    if side1 == side2 == side3:\n",
    "        print(\"This is an Equilateral Triangle.\")\n",
    "    elif side1 == side2 or side1 == side3 or side2 == side3:\n",
    "        print(\"This is an Isosceles Triangle.\")\n",
    "    else:\n",
    "        print(\"This is a Scalene Triangle.\")\n",
    "else:\n",
    "    # If it's not a valid triangle\n",
    "    print(\"The entered sides do not form a valid triangle.\")"
   ]
  },
  {
   "cell_type": "markdown",
   "metadata": {},
   "source": [
    "<style>\n",
    "    article {\n",
    "        background: linear-gradient(#ac4cf5, #7adeff);\n",
    "        filter: drop-shadow(0 0 0.75rem white);    \n",
    "    }\n",
    "    header {\n",
    "        z-index: 9999999\n",
    "    }\n",
    "    pre {\n",
    "        border: 3px solid #ff7878;\n",
    "    }\n",
    "</style>"
   ]
  }
 ],
 "metadata": {
  "kernelspec": {
   "display_name": "venv",
   "language": "python",
   "name": "python3"
  },
  "language_info": {
   "codemirror_mode": {
    "name": "ipython",
    "version": 3
   },
   "file_extension": ".py",
   "mimetype": "text/x-python",
   "name": "python",
   "nbconvert_exporter": "python",
   "pygments_lexer": "ipython3",
   "version": "3.12.5"
  }
 },
 "nbformat": 4,
 "nbformat_minor": 2
}
