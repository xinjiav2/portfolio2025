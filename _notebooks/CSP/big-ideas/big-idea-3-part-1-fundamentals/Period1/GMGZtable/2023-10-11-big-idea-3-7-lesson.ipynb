{
 "cells": [
  {
   "cell_type": "raw",
   "metadata": {
    "vscode": {
     "languageId": "raw"
    }
   },
   "source": [
    "---\n",
    "toc: false\n",
    "comments: true\n",
    "layout: post\n",
    "title: 3.7 Mastering Nested Conditionals - Unlocking Advanced Decision-Making in Programming\n",
    "description: A supplemental blog on nested conditionals. Learn how nested conditionals allow for more complex decision-making by enabling multiple levels of conditions than regular conditionals. \n",
    "permalink: /csp/big-idea/3-7/p1/lesson\n",
    "author: Gavin, Gyutae, Marti, Zaid\n",
    "menu: nav/csp_units/csp_unit3_p1_fundamentals.html\n",
    "---"
   ]
  },
  {
   "cell_type": "markdown",
   "metadata": {},
   "source": [
    "<!-- Styles -->\n",
    "<style>\n",
    "    body {\n",
    "        font-family: Arial, sans-serif;\n",
    "        margin: 0;\n",
    "        padding: 20px;\n",
    "        background-color: #f8f9fa;\n",
    "    }\n",
    "\n",
    "    .container {\n",
    "        display: flex;\n",
    "        flex-direction: column;\n",
    "        gap: 20px; /* Space between boxes */\n",
    "        max-width: 800px;\n",
    "        margin: 0 auto; /* Center the container */\n",
    "    }\n",
    "\n",
    "    .content-box {\n",
    "        padding: 20px;\n",
    "        border-radius: 8px;\n",
    "        border: 2px solid;\n",
    "        font-size: 16px;\n",
    "        color: white; /* Change text color to white */\n",
    "        box-shadow: 0 2px 5px rgba(0, 0, 0, 0.1); /* Soft shadow for depth */\n",
    "    }\n",
    "\n",
    "    /* Specific background colors */\n",
    "    .introduction {\n",
    "        background-color: #4b0082; /* Darker background color */\n",
    "        border-color: #e5dbff;\n",
    "    }\n",
    "\n",
    "    .objectives {\n",
    "        background-color: #008080; /* Darker background color */\n",
    "        border-color: #d6f4ff;\n",
    "    }\n",
    "\n",
    "    .key-concepts {\n",
    "        background-color: #556b2f; /* Darker background color */\n",
    "        border-color: #d9f2cc;\n",
    "    }\n",
    "\n",
    "    h2 {\n",
    "        margin-top: 0; /* Remove top margin for headings */\n",
    "        color: white; /* Set heading color to white */\n",
    "    }\n",
    "\n",
    "    p, li { \n",
    "        color: white; /* Ensure paragraph and list item colors are white */\n",
    "    }\n",
    "\n",
    "    ul {\n",
    "        padding-left: 20px; /* Indent list items */\n",
    "    }\n",
    "</style>\n",
    "\n",
    "<!-- HTML Content -->\n",
    "<div class=\"container\">\n",
    "    <!-- Introduction Section -->\n",
    "    <div class=\"content-box introduction\">\n",
    "        <h2>Introduction</h2>\n",
    "        <p><strong>Nested conditionals</strong> are conditional statements (like if, else if, and else) placed within another conditional statement. They allow you to make more complex decisions in your programs by evaluating multiple conditions based on the outcomes of other conditions.</p>\n",
    "        <p><strong>Example in Natural Language</strong></p>\n",
    "        <li>If the person is less than 13, they are a child.</li>\n",
    "        <li>If the person is between 13 and 19, they are a teenager.</li>\n",
    "        <li>If the person is 20 or older, check if they are a senior citizen (60 or older) or an adult (between 20 and 59).</li>\n",
    "    </div>\n",
    "    <!-- Objectives Section -->\n",
    "    <div class=\"content-box objectives\">\n",
    "        <h2>Objectives</h2>\n",
    "        <ul>\n",
    "            <li><strong>Understand what nested conditionals are.</strong></li>\n",
    "            <li><strong>Write pseudocode using nested conditionals.</strong></li>\n",
    "            <li><strong>Apply nested conditionals to solve problems.</strong></li>\n",
    "        </ul>\n",
    "    </div>\n",
    "    <!-- Key Concepts Section -->\n",
    "    <div class=\"content-box key-concepts\">\n",
    "        <h2>Key Concepts</h2>\n",
    "        <ul>\n",
    "            <li><strong>Conditional Statements</strong>: Used to perform different actions based on different conditions.</li>\n",
    "            <li><strong>Nested Conditionals</strong>: A conditional statement inside another conditional statement.</li>\n",
    "            <li><strong>Pseudocode</strong>: Pseudocode is like a way to plan out a program before you write the actual code. It uses simple, everyday language to describe the steps a computer should take.</li> \n",
    "        </ul>\n",
    "    </div>\n",
    "</div>\n",
    "\n"
   ]
  },
  {
   "cell_type": "markdown",
   "metadata": {},
   "source": [
    "\n",
    "\n",
    "## Example Syntax (College Board Pseudocode)\n",
    "\n",
    "College Board pseudocode uses the following structure for conditional statements:\n",
    "\n",
    "```plaintext\n",
    "IF condition1\n",
    "{\n",
    "    // Code block for condition1\n",
    "    IF condition2\n",
    "    {\n",
    "        // Code block for condition2\n",
    "    }\n",
    "    ELSE\n",
    "    {\n",
    "        // Code block if condition2 is false\n",
    "    }\n",
    "}\n",
    "ELSE\n",
    "{\n",
    "    // Code block if condition1 is false\n",
    "}\n"
   ]
  },
  {
   "cell_type": "markdown",
   "metadata": {
    "vscode": {
     "languageId": "raw"
    }
   },
   "source": [
    "# Explanation\n",
    "\n",
    "<li><strong>Outer IF Statement:</strong>  This checks the first condition.</li> <ul>\n",
    "    <li>If condition1 is true, the code inside the first set of curly braces { } runs.</li>\n",
    "    <li>If condition1 is false, the code inside the ELSE block runs.</li>\n",
    "    </ul>\n",
    "\n",
    "<li><strong>Inner IF Statement:</strong> Inside the first code block (which runs if condition1 is true), there's another IF statement that checks condition2.</li> <ul>\n",
    "    <li>If condition2 is true, the code inside this second set of curly braces runs.</li>\n",
    "    <li>If condition2 is false, the code inside the ELSE block associated with condition2 runs.</li> </ul>"
   ]
  },
  {
   "cell_type": "markdown",
   "metadata": {},
   "source": [
    "`Example 1: Checking Grade Categories`\n",
    "\n",
    "## Pseudocode\n",
    "What is pseudocode? \n",
    "\n",
    "Pseudocode is a description designed for human reading rather than machine reading. Pseudocode is written in plain language, making it easy for anyone to understand the logic, regardless of their programming background.\n",
    "\n",
    "Key Points for Writing Pseudocode:\n",
    "- Use simple language that describes the logic clearly.\n",
    "- Indent nested conditions for better readability.\n",
    "- Use keywords like BEGIN, END, IF, ELSE, and PRINT to denote structure.\n",
    "\n",
    "\n",
    "Let's write a pseudocode to determine the grade category based on a score:"
   ]
  },
  {
   "cell_type": "code",
   "execution_count": null,
   "metadata": {
    "vscode": {
     "languageId": "html"
    }
   },
   "outputs": [],
   "source": [
    "IF score >= 90\n",
    "{\n",
    "    DISPLAY \"A\"\n",
    "}\n",
    "ELSE\n",
    "{\n",
    "    IF score >= 80\n",
    "    {\n",
    "        DISPLAY \"B\"\n",
    "    }\n",
    "    ELSE\n",
    "    {\n",
    "        IF score >= 70\n",
    "        {\n",
    "            DISPLAY \"C\"\n",
    "        }\n",
    "        ELSE\n",
    "        {\n",
    "            IF score >= 60\n",
    "            {\n",
    "                DISPLAY \"D\"\n",
    "            }\n",
    "            ELSE\n",
    "            {\n",
    "                DISPLAY \"F\"\n",
    "            }\n",
    "        }\n",
    "    }\n",
    "}\n"
   ]
  },
  {
   "cell_type": "markdown",
   "metadata": {},
   "source": [
    "## Python\n",
    "Here is the equivalent Python code:"
   ]
  },
  {
   "cell_type": "code",
   "execution_count": 1,
   "metadata": {},
   "outputs": [
    {
     "name": "stdout",
     "output_type": "stream",
     "text": [
      "B\n"
     ]
    }
   ],
   "source": [
    "score = 85\n",
    "\n",
    "if score >= 90:\n",
    "    print(\"A\")\n",
    "else:\n",
    "    if score >= 80:\n",
    "        print(\"B\")\n",
    "    else:\n",
    "        if score >= 70:\n",
    "            print(\"C\")\n",
    "        else:\n",
    "            if score >= 60:\n",
    "                print(\"D\")\n",
    "            else:\n",
    "                print(\"F\")\n"
   ]
  },
  {
   "cell_type": "markdown",
   "metadata": {
    "vscode": {
     "languageId": "javascript"
    }
   },
   "source": [
    "# Javascript\n",
    "\n",
    "Here is the equivalent Javascript code example: "
   ]
  },
  {
   "cell_type": "code",
   "execution_count": null,
   "metadata": {
    "vscode": {
     "languageId": "javascript"
    }
   },
   "outputs": [],
   "source": [
    "let score = 85;\n",
    "\n",
    "if (score >= 90) {\n",
    "    console.log(\"A\");\n",
    "} else if (score >= 80) {\n",
    "    console.log(\"B\");\n",
    "} else if (score >= 70) {\n",
    "    console.log(\"C\");\n",
    "} else if (score >= 60) {\n",
    "    console.log(\"D\");\n",
    "} else {\n",
    "    console.log(\"F\");\n",
    "}\n"
   ]
  },
  {
   "cell_type": "markdown",
   "metadata": {},
   "source": [
    "`Example 2: Determining Eligibility for a Loan`\n",
    "\n",
    "\n",
    "## Pseudocode\n",
    "Let's consider a scenario where we determine if a person is eligible for a loan based on their credit score and income:"
   ]
  },
  {
   "cell_type": "code",
   "execution_count": null,
   "metadata": {
    "vscode": {
     "languageId": "html"
    }
   },
   "outputs": [],
   "source": [
    "IF credit_score >= 700\n",
    "{\n",
    "    IF income >= 50000\n",
    "    {\n",
    "        DISPLAY \"Eligible for loan\"\n",
    "    }\n",
    "    ELSE\n",
    "    {\n",
    "        DISPLAY \"Not eligible for loan due to low income\"\n",
    "    }\n",
    "}\n",
    "ELSE\n",
    "{\n",
    "    DISPLAY \"Not eligible for loan due to low credit score\"\n",
    "}\n"
   ]
  },
  {
   "cell_type": "markdown",
   "metadata": {},
   "source": [
    "## Python\n",
    "Here is the equivalent Python code:\n",
    "\n"
   ]
  },
  {
   "cell_type": "code",
   "execution_count": null,
   "metadata": {},
   "outputs": [],
   "source": [
    "credit_score = 750\n",
    "income = 60000\n",
    "\n",
    "if credit_score >= 700:\n",
    "    if income >= 50000:\n",
    "        print(\"Eligible for loan\")\n",
    "    else:\n",
    "        print(\"Not eligible for loan due to low income\")\n",
    "else:\n",
    "    print(\"Not eligible for loan due to low credit score\")\n"
   ]
  },
  {
   "cell_type": "markdown",
   "metadata": {},
   "source": [
    "# Javascript\n",
    "\n",
    "Here is the equivalent Javascript code: "
   ]
  },
  {
   "cell_type": "code",
   "execution_count": null,
   "metadata": {
    "vscode": {
     "languageId": "javascript"
    }
   },
   "outputs": [],
   "source": [
    "let credit_score = 750;\n",
    "let income = 60000;\n",
    "\n",
    "if (credit_score >= 700) {\n",
    "    if (income >= 50000) {\n",
    "        console.log(\"Eligible for loan\");\n",
    "    } else {\n",
    "        console.log(\"Not eligible for loan due to low income\");\n",
    "    }\n",
    "} else {\n",
    "    console.log(\"Not eligible for loan due to low credit score\");\n",
    "}\n"
   ]
  },
  {
   "cell_type": "markdown",
   "metadata": {},
   "source": [
    "`Example 3`\n",
    "Write pseudocode to determine if a person qualifies for a discount based on their membership status and purchase amount:\n",
    "\n",
    "If the person is a member:\n",
    "  - If the purchase amount is greater than $100, they get a 20% discount.\n",
    "  - Otherwise, they get a 10% discount.\n",
    "If the person is not a member:\n",
    "   - If the purchase amount is greater than $100, they get a 5% discount.\n",
    "    - Otherwise, they get no discount.\n"
   ]
  },
  {
   "cell_type": "code",
   "execution_count": null,
   "metadata": {
    "vscode": {
     "languageId": "html"
    }
   },
   "outputs": [],
   "source": [
    "IF is_member = TRUE\n",
    "{\n",
    "    IF purchase_amount > 100\n",
    "    {\n",
    "        DISPLAY \"20% discount\"\n",
    "    }\n",
    "    ELSE\n",
    "    {\n",
    "        DISPLAY \"10% discount\"\n",
    "    }\n",
    "}\n",
    "ELSE\n",
    "{\n",
    "    IF purchase_amount > 100\n",
    "    {\n",
    "        DISPLAY \"5% discount\"\n",
    "    }\n",
    "    ELSE\n",
    "    {\n",
    "        DISPLAY \"No discount\"\n",
    "    }\n",
    "}\n"
   ]
  },
  {
   "cell_type": "markdown",
   "metadata": {},
   "source": [
    "<style>\n",
    "    article {\n",
    "        background: linear-gradient(#ac4cf5, #7adeff);\n",
    "        filter: drop-shadow(0 0 0.75rem white);    \n",
    "    }\n",
    "    header {\n",
    "        z-index: 9999999\n",
    "    }\n",
    "    pre {\n",
    "        border: 3px solid #ff7878;\n",
    "    }\n",
    "</style>"
   ]
  }
 ],
 "metadata": {
  "kernelspec": {
   "display_name": "Python 3",
   "language": "python",
   "name": "python3"
  },
  "language_info": {
   "codemirror_mode": {
    "name": "ipython",
    "version": 3
   },
   "file_extension": ".py",
   "mimetype": "text/x-python",
   "name": "python",
   "nbconvert_exporter": "python",
   "pygments_lexer": "ipython3",
   "version": "3.12.5"
  }
 },
 "nbformat": 4,
 "nbformat_minor": 2
}
