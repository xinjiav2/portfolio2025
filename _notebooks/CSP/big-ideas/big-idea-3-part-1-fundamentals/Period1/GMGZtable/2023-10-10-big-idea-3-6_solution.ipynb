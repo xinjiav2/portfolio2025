{
 "cells": [
  {
   "cell_type": "raw",
   "metadata": {
    "vscode": {
     "languageId": "raw"
    }
   },
   "source": [
    "---\n",
    "toc: false\n",
    "comments: true\n",
    "layout: post\n",
    "title: 3.6 Mastering Conditionals - Control Program Flow with IF, ELSE, and More\n",
    "description: Student led teaching on Conditionals. Learn how conditionals control the flow of a program by executing specific blocks of code under certain conditions.\n",
    "permalink: /csp/big-idea/3-6/p1/solution\n",
    "categories: [CSP Big Ideas]\n",
    "author: Gavin, Gyutae, Marti, Zaid\n",
    "menu: nav/csp_units/csp_unit3_p1_fundamentals.html\n",
    "---"
   ]
  },
  {
   "cell_type": "markdown",
   "metadata": {
    "vscode": {
     "languageId": "raw"
    }
   },
   "source": [
    "# Solution\n",
    "This is the solution to the 3.6 Homework Hack.\n",
    "This is just an example, your code may be slightly different and still be right."
   ]
  },
  {
   "cell_type": "code",
   "execution_count": null,
   "metadata": {},
   "outputs": [],
   "source": [
    "# Function to compare two numbers\n",
    "def compare_two_numbers(num1, num2):\n",
    "    # Check if the numbers are equal\n",
    "    if num1 == num2:\n",
    "        print(\"Both numbers are equal.\")\n",
    "    # Find the larger number if they are different\n",
    "    elif num1 > num2:\n",
    "        print(f\"The larger number is {num1}.\")\n",
    "    else:\n",
    "        print(f\"The larger number is {num2}.\")\n",
    "\n",
    "# Get user input\n",
    "num1 = float(input(\"Enter the first number: \"))\n",
    "num2 = float(input(\"Enter the second number: \"))\n",
    "\n",
    "# Call the function to compare the two numbers\n",
    "compare_two_numbers(num1, num2)"
   ]
  },
  {
   "cell_type": "markdown",
   "metadata": {},
   "source": [
    "<style>\n",
    "    article {\n",
    "        background: linear-gradient(#ac4cf5, #7adeff);\n",
    "        filter: drop-shadow(0 0 0.75rem white);    \n",
    "    }\n",
    "    header {\n",
    "        z-index: 9999999\n",
    "    }\n",
    "    pre {\n",
    "        border: 3px solid #ff7878;\n",
    "    }\n",
    "</style>"
   ]
  }
 ],
 "metadata": {
  "kernelspec": {
   "display_name": "Python 3",
   "language": "python",
   "name": "python3"
  },
  "language_info": {
   "codemirror_mode": {
    "name": "ipython",
    "version": 3
   },
   "file_extension": ".py",
   "mimetype": "text/x-python",
   "name": "python",
   "nbconvert_exporter": "python",
   "pygments_lexer": "ipython3",
   "version": "3.12.3"
  }
 },
 "nbformat": 4,
 "nbformat_minor": 2
}
