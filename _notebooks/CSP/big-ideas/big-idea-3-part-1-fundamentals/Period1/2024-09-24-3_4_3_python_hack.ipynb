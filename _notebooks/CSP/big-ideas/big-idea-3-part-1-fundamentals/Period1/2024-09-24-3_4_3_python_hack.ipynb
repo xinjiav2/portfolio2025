{
 "cells": [
  {
   "cell_type": "raw",
   "metadata": {
    "vscode": {
     "languageId": "raw"
    }
   },
   "source": [
    "---\n",
    "toc: true\n",
    "layout: post\n",
    "title: 3.4 String Operations \n",
    "permalink: /csp/big-idea/p1/3-4-3-python-hack\n",
    "description: 3.4 Team Teach String Operations\n",
    "menu: nav/csp_units/csp_unit3_p1_fundamentals.html\n",
    "comments: true\n",
    "---"
   ]
  },
  {
   "cell_type": "markdown",
   "metadata": {},
   "source": [
    "<html>\n",
    "    <style>\n",
    "        @keyframes bounce {\n",
    "            0%, 20%, 50%, 80%, 100% {\n",
    "                transform: translateY(0);\n",
    "            }\n",
    "            10%, 30%, 60%, 90% {\n",
    "                transform: translateY(-30px);\n",
    "            }\n",
    "            40%, 70% {\n",
    "                transform: translateY(-15px);\n",
    "            }\n",
    "        }\n",
    "        @keyframes bounce2 {\n",
    "            /* bounce */\n",
    "            0%, 20%, 50%, 80%, 100% {\n",
    "                transform: translateY(0);\n",
    "            }\n",
    "            10%, 30%, 60%, 90% {\n",
    "                transform: translateY(-30px);\n",
    "            }\n",
    "            40%, 70% {\n",
    "                transform: translateY(-15px);\n",
    "            }\n",
    "            /* flips */\n",
    "            0%, 25% {\n",
    "                transform: rotateZ(0deg);\n",
    "            }\n",
    "            25%, 50% {\n",
    "                transform: rotateY(180deg);\n",
    "            }\n",
    "            50%, 75% {\n",
    "                transform: rotateZ(180deg);\n",
    "            }\n",
    "            75%, 100% {\n",
    "                transform: rotateY(0deg);\n",
    "            }\n",
    "        }\n",
    "        h2{\n",
    "            color: #ffd9d9;\n",
    "        }\n",
    "    </style>\n",
    "    <br>\n",
    "    <br>\n",
    "    <br>\n",
    "    <br>\n",
    "    <br>\n",
    "    <img style=\"animation: bounce2 3s ease infinite; max-width: 25%; filter: saturate(200%);\" src=\"{{site.baseurl}}/images/p1group1images/img3.png\">\n",
    "    <br>\n",
    "    <br>\n",
    "    <p style=\"animation: bounce 3s ease infinite; background: linear-gradient(to right, #C9B1FF, #FFCAF2, #FFB2B1, #FFF3AD, #BCFFBC, #A2EDFF);-webkit-text-fill-color: transparent; -webkit-background-clip: text;\"> ____________________________________________________________________________________________________________________________________________</p>\n",
    "</html>"
   ]
  },
  {
   "cell_type": "markdown",
   "metadata": {},
   "source": [
    "<html>\n",
    "    <style>\n",
    "        @keyframes bounce {\n",
    "            0%, 20%, 50%, 80%, 100% {\n",
    "                transform: translateY(0);\n",
    "            }\n",
    "            10%, 30%, 60%, 90% {\n",
    "                transform: translateY(-30px);\n",
    "            }\n",
    "            40%, 70% {\n",
    "                transform: translateY(-15px);\n",
    "            }\n",
    "        }\n",
    "        @keyframes bounce2 {\n",
    "            /* bounce */\n",
    "            0%, 20%, 50%, 80%, 100% {\n",
    "                transform: translateY(0);\n",
    "            }\n",
    "            10%, 30%, 60%, 90% {\n",
    "                transform: translateY(-30px);\n",
    "            }\n",
    "            40%, 70% {\n",
    "                transform: translateY(-15px);\n",
    "            }\n",
    "            /* flips */\n",
    "            0%, 25% {\n",
    "                transform: rotateZ(0deg);\n",
    "            }\n",
    "            25%, 50% {\n",
    "                transform: rotateY(180deg);\n",
    "            }\n",
    "            50%, 75% {\n",
    "                transform: rotateZ(180deg);\n",
    "            }\n",
    "            75%, 100% {\n",
    "                transform: rotateY(0deg);\n",
    "            }\n",
    "        }\n",
    "        h2{\n",
    "            color: #ffd9d9;\n",
    "        }\n",
    "    </style>\n",
    "    <br>\n",
    "    <br>\n",
    "    <br>\n",
    "    <br>\n",
    "    <br>\n",
    "    <p style=\"animation: bounce 3s ease infinite; background: linear-gradient(to right, #C9B1FF, #FFCAF2, #FFB2B1, #FFF3AD, #BCFFBC, #A2EDFF);-webkit-text-fill-color: transparent; -webkit-background-clip: text;\"> ____________________________________________________________________________________________________________________________________________</p>\n",
    "</html>"
   ]
  },
  {
   "cell_type": "markdown",
   "metadata": {},
   "source": [
    "<html>\n",
    "    <body>\n",
    "        <br>\n",
    "        <h2>Measuring String Length</h2>\n",
    "        <li>The len() function in Python allows us to find the length of a string</li>\n",
    "        <li>Use '.length' in JavaScript to do this as well</li>\n",
    "        <br>\n",
    "    </body>\n",
    "    <style>\n",
    "        h1 {\n",
    "            color: #ff00fb;\n",
    "            padding-left: 10px;\n",
    "        }\n",
    "        h2 {\n",
    "            color: #ff00fb;\n",
    "            padding-left: 10px;\n",
    "        }\n",
    "        div {\n",
    "            background-color: #33c9ff;\n",
    "            border-radius: 10px;\n",
    "        }\n",
    "        li {\n",
    "            color: #864d00;\n",
    "            padding-left: 30px;\n",
    "            font-size: 18px;\n",
    "        }\n",
    "    </style>\n",
    "</html>\n",
    "\n",
    "## Sample Hack - String Analyzation\n",
    "- Determine metrics about strings (length, chars, palidrome(?), etc.)"
   ]
  },
  {
   "cell_type": "code",
   "execution_count": 1,
   "metadata": {},
   "outputs": [
    {
     "name": "stdout",
     "output_type": "stream",
     "text": [
      "String 1: Brawl Stars is a fun game!\n",
      "Length: 26\n",
      "Vowel Count: 7\n",
      "Average Word Count: 3.5\n",
      "Palindrome or Not? False\n",
      "String 2: Star Brawl war Brats\n",
      "Length: 20\n",
      "Vowel Count: 4\n",
      "Average Word Count: 4.25\n",
      "Palindrome or Not? True\n"
     ]
    }
   ],
   "source": [
    "string = \"Brawl Stars is a fun game!\"\n",
    "string2 = \"Star Brawl war Brats\"\n",
    "print(\"String 1: Brawl Stars is a fun game!\")\n",
    "length = len(string)\n",
    "print(\"Length:\", length)\n",
    "def count_vowels(input_string):\n",
    "    vowels = 'aeiouAEIOU'\n",
    "    count = 0\n",
    "    for char in input_string:\n",
    "        if char in vowels:\n",
    "            count += 1\n",
    "    return count\n",
    "print(\"Vowel Count:\", count_vowels(string))\n",
    "def average_word_length(input_string):\n",
    "    words = input_string.split()\n",
    "    if not words:\n",
    "        return 0\n",
    "    total_length = sum(len(word) for word in words)\n",
    "    average_length = total_length / len(words)\n",
    "    return average_length\n",
    "print(\"Average Word Count:\", average_word_length(string))\n",
    "def palindrome(input_string):\n",
    "    string = input_string.replace(\" \",\"\").lower()\n",
    "    return string == string[::-1]\n",
    "print(\"Palindrome or Not?\", palindrome(string))\n",
    "print(\"String 2: Star Brawl war Brats\")\n",
    "length2 = len(string2)\n",
    "print(\"Length:\", length2)\n",
    "print(\"Vowel Count:\", count_vowels(string2))\n",
    "print(\"Average Word Count:\", average_word_length(string2))\n",
    "print(\"Palindrome or Not?\", palindrome(string2))"
   ]
  },
  {
   "cell_type": "markdown",
   "metadata": {},
   "source": [
    "## Sample Hack - Password Validator\n",
    "\n",
    "The goal of this homework hack is to create a password validator. A couple examples are given below (Simple and Advanced)"
   ]
  },
  {
   "cell_type": "markdown",
   "metadata": {},
   "source": [
    "## Simple Password Validator"
   ]
  },
  {
   "cell_type": "code",
   "execution_count": 9,
   "metadata": {},
   "outputs": [
    {
     "name": "stdout",
     "output_type": "stream",
     "text": [
      "Password is valid! Here’s a fun version: HelloWorldabc\n"
     ]
    }
   ],
   "source": [
    "def password_validator(password):\n",
    "    if len(password) < 8:\n",
    "        return \"Password too short. Must be at least 8 characters.\"\n",
    "\n",
    "    if password == password.lower() or password == password.upper():\n",
    "        return \"Password must contain both uppercase and lowercase letters.\"\n",
    "\n",
    "    if not any(char.isdigit() for char in password):\n",
    "        return \"Password must contain at least one number.\"\n",
    "\n",
    "    # Optional\n",
    "    password = password.replace(\"123\", \"abc\")\n",
    "\n",
    "    words = password.split(\" \")\n",
    "    customized_password = \"-\".join(words)\n",
    "\n",
    "    return f\"Password is valid! Here’s a fun version: {customized_password}\"\n",
    "\n",
    "# Example usage\n",
    "password = \"HelloWorld123\"\n",
    "print(password_validator(password))\n"
   ]
  },
  {
   "cell_type": "code",
   "execution_count": 10,
   "metadata": {},
   "outputs": [
    {
     "name": "stdout",
     "output_type": "stream",
     "text": [
      "Password must contain both uppercase and lowercase letters.\n"
     ]
    }
   ],
   "source": [
    "print(password_validator(\"HELLO123\"))"
   ]
  },
  {
   "cell_type": "code",
   "execution_count": 11,
   "metadata": {},
   "outputs": [
    {
     "name": "stdout",
     "output_type": "stream",
     "text": [
      "Password is valid! Here’s a fun version: Helloabc\n"
     ]
    }
   ],
   "source": [
    "print(password_validator(\"Hello123\"))"
   ]
  },
  {
   "cell_type": "markdown",
   "metadata": {},
   "source": [
    "## Advanced Password Validator"
   ]
  },
  {
   "cell_type": "code",
   "execution_count": 12,
   "metadata": {},
   "outputs": [
    {
     "name": "stdout",
     "output_type": "stream",
     "text": [
      "Password is valid and Strong! Here’s a fun version: HiWorld13475!\n"
     ]
    }
   ],
   "source": [
    "import re\n",
    "\n",
    "def password_validator(password):\n",
    "    if len(password) < 8:\n",
    "        return \"Password too short. Must be at least 8 characters.\"\n",
    "    \n",
    "    if password == password.lower() or password == password.upper():\n",
    "        return \"Password must contain both uppercase and lowercase letters.\"\n",
    "    \n",
    "    if not any(char.isdigit() for char in password):\n",
    "        return \"Password must contain at least one number.\"\n",
    "    \n",
    "    if not re.search(r\"[!@#$%^&*()_+]\", password):\n",
    "        return \"Password must contain at least one special character (e.g. !, @, #, etc.)\"\n",
    "    \n",
    "    common_passwords = [\"password\", \"123456\", \"letmein\", \"qwerty\"]\n",
    "    if password.lower() in common_passwords:\n",
    "        return \"Password is too common. Choose something less predictable.\"\n",
    "    \n",
    "    sequential_patterns = [\"123\", \"abc\", \"xyz\"]\n",
    "    for pattern in sequential_patterns:\n",
    "        if pattern in password.lower():\n",
    "            return \"Password should not contain sequential characters like '123' or 'abc'.\"\n",
    "    \n",
    "    score = 0\n",
    "    if len(password) >= 10:\n",
    "        score += 1\n",
    "    if re.search(r\"[A-Z]\", password) and re.search(r\"[a-z]\", password):\n",
    "        score += 1\n",
    "    if re.search(r\"\\d\", password):\n",
    "        score += 1\n",
    "    if re.search(r\"[!@#$%^&*()_+]\", password):\n",
    "        score += 1\n",
    "\n",
    "    strength = \"Weak\"\n",
    "    if score == 2:\n",
    "        strength = \"Medium\"\n",
    "    elif score >= 3:\n",
    "        strength = \"Strong\"\n",
    "\n",
    "    password = password.replace(\"Hello\", \"Hi\")\n",
    "    words = password.split(\" \")\n",
    "    customized_password = \"-\".join(words)\n",
    "\n",
    "    return f\"Password is valid and {strength}! Here’s a fun version: {customized_password}\"\n",
    "\n",
    "# Example usage\n",
    "password = \"HelloWorld13475!\"\n",
    "print(password_validator(password))\n",
    "\n"
   ]
  }
 ],
 "metadata": {
  "kernelspec": {
   "display_name": "Python 3",
   "language": "python",
   "name": "python3"
  },
  "language_info": {
   "codemirror_mode": {
    "name": "ipython",
    "version": 3
   },
   "file_extension": ".py",
   "mimetype": "text/x-python",
   "name": "python",
   "nbconvert_exporter": "python",
   "pygments_lexer": "ipython3",
   "version": "3.10.12"
  }
 },
 "nbformat": 4,
 "nbformat_minor": 2
}
