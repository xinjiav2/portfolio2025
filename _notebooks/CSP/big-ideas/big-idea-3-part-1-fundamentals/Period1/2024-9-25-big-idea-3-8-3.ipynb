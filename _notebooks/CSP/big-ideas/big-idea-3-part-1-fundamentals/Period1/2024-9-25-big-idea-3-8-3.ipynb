{
 "cells": [
  {
   "cell_type": "raw",
   "id": "bbae2de2",
   "metadata": {
    "vscode": {
     "languageId": "raw"
    }
   },
   "source": [
    "---\n",
    "toc: false\n",
    "comments: true\n",
    "layout: post\n",
    "title: Solutions for Hacks!\n",
    "description: Warning! Has answers to the best practice problems. \n",
    "permalink: /csp/big-idea/3-8/p1/3-8-3\n",
    "categories: [CSP Big Ideas 3]\n",
    "author:  Arya, Shawn, Aarav\n",
    "menu: nav/csp_units/csp_unit3_p1_fundamentals.html\n",
    "---"
   ]
  },
  {
   "cell_type": "markdown",
   "id": "d9ae314e",
   "metadata": {},
   "source": [
    "<style>\n",
    "  h1 {\n",
    "    animation: glow 1s ease-in-out infinite alternate;\n",
    "  }\n",
    "</style>\n",
    "\n",
    "<h1>\n",
    "  Answer to Popcorn Hack 1:\n",
    "</h1>\n",
    "<style>\n",
    "@keyframes glow {\n",
    "  from {\n",
    "    text-shadow: 0 0 5px green, 0 0 10px green, 0 0 15px green, 0 0 20px green;\n",
    "  }\n",
    "  to {\n",
    "    text-shadow: 0 0 20px green, 0 0 30px green, 0 0 40px green, 0 0 50px green;\n",
    "  }\n",
    "}\n",
    "</style>\n",
    "\n",
    "Warning! Has answers to best practice problems."
   ]
  },
  {
   "cell_type": "code",
   "execution_count": null,
   "id": "9bb67a53",
   "metadata": {},
   "outputs": [],
   "source": [
    "# Ticket pricing system\n",
    "base_ticket_price = 10.00\n",
    "\n",
    "# Get the user's age\n",
    "age = int(input(\"Please enter your age: \"))\n",
    "\n",
    "# Determine ticket price based on age\n",
    "if age <= 12:\n",
    "    ticket_price = base_ticket_price * 0.5  # 50% off for children\n",
    "    print(f\"Child ticket price: ${ticket_price:.2f}\")\n",
    "elif age <= 63:\n",
    "    ticket_price = base_ticket_price  # Full price for adults\n",
    "    print(f\"Adult ticket price: ${ticket_price:.2f}\")\n",
    "else:\n",
    "    ticket_price = base_ticket_price * 0.7  # 30% off for seniors\n",
    "    print(f\"Senior ticket price: ${ticket_price:.2f}\")\n",
    "\n",
    "# Check if the user has a ticket\n",
    "has_ticket = input(\"Do you have a ticket? (yes/no): \").lower() == \"yes\"\n",
    "\n",
    "if has_ticket:\n",
    "    # Check if the user is a student\n",
    "    while True:\n",
    "        is_student = input(\"Are you a student? (yes/no): \").lower()\n",
    "        if is_student == \"yes\":\n",
    "            student_discount = 0.20  # 20% discount\n",
    "            final_price = ticket_price * (1 - student_discount)\n",
    "            print(f\"You are eligible for a student discount! The ticket price is now: ${final_price:.2f}\")\n",
    "            break\n",
    "        elif is_student == \"no\":\n",
    "            print(f\"No student discount applied. The ticket price is: ${ticket_price:.2f}\")\n",
    "            break\n",
    "        else:\n",
    "            print('Invalid response. Please answer with \"yes\" or \"no\".')\n",
    "else:\n",
    "    print(\"You need a ticket to enter.\")\n"
   ]
  },
  {
   "cell_type": "markdown",
   "id": "96ad0425",
   "metadata": {},
   "source": [
    "# Answer to Popcorn Hack 2:\n",
    "- take note of use of else statement to ensure you check for even/odd AFTER satisfying operation\n",
    "- modulo ( % ) operator "
   ]
  },
  {
   "cell_type": "code",
   "execution_count": null,
   "id": "dd098c41",
   "metadata": {},
   "outputs": [],
   "source": [
    "try:\n",
    "    num = int(input(\"Enter a number: \"))  # Code that might raise an exception\n",
    "    result = 10 / num  # Could raise ZeroDivisionError if num is 0\n",
    "    print(\"Result:\", result)\n",
    "except ValueError:\n",
    "    print(\"That's not a valid number!\")\n",
    "except ZeroDivisionError:\n",
    "    print(\"You can't divide by zero!\")\n",
    "else:\n",
    "    # This block runs if no exception occurs\n",
    "    print(\"Operation was successful!\")\n",
    "    \n",
    "    # Check if the number is even or odd\n",
    "    if num % 2 == 0:\n",
    "        print(f\"The number {num} is even.\")\n",
    "    else:\n",
    "        print(f\"The number {num} is odd.\")\n"
   ]
  }
 ],
 "metadata": {
  "kernelspec": {
   "display_name": "Python 3 (ipykernel)",
   "language": "python",
   "name": "python3"
  },
  "language_info": {
   "codemirror_mode": {
    "name": "ipython",
    "version": 3
   },
   "file_extension": ".py",
   "mimetype": "text/x-python",
   "name": "python",
   "nbconvert_exporter": "python",
   "pygments_lexer": "ipython3",
   "version": "3.10.12"
  }
 },
 "nbformat": 4,
 "nbformat_minor": 5
}
