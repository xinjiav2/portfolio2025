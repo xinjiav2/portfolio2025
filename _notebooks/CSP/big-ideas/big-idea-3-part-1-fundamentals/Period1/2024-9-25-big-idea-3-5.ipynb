{
 "cells": [
  {
   "cell_type": "code",
   "execution_count": null,
   "metadata": {
    "vscode": {
     "languageId": "plaintext"
    }
   },
   "outputs": [],
   "source": [
    "---\n",
    "toc: false\n",
    "comments: true\n",
    "layout: post\n",
    "title: 3.5 Booleans 🔄\n",
    "description: Student led teaching on Booleans. Learn how booleans are used in decision-making with logical operators (like less than or greater than).\n",
    "permalink: /csp/big-idea/3-5/p1\n",
    "categories: [CSP Big Ideas]\n",
    "author: Bailey, Travis, Leon, Anyi\n",
    "menu: nav/csp_units/csp_unit3_p1_fundamentals.html\n",
    "---"
   ]
  },
  {
   "cell_type": "markdown",
   "metadata": {},
   "source": [
    "<style>\n",
    "    .left-pattern, .right-pattern {\n",
    "        position: fixed;\n",
    "        top: 0;\n",
    "        width: 200px;\n",
    "        height: 100%;\n",
    "        background-image: url('https://cdn.pixabay.com/photo/2022/11/02/22/25/background-7566164_1280.jpg');\n",
    "        background-repeat: no-repeat;\n",
    "        background-size: cover;\n",
    "        z-index: -1;\n",
    "    }\n",
    "    .left-pattern {\n",
    "        left: 0;\n",
    "    }\n",
    "    .right-pattern {\n",
    "        right: 0;\n",
    "    }\n",
    "    body {\n",
    "        font-family: 'Comic Sans MS', cursive, sans-serif;\n",
    "    }\n",
    "    h1 {\n",
    "             color: #ffffff;  \n",
    "            text-shadow: \n",
    "                0 0 3px #00ccff,  \n",
    "                0 0 6px #00ccff, \n",
    "                0 0 10px #00ccff;\n",
    "        }\n",
    "    .wtv {\n",
    "    background-color: #1e3d59;\n",
    "    padding: 10px;\n",
    "    border-radius: 5px;\n",
    "    }\n",
    "</style>\n",
    "\n",
    "<!-- Left and right side patterns -->\n",
    "<div class='left-pattern'></div>\n",
    "<div class='right-pattern'></div>"
   ]
  },
  {
   "cell_type": "markdown",
   "metadata": {},
   "source": [
    "<div class=\"wtv\">\n",
    "    <h1>Booleans 🔄</h1>\n",
    "</div>\n",
    "\n",
    "### Basic Concept\n",
    "##### Booleans either have a value of true or false\n",
    "- true: Represents a logically true condition.\n",
    "- false: Represents a logically false condition."
   ]
  },
  {
   "cell_type": "markdown",
   "metadata": {},
   "source": [
    "##### A Boolean Expression is an expression that produces a Boolean (Either true or false) when evaluated\n",
    "- Common Boolean Expressions include equal to(=), greater than(>), less than(<), etc. \n",
    "- These are called Relational Operators"
   ]
  },
  {
   "cell_type": "markdown",
   "metadata": {},
   "source": [
    "##### Logical Operators allow you to combine multiple boolean expressions into one boolean output"
   ]
  },
  {
   "cell_type": "markdown",
   "metadata": {},
   "source": [
    "<div class=\"wtv\">\n",
    "    <h1>Example 1</h1>\n",
    "</div>\n",
    "\n",
    "Create a program to check if a boolean is true. Create another to check if both are true or if either is true."
   ]
  },
  {
   "cell_type": "code",
   "execution_count": null,
   "metadata": {
    "vscode": {
     "languageId": "javascript"
    }
   },
   "outputs": [],
   "source": [
    "var variableA = true;\n",
    "var variableB = false;\n",
    "\n",
    "if (variableA == true) {\n",
    "    console.log(\"VariableA is true!\");\n",
    "} else if (variableA == false) {\n",
    "    console.log(\"VariableA is false!\")\n",
    "}\n",
    "\n",
    "if (variableA == true && variableB == false) {\n",
    "    \"variableA is true and variableB is false\"\n",
    "}\n",
    "\n",
    "if (variableA == true || variableB == true) {\n",
    "    \"Either variableA or variableB is true\"\n",
    "}"
   ]
  },
  {
   "cell_type": "code",
   "execution_count": null,
   "metadata": {},
   "outputs": [],
   "source": [
    "variableA = True\n",
    "variableB = False\n",
    "\n",
    "if variableA:\n",
    "    print(\"VariableA is true!\")\n",
    "else:\n",
    "    print(\"VariableA is false!\")\n",
    "\n",
    "if variableA and not variableB:\n",
    "    print(\"VariableA is true and Variable B is false\")\n",
    "\n",
    "if variableA or varaibleB:\n",
    "    print(\"Either variableA or variableB is true\")    "
   ]
  },
  {
   "cell_type": "markdown",
   "metadata": {},
   "source": [
    "<div class=\"wtv\">\n",
    "    <h1>Relational Operators</h1>\n",
    "</div>\n",
    "\n",
    "- Equal to: a == b (True if a is equal to b)\n",
    "- Not Equal to: a != b (True if a is not equal to b)\n",
    "- Greater than: a > b (True if a is greater than b)\n",
    "- Less than: a < b (True if a is less than b)\n",
    "- Greater than or Equal to: a >= b (True if a is greater than or equal to b)\n",
    "- Less than or Equal to: a <= b (True if a is less than or equal to b)"
   ]
  },
  {
   "cell_type": "markdown",
   "metadata": {},
   "source": [
    "<div class=\"wtv\">\n",
    "    <h1>Example 2</h1>\n",
    "</div>\n",
    "\n",
    "Create a boolean expression to check if a number is greater than 10."
   ]
  },
  {
   "cell_type": "code",
   "execution_count": null,
   "metadata": {
    "vscode": {
     "languageId": "javascript"
    }
   },
   "outputs": [],
   "source": [
    "if (number > 10) {\n",
    "    console.log(\"number is greater than ten!\");\n",
    "} else {\n",
    "    console.log(\"number is not greater than ten!\")\n",
    "}"
   ]
  },
  {
   "cell_type": "code",
   "execution_count": null,
   "metadata": {},
   "outputs": [],
   "source": [
    "if number > 10:\n",
    "    print(\"number is greater than ten!\")\n",
    "else:\n",
    "    print(\"number is not greater than ten!\")"
   ]
  },
  {
   "cell_type": "markdown",
   "metadata": {},
   "source": [
    "<div class=\"wtv\">\n",
    "    <h1>Logical Operators</h1>\n",
    "</div>"
   ]
  },
  {
   "cell_type": "markdown",
   "metadata": {},
   "source": [
    "#### NOT\n",
    "- NOT evaluates as true if the condition after not is false. If the condition is true, it evaluates as false."
   ]
  },
  {
   "cell_type": "markdown",
   "metadata": {},
   "source": [
    "#### AND\n",
    "- AND evaluates as true if both conditions are true. If either or both conditions are false, it evaluates as false."
   ]
  },
  {
   "cell_type": "markdown",
   "metadata": {},
   "source": [
    "#### OR\n",
    "- OR evaluates as true if either condition is true or if both conditions are true. If both are false, it evaluates as false."
   ]
  },
  {
   "cell_type": "markdown",
   "metadata": {},
   "source": [
    "<div class=\"wtv\">\n",
    "    <h1>Example 3</h1>\n",
    "</div>\n",
    "Create a boolean expression to check if a number is three digits."
   ]
  },
  {
   "cell_type": "code",
   "execution_count": null,
   "metadata": {
    "vscode": {
     "languageId": "javascript"
    }
   },
   "outputs": [],
   "source": [
    "if (number >= 100) and (number <= 999){\n",
    "    console.log(\"number is three digits!\");\n",
    "}   else {\n",
    "    console.log(\"number is not three digits!\")\n",
    "    }"
   ]
  },
  {
   "cell_type": "code",
   "execution_count": null,
   "metadata": {},
   "outputs": [],
   "source": [
    "if number >= 100 and number <= 999:\n",
    "    print(\"number is three digits!\")\n",
    "else:\n",
    "    print(\"number is not three digits!\")\n"
   ]
  }
 ],
 "metadata": {
  "kernelspec": {
   "display_name": "Python 3",
   "language": "python",
   "name": "python3"
  },
  "language_info": {
   "codemirror_mode": {
    "name": "ipython",
    "version": 3
   },
   "file_extension": ".py",
   "mimetype": "text/x-python",
   "name": "python",
   "nbconvert_exporter": "python",
   "pygments_lexer": "ipython3",
   "version": "3.10.12"
  }
 },
 "nbformat": 4,
 "nbformat_minor": 2
}
