{
 "cells": [
  {
   "cell_type": "raw",
   "metadata": {
    "vscode": {
     "languageId": "raw"
    }
   },
   "source": [
    "---\n",
    "layout: post\n",
    "title: Big Idea 3.10 Part 1- Creating Lists\n",
    "description: Learn more about lists and how to create them!\n",
    "categories: ['CSP Big Ideas']\n",
    "permalink: /csp/big-idea/p1/3-10\n",
    "menu: nav/csp_units/csp_unit3_p1_fundamentals.html\n",
    "toc: True\n",
    "author: Manahil\n",
    "comments: True\n",
    "---"
   ]
  },
  {
   "cell_type": "markdown",
   "metadata": {},
   "source": [
    "<style>\n",
    " h1 {\n",
    "   animation: glow 1s ease-in-out infinite alternate;\n",
    " }\n",
    "</style>\n",
    "\n",
    "\n",
    "<style>\n",
    "@keyframes glow {\n",
    " from {\n",
    "   text-shadow: 0 0 5px #e3768a, 0 0 10px #ae76e3, 0 0 15px #7d76e3, 0 0 20px #6385cf;\n",
    " }\n",
    " to {\n",
    "   text-shadow: 0 0 20px #6385cf, 0 0 30px #7d76e3, 0 0 40px #ae76e3, 0 0 50px #e3768a;\n",
    " }\n",
    "}\n",
    "</style>\n",
    "\n",
    "\n",
    "\n",
    "\n",
    "<style>\n",
    ":root {\n",
    "   --light-pink: #e0b4d4;\n",
    "   --medium-pink: #4a5a94;\n",
    "   --dark-pink: #302e63;\n",
    "   --accent-pink: #ff75ba;\n",
    "   --background-pink: #ffe6f0;\n",
    "}\n",
    "\n",
    "\n",
    "body {\n",
    "   color: var(--dark-pink) !important;\n",
    "}\n",
    "\n",
    "\n",
    "article {\n",
    "   background-color: var(--light-pink) !important;\n",
    "   color: var(--dark-pink) !important;\n",
    "   border: 2px solid var(--medium-pink) !important;\n",
    "   padding: 20px !important;\n",
    "   border-radius: 8px !important;\n",
    "}\n",
    "\n",
    "\n",
    "a {\n",
    "   color: var(--accent-pink) !important;\n",
    "}\n",
    "\n",
    "\n",
    "a:hover {\n",
    "   color: var(--light-pink) !important;\n",
    "}\n",
    "\n",
    "\n",
    "h1, h2, h3, h4 {\n",
    "   color: white !important;\n",
    "}\n",
    "\n",
    "\n",
    "blockquote {\n",
    "   background-color: #272726 !important;\n",
    "   color: var(--dark-pink) !important;\n",
    "   padding: 10px 20px !important;\n",
    "   margin: 10px 0 !important;\n",
    "   border-radius: 4px !important;\n",
    "}\n",
    "\n",
    "\n",
    "code {\n",
    "   background-color: var(--medium-pink) !important;\n",
    "   color: white !important;\n",
    "   padding: 2px 4px !important;\n",
    "   border-radius: 4px !important;\n",
    "}\n",
    "\n",
    "\n",
    "table td {\n",
    "   background-color: var(--dark-pink) !important;\n",
    "}\n",
    "</style>"
   ]
  },
  {
   "cell_type": "markdown",
   "metadata": {
    "vscode": {
     "languageId": "raw"
    }
   },
   "source": [
    "## Lists\n",
    "\n",
    "**In Python**, a list is an ordered, mutable collection that can hold different types of data. This makes lists versatile, as they can store integers, strings, or even other lists. One key feature of lists in Python is that they are indexed starting from 0, meaning the first element in a list is at index 0. For example, in the list `my_list = ['apple', 'banana', 'cherry']`, the first element is `'apple'`, located at `my_list[0]`.\n",
    "\n",
    "**Learning Objectives,** \n",
    "- You will be able to write expressions that use list indexing and list procedures. \n",
    "- For algorithms involving elements of a list, you will be able to write iteration statements to traverse a list. \n",
    "\n",
    "# Key Points\n",
    "- Ordered: The elements have a defined order, meaning you can refer to an item by its index.\n",
    "- Mutable: You can change the items within a list (unlike tuples which are immutable)."
   ]
  },
  {
   "cell_type": "markdown",
   "metadata": {},
   "source": [
    "## Creating a List\n",
    "This code creates a list and assigns it to the variable `aList`. You can use this empty list to add elements later in your code."
   ]
  },
  {
   "cell_type": "code",
   "execution_count": null,
   "metadata": {},
   "outputs": [],
   "source": [
    "# Python\n",
    "\n",
    "# Creating an empty list\n",
    "aList = []"
   ]
  },
  {
   "cell_type": "code",
   "execution_count": null,
   "metadata": {
    "vscode": {
     "languageId": "javascript"
    }
   },
   "outputs": [],
   "source": [
    "%%js\n",
    "// Javascript\n",
    "\n",
    "// Creating an empty array\n",
    "let aList = [];"
   ]
  },
  {
   "cell_type": "markdown",
   "metadata": {},
   "source": [
    "This code reassigns the variable aList to a new list that contains five elements: the integers 1, 2, 3, and the strings 'apple' and 'banana'."
   ]
  },
  {
   "cell_type": "code",
   "execution_count": null,
   "metadata": {},
   "outputs": [],
   "source": [
    "# Python \n",
    "\n",
    "# Creating a list with elements\n",
    "aList = [1, 2, 3, 'apple', 'banana']"
   ]
  },
  {
   "cell_type": "code",
   "execution_count": null,
   "metadata": {
    "vscode": {
     "languageId": "javascript"
    }
   },
   "outputs": [],
   "source": [
    "%%js\n",
    "// Javascript\n",
    "\n",
    "// Creating an array with elements\n",
    "let aList = [1, 2, 3, 'apple', 'banana'];"
   ]
  },
  {
   "cell_type": "markdown",
   "metadata": {},
   "source": [
    "## Accessing Elements\n",
    "You can access an element at a specific index using the syntax `aList[i]`. Remember, the first element is at index `0`."
   ]
  },
  {
   "cell_type": "code",
   "execution_count": null,
   "metadata": {},
   "outputs": [],
   "source": [
    "# Python\n",
    "\n",
    "aList = ['apple', 'banana', 'cherry']\n",
    "print(aList[0])  # Output: 'apple'"
   ]
  },
  {
   "cell_type": "markdown",
   "metadata": {},
   "source": [
    "These lines access the first and second elements of the list \"aList\" using the index 0 and assigns it to the constant firstElement and secondElement."
   ]
  },
  {
   "cell_type": "code",
   "execution_count": null,
   "metadata": {
    "vscode": {
     "languageId": "javascript"
    }
   },
   "outputs": [],
   "source": [
    "%%js\n",
    "// Javascript\n",
    "\n",
    "const aList = ['apple', 'banana', 'cherry'];\n",
    "const firstElement = aList[0]; // apple\n",
    "const secondElement = aList[1]; // banana"
   ]
  },
  {
   "cell_type": "markdown",
   "metadata": {},
   "source": [
    "## Appending Elements\n",
    "In Python, use the `append()` method to add an element to the end of the list. This method is a built-in function in Python that modifies the original list without needing to create a new one.\n"
   ]
  },
  {
   "cell_type": "code",
   "execution_count": null,
   "metadata": {},
   "outputs": [],
   "source": [
    "# Python\n",
    "\n",
    "aList.append('grape')  # Adds 'grape' at the end\n",
    "print(aList)  # Output: ['apple', 'banana', 'cherry', 'grape']"
   ]
  },
  {
   "cell_type": "markdown",
   "metadata": {},
   "source": [
    "In JavaScript, This line uses the `push()` method to add the string `grape` to the end of the list. This method is similar to the append() method in Python."
   ]
  },
  {
   "cell_type": "code",
   "execution_count": null,
   "metadata": {
    "vscode": {
     "languageId": "javascript"
    }
   },
   "outputs": [],
   "source": [
    "%%js\n",
    "// Javascript\n",
    "\n",
    "// Adding 'grape' at the end\n",
    "aList.push('grape');\n",
    "\n",
    "// Printing the array\n",
    "console.log(aList); // Output: ['apple', 'banana', 'cherry', 'grape']"
   ]
  },
  {
   "cell_type": "markdown",
   "metadata": {},
   "source": [
    "## Here's one more example of these operations in Python"
   ]
  },
  {
   "cell_type": "code",
   "execution_count": null,
   "metadata": {},
   "outputs": [],
   "source": [
    "- aList = [1, 2, 3, 4]\n",
    "- print(aList[1])  # Output: 2\n",
    "- aList.append(5)  # Output: [1, 2, 3, 4,5]"
   ]
  },
  {
   "cell_type": "markdown",
   "metadata": {},
   "source": [
    "## Popcorn Hack\n",
    "- Try making your own list then apend an element"
   ]
  }
 ],
 "metadata": {
  "kernelspec": {
   "display_name": "myenv",
   "language": "python",
   "name": "python3"
  },
  "language_info": {
   "codemirror_mode": {
    "name": "ipython",
    "version": 3
   },
   "file_extension": ".py",
   "mimetype": "text/x-python",
   "name": "python",
   "nbconvert_exporter": "python",
   "pygments_lexer": "ipython3",
   "version": "3.12.6"
  }
 },
 "nbformat": 4,
 "nbformat_minor": 2
}
