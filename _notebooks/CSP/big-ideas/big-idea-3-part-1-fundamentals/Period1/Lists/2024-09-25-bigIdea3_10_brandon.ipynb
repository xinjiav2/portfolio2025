{
 "cells": [
  {
   "cell_type": "raw",
   "metadata": {
    "vscode": {
     "languageId": "raw"
    }
   },
   "source": [
    "---\n",
    "layout: post\n",
    "title: Big Idea 3.10 Part 4- Different Values in Lists\n",
    "description: Learn more about lists\n",
    "type: hacks\n",
    "toc: False\n",
    "comments: True\n",
    "author: Brandon\n",
    "permalink: /csp/big-idea/p1/3-10-4\n",
    "menu: nav/csp_units/csp_unit3_p1_fundamentals.html\n",
    "---"
   ]
  },
  {
   "cell_type": "markdown",
   "metadata": {},
   "source": [
    "\n",
    "<style>\n",
    "  h1 {\n",
    "    animation: glow 1s ease-in-out infinite alternate;\n",
    "  }\n",
    "</style>\n",
    "\n",
    "<style>\n",
    "@keyframes glow {\n",
    "  from {\n",
    "    text-shadow: 0 0 5px #e3768a, 0 0 10px #ae76e3, 0 0 15px #7d76e3, 0 0 20px #6385cf;\n",
    "  }\n",
    "  to {\n",
    "    text-shadow: 0 0 20px #6385cf, 0 0 30px #7d76e3, 0 0 40px #ae76e3, 0 0 50px #e3768a;\n",
    "  }\n",
    "}\n",
    "</style>\n",
    "\n",
    "\n",
    "<style>\n",
    ":root {\n",
    "    --light-pink: #e0b4d4;\n",
    "    --medium-pink: #4a5a94;\n",
    "    --dark-pink: #302e63;\n",
    "    --accent-pink: #ff99cc;\n",
    "    --background-pink: #ffe6f0;\n",
    "}\n",
    "\n",
    "body {\n",
    "    color: var(--dark-pink) !important;\n",
    "}\n",
    "\n",
    "article {\n",
    "    background-color: var(--light-pink) !important;\n",
    "    color: var(--dark-pink) !important;\n",
    "    border: 2px solid var(--medium-pink) !important;\n",
    "    padding: 20px !important;\n",
    "    border-radius: 8px !important;\n",
    "}\n",
    "\n",
    "a {\n",
    "    color: var(--accent-pink) !important;\n",
    "}\n",
    "\n",
    "a:hover {\n",
    "    color: var(--light-pink) !important;\n",
    "}\n",
    "\n",
    "h1, h2, h3, h4 {\n",
    "    color: white !important;\n",
    "}\n",
    "\n",
    "blockquote {\n",
    "    background-color: #272726 !important;\n",
    "    color: var(--dark-pink) !important;\n",
    "    padding: 10px 20px !important;\n",
    "    margin: 10px 0 !important;\n",
    "    border-radius: 4px !important;\n",
    "}\n",
    "\n",
    "code {\n",
    "    background-color: var(--medium-pink) !important;\n",
    "    color: white !important;\n",
    "    padding: 2px 4px !important;\n",
    "    border-radius: 4px !important;\n",
    "}\n",
    "\n",
    "table td {\n",
    "    background-color: var(--dark-pink) !important;\n",
    "}\n",
    "</style>"
   ]
  },
  {
   "cell_type": "markdown",
   "metadata": {},
   "source": [
    "## Find the minimum value in a list\n",
    "The `min()` function is a function that returns the smallest item from an iterable (like a list). Here, `min(my_list)` scans through all the elements in aList and identifies the minimum value."
   ]
  },
  {
   "cell_type": "code",
   "execution_count": null,
   "metadata": {},
   "outputs": [],
   "source": [
    "# Python\n",
    "\n",
    "aList = [3, 1, 4, 1, 5, 9, 2]\n",
    "minimum_value = min(aList)\n",
    "print(minimum_value)  # Output: 1"
   ]
  },
  {
   "cell_type": "markdown",
   "metadata": {},
   "source": [
    "You can also find the minimum through a loop. First, we initialize the variable `minimum_value` with the first element of the list, which is 3. This serves as our starting point for comparison. The `for` begins a for loop that iterates through each element in aList. The variable `num` will take on the value of each element in the list during each iteration. Inside the loop, we check if the current element `(num)` is less than the current `minimum_value`. If `num` is smaller, we update `minimum_value` to be `num`. \n"
   ]
  },
  {
   "cell_type": "code",
   "execution_count": null,
   "metadata": {},
   "outputs": [],
   "source": [
    "# Python\n",
    "aList = [3, 1, 4, 1, 5, 9, 2]\n",
    "minimum_value = aList[0]  # Start with the first element\n",
    "\n",
    "for num in aList:\n",
    "    if num < minimum_value:\n",
    "        minimum_value = num\n",
    "\n",
    "print(minimum_value)  # Output: 1"
   ]
  },
  {
   "cell_type": "markdown",
   "metadata": {},
   "source": [
    "## Sum of Even Numbers of a list\n",
    "This code effectively demonstrates how to iterate through a list, check for even numbers, and calculate their sum using a simple conditional statement."
   ]
  },
  {
   "cell_type": "code",
   "execution_count": null,
   "metadata": {},
   "outputs": [],
   "source": [
    "# Python\n",
    "\n",
    "nums = [1, 2, 3, 4, 5, 6, 7, 8, 9, 10]\n",
    "even_sum = 0\n",
    "for score in nums:\n",
    "   if score % 2 == 0: # Check if the remainder when divided by 2 is 0 (even number)\n",
    "       even_sum += score # If previous requirement is fulfilled, add to sum\n",
    "print(\"Sum of even numbers in the list:\", even_sum)"
   ]
  },
  {
   "cell_type": "code",
   "execution_count": null,
   "metadata": {
    "vscode": {
     "languageId": "javascript"
    }
   },
   "outputs": [],
   "source": [
    "%%js\n",
    "// Javascript\n",
    "\n",
    "let nums = [1, 2, 3, 4, 5, 6, 7, 8, 9, 10];\n",
    "let even_sum = 0;\n",
    "\n",
    "for (let score of nums) {\n",
    "   if (score % 2 === 0) {\n",
    "       even_sum += score; // Add score to even_sum if it's even\n",
    "   }\n",
    "}\n",
    "\n",
    "console.log(\"Sum of even numbers in the list:\", even_sum);"
   ]
  },
  {
   "cell_type": "markdown",
   "metadata": {},
   "source": [
    "## Homework\n",
    "- Find the sum of even numbers in the list `aList = [2, 5, 6, 1, 9, 3]`\n",
    "- Find the minimum and maximum values in the list `aList = [2, 5, 6, 1, 9, 3]`"
   ]
  },
  {
   "cell_type": "markdown",
   "metadata": {},
   "source": [
    "\n",
    "<style>\n",
    "  h1 {\n",
    "    animation: glow 1s ease-in-out infinite alternate;\n",
    "  }\n",
    "</style>\n",
    "\n",
    "<style>\n",
    "@keyframes glow {\n",
    "  from {\n",
    "    text-shadow: 0 0 5px #e3768a, 0 0 10px #ae76e3, 0 0 15px #7d76e3, 0 0 20px #6385cf;\n",
    "  }\n",
    "  to {\n",
    "    text-shadow: 0 0 20px #6385cf, 0 0 30px #7d76e3, 0 0 40px #ae76e3, 0 0 50px #e3768a;\n",
    "  }\n",
    "}\n",
    "</style>\n",
    "\n",
    "\n",
    "<style>\n",
    ":root {\n",
    "    --light-pink: #e0b4d4;\n",
    "    --medium-pink: #4a5a94;\n",
    "    --dark-pink: #302e63;\n",
    "    --accent-pink: #ff99cc;\n",
    "    --background-pink: #ffe6f0;\n",
    "}\n",
    "\n",
    "body {\n",
    "    color: var(--dark-pink) !important;\n",
    "}\n",
    "\n",
    "article {\n",
    "    background-color: var(--light-pink) !important;\n",
    "    color: var(--dark-pink) !important;\n",
    "    border: 2px solid var(--medium-pink) !important;\n",
    "    padding: 20px !important;\n",
    "    border-radius: 8px !important;\n",
    "}\n",
    "\n",
    "a {\n",
    "    color: var(--accent-pink) !important;\n",
    "}\n",
    "\n",
    "a:hover {\n",
    "    color: var(--light-pink) !important;\n",
    "}\n",
    "\n",
    "h1, h2, h3, h4 {\n",
    "    color: white !important;\n",
    "}\n",
    "\n",
    "blockquote {\n",
    "    background-color: #272726 !important;\n",
    "    color: var(--dark-pink) !important;\n",
    "    padding: 10px 20px !important;\n",
    "    margin: 10px 0 !important;\n",
    "    border-radius: 4px !important;\n",
    "}\n",
    "\n",
    "code {\n",
    "    background-color: var(--medium-pink) !important;\n",
    "    color: white !important;\n",
    "    padding: 2px 4px !important;\n",
    "    border-radius: 4px !important;\n",
    "}\n",
    "\n",
    "table td {\n",
    "    background-color: var(--dark-pink) !important;\n",
    "}\n",
    "</style>"
   ]
  }
 ],
 "metadata": {
  "language_info": {
   "name": "python"
  }
 },
 "nbformat": 4,
 "nbformat_minor": 2
}
