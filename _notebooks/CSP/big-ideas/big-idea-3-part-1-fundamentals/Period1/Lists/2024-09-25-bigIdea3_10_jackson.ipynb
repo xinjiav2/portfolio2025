{
 "cells": [
  {
   "cell_type": "raw",
   "metadata": {
    "vscode": {
     "languageId": "raw"
    }
   },
   "source": [
    "---\n",
    "layout: post\n",
    "title: Big Idea 3.10 Part 2- Inserting & Deleting Elements From Lists\n",
    "description: Learn more about adding and removing elements from lists!\n",
    "type: hacks\n",
    "toc: False\n",
    "comments: True\n",
    "author: Jackson\n",
    "permalink: /csp/big-idea/p1/3-10-2\n",
    "menu: nav/csp_units/csp_unit3_p1_fundamentals.html\n",
    "---"
   ]
  },
  {
   "cell_type": "markdown",
   "metadata": {},
   "source": [
    "\n",
    "<style>\n",
    "  h1 {\n",
    "    animation: glow 1s ease-in-out infinite alternate;\n",
    "  }\n",
    "</style>\n",
    "\n",
    "<style>\n",
    "@keyframes glow {\n",
    "  from {\n",
    "    text-shadow: 0 0 5px #e3768a, 0 0 10px #ae76e3, 0 0 15px #7d76e3, 0 0 20px #6385cf;\n",
    "  }\n",
    "  to {\n",
    "    text-shadow: 0 0 20px #6385cf, 0 0 30px #7d76e3, 0 0 40px #ae76e3, 0 0 50px #e3768a;\n",
    "  }\n",
    "}\n",
    "</style>\n",
    "\n",
    "\n",
    "<style>\n",
    ":root {\n",
    "    --light-pink: #e0b4d4;\n",
    "    --medium-pink: #4a5a94;\n",
    "    --dark-pink: #302e63;\n",
    "    --accent-pink: #ff99cc;\n",
    "    --background-pink: #ffe6f0;\n",
    "}\n",
    "\n",
    "body {\n",
    "    color: var(--dark-pink) !important;\n",
    "}\n",
    "\n",
    "article {\n",
    "    background-color: var(--light-pink) !important;\n",
    "    color: var(--dark-pink) !important;\n",
    "    border: 2px solid var(--medium-pink) !important;\n",
    "    padding: 20px !important;\n",
    "    border-radius: 8px !important;\n",
    "}\n",
    "\n",
    "a {\n",
    "    color: var(--accent-pink) !important;\n",
    "}\n",
    "\n",
    "a:hover {\n",
    "    color: var(--light-pink) !important;\n",
    "}\n",
    "\n",
    "h1, h2, h3, h4 {\n",
    "    color: white !important;\n",
    "}\n",
    "\n",
    "blockquote {\n",
    "    background-color: #272726 !important;\n",
    "    color: var(--dark-pink) !important;\n",
    "    padding: 10px 20px !important;\n",
    "    margin: 10px 0 !important;\n",
    "    border-radius: 4px !important;\n",
    "}\n",
    "\n",
    "code {\n",
    "    background-color: var(--medium-pink) !important;\n",
    "    color: white !important;\n",
    "    padding: 2px 4px !important;\n",
    "    border-radius: 4px !important;\n",
    "}\n",
    "\n",
    "table td {\n",
    "    background-color: var(--dark-pink) !important;\n",
    "}\n",
    "</style>"
   ]
  },
  {
   "cell_type": "markdown",
   "metadata": {},
   "source": [
    "## Inserting Elements\n",
    "The `insert` method is intended to add an element to the list at a specified index. The first argument should be an integer (the index), and the second argument should be the value you want to insert."
   ]
  },
  {
   "cell_type": "code",
   "execution_count": null,
   "metadata": {},
   "outputs": [],
   "source": [
    "# Python\n",
    "\n",
    "alist = ['apple', 'banana', 'cherry']\n",
    "alist.insert(index, value)\n",
    "alist.insert('1', 'kiwi')  # alist is now ['apple', 'kiwi', 'banana', 'cherry']"
   ]
  },
  {
   "cell_type": "markdown",
   "metadata": {},
   "source": [
    "The `indexOf` method searches the array for the specified element, in this case, 'apple'. The `splice` method is used to insert elements into the array. "
   ]
  },
  {
   "cell_type": "code",
   "execution_count": null,
   "metadata": {
    "vscode": {
     "languageId": "javascript"
    }
   },
   "outputs": [],
   "source": [
    "%%js\n",
    "// Javascript\n",
    "\n",
    "let alist = ['apple', 'banana', 'cherry'];\n",
    "\n",
    "// Find the index of 'apple'\n",
    "const index = alist.indexOf('apple');  // index will be 0 because 'apple' is at the first position of the array.\n",
    "\n",
    "// Insert 'a' before 'apple'\n",
    "if (index !== -1) {\n",
    "   alist.splice(index, 0, 'kiwi'); // 0 indicates no elements to remove\n",
    "}\n",
    "\n",
    "console.log(alist); // Output: ['kiwi', 'apple', 'banana', 'cherry']"
   ]
  },
  {
   "cell_type": "markdown",
   "metadata": {},
   "source": [
    "## Removing Elements\n",
    "The `remove` method is used to remove the first occurrence of a specified value from a list. In this case, you're trying to remove `'kiwi'`."
   ]
  },
  {
   "cell_type": "code",
   "execution_count": null,
   "metadata": {},
   "outputs": [],
   "source": [
    "# Python\n",
    "\n",
    "aList.remove('kiwi')  # Removes 'kiwi' from the list\n",
    "print(aList)  # Output: ['apple', 'banana', 'cherry',]"
   ]
  },
  {
   "cell_type": "markdown",
   "metadata": {},
   "source": [
    "Once again use the `indexOf` method to find the index of `'kiwi'`. If 'kiwi' is found, the `splice` method is used. This method modifies the list. The first argument (index) is the starting index (where to begin removing items), and the second argument (1) is the number of items to remove. Here, it removes one item starting from index 3, effectively removing 'kiwi'."
   ]
  },
  {
   "cell_type": "code",
   "execution_count": null,
   "metadata": {
    "vscode": {
     "languageId": "javascript"
    }
   },
   "outputs": [],
   "source": [
    "%%js\n",
    "// Javascript\n",
    "\n",
    "let aList = ['apple', 'banana', 'cherry', 'kiwi', 'grape']; // initial list\n",
    "let index = aList.indexOf('kiwi'); // Find the index of 'kiwi'\n",
    "\n",
    "if (index !== -1) {\n",
    "   aList.splice(index, 1);  // Removes 'kiwi' from the list\n",
    "}\n",
    "console.log(aList);  // Output: ['apple', 'banana', 'cherry', 'grape']"
   ]
  },
  {
   "cell_type": "markdown",
   "metadata": {},
   "source": [
    "## Deleting an element\n",
    "This line uses the `del` statement to remove the item at index `2` from the list. "
   ]
  },
  {
   "cell_type": "code",
   "execution_count": null,
   "metadata": {},
   "outputs": [],
   "source": [
    "# Python\n",
    "aList = ['apple', 'banana', 'cherry', 'grape'] # initial list\n",
    "del aList[2]  # Deletes 'cherry' at index 2\n",
    "print(aList)  # Output: ['apple', 'banana', 'grape']"
   ]
  },
  {
   "cell_type": "markdown",
   "metadata": {},
   "source": [
    "This line uses the `splice` method to remove an element from the array. The splice method takes two arguments: The first argument `(2)` specifies the starting index from which to begin removing elements. Here, it points to the element at index `2`, which is `'cherry'`.\n",
    "The second argument `(1)` indicates how many elements to remove starting from that index. In this case, it will remove `1` element."
   ]
  },
  {
   "cell_type": "code",
   "execution_count": null,
   "metadata": {
    "vscode": {
     "languageId": "javascript"
    }
   },
   "outputs": [],
   "source": [
    "%%js\n",
    "// Javascript\n",
    "\n",
    "let aList = ['apple', 'banana', 'cherry', 'grape'];\n",
    "\n",
    "// Delete the element at index 2\n",
    "aList.splice(2, 1); // Removes 1 element at index 2\n",
    "\n",
    "console.log(aList); // Output: ['apple', 'banana', 'grape']\n"
   ]
  },
  {
   "cell_type": "markdown",
   "metadata": {},
   "source": [
    "## Popcorn Hack\n",
    "- Try adding an element to your list\n",
    "- Try deleting a different element from your list"
   ]
  }
 ],
 "metadata": {
  "language_info": {
   "name": "python"
  }
 },
 "nbformat": 4,
 "nbformat_minor": 2
}
