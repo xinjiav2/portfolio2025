{
 "cells": [
  {
   "cell_type": "raw",
   "metadata": {
    "vscode": {
     "languageId": "raw"
    }
   },
   "source": [
    "---\n",
    "layout: post\n",
    "title: Big Idea 3.10 Part 3- Modifying Lists\n",
    "description: Learn more about how to modify lists and check their length!\n",
    "type: hacks\n",
    "toc: False\n",
    "comments: True\n",
    "author: Carson\n",
    "permalink: /csp/big-idea/p1/3-10-3\n",
    "menu: nav/csp_units/csp_unit3_p1_fundamentals.html\n",
    "---"
   ]
  },
  {
   "cell_type": "markdown",
   "metadata": {},
   "source": [
    "\n",
    "\n",
    "<style>\n",
    " h1 {\n",
    "   animation: glow 1s ease-in-out infinite alternate;\n",
    " }\n",
    "</style>\n",
    "\n",
    "\n",
    "<style>\n",
    "@keyframes glow {\n",
    " from {\n",
    "   text-shadow: 0 0 5px #e3768a, 0 0 10px #ae76e3, 0 0 15px #7d76e3, 0 0 20px #6385cf;\n",
    " }\n",
    " to {\n",
    "   text-shadow: 0 0 20px #6385cf, 0 0 30px #7d76e3, 0 0 40px #ae76e3, 0 0 50px #e3768a;\n",
    " }\n",
    "}\n",
    "</style>\n",
    "\n",
    "\n",
    "\n",
    "\n",
    "<style>\n",
    ":root {\n",
    "   --light-pink: #e0b4d4;\n",
    "   --medium-pink: #4a5a94;\n",
    "   --dark-pink: #302e63;\n",
    "   --accent-pink: #ff99cc;\n",
    "   --background-pink: #ffe6f0;\n",
    "}\n",
    "\n",
    "\n",
    "body {\n",
    "   color: var(--dark-pink) !important;\n",
    "}\n",
    "\n",
    "\n",
    "article {\n",
    "   background-color: var(--light-pink) !important;\n",
    "   color: var(--dark-pink) !important;\n",
    "   border: 2px solid var(--medium-pink) !important;\n",
    "   padding: 20px !important;\n",
    "   border-radius: 8px !important;\n",
    "}\n",
    "\n",
    "\n",
    "a {\n",
    "   color: var(--accent-pink) !important;\n",
    "}\n",
    "\n",
    "\n",
    "a:hover {\n",
    "   color: var(--light-pink) !important;\n",
    "}\n",
    "\n",
    "\n",
    "h1, h2, h3, h4 {\n",
    "   color: white !important;\n",
    "}\n",
    "\n",
    "\n",
    "blockquote {\n",
    "   background-color: #272726 !important;\n",
    "   color: var(--dark-pink) !important;\n",
    "   padding: 10px 20px !important;\n",
    "   margin: 10px 0 !important;\n",
    "   border-radius: 4px !important;\n",
    "}\n",
    "\n",
    "\n",
    "code {\n",
    "   background-color: var(--accent-pink) !important;\n",
    "   color: white !important;\n",
    "   padding: 2px 4px !important;\n",
    "   border-radius: 4px !important;\n",
    "}\n",
    "\n",
    "\n",
    "table td {\n",
    "   background-color: var(--dark-pink) !important;\n",
    "}\n",
    "</style>"
   ]
  },
  {
   "cell_type": "markdown",
   "metadata": {},
   "source": [
    "## Modifying Elements\n",
    "Since lists in Python are zero-indexed, meaning the first element is at index `0`, the second at index `1`, etc, here, `aList[1]` refers to the second element, which is `'banana'`. This line updates that element to `'kiwi'`."
   ]
  },
  {
   "cell_type": "code",
   "execution_count": null,
   "metadata": {},
   "outputs": [],
   "source": [
    "# Python\n",
    "\n",
    "aList = ['apple', 'banana', 'cherry']\n",
    "aList[1] = 'kiwi'  # Change 'banana' to 'kiwi'\n",
    "print(aList)  # Output: ['apple', 'kiwi', 'cherry']"
   ]
  },
  {
   "cell_type": "markdown",
   "metadata": {},
   "source": [
    "Here, the index is set to 2, which corresponds to the third element of the array, `'cherry'`. Then, the value is updated at the specified index (2) from `'cherry'` to `'kiwi'`. "
   ]
  },
  {
   "cell_type": "code",
   "execution_count": null,
   "metadata": {
    "vscode": {
     "languageId": "javascript"
    }
   },
   "outputs": [],
   "source": [
    "%%js\n",
    "// Javascript\n",
    "\n",
    "let alist = ['apple', 'banana', 'cherry', 'grape'];\n",
    "\n",
    "// Specify the index you want to update\n",
    "let index = 2; // For example, to update 'cherry'\n",
    "\n",
    "// Update the value at the specified index\n",
    "alist[index] = 'kiwi'; // Now 'cherry' is replaced with 'kiwi'\n",
    "\n",
    "console.log(alist); // Output: ['apple', 'banana', 'kiwi', 'grape']"
   ]
  },
  {
   "cell_type": "markdown",
   "metadata": {},
   "source": [
    "## Checking Length\n",
    "The `len()` function is a built-in Python function that returns the number of items in an object, in this case, the list aList. Since aList contains four elements, `len(aList)` will return 4. This value is then stored in the variable `number_of_elements`."
   ]
  },
  {
   "cell_type": "code",
   "execution_count": null,
   "metadata": {},
   "outputs": [],
   "source": [
    "# Python\n",
    "\n",
    "aList = ['apple', 'banana', 'kiwi', 'grape']\n",
    "number_of_elements = len(aList)  # Gets the number of elements\n",
    "print(number_of_elements)  # Output: 4"
   ]
  },
  {
   "cell_type": "markdown",
   "metadata": {},
   "source": [
    "The `.length` property of the list is used to determine the number of items in aList. "
   ]
  },
  {
   "cell_type": "code",
   "execution_count": null,
   "metadata": {
    "vscode": {
     "languageId": "javascript"
    }
   },
   "outputs": [],
   "source": [
    "%%js\n",
    "// Javascript\n",
    "\n",
    "let aList = ['apple', 'banana', 'kiwi', 'grape'];\n",
    "let numberOfElements = aList.length; // Gets the number of elements\n",
    "console.log(numberOfElements); // Output: 4"
   ]
  },
  {
   "cell_type": "markdown",
   "metadata": {},
   "source": [
    "## Iterating through a List\n",
    "Iterating a list means going through each element of the list one by one, allowing you to perform operations or access the elements sequentially. This line starts a `for` loop that iterates over each element in the `fruit` list. The variable `fruit` will take on the value of each element in the list, one at a time."
   ]
  },
  {
   "cell_type": "code",
   "execution_count": null,
   "metadata": {},
   "outputs": [],
   "source": [
    "# Python\n",
    "\n",
    "aList = ['apple', 'banana', 'cherry']\n",
    "for fruit in aList:\n",
    "    print(fruit) # Output: apple, banana, cherry"
   ]
  },
  {
   "cell_type": "code",
   "execution_count": null,
   "metadata": {
    "vscode": {
     "languageId": "javascript"
    }
   },
   "outputs": [],
   "source": [
    "%%js\n",
    "// Javascript\n",
    "\n",
    "let aList = ['apple', 'banana', 'cherry'];\n",
    "\n",
    "\n",
    "for (let fruit of aList) {\n",
    "   // Replace this comment with your block of statements\n",
    "   console.log(fruit); // Example statement\n",
    "}"
   ]
  },
  {
   "cell_type": "markdown",
   "metadata": {},
   "source": [
    "## Popcorn Hack\n",
    "- Try changing one of your elements into something new"
   ]
  },
  {
   "cell_type": "markdown",
   "metadata": {},
   "source": [
    "\n",
    "<style>\n",
    "  h1 {\n",
    "    animation: glow 1s ease-in-out infinite alternate;\n",
    "  }\n",
    "</style>\n",
    "\n",
    "<style>\n",
    "@keyframes glow {\n",
    "  from {\n",
    "    text-shadow: 0 0 5px #e3768a, 0 0 10px #ae76e3, 0 0 15px #7d76e3, 0 0 20px #6385cf;\n",
    "  }\n",
    "  to {\n",
    "    text-shadow: 0 0 20px #6385cf, 0 0 30px #7d76e3, 0 0 40px #ae76e3, 0 0 50px #e3768a;\n",
    "  }\n",
    "}\n",
    "</style>\n",
    "\n",
    "\n",
    "<style>\n",
    ":root {\n",
    "    --light-pink: #e0b4d4;\n",
    "    --medium-pink: #4a5a94;\n",
    "    --dark-pink: #302e63;\n",
    "    --accent-pink: #ff99cc;\n",
    "    --background-pink: #ffe6f0;\n",
    "}\n",
    "\n",
    "body {\n",
    "    color: var(--dark-pink) !important;\n",
    "}\n",
    "\n",
    "article {\n",
    "    background-color: var(--light-pink) !important;\n",
    "    color: var(--dark-pink) !important;\n",
    "    border: 2px solid var(--medium-pink) !important;\n",
    "    padding: 20px !important;\n",
    "    border-radius: 8px !important;\n",
    "}\n",
    "\n",
    "a {\n",
    "    color: var(--accent-pink) !important;\n",
    "}\n",
    "\n",
    "a:hover {\n",
    "    color: var(--light-pink) !important;\n",
    "}\n",
    "\n",
    "h1, h2, h3, h4 {\n",
    "    color: white !important;\n",
    "}\n",
    "\n",
    "blockquote {\n",
    "    background-color: #272726 !important;\n",
    "    color: var(--dark-pink) !important;\n",
    "    padding: 10px 20px !important;\n",
    "    margin: 10px 0 !important;\n",
    "    border-radius: 4px !important;\n",
    "}\n",
    "\n",
    "code {\n",
    "    background-color: var(--medium-pink) !important;\n",
    "    color: white !important;\n",
    "    padding: 2px 4px !important;\n",
    "    border-radius: 4px !important;\n",
    "}\n",
    "\n",
    "table td {\n",
    "    background-color: var(--dark-pink) !important;\n",
    "}\n",
    "</style>"
   ]
  }
 ],
 "metadata": {
  "language_info": {
   "name": "python"
  }
 },
 "nbformat": 4,
 "nbformat_minor": 2
}
