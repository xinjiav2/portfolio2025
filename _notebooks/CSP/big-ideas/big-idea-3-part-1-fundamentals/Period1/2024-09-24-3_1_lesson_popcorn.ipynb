{
 "cells": [
  {
   "cell_type": "raw",
   "metadata": {
    "vscode": {
     "languageId": "raw"
    }
   },
   "source": [
    "---\n",
    "toc: true\n",
    "layout: post\n",
    "title: 3.1 Variables and Strings\n",
    "permalink: /csp/big-idea/3-1/p1\n",
    "description: Team Teach String Operations\n",
    "menu: nav/csp_units/csp_unit3_p1_fundamentals.html\n",
    "comments: true\n",
    "---"
   ]
  },
  {
   "cell_type": "markdown",
   "metadata": {},
   "source": [
    "## What is a Variable?\n",
    "- Variables are containers for storing data values subject to change\n",
    "- Fundamental to EVERY and ANY decent program (in any language)\n"
   ]
  },
  {
   "cell_type": "markdown",
   "metadata": {},
   "source": [
    "## Defining a Variable\n",
    "- simply state the name of the variable, set equal to the desired value (numeric, text, whatever)"
   ]
  },
  {
   "cell_type": "code",
   "execution_count": 1,
   "metadata": {},
   "outputs": [
    {
     "name": "stdout",
     "output_type": "stream",
     "text": [
      "ruffs\n",
      "24\n"
     ]
    }
   ],
   "source": [
    "# define your variables\n",
    "x = 'ruffs'\n",
    "y = 24\n",
    "\n",
    "# print variables\n",
    "print(x)\n",
    "print(y)"
   ]
  },
  {
   "cell_type": "code",
   "execution_count": null,
   "metadata": {
    "vscode": {
     "languageId": "javascript"
    }
   },
   "outputs": [],
   "source": [
    "%%js \n",
    "\n",
    "// define variables \n",
    "let x = 'ruffs'; // defines a var, can be updated but not re-declared in the same scope\n",
    "const u = 24; // defines a block-scoped constant, cannot be updated or re-declared.\n",
    "var w = ['h', 'i']; // defines a var, can be updated or re-declared. It’s function-scoped\n",
    "\n",
    "// log variables in console\n",
    "console.log(x);\n",
    "console.log(u);\n",
    "console.log(w);"
   ]
  },
  {
   "cell_type": "markdown",
   "metadata": {},
   "source": [
    "## Performing Operations; Usage of Variables\n",
    "- Variables can be used as any other constant data would be"
   ]
  },
  {
   "cell_type": "code",
   "execution_count": 6,
   "metadata": {},
   "outputs": [
    {
     "name": "stdout",
     "output_type": "stream",
     "text": [
      "36\n",
      "36\n",
      "288\n",
      "2.0\n"
     ]
    }
   ],
   "source": [
    "# define your variables\n",
    "x = 24\n",
    "y = 12\n",
    "\n",
    "# print statements using operations, just as you would for any other data\n",
    "print(24+12)\n",
    "print(x+y)\n",
    "print(x*y)\n",
    "print(x/y)"
   ]
  },
  {
   "cell_type": "code",
   "execution_count": null,
   "metadata": {
    "vscode": {
     "languageId": "javascript"
    }
   },
   "outputs": [],
   "source": [
    "%%js \n",
    "\n",
    "// define variables \n",
    "let x = 24;\n",
    "let y = 32;\n",
    "\n",
    "// log statements in console using operations, just as you would for any other data\n",
    "console.log(24 + 12);\n",
    "console.log(x + y);\n",
    "console.log(x * y);\n",
    "console.log(x / y);"
   ]
  },
  {
   "cell_type": "markdown",
   "metadata": {},
   "source": [
    "## Variables for Input and Output \n",
    "- Variables are usually used for values that are not constant, and are subject to change (user inputs, positions, whatever)"
   ]
  },
  {
   "cell_type": "code",
   "execution_count": 2,
   "metadata": {},
   "outputs": [
    {
     "name": "stdout",
     "output_type": "stream",
     "text": [
      "Your favorite brawler is: Mico\n"
     ]
    }
   ],
   "source": [
    "# define variables\n",
    "brawler = input(\"what's your favorite brawler (#)?:\")\n",
    "\n",
    "# print variable\n",
    "print(\"Your favorite brawler is:\", brawler)"
   ]
  },
  {
   "cell_type": "markdown",
   "metadata": {},
   "source": [
    "- User input in JavaScript requires HTML"
   ]
  },
  {
   "cell_type": "code",
   "execution_count": 14,
   "metadata": {
    "vscode": {
     "languageId": "html"
    }
   },
   "outputs": [
    {
     "data": {
      "text/html": [
       "\n",
       "<div>\n",
       "  <!-- Label for the input field -->\n",
       "  <label for=\"ageInput\">What's your age (#)?</label>\n",
       "  \n",
       "  <!-- Input field to capture the user's age -->\n",
       "  <input type=\"number\" id=\"ageInput\" name=\"ageInput\">\n",
       "  \n",
       "  <!-- Button to submit the input value -->\n",
       "  <button onclick=\"submitAge()\">Submit</button>\n",
       "</div>\n",
       "\n",
       "<!-- Div to display the output -->\n",
       "<div id=\"output\"></div>\n",
       "\n",
       "<script>\n",
       "  // Function to handle the submission of the age input\n",
       "  function submitAge() {\n",
       "    // Get the value from the HTML input field\n",
       "    let age = document.getElementById('ageInput').value;\n",
       "    \n",
       "    // Log the value to the console\n",
       "    console.log(age);\n",
       "    \n",
       "    // Display the value on the page\n",
       "    document.getElementById('output').innerText = `Your age is: ${age}`;\n",
       "  }\n",
       "</script>\n"
      ],
      "text/plain": [
       "<IPython.core.display.HTML object>"
      ]
     },
     "metadata": {},
     "output_type": "display_data"
    }
   ],
   "source": [
    "%%html \n",
    "\n",
    "<div>\n",
    "  <!--(for demo purposes)-->\n",
    "  <!--label for the input field-->\n",
    "  <label for=\"brawlerInput\">What's your favorite brawler (#)?</label>\n",
    "  \n",
    "  <!--input field to capture the user's age -->\n",
    "  <input type=\"number\" id=\"brawlerInput\" name=\"brawlerInput\">\n",
    "  \n",
    "  <!--button to submit the input value-->\n",
    "  <button onclick=\"submitBrawler()\">Submit</button>\n",
    "</div>\n",
    "\n",
    "<!--display the output-->\n",
    "<div id=\"output\"></div>\n",
    "\n",
    "<script>\n",
    "  // function to handle the submission of the age input\n",
    "  function submitBrawler() {\n",
    "    // get the value from the HTML input field\n",
    "    let brawler = document.getElementById('brawlerInput').value;\n",
    "    \n",
    "    // log the value to the console\n",
    "    console.log(brawler);\n",
    "    \n",
    "    // display the value on the page\n",
    "    document.getElementById('output').innerText = `Your favorite brawler is: ${brawler}`;\n",
    "  }\n",
    "</script>"
   ]
  },
  {
   "cell_type": "markdown",
   "metadata": {},
   "source": [
    "## What is a String?\n",
    "- A data type represented as a sequence of characters\n",
    "- Immutable in majority of programming languages, but are subject to manipulation"
   ]
  },
  {
   "cell_type": "markdown",
   "metadata": {},
   "source": [
    "## Defining a String\n",
    "- To create a string, assign text data to a variable, using quotes to indicate it’s a string."
   ]
  },
  {
   "cell_type": "code",
   "execution_count": null,
   "metadata": {},
   "outputs": [],
   "source": [
    "# define your strings\n",
    "greeting = \"hello brawler\"\n",
    "usrname = \"magic05\"\n",
    "\n",
    "# print strings\n",
    "print(greeting)\n",
    "print(usrname)"
   ]
  },
  {
   "cell_type": "code",
   "execution_count": null,
   "metadata": {
    "vscode": {
     "languageId": "javascript"
    }
   },
   "outputs": [],
   "source": [
    "%%js \n",
    "\n",
    "// define your strings\n",
    "let greeting = \"hello brawler\";\n",
    "let usrname = \"magic05\";\n",
    "\n",
    "// log strings in console\n",
    "console.log(greeting);\n",
    "console.log(usrname);"
   ]
  },
  {
   "cell_type": "markdown",
   "metadata": {},
   "source": [
    "## String Operations (basic)\n",
    "- strings can be manipulated in a variety of ways, the simplest of which is concatenation"
   ]
  },
  {
   "cell_type": "code",
   "execution_count": 3,
   "metadata": {},
   "outputs": [
    {
     "name": "stdout",
     "output_type": "stream",
     "text": [
      "hello brawler, my name is magic05\n"
     ]
    }
   ],
   "source": [
    "# define your strings\n",
    "greeting = \"hello brawler\"\n",
    "usrname = \"magic05\"\n",
    "\n",
    "# print concatenated strings\n",
    "print(greeting + \", my name is \" + usrname)"
   ]
  },
  {
   "cell_type": "code",
   "execution_count": 3,
   "metadata": {
    "vscode": {
     "languageId": "javascript"
    }
   },
   "outputs": [
    {
     "data": {
      "application/javascript": "\n// define your strings\nlet greeting = \"hello world\";\nlet usrname = \"ansh\";\n\n// print concatenated strings\nconsole.log(greeting + \", my name is \" + usrname);\n",
      "text/plain": [
       "<IPython.core.display.Javascript object>"
      ]
     },
     "metadata": {},
     "output_type": "display_data"
    }
   ],
   "source": [
    "%%js \n",
    "\n",
    "// define your strings\n",
    "let greeting = \"hello brawler\";\n",
    "let usrname = \"magic05\";\n",
    "\n",
    "// print concatenated strings\n",
    "console.log(greeting + \", my name is \" + usrname);"
   ]
  },
  {
   "cell_type": "markdown",
   "metadata": {},
   "source": [
    "## Simple Hack - Profile Creation\n",
    "- In this hack, we store basic information (strings) as variables, and concatenate them to create a general profile that may be subject to different users"
   ]
  },
  {
   "cell_type": "code",
   "execution_count": 4,
   "metadata": {},
   "outputs": [
    {
     "name": "stdout",
     "output_type": "stream",
     "text": [
      "['Pradyun', '15', 'Darryl']\n",
      "{'15', 'Pradyun', 'Darryl'}\n",
      "Hi my name is Pradyun, I'm 15 years old, and my favorite brawler is Darryl\n"
     ]
    }
   ],
   "source": [
    "var1 = input(\"What is your name?:\")\n",
    "var2 = input(\"What is your age?:\")\n",
    "var3 = input(\"What is your favorite Brawl Stars brawler?:\")\n",
    "\n",
    "my_list = [var1, var2, var3]\n",
    "\n",
    "my_set = {\n",
    "    var1,\n",
    "    var2,\n",
    "    var3\n",
    "}\n",
    "\n",
    "print(my_list)\n",
    "print(my_set)\n",
    "\n",
    "print(\"Hi my name is \" + var1 + \", I'm \" +  var2 + \" years old\" + \", and my favorite brawler is \" + var3)"
   ]
  },
  {
   "cell_type": "markdown",
   "metadata": {},
   "source": [
    "## JS Hack Code"
   ]
  },
  {
   "cell_type": "code",
   "execution_count": null,
   "metadata": {
    "vscode": {
     "languageId": "javascript"
    }
   },
   "outputs": [],
   "source": [
    "%%js\n",
    "const var1 = prompt(\"What is your name?:\");\n",
    "const var2 = prompt(\"What is your age?:\");\n",
    "const var3 = prompt(\"What is your favorite Brawl Stars brawler?:\");\n",
    "\n",
    "\n",
    "const myList = [var1, var2, var3];\n",
    "console.log(myList);\n",
    "\n",
    "\n",
    "const myDict = {\n",
    "    name: var1,\n",
    "    age: var2,\n",
    "    favoriteFood: var3\n",
    "};\n",
    "console.log(myDict);\n",
    "\n",
    "\n",
    "console.log(\"Hi, my name is \" + var1 + \", I'm \" + var2 + \" years old, and my favorite brawler is \" + var3 + \".\");"
   ]
  },
  {
   "cell_type": "markdown",
   "metadata": {},
   "source": [
    "## Homework Hack:\n",
    "in this hack, you will be given a set of personal information, and your job is to format and display it properly, along with generating a unique ID associated to that person using string slicing and concatenation.\n",
    "\n",
    "Data Set:\n",
    "- Full Name: \"John Doe\"\n",
    "- Age: 28\n",
    "- Email Address: \"john.doe@gmail.com\"\n",
    "- Hobby: \"Food Tasting\"\n",
    "- Dietary Preferences: \"Vegan\""
   ]
  },
  {
   "cell_type": "code",
   "execution_count": 1,
   "metadata": {},
   "outputs": [
    {
     "name": "stdout",
     "output_type": "stream",
     "text": [
      "Personal Info:\n",
      "- Full Name: John Doe\n",
      "- Age: 28\n",
      "- Email: john.doe@gmail.com\n",
      "- Hobby: Food Tasting\n",
      "- Dietary Preferences: Vegan\n",
      "- Unique ID: JD28\n"
     ]
    }
   ],
   "source": [
    "full_name = \"John Doe\"\n",
    "age = 28\n",
    "email = \"john.doe@gmail.com\"\n",
    "hobby = \"Food Tasting\"\n",
    "dietary_preferences = \"Vegan\"\n",
    "\n",
    "initials = full_name[0] + full_name[full_name.find(\" \") + 1] \n",
    "unique_id = initials + str(age) \n",
    "\n",
    "formatted_info = \"Personal Info:\\n\" \\\n",
    "                 \"- Full Name: \" + full_name + \"\\n\" \\\n",
    "                 \"- Age: \" + str(age) + \"\\n\" \\\n",
    "                 \"- Email: \" + email + \"\\n\" \\\n",
    "                 \"- Hobby: \" + hobby + \"\\n\" \\\n",
    "                 \"- Dietary Preferences: \" + dietary_preferences + \"\\n\" \\\n",
    "                 \"- Unique ID: \" + unique_id\n",
    "\n",
    "print(formatted_info)\n"
   ]
  },
  {
   "cell_type": "markdown",
   "metadata": {},
   "source": [
    "## Your Goal: Recreate as JavaScript!"
   ]
  }
 ],
 "metadata": {
  "kernelspec": {
   "display_name": "Python 3",
   "language": "python",
   "name": "python3"
  },
  "language_info": {
   "codemirror_mode": {
    "name": "ipython",
    "version": 3
   },
   "file_extension": ".py",
   "mimetype": "text/x-python",
   "name": "python",
   "nbconvert_exporter": "python",
   "pygments_lexer": "ipython3",
   "version": "3.10.12"
  }
 },
 "nbformat": 4,
 "nbformat_minor": 2
}
