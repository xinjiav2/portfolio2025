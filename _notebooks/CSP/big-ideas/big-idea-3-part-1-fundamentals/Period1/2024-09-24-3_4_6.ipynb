{
 "cells": [
  {
   "cell_type": "raw",
   "metadata": {
    "vscode": {
     "languageId": "raw"
    }
   },
   "source": [
    "---\n",
    "toc: true\n",
    "layout: post\n",
    "title: 3.4 String Operations \n",
    "permalink: /csp/big-idea/p1/3-4-6\n",
    "description: 3.4 Team Teach String Operations\n",
    "menu: nav/csp_units/csp_unit3_p1_fundamentals.html\n",
    "comments: true\n",
    "---"
   ]
  },
  {
   "cell_type": "markdown",
   "metadata": {},
   "source": [
    "## Replacing Substrings\n",
    " - Can replace different parts of a string with something else\n",
    " - .replace() in Python and JS"
   ]
  },
  {
   "cell_type": "code",
   "execution_count": 7,
   "metadata": {},
   "outputs": [
    {
     "name": "stdout",
     "output_type": "stream",
     "text": [
      "Hello Mihir\n"
     ]
    }
   ],
   "source": [
    "print(\"Hello Brawler\".replace(\"Brawler\", \"Mihir\"))"
   ]
  },
  {
   "cell_type": "code",
   "execution_count": 10,
   "metadata": {
    "vscode": {
     "languageId": "javascript"
    }
   },
   "outputs": [
    {
     "data": {
      "application/javascript": "console.log(\"Hello World\".replace(\"World\", \"Mihir\"));\n",
      "text/plain": [
       "<IPython.core.display.Javascript object>"
      ]
     },
     "metadata": {},
     "output_type": "display_data"
    }
   ],
   "source": [
    "%%js\n",
    "console.log(\"Hello Brawler\".replace(\"Brawler\", \"Mihir\"));"
   ]
  },
  {
   "cell_type": "markdown",
   "metadata": {},
   "source": [
    " - Use Case: Useful for replacing specific parts of text without having to re initiate the whole thing again"
   ]
  }
 ],
 "metadata": {
  "kernelspec": {
   "display_name": "Python 3",
   "language": "python",
   "name": "python3"
  },
  "language_info": {
   "codemirror_mode": {
    "name": "ipython",
    "version": 3
   },
   "file_extension": ".py",
   "mimetype": "text/x-python",
   "name": "python",
   "nbconvert_exporter": "python",
   "pygments_lexer": "ipython3",
   "version": "3.12.5"
  }
 },
 "nbformat": 4,
 "nbformat_minor": 2
}
