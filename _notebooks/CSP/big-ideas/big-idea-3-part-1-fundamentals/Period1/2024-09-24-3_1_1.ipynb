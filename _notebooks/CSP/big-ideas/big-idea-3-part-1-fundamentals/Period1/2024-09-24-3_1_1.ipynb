{
 "cells": [
  {
   "cell_type": "raw",
   "metadata": {
    "vscode": {
     "languageId": "raw"
    }
   },
   "source": [
    "---\n",
    "toc: true\n",
    "layout: post\n",
    "title: 3.1 Variables and Strings\n",
    "permalink: /csp/big-idea/p1/3-1-1\n",
    "description: Team Teach String Operations\n",
    "menu: nav/csp_units/csp_unit3_p1_fundamentals.html\n",
    "comments: true\n",
    "---"
   ]
  },
  {
   "cell_type": "markdown",
   "metadata": {},
   "source": [
    "<html>\n",
    "    <style>\n",
    "        @keyframes bounce {\n",
    "            0%, 20%, 50%, 80%, 100% {\n",
    "                transform: translateY(0);\n",
    "            }\n",
    "            10%, 30%, 60%, 90% {\n",
    "                transform: translateY(-30px);\n",
    "            }\n",
    "            40%, 70% {\n",
    "                transform: translateY(-15px);\n",
    "            }\n",
    "        }\n",
    "        @keyframes bounce2 {\n",
    "            /* bounce */\n",
    "            0%, 20%, 50%, 80%, 100% {\n",
    "                transform: translateY(0);\n",
    "            }\n",
    "            10%, 30%, 60%, 90% {\n",
    "                transform: translateY(-30px);\n",
    "            }\n",
    "            40%, 70% {\n",
    "                transform: translateY(-15px);\n",
    "            }\n",
    "            /* flips */\n",
    "            0%, 25% {\n",
    "                transform: rotateZ(0deg);\n",
    "            }\n",
    "            25%, 50% {\n",
    "                transform: rotateY(180deg);\n",
    "            }\n",
    "            50%, 75% {\n",
    "                transform: rotateZ(180deg);\n",
    "            }\n",
    "            75%, 100% {\n",
    "                transform: rotateY(0deg);\n",
    "            }\n",
    "        }\n",
    "        h2{\n",
    "            color: #ffd9d9;\n",
    "        }\n",
    "    </style>\n",
    "    <br>\n",
    "    <br>\n",
    "    <br>\n",
    "    <br>\n",
    "    <br>\n",
    "    <img style=\"animation: bounce2 3s ease infinite; max-width: 25%; filter: saturate(200%);\" src=\"{{site.baseurl}}/images/p1group1images/img5.png\">\n",
    "    <br>\n",
    "    <br>\n",
    "    <p style=\"animation: bounce 3s ease infinite; background: linear-gradient(to right, #C9B1FF, #FFCAF2, #FFB2B1, #FFF3AD, #BCFFBC, #A2EDFF);-webkit-text-fill-color: transparent; -webkit-background-clip: text;\"> ____________________________________________________________________________________________________________________________________________</p>\n",
    "</html>"
   ]
  },
  {
   "cell_type": "markdown",
   "metadata": {},
   "source": [
    "\n",
    "<br>\n",
    "<h2>What is a Variable</h2>\n",
    "<li>Variables are containers for storing data values subject to change</li>\n",
    "<li>Fundamental to EVERY and ANY decent program (in any language)</li>\n",
    "<br>\n",
    "<style>\n",
    "    h1 {\n",
    "        color: #ff00fb;\n",
    "        padding-left: 10px;\n",
    "    }\n",
    "    h2 {\n",
    "        color: #ff00fb;\n",
    "        padding-left: 10px;\n",
    "    }\n",
    "    div {\n",
    "        background-color: #33c9ff;\n",
    "        border-radius: 10px;\n",
    "    }\n",
    "    li {\n",
    "        color: #864d00;\n",
    "        padding-left: 30px;\n",
    "        font-size: 18px;\n",
    "    }\n",
    "</style>\n"
   ]
  },
  {
   "cell_type": "markdown",
   "metadata": {},
   "source": [
    "\n",
    "<br>\n",
    "<h2>Defining a Variable</h2>\n",
    "<li>Simply state the name of the variable, set equal to the desired value (numeric, text, whatever)</li>\n",
    "<br>\n",
    "<style>\n",
    "    h2 {\n",
    "        color: #ff00fb;\n",
    "        padding-left: 10px;\n",
    "    }\n",
    "    div {\n",
    "        background-color: #33c9ff;\n",
    "        border-radius: 10px;\n",
    "    }\n",
    "    li {\n",
    "        color: #864d00;\n",
    "        padding-left: 30px;\n",
    "        font-size: 18px;\n",
    "    }\n",
    "</style>"
   ]
  },
  {
   "cell_type": "code",
   "execution_count": 1,
   "metadata": {},
   "outputs": [
    {
     "name": "stdout",
     "output_type": "stream",
     "text": [
      "unicorn\n",
      "24\n"
     ]
    }
   ],
   "source": [
    "# define your variables\n",
    "x = 'ruffs'\n",
    "y = 24\n",
    "\n",
    "# print variables\n",
    "print(x)\n",
    "print(y)"
   ]
  },
  {
   "cell_type": "code",
   "execution_count": null,
   "metadata": {
    "vscode": {
     "languageId": "javascript"
    }
   },
   "outputs": [],
   "source": [
    "%%js \n",
    "\n",
    "// define variables \n",
    "let x = 'ruffs'; // defines a var, can be updated but not re-declared in the same scope\n",
    "const u = 24; // defines a block-scoped constant, cannot be updated or re-declared.\n",
    "var w = ['h', 'i']; // defines a var, can be updated or re-declared. It’s function-scoped\n",
    "\n",
    "// log variables in console\n",
    "console.log(x);\n",
    "console.log(u);\n",
    "console.log(w);"
   ]
  }
 ],
 "metadata": {
  "kernelspec": {
   "display_name": "Python 3",
   "language": "python",
   "name": "python3"
  },
  "language_info": {
   "codemirror_mode": {
    "name": "ipython",
    "version": 3
   },
   "file_extension": ".py",
   "mimetype": "text/x-python",
   "name": "python",
   "nbconvert_exporter": "python",
   "pygments_lexer": "ipython3",
   "version": "3.10.12"
  }
 },
 "nbformat": 4,
 "nbformat_minor": 2
}
