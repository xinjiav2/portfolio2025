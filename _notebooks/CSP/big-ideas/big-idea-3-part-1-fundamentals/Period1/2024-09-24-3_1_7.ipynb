{
 "cells": [
  {
   "cell_type": "raw",
   "metadata": {
    "vscode": {
     "languageId": "raw"
    }
   },
   "source": [
    "---\n",
    "toc: true\n",
    "layout: post\n",
    "title: 3.1 Variables and Strings\n",
    "permalink: /csp/big-idea/p1/3-1-7\n",
    "description: Team Teach String Operations\n",
    "menu: nav/csp_units/csp_unit3_p1_fundamentals.html\n",
    "comments: true\n",
    "---"
   ]
  },
  {
   "cell_type": "markdown",
   "metadata": {},
   "source": [
    "<html>\n",
    "    <style>\n",
    "        @keyframes bounce {\n",
    "            0%, 20%, 50%, 80%, 100% {\n",
    "                transform: translateY(0);\n",
    "            }\n",
    "            10%, 30%, 60%, 90% {\n",
    "                transform: translateY(-30px);\n",
    "            }\n",
    "            40%, 70% {\n",
    "                transform: translateY(-15px);\n",
    "            }\n",
    "        }\n",
    "        @keyframes bounce2 {\n",
    "            /* bounce */\n",
    "            0%, 20%, 50%, 80%, 100% {\n",
    "                transform: translateY(0);\n",
    "            }\n",
    "            10%, 30%, 60%, 90% {\n",
    "                transform: translateY(-30px);\n",
    "            }\n",
    "            40%, 70% {\n",
    "                transform: translateY(-15px);\n",
    "            }\n",
    "            /* flips */\n",
    "            0%, 25% {\n",
    "                transform: rotateZ(0deg);\n",
    "            }\n",
    "            25%, 50% {\n",
    "                transform: rotateY(180deg);\n",
    "            }\n",
    "            50%, 75% {\n",
    "                transform: rotateZ(180deg);\n",
    "            }\n",
    "            75%, 100% {\n",
    "                transform: rotateY(0deg);\n",
    "            }\n",
    "        }\n",
    "        h2{\n",
    "            color: #ffd9d9;\n",
    "        }\n",
    "    </style>\n",
    "    <br>\n",
    "    <br>\n",
    "    <br>\n",
    "    <br>\n",
    "    <br>\n",
    "    <img style=\"animation: bounce2 3s ease infinite; max-width: 25%; filter: saturate(200%);\" src=\"{{site.baseurl}}/images/p1group1images/img11.png\">\n",
    "    <br>\n",
    "    <br>\n",
    "    <p style=\"animation: bounce 3s ease infinite; background: linear-gradient(to right, #C9B1FF, #FFCAF2, #FFB2B1, #FFF3AD, #BCFFBC, #A2EDFF);-webkit-text-fill-color: transparent; -webkit-background-clip: text;\"> ____________________________________________________________________________________________________________________________________________</p>\n",
    "</html>"
   ]
  },
  {
   "cell_type": "markdown",
   "metadata": {},
   "source": [
    "\n",
    "<br>\n",
    "<h2>Homework Hack:</h2>\n",
    "<h3>In this hack, you will be given a set of personal information, and your job is to format and display it properly, along with generating a unique ID associated to that person using string slicing and concatenation.</h3>\n",
    "<br>\n",
    "<h3>Data Set:</h3>\n",
    "<li>Full Name: \"John Doe\"</li>\n",
    "<li>Age: 28</li>\n",
    "<li>Email Address: \"john.doe@gmail.com\"</li>\n",
    "<li>Hobby: \"Food Tasting\"</li>\n",
    "<li>Dietary Preferences: \"Vegan\"</li>\n",
    "<br>\n",
    "<style>\n",
    "    h2 {\n",
    "        color: #ff00fb;\n",
    "        padding-left: 10px;\n",
    "    }\n",
    "    div {\n",
    "        background-color: #33c9ff;\n",
    "        border-radius: 10px;\n",
    "    }\n",
    "    li, h3 {\n",
    "        color: #864d00;\n",
    "        padding-left: 30px;\n",
    "        font-size: 18px;\n",
    "    }\n",
    "</style>"
   ]
  },
  {
   "cell_type": "code",
   "execution_count": 1,
   "metadata": {},
   "outputs": [
    {
     "name": "stdout",
     "output_type": "stream",
     "text": [
      "Personal Info:\n",
      "- Full Name: John Doe\n",
      "- Age: 28\n",
      "- Email: john.doe@gmail.com\n",
      "- Hobby: Food Tasting\n",
      "- Dietary Preferences: Vegan\n",
      "- Unique ID: JD28\n"
     ]
    }
   ],
   "source": [
    "full_name = \"John Doe\"\n",
    "age = 28\n",
    "email = \"john.doe@gmail.com\"\n",
    "hobby = \"Food Tasting\"\n",
    "dietary_preferences = \"Vegan\"\n",
    "\n",
    "initials = full_name[0] + full_name[full_name.find(\" \") + 1] \n",
    "unique_id = initials + str(age) \n",
    "\n",
    "formatted_info = \"Personal Info:\\n\" \\\n",
    "                 \"- Full Name: \" + full_name + \"\\n\" \\\n",
    "                 \"- Age: \" + str(age) + \"\\n\" \\\n",
    "                 \"- Email: \" + email + \"\\n\" \\\n",
    "                 \"- Hobby: \" + hobby + \"\\n\" \\\n",
    "                 \"- Dietary Preferences: \" + dietary_preferences + \"\\n\" \\\n",
    "                 \"- Unique ID: \" + unique_id\n",
    "\n",
    "print(formatted_info)\n"
   ]
  },
  {
   "cell_type": "markdown",
   "metadata": {},
   "source": [
    "<br>\n",
    "<h1>Your Goal:</h1>\n",
    "<h3>Recreate as JavaScript, with different parameters, a different/unique method of creating an ID, and a different way to display/store the data</h3>\n",
    "<br>\n",
    "</body>\n",
    "<style>\n",
    "    h1 {\n",
    "        color: #ff00fb;\n",
    "        padding-left: 10px;\n",
    "    }\n",
    "    div {\n",
    "        background-color: #33c9ff;\n",
    "        border-radius: 10px;\n",
    "    }\n",
    "    h3 {\n",
    "        color: #864d00;\n",
    "        padding-left: 30px;\n",
    "        font-size: 18px;\n",
    "    }\n",
    "</style>"
   ]
  }
 ],
 "metadata": {
  "kernelspec": {
   "display_name": "Python 3",
   "language": "python",
   "name": "python3"
  },
  "language_info": {
   "codemirror_mode": {
    "name": "ipython",
    "version": 3
   },
   "file_extension": ".py",
   "mimetype": "text/x-python",
   "name": "python",
   "nbconvert_exporter": "python",
   "pygments_lexer": "ipython3",
   "version": "3.12.5"
  }
 },
 "nbformat": 4,
 "nbformat_minor": 2
}
