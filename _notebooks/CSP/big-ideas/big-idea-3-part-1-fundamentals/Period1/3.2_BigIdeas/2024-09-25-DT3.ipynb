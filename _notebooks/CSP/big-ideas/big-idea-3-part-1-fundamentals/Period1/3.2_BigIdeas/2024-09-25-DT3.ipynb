{
 "cells": [
  {
   "cell_type": "raw",
   "metadata": {
    "vscode": {
     "languageId": "raw"
    }
   },
   "source": [
    "---\n",
    "layout: post\n",
    "title: 3.2 Data Types 3 - Dictionaries, Booleans, None\n",
    "permalink: /csp/big-idea/DT3\n",
    "menu: nav/csp_units/csp_unit3_p1_fundamentals.html\n",
    "author: Katherine Chen\n",
    "comments: true\n",
    "---"
   ]
  },
  {
   "cell_type": "markdown",
   "metadata": {
    "vscode": {
     "languageId": "plaintext"
    }
   },
   "source": [
    "  <title>Dictionaries, Booleans, None</title>\n",
    "  <style>\n",
    "    /* Style the title */\n",
    "    h1 {\n",
    "      color: #F08080;  /* Change text color to blue */\n",
    "      font-size: 200px; /* Set the size of the title */\n",
    "      font-family: Arial, sans-serif; /* Font style */\n",
    "    }\n",
    "  </style>\n",
    "  <html lang=\"en\">\n",
    "<head>\n",
    "  <meta charset=\"UTF-8\">\n",
    "  <meta name=\"viewport\" content=\"width=device-width, initial-scale=1.0\">\n",
    "  <style>\n",
    "    /* Style for the animated div */\n",
    "    .color-div {\n",
    "      width: 820px;\n",
    "      height: 20px;\n",
    "      background-color: #3498db; /* Initial color */\n",
    "      animation: colorAnimation 8s infinite; /* Color change animation */\n",
    "      display: flex;\n",
    "      justify-content: center;\n",
    "      align-items: center;\n",
    "      font-family: Arial, sans-serif;\n",
    "      font-size: 20px;\n",
    "      color: white;\n",
    "    }\n",
    "    /* Keyframes for color animation */\n",
    "    @keyframes colorAnimation {\n",
    "      0% { background-color: #3498db; } /* Blue */\n",
    "      25% { background-color: #e74c3c; } /* Red */\n",
    "      50% { background-color: #f1c40f; } /* Yellow */\n",
    "      75% { background-color: #2ecc71; } /* Green */\n",
    "      100% { background-color: #3498db; } /* Back to Blue */\n",
    "    }\n",
    "  </style>\n",
    "</head>\n",
    "<body>\n",
    "\n",
    "  <div class=\"color-div\"></div>\n",
    "\n",
    "</body>\n",
    "</html>\n"
   ]
  },
  {
   "cell_type": "markdown",
   "metadata": {},
   "source": [
    "## Dictionaries (dict)\n",
    "### Use Cases: Use dictionaries when you need to store key-value pairs, where each key maps to a specific value. Dictionaries are efficient for looking up values based on keys.\n",
    "\n",
    "Python: a dictionary has key value pairs, which is made up of keys (unique identifiers) and values (the data associated with each key). Keys must be immutable types (cannont be changed after created), while values can be any type. "
   ]
  },
  {
   "cell_type": "code",
   "execution_count": null,
   "metadata": {},
   "outputs": [],
   "source": [
    "# python\n",
    "student = {\n",
    "    \"name\": \"John\", # \"name\" is the key, \"John\" is the value\n",
    "    \"age\": 21,\n",
    "    \"major\": \"Applied Mathematic\"\n",
    "}\n",
    "\n",
    "print(student[\"name\"]) # accessing a value"
   ]
  },
  {
   "cell_type": "code",
   "execution_count": null,
   "metadata": {
    "vscode": {
     "languageId": "javascript"
    }
   },
   "outputs": [],
   "source": [
    "// javascript\n",
    "let student = {\n",
    "    name: \"John\",\n",
    "    age: 21,\n",
    "    major: \"Applied Mathematics\"\n",
    "}\n",
    "\n",
    "console.log(student.name); // accessing a value"
   ]
  },
  {
   "cell_type": "markdown",
   "metadata": {},
   "source": [
    "# Booleans (bool)\n",
    "### Use Cases: Use booleans to represent binary values, such as True or False. They are essential for making decisions and controlling the flow of your program using conditional statements.\n",
    "\n",
    "- Booleans can be used as is, as `True` or `False`.\n",
    "\n",
    "- Booleans can be used with logical operations.\n",
    "    `and`: returns `True` if both operands are `True`, otherwise returns `False`.\n",
    "    `or`: returns `True` if at least one operand is `True`, otherwise returns `False`.\n",
    "    `not`: Inverts the Boolean value; `True` because `False`, and vice versa. \n",
    "\n",
    "- Comparison Operations: Booleans can be used for the result of comparisons: ==, !=, >, <"
   ]
  },
  {
   "cell_type": "code",
   "execution_count": null,
   "metadata": {},
   "outputs": [],
   "source": [
    "# python\n",
    "is_student = True # Boolean value True\n",
    "is_graduated = False # Boolean value False\n",
    "\n",
    "# Using Boolean with logical operations\n",
    "print(is_student and is_graduated) # False, because one of them is False\n",
    "print(is_student or is_graduated) # True, because at least on is True\n",
    "print(not is_student) # False, because is_student is True\n",
    "\n",
    "age = 20\n",
    "height = 175\n",
    "\n",
    "# Comparison operations\n",
    "is_adult = age >= 18 # True, because 20>=18\n",
    "is_exact_height = height == 175 # True, because height is exactly 175\n",
    "\n",
    "# printing the results\n",
    "print(\"Is the person an adult?\", is_adult)\n",
    "print(\"Is the height exactly 175?\", is_exact_height)"
   ]
  },
  {
   "cell_type": "code",
   "execution_count": null,
   "metadata": {
    "vscode": {
     "languageId": "javascript"
    }
   },
   "outputs": [],
   "source": [
    "// javascript\n",
    "// js operators: === (scrictly equal), !== (both are different), && (both must be true)\n",
    "let isStudent = true;\n",
    "let isGraduated = false: \n",
    "\n",
    "// Using Boolean with logical operations\n",
    "console.log(isStudent && isGraduated); //false, because one of them is false\n",
    "console.log(isStudent || isGraduated); //true, because at least one is true\n",
    "console.log(!= isStudent); // false, because isStudent is true\n",
    "\n",
    "let age = 20;\n",
    "let height = 175;\n",
    "\n",
    "// Comparison operations\n",
    "let isAdult = age >= 18; //True, because 20>= 18\n",
    "let isExactHeight = height === 175; /// True, because height is exactly 175\n",
    "\n",
    "// printing the results \n",
    "console.log(\"Is the person an adult?\", isAdult); // Output: true\n",
    "console.log(\"Is the height exactly 175?\", isExactHeight); //Output: true"
   ]
  },
  {
   "cell_type": "markdown",
   "metadata": {},
   "source": [
    "# None (NoneType)\n",
    "#### Use Cases: Use None when you want to represent the absence of a value or indicate that a variable has no assigned value (null). It’s often used as a placeholder or default initial value.\n"
   ]
  },
  {
   "cell_type": "code",
   "execution_count": null,
   "metadata": {},
   "outputs": [],
   "source": [
    "# Default return value\n",
    "def my_function():\n",
    "    pass\n",
    "print(my_function()) # output: None\n",
    "\n",
    "# Placeholder\n",
    "list = None\n",
    "value = None\n",
    "\n",
    "# Comparisons - None is only equal to itself\n",
    "print(None == None) # True\n",
    "print(None == 0) # False"
   ]
  },
  {
   "cell_type": "code",
   "execution_count": null,
   "metadata": {
    "vscode": {
     "languageId": "javascript"
    }
   },
   "outputs": [],
   "source": [
    "// Default return value\n",
    "function myFunction() {\n",
    "    // no return value\n",
    "}\n",
    "\n",
    "console.log(myFunction());  // Output: undefined\n",
    "\n",
    "// Placeholder\n",
    "let list = null;\n",
    "let value = null;\n",
    "\n",
    "// Comparisons - null is only equal to itself and undefined\n",
    "console.log(null === null);   // true\n",
    "console.log(null === 0);      // false"
   ]
  }
 ],
 "metadata": {
  "language_info": {
   "name": "python"
  }
 },
 "nbformat": 4,
 "nbformat_minor": 2
}
