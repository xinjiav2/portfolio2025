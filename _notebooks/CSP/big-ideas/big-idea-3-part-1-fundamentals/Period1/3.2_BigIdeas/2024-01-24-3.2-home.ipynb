{
 "cells": [
  {
   "cell_type": "raw",
   "metadata": {
    "vscode": {
     "languageId": "raw"
    }
   },
   "source": [
    "---\n",
    "layout: post\n",
    "title: 3.2 Data Types \n",
    "permalink: /csp/big-idea/home\n",
    "menu: nav/csp_units/csp_unit3_p1_fundamentals.html\n",
    "author: Soni Dhenuva, Katherine Chen, Aditi Bandaru, Sanya Kapoor\n",
    "comments: true\n",
    "---"
   ]
  },
  {
   "cell_type": "markdown",
   "metadata": {},
   "source": [
    "  <style>\n",
    "    canvas {\n",
    "      display: block;\n",
    "      border: 2px solid #000;\n",
    "    }\n",
    "  </style>\n",
    "  <canvas id=\"animationCanvas\"></canvas>\n",
    "\n",
    "  <script>\n",
    "    // Set up the canvas and get the context\n",
    "    const canvas = document.getElementById('animationCanvas');\n",
    "    const ctx = canvas.getContext('2d');\n",
    "\n",
    "    // Set canvas size (smaller range)\n",
    "    canvas.width = 400;  // Reduce width\n",
    "    canvas.height = 50; // Reduce height\n",
    "\n",
    "    // Ball properties (smaller ball)\n",
    "    let ballRadius = 10; // Smaller ball\n",
    "    let x = canvas.width / 2;\n",
    "    let y = canvas.height / 2;\n",
    "    let dx = 2; // Slower horizontal velocity\n",
    "    let dy = 1.5; // Slower vertical velocity\n",
    "    let color = '#3498db'; // Ball color\n",
    "\n",
    "    // Function to draw the ball\n",
    "    function drawBall() {\n",
    "      ctx.beginPath();\n",
    "      ctx.arc(x, y, ballRadius, 0, Math.PI * 2);\n",
    "      ctx.fillStyle = color;\n",
    "      ctx.fill();\n",
    "      ctx.closePath();\n",
    "    }\n",
    "\n",
    "    // Function to update ball's position and handle bouncing\n",
    "    function update() {\n",
    "      // Clear the canvas for the next frame\n",
    "      ctx.clearRect(0, 0, canvas.width, canvas.height);\n",
    "\n",
    "      // Draw the ball\n",
    "      drawBall();\n",
    "\n",
    "      // Update ball's position\n",
    "      x += dx;\n",
    "      y += dy;\n",
    "\n",
    "      // Bounce off the left and right walls\n",
    "      if (x + ballRadius > canvas.width || x - ballRadius < 0) {\n",
    "        dx = -dx;\n",
    "        color = getRandomColor(); // Change color on bounce\n",
    "      }\n",
    "\n",
    "      // Bounce off the top and bottom walls\n",
    "      if (y + ballRadius > canvas.height || y - ballRadius < 0) {\n",
    "        dy = -dy;\n",
    "        color = getRandomColor(); // Change color on bounce\n",
    "      }\n",
    "\n",
    "      // Call update on every frame\n",
    "      requestAnimationFrame(update);\n",
    "    }\n",
    "\n",
    "    // Function to generate random colors\n",
    "    function getRandomColor() {\n",
    "      const letters = '0123456789ABCDEF';\n",
    "      let color = '#';\n",
    "      for (let i = 0; i < 6; i++) {\n",
    "        color += letters[Math.floor(Math.random() * 16)];\n",
    "      }\n",
    "      return color\n",
    "    }\n",
    "\n",
    "    // Start the animation\n",
    "    update();\n",
    "  </script>"
   ]
  },
  {
   "cell_type": "markdown",
   "metadata": {},
   "source": [
    "- We will be going over all the data types in python and covering Python to JSON conversion Methods\n"
   ]
  }
 ],
 "metadata": {
  "language_info": {
   "name": "python"
  }
 },
 "nbformat": 4,
 "nbformat_minor": 2
}
