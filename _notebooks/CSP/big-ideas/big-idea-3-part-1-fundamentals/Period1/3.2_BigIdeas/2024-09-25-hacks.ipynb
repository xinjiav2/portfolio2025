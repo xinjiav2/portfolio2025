{
 "cells": [
  {
   "cell_type": "raw",
   "metadata": {
    "vscode": {
     "languageId": "raw"
    }
   },
   "source": [
    "---\n",
    "layout: post\n",
    "title: 3.2 Hacks\n",
    "permalink: /csp/big-idea/hacks\n",
    "menu: nav/csp_units/csp_unit3_p1_fundamentals.html\n",
    "author: Soni Dhenuva, Katherine Chen, Aditi Bandaru\n",
    "comments: true\n",
    "---"
   ]
  },
  {
   "cell_type": "markdown",
   "metadata": {},
   "source": []
  },
  {
   "cell_type": "markdown",
   "metadata": {},
   "source": [
    "  <title>Popcorn Hacks</title>\n",
    "  <style>\n",
    "    /* Style the title */\n",
    "    h1 {\n",
    "      color: #F08080;  /* Change text color to blue */\n",
    "      font-size: 200px; /* Set the size of the title */\n",
    "      font-family: Arial, sans-serif; /* Font style */\n",
    "    }\n",
    "  </style>\n",
    "  <html lang=\"en\">\n",
    "<head>\n",
    "  <meta charset=\"UTF-8\">\n",
    "  <meta name=\"viewport\" content=\"width=device-width, initial-scale=1.0\">\n",
    "  <style>\n",
    "    /* Style for the animated div */\n",
    "    .color-div {\n",
    "      width: 820px;\n",
    "      height: 20px;\n",
    "      background-color: #3498db; /* Initial color */\n",
    "      animation: colorAnimation 8s infinite; /* Color change animation */\n",
    "      display: flex;\n",
    "      justify-content: center;\n",
    "      align-items: center;\n",
    "      font-family: Arial, sans-serif;\n",
    "      font-size: 20px;\n",
    "      color: white;\n",
    "    }\n",
    "    /* Keyframes for color animation */\n",
    "    @keyframes colorAnimation {\n",
    "      0% { background-color: #3498db; } /* Blue */\n",
    "      25% { background-color: #e74c3c; } /* Red */\n",
    "      50% { background-color: #f1c40f; } /* Yellow */\n",
    "      75% { background-color: #2ecc71; } /* Green */\n",
    "      100% { background-color: #3498db; } /* Back to Blue */\n",
    "    }\n",
    "  </style>\n",
    "</head>\n",
    "<body>\n",
    "\n",
    "  <div class=\"color-div\"></div>\n",
    "\n",
    "</body>\n",
    "</html>\n"
   ]
  },
  {
   "cell_type": "markdown",
   "metadata": {},
   "source": [
    "<br>\n",
    "\n",
    "### Hack #1\n",
    "Create a list of data that could work with your GitHub Pages Blog Topic. For example, if your blog was about movies from different genres, make a list of movies for every genre. \n",
    "<br>\n",
    "<br>"
   ]
  },
  {
   "cell_type": "code",
   "execution_count": null,
   "metadata": {},
   "outputs": [],
   "source": [
    "# Define a dictionary with tech gadgets categorized by type\n",
    "tech_gadgets = {\n",
    "    \"Smartphones\": [\"iPhone 15\", \"Google Pixel 8\", \"Samsung Galaxy S23\"],\n",
    "    \"Laptops\": [\"MacBook Air\", \"Dell XPS 13\", \"Microsoft Surface Laptop 5\"],\n",
    "    \"Wearables\": [\"Apple Watch Series 9\", \"Fitbit Charge 5\", \"Garmin Fenix 7\"],\n",
    "    \"Headphones\": [\"Sony WH-1000XM5\", \"Bose QuietComfort 45\", \"AirPods Pro 2\"]\n",
    "}\n",
    "\n",
    "# Function to print the list of gadgets by category\n",
    "def print_gadgets(gadgets):\n",
    "    for category, items in gadgets.items():\n",
    "        print(f\"\\n{category}:\")\n",
    "        for item in items:\n",
    "            print(f\" - {item}\")\n",
    "\n",
    "# Call the function to display gadgets\n",
    "print_gadgets(tech_gadgets)\n"
   ]
  },
  {
   "cell_type": "markdown",
   "metadata": {},
   "source": [
    "<br>\n",
    "\n",
    "### Hack #2\n",
    "Try creating a dictionary for your github homepage that contains what was within each sprint.\n",
    "For example, in Sprint 1, we had frontend development, github pages playgroud, and javascript playground. \n",
    "<br>\n",
    "<br>"
   ]
  },
  {
   "cell_type": "code",
   "execution_count": null,
   "metadata": {},
   "outputs": [],
   "source": [
    "sprints = {\n",
    "    'Sprint1': ['Frontend Development', 'Github Pages Playground', 'Javascript Playground'],\n",
    "    'Sprint2': ['Big Ideas 3.2']\n",
    "}\n",
    "\n",
    "print(sprints['Sprint1'])\n",
    "if \"Frontend Development\" in sprints['Sprint1']:\n",
    "    print(True) \n",
    "else:\n",
    "    print(False)\n",
    "\n",
    "# Output:\n",
    "# ['Frontend Development', 'Github Pages Playground', 'Javascript Playground']\n",
    "# True"
   ]
  },
  {
   "cell_type": "markdown",
   "metadata": {},
   "source": [
    "<br>\n",
    "\n",
    "### Hack #3\n",
    "- Try to create a mix of list and dictionaries to represent a real world collection of data\n",
    "- The system i created is a Library System\n",
    "<br>\n",
    "<br>"
   ]
  },
  {
   "cell_type": "code",
   "execution_count": null,
   "metadata": {},
   "outputs": [],
   "source": [
    "# List of dictionaries representing books in a library\n",
    "library = [\n",
    "    {\n",
    "        \"title\": \"The Six of Crow\",\n",
    "        \"author\": \"Leigh Bardugo\",\n",
    "        \"genre\": \"Fantasy\",\n",
    "        \"copies_available\": 2,\n",
    "        \"borrowers\": [\n",
    "            {\"name\": \"Katherine Chen\", \"borrow_date\": \"2024-09-10\"},\n",
    "            {\"name\": \"Aditi Bandaru\", \"borrow_date\": \"2024-09-15\"}\n",
    "        ]\n",
    "    },\n",
    "    {\n",
    "        \"title\": \"A Game of Thrones\",\n",
    "        \"author\": \"George R.R. Martin\",\n",
    "        \"genre\": \"Action\",\n",
    "        \"copies_available\": 1,\n",
    "        \"borrowers\": [\n",
    "            {\"name\": \"Soni Dhenuva\", \"borrow_date\": \"2024-09-08\"}\n",
    "        ]\n",
    "    },\n",
    "    {\n",
    "        \"title\": \"Percy Jackson : The Last Olympian\",\n",
    "        \"author\": \"Rick Riordan\",\n",
    "        \"genre\": \"Adventure\",\n",
    "        \"copies_available\": 0,\n",
    "        \"borrowers\": [\n",
    "            {\"name\": \"Sanya Kapoor\", \"borrow_date\": \"2024-09-05\"},\n",
    "            \n",
    "        ]\n",
    "    }\n",
    "]\n",
    "\n",
    "# Display information about each book in the library\n",
    "for book in library:\n",
    "    print(f\"Title: {book['title']}\")\n",
    "    print(f\"Author: {book['author']}\")\n",
    "    print(f\"Genre: {book['genre']}\")\n",
    "    print(f\"Copies Available: {book['copies_available']}\")\n",
    "    print(\"Borrowers:\")\n",
    "    for borrower in book['borrowers']:\n",
    "        print(f\" - {borrower['name']} (Borrowed on: {borrower['borrow_date']})\")\n",
    "    print(\"\\n\")\n"
   ]
  }
 ],
 "metadata": {
  "language_info": {
   "name": "python"
  }
 },
 "nbformat": 4,
 "nbformat_minor": 2
}
