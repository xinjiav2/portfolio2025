{
 "cells": [
  {
   "cell_type": "raw",
   "metadata": {
    "vscode": {
     "languageId": "raw"
    }
   },
   "source": [
    "---\n",
    "layout: post\n",
    "title: 3.2 Data Types 1 -  Integers, Floating-Point Numbers, and Strings\n",
    "permalink: /csp/big-idea/DT1\n",
    "menu: nav/csp_units/csp_unit3_p1_fundamentals.html\n",
    "author: Sanya Kapoor\n",
    "comments: true\n",
    "---"
   ]
  },
  {
   "cell_type": "markdown",
   "metadata": {},
   "source": [
    "  <title>Integers, Floating-Point Numbers, and Strings</title>\n",
    "  <style>\n",
    "    /* Style the title */\n",
    "    h1 {\n",
    "      color: #F08080;  /* Change text color to blue */\n",
    "      font-size: 200px; /* Set the size of the title */\n",
    "      font-family: Arial, sans-serif; /* Font style */\n",
    "    }\n",
    "  </style>\n",
    "  <html lang=\"en\">\n",
    "<head>\n",
    "  <meta charset=\"UTF-8\">\n",
    "  <meta name=\"viewport\" content=\"width=device-width, initial-scale=1.0\">\n",
    "  <style>\n",
    "    /* Style for the animated div */\n",
    "    .color-div {\n",
    "      width: 820px;\n",
    "      height: 20px;\n",
    "      background-color: #3498db; /* Initial color */\n",
    "      animation: colorAnimation 8s infinite; /* Color change animation */\n",
    "      display: flex;\n",
    "      justify-content: center;\n",
    "      align-items: center;\n",
    "      font-family: Arial, sans-serif;\n",
    "      font-size: 20px;\n",
    "      color: white;\n",
    "    }\n",
    "    /* Keyframes for color animation */\n",
    "    @keyframes colorAnimation {\n",
    "      0% { background-color: #3498db; } /* Blue */\n",
    "      25% { background-color: #e74c3c; } /* Red */\n",
    "      50% { background-color: #f1c40f; } /* Yellow */\n",
    "      75% { background-color: #2ecc71; } /* Green */\n",
    "      100% { background-color: #3498db; } /* Back to Blue */\n",
    "    }\n",
    "  </style>\n",
    "</head>\n",
    "<body>\n",
    "\n",
    "  <div class=\"color-div\"></div>\n",
    "\n",
    "</body>\n",
    "</html>\n"
   ]
  },
  {
   "cell_type": "markdown",
   "metadata": {},
   "source": [
    "\n",
    "A data type defines the kind of value a variable can hold and what operations can be performed on it. \n",
    "<br>\n",
    "<br>"
   ]
  },
  {
   "cell_type": "markdown",
   "metadata": {},
   "source": [
    "## Integers\n",
    "Integers are whole numbers without decimal points. They can be positive, negative, or zero."
   ]
  },
  {
   "cell_type": "code",
   "execution_count": null,
   "metadata": {
    "vscode": {
     "languageId": "javascript"
    }
   },
   "outputs": [],
   "source": [
    "// Declare an integer In javascript\n",
    "let age = 25;\n",
    "console.log(\"Age: \" + age);  // Output: Age: 25"
   ]
  },
  {
   "cell_type": "code",
   "execution_count": null,
   "metadata": {},
   "outputs": [],
   "source": [
    "# Declare an integer in Python\n",
    "age = 25\n",
    "print(\"Age:\", age)  # Output: Age: 25"
   ]
  },
  {
   "cell_type": "markdown",
   "metadata": {
    "vscode": {
     "languageId": "javascript"
    }
   },
   "source": [
    "## Floating-Point Numbers\n",
    "Floating-point numbers, or \"floats,\" represent real numbers that contain a fractional part, expressed with decimals."
   ]
  },
  {
   "cell_type": "code",
   "execution_count": null,
   "metadata": {
    "vscode": {
     "languageId": "javascript"
    }
   },
   "outputs": [],
   "source": [
    "// Declare a floating-point number in Javascript\n",
    "let price = 19.99;\n",
    "console.log(\"Price: $\" + price);  // Output: Price: $19.99"
   ]
  },
  {
   "cell_type": "code",
   "execution_count": null,
   "metadata": {},
   "outputs": [],
   "source": [
    "# Declare a floating-point number in Python\n",
    "price = 19.99\n",
    "print(\"Price: $\", price)  # Output: Price: $ 19.99"
   ]
  },
  {
   "cell_type": "markdown",
   "metadata": {},
   "source": [
    "## Strings\n",
    "Strings are sequences of characters (letters, numbers, symbols) enclosed in quotes. They are used to represent text"
   ]
  },
  {
   "cell_type": "code",
   "execution_count": null,
   "metadata": {
    "vscode": {
     "languageId": "javascript"
    }
   },
   "outputs": [],
   "source": [
    "// Declare a string in Javascript\n",
    "let greeting = \"Hello, World!\";\n",
    "console.log(greeting);  // Output: Hello, World!"
   ]
  },
  {
   "cell_type": "code",
   "execution_count": null,
   "metadata": {},
   "outputs": [],
   "source": [
    "# Declare a string\n",
    "greeting = \"Hello, World!\"\n",
    "print(greeting)  # Output: Hello, World!"
   ]
  },
  {
   "cell_type": "code",
   "execution_count": null,
   "metadata": {},
   "outputs": [],
   "source": [
    "# Function to perform basic arithmetic operations\n",
    "def basic_calculator():\n",
    "    # Taking input from the user for the first number\n",
    "    num1 = input(\"Enter the first number: \")\n",
    "    # Checking if the input is a float or integer\n",
    "    if '.' in num1:\n",
    "        num1 = float(num1)\n",
    "    else:\n",
    "        num1 = int(num1)\n",
    "    # Taking input for the operator (+, -, *, /)\n",
    "    operator = input(\"Enter an operator (+, -, *, /): \")\n",
    "    # Taking input for the second number\n",
    "    num2 = input(\"Enter the second number: \")\n",
    "    if '.' in num2:\n",
    "        num2 = float(num2)\n",
    "    else:\n",
    "        num2 = int(num2)\n",
    "    # Performing the chosen operation\n",
    "    if operator == '+':\n",
    "        result = num1 + num2\n",
    "    elif operator == '-':\n",
    "        result = num1 - num2\n",
    "    elif operator == '*':\n",
    "        result = num1 * num2\n",
    "    elif operator == '/':\n",
    "        # Handle division by zero\n",
    "        if num2 == 0:\n",
    "            result = \"Error! Division by zero.\"\n",
    "        else:\n",
    "            result = num1 / num2\n",
    "    else:\n",
    "        result = \"Invalid operator!\"\n",
    "    # Printing the result\n",
    "    print(f\"The result is: {result}\")\n",
    "# Run the calculator function\n",
    "basic_calculator()"
   ]
  }
 ],
 "metadata": {
  "language_info": {
   "name": "python"
  }
 },
 "nbformat": 4,
 "nbformat_minor": 2
}
