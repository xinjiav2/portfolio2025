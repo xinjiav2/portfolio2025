{
 "cells": [
  {
   "cell_type": "raw",
   "metadata": {
    "vscode": {
     "languageId": "raw"
    }
   },
   "source": [
    "---\n",
    "layout: post\n",
    "title: 3.2 Homework\n",
    "permalink: /csp/big-idea/hw\n",
    "menu: nav/csp_units/csp_unit3_p1_fundamentals.html\n",
    "author: Soni Dhenuva, Katherine Chen, Aditi Bandaru, Sanya Kapoor\n",
    "comments: true\n",
    "---"
   ]
  },
  {
   "cell_type": "markdown",
   "metadata": {},
   "source": []
  },
  {
   "cell_type": "markdown",
   "metadata": {},
   "source": [
    "## Homework\n",
    "Create a list of data that could work with your GitHub Pages Blog Topic. For example, if your blog was about movies from different genres, make a list of movies for every genre. \n",
    "\n",
    "\n",
    "## Grading Rubric\n",
    "<iframe src=\"https://docs.google.com/presentation/d/1KSyiKC3XtuNdLN9GJTt7BHLQCwihntEZX8ILfoJ-KAg/embed?start=false&loop=false&delayms=3000\" frameborder=\"0\" width=\"768\" height=\"269\" allowfullscreen=\"true\" mozallowfullscreen=\"true\" webkitallowfullscreen=\"true\"></iframe>\n",
    "\n",
    "## Quiz\n",
    "<iframe src=\"https://docs.google.com/forms/d/e/1FAIpQLSeKIwcdy1y5lgn0MSpFcnO-BE6rdzkGwU6rTqK1QBg1rKUwOg/viewform?embedded=true\" width=\"640\" height=\"3192\" frameborder=\"0\" marginheight=\"0\" marginwidth=\"0\">Loading…</iframe>"
   ]
  }
 ],
 "metadata": {
  "language_info": {
   "name": "python"
  }
 },
 "nbformat": 4,
 "nbformat_minor": 2
}
