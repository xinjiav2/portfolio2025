{
 "cells": [
  {
   "cell_type": "raw",
   "metadata": {
    "vscode": {
     "languageId": "raw"
    }
   },
   "source": [
    "---\n",
    "layout: post\n",
    "title: 3.2 Data Types 2 - Lists, Tuples, Sets\n",
    "permalink: /csp/big-idea/DT2\n",
    "menu: nav/csp_units/csp_unit3_p1_fundamentals.html\n",
    "author: Aditi Bandaru\n",
    "comments: true\n",
    "---"
   ]
  },
  {
   "cell_type": "markdown",
   "metadata": {},
   "source": [
    "  <title>Lists, Tuples, Sets</title>\n",
    "  <style>\n",
    "    /* Style the title */\n",
    "    h1 {\n",
    "      color: #F08080;  /* Change text color to blue */\n",
    "      font-size: 200px; /* Set the size of the title */\n",
    "      font-family: Arial, sans-serif; /* Font style */\n",
    "    }\n",
    "  </style>\n",
    "  <html lang=\"en\">\n",
    "<head>\n",
    "  <meta charset=\"UTF-8\">\n",
    "  <meta name=\"viewport\" content=\"width=device-width, initial-scale=1.0\">\n",
    "  <style>\n",
    "    /* Style for the animated div */\n",
    "    .color-div {\n",
    "      width: 820px;\n",
    "      height: 20px;\n",
    "      background-color: #3498db; /* Initial color */\n",
    "      animation: colorAnimation 8s infinite; /* Color change animation */\n",
    "      display: flex;\n",
    "      justify-content: center;\n",
    "      align-items: center;\n",
    "      font-family: Arial, sans-serif;\n",
    "      font-size: 20px;\n",
    "      color: white;\n",
    "    }\n",
    "    /* Keyframes for color animation */\n",
    "    @keyframes colorAnimation {\n",
    "      0% { background-color: #3498db; } /* Blue */\n",
    "      25% { background-color: #e74c3c; } /* Red */\n",
    "      50% { background-color: #f1c40f; } /* Yellow */\n",
    "      75% { background-color: #2ecc71; } /* Green */\n",
    "      100% { background-color: #3498db; } /* Back to Blue */\n",
    "    }\n",
    "  </style>\n",
    "</head>\n",
    "<body>\n",
    "\n",
    "  <div class=\"color-div\"></div>\n",
    "\n",
    "</body>\n",
    "</html>\n"
   ]
  },
  {
   "cell_type": "markdown",
   "metadata": {},
   "source": [
    "\n",
    "These data types are all used to store multiple items in one variable. However, each data type have different formats and uses. \n"
   ]
  },
  {
   "cell_type": "markdown",
   "metadata": {
    "vscode": {
     "languageId": "plaintext"
    }
   },
   "source": [
    "## Javascript: Arrays\n",
    "Arrays in Javascript are the equivalent to Lists, Tuples, and Sets in Python\n",
    "<br>"
   ]
  },
  {
   "cell_type": "code",
   "execution_count": null,
   "metadata": {
    "vscode": {
     "languageId": "javascript"
    }
   },
   "outputs": [],
   "source": [
    "const sesame_street = [\"Elmo\", \"Cookie Monster\", \"Oscar the Grouch\", \"Grover\"] \n",
    "let sesame_street = sesame_street[0]"
   ]
  },
  {
   "cell_type": "markdown",
   "metadata": {},
   "source": [
    "# Lists\n",
    "Lists use <strong>square brackets []</strong> and are ordered and can be modfied (are changeable). Lists are best used for storing multiple values of the same or different data types. Items can be duplicated in lists. Lists can be modified (lists are mutable)."
   ]
  },
  {
   "cell_type": "code",
   "execution_count": null,
   "metadata": {},
   "outputs": [],
   "source": [
    "sesame = [\"Elmo\", \"Cookie Monster\", \"Oscar the Grouch\", \"Grover\"]\n",
    "print(sesame)\n",
    "\n",
    "# Lists are indexed. \"0\" = the first item, \"1\" = the second item, and so on\n",
    "print(sesame[2])\n",
    "\n",
    "# %%\n",
    "#looping this list\n",
    "for x in sesame:\n",
    "  print(x)\n",
    "\n",
    "# %%\n",
    "sesame = [\"Elmo\", \"Cookie Monster\", \"Oscar the Grouch\", \"Grover\"]\n",
    "print(sesame)\n",
    "\n",
    "sesame[3] = \"Big Bird\"\n",
    "print(sesame)"
   ]
  },
  {
   "cell_type": "markdown",
   "metadata": {},
   "source": [
    "# Tuples\n",
    "Tuples use <strong>round brackets ()</strong> and are ordered and are be defined/unmutable (cannot be changed). Tuples are useful for representing fixed sequences of data. Tuples are indexed so the first item is \"0\", the second item is \"1\", and so on. Items in tuples can be duplicated."
   ]
  },
  {
   "cell_type": "code",
   "execution_count": null,
   "metadata": {},
   "outputs": [],
   "source": [
    "\n",
    "teletubbies = (\"Dipsy\", \"Tinky-Winky\", \"Po\", \"Laa-Laa\")\n",
    "print(teletubbies)\n",
    "\n",
    "\n",
    "\n",
    "#What happens you try to change the tuple?\n",
    "teletubbies[2] = \"Dipsy\"\n",
    "\n",
    "#The tuple does not allow for the change to occur"
   ]
  },
  {
   "cell_type": "markdown",
   "metadata": {},
   "source": [
    "# Sets\n",
    "- Sets use <strong>curly brackets {}</strong> and are unordered and unmutable (cannot be changed). Sets are best used for tasks such as removing duplicates from a list or performing set operations. Duplicates aren't allowed in sets but adding and removing items are allowed. Indexing on sets can't be done because sets are unordered."
   ]
  },
  {
   "cell_type": "code",
   "execution_count": null,
   "metadata": {},
   "outputs": [],
   "source": [
    "# %%\n",
    "backyardigans = {\"Uniqua\", \"Pablo\", \"Tyrone\", \"Tasha\"}\n",
    "print(backyardigans)\n",
    "\n",
    "# %%\n",
    "#To add an item in a set:\n",
    "backyardigans.add(\"Austin\")\n",
    "print(backyardigans)\n",
    "\n",
    "#To remove an item in a set do: setname.remove\n",
    "#Example: backyardigans.remove(\"Pablo\")"
   ]
  },
  {
   "cell_type": "markdown",
   "metadata": {},
   "source": [
    "# Videos for additional information\n",
    "<iframe width=\"400\" height=\"250\" src=\"https://www.youtube.com/embed/gOMW_n2-2Mw\"></iframe>\n",
    "<br>\n",
    "<br>\n",
    "If you want a more in-depth one:\n",
    "<br>\n",
    "<br>\n",
    "<iframe width=\"400\" height=\"250\" src=\"https://www.youtube.com/embed/W8KRzm-HUcc\"></iframe>"
   ]
  },
  {
   "cell_type": "markdown",
   "metadata": {},
   "source": []
  }
 ],
 "metadata": {
  "language_info": {
   "name": "python"
  }
 },
 "nbformat": 4,
 "nbformat_minor": 2
}
