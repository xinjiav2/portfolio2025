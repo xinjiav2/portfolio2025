{
 "cells": [
  {
   "cell_type": "raw",
   "metadata": {
    "vscode": {
     "languageId": "raw"
    }
   },
   "source": [
    "---\n",
    "layout: post\n",
    "title: 3.2 Python Conversion to JSON\n",
    "permalink: /csp/big-idea/JSON\n",
    "menu: nav/csp_units/csp_unit3_p1_fundamentals.html\n",
    "author: Soni Dhenuva\n",
    "comments: true\n",
    "---"
   ]
  },
  {
   "cell_type": "markdown",
   "metadata": {},
   "source": [
    "  <title>JSON conversion</title>\n",
    "  <style>\n",
    "    /* Style the title */\n",
    "    h1 {\n",
    "      color: #F08080;  /* Change text color to blue */\n",
    "      font-size: 200px; /* Set the size of the title */\n",
    "      font-family: Arial, sans-serif; /* Font style */\n",
    "    }\n",
    "  </style>\n",
    "  <html lang=\"en\">\n",
    "<head>\n",
    "  <meta charset=\"UTF-8\">\n",
    "  <meta name=\"viewport\" content=\"width=device-width, initial-scale=1.0\">\n",
    "  <style>\n",
    "    /* Style for the animated div */\n",
    "    .color-div {\n",
    "      width: 820px;\n",
    "      height: 20px;\n",
    "      background-color: #3498db; /* Initial color */\n",
    "      animation: colorAnimation 8s infinite; /* Color change animation */\n",
    "      display: flex;\n",
    "      justify-content: center;\n",
    "      align-items: center;\n",
    "      font-family: Arial, sans-serif;\n",
    "      font-size: 20px;\n",
    "      color: white;\n",
    "    }\n",
    "    /* Keyframes for color animation */\n",
    "    @keyframes colorAnimation {\n",
    "      0% { background-color: #3498db; } /* Blue */\n",
    "      25% { background-color: #e74c3c; } /* Red */\n",
    "      50% { background-color: #f1c40f; } /* Yellow */\n",
    "      75% { background-color: #2ecc71; } /* Green */\n",
    "      100% { background-color: #3498db; } /* Back to Blue */\n",
    "    }\n",
    "  </style>\n",
    "</head>\n",
    "<body>\n",
    "\n",
    "  <div class=\"color-div\"></div>\n",
    "\n",
    "</body>\n",
    "</html>\n"
   ]
  },
  {
   "cell_type": "markdown",
   "metadata": {},
   "source": [
    "\n",
    "## Why is it necessary to convert Python code into JSON?\n",
    "<br>\n",
    "<br>\n",
    "\n",
    "### Cross-Platform Compatibility\n",
    "- JSON (JavaScript Object Notation) is a lightweight, text-based data format that is widely used across different platforms and programming languages. By converting Python data structures (such as dictionaries and lists) into JSON, you can easily share data between Python applications and systems written in other languages like JavaScript, Java, C++, or even mobile apps.\n",
    "<br>\n",
    "<br>\n",
    "\n",
    "### Data Transfer\n",
    "- JSON is compact and human-readable, making it suitable for transferring data over the internet (e.g., through RESTful APIs). By converting Python data into JSON, you ensure that the data can be transmitted efficiently between servers, applications, or browsers.\n",
    "<br>\n",
    "<br>"
   ]
  },
  {
   "cell_type": "markdown",
   "metadata": {},
   "source": [
    "### Converting Python list to JSON\n",
    "<br>\n",
    "<br>"
   ]
  },
  {
   "cell_type": "code",
   "execution_count": null,
   "metadata": {},
   "outputs": [],
   "source": [
    "import json\n",
    "\n",
    "# Python list\n",
    "data = [\"apple\", \"banana\", \"cherry\"]\n",
    "\n",
    "# Convert list to JSON\n",
    "json_data = json.dumps(data)\n",
    "print(json_data)  # Output: [\"apple\", \"banana\", \"cherry\"]"
   ]
  },
  {
   "cell_type": "markdown",
   "metadata": {},
   "source": [
    "<br>\n",
    "\n",
    "### Converting Python Dictionary To JSON\n",
    "<br>\n",
    "<br>"
   ]
  },
  {
   "cell_type": "code",
   "execution_count": null,
   "metadata": {},
   "outputs": [],
   "source": [
    "import json # you will need to import this library\n",
    "\n",
    "# python dictionary\n",
    "x = {\n",
    "  \"name\": \"Soni\",\n",
    "  \"age\": 15,\n",
    "  \"city\": \"San Diego\"\n",
    "}\n",
    "\n",
    "# convert into JSON\n",
    "# we first CALL the library and use the dumps() function\n",
    "# to call the library and use dumps(), we do json.dumps()\n",
    "\n",
    "# note: do you know of function machines in math? where you put in the variable, it does some operations, and outputs it?\n",
    "#       a code function is the same! it takes some data, does some code on it, and outputs it!\n",
    "\n",
    "\n",
    "# essentially, we say \"Hey! JSON library! I would like to use your dumps() function!\"\n",
    "# and then we give the function what we want to dump: \"Here is the thing I want to dump into JSON!\"\n",
    "# then the library says back \"Here you go! Here's your JSON! I stored it in the y variable!\"\n",
    "y = json.dumps(x) \n",
    "\n",
    "\n",
    "print(y) # the result is a JSON string\n"
   ]
  },
  {
   "cell_type": "markdown",
   "metadata": {},
   "source": [
    "<br>\n",
    "\n",
    "### Converting Python Tuple To JSON\n",
    "<br>\n",
    "<br>"
   ]
  },
  {
   "cell_type": "code",
   "execution_count": null,
   "metadata": {},
   "outputs": [],
   "source": [
    "import json\n",
    "\n",
    "# Python tuple\n",
    "coordinates = (10, 20)\n",
    "\n",
    "# Convert tuple to JSON\n",
    "json_coordinates = json.dumps(coordinates)\n",
    "print(json_coordinates)  # Output: [10, 20]"
   ]
  },
  {
   "cell_type": "markdown",
   "metadata": {},
   "source": [
    "<br>\n",
    "\n",
    "### Converting Python Boolean, None, and other types To JSON\n",
    "<br>\n",
    "<br>"
   ]
  },
  {
   "cell_type": "code",
   "execution_count": null,
   "metadata": {},
   "outputs": [],
   "source": [
    "import json\n",
    "\n",
    "# Python data with booleans and None\n",
    "data = {\n",
    "    \"isActive\": True,\n",
    "    \"count\": None\n",
    "}\n",
    "\n",
    "# Convert to JSON\n",
    "json_data = json.dumps(data)\n",
    "print(json_data)  # Output: {\"isActive\": true, \"count\": null}"
   ]
  },
  {
   "cell_type": "markdown",
   "metadata": {},
   "source": [
    "<br>\n",
    "\n",
    "### Formating The Code\n",
    "<br>\n",
    "<br>"
   ]
  },
  {
   "cell_type": "code",
   "execution_count": null,
   "metadata": {},
   "outputs": [],
   "source": [
    "# the result above isn't easy to read. let's fix that by formatting!\n",
    "\n",
    "import json\n",
    "\n",
    "x = {\n",
    "  \"name\": \"John\",\n",
    "  \"age\": 30,\n",
    "  \"city\": \"New York\"\n",
    "}\n",
    "\n",
    "print(\"Indent\")\n",
    "y = json.dumps(x, indent=4) # we call the function but say \"Please indent it for me!\"\n",
    "print(y + \"\\n\") # the \"\\n\" is a newline seperator and adds a space between each print statement\n",
    "\n",
    "print(\"Indent + seperator\")\n",
    "y = json.dumps(x, indent=4, separators=(\".\", \" = \")) # we change the seperator\n",
    "print(y + \"\\n\")\n",
    "\n",
    "print(\"Indent + seperator + sorted\")\n",
    "y = json.dumps(x, indent=4, separators=(\".\", \" = \"), sort_keys=True) # now we are sorting them\n",
    "print(y)\n"
   ]
  }
 ],
 "metadata": {
  "language_info": {
   "name": "python"
  }
 },
 "nbformat": 4,
 "nbformat_minor": 2
}
