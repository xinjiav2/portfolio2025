{
 "cells": [
  {
   "cell_type": "raw",
   "id": "2a07ae5e",
   "metadata": {
    "vscode": {
     "languageId": "raw"
    }
   },
   "source": [
    "---\n",
    "comments: true\n",
    "layout: post\n",
    "title: 3.3 Mathematical Operations\n",
    "description: Learn the different types of Mathematical Operations \n",
    "permalink: csp/big-idea/p5/3-3-3\n",
    "categories: [CSP Big Ideas]\n",
    "author: Ahmad, Soumini, Kush, Nikith\n",
    "menu: nav/csp_units/csp_unit3_p5_fundamentals.html\n",
    "---"
   ]
  },
  {
   "cell_type": "markdown",
   "id": "4a56391f",
   "metadata": {},
   "source": [
    "<style>\n",
    "article {\n",
    "    background-color: #493149 !important;\n",
    "    color: #A88AA4 !important; /* Change text color */\n",
    "    border: 2px solid #312131 !important;\n",
    "    padding: 20px !important;\n",
    "    border-radius: 64px !important;\n",
    "}\n",
    "</style>"
   ]
  },
  {
   "cell_type": "markdown",
   "id": "b67575ea",
   "metadata": {},
   "source": [
    "# **Homework(Do in both Python and Javascript!**\n",
    "- Create a calculator function that takes 2 predecided numbers of your choice and adds, subracts, divides, multiplies, and uses the exponent function. (NO INPUT). \n",
    "- Finish popcorn hacks. **If you copy paste from the examples, we WILL make you take a (different, much harder) quiz and grade it.**\n",
    "- Submit a screenshot of your code and output in this link. You must use your school email. [Submit](https://forms.gle/SSXTkyUbdRfdT5o96 )\n",
    "- Fill out this quiz to test your knowledge on mathematical operators: Quiz is not used for grading! [Quiz](https://forms.gle/qYqfBbseu1692xdU8)\n",
    "\n",
    "|**Homework**             | **Weightage** | **Grade** | **Comments** |\n",
    "|-------------------------|---------------|-----------|--------------|\n",
    "| Popcorn Hack 1          | 22.5            | TBD     | TBD          |           \n",
    "| Popcorn Hack 2          | 22.5            | TBD     | TBD          |\n",
    "| Popcorn Hack 3          | 22.5            | TBD     | TBD          |\n",
    "| Homework                | 22.5            | TBD     | TBD          |\n",
    "| **Total**               | **90**          |         |              |"
   ]
  }
 ],
 "metadata": {
  "kernelspec": {
   "display_name": "Python 3 (ipykernel)",
   "language": "python",
   "name": "python3"
  },
  "language_info": {
   "codemirror_mode": {
    "name": "ipython",
    "version": 3
   },
   "file_extension": ".py",
   "mimetype": "text/x-python",
   "name": "python",
   "nbconvert_exporter": "python",
   "pygments_lexer": "ipython3",
   "version": "3.10.12"
  }
 },
 "nbformat": 4,
 "nbformat_minor": 5
}
