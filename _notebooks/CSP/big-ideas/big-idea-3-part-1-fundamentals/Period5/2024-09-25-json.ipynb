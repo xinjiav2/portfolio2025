{
  "cells": [
    {
      "cell_type": "raw",
      "metadata": {
        "vscode": {
          "languageId": "raw"
        }
      },
      "source": [
        "---\n",
        "layout: post\n",
        "title: 3.2 - Data Abstraction | JSON\n",
        "description: Nolan & Jacob's Data Abstraction Presentation\n",
        "author: Jacob\n",
        "toc: true\n",
        "comments: true\n",
        "menu: nav/csp_units/csp_unit3_p5_fundamentals.html\n",
        "permalink: /csp/big-idea/p5/3-2-2\n",
        "---"
      ]
    },
    {
      "cell_type": "code",
      "execution_count": 6,
      "metadata": {},
      "outputs": [
        {
          "data": {
            "text/html": [
              "<style>:root {--light-pink: #ffccdd; --medium-pink: #ff66b3; --dark-pink: #ff3385; --accent-pink: #ff99cc; --background-pink: #ffe6f0;} body {background-color: var(--background-pink) !important; color: var(--dark-pink) !important;} header {background-color: var(--medium-pink) !important; color: white !important; padding: 10px 20px !important; border-radius: 8px !important; border-bottom: 2px solid var(--dark-pink) !important;} article {background-color: var(--light-pink) !important; color: var(--dark-pink) !important; border: 2px solid var(--medium-pink) !important; padding: 20px !important; border-radius: 8px !important;} a {color: var(--accent-pink) !important;} a:hover {color: var(--dark-pink) !important;} h1, h2, h3, h4 {color: white !important;} blockquote {background-color: #272726 !important; border-left: 4px solid var(--medium-pink) !important; color: var(--dark-pink) !important; padding: 10px 20px !important; margin: 10px 0 !important; border-radius: 4px !important;} code {background-color: var(--accent-pink) !important; color: white !important; padding: 2px 4px !important; border-radius: 4px !important;} .site-nav {background-color: var(--medium-pink) !important;} table td {background-color: var(--dark-pink) !important;}</style>"
            ],
            "text/plain": [
              "<IPython.core.display.HTML object>"
            ]
          },
          "execution_count": 6,
          "metadata": {},
          "output_type": "execute_result"
        }
      ],
      "source": [
        "from IPython.core.display import HTML; set_custom_css = lambda: HTML('<style>:root {--light-pink: #ffccdd; --medium-pink: #ff66b3; --dark-pink: #ff3385; --accent-pink: #ff99cc; --background-pink: #ffe6f0;} body {background-color: var(--background-pink) !important; color: var(--dark-pink) !important;} article {background-color: var(--light-pink) !important; color: var(--dark-pink) !important; border: 2px solid var(--medium-pink) !important; padding: 20px !important; border-radius: 8px !important;} a {color: var(--accent-pink) !important;} a:hover {color: var(--dark-pink) !important;} h1, h2, h3, h4 {color: white !important;} blockquote {background-color: #272726 !important; border-left: 4px solid var(--medium-pink) !important; color: var(--dark-pink) !important; padding: 10px 20px !important; margin: 10px 0 !important; border-radius: 4px !important;} code {background-color: var(--accent-pink) !important; color: white !important; padding: 2px 4px !important; border-radius: 4px !important;} .site-nav {background-color: var(--medium-pink) !important;} table td {background-color: var(--dark-pink) !important;}</style>'); set_custom_css()\n"
      ]
    },
    {
      "cell_type": "markdown",
      "metadata": {},
      "source": [
        "| [3.2.1](/portfolio_2025/csp/big-idea/p5/3-2-1) | [3.2.2](/portfolio_2025/csp/big-idea/p5/3-2-2) | [3.2.3](/portfolio_2025/csp/big-idea/p5/3-2-3) |\n"
      ]
    },
    {
      "cell_type": "markdown",
      "metadata": {},
      "source": [
        "## Using JSON\n",
        "\n",
        "JSON = JavaScript Object Notation.\n",
        "Similar (almost the same) as a `dict`. Used to store and transfer data easily, this is the form of data transferred in most APIs (99.99999%)\n",
        "\n",
        "### Python to JSON\n"
      ]
    },
    {
      "cell_type": "code",
      "execution_count": 7,
      "metadata": {},
      "outputs": [
        {
          "name": "stdout",
          "output_type": "stream",
          "text": [
            "{\"name\": \"Mercedes CLR GTR\", \"performance\": {\"engine\": \"6.0-liter V12\", \"horsepower\": 600, \"acceleration\": \"0 to 100 km/h in 3.7 seconds\", \"top_speed\": \"over 320 km/h\"}, \"features\": {\"aerodynamics\": \"advanced\", \"stability_technologies\": \"cutting-edge\", \"stability_control\": \"exceptional during high-speed maneuvers\"}, \"pricing\": {\"original_price\": \"$1.5 million\", \"production_run\": 5, \"rarity\": \"highly sought after by racing enthusiasts and collectors\"}}\n"
          ]
        }
      ],
      "source": [
        "import json # make sure to import this or it will break ur code\n",
        "\n",
        "# dict\n",
        "mercedes_clr_gtr = {\n",
        "    \"name\": \"Mercedes CLR GTR\",\n",
        "    \"performance\": {\n",
        "        \"engine\": \"6.0-liter V12\",\n",
        "        \"horsepower\": 600,\n",
        "        \"acceleration\": \"0 to 100 km/h in 3.7 seconds\",\n",
        "        \"top_speed\": \"over 320 km/h\"\n",
        "    },\n",
        "    \"features\": {\n",
        "        \"aerodynamics\": \"advanced\",\n",
        "        \"stability_technologies\": \"cutting-edge\",\n",
        "        \"stability_control\": \"exceptional during high-speed maneuvers\"\n",
        "    },\n",
        "    \"pricing\": {\n",
        "        \"original_price\": \"$1.5 million\",\n",
        "        \"production_run\": 5,\n",
        "        \"rarity\": \"highly sought after by racing enthusiasts and collectors\"\n",
        "    }\n",
        "}\n",
        "\n",
        "# as you can see, you can mix and match different data types such as strings, int/floats, bools, dicts, lists, etc\n",
        "\n",
        "jsonstring = json.dumps(mercedes_clr_gtr) \n",
        "\n",
        "print(jsonstring)"
      ]
    },
    {
      "cell_type": "markdown",
      "metadata": {},
      "source": [
        "#### Popcorn Hack!\n",
        "Make your own example using `dict` with a car (you can search up its specs)"
      ]
    },
    {
      "cell_type": "markdown",
      "metadata": {},
      "source": [
        "### Formatting"
      ]
    },
    {
      "cell_type": "code",
      "execution_count": 8,
      "metadata": {},
      "outputs": [
        {
          "name": "stdout",
          "output_type": "stream",
          "text": [
            "Example 1:\n",
            " {\"name\": \"Porsche 911\", \"performance\": {\"engine\": \"3.0-liter twin-turbo flat-six\", \"horsepower\": 379, \"acceleration\": \"0 to 100 km/h in 4.2 seconds\", \"top_speed\": \"291 km/h\"}, \"features\": {\"driving_assistance\": \"adaptive cruise control\", \"exterior\": \"iconic design\", \"interior\": \"premium materials\"}, \"pricing\": {\"original_price\": \"$101,200\", \"production_run\": \"ongoing\", \"rarity\": \"exclusive\"}}\n",
            "\n",
            "Example 2:\n",
            " {\n",
            "  \"name\": \"Porsche 911\",\n",
            "  \"performance\": {\n",
            "    \"engine\": \"3.0-liter twin-turbo flat-six\",\n",
            "    \"horsepower\": 379,\n",
            "    \"acceleration\": \"0 to 100 km/h in 4.2 seconds\",\n",
            "    \"top_speed\": \"291 km/h\"\n",
            "  },\n",
            "  \"features\": {\n",
            "    \"driving_assistance\": \"adaptive cruise control\",\n",
            "    \"exterior\": \"iconic design\",\n",
            "    \"interior\": \"premium materials\"\n",
            "  },\n",
            "  \"pricing\": {\n",
            "    \"original_price\": \"$101,200\",\n",
            "    \"production_run\": \"ongoing\",\n",
            "    \"rarity\": \"exclusive\"\n",
            "  }\n",
            "}\n",
            "\n",
            "Example 3:\n",
            " {\n",
            "    \"name\": \"Porsche 911\",\n",
            "    \"performance\": {\n",
            "        \"engine\": \"3.0-liter twin-turbo flat-six\",\n",
            "        \"horsepower\": 379,\n",
            "        \"acceleration\": \"0 to 100 km/h in 4.2 seconds\",\n",
            "        \"top_speed\": \"291 km/h\"\n",
            "    },\n",
            "    \"features\": {\n",
            "        \"driving_assistance\": \"adaptive cruise control\",\n",
            "        \"exterior\": \"iconic design\",\n",
            "        \"interior\": \"premium materials\"\n",
            "    },\n",
            "    \"pricing\": {\n",
            "        \"original_price\": \"$101,200\",\n",
            "        \"production_run\": \"ongoing\",\n",
            "        \"rarity\": \"exclusive\"\n",
            "    }\n",
            "}\n"
          ]
        }
      ],
      "source": [
        "import json\n",
        "\n",
        "porsche_911 = {\n",
        "    \"name\": \"Porsche 911\",\n",
        "    \"performance\": {\n",
        "        \"engine\": \"3.0-liter twin-turbo flat-six\",\n",
        "        \"horsepower\": 379,\n",
        "        \"acceleration\": \"0 to 100 km/h in 4.2 seconds\",\n",
        "        \"top_speed\": \"291 km/h\"\n",
        "    },\n",
        "    \"features\": {\n",
        "        \"driving_assistance\": \"adaptive cruise control\",\n",
        "        \"exterior\": \"iconic design\",\n",
        "        \"interior\": \"premium materials\"\n",
        "    },\n",
        "    \"pricing\": {\n",
        "        \"original_price\": \"$101,200\",\n",
        "        \"production_run\": \"ongoing\",\n",
        "        \"rarity\": \"exclusive\"\n",
        "    }\n",
        "}\n",
        "\n",
        "# Example 1: Default formatting\n",
        "json_string_1 = json.dumps(porsche_911)\n",
        "print(\"Example 1:\\n\", json_string_1)\n",
        "\n",
        "# Example 2: Pretty-printing with 2 spaces indentation\n",
        "json_string_2 = json.dumps(porsche_911, indent=2)\n",
        "print(\"\\nExample 2:\\n\", json_string_2)\n",
        "\n",
        "# Example 3: Pretty-printing with no spaces between keys and values\n",
        "json_string_3 = json.dumps(porsche_911, indent=4, separators=(',', ': '))\n",
        "print(\"\\nExample 3:\\n\", json_string_3)\n"
      ]
    },
    {
      "cell_type": "markdown",
      "metadata": {},
      "source": [
        "### JSON to Python"
      ]
    },
    {
      "cell_type": "code",
      "execution_count": 9,
      "metadata": {},
      "outputs": [
        {
          "name": "stdout",
          "output_type": "stream",
          "text": [
            "{'name': 'John', 'age': 30, 'city': 'New York'}\n",
            "30\n"
          ]
        }
      ],
      "source": [
        "import json\n",
        "\n",
        "x =  '{ \"name\":\"John\", \"age\":30, \"city\":\"New York\"}' # mr morts example json (im too lazy to come up with something original the mercedes clr gtr took waay to much time)\n",
        "\n",
        "y = json.loads(x) # js equivalent is JSON.parse()\n",
        "\n",
        "print(y) # returns a dict\n",
        "print(y[\"age\"])"
      ]
    },
    {
      "cell_type": "markdown",
      "metadata": {},
      "source": [
        "## Assignment!\n",
        "\n",
        "Create code that does the following\n",
        "* Uses a dictionary\n",
        "* Contains at least 3 **different** types of variables in the dict, one of which must be a list\n",
        "* Changes keys in the dict, including a key in the list\n",
        "* Converts the dict to JSON\n",
        "\n",
        "**Extra Credit:** do some kind of math in your code to change a key\n",
        "\n",
        "Ideas: some recipe thing.\n",
        "\n",
        "*Here's Nolan's example:*"
      ]
    },
    {
      "cell_type": "code",
      "execution_count": 10,
      "metadata": {},
      "outputs": [
        {
          "name": "stdout",
          "output_type": "stream",
          "text": [
            "{'owner': 'Lil Bro', 'dollars': 50, 'food': ['apps', 'pizza', 'banana']}\n",
            "['apps', 'pizza', 'half-eaten banana']\n",
            "25.0\n",
            "{\"owner\": \"Lil Bro\", \"dollars\": 25.0, \"food\": [\"apps\", \"pizza\", \"half-eaten banana\"]}\n"
          ]
        }
      ],
      "source": [
        "import json # make sure to skibidi import\n",
        "\n",
        "possesions = {\n",
        "    \"owner\": \"Lil Bro\",\n",
        "    \"dollars\": 50,\n",
        "    \"food\": [\n",
        "        \"apps\",\n",
        "        \"pizza\",\n",
        "        \"banana\"\n",
        "    ]\n",
        "}\n",
        "\n",
        "print(possesions)\n",
        "# bob the minion eats part of the banana\n",
        "possesions[\"food\"][2] = \"half-eaten banana\"\n",
        "print(possesions[\"food\"])\n",
        "# fanum tax\n",
        "possesions[\"dollars\"] = possesions[\"dollars\"] / 2\n",
        "print(possesions[\"dollars\"]) # notice that it changes to a float\n",
        "\n",
        "# json\n",
        "print(json.dumps(possesions))"
      ]
    }
  ],
  "metadata": {
    "kernelspec": {
      "display_name": "Python 3",
      "language": "python",
      "name": "python3"
    },
    "language_info": {
      "codemirror_mode": {
        "name": "ipython",
        "version": 3
      },
      "file_extension": ".py",
      "mimetype": "text/x-python",
      "name": "python",
      "nbconvert_exporter": "python",
      "pygments_lexer": "ipython3",
      "version": "3.11.2"
    },
    "orig_nbformat": 4
  },
  "nbformat": 4,
  "nbformat_minor": 2
}
