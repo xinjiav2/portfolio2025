{
 "cells": [
  {
   "cell_type": "raw",
   "metadata": {
    "vscode": {
     "languageId": "raw"
    }
   },
   "source": [
    "---\n",
    "toc: false\n",
    "comments: true\n",
    "layout: post\n",
    "title: 3.4 Python Strings\n",
    "description: Learning how to use strings in Python\n",
    "permalink: /csp/big-idea/3.4/py/strings\n",
    "categories: [CSP Big Ideas]\n",
    "author: Aadi, Aaditya, Aditya, Kanhay\n",
    "menu: nav/csp_units/csp_unit3_p5_fundamentals.html\n",
    "---"
   ]
  },
  {
   "cell_type": "markdown",
   "metadata": {
    "vscode": {
     "languageId": "raw"
    }
   },
   "source": [
    "<style>\n",
    "body {\n",
    "    background-color: navy;\n",
    "}\n",
    "</style>"
   ]
  },
  {
   "cell_type": "markdown",
   "metadata": {},
   "source": [
    "<style>\n",
    "body {\n",
    "    background-color: #e6f0ff !important;\n",
    "    color: black !important;\n",
    "}\n",
    "article {\n",
    "    background-color: #cce5ff !important;\n",
    "    color: black !important;\n",
    "    border: 2px solid #66b3ff !important;\n",
    "    padding: 20px !important;\n",
    "    border-radius: 64px !important;\n",
    "}\n",
    "h1, h2, h3, h4, p {\n",
    "    color: black !important;\n",
    "}\n",
    "blockquote {\n",
    "    background-color: #272726 !important;\n",
    "    border-left: 4px solid #66b3ff !important;\n",
    "    color: black !important;\n",
    "    padding: 10px 20px !important;\n",
    "    margin: 10px 0 !important;\n",
    "    border-radius: 64px !important;\n",
    "}\n",
    "code {\n",
    "    color: white !important;\n",
    "    padding: 2px 4px !important;\n",
    "    border-radius: 64px !important;\n",
    "}\n",
    "</style>"
   ]
  },
  {
   "cell_type": "markdown",
   "metadata": {},
   "source": [
    "## Introduction to Strings in Python\n",
    "\n",
    "A string is a sequence of characters enclosed in quotes.\n",
    "\n",
    "Python provides a variety of methods that we can use to manipulate strings."
   ]
  },
  {
   "cell_type": "code",
   "execution_count": 1,
   "metadata": {},
   "outputs": [
    {
     "name": "stdout",
     "output_type": "stream",
     "text": [
      "Hello, World!\n",
      "This is a multi-line string.\n",
      "It can span multiple lines.\n"
     ]
    }
   ],
   "source": [
    "# Example of strings\n",
    "single_quote_str = 'Hello, World!'\n",
    "triple_quote_str = '''This is a multi-line string.\n",
    "It can span multiple lines.'''\n",
    "\n",
    "print(single_quote_str)\n",
    "print(triple_quote_str)"
   ]
  },
  {
   "cell_type": "code",
   "execution_count": 2,
   "metadata": {},
   "outputs": [
    {
     "name": "stdout",
     "output_type": "stream",
     "text": [
      "HELLO, WORLD!\n"
     ]
    }
   ],
   "source": [
    "# 1. upper() - Converts all characters in the string to uppercase.\n",
    "print(single_quote_str.upper())"
   ]
  },
  {
   "cell_type": "code",
   "execution_count": 3,
   "metadata": {},
   "outputs": [
    {
     "name": "stdout",
     "output_type": "stream",
     "text": [
      "hello, world!\n"
     ]
    }
   ],
   "source": [
    "# 2. lower() - Converts all characters in the string to lowercase.\n",
    "print(single_quote_str.lower())"
   ]
  },
  {
   "cell_type": "code",
   "execution_count": 4,
   "metadata": {},
   "outputs": [
    {
     "name": "stdout",
     "output_type": "stream",
     "text": [
      "Hello, world!\n"
     ]
    }
   ],
   "source": [
    "# 3. capitalize() - Capitalizes the first character of the string.\n",
    "print(single_quote_str.capitalize())"
   ]
  },
  {
   "cell_type": "code",
   "execution_count": 5,
   "metadata": {},
   "outputs": [
    {
     "name": "stdout",
     "output_type": "stream",
     "text": [
      "Hooray, World!\n"
     ]
    }
   ],
   "source": [
    "# 4. replace() - Replaces a substring with another substring.\n",
    "print(single_quote_str.replace(\"Hello\", \"Hooray\"))"
   ]
  },
  {
   "cell_type": "code",
   "execution_count": 6,
   "metadata": {},
   "outputs": [
    {
     "name": "stdout",
     "output_type": "stream",
     "text": [
      "['Hello', ' World!']\n"
     ]
    }
   ],
   "source": [
    "# 5. split() - Splits the string into a list of substrings based on a delimiter.\n",
    "print(single_quote_str.split(','))"
   ]
  },
  {
   "cell_type": "code",
   "execution_count": 7,
   "metadata": {},
   "outputs": [
    {
     "name": "stdout",
     "output_type": "stream",
     "text": [
      "Python is fun\n"
     ]
    }
   ],
   "source": [
    "# 6. join() - Joins a list of strings into a single string with a specified delimiter.\n",
    "words = ['Python', 'is', 'fun']\n",
    "print(' '.join(words))"
   ]
  },
  {
   "cell_type": "code",
   "execution_count": 8,
   "metadata": {},
   "outputs": [
    {
     "name": "stdout",
     "output_type": "stream",
     "text": [
      "True\n",
      "False\n"
     ]
    }
   ],
   "source": [
    "# 7. isnumeric() - Checks if all the characters in the string are numeric (0-9).\n",
    "# It returns True if all characters are numeric, otherwise it returns False.\n",
    "\n",
    "numeric_str = \"12345\"\n",
    "non_numeric_str = \"123abc\"\n",
    "\n",
    "print(numeric_str.isnumeric())  # True\n",
    "print(non_numeric_str.isnumeric())  # False"
   ]
  },
  {
   "cell_type": "markdown",
   "metadata": {},
   "source": [
    "# Functions for Strings \n",
    "<br>\n",
    "Python provides a variety of functions that we can use to manipulate strings.\n",
    "Functions are reusable blocks of code that perform a specific task and can be called with different inputs to get different outputs."
   ]
  },
  {
   "cell_type": "code",
   "execution_count": 9,
   "metadata": {},
   "outputs": [
    {
     "name": "stdout",
     "output_type": "stream",
     "text": [
      "14\n"
     ]
    }
   ],
   "source": [
    "coolString = \"Python is cool\"\n",
    "\n",
    "# 1. len() - Returns the length of the string.\n",
    "print(len(coolString))"
   ]
  },
  {
   "cell_type": "code",
   "execution_count": 10,
   "metadata": {},
   "outputs": [
    {
     "name": "stdout",
     "output_type": "stream",
     "text": [
      "123\n"
     ]
    }
   ],
   "source": [
    "# 2. str() - Converts a value to a string.\n",
    "num = 123\n",
    "print(str(num))"
   ]
  },
  {
   "cell_type": "code",
   "execution_count": 11,
   "metadata": {},
   "outputs": [
    {
     "name": "stdout",
     "output_type": "stream",
     "text": [
      "My name is Aaditya and I am 132 years old.\n"
     ]
    }
   ],
   "source": [
    "# 3. f-strings - Formats strings using placeholders inside curly braces.\n",
    "name = \"Aaditya\"\n",
    "age = 132\n",
    "print(f\"My name is {name} and I am {age} years old.\")"
   ]
  },
  {
   "cell_type": "code",
   "execution_count": 12,
   "metadata": {},
   "outputs": [
    {
     "name": "stdout",
     "output_type": "stream",
     "text": [
      "10\n"
     ]
    }
   ],
   "source": [
    "coolString = \"Python is cool\"\n",
    "\n",
    "# 4. find() - Returns the lowest index of the substring if it is found in the string.\n",
    "substring = \"cool\"\n",
    "print(coolString.find(substring))  # Output: 7"
   ]
  },
  {
   "cell_type": "markdown",
   "metadata": {},
   "source": [
    "<script>\n",
    "    // Function to check the answer\n",
    "    function checkAnswer(questionNumber, correctOption) {\n",
    "        const selectedOption = document.querySelector(`input[name=\"q${questionNumber}\"]:checked`);\n",
    "        \n",
    "        if (selectedOption) {\n",
    "            const userAnswer = selectedOption.value;\n",
    "            if (userAnswer === correctOption) {\n",
    "                alert(\"✅ Correct!\");\n",
    "            } else {\n",
    "                alert(\"❌ Incorrect!\");\n",
    "            }\n",
    "        } else {\n",
    "            alert(\"Please select an answer!\");\n",
    "        }\n",
    "    }\n",
    "</script>\n",
    "\n",
    "<div class=\"quiz-container\">\n",
    "    <div class=\"question\">\n",
    "        <p>Which of the following is a valid way to define a string in Python?</p>\n",
    "        <input type=\"radio\" name=\"q1\" value=\"A\">string1 = 'Hello'<br>\n",
    "        <input type=\"radio\" name=\"q1\" value=\"B\">string1 = Hello<br>\n",
    "        <input type=\"radio\" name=\"q1\" value=\"C\">string1 = Hello'<br>\n",
    "        <br>\n",
    "        <button onclick=\"checkAnswer(1, 'A')\">Submit Answer</button>\n",
    "    </div>\n",
    "    <div class=\"question\">\n",
    "        <p>What does the .upper() method do?</p>\n",
    "        <input type=\"radio\" name=\"q2\" value=\"A\">Converts all characters to lowercase<br>\n",
    "        <input type=\"radio\" name=\"q2\" value=\"B\">Converts all characters to uppercase<br>\n",
    "        <input type=\"radio\" name=\"q2\" value=\"C\">Capitalizes the first letter only<br>\n",
    "        <br>\n",
    "        <button onclick=\"checkAnswer(2, 'B')\">Submit Answer</button>\n",
    "    </div>\n",
    "    <div class=\"question\">\n",
    "        <p>Given string1 = \"Hello, World!\", what is the output of string1.lower()?</p>\n",
    "        <input type=\"radio\" name=\"q3\" value=\"A\">HELLO, WORLD!<br>\n",
    "        <input type=\"radio\" name=\"q3\" value=\"B\">hello, world!<br>\n",
    "        <input type=\"radio\" name=\"q3\" value=\"C\">Hello, World!<br>\n",
    "        <br>\n",
    "        <button onclick=\"checkAnswer(3, 'B')\">Submit Answer</button>\n",
    "    </div>\n",
    "</div>\n",
    "\n",
    "\n",
    "<style>\n",
    "    body {\n",
    "        background-color: #f4f4f4;\n",
    "        color: white;\n",
    "        padding: 20px;\n",
    "    }\n",
    "    h2 {\n",
    "        color: white;\n",
    "    }\n",
    "    .quiz-container {\n",
    "        background-color: #333333;\n",
    "        border-radius: 8px;\n",
    "        box-shadow: 0 4px 8px rgba(0, 0, 0, 0.1);\n",
    "        padding: 20px;\n",
    "        max-width: 600px;\n",
    "        margin: 0 auto;\n",
    "    }\n",
    "    .question {\n",
    "        margin-bottom: 20px;\n",
    "    }\n",
    "    .question p {\n",
    "        font-size: 18px;\n",
    "        margin-bottom: 10px;\n",
    "    }\n",
    "    .question input {\n",
    "        margin-right: 10px;\n",
    "    }\n",
    "    .question button {\n",
    "        background-color: #0056b3;\n",
    "        color: white;\n",
    "        border: none;\n",
    "        padding: 10px 20px;\n",
    "        border-radius: 4px;\n",
    "        cursor: pointer;\n",
    "        transition: background-color 0.3s;\n",
    "    }\n",
    "    .question button:hover {\n",
    "        background-color: #003d80;\n",
    "    }\n",
    "</style>\n"
   ]
  }
 ],
 "metadata": {
  "kernelspec": {
   "display_name": "venv",
   "language": "python",
   "name": "python3"
  },
  "language_info": {
   "codemirror_mode": {
    "name": "ipython",
    "version": 3
   },
   "file_extension": ".py",
   "mimetype": "text/x-python",
   "name": "python",
   "nbconvert_exporter": "python",
   "pygments_lexer": "ipython3",
   "version": "3.10.12"
  }
 },
 "nbformat": 4,
 "nbformat_minor": 2
}
