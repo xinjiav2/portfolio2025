{
 "cells": [
  {
   "cell_type": "raw",
   "id": "2a07ae5e",
   "metadata": {
    "vscode": {
     "languageId": "raw"
    }
   },
   "source": [
    "---\n",
    "comments: true\n",
    "layout: post\n",
    "title: 3.3 Mathematical Operations\n",
    "description: Learn the different types of Mathematical Operations \n",
    "permalink: csp/big-idea/p5/3-3-1\n",
    "categories: [CSP Big Ideas]\n",
    "author: Ahmad, Soumini, Kush, Nikith\n",
    "menu: nav/csp_units/csp_unit3_p5_fundamentals.html\n",
    "---"
   ]
  },
  {
   "cell_type": "markdown",
   "id": "7b041d0b",
   "metadata": {},
   "source": [
    "<style>\n",
    "article {\n",
    "    background-color: #493149 !important;\n",
    "    color: #A88AA4 !important; /* Change text color */\n",
    "    border: 2px solid #312131 !important;\n",
    "    padding: 20px !important;\n",
    "    border-radius: 64px !important;\n",
    "}\n",
    "</style>"
   ]
  },
  {
   "cell_type": "markdown",
   "id": "be083eed",
   "metadata": {},
   "source": [
    "\n",
    "\n",
    "# **Important Terms :)**\n",
    " - Algorithm: A list of steps that occur in a specific order\n",
    " - Sequencing: Things are done in order\n",
    " - Flow chart: A way to write an algorithm; use arrows to tell the descision\n",
    " - Psuedo code: Fake code. It's verbal instructions and comments on what each section is doing\n",
    "\n",
    " ## **Continued Mathematical Operators**\n",
    " \n",
    "This is kind of like your vocab list: \n",
    "\n",
    "- Addition: a + b\n",
    "- Subtraction: a - b\n",
    "- Multiplication: a * b\n",
    "- Division: a / b\n",
    "- Exponents: a ** b\n",
    "- Modulus(remainder of a / b): a MOD b\n",
    "    - MOD is %\n",
    "- Floor division(rounds to the nearest whole number): \n",
    "    - In python a // b \n",
    "    - Javascript doesn't have an operator so use Math.floor(a / b)\n",
    "- Math is in order of operations\n",
    "\n",
    "### Some Examples: \n",
    "```python\n",
    "first = 2\n",
    "second = 4\n",
    "\n",
    "print(first + second)    # Output is 6\n",
    "print(first - second)    # Output is -2\n",
    "print(second / first)     # Output is 2.0 (division returns a float)\n",
    "print(first ** second)   # Output is 16 (2 raised to the power of 4)\n",
    "```\n",
    "\n"
   ]
  }
 ],
 "metadata": {
  "kernelspec": {
   "display_name": "venv",
   "language": "python",
   "name": "python3"
  },
  "language_info": {
   "codemirror_mode": {
    "name": "ipython",
    "version": 3
   },
   "file_extension": ".py",
   "mimetype": "text/x-python",
   "name": "python",
   "nbconvert_exporter": "python",
   "pygments_lexer": "ipython3",
   "version": "3.12.6"
  }
 },
 "nbformat": 4,
 "nbformat_minor": 5
}
