{
 "cells": [
  {
   "cell_type": "raw",
   "metadata": {
    "vscode": {
     "languageId": "raw"
    }
   },
   "source": [
    "---\n",
    "comments: true\n",
    "layout: post\n",
    "type: hacks\n",
    "title: 3.6 Conditionals Part 1 \n",
    "escription: Student led teaching on Conditionals. \n",
    "categories: [CSP Big Ideas]\n",
    "menu: nav/csp_units/csp_unit3_p5_fundamentals.html\n",
    "submenu: lesson3_6\n",
    "author: Shriya S\n",
    "permalink: csp/big-idea/p5/3-6-1\n",
    "comments: true\n",
    "---"
   ]
  },
  {
   "cell_type": "markdown",
   "metadata": {},
   "source": [
    "## Introduction to if statements\n",
    "A conditional statement allows you to execute certain code only if a specified condition evaluates to true. It typically involves keywords like if, and can include elif and else to handle multiple conditions."
   ]
  },
  {
   "cell_type": "markdown",
   "metadata": {},
   "source": [
    "## Flowchart Example\n",
    "<div style=\"text-align: center;\"><img src=\"{{site.baseurl}}/images/csp-period-5-flowcharts/conditional.png\" alt=\"Conditionals Flowchart\"></div>"
   ]
  },
  {
   "cell_type": "markdown",
   "metadata": {},
   "source": [
    "## Baking Example of Conditional in **Python**\n",
    "This is an exmaple of a conditional that would occur when using an oven for baking. These are important as it shows when to start the oven and use it. \n"
   ]
  },
  {
   "cell_type": "code",
   "execution_count": 4,
   "metadata": {},
   "outputs": [
    {
     "name": "stdout",
     "output_type": "stream",
     "text": [
      "I'm baking!\n"
     ]
    }
   ],
   "source": [
    "%%python\n",
    "oven_temperature = 500\n",
    "\n",
    "def start_baking():\n",
    "    print(\"I'm baking!\")\n",
    "\n",
    "if oven_temperature >= 350:\n",
    "    start_baking()  # Calls a function to start the baking process"
   ]
  },
  {
   "cell_type": "markdown",
   "metadata": {},
   "source": [
    "This code shows that once the oven is at 350 degrees it will turn on and start the baking process. "
   ]
  },
  {
   "cell_type": "markdown",
   "metadata": {},
   "source": [
    "## Popcorn Hack\n",
    "Change the what the oven temperature would be to see how different oven temperatures will make a specific message be printed!"
   ]
  },
  {
   "cell_type": "markdown",
   "metadata": {},
   "source": [
    "## Baking Example of Conditional in **Javascript**\n",
    "This is an exmaple of a conditional that would occur when using an oven for baking; the same as above but in javascript!"
   ]
  },
  {
   "cell_type": "code",
   "execution_count": 5,
   "metadata": {
    "vscode": {
     "languageId": "javascript"
    }
   },
   "outputs": [
    {
     "data": {
      "application/javascript": "function startBaking() {\n    // Code to start the baking process\n    // For example, you might want to change some state or update UI here\n}\n\nlet ovenTemperature = 375; // Example temperature\n\nif (ovenTemperature >= 350) {\n    startBaking(); // Calls a function to start the baking process\n}\n",
      "text/plain": [
       "<IPython.core.display.Javascript object>"
      ]
     },
     "metadata": {},
     "output_type": "display_data"
    }
   ],
   "source": [
    "%%js\n",
    "function startBaking() {\n",
    "    // Code to start the baking process\n",
    "    // For example, you might want to change some state or update UI here\n",
    "}\n",
    "\n",
    "let ovenTemperature = 375; // Example temperature\n",
    "\n",
    "if (ovenTemperature >= 350) {\n",
    "    startBaking(); // Calls a function to start the baking process\n",
    "}\n"
   ]
  },
  {
   "cell_type": "markdown",
   "metadata": {},
   "source": [
    "## Hacks #1\n",
    "- create a simple conditional statement like the ones above (do it in a different situation, so not baking)"
   ]
  },
  {
   "cell_type": "markdown",
   "metadata": {},
   "source": [
    "## Hack #2 \n",
    "Your hack is to create a piece of code that compares two statements and checks if they are equal to each other"
   ]
  }
 ],
 "metadata": {
  "kernelspec": {
   "display_name": "venv",
   "language": "python",
   "name": "python3"
  },
  "language_info": {
   "codemirror_mode": {
    "name": "ipython",
    "version": 3
   },
   "file_extension": ".py",
   "mimetype": "text/x-python",
   "name": "python",
   "nbconvert_exporter": "python",
   "pygments_lexer": "ipython3",
   "version": "3.12.6"
  }
 },
 "nbformat": 4,
 "nbformat_minor": 2
}
