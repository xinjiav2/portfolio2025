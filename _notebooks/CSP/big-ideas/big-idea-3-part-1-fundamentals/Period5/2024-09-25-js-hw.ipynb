{
  "cells": [
    {
      "cell_type": "raw",
      "metadata": {
        "vscode": {
          "languageId": "raw"
        }
      },
      "source": [
        "---\n",
        "layout: post\n",
        "title: 3.2 - Data Abstraction | Javascript & Assignments\n",
        "description: Nolan & Jacob's Data Abstraction Presentation\n",
        "author: Nolan\n",
        "toc: true\n",
        "comments: true\n",
        "categories: [CSP Big Ideas]\n",
        "menu: nav/csp_units/csp_unit3_p5_fundamentals.html\n",
        "permalink: /csp/big-idea/p5/3-2-3\n",
        "---"
      ]
    },
    {
      "cell_type": "code",
      "execution_count": 3,
      "metadata": {},
      "outputs": [
        {
          "data": {
            "text/html": [
              "<style>:root {--light-pink: #ffccdd; --medium-pink: #ff66b3; --dark-pink: #ff3385; --accent-pink: #ff99cc; --background-pink: #ffe6f0;} body {background-color: var(--background-pink) !important; color: var(--dark-pink) !important;} header {background-color: var(--medium-pink) !important; color: white !important; padding: 10px 20px !important; border-radius: 8px !important; border-bottom: 2px solid var(--dark-pink) !important;} article {background-color: var(--light-pink) !important; color: var(--dark-pink) !important; border: 2px solid var(--medium-pink) !important; padding: 20px !important; border-radius: 8px !important;} a {color: var(--accent-pink) !important;} a:hover {color: var(--dark-pink) !important;} h1, h2, h3, h4 {color: white !important;} blockquote {background-color: #272726 !important; border-left: 4px solid var(--medium-pink) !important; color: var(--dark-pink) !important; padding: 10px 20px !important; margin: 10px 0 !important; border-radius: 4px !important;} code {background-color: var(--accent-pink) !important; color: white !important; padding: 2px 4px !important; border-radius: 4px !important;} .site-nav {background-color: var(--medium-pink) !important;} table td {background-color: var(--dark-pink) !important;}</style>"
            ],
            "text/plain": [
              "<IPython.core.display.HTML object>"
            ]
          },
          "execution_count": 3,
          "metadata": {},
          "output_type": "execute_result"
        }
      ],
      "source": [
        "from IPython.core.display import HTML; set_custom_css = lambda: HTML('<style>:root {--light-pink: #ffccdd; --medium-pink: #ff66b3; --dark-pink: #ff3385; --accent-pink: #ff99cc; --background-pink: #ffe6f0;} body {background-color: var(--background-pink) !important; color: var(--dark-pink) !important;} article {background-color: var(--light-pink) !important; color: var(--dark-pink) !important; border: 2px solid var(--medium-pink) !important; padding: 20px !important; border-radius: 8px !important;} a {color: var(--accent-pink) !important;} a:hover {color: var(--dark-pink) !important;} h1, h2, h3, h4 {color: white !important;} blockquote {background-color: #272726 !important; border-left: 4px solid var(--medium-pink) !important; color: var(--dark-pink) !important; padding: 10px 20px !important; margin: 10px 0 !important; border-radius: 4px !important;} code {background-color: var(--accent-pink) !important; color: white !important; padding: 2px 4px !important; border-radius: 4px !important;} .site-nav {background-color: var(--medium-pink) !important;} table td {background-color: var(--dark-pink) !important;}</style>'); set_custom_css()\n"
      ]
    },
    {
      "cell_type": "markdown",
      "metadata": {},
      "source": [
        "| [3.2.1](/portfolio_2025/csp/big-idea/p5/3-2-1) | [3.2.2](/portfolio_2025/csp/big-idea/p5/3-2-2) | [3.2.3](/portfolio_2025/csp/big-idea/p5/3-2-3) |\n"
      ]
    },
    {
      "cell_type": "markdown",
      "metadata": {},
      "source": [
        "### Javascript Example\n",
        "\n",
        "Here's an example of what the code above looks like in Javascript."
      ]
    },
    {
      "cell_type": "code",
      "execution_count": 4,
      "metadata": {
        "vscode": {
          "languageId": "javascript"
        }
      },
      "outputs": [
        {
          "data": {
            "application/javascript": "var possesions = {\n  owner: \"Lil Bro\",\n  dollars: 50,\n  food: [\"apps\", \"pizza\", \"banana\"],\n};\n\nconsole.log(possesions);\n// -> { owner: \"Lil Bro\", dollars: 50, food: [\"apps\",\"pizza\",\"banana\"] }\npossesions.food[2] = \"half-eaten banana\";\nconsole.log(possesions.food);\n// -> [ \"apps\", \"pizza\", \"half-eaten banana\" ]\npossesions.dollars = possesions.dollars / 2;\nconsole.log(possesions.dollars);\n// -> 25\n\nconsole.log(JSON.stringify(possesions));\n// -> {\"owner\":\"Lil Bro\",\"dollars\":25,\"food\":[\"apps\",\"pizza\",\"half-eaten banana\"]}\n",
            "text/plain": [
              "<IPython.core.display.Javascript object>"
            ]
          },
          "metadata": {},
          "output_type": "display_data"
        }
      ],
      "source": [
        "%%javascript\n",
        "var possesions = {\n",
        "  owner: \"Lil Bro\",\n",
        "  dollars: 50,\n",
        "  food: [\"apps\", \"pizza\", \"banana\"],\n",
        "};\n",
        "\n",
        "console.log(possesions);\n",
        "// -> { owner: \"Lil Bro\", dollars: 50, food: [\"apps\",\"pizza\",\"banana\"] }\n",
        "possesions.food[2] = \"half-eaten banana\";\n",
        "console.log(possesions.food);\n",
        "// -> [ \"apps\", \"pizza\", \"half-eaten banana\" ]\n",
        "possesions.dollars = possesions.dollars / 2;\n",
        "console.log(possesions.dollars);\n",
        "// -> 25\n",
        "\n",
        "console.log(JSON.stringify(possesions));\n",
        "// -> {\"owner\":\"Lil Bro\",\"dollars\":25,\"food\":[\"apps\",\"pizza\",\"half-eaten banana\"]}\n"
      ]
    },
    {
      "cell_type": "markdown",
      "metadata": {},
      "source": [
        "## Hacks (homework)\n",
        "* Find a JSON file/data online\n",
        "* Read and edit the JSON using at least 5 different types of variables. Do this in Python and in Javascript"
      ]
    },
    {
      "cell_type": "markdown",
      "metadata": {},
      "source": [
        "### Grading\n",
        "Using Mr. Morts rubric (x0.9)\n",
        "* Assignment: 25%\n",
        "* Homework/Hacks =: 75% (**NOTE:** please make sure that the JSON is detailed/complex and not very short)"
      ]
    }
  ],
  "metadata": {
    "kernelspec": {
      "display_name": "Python 3",
      "language": "python",
      "name": "python3"
    },
    "language_info": {
      "codemirror_mode": {
        "name": "ipython",
        "version": 3
      },
      "file_extension": ".py",
      "mimetype": "text/x-python",
      "name": "python",
      "nbconvert_exporter": "python",
      "pygments_lexer": "ipython3",
      "version": "3.11.2"
    },
    "orig_nbformat": 4
  },
  "nbformat": 4,
  "nbformat_minor": 2
}
