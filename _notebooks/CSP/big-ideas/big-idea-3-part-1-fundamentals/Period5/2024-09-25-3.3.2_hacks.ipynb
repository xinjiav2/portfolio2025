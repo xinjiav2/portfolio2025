{
 "cells": [
  {
   "cell_type": "raw",
   "id": "2a07ae5e",
   "metadata": {
    "vscode": {
     "languageId": "raw"
    }
   },
   "source": [
    "---\n",
    "comments: true\n",
    "layout: post\n",
    "title: 3.3 Mathematical Operations\n",
    "description: Learn the different types of Mathematical Operations \n",
    "permalink: csp/big-idea/p5/3-3-2\n",
    "categories: [CSP Big Ideas]\n",
    "author: Ahmad, Soumini, Kush, Nikith\n",
    "menu: nav/csp_units/csp_unit3_p5_fundamentals.html\n",
    "---"
   ]
  },
  {
   "cell_type": "markdown",
   "id": "582632f7",
   "metadata": {},
   "source": [
    "<style>\n",
    "article {\n",
    "    background-color: #493149 !important;\n",
    "    color: #A88AA4 !important; /* Change text color */\n",
    "    border: 2px solid #312131 !important;\n",
    "    padding: 20px !important;\n",
    "    border-radius: 64px !important;\n",
    "}\n",
    "</style>"
   ]
  },
  {
   "cell_type": "markdown",
   "id": "d136d47b",
   "metadata": {
    "vscode": {
     "languageId": "plaintext"
    }
   },
   "source": [
    "# **Popcorn Hack 1**\n",
    "- Create an algorithm that adds 2 set variables together, then it divides that number by 4, then prints that number in both python and javascript.\n",
    "\n",
    "## Python version\n",
    "- The python code down below follows a specific order. First the computer will register num1 as 5 and num2 as 11. Then it will print num1 and then num2.\n",
    "\n",
    "```python\n",
    "num1 = 5\n",
    "num2 = 11\n",
    "print(num1) # Output would be 5\n",
    "print((num1 + num2) / 4) # output should be 4.0\n",
    "```\n",
    "\n",
    "## Javascript version\n",
    "- The Javascript code below does the exact same thing as the python example above.\n",
    "```javascript\n",
    "let num1 = 5;\n",
    "let num2 = 11;\n",
    "console.log(num1)\n",
    "console.log((num1 + num2) / 4)\n",
    "```\n"
   ]
  },
  {
   "cell_type": "markdown",
   "id": "0140b7d4",
   "metadata": {},
   "source": [
    "# **Popcorn Hack 2**\n",
    "\n",
    "- Create an algorithm that multiplies two values together and then takes the mod of those two values when divided.\n",
    "\n",
    "## Python Version:\n",
    "\n",
    "```python\n",
    "numb1 = 12\n",
    "numb2 = 8\n",
    "product = numb1 * numb2  \n",
    "print(\"Product:\", product)  # Output should be Product: 96\n",
    "modulus = product % numb2 \n",
    "print(\"Modulus:\", modulus) # Output should be Modulus: 0\n",
    "```\n",
    "\n",
    "## Javascript Version-Does the same as the python version above:\n",
    "\n",
    "```javascript\n",
    "let numb1 = 12\n",
    "let numb2 = 8\n",
    "let product = numb1 * numb2\n",
    "console.log(\"Product:\", product)\n",
    "let modulus = product % numb2\n",
    "console.log(\"Modulus:\", modulus)\n",
    "```\n",
    "\n",
    "\n"
   ]
  },
  {
   "cell_type": "markdown",
   "id": "866dcda6",
   "metadata": {
    "vscode": {
     "languageId": "plaintext"
    }
   },
   "source": [
    "# **Popcorn Hack 3**\n",
    "- Make a algorithm that subtracts 2 numbers.\n",
    "\n",
    "## Python version:\n",
    "```python\n",
    "x=7\n",
    "y=2\n",
    "print(x - y) #Output should be 5\n",
    "```\n",
    "## Javascript Version\n",
    "```javascript\n",
    "let x=7;\n",
    "let y=2;\n",
    "console.log(x - y) // Output should be 5\n",
    "```"
   ]
  }
 ],
 "metadata": {
  "kernelspec": {
   "display_name": "Python 3 (ipykernel)",
   "language": "python",
   "name": "python3"
  },
  "language_info": {
   "codemirror_mode": {
    "name": "ipython",
    "version": 3
   },
   "file_extension": ".py",
   "mimetype": "text/x-python",
   "name": "python",
   "nbconvert_exporter": "python",
   "pygments_lexer": "ipython3",
   "version": "3.10.12"
  }
 },
 "nbformat": 4,
 "nbformat_minor": 5
}
