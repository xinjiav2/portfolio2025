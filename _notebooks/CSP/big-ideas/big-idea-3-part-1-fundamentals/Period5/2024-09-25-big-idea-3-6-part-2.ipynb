{
 "cells": [
  {
   "cell_type": "raw",
   "metadata": {
    "vscode": {
     "languageId": "raw"
    }
   },
   "source": [
    "---\n",
    "layout: post\n",
    "type: hacks\n",
    "title: 3.6 Conditionals Part 2 \n",
    "Description: If Else Statements\n",
    "menu: nav/csp_units/csp_unit3_p5_fundamentals.html\n",
    "submenu: lesson3_6\n",
    "author: Nathan T\n",
    "permalink: csp/big-idea/p5/3-6-2\n",
    "comments: true\n",
    "---\n",
    "\n"
   ]
  },
  {
   "cell_type": "markdown",
   "metadata": {},
   "source": [
    "## Conditionals with if else statements"
   ]
  },
  {
   "cell_type": "markdown",
   "metadata": {},
   "source": [
    "If {} Else {}\n",
    "\n",
    "An if else statement lets a program execute a different action based on whether a specific condition is true or not."
   ]
  },
  {
   "cell_type": "markdown",
   "metadata": {},
   "source": [
    "# Conditionals with else if statements\n",
    "If you have multiple conditions you can use an else if statement in case the if statement was false. This will allow you to chain more outcomes for your code. "
   ]
  },
  {
   "cell_type": "markdown",
   "metadata": {},
   "source": [
    "## Flowchart Example\n",
    "<div style=\"text-align: center;\"> <img src=\"{{site.baseurl}}/images/csp-period-5-flowcharts/if-else-statement.png\" alt=\"If Else Flowchart\"> </div>"
   ]
  },
  {
   "cell_type": "markdown",
   "metadata": {},
   "source": [
    "# Popcorn Hack 1\n",
    "What else if code would you add if you wanted the code to prompt \"zero\" if someone input 0."
   ]
  },
  {
   "cell_type": "markdown",
   "metadata": {},
   "source": [
    "## Python Example"
   ]
  },
  {
   "cell_type": "code",
   "execution_count": 3,
   "metadata": {},
   "outputs": [
    {
     "name": "stdout",
     "output_type": "stream",
     "text": [
      "Positive\n"
     ]
    }
   ],
   "source": [
    "%%python\n",
    "# Example\n",
    "number = 5\n",
    "\n",
    "if number > 0:\n",
    "    print(\"Positive\")\n",
    "else:\n",
    "    print(\"Not positive\")\n"
   ]
  },
  {
   "cell_type": "markdown",
   "metadata": {},
   "source": [
    "## Javascript Example"
   ]
  },
  {
   "cell_type": "markdown",
   "metadata": {},
   "source": [
    "# Popcorn Hack 2\n",
    "How would you change this code to make it show whether numbers are odd or even instead of positive or not positive?"
   ]
  },
  {
   "cell_type": "code",
   "execution_count": 2,
   "metadata": {
    "vscode": {
     "languageId": "javascript"
    }
   },
   "outputs": [
    {
     "data": {
      "application/javascript": "// Example 1\nlet number = 5;\n\nif (number > 0) {\n    console.log(\"Positive\");\n} else {\n    console.log(\"Not positive\");\n}\n\n// Example 2: Using a ternary operator\nnumber = 5;\nlet message = number > 0 ? \"Positive\" : \"Not positive\";\nconsole.log(message);\n\n// Example 3: Defining a number and using nested ternary operators\nnumber = -3;\nmessage = number > 0 ? \"Positive\" : (number === 0 ? \"Zero\" : \"Negative\");\nconsole.log(message);\n",
      "text/plain": [
       "<IPython.core.display.Javascript object>"
      ]
     },
     "metadata": {},
     "output_type": "display_data"
    }
   ],
   "source": [
    "%%js\n",
    "// Example 1\n",
    "let number = 5;\n",
    "\n",
    "if (number > 0) {\n",
    "    console.log(\"Positive\");\n",
    "} else {\n",
    "    console.log(\"Not positive\");\n",
    "}\n",
    "\n",
    "// Example 2: Using a ternary operator\n",
    "number = 5;\n",
    "let message = number > 0 ? \"Positive\" : \"Not positive\";\n",
    "console.log(message);\n",
    "\n",
    "// Example 3: Defining a number and using nested ternary operators\n",
    "number = -3;\n",
    "message = number > 0 ? \"Positive\" : (number === 0 ? \"Zero\" : \"Negative\");\n",
    "console.log(message);"
   ]
  },
  {
   "cell_type": "markdown",
   "metadata": {},
   "source": [
    "# Popcorn Hack 3\n",
    "The following is a basic if else statement condition. Interact with this cell by changing what the number equals to see the code cell print out the message!"
   ]
  },
  {
   "cell_type": "code",
   "execution_count": null,
   "metadata": {},
   "outputs": [],
   "source": [
    "%%python\n",
    "\n",
    "number = 5\n",
    "message = \"Positive\" if number > 0 else \"Not positive\"\n",
    "print(message)\n",
    "\n",
    "# Define a number\n",
    "number = -3\n",
    "\n",
    "message = (\n",
    "    \"Positive\" if number > 0 \n",
    "    else \"Zero\" if number == 0 \n",
    "    else \"Negative\"\n",
    ")\n",
    "\n",
    "# Print the result\n",
    "print(message)"
   ]
  },
  {
   "cell_type": "markdown",
   "metadata": {},
   "source": [
    "# Hacks"
   ]
  },
  {
   "cell_type": "markdown",
   "metadata": {},
   "source": [
    "### Create a basic hack that determines whether you are a child, teenager or adult when you input your age. \n",
    "##### Objective: Create a simple program that classifies an individual as a \"Child,\" \"Teenager,\" or \"Adult\" based on their age input.\n",
    "If Statement: Check if the age is between 3 and 12 (inclusive). If true, classify the user as a \"Child.\"\n",
    "Else If Statement: If the first condition is false, check if the age is between 13 and 17. If this condition holds, classify the user as a \"Teenager.\"\n",
    "Else Statement: If neither of the above conditions is true, classify the user as an \"Adult\" (this includes anyone aged 18 and older).\n",
    "\n",
    "Hint: child is ages 3-12, teenager is ages 13-17, adult is ages 18 and up.\n",
    "This hack is a good way to practice basic programming concepts of conditional statements"
   ]
  }
 ],
 "metadata": {
  "kernelspec": {
   "display_name": "venv",
   "language": "python",
   "name": "python3"
  },
  "language_info": {
   "codemirror_mode": {
    "name": "ipython",
    "version": 3
   },
   "file_extension": ".py",
   "mimetype": "text/x-python",
   "name": "python",
   "nbconvert_exporter": "python",
   "pygments_lexer": "ipython3",
   "version": "3.12.6"
  }
 },
 "nbformat": 4,
 "nbformat_minor": 2
}
