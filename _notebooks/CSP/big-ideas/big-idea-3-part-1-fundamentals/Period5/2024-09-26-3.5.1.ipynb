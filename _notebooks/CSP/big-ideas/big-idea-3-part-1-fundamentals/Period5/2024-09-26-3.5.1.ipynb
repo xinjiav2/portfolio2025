{
 "cells": [
  {
   "cell_type": "raw",
   "id": "de7d1dc6",
   "metadata": {
    "vscode": {
     "languageId": "raw"
    }
   },
   "source": [
    "---\n",
    "toc: false\n",
    "comments: true\n",
    "layout: post\n",
    "title: 3.5 Booleans Relational Operators\n",
    "description: Learn Relational Operators in Booleans\n",
    "permalink: csp/big-idea/p5/3-5-1\n",
    "categories: [CSP Big Ideas]\n",
    "author: Ahmad, Soumini, Kush, Nikith\n",
    "menu: nav/csp_units/csp_unit3_p5_fundamentals.html\n",
    "---"
   ]
  },
  {
   "cell_type": "markdown",
   "id": "4a81b280",
   "metadata": {},
   "source": [
    "<style>\n",
    "article {\n",
    "    background-color: #493149 !important;\n",
    "    color: #A88AA4 !important; /* Change text color */\n",
    "    border: 2px solid #312131 !important;\n",
    "    padding: 20px !important;\n",
    "    border-radius: 64px !important;\n",
    "}\n",
    "</style>\n"
   ]
  },
  {
   "cell_type": "markdown",
   "id": "7511f9ae",
   "metadata": {},
   "source": [
    "# **Booleans**\n",
    "- A Boolean value represents either true or false. When a Boolean expression is evaluated, it results in a Boolean Value(True or False)"
   ]
  },
  {
   "cell_type": "markdown",
   "id": "cc6d008d",
   "metadata": {},
   "source": [
    "## **Relational Operators**\n",
    "- These are used to test the relationship between two variables. They are used for comparisons and result in a Boolean value of True or False.\n",
    "\n",
    "- x == y (equals)\t\n",
    "- x != y (not equal to)\n",
    "- x > y (greater than)\n",
    "- x < y (less than)\n",
    "- x >= y (greater than or equal to)\n",
    "- x <= y (less than or equal to)"
   ]
  },
  {
   "cell_type": "markdown",
   "id": "a56382df",
   "metadata": {},
   "source": [
    "### **Relational Operators Examples**\n",
    "\n",
    "Example 1: Test if one person's age is greater than another\n",
    "\n",
    "Python Version:\n",
    "```python\n",
    "age_1 = 16\n",
    "age_2 = 14\n",
    "\n",
    "#Boolean expression:\n",
    "is_older = age_1 > age_2\n",
    "\n",
    "#Output: \n",
    "if is_older: \n",
    "  print(\"Person 1 is older.\")\n",
    "\n",
    "elif age_1 < age_2:\n",
    "  print(\"Person 2 is older\")\n",
    "\n",
    "else:\n",
    "  print(\"Both people are the same age\")\n",
    "\n",
    "```\n",
    "\n",
    "Javascript Version: \n",
    "```javascript\n",
    "let age1 = 16;\n",
    "let age2 = 14;\n",
    "\n",
    "// Boolean expression:\n",
    "let isOlder = age1 > age2;\n",
    "\n",
    "// Output:\n",
    "if (isOlder) {\n",
    "    console.log(\"Person 1 is older.\");\n",
    "} else if (age1 < age2) {\n",
    "    console.log(\"Person 2 is older.\");\n",
    "} else {\n",
    "    console.log(\"Both people are the same age.\");\n",
    "}\n",
    "```\n",
    "\n",
    "## Popcorn Hack 1\n",
    "\n",
    "Python Version:\n",
    "```python\n",
    "temperature = 53\n",
    "\n",
    "#Boolean expression:\n",
    "cold = temperature < 65\n",
    "\n",
    "#Output:\n",
    "if cold:\n",
    "  print(\"It is cold.\")\n",
    "\n",
    "else:\n",
    "  print(\"It is not cold.\")\n",
    "\n",
    "```\n",
    "\n",
    "Javascript Version: \n",
    "```javascript\n",
    "let temperature = 53;\n",
    "\n",
    "// Boolean expression:\n",
    "let cold = temperature < 65;\n",
    "\n",
    "// Output:\n",
    "if (cold) {\n",
    "    console.log(\"It is cold.\");\n",
    "} else {\n",
    "    console.log(\"It is not cold.\");\n",
    "}\n",
    "```\n",
    "\n",
    "\n"
   ]
  }
 ],
 "metadata": {
  "kernelspec": {
   "display_name": "Python 3 (ipykernel)",
   "language": "python",
   "name": "python3"
  },
  "language_info": {
   "codemirror_mode": {
    "name": "ipython",
    "version": 3
   },
   "file_extension": ".py",
   "mimetype": "text/x-python",
   "name": "python",
   "nbconvert_exporter": "python",
   "pygments_lexer": "ipython3",
   "version": "3.10.12"
  }
 },
 "nbformat": 4,
 "nbformat_minor": 5
}
