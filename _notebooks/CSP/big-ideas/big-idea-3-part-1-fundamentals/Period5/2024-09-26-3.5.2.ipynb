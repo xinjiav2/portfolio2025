{
 "cells": [
  {
   "cell_type": "raw",
   "id": "de7d1dc6",
   "metadata": {
    "vscode": {
     "languageId": "raw"
    }
   },
   "source": [
    "---\n",
    "toc: false\n",
    "comments: true\n",
    "layout: post\n",
    "title: 3.5 Logical Operators \n",
    "description: Learn Logical Operators in Booleans \n",
    "permalink: csp/big-idea/p5/3-5-2\n",
    "categories: [CSP Big Ideas]\n",
    "author: Ahmad, Soumini, Kush, Nikith\n",
    "menu: nav/csp_units/csp_unit3_p5_fundamentals.html\n",
    "---"
   ]
  },
  {
   "cell_type": "markdown",
   "id": "a189e546",
   "metadata": {},
   "source": [
    "<style>\n",
    "article {\n",
    "    background-color: #493149 !important;\n",
    "    color: #A88AA4 !important; /* Change text color */\n",
    "    border: 2px solid #312131 !important;\n",
    "    padding: 20px !important;\n",
    "    border-radius: 64px !important;\n",
    "}\n",
    "</style>"
   ]
  },
  {
   "cell_type": "markdown",
   "id": "a0061364",
   "metadata": {
    "vscode": {
     "languageId": "plaintext"
    }
   },
   "source": [
    "## **Logical Operators**\n",
    "\n",
    "These are used to test multiple conditions to produce a single Boolean value.\n",
    "\n",
    "- AND(&& or \"and\"): Returns true if both conditions are true. If either condition is false or if both are false, it returns false.\n",
    "- OR('| |' or \"or\"): Returns true if at least one condition is true. If both conditions are false, it returns false\n",
    "- NOT(! or \"not\"): If the condition is false, then it returns true. If the condition is true, then it returns false."
   ]
  },
  {
   "cell_type": "markdown",
   "id": "293f3f51",
   "metadata": {},
   "source": [
    "# **More Hacks! (Both python and javascript)**\n",
    "\n",
    "\n",
    "## Popcorn Hack 2: Temperature Check\n",
    "Example 1: Going with a temperature example, use logical operators to test whether the temperature is comfortable or not. \n",
    "\n",
    "Javascript Version: \n",
    "```javascript\n",
    "let temperature = 43;\n",
    "\n",
    "// Boolean expressions\n",
    "let comfortable = temperature < 83 && temperature > 63;\n",
    "let notComfortable = temperature < 63 || temperature > 83;\n",
    "\n",
    "if (comfortable) {\n",
    "    console.log(\"It is a comfortable temperature\");\n",
    "} else if (notComfortable) {\n",
    "    console.log(\"It is not a comfortable temperature\");\n",
    "}\n",
    "```\n",
    "\n",
    "Python Version: \n",
    "```python\n",
    "## Example 1: Temperature Check\n",
    "temperature = 43 \n",
    "\n",
    "# Boolean expressions\n",
    "comfortable = temperature < 83 and temperature > 63\n",
    "not_comfortable = temperature < 63 or temperature > 83\n",
    "\n",
    "if comfortable: \n",
    "    print(\"It is a comfortable temperature\")\n",
    "elif not_comfortable:\n",
    "    print(\"It is not a comfortable temperature\")\n",
    "```\n",
    "\n",
    "\n",
    "## Popcorn Hack 3: You want to test if someone is authorized to enter a building or not. \n",
    "Javascript Version: \n",
    "```javascript\n",
    "// Define user status\n",
    "let isAuthorized = false;  // Change this to true to test authorized access\n",
    "\n",
    "// Use NOT to determine access\n",
    "let canEnter = !isAuthorized;\n",
    "\n",
    "// Output the result\n",
    "console.log(canEnter ? \"Access granted!\" : \"Access denied!\");\n",
    "```\n",
    "\n",
    "Python Version: \n",
    "```python\n",
    "# Define user status\n",
    "is_authorized = False  # Change this to True to test authorized access\n",
    "\n",
    "# Use NOT to determine access\n",
    "can_enter = not is_authorized\n",
    "\n",
    "# Output the result\n",
    "print(\"Access granted!\" if can_enter else \"Access denied!\")\n",
    "```\n",
    "\n",
    "\n"
   ]
  },
  {
   "cell_type": "markdown",
   "id": "a2916007",
   "metadata": {},
   "source": [
    "# DeMorgan's Law \n",
    "De Morgan's Laws Explained:\n",
    "\n",
    "Imagine you have two statements or conditions, like:\n",
    "\n",
    "A: \"It’s raining.\"\n",
    "B: \"I can play outside.\"\n",
    "\n",
    "## First Law: \n",
    "¬(A∧B)=¬A∨¬B\n",
    "\n",
    "What it Means: If I say, \"It’s not true that it’s both raining and I can play outside,\" I'm saying at least one of these must be false.\n",
    "Translation: This means either \"It’s not raining\" or \"I can’t play outside.\"\n",
    "So if I don’t want both things to happen together, it means one of them isn’t happening.\n",
    "\n",
    "## Second Law: \n",
    "¬(A∨B)=¬A∧¬B\n",
    "What it Means: If I say, \"It’s not true that it’s either raining or I can play outside,\" that means both must be false.\n",
    "Translation: This means \"It’s not raining\" and \"I can’t play outside.\"\n",
    "So if I don’t want either of those situations to happen, then both must not be happening.\n",
    "\n",
    "Summary\n",
    "In simple terms:\n",
    "\n",
    "First Law: The statement \"not (A and B)\" is equivalent to saying \"not A or not B,\" meaning at least one of the two must be false.\n",
    "\n",
    "Second Law: The statement \"not (A or B)\" is equivalent to saying \"not A and not B,\" meaning both must be false.\n",
    "\n",
    "These laws help us understand how negation (saying \"not\") works with AND and OR in logic!"
   ]
  },
  {
   "cell_type": "markdown",
   "id": "9251dc9d",
   "metadata": {},
   "source": [
    "# **Homework Hacks**\n",
    "1. All popcorn hacks (1-3) in both Javascript and Python. **If you copy paste from the examples, we WILL make you take a (different, much harder) quiz and grade it.**\n",
    "2. OPTIONAL: Take this quiz(Use school email): [Quiz](https://forms.gle/HwSUrEtNfvbKHqyr9)\n",
    "3. Create a truth table. A truth table typically lists all possible combinations of truth values (True and False) for a given number of variables and their corresponding outputs for various logical operations.\n",
    "    Steps to Create a Truth Table \n",
    "        1. Identify the Variables: You would have 2 variables, A and B, representing True and False.\n",
    "        2. Determine the Number of Rows: The number of rows is 2^n where n is the number of variables, so 4\n",
    "        3. Write out all combinations of True (T) and False (F) for the variables.\n",
    "        4. Add columns for Each Logical Expression:\n",
    "        5. Create additional columns for the logical expressions you want to evaluate.\n",
    "        6. Calculate the Results: Evaluate the logical expressions for each combination of variable values and fill in the table.\n",
    "\n",
    "Submit screenshots of your working code at this link: [Submit](https://forms.gle/TTuYVKaiwT8T9PML7)\n",
    "\n",
    "Truth table example:\n",
    "        "
   ]
  },
  {
   "cell_type": "markdown",
   "id": "70b85283",
   "metadata": {},
   "source": [
    "|A|B| A AND B | A OR B |\n",
    "|-|-|---------|--------|\n",
    "|0|0|    0    |   0    |\n",
    "|0|1|    0    |   1    |\n",
    "|1|0|    0    |   1    |\n",
    "|1|1|    1    |   1    ||"
   ]
  },
  {
   "cell_type": "markdown",
   "id": "ae660aec",
   "metadata": {
    "vscode": {
     "languageId": "raw"
    }
   },
   "source": [
    "# Grading \n",
    "Use this rubric to grade. Ratio is 1-4\n",
    "\n",
    "** 4+ - top work, something beyond what was required, 1 to 2 per class (95%)\t\n",
    "\n",
    "** 4 - performed 98% to 100% of requirements, majority should be .9  (89% to 92%)\t\n",
    "\n",
    "** 3 - missing some key elements, 80% to 85%\t\t\t\n",
    "\n",
    "** 2 - missing many to most key elements, 70%\t\t\t\n",
    "\n",
    "** 1 - no work, 55%\t\t\t\n",
    "\n",
    "** 0 - copying or not understand work performed, 0%\t\t\t\n",
    "\n",
    "| **Name**                | **Weightage** | **Grade** |\n",
    "|-------------------------|---------------|-----------|\n",
    "| Hack 1                  | 15%           |           |\n",
    "| Hack 2                  | 15%            |           |\n",
    "| Hack 3                  | 15%           |           |\n",
    "| Homework                | 55%           |           |\n",
    "\n"
   ]
  }
 ],
 "metadata": {
  "kernelspec": {
   "display_name": "Python 3 (ipykernel)",
   "language": "python",
   "name": "python3"
  },
  "language_info": {
   "codemirror_mode": {
    "name": "ipython",
    "version": 3
   },
   "file_extension": ".py",
   "mimetype": "text/x-python",
   "name": "python",
   "nbconvert_exporter": "python",
   "pygments_lexer": "ipython3",
   "version": "3.10.12"
  }
 },
 "nbformat": 4,
 "nbformat_minor": 5
}
