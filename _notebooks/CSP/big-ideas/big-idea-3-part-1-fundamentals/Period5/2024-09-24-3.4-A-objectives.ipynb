{
 "cells": [
  {
   "cell_type": "raw",
   "metadata": {
    "vscode": {
     "languageId": "raw"
    }
   },
   "source": [
    "---\n",
    "toc: false\n",
    "comments: true\n",
    "layout: post\n",
    "title: 3.4 Objectives\n",
    "description: 3.1 JavaScript and Python Homework\n",
    "categories: [CSP Big Ideas]\n",
    "author: Aadi, Aaditya, Aditya, Kanhay\n",
    "permalink: /csp/big-idea/3.4/p5/objectives\n",
    "menu: nav/csp_units/csp_unit3_p5_fundamentals.html\n",
    "---"
   ]
  },
  {
   "cell_type": "markdown",
   "metadata": {},
   "source": [
    "<style>\n",
    "body {\n",
    "    background-color: #e6f0ff !important;\n",
    "    color: black !important;\n",
    "}\n",
    "article {\n",
    "    background-color: #cce5ff !important;\n",
    "    color: black !important;\n",
    "    border: 2px solid #66b3ff !important;\n",
    "    padding: 20px !important;\n",
    "    border-radius: 64px !important;\n",
    "}\n",
    "h1, h2, h3, h4, p {\n",
    "    color: black !important;\n",
    "}\n",
    "blockquote {\n",
    "    background-color: #272726 !important;\n",
    "    border-left: 4px solid #66b3ff !important;\n",
    "    color: black !important;\n",
    "    padding: 10px 20px !important;\n",
    "    margin: 10px 0 !important;\n",
    "    border-radius: 64px !important;\n",
    "}\n",
    "code {\n",
    "    color: white !important;\n",
    "    padding: 2px 4px !important;\n",
    "    border-radius: 64px !important;\n",
    "}\n",
    "\n",
    "</style>"
   ]
  },
  {
   "cell_type": "markdown",
   "metadata": {},
   "source": [
    "## 3.4 Homework\n",
    "\n",
    "### Attempt all of these in both JavaScript and Python!\n",
    "\n",
    "Make two functions for:\n",
    "\n",
    "Character Count\n",
    "\t- Write a function that accepts a string input from the user and counts:\n",
    "\t\t- Total letters\n",
    "\t\t- Total numbers\n",
    "\t\t- Total spaces\n",
    "Vowel Count\n",
    "\t- Add functionality to count the number of vowels (both uppercase and lowercase) in the input string\n",
    "\n",
    "| Grade | Description                                                     | Percentage (%) |\n",
    "|-------|-----------------------------------------------------------------|----------------|\n",
    "| 4+    | Top work (Given to top 2 or none depending on submissions)      | 95%            |\n",
    "| 4     | Performed 98% to 100% of requirements, Average                  | 89% to 92%     |\n",
    "| 3     | Missing some key elements                                       | 80% to 85%     |\n",
    "| 2     | Missing many to most key elements                               | 70%            |\n",
    "| 1     | No work                                                         | 55%            |\n",
    "| 0     | Copying or not understanding work performed                     | 0%             |\n",
    "| **Final 5%** | Document any awards and notes in Grading Spreadsheet. Include comments explaining why and how you thought of each line, as well as showing pseudocode if applicable. (Anyone can earn this, doesn't matter if you're top in the class or not, just a way to get a 100%) | **1% to 5%**   |\n"
   ]
  }
 ],
 "metadata": {
  "language_info": {
   "name": "python"
  }
 },
 "nbformat": 4,
 "nbformat_minor": 2
}
