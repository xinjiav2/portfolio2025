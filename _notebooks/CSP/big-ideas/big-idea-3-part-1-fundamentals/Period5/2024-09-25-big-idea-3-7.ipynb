{
 "cells": [
  {
   "cell_type": "raw",
   "metadata": {
    "vscode": {
     "languageId": "raw"
    }
   },
   "source": [
    "---\n",
    "layout: post\n",
    "type: hacks\n",
    "title: 3.7 Nested Conditionals \n",
    "description: Student led teaching on Conditionals. \n",
    "categories: [CSP Big Ideas]\n",
    "author: Abby Manalo\n",
    "permalink: csp/big-idea/p5/3-7\n",
    "comments: true\n",
    "menu: nav/csp_units/csp_unit3_p5_fundamentals.html\n",
    "---"
   ]
  },
  {
   "cell_type": "markdown",
   "metadata": {},
   "source": [
    "## Nested Conditionals"
   ]
  },
  {
   "cell_type": "markdown",
   "metadata": {},
   "source": [
    "## Introduction \n",
    "Nested conditionals are essentially conditionals inside conditionals. They can be used when you're creating conditionals that can have multiple possible situations. "
   ]
  },
  {
   "cell_type": "markdown",
   "metadata": {},
   "source": [
    "## Flowchart Example\n",
    "This is a flowchart example using draw.io explainig how nested conditionals generally work"
   ]
  },
  {
   "cell_type": "markdown",
   "metadata": {},
   "source": [
    "<div style=\"text-align:center\"><img src=\"{{site.baseurl}}/images/csp-period-5-flowcharts/nested-conditionals.png\" alt=\"Nested Conditionals Flowchart\"></div>"
   ]
  },
  {
   "cell_type": "markdown",
   "metadata": {},
   "source": [
    "## Python example\n",
    "In this example, the nested conditional statement checks the budget and depending on how much money there is, it will determine what kind of iphone can be purchased. "
   ]
  },
  {
   "cell_type": "code",
   "execution_count": 5,
   "metadata": {},
   "outputs": [
    {
     "name": "stdout",
     "output_type": "stream",
     "text": [
      "You can buy an iPhone 12!\n"
     ]
    }
   ],
   "source": [
    "%%python\n",
    "# Budget\n",
    "budget = 900  \n",
    "\n",
    "# Phone prices\n",
    "iphone_16_price = 1200\n",
    "iphone_14_price = 1000\n",
    "iphone_12_price = 800\n",
    "\n",
    "# Determine which iPhone you can buy\n",
    "if budget >= iphone_16_price:\n",
    "    print(\"You can buy an iPhone 16!\")\n",
    "elif budget >= iphone_14_price:\n",
    "    print(\"You can buy an iPhone 14!\")\n",
    "elif budget >= iphone_12_price:\n",
    "    print(\"You can buy an iPhone 12!\")\n",
    "else:\n",
    "    print(\"You don't have enough money to buy an iPhone.\")\n"
   ]
  },
  {
   "cell_type": "markdown",
   "metadata": {},
   "source": [
    "In the example, my budget is $900. The statement means that if the budget price is t least $1200 (iphone 16 price), then it will print \"You can buy an iPhone 16!\" Since that is not true for my budget, it will keep going through the conditional statements until it finds one that applies to my situation. In this case, it is the second to last condition, which is the price of the iPhone 12. Therefore, it should print out \"You can buy an iPhone 12!\""
   ]
  },
  {
   "cell_type": "markdown",
   "metadata": {},
   "source": [
    "# Popcorn Hack\n",
    "Change the set budget in the iphone example to see what other messages will be printed out."
   ]
  },
  {
   "cell_type": "markdown",
   "metadata": {},
   "source": [
    "### Javascript example\n",
    "Here is the same example but now in Javascript"
   ]
  },
  {
   "cell_type": "code",
   "execution_count": 9,
   "metadata": {
    "vscode": {
     "languageId": "javascript"
    }
   },
   "outputs": [
    {
     "data": {
      "application/javascript": "// Budget\nlet budget = 900;\n\n// Phone prices\nlet iphone_16_price = 1200;\nlet iphone_14_price = 1000;\nlet iphone_12_price = 800;\n\n// Determine which iPhone you can buy\nif (budget >= iphone_16_price) {\n    console.log(\"You can buy an iPhone 16!\");\n} else if (budget >= iphone_14_price) {\n    console.log(\"You can buy an iPhone 14!\");\n} else if (budget >= iphone_12_price) {\n    console.log(\"You can buy an iPhone 12!\");\n} else {\n    console.log(\"You don't have enough money to buy an iPhone.\");\n}\n",
      "text/plain": [
       "<IPython.core.display.Javascript object>"
      ]
     },
     "metadata": {},
     "output_type": "display_data"
    }
   ],
   "source": [
    "%%js\n",
    "// Budget\n",
    "let budget = 900;\n",
    "\n",
    "// Phone prices\n",
    "let iphone_16_price = 1200;\n",
    "let iphone_14_price = 1000;\n",
    "let iphone_12_price = 800;\n",
    "\n",
    "// Determine which iPhone you can buy\n",
    "if (budget >= iphone_16_price) {\n",
    "    console.log(\"You can buy an iPhone 16!\");\n",
    "} else if (budget >= iphone_14_price) {\n",
    "    console.log(\"You can buy an iPhone 14!\");\n",
    "} else if (budget >= iphone_12_price) {\n",
    "    console.log(\"You can buy an iPhone 12!\");\n",
    "} else {\n",
    "    console.log(\"You don't have enough money to buy an iPhone.\");\n",
    "}\n"
   ]
  },
  {
   "cell_type": "markdown",
   "metadata": {
    "vscode": {
     "languageId": "javascript"
    }
   },
   "source": [
    "## Example 2 \n",
    "Here is another example but instead of numerical values as the variable conditions, it is true or false. This means that the script checks for whether or not the variable exists in this situation."
   ]
  },
  {
   "cell_type": "markdown",
   "metadata": {},
   "source": [
    "### Python Example"
   ]
  },
  {
   "cell_type": "code",
   "execution_count": 7,
   "metadata": {},
   "outputs": [
    {
     "name": "stdout",
     "output_type": "stream",
     "text": [
      "You have the basic ingredients.\n",
      "You can make a basic cake batter.\n",
      "You don't have milk, the cake might be a bit dry.\n",
      "Your cake will rise perfectly.\n",
      "No vanilla extract, the flavor will be more basic.\n"
     ]
    }
   ],
   "source": [
    "%%python\n",
    "# Ingredients\n",
    "has_flour = True\n",
    "has_sugar = True\n",
    "has_eggs = True\n",
    "has_milk = False\n",
    "has_baking_powder = True\n",
    "has_vanilla_extract = False\n",
    "\n",
    "# Baking logic based on available ingredients\n",
    "if has_flour and has_sugar:\n",
    "    print(\"You have the basic ingredients.\")\n",
    "    \n",
    "    if has_eggs:\n",
    "        print(\"You can make a basic cake batter.\")\n",
    "\n",
    "        if has_milk:\n",
    "            print(\"Great! The cake will be moist.\")\n",
    "        else:\n",
    "            print(\"You don't have milk, the cake might be a bit dry.\")\n",
    "        \n",
    "        if has_baking_powder:\n",
    "            print(\"Your cake will rise perfectly.\")\n",
    "        else:\n",
    "            print(\"Without baking powder, the cake might not rise.\")\n",
    "        \n",
    "        if has_vanilla_extract:\n",
    "            print(\"The cake will have a nice vanilla flavor.\")\n",
    "        else:\n",
    "            print(\"No vanilla extract, the flavor will be more basic.\")\n",
    "    else:\n",
    "        print(\"You can't bake a cake without eggs.\")\n",
    "\n",
    "else:\n",
    "    print(\"You don't have enough ingredients to bake a cake.\")\n"
   ]
  },
  {
   "cell_type": "markdown",
   "metadata": {},
   "source": [
    "# Popcorn Hack\n",
    "This code has many different \"ingredients\" in it. Change up which ingredients are true or false in order to get new printed messages. "
   ]
  },
  {
   "cell_type": "markdown",
   "metadata": {},
   "source": [
    "### Javascript Example\n",
    "This is the same code but in JavaScript"
   ]
  },
  {
   "cell_type": "code",
   "execution_count": 8,
   "metadata": {
    "vscode": {
     "languageId": "javascript"
    }
   },
   "outputs": [
    {
     "data": {
      "application/javascript": "// Ingredients\nlet has_flour = true;\nlet has_sugar = true;\nlet has_eggs = true;\nlet has_milk = false;\nlet has_baking_powder = true;\nlet has_vanilla_extract = false;\n\n// Baking logic based on available ingredients\nif (has_flour && has_sugar) {\n    console.log(\"You have the basic ingredients.\");\n\n    if (has_eggs) {\n        console.log(\"You can make a basic cake batter.\");\n\n        if (has_milk) {\n            console.log(\"Great! The cake will be moist.\");\n        } else {\n            console.log(\"You don't have milk, the cake might be a bit dry.\");\n        }\n\n        if\n",
      "text/plain": [
       "<IPython.core.display.Javascript object>"
      ]
     },
     "metadata": {},
     "output_type": "display_data"
    }
   ],
   "source": [
    "%%js\n",
    "// Ingredients\n",
    "let has_flour = true;\n",
    "let has_sugar = true;\n",
    "let has_eggs = true;\n",
    "let has_milk = false;\n",
    "let has_baking_powder = true;\n",
    "let has_vanilla_extract = false;\n",
    "\n",
    "// Baking logic based on available ingredients\n",
    "if (has_flour && has_sugar) {\n",
    "    console.log(\"You have the basic ingredients.\");\n",
    "\n",
    "    if (has_eggs) {\n",
    "        console.log(\"You can make a basic cake batter.\");\n",
    "\n",
    "        if (has_milk) {\n",
    "            console.log(\"Great! The cake will be moist.\");\n",
    "        } else {\n",
    "            console.log(\"You don't have milk, the cake might be a bit dry.\");\n",
    "        }\n",
    "\n",
    "        if\n"
   ]
  },
  {
   "cell_type": "markdown",
   "metadata": {},
   "source": [
    "# Hacks"
   ]
  },
  {
   "cell_type": "markdown",
   "metadata": {},
   "source": [
    "## Hack 1\n",
    "Now it's time to practice Nested Conditionals! \n",
    "- test out the examples above and change up the the starting values to play with how the conditions within eachother work\n",
    "- demonstrate knowledge of nested conditionals by creating your own nested conditional statements. "
   ]
  }
 ],
 "metadata": {
  "kernelspec": {
   "display_name": "Python 3",
   "language": "python",
   "name": "python3"
  },
  "language_info": {
   "codemirror_mode": {
    "name": "ipython",
    "version": 3
   },
   "file_extension": ".py",
   "mimetype": "text/x-python",
   "name": "python",
   "nbconvert_exporter": "python",
   "pygments_lexer": "ipython3",
   "version": "3.10.12"
  }
 },
 "nbformat": 4,
 "nbformat_minor": 2
}
