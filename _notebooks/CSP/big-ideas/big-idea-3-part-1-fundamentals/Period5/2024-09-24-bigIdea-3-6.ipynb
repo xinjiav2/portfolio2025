{
 "cells": [
  {
   "cell_type": "raw",
   "metadata": {
    "vscode": {
     "languageId": "raw"
    }
   },
   "source": [
    "---\n",
    "title: 3.6 Pseudocode for Lesson \n",
    "description: Writing pseudocode and additional hacks for each thing. Possibly adding flowcharts\n",
    "layout: post\n",
    "type: hacks\n",
    "menu: nav/csp_units/csp_unit3_p5_fundamentals.html\n",
    "permalink: /csp/big-idea/p5/3-6\n",
    "submenu: lesson3_6\n",
    "comments: true\n",
    "---"
   ]
  },
  {
   "cell_type": "markdown",
   "metadata": {},
   "source": [
    "## Pseudocode!"
   ]
  },
  {
   "cell_type": "markdown",
   "metadata": {},
   "source": [
    "### If statements\n",
    "This is a pseudocode example of using if statements on their own. We'll go further into else statements after this.\n",
    "\n",
    "```\n",
    "boolean = false;\n",
    "int = 17;\n",
    "string = ‘bob’\n",
    "\n",
    "if boolean is true\n",
    "    display “Variable is true!”\n",
    "// This will not display any value since boolean is set to false\n",
    "\n",
    "if int >= 10\n",
    "    display “This number is greater than or equal to 10!”\n",
    "// This will display the value due to the fact the int is equal to 17\n",
    "\n",
    "if string == 'bob'\n",
    "    display \"String is equal to bob\"\n",
    "// This will display the value since the string's are the same, if they weren't it would not\n",
    "```"
   ]
  },
  {
   "cell_type": "markdown",
   "metadata": {},
   "source": [
    "### Else Statements\n",
    "A pseudocode example of how to use else statemnets and there purpose.\n",
    "\n",
    "```\n",
    "boolean = false;\n",
    "int = 17;\n",
    "string = ‘bob’\n",
    "\n",
    "if boolean is true\n",
    "    display 'boolean is true!'\n",
    "else\n",
    "    display 'boolean is false!'\n",
    "// Due to the boolean being false the if statement will not work, thus not displaying \"boolean is true!\" When the if statement fails the else statement runs no matter what.\n",
    "\n",
    "if int >= 10\n",
    "    display 'This number is greater than or equal to 10!'\n",
    "else\n",
    "    display 'This number is less than 10'\n",
    "// The above code will display 'This number is greater than or equal to 10!'. It will not display 'This number is less than 10' due to the fact that it already meets the qualifications for the first if statement. Therefore it stops going through the if statement, and does no go to the else statement.\n",
    "```"
   ]
  },
  {
   "cell_type": "markdown",
   "metadata": {},
   "source": [
    "### Nesting Conditionals\n",
    "This is a pseudocode example of how to nest conditionals.\n",
    "\n",
    "```\n",
    "boolean = false;\n",
    "int = 17;\n",
    "\n",
    "if boolean == true\n",
    "    if int >= 10\n",
    "        display 'This is both true and greater than or equal to 10'\n",
    "    else\n",
    "        display 'This is both true and less than 10'\n",
    "else\n",
    "    if int >- 10\n",
    "        display 'This is both false and greater than or equal to 10'\n",
    "    else\n",
    "        display 'This is both false and less than 10'\n",
    "// The display will read 'This is both false and greater than or equal to 10.' This is due to the fact that we have an if statement in another if statement. In this code it runs through the first if statement, and then runs the second if statement. This second if statement runs display 'This is both true and greater than or equal to 10'. The first if statement checks false and moves to the else statement. Then the if statement is checked, and since it is true displays 'This is both false and greater than or equal to 10'.\n",
    "```"
   ]
  },
  {
   "cell_type": "markdown",
   "metadata": {},
   "source": [
    "## Hack 1\n",
    "Your hack is to create a piece of code that compares two statements and checks if they are equal to each other"
   ]
  },
  {
   "cell_type": "markdown",
   "metadata": {},
   "source": [
    "## Hack 2\n",
    "Create a hack that compares two variables to one another, if they are true return \"We are the same\" if they are not check if they are the same length, if they are return \"We are the same length!\" If none of these are true return \"We are not that similar :\\(\"\n",
    "\n",
    "Hint: Use the len() function. len() function accepts a string as an input and outputs the string's length"
   ]
  },
  {
   "cell_type": "markdown",
   "metadata": {},
   "source": [
    "## Hack 3\n",
    "Create a hack that asks the user to type the numbers up to 10. Not all at once. "
   ]
  }
 ],
 "metadata": {
  "kernelspec": {
   "display_name": "venv",
   "language": "python",
   "name": "python3"
  },
  "language_info": {
   "codemirror_mode": {
    "name": "ipython",
    "version": 3
   },
   "file_extension": ".py",
   "mimetype": "text/x-python",
   "name": "python",
   "nbconvert_exporter": "python",
   "pygments_lexer": "ipython3",
   "version": "3.12.6"
  }
 },
 "nbformat": 4,
 "nbformat_minor": 2
}
