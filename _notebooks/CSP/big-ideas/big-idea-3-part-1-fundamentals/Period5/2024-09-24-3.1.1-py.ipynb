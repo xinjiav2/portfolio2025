{
 "cells": [
  {
   "cell_type": "raw",
   "metadata": {
    "vscode": {
     "languageId": "raw"
    }
   },
   "source": [
    "---\n",
    "toc: false\n",
    "comments: true\n",
    "layout: post\n",
    "title: 3.1 Python Variables\n",
    "description: Learning how to use variables in Python\n",
    "permalink: csp/big-idea/3.1/p5/py/info\n",
    "submenu: lesson3_1\n",
    "categories: [CSP Big Ideas]\n",
    "author: Aadi, Aaditya, Aditya, Kanhay\n",
    "menu: nav/csp_units/csp_unit3_p5_fundamentals.html\n",
    "---"
   ]
  },
  {
   "cell_type": "markdown",
   "metadata": {},
   "source": [
    "<style>\n",
    "body {\n",
    "    background-color: #e6f0ff !important;\n",
    "    color: black !important;\n",
    "}\n",
    "article {\n",
    "    background-color: #cce5ff !important;\n",
    "    color: black !important;\n",
    "    border: 2px solid #66b3ff !important;\n",
    "    padding: 20px !important;\n",
    "    border-radius: 64px !important;\n",
    "}\n",
    "h1, h2, h3, h4, p {\n",
    "    color: black !important;\n",
    "}\n",
    "blockquote {\n",
    "    background-color: #272726 !important;\n",
    "    border-left: 4px solid #66b3ff !important;\n",
    "    color: black !important;\n",
    "    padding: 10px 20px !important;\n",
    "    margin: 10px 0 !important;\n",
    "    border-radius: 64px !important;\n",
    "}\n",
    "code {\n",
    "    color: white !important;\n",
    "    padding: 2px 4px !important;\n",
    "    border-radius: 64px !important;\n",
    "}\n",
    "\n",
    "</style>"
   ]
  },
  {
   "cell_type": "markdown",
   "metadata": {},
   "source": [
    "## Naming Conventions\n",
    "\n",
    "There are many naming conventions for variables in programming.\n",
    "\n",
    "# snake_case\n",
    "\n",
    "In snake case, words in variables are all lowercase and are separated by a comma. These are some examples:\n",
    "\n",
    "```\n",
    "foo_bar\n",
    "one_two\n",
    "peppa_pig\n",
    "```\n",
    "\n",
    "# camelCase\n",
    "\n",
    "In camel case, the first word is lowercase, and the first letter of the remaining words are uppercase. These are some examples:\n",
    "\n",
    "```\n",
    "fooBar\n",
    "oneTwo\n",
    "peppaPig\n",
    "```\n",
    "\n",
    "# PascalCase\n",
    "\n",
    "In pascal case, The first letter of each word is uppercase. These are some examples:\n",
    "\n",
    "```\n",
    "FooBar\n",
    "OneTwo\n",
    "PeppaPig\n",
    "```\n",
    "\n",
    "In Python, we use snake case for data."
   ]
  },
  {
   "cell_type": "markdown",
   "metadata": {},
   "source": [
    "## Introduction to Variables in Python\n",
    "\n",
    "A variables is used to store data in Python.\n"
   ]
  },
  {
   "cell_type": "code",
   "execution_count": 1,
   "metadata": {},
   "outputs": [
    {
     "name": "stdout",
     "output_type": "stream",
     "text": [
      "True\n",
      "False\n"
     ]
    }
   ],
   "source": [
    "# Booleans\n",
    "\n",
    "is_student = True\n",
    "is_teacher = False\n",
    "print(is_student)  # Output: True\n",
    "print(is_teacher)  # Output: False"
   ]
  },
  {
   "cell_type": "code",
   "execution_count": 2,
   "metadata": {},
   "outputs": [
    {
     "name": "stdout",
     "output_type": "stream",
     "text": [
      "Hello, World!\n",
      "Alice\n"
     ]
    }
   ],
   "source": [
    "# Strings\n",
    "# Strings are sequences of characters, used to store text.\n",
    "\n",
    "greeting = \"Hello, World!\"\n",
    "name = 'Alice'\n",
    "print(greeting)  # Output: Hello, World!\n",
    "print(name)  # Output: Alice"
   ]
  },
  {
   "cell_type": "code",
   "execution_count": 3,
   "metadata": {},
   "outputs": [
    {
     "name": "stdout",
     "output_type": "stream",
     "text": [
      "Alice\n",
      "['Math', 'Science']\n"
     ]
    }
   ],
   "source": [
    "# Dictionaries\n",
    "# Dictionaries are collections of key-value pairs.\n",
    "# Key-value pairs allow us to store and retrieve data using keys, which are identifiers.\n",
    "\n",
    "student = {\n",
    "    'name': 'Alice',\n",
    "    'age': 25,\n",
    "    'courses': ['Math', 'Science']\n",
    "}\n",
    "print(student['name'])  # Output: Alice\n",
    "print(student['courses'])  # Output: ['Math', 'Science']"
   ]
  },
  {
   "cell_type": "code",
   "execution_count": 4,
   "metadata": {},
   "outputs": [
    {
     "name": "stdout",
     "output_type": "stream",
     "text": [
      "[1, 2, 3, 4, 5]\n",
      "['apple', 'banana', 'cherry']\n",
      "Hello, World!\n",
      "Alice\n"
     ]
    }
   ],
   "source": [
    "# Arrays (Lists)\n",
    "# Lists are ordered collections of items.\n",
    "\n",
    "numbers = [1, 2, 3, 4, 5]\n",
    "fruits = ['apple', 'banana', 'cherry']\n",
    "print(numbers)  # Output: [1, 2, 3, 4, 5]\n",
    "print(fruits)  # Output: ['apple', 'banana', 'cherry']\n",
    "greeting = \"Hello, World!\"\n",
    "name = 'Alice'\n",
    "print(greeting)  # Output: Hello, World!\n",
    "print(name)  # Output: Alice"
   ]
  },
  {
   "cell_type": "code",
   "execution_count": 5,
   "metadata": {},
   "outputs": [
    {
     "name": "stdout",
     "output_type": "stream",
     "text": [
      "Alice\n",
      "['Math', 'Science']\n"
     ]
    }
   ],
   "source": [
    "# Dictionaries\n",
    "\n",
    "student = {\n",
    "    'name': 'Alice', # string\n",
    "    'age': 25, # int\n",
    "    'courses': ['Math', 'Science'] # list\n",
    "}\n",
    "print(student['name'])  # Output: Alice\n",
    "print(student['courses'])  # Output: ['Math', 'Science']"
   ]
  },
  {
   "cell_type": "code",
   "execution_count": 6,
   "metadata": {},
   "outputs": [
    {
     "name": "stdout",
     "output_type": "stream",
     "text": [
      "[1, 2, 3, 4, 5]\n",
      "['apple', 'banana', 'cherry']\n"
     ]
    }
   ],
   "source": [
    "# Arrays (Lists)\n",
    "\n",
    "numbers = [1, 2, 3, 4, 5]\n",
    "fruits = ['apple', 'banana', 'cherry']\n",
    "print(numbers)  # Output: [1, 2, 3, 4, 5]\n",
    "print(fruits)  # Output: ['apple', 'banana', 'cherry']"
   ]
  },
  {
   "cell_type": "markdown",
   "metadata": {},
   "source": [
    "<script>\n",
    "    // Function to check the answer\n",
    "    function checkAnswer(questionNumber, correctOption) {\n",
    "        const selectedOption = document.querySelector(`input[name=\"q${questionNumber}\"]:checked`);\n",
    "        \n",
    "        if (selectedOption) {\n",
    "            const userAnswer = selectedOption.value;\n",
    "            if (userAnswer === correctOption) {\n",
    "                alert(\"✅ Correct!\");\n",
    "            } else {\n",
    "                alert(\"❌ Incorrect!\");\n",
    "            }\n",
    "        } else {\n",
    "            alert(\"Please select an answer!\");\n",
    "        }\n",
    "    }\n",
    "</script>\n",
    "\n",
    "\n",
    "<div class=\"quiz-container\">\n",
    "    <div class=\"question\">\n",
    "        <p>1. Which of these commands will write \"Hello\"?</p>\n",
    "        <input type=\"radio\" name=\"q1\" value=\"A\">print(\"Hello\")<br>\n",
    "        <input type=\"radio\" name=\"q1\" value=\"B\">Print(Hello)<br>\n",
    "        <input type=\"radio\" name=\"q1\" value=\"C\">print\"Hello\"<br>\n",
    "        <br>\n",
    "        <button onclick=\"checkAnswer(1, 'A')\">Submit Answer</button>\n",
    "    </div>\n",
    "    <div class=\"question\">\n",
    "        <p>2. Which of these do you use to create an empty dictionary?</p>\n",
    "        <input type=\"radio\" name=\"q2\" value=\"A\">()<br>\n",
    "        <input type=\"radio\" name=\"q2\" value=\"B\">[]<br>\n",
    "        <input type=\"radio\" name=\"q2\" value=\"C\">{}<br>\n",
    "        <br>\n",
    "        <button onclick=\"checkAnswer(2, 'C')\">Submit Answer</button>\n",
    "    </div>\n",
    "    <div class=\"question\">\n",
    "        <p>3. Given arr = ['apple', 'banana', 'cherry'], which of these equates to \"cherry\"?</p>\n",
    "        <input type=\"radio\" name=\"q3\" value=\"A\">arr[0]<br>\n",
    "        <input type=\"radio\" name=\"q3\" value=\"B\">arr[1]<br>\n",
    "        <input type=\"radio\" name=\"q3\" value=\"C\">arr[2]<br>\n",
    "        <br>\n",
    "        <button onclick=\"checkAnswer(3, 'C')\">Submit Answer</button>\n",
    "    </div>\n",
    "</div>\n",
    "\n",
    "<style>\n",
    "    body {\n",
    "        background-color: #f4f4f4;\n",
    "        color: white;\n",
    "        padding: 20px;\n",
    "    }\n",
    "    h2 {\n",
    "        color: white;\n",
    "    }\n",
    "    .quiz-container {\n",
    "        background-color: #333333;\n",
    "        border-radius: 8px;\n",
    "        box-shadow: 0 4px 8px rgba(0, 0, 0, 0.1);\n",
    "        padding: 20px;\n",
    "        max-width: 600px;\n",
    "        margin: 0 auto;\n",
    "    }\n",
    "    .question {\n",
    "        margin-bottom: 20px;\n",
    "    }\n",
    "    .question p {\n",
    "        font-size: 18px;\n",
    "        margin-bottom: 10px;\n",
    "    }\n",
    "    .question input {\n",
    "        margin-right: 10px;\n",
    "    }\n",
    "    .question button {\n",
    "        background-color: #0056b3;\n",
    "        color: white;\n",
    "        border: none;\n",
    "        padding: 10px 20px;\n",
    "        border-radius: 4px;\n",
    "        cursor: pointer;\n",
    "        transition: background-color 0.3s;\n",
    "    }\n",
    "    .question button:hover {\n",
    "        background-color: #003d80;\n",
    "    }\n",
    "</style>\n"
   ]
  }
 ],
 "metadata": {
  "kernelspec": {
   "display_name": "Python 3",
   "language": "python",
   "name": "python3"
  },
  "language_info": {
   "codemirror_mode": {
    "name": "ipython",
    "version": 3
   },
   "file_extension": ".py",
   "mimetype": "text/x-python",
   "name": "python",
   "nbconvert_exporter": "python",
   "pygments_lexer": "ipython3",
   "version": "3.12.3"
  }
 },
 "nbformat": 4,
 "nbformat_minor": 2
}
