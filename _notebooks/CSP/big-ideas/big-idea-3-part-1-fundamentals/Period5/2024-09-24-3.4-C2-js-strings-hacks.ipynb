{
 "cells": [
  {
   "cell_type": "raw",
   "metadata": {
    "vscode": {
     "languageId": "raw"
    }
   },
   "source": [
    "---\n",
    "toc: false\n",
    "comments: true\n",
    "layout: post\n",
    "title: 3.4 JavaScript Strings Popcorn Hacks\n",
    "description: 3.4 JavaScript popcorn hacks\n",
    "permalink: /csp/big-idea/3.4/js/strings/hacks\n",
    "categories: [CSP Big Ideas]\n",
    "author: Aadi, Aaditya, Aditya, Kanhay\n",
    "menu: nav/csp_units/csp_unit3_p5_fundamentals.html\n",
    "---"
   ]
  },
  {
   "cell_type": "markdown",
   "metadata": {},
   "source": [
    "<style>\n",
    "body {\n",
    "    background-color: #e6f0ff !important;\n",
    "    color: black !important;\n",
    "}\n",
    "article {\n",
    "    background-color: #cce5ff !important;\n",
    "    color: black !important;\n",
    "    border: 2px solid #66b3ff !important;\n",
    "    padding: 20px !important;\n",
    "    border-radius: 64px !important;\n",
    "}\n",
    "h1, h2, h3, h4, p {\n",
    "    color: black !important;\n",
    "}\n",
    "blockquote {\n",
    "    background-color: #272726 !important;\n",
    "    border-left: 4px solid #66b3ff !important;\n",
    "    color: black !important;\n",
    "    padding: 10px 20px !important;\n",
    "    margin: 10px 0 !important;\n",
    "    border-radius: 64px !important;\n",
    "}\n",
    "code {\n",
    "    color: white !important;\n",
    "    padding: 2px 4px !important;\n",
    "    border-radius: 64px !important;\n",
    "}\n",
    "\n",
    "</style>"
   ]
  },
  {
   "cell_type": "markdown",
   "metadata": {},
   "source": [
    "```js\n",
    "// Find the number of characters in your last name.\n",
    "\n",
    "// Example:\n",
    "\n",
    "let last_name = \"Williams\";\n",
    "let length = last_name.length;\n",
    "\n",
    "console.log(length);\n",
    "\n",
    "// Merge your first and last name together.\n",
    "\n",
    "// Example: \n",
    "\n",
    "let name = \"Trent\" + \" \" + \"Williams\";\n",
    "\n",
    "console.log(name);\n",
    "\n",
    "// Show only the 2rd to 8th characters in your name\n",
    "\n",
    "// Example:\n",
    "\n",
    "let substring = name.substring(1,8);\n",
    "\n",
    "console.log(substring);\n",
    "```"
   ]
  }
 ],
 "metadata": {
  "language_info": {
   "name": "python"
  }
 },
 "nbformat": 4,
 "nbformat_minor": 2
}
