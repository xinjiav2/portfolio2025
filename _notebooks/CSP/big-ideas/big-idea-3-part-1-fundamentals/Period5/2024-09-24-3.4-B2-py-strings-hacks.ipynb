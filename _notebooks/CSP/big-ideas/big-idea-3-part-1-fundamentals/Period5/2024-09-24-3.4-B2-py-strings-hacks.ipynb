{
 "cells": [
  {
   "cell_type": "raw",
   "metadata": {
    "vscode": {
     "languageId": "raw"
    }
   },
   "source": [
    "---\n",
    "toc: false\n",
    "comments: true\n",
    "layout: post\n",
    "title: 3.4 Python Strings Popcorn Hacks\n",
    "description: 3.4 Python popcorn hacks\n",
    "permalink: /csp/big-idea/3.4/py/strings/hacks\n",
    "categories: [CSP Big Ideas]\n",
    "author: Aadi, Aaditya, Aditya, Kanhay\n",
    "menu: nav/csp_units/csp_unit3_p5_fundamentals.html\n",
    "---"
   ]
  },
  {
   "cell_type": "markdown",
   "metadata": {},
   "source": [
    "<style>\n",
    "body {\n",
    "    background-color: #e6f0ff !important;\n",
    "    color: black !important;\n",
    "}\n",
    "article {\n",
    "    background-color: #cce5ff !important;\n",
    "    color: black !important;\n",
    "    border: 2px solid #66b3ff !important;\n",
    "    padding: 20px !important;\n",
    "    border-radius: 64px !important;\n",
    "}\n",
    "h1, h2, h3, h4, p {\n",
    "    color: black !important;\n",
    "}\n",
    "blockquote {\n",
    "    background-color: #272726 !important;\n",
    "    border-left: 4px solid #66b3ff !important;\n",
    "    color: black !important;\n",
    "    padding: 10px 20px !important;\n",
    "    margin: 10px 0 !important;\n",
    "    border-radius: 64px !important;\n",
    "}\n",
    "code {\n",
    "    color: white !important;\n",
    "    padding: 2px 4px !important;\n",
    "    border-radius: 64px !important;\n",
    "}\n",
    "</style>"
   ]
  },
  {
   "cell_type": "code",
   "execution_count": null,
   "metadata": {},
   "outputs": [],
   "source": [
    "# Find the number of characters in your last name using len.\n",
    "\n",
    "# Example:\n",
    "\n",
    "length = len(\"Williams\")\n",
    "print(length)\n",
    "\n",
    "# Use concat to merge your first and last name together.\n",
    "\n",
    "# Example:\n",
    "\n",
    "concat_string = \"Trent\" + \"Williams\"\n",
    "print(concat_string)\n",
    "\n",
    "# Use substring to show only the 3rd to 6th characters\n",
    "\n",
    "# Example:\n",
    "\n",
    "substring = concat_string[2:6]\n",
    "print(substring)"
   ]
  }
 ],
 "metadata": {
  "kernelspec": {
   "display_name": "venv",
   "language": "python",
   "name": "python3"
  },
  "language_info": {
   "name": "python",
   "version": "3.10.12"
  }
 },
 "nbformat": 4,
 "nbformat_minor": 2
}
