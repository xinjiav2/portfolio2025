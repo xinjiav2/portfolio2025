{
 "cells": [
  {
   "cell_type": "code",
   "execution_count": null,
   "metadata": {
    "vscode": {
     "languageId": "plaintext"
    }
   },
   "outputs": [],
   "source": [
    "---\n",
    "toc: false\n",
    "comments: true\n",
    "layout: post\n",
    "title: 3.10 Homework and Submission\n",
    "description: This is the grading and submission page for 3.10, period 3. Review the rubric, and when you are ready, submit!\n",
    "permalink: /csp/big-idea/p3/3-10-5\n",
    "categories: [CSP Big Ideas]\n",
    "author: Ryan Nguyen\n",
    "menu: nav/csp_units/csp_unit3_p3_fundamentals.html\n",
    "---"
   ]
  },
  {
   "cell_type": "markdown",
   "metadata": {},
   "source": [
    "<div style=\"border: 2px solid #D8BFD8; padding: 15px; border-radius: 10px;\">\n",
    "  <span style=\"color: #87CEFA;\">Homework</span>\n",
    "\n",
    "  <p>\n",
    "    Your homework is to complete the Python and Javascript hacks. By now, you should've completed the Popcorn Hacks in-class. If you have not, it is now part of your homework! Please complete the hacks we introduced in 10.3 and 10.4.\n",
    "  </p>\n",
    "\n",
    "  <ul>\n",
    "    <li>\n",
    "      Please review the grading rubric found <a href=\"https://github.com/Ryan378-code/portfolio_2025/issues/4\" style=\"color: #87CEFA;\">here</a> before submitting.\n",
    "    </li>\n",
    "  </ul>\n",
    "</div>\n"
   ]
  },
  {
   "cell_type": "markdown",
   "metadata": {},
   "source": [
    "<div style=\"border: 2px solid #D8BFD8; padding: 15px; border-radius: 10px;\">\n",
    "  <span style=\"color: #87CEFA;\">Homework Submission:</span>\n",
    "  <p>\n",
    "    Please submit your homework <a href=\"https://github.com/Ryan378-code/portfolio_2025/issues/2\" style=\"color: #87CEFA;\">here</a>.\n",
    "  </p>\n",
    "</div>\n"
   ]
  }
 ],
 "metadata": {
  "language_info": {
   "name": "python"
  }
 },
 "nbformat": 4,
 "nbformat_minor": 2
}
