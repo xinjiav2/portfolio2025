{
 "cells": [
  {
   "cell_type": "raw",
   "metadata": {
    "vscode": {
     "languageId": "raw"
    }
   },
   "source": [
    "---\n",
    "toc: false\n",
    "comments: true\n",
    "permalink: /csp/big-idea/p3/3-5-3\n",
    "layout: post\n",
    "title: 3.5 Booleans; All About Booleans (Period 3)\n",
    "description: Student led teaching on Booleans. Learn how booleans are used in decision-making with logical operators. \n",
    "categories: [CSP Big Ideas]\n",
    "author: Max G, Johan M, Trevor V\n",
    "menu: /nav/csp_units/csp_unit3_p3_fundamentals.html\n",
    "---"
   ]
  },
  {
   "cell_type": "markdown",
   "metadata": {},
   "source": [
    "<style>\n",
    "  /* Global styling for the notebook with dark background */\n",
    "  body {\n",
    "      font-family: 'Arial', sans-serif;\n",
    "      background-color: #3e2723; /* Dark brown background */\n",
    "      color: #efebe9; /* Light beige text for contrast */\n",
    "  }\n",
    "\n",
    "  /* Styling headers with lighter brown tones */\n",
    "  h1, h2, h3, h4, h5 {\n",
    "      color: #efebe9; /* Light beige for headers */\n",
    "      border-bottom: 2px solid #795548; /* Medium brown border */\n",
    "      padding-bottom: 5px;\n",
    "      margin-bottom: 15px;\n",
    "  }\n",
    "\n",
    "  /* Custom style for inline code */\n",
    "  code {\n",
    "      background-color: #4e342e; /* Darker brown for code background */\n",
    "      color: #d7ccc8; /* Light brown for inline code */\n",
    "      padding: 2px 5px;\n",
    "      border-radius: 4px;\n",
    "  }\n",
    "\n",
    "  /* Custom style for preformatted code blocks */\n",
    "  pre {\n",
    "      background-color: #4e342e;\n",
    "      color: #efebe9;\n",
    "      padding: 10px;\n",
    "      border-radius: 5px;\n",
    "      border: 1px solid #795548; /* Medium brown for border */\n",
    "      overflow-x: auto;\n",
    "  }\n",
    "\n",
    "  /* Code block syntax highlighting */\n",
    "  .hljs-keyword, .hljs-selector-tag, .hljs-subst {\n",
    "      color: #bcaaa4; /* Lighter brown for keywords */\n",
    "  }\n",
    "\n",
    "  .hljs-string, .hljs-attr, .hljs-symbol, .hljs-bullet, .hljs-addition {\n",
    "      color: #a1887f; /* Soft brown for strings */\n",
    "  }\n",
    "\n",
    "  .hljs-title, .hljs-section, .hljs-attribute {\n",
    "      color: #d7ccc8; /* Light brown for titles and sections */\n",
    "  }\n",
    "\n",
    "  .hljs-variable, .hljs-template-variable {\n",
    "      color: #8d6e63; /* Darker brown for variables */\n",
    "  }\n",
    "\n",
    "  .hljs-comment, .hljs-quote, .hljs-deletion {\n",
    "      color: #6d4c41; /* Dark brown for comments */\n",
    "  }\n",
    "\n",
    "  .hljs-number, .hljs-regexp, .hljs-literal, .hljs-type, .hljs-built_in, .hljs-builtin-name {\n",
    "      color: #a1887f; /* Soft brown for numbers and built-ins */\n",
    "  }\n",
    "\n",
    "  .hljs-meta {\n",
    "      color: #5d4037; /* Dark brown for meta information */\n",
    "  }\n",
    "\n",
    "  .hljs-emphasis {\n",
    "      font-style: italic;\n",
    "  }\n",
    "\n",
    "  .hljs-strong {\n",
    "      font-weight: bold;\n",
    "  }\n",
    "\n",
    "  /* Highlight blockquotes in medium brown */\n",
    "  blockquote {\n",
    "      border-left: 4px solid #8d6e63; /* Medium brown */\n",
    "      padding-left: 10px;\n",
    "      color: #efebe9;\n",
    "      font-style: italic;\n",
    "      background-color: #4e342e;\n",
    "      padding: 10px;\n",
    "      border-radius: 4px;\n",
    "  }\n",
    "\n",
    "  /* Styling for emphasized text */\n",
    "  em {\n",
    "      color: #a1887f; /* Soft brown for emphasized text */\n",
    "      font-style: italic;\n",
    "  }\n",
    "\n",
    "  /* Style for bold text */\n",
    "  strong {\n",
    "      color: #efebe9;\n",
    "      font-weight: bold;\n",
    "  }\n",
    "\n",
    "  /* Menu styling */\n",
    "  .menu {\n",
    "      background-color: #795548; /* Medium brown */\n",
    "      color: white;\n",
    "      padding: 10px;\n",
    "      border-radius: 5px;\n",
    "      text-align: center;\n",
    "  }\n",
    "\n",
    "  .menu a {\n",
    "      color: #d7ccc8; /* Light brown links in menu */\n",
    "      text-decoration: none;\n",
    "      padding: 0 10px;\n",
    "  }\n",
    "\n",
    "  .menu a:hover {\n",
    "      color: #8d6e63; /* Dark brown on hover */\n",
    "  }\n",
    "\n",
    "  /* Adjust the styling for markdown lists */\n",
    "  ul {\n",
    "      list-style-type: square;\n",
    "      color: #efebe9;\n",
    "  }\n",
    "\n",
    "  /* Styling tables with dark brown theme */\n",
    "  table {\n",
    "      border-collapse: collapse;\n",
    "      width: 100%;\n",
    "      background-color: #4e342e;\n",
    "  }\n",
    "  \n",
    "  table, th, td {\n",
    "      border: 1px solid #6d4c41; /* Dark brown for borders */\n",
    "      padding: 8px;\n",
    "      color: #efebe9;\n",
    "  }\n",
    "\n",
    "  th {\n",
    "      background-color: #795548; /* Medium brown for table headers */\n",
    "      color: white;\n",
    "  }\n",
    "\n",
    "  /* Custom styling for links with better visibility */\n",
    "  a {\n",
    "      color: #a1887f; /* Soft brown links */\n",
    "      text-decoration: none;\n",
    "  }\n",
    "\n",
    "  a:hover {\n",
    "      text-decoration: underline;\n",
    "      color: #8d6e63; /* Dark brown on hover */\n",
    "  }\n",
    "</style>\n"
   ]
  },
  {
   "cell_type": "markdown",
   "metadata": {},
   "source": [
    "# All About Booleans"
   ]
  },
  {
   "cell_type": "markdown",
   "metadata": {},
   "source": [
    "# What Are Booleans?\n",
    "In programming, a Boolean is a data type that can hold one of two values: true or false. These values are used to represent truth values, which are fundamental in controlling the flow of a program.\n",
    "\n",
    "# Basic Boolean Values\n",
    "True: Indicates a logically true condition.\n",
    "False: Indicates a logically false condition.\n",
    "# Boolean Expressions\n",
    "A Boolean expression is a statement that evaluates either true or false. Common Boolean expressions often involve comparison or relational operators, such as:\n",
    "\n",
    "Equal to (==)\n",
    "\n",
    "Not equal to (!=)\n",
    "\n",
    "Greater than (>)\n",
    "\n",
    "Less than (<)\n",
    "\n",
    "Greater than or equal to (>=)\n",
    "\n",
    "Less than or equal to (<=)\n",
    "\n"
   ]
  },
  {
   "cell_type": "code",
   "execution_count": 2,
   "metadata": {
    "vscode": {
     "languageId": "javascript"
    }
   },
   "outputs": [
    {
     "data": {
      "application/javascript": "\n// Example 1: Checking if a boolean is true\nconst variableA = true;\nconst variableB = false;\n\nif (variableA) {\n    console.log(\"VariableA is true!\");\n} else {\n    console.log(\"VariableA is false!\");\n}\n\nif (variableA && !variableB) {\n    console.log(\"VariableA is true and VariableB is false\");\n}\n\nif (variableA || variableB) {\n    console.log(\"Either VariableA or VariableB is true\");\n}\n",
      "text/plain": [
       "<IPython.core.display.Javascript object>"
      ]
     },
     "metadata": {},
     "output_type": "display_data"
    }
   ],
   "source": [
    "%%javascript\n",
    "\n",
    "// Example 1: Checking if a boolean is true\n",
    "\n",
    "const variableA = true;\n",
    "const variableB = false;\n",
    "\n",
    "if (variableA) {\n",
    "    console.log(\"VariableA is true!\");\n",
    "} else {\n",
    "    console.log(\"VariableA is false!\");\n",
    "}\n",
    "\n",
    "if (variableA && !variableB) {\n",
    "    console.log(\"VariableA is true and VariableB is false\");\n",
    "}\n",
    "\n",
    "if (variableA || variableB) {\n",
    "    console.log(\"Either VariableA or VariableB is true\");\n",
    "}\n"
   ]
  },
  {
   "cell_type": "code",
   "execution_count": 3,
   "metadata": {
    "vscode": {
     "languageId": "javascript"
    }
   },
   "outputs": [
    {
     "data": {
      "application/javascript": "\n// booleans in javascript\nconst number = 1;\n\nif (number > 10) {\n    console.log(\"Number is greater than ten!\");\n} else {\n    console.log(\"Number is not greater than ten!\");\n}\n",
      "text/plain": [
       "<IPython.core.display.Javascript object>"
      ]
     },
     "metadata": {},
     "output_type": "display_data"
    }
   ],
   "source": [
    "%%javascript\n",
    "\n",
    "// booleans in javascript\n",
    "const number = 1;\n",
    "\n",
    "if (number > 10) {\n",
    "    console.log(\"Number is greater than ten!\");\n",
    "} else {\n",
    "    console.log(\"Number is not greater than ten!\");\n",
    "}"
   ]
  },
  {
   "cell_type": "code",
   "execution_count": 4,
   "metadata": {
    "vscode": {
     "languageId": "javascript"
    }
   },
   "outputs": [
    {
     "data": {
      "application/javascript": "\n//Example of using Booleans with numbers in Python\n\nconst temperature = 105  \nis_hot = temperature > 100 //Boolean expression (WILL BE TRUE)\n\nconst number = 50\n\nif (number > 100) {\n    console.log(\"It's a a big number day!\")\n} else {\n    console.log(\"It's a small number\")\n}\n",
      "text/plain": [
       "<IPython.core.display.Javascript object>"
      ]
     },
     "metadata": {},
     "output_type": "display_data"
    }
   ],
   "source": [
    "%%javascript\n",
    "\n",
    "//Example of using Booleans with numbers in Python\n",
    "\n",
    "const temperature = 105  \n",
    "is_hot = temperature > 100 //Boolean expression (WILL BE TRUE)\n",
    "\n",
    "const number = 50\n",
    "\n",
    "if (number > 100) {\n",
    "    console.log(\"It's a a big number day!\")\n",
    "} else {\n",
    "    console.log(\"It's a small number\")\n",
    "}\n"
   ]
  }
 ],
 "metadata": {
  "kernelspec": {
   "display_name": "Python 3",
   "language": "python",
   "name": "python3"
  },
  "language_info": {
   "codemirror_mode": {
    "name": "ipython",
    "version": 3
   },
   "file_extension": ".py",
   "mimetype": "text/x-python",
   "name": "python",
   "nbconvert_exporter": "python",
   "pygments_lexer": "ipython3",
   "version": "3.11.1"
  }
 },
 "nbformat": 4,
 "nbformat_minor": 2
}
