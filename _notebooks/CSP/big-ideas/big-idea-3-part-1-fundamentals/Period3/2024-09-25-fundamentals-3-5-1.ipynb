{
 "cells": [
  {
   "cell_type": "raw",
   "metadata": {
    "vscode": {
     "languageId": "raw"
    }
   },
   "source": [
    "---\n",
    "toc: false\n",
    "comments: true\n",
    "permalink: /csp/big-idea/p3/3-5-1\n",
    "layout: post\n",
    "title: 3.5 Booleans; De Morgan's Law (Period 3)\n",
    "description: Student led teaching on Booleans. Learn how booleans are used in decision-making with logical operators. \n",
    "categories: [CSP Big Ideas]\n",
    "author: Trevor V\n",
    "menu: /nav/csp_units/csp_unit3_p3_fundamentals.html\n",
    "---"
   ]
  },
  {
   "cell_type": "markdown",
   "metadata": {},
   "source": [
    "<style>\n",
    "  /* Global styling for the notebook with dark background */\n",
    "  body {\n",
    "      font-family: 'Arial', sans-serif;\n",
    "      background-color: #3e2723; /* Dark brown background */\n",
    "      color: #efebe9; /* Light beige text for contrast */\n",
    "  }\n",
    "\n",
    "  /* Styling headers with lighter brown tones */\n",
    "  h1, h2, h3, h4, h5 {\n",
    "      color: #efebe9; /* Light beige for headers */\n",
    "      border-bottom: 2px solid #795548; /* Medium brown border */\n",
    "      padding-bottom: 5px;\n",
    "      margin-bottom: 15px;\n",
    "  }\n",
    "\n",
    "  /* Custom style for inline code */\n",
    "  code {\n",
    "      background-color: #4e342e; /* Darker brown for code background */\n",
    "      color: #d7ccc8; /* Light brown for inline code */\n",
    "      padding: 2px 5px;\n",
    "      border-radius: 4px;\n",
    "  }\n",
    "\n",
    "  /* Custom style for preformatted code blocks */\n",
    "  pre {\n",
    "      background-color: #4e342e;\n",
    "      color: #efebe9;\n",
    "      padding: 10px;\n",
    "      border-radius: 5px;\n",
    "      border: 1px solid #795548; /* Medium brown for border */\n",
    "      overflow-x: auto;\n",
    "  }\n",
    "\n",
    "  /* Code block syntax highlighting */\n",
    "  .hljs-keyword, .hljs-selector-tag, .hljs-subst {\n",
    "      color: #bcaaa4; /* Lighter brown for keywords */\n",
    "  }\n",
    "\n",
    "  .hljs-string, .hljs-attr, .hljs-symbol, .hljs-bullet, .hljs-addition {\n",
    "      color: #a1887f; /* Soft brown for strings */\n",
    "  }\n",
    "\n",
    "  .hljs-title, .hljs-section, .hljs-attribute {\n",
    "      color: #d7ccc8; /* Light brown for titles and sections */\n",
    "  }\n",
    "\n",
    "  .hljs-variable, .hljs-template-variable {\n",
    "      color: #8d6e63; /* Darker brown for variables */\n",
    "  }\n",
    "\n",
    "  .hljs-comment, .hljs-quote, .hljs-deletion {\n",
    "      color: #6d4c41; /* Dark brown for comments */\n",
    "  }\n",
    "\n",
    "  .hljs-number, .hljs-regexp, .hljs-literal, .hljs-type, .hljs-built_in, .hljs-builtin-name {\n",
    "      color: #a1887f; /* Soft brown for numbers and built-ins */\n",
    "  }\n",
    "\n",
    "  .hljs-meta {\n",
    "      color: #5d4037; /* Dark brown for meta information */\n",
    "  }\n",
    "\n",
    "  .hljs-emphasis {\n",
    "      font-style: italic;\n",
    "  }\n",
    "\n",
    "  .hljs-strong {\n",
    "      font-weight: bold;\n",
    "  }\n",
    "\n",
    "  /* Highlight blockquotes in medium brown */\n",
    "  blockquote {\n",
    "      border-left: 4px solid #8d6e63; /* Medium brown */\n",
    "      padding-left: 10px;\n",
    "      color: #efebe9;\n",
    "      font-style: italic;\n",
    "      background-color: #4e342e;\n",
    "      padding: 10px;\n",
    "      border-radius: 4px;\n",
    "  }\n",
    "\n",
    "  /* Styling for emphasized text */\n",
    "  em {\n",
    "      color: #a1887f; /* Soft brown for emphasized text */\n",
    "      font-style: italic;\n",
    "  }\n",
    "\n",
    "  /* Style for bold text */\n",
    "  strong {\n",
    "      color: #efebe9;\n",
    "      font-weight: bold;\n",
    "  }\n",
    "\n",
    "  /* Menu styling */\n",
    "  .menu {\n",
    "      background-color: #795548; /* Medium brown */\n",
    "      color: white;\n",
    "      padding: 10px;\n",
    "      border-radius: 5px;\n",
    "      text-align: center;\n",
    "  }\n",
    "\n",
    "  .menu a {\n",
    "      color: #d7ccc8; /* Light brown links in menu */\n",
    "      text-decoration: none;\n",
    "      padding: 0 10px;\n",
    "  }\n",
    "\n",
    "  .menu a:hover {\n",
    "      color: #8d6e63; /* Dark brown on hover */\n",
    "  }\n",
    "\n",
    "  /* Adjust the styling for markdown lists */\n",
    "  ul {\n",
    "      list-style-type: square;\n",
    "      color: #efebe9;\n",
    "  }\n",
    "\n",
    "  /* Styling tables with dark brown theme */\n",
    "  table {\n",
    "      border-collapse: collapse;\n",
    "      width: 100%;\n",
    "      background-color: #4e342e;\n",
    "  }\n",
    "  \n",
    "  table, th, td {\n",
    "      border: 1px solid #6d4c41; /* Dark brown for borders */\n",
    "      padding: 8px;\n",
    "      color: #efebe9;\n",
    "  }\n",
    "\n",
    "  th {\n",
    "      background-color: #795548; /* Medium brown for table headers */\n",
    "      color: white;\n",
    "  }\n",
    "\n",
    "  /* Custom styling for links with better visibility */\n",
    "  a {\n",
    "      color: #a1887f; /* Soft brown links */\n",
    "      text-decoration: none;\n",
    "  }\n",
    "\n",
    "  a:hover {\n",
    "      text-decoration: underline;\n",
    "      color: #8d6e63; /* Dark brown on hover */\n",
    "  }\n",
    "</style>\n"
   ]
  },
  {
   "cell_type": "markdown",
   "metadata": {},
   "source": [
    "# De Morgan's Law\n",
    "\n",
    "#### According to De Morgan's first law, the complement of the union of two sets A and B is equal to the intersection of the complement of the sets A and B\n",
    "\n",
    "## Examples:\n",
    "\n",
    "\n",
    "> \"I don't like chocolate or vanilla\" **=** \"I do not like chocolate and I do not like vanilla\" \n",
    "\n",
    "`In this example, both statements are logically the same`\n",
    "\n",
    "\n",
    "![De Morgan's Law](https://blog.penjee.com/wp-content/uploads/2016/12/demorgans-law-formula_all.png)\n"
   ]
  },
  {
   "cell_type": "markdown",
   "metadata": {},
   "source": [
    "# De Morgans Law in Code!"
   ]
  },
  {
   "cell_type": "markdown",
   "metadata": {},
   "source": [
    "## Javascript Example:"
   ]
  },
  {
   "cell_type": "code",
   "execution_count": 4,
   "metadata": {
    "vscode": {
     "languageId": "javascript"
    }
   },
   "outputs": [
    {
     "data": {
      "application/javascript": "\nlet x = 19;\nlet y = 50;\n\n// ! means not. So !true is false.\n\n// || means OR.\nif (!(x > 20 || y > 20)) {\n    console.log(\"I am the same condition as the one below!\")\n    //This will not be true since x is less than 20\n}\n\n// && means AND.\nif (!(x > 20) && !(y > 20)) {\n    console.log(\"I am the same condition as the one above!\")\n    //This will also not be true since x is less than 20\n}\n\nx = 50\ny = 100\n\nif (!(x < 20 || y < 20)) {\n    console.log(\"I will be true since both is also greater than 20 now!\")\n    //This WILL be true since both variables are greater than 20\n}\n\n// && means AND.\nif (!(x < 20) && !(y < 20)) {\n    console.log(\"I am the same condition as the one above!\")\n    //This WILL be true since both variables are greater than 20\n}\n\n\n// In all, not(X OR Y) is the same as (not(x) AND not(Y))\n",
      "text/plain": [
       "<IPython.core.display.Javascript object>"
      ]
     },
     "metadata": {},
     "output_type": "display_data"
    }
   ],
   "source": [
    "%%javascript\n",
    "\n",
    "let x = 19;\n",
    "let y = 50;\n",
    "\n",
    "// ! means not. So !true is false.\n",
    "\n",
    "// || means OR.\n",
    "if (!(x > 20 || y > 20)) {\n",
    "    console.log(\"I am the same condition as the one below!\")\n",
    "    //This will not be true since x is less than 20\n",
    "}\n",
    "\n",
    "// && means AND.\n",
    "if (!(x > 20) && !(y > 20)) {\n",
    "    console.log(\"I am the same condition as the one above!\")\n",
    "    //This will also not be true since x is less than 20\n",
    "}\n",
    "\n",
    "x = 50\n",
    "y = 100\n",
    "\n",
    "if (!(x < 20 || y < 20)) {\n",
    "    console.log(\"I will be true since both is also greater than 20 now!\")\n",
    "    //This WILL be true since both variables are greater than 20\n",
    "}\n",
    "\n",
    "// && means AND.\n",
    "if (!(x < 20) && !(y < 20)) {\n",
    "    console.log(\"I am the same condition as the one above!\")\n",
    "    //This WILL be true since both variables are greater than 20\n",
    "}\n",
    "\n",
    "\n",
    "// In all, not(X OR Y) is the same as (not(x) AND not(Y))"
   ]
  },
  {
   "cell_type": "markdown",
   "metadata": {},
   "source": [
    "## Python Example:"
   ]
  },
  {
   "cell_type": "code",
   "execution_count": 8,
   "metadata": {},
   "outputs": [
    {
     "name": "stdout",
     "output_type": "stream",
     "text": [
      "I will be true since both x and y are greater than 20 now!\n",
      "I will also be true since both x and y are greater than 20 now!\n"
     ]
    }
   ],
   "source": [
    "x = 19\n",
    "y = 50\n",
    "\n",
    "if not (x > 20 or y > 20):\n",
    "    print(\"Im not gonna be true since X is less than 20\")\n",
    "    # This will not be true since x is less than 20\n",
    "\n",
    "if not (x > 20) and not (y > 20):\n",
    "    print(\"I am the same condition as the one above!\")\n",
    "    # This will also not be true since x is less than 20\n",
    "\n",
    "x = 50\n",
    "y = 100\n",
    "\n",
    "if not (x < 20 or y < 20):\n",
    "    print(\"I will be true since both x and y are greater than 20 now!\")\n",
    "    # This WILL be true since both variables are greater than 20\n",
    "\n",
    "if not (x < 20) and not (y < 20):\n",
    "    print(\"I will also be true since both x and y are greater than 20 now!\")\n",
    "    # This WILL be true since both variables are greater than 20\n",
    "\n",
    "# In all, not(X OR Y) is the same as (not(X) AND not(Y))"
   ]
  }
 ],
 "metadata": {
  "kernelspec": {
   "display_name": "Python 3",
   "language": "python",
   "name": "python3"
  },
  "language_info": {
   "codemirror_mode": {
    "name": "ipython",
    "version": 3
   },
   "file_extension": ".py",
   "mimetype": "text/x-python",
   "name": "python",
   "nbconvert_exporter": "python",
   "pygments_lexer": "ipython3",
   "version": "3.11.1"
  }
 },
 "nbformat": 4,
 "nbformat_minor": 2
}
