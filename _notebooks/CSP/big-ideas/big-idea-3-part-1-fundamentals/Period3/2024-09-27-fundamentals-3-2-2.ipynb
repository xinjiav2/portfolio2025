{
 "cells": [
  {
   "cell_type": "raw",
   "metadata": {
    "vscode": {
     "languageId": "raw"
    }
   },
   "source": [
    "---\n",
    "toc: false\n",
    "comments: true\n",
    "layout: post\n",
    "title: 3.2.2 Data Types Part 2\n",
    "description: \n",
    "permalink: /csp/big-idea/p3/3-2-2\n",
    "categories: [CSP Big Ideas]\n",
    "author:  Gabriela Connelly, Michelle Kuruvilla\n",
    "menu: nav/csp_units/csp_unit3_p3_fundamentals.html\n",
    "---"
   ]
  },
  {
   "cell_type": "markdown",
   "metadata": {},
   "source": [
    "<style>\n",
    "  /* Global styling for the notebook with dark background */\n",
    "  body {\n",
    "      font-family: 'Arial', sans-serif;\n",
    "      background-color: #2c3e50;\n",
    "      color: #ecf0f1;\n",
    "  }\n",
    "\n",
    "  /* Styling headers with lighter text and borders */\n",
    "  h1, h2, h3, h4, h5 {\n",
    "      color: #ecf0f1;\n",
    "      border-bottom: 2px solid #2ecc71; /* Emerald green */\n",
    "      padding-bottom: 5px;\n",
    "      margin-bottom: 15px;\n",
    "  }\n",
    "\n",
    "  /* Custom style for inline code */\n",
    "  code {\n",
    "      background-color: #34495e;\n",
    "      color: #27ae60; /* Darker green */\n",
    "      padding: 2px 5px;\n",
    "      border-radius: 4px;\n",
    "  }\n",
    "\n",
    "  /* Custom style for preformatted code blocks */\n",
    "  pre {\n",
    "      background-color: #2b2b2b;\n",
    "      color: #f1f1f1;\n",
    "      padding: 10px;\n",
    "      border-radius: 5px;\n",
    "      border: 1px solid #2ecc71; /* Updated border color to emerald green */\n",
    "      overflow-x: auto;\n",
    "  }\n",
    "\n",
    "  /* Code block syntax highlighting */\n",
    "  .hljs-keyword, .hljs-selector-tag, .hljs-subst {\n",
    "      color: #2ecc71; /* Keywords now green */\n",
    "  }\n",
    "\n",
    "  .hljs-string, .hljs-attr, .hljs-symbol, .hljs-bullet, .hljs-addition {\n",
    "      color: #a6e22e; /* Strings */\n",
    "  }\n",
    "\n",
    "  .hljs-title, .hljs-section, .hljs-attribute {\n",
    "      color: #e6db74; /* Function titles and sections */\n",
    "  }\n",
    "\n",
    "  .hljs-variable, .hljs-template-variable {\n",
    "      color: #fd971f; /* Variables */\n",
    "  }\n",
    "\n",
    "  .hljs-comment, .hljs-quote, .hljs-deletion {\n",
    "      color: #75715e; /* Comments */\n",
    "  }\n",
    "\n",
    "  .hljs-number, .hljs-regexp, .hljs-literal, .hljs-type, .hljs-built_in, .hljs-builtin-name {\n",
    "      color: #ae81ff; /* Numbers and built-ins */\n",
    "  }\n",
    "\n",
    "  .hljs-meta {\n",
    "      color: #66d9ef; /* Meta information */\n",
    "  }\n",
    "\n",
    "  .hljs-emphasis {\n",
    "      font-style: italic;\n",
    "  }\n",
    "\n",
    "  .hljs-strong {\n",
    "      font-weight: bold;\n",
    "  }\n",
    "\n",
    "  /* Highlight blockquotes in green */\n",
    "  blockquote {\n",
    "      border-left: 4px solid #27ae60; /* Dark green */\n",
    "      padding-left: 10px;\n",
    "      color: #ecf0f1;\n",
    "      font-style: italic;\n",
    "      background-color: #2d2d2d;\n",
    "      padding: 10px;\n",
    "      border-radius: 4px;\n",
    "  }\n",
    "\n",
    "  /* Styling for emphasized text */\n",
    "  em {\n",
    "      color: #27ae60; /* Green color for emphasized text */\n",
    "      font-style: italic;\n",
    "  }\n",
    "\n",
    "  /* Style for bold text */\n",
    "  strong {\n",
    "      color: #ecf0f1;\n",
    "      font-weight: bold;\n",
    "  }\n",
    "\n",
    "  /* Menu styling */\n",
    "  .menu {\n",
    "      background-color: #2ecc71; /* Emerald green */\n",
    "      color: white;\n",
    "      padding: 10px;\n",
    "      border-radius: 5px;\n",
    "      text-align: center;\n",
    "  }\n",
    "\n",
    "  .menu a {\n",
    "      color: #f1c40f; /* Yellow links in menu */\n",
    "      text-decoration: none;\n",
    "      padding: 0 10px;\n",
    "  }\n",
    "\n",
    "  .menu a:hover {\n",
    "      color: #27ae60; /* Green on hover */\n",
    "  }\n",
    "\n",
    "  /* Adjust the styling for markdown lists */\n",
    "  ul {\n",
    "      list-style-type: square;\n",
    "      color: #ecf0f1;\n",
    "  }\n",
    "\n",
    "  /* Styling tables with dark theme */\n",
    "  table {\n",
    "      border-collapse: collapse;\n",
    "      width: 100%;\n",
    "      background-color: #345e40;\n",
    "  }\n",
    "  \n",
    "  table, th, td {\n",
    "      border: 1px solid #7f8c8d;\n",
    "      padding: 8px;\n",
    "      color: #ecf0f1;\n",
    "  }\n",
    "\n",
    "  th {\n",
    "      background-color: #2ecc71; /* Green for table headers */\n",
    "      color: white;\n",
    "  }\n",
    "\n",
    "  /* Custom styling for links with better visibility */\n",
    "  a {\n",
    "      color: #2ecc71; /* Green links */\n",
    "      text-decoration: none;\n",
    "  }\n",
    "\n",
    "  a:hover {\n",
    "      text-decoration: underline;\n",
    "      color: #27ae60; /* Dark green on hover */\n",
    "  }\n",
    "</style>\n"
   ]
  },
  {
   "cell_type": "markdown",
   "metadata": {},
   "source": [
    "<h1>Tuples</h1>\n",
    "\n",
    "A tuple is an immutable ordered collection of elements. Unlike lists, tuples cannot be modified after their creation, making them useful for storing fixed collections of items.\n",
    "\n"
   ]
  },
  {
   "cell_type": "code",
   "execution_count": 7,
   "metadata": {},
   "outputs": [
    {
     "name": "stdout",
     "output_type": "stream",
     "text": [
      "Initial Tuple: (10, 20, 30, 'Hello')\n",
      "First Element: 10\n",
      "Length of the Tuple: 4\n",
      "Concatenated Tuple: (10, 20, 30, 'Hello', 40, 50)\n",
      "Repeated Tuple: (10, 20, 30, 'Hello', 10, 20, 30, 'Hello')\n"
     ]
    },
    {
     "ename": "TypeError",
     "evalue": "'tuple' object does not support item assignment",
     "output_type": "error",
     "traceback": [
      "\u001b[1;31m---------------------------------------------------------------------------\u001b[0m",
      "\u001b[1;31mTypeError\u001b[0m                                 Traceback (most recent call last)",
      "Cell \u001b[1;32mIn[7], line 32\u001b[0m\n\u001b[0;32m     27\u001b[0m \u001b[38;5;28mprint\u001b[39m(\u001b[38;5;124m\"\u001b[39m\u001b[38;5;124mRepeated Tuple:\u001b[39m\u001b[38;5;124m\"\u001b[39m, repeated)  \u001b[38;5;66;03m# Output: Repeated Tuple: (10, 20, 30, \"Hello\", 10, 20, 30, \"Hello\")\u001b[39;00m\n\u001b[0;32m     30\u001b[0m \u001b[38;5;66;03m# Attempting to modify a tuple (will raise an error)\u001b[39;00m\n\u001b[0;32m     31\u001b[0m \u001b[38;5;66;03m# Uncommenting the line below will result in a TypeError\u001b[39;00m\n\u001b[1;32m---> 32\u001b[0m \u001b[43mmy_tuple\u001b[49m\u001b[43m[\u001b[49m\u001b[38;5;241;43m1\u001b[39;49m\u001b[43m]\u001b[49m \u001b[38;5;241m=\u001b[39m \u001b[38;5;241m25\u001b[39m  \u001b[38;5;66;03m# This will result in a TypeError\u001b[39;00m\n",
      "\u001b[1;31mTypeError\u001b[0m: 'tuple' object does not support item assignment"
     ]
    }
   ],
   "source": [
    "# Example of tuple operations in Python\n",
    "\n",
    "\n",
    "# Creating a tuple\n",
    "my_tuple = (10, 20, 30, \"Hello\")\n",
    "print(\"Initial Tuple:\", my_tuple)  # Output: Initial Tuple: (10, 20, 30, \"Hello\")\n",
    "\n",
    "\n",
    "# Accessing elements\n",
    "first_element = my_tuple[0]  # 10\n",
    "print(\"First Element:\", first_element)  # Output: First Element: 10\n",
    "\n",
    "\n",
    "# Length of the tuple\n",
    "length = len(my_tuple)\n",
    "print(\"Length of the Tuple:\", length)  # Output: Length of the Tuple: 4\n",
    "\n",
    "\n",
    "# Concatenation\n",
    "another_tuple = (40, 50)\n",
    "concatenated = my_tuple + another_tuple\n",
    "print(\"Concatenated Tuple:\", concatenated)  # Output: Concatenated Tuple: (10, 20, 30, \"Hello\", 40, 50)\n",
    "\n",
    "\n",
    "# Repetition\n",
    "repeated = my_tuple * 2\n",
    "print(\"Repeated Tuple:\", repeated)  # Output: Repeated Tuple: (10, 20, 30, \"Hello\", 10, 20, 30, \"Hello\")\n",
    "\n",
    "\n",
    "# Attempting to modify a tuple (will raise an error)\n",
    "# Uncommenting the line below will result in a TypeError\n",
    "my_tuple[1] = 25  # This will result in a TypeError\n"
   ]
  },
  {
   "cell_type": "code",
   "execution_count": null,
   "metadata": {
    "vscode": {
     "languageId": "javascript"
    }
   },
   "outputs": [],
   "source": [
    "%%javascript\n",
    "\n",
    "// Although JavaScript doesn't have a built-in tuple type,\n",
    "// we can use arrays to emulate tuple behavior.\n",
    "\n",
    "\n",
    "// Creating a tuple-like array\n",
    "let myTuple = [10, \"Hello\", true];\n",
    "console.log(\"Initial Tuple:\", myTuple);  // Output: Initial Tuple: [10, \"Hello\", true]\n",
    "\n",
    "\n",
    "// Accessing elements\n",
    "let firstElement = myTuple[0];  // 10\n",
    "console.log(\"First Element:\", firstElement);  // Output: First Element: 10\n",
    "\n",
    "\n",
    "// Length of the tuple-like array\n",
    "let length = myTuple.length;\n",
    "console.log(\"Length of the Tuple-like Array:\", length);  // Output: Length of the Tuple-like Array: 3\n",
    "\n"
   ]
  },
  {
   "cell_type": "markdown",
   "metadata": {},
   "source": [
    "<h1>Dictionaries</h1>\n",
    "\n",
    "A dictionary is a collection of key-value pairs, where each key is unique. It allows you to store and retrieve data based on a key rather than an index, like in a list."
   ]
  },
  {
   "cell_type": "code",
   "execution_count": 8,
   "metadata": {},
   "outputs": [
    {
     "name": "stdout",
     "output_type": "stream",
     "text": [
      "Alice\n"
     ]
    }
   ],
   "source": [
    "person = {\n",
    "    \"name\": \"Alice\",\n",
    "    \"age\": 25,\n",
    "    \"city\": \"New York\"\n",
    "}\n",
    "print(person[\"name\"])  # Output: Alice\n"
   ]
  },
  {
   "cell_type": "code",
   "execution_count": null,
   "metadata": {
    "vscode": {
     "languageId": "javascript"
    }
   },
   "outputs": [],
   "source": [
    "%%javascript\n",
    "\n",
    "// Define a dictionary (object) to store student information\n",
    "let students = {\n",
    "    \"Alice\": {\n",
    "        \"age\": 25,\n",
    "        \"isStudent\": true,\n",
    "        \"courses\": [\"Math\", \"Science\"]\n",
    "    },\n",
    "    \"Bob\": {\n",
    "        \"age\": 22,\n",
    "        \"isStudent\": true,\n",
    "        \"courses\": [\"History\", \"Art\"]\n",
    "    },\n",
    "    \"Charlie\": {\n",
    "        \"age\": 28,\n",
    "        \"isStudent\": false,\n",
    "        \"courses\": []\n",
    "    }\n",
    "};\n",
    "\n",
    "// Accessing information from the dictionary\n",
    "console.log(\"Alice's age: \", students[\"Alice\"][\"age\"]);  // Output: Alice's age: 25\n",
    "console.log(\"Bob's courses: \", students[\"Bob\"][\"courses\"]);  // Output: Bob's courses: [\"History\", \"Art\"]\n",
    "\n",
    "// Adding a new student to the dictionary\n",
    "students[\"David\"] = {\n",
    "    \"age\": 24,\n",
    "    \"isStudent\": true,\n",
    "    \"courses\": [\"Computer Science\", \"Physics\"]\n",
    "};\n",
    "\n",
    "// Modifying information\n",
    "students[\"Alice\"][\"isStudent\"] = false;  // Alice is no longer a student\n",
    "console.log(\"Updated Alice's information: \", students[\"Alice\"]);\n",
    "// Output: Updated Alice's information: {age: 25, isStudent: false, courses: [\"Math\", \"Science\"]}\n"
   ]
  },
  {
   "cell_type": "markdown",
   "metadata": {},
   "source": [
    "<h1>Sets</h1>\n",
    "<p>\n",
    "   - A set is an unordered collection of unique items. Sets are useful when you want to ensure that there are no duplicate elements. <br>\n",
    "   - Sets are unordered and unindexed. You cannot access elements by position. <br>\n",
    "   - Sets automatically remove duplicates. <br>\n",
    "</p>"
   ]
  },
  {
   "cell_type": "code",
   "execution_count": 9,
   "metadata": {},
   "outputs": [
    {
     "name": "stdout",
     "output_type": "stream",
     "text": [
      "{'banana', 'orange', 'apple'}\n",
      "{'banana', 'orange', 'grape', 'apple'}\n",
      "{'banana', 'orange', 'grape', 'apple'}\n"
     ]
    }
   ],
   "source": [
    "fruits = {\"apple\", \"banana\", \"orange\"}\n",
    "print(fruits)  # Output: {'banana', 'apple', 'orange'} (order is not guaranteed)\n",
    "\n",
    "# Adding a new item to a set\n",
    "fruits.add(\"grape\")\n",
    "print(fruits)  # Output: {'banana', 'grape', 'apple', 'orange'}\n",
    "\n",
    "# Duplicate items are ignored\n",
    "fruits.add(\"apple\")\n",
    "print(fruits)  # Output: {'banana', 'grape', 'apple', 'orange'}\n"
   ]
  },
  {
   "cell_type": "code",
   "execution_count": null,
   "metadata": {
    "vscode": {
     "languageId": "javascript"
    }
   },
   "outputs": [],
   "source": [
    "%%javascript\n",
    "\n",
    "// Creating a new Set with some initial values\n",
    "let fruits = new Set([\"apple\", \"banana\", \"orange\"]);\n",
    "\n",
    "// Adding values to the Set\n",
    "fruits.add(\"grape\");\n",
    "fruits.add(\"banana\");  // This won't be added again since it's a duplicate\n",
    "\n",
    "// Display the contents of the Set\n",
    "console.log(fruits);  // Output: Set(4) {\"apple\", \"banana\", \"orange\", \"grape\"}\n",
    "\n",
    "// Deleting an item from the Set\n",
    "fruits.delete(\"orange\");\n",
    "console.log(\"After deleting 'orange':\", fruits);  // Output: Set(3) {\"apple\", \"banana\", \"grape\"}\n"
   ]
  },
  {
   "cell_type": "markdown",
   "metadata": {},
   "source": [
    "<h1>Booleans</h1>\n",
    "\n",
    "A boolean is a data type that can have one of two values: `True` or `False`. Booleans are commonly used in conditional statements to control the flow of programs."
   ]
  },
  {
   "cell_type": "code",
   "execution_count": 10,
   "metadata": {},
   "outputs": [
    {
     "name": "stdout",
     "output_type": "stream",
     "text": [
      "Go outside!\n"
     ]
    }
   ],
   "source": [
    "is_sunny = True\n",
    "is_raining = False\n",
    "\n",
    "if is_sunny:\n",
    "    print(\"Go outside!\")  # Output: Go outside!\n"
   ]
  },
  {
   "cell_type": "code",
   "execution_count": null,
   "metadata": {
    "vscode": {
     "languageId": "javascript"
    }
   },
   "outputs": [],
   "source": [
    "%% javascript\n",
    "\n",
    "// Simple boolean values\n",
    "let isStudent = true;\n",
    "let isLoggedIn = false;\n",
    "\n",
    "// Check conditions with booleans\n",
    "if (isStudent) {\n",
    "    console.log(\"The user is a student.\");\n",
    "} else {\n",
    "    console.log(\"The user is not a student.\");\n",
    "}\n",
    "// Output: The user is a student.\n"
   ]
  },
  {
   "cell_type": "markdown",
   "metadata": {},
   "source": [
    "<h1>None</h1>\n",
    "\n",
    "None is a special constant in Python that represents the absence of a value or a null value. It’s commonly used as a placeholder for optional or yet-to-be-assigned values. It is also used to indicate \"no value\" or \"empty\""
   ]
  },
  {
   "cell_type": "code",
   "execution_count": 11,
   "metadata": {},
   "outputs": [
    {
     "name": "stdout",
     "output_type": "stream",
     "text": [
      "True\n"
     ]
    }
   ],
   "source": [
    "val = None\n",
    "print(val is None)  # Output: True\n"
   ]
  },
  {
   "cell_type": "code",
   "execution_count": null,
   "metadata": {
    "vscode": {
     "languageId": "javascript"
    }
   },
   "outputs": [],
   "source": [
    "let val = null;\n",
    "console.log(val === null);  // Output: true\n"
   ]
  },
  {
   "cell_type": "markdown",
   "metadata": {},
   "source": [
    "<h1>Popcorn Hack: create a dictionary, update an item, and add an item</h1>"
   ]
  },
  {
   "cell_type": "code",
   "execution_count": null,
   "metadata": {},
   "outputs": [],
   "source": [
    "# Creating dictionary \n",
    "person = {\n",
    "    \"name\": \"Alice\",\n",
    "    \"age\": 25,\n",
    "    \"is_student\": False\n",
    "}\n",
    "\n",
    "person[\"age\"] = 26     # Update item\n",
    "\n",
    "# Adding an item\n",
    "person[\"David\"] = {\n",
    "    \"name\": \"David\",   \n",
    "    \"age\": 22,\n",
    "    \"is_student\": True\n",
    "} "
   ]
  }
 ],
 "metadata": {
  "kernelspec": {
   "display_name": "Python 3",
   "language": "python",
   "name": "python3"
  },
  "language_info": {
   "codemirror_mode": {
    "name": "ipython",
    "version": 3
   },
   "file_extension": ".py",
   "mimetype": "text/x-python",
   "name": "python",
   "nbconvert_exporter": "python",
   "pygments_lexer": "ipython3",
   "version": "3.9.7"
  }
 },
 "nbformat": 4,
 "nbformat_minor": 2
}
