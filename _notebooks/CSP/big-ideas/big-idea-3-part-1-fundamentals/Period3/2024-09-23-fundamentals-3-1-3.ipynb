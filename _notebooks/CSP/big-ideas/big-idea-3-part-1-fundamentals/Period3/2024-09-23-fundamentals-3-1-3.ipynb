{
 "cells": [
  {
   "cell_type": "raw",
   "metadata": {
    "vscode": {
     "languageId": "raw"
    }
   },
   "source": [
    "---\n",
    "toc: false\n",
    "comments: true\n",
    "layout: post\n",
    "title: 3.1.3 Javascript Variables\n",
    "description: Let's learn how variables work in Javascript\n",
    "permalink: /csp/big-idea/p3/3-1-3\n",
    "categories: [CSP Big Ideas]\n",
    "author: Ahaan Vaidyanathan, Spencer Lyons, Vasanth Rajasekaran, Xavier Thompson\n",
    "menu: nav/csp_units/csp_unit3_p3_fundamentals.html\n",
    "---"
   ]
  },
  {
   "cell_type": "markdown",
   "metadata": {},
   "source": [
    "<style>\n",
    " /* Global styling for the notebook with dark background */\n",
    " body {\n",
    " font-family: 'Arial', sans-serif;\n",
    " background-color: #2c3e50;\n",
    " color: #ecf0f1;\n",
    " }\n",
    "\n",
    " /* Styling headers with lighter text and borders */\n",
    " h1, h2, h3, h4, h5 {\n",
    " color: #ecf0f1;\n",
    " border-bottom: 2px solid #f1c40f;\n",
    " padding-bottom: 5px;\n",
    " margin-bottom: 15px;\n",
    " }\n",
    "\n",
    " /* Custom style for inline code */\n",
    " code {\n",
    " background-color: #34495e;\n",
    " color: #e74c3c;\n",
    " padding: 2px 5px;\n",
    " border-radius: 4px;\n",
    " }\n",
    "\n",
    " /* Custom style for preformatted code blocks */\n",
    " pre {\n",
    " background-color: #2b2b2b;\n",
    " color: #f1f1f1;\n",
    " padding: 10px;\n",
    " border-radius: 5px;\n",
    " border: 1px solid #f1c40f; /* Updated border color */\n",
    " overflow-x: auto;\n",
    " }\n",
    "\n",
    " /* Code block syntax highlighting */\n",
    " .hljs-keyword, .hljs-selector-tag, .hljs-subst {\n",
    " color: #f92672; /* Keywords */\n",
    " }\n",
    "\n",
    " .hljs-string, .hljs-attr, .hljs-symbol, .hljs-bullet, .hljs-addition {\n",
    " color: #a6e22e; /* Strings */\n",
    " }\n",
    "\n",
    " .hljs-title, .hljs-section, .hljs-attribute {\n",
    " color: #e6db74; /* Function titles and sections */\n",
    " }\n",
    "\n",
    " .hljs-variable, .hljs-template-variable {\n",
    " color: #fd971f; /* Variables */\n",
    " }\n",
    "\n",
    " .hljs-comment, .hljs-quote, .hljs-deletion {\n",
    " color: #75715e; /* Comments */\n",
    " }\n",
    "\n",
    " .hljs-number, .hljs-regexp, .hljs-literal, .hljs-type, .hljs-built_in, .hljs-builtin-name {\n",
    " color: #ae81ff; /* Numbers and built-ins */\n",
    " }\n",
    "\n",
    " .hljs-meta {\n",
    " color: #66d9ef; /* Meta information */\n",
    " }\n",
    "\n",
    " .hljs-emphasis {\n",
    " font-style: italic;\n",
    " }\n",
    "\n",
    " .hljs-strong {\n",
    " font-weight: bold;\n",
    " }\n",
    "\n",
    " /* Highlight blockquotes in orange */\n",
    " blockquote {\n",
    " border-left: 4px solid #f39c12;\n",
    " padding-left: 10px;\n",
    " color: #ecf0f1;\n",
    " font-style: italic;\n",
    " background-color: #2d2d2d;\n",
    " padding: 10px;\n",
    " border-radius: 4px;\n",
    " }\n",
    "\n",
    " /* Styling for emphasized text */\n",
    " em {\n",
    " color: #f39c12; /* Orange color for emphasized text */\n",
    " font-style: italic;\n",
    " }\n",
    "\n",
    " /* Style for bold text */\n",
    " strong {\n",
    " color: #ecf0f1;\n",
    " font-weight: bold;\n",
    " }\n",
    "\n",
    " /* Menu styling */\n",
    " .menu {\n",
    " background-color: #f1c40f;\n",
    " color: white;\n",
    " padding: 10px;\n",
    " border-radius: 5px;\n",
    " text-align: center;\n",
    " }\n",
    "\n",
    " .menu a {\n",
    " color: #f1c40f; /* Yellow links in menu */\n",
    " text-decoration: none;\n",
    " padding: 0 10px;\n",
    " }\n",
    "\n",
    " .menu a:hover {\n",
    " color: #f39c12; /* Orange on hover */\n",
    " }\n",
    "\n",
    " /* Adjust the styling for markdown lists */\n",
    " ul {\n",
    " list-style-type: square;\n",
    " color: #ecf0f1;\n",
    " }\n",
    "\n",
    " /* Styling tables with dark theme */\n",
    " table {\n",
    " border-collapse: collapse;\n",
    " width: 100%;\n",
    " background-color: #5e5e34;\n",
    " }\n",
    " \n",
    " table, th, td {\n",
    " border: 1px solid #7f8c8d;\n",
    " padding: 8px;\n",
    " color: #ecf0f1;\n",
    " }\n",
    "\n",
    " th {\n",
    " background-color: #f1c40f;\n",
    " color: white;\n",
    " }\n",
    "\n",
    " /* Custom styling for links with better visibility */\n",
    " a {\n",
    " color: #1abc9c;\n",
    " text-decoration: none;\n",
    " }\n",
    "\n",
    " a:hover {\n",
    " text-decoration: underline;\n",
    " color: #16a085;\n",
    " }\n",
    "</style>\n"
   ]
  },
  {
   "cell_type": "markdown",
   "metadata": {},
   "source": [
    "### Variables\n",
    "Variables are containers that are used to store data in programming languages. In JavaScript there are 3 ways to declare a variable.\n",
    "1. var\n",
    "2. let\n",
    "3. const\n",
    "\n",
    "var is an outdated way of declaring variables, and so we will disregard teaching it as you will only use let and const.\n",
    "\n",
    "Const: Use when the variable shouldn't be reassigned.\n",
    "Let: Use when the variable's value may change over time."
   ]
  },
  {
   "cell_type": "code",
   "execution_count": null,
   "metadata": {
    "vscode": {
     "languageId": "javascript"
    }
   },
   "outputs": [],
   "source": [
    "%%js\n",
    "\n",
    "//Pi and user variables don't change\n",
    "const pi = 3.14159265358979;\n",
    "const user = \"Spencer\";\n",
    "\n",
    "//Count variable is being updated\n",
    "let count = 0;\n",
    "for (let i = 0; i < 10; i++) {\n",
    "    console.log(i)\n",
    "}"
   ]
  },
  {
   "cell_type": "markdown",
   "metadata": {},
   "source": [
    "### Assignment Operator\n",
    "JavaScript's assignment operator is equal (=) which assigns the value of the thing to the right to equal the variable to the left. The equal sign shouldn't be confused as equality, as it's exclusively reserved for assignment in programming languages.\n",
    "\n",
    "> **==** is used to test equality between two things"
   ]
  },
  {
   "cell_type": "code",
   "execution_count": null,
   "metadata": {
    "vscode": {
     "languageId": "javascript"
    }
   },
   "outputs": [],
   "source": [
    "%%js \n",
    "let x = 5\n",
    "let y = 3\n",
    "let z = 2"
   ]
  },
  {
   "cell_type": "markdown",
   "metadata": {
    "vscode": {
     "languageId": "javascript"
    }
   },
   "source": [
    "### Variable Naming\n",
    "There are some limitations when it comes to naming variables in JavaScript\n",
    "1. The name can only contain letters, digits, or the symbols $ and _.\n",
    "2. The variable musn't start with a digit\n",
    "\n",
    "Examples of valid & invalid variable names:"
   ]
  },
  {
   "cell_type": "code",
   "execution_count": null,
   "metadata": {
    "vscode": {
     "languageId": "javascript"
    }
   },
   "outputs": [],
   "source": [
    "%%js \n",
    "\n",
    "//Valid variable names\n",
    "let color;\n",
    "let _favoriteColor;\n",
    "\n",
    "//Invalid  variable names\n",
    "let 123badVariable;\n",
    "let my-age;\n",
    "\n"
   ]
  },
  {
   "cell_type": "markdown",
   "metadata": {},
   "source": [
    "### Naming Conventions\n",
    "\n",
    "When naming variables, it's an important skill to make clear, concise, and meaningful variable names. This will help your peers and your future self.\n",
    "\n",
    "Here are some guidelines to follow:\n",
    "\n",
    "- Use clear, human-readable names like `userName` or `shoppingCart`.\n",
    "- Avoid using cryptic abbreviations or single-letter names like `a`, `b`, or `c`, unless it’s absolutely clear what they mean.\n",
    "- Strive for names that are both descriptive and to the point. Generic names like `data` or `value` don’t provide much insight.\n",
    "- Stick to consistent terminology. If you refer to someone on your site as a “user,” stay consistent with terms like `currentUser` or `newUser` instead of changing it up with something like `currentVisitor`.\n",
    "\n",
    "Here are some examples:"
   ]
  },
  {
   "cell_type": "code",
   "execution_count": null,
   "metadata": {
    "vscode": {
     "languageId": "javascript"
    }
   },
   "outputs": [],
   "source": [
    "// BAD: unclear and too generic\n",
    "let a = 30;\n",
    "let data = \"John Doe\";\n",
    "let value = true;\n",
    "\n",
    "// GOOD: descriptive and clear\n",
    "let userAge = 30;\n",
    "let userName = \"John Doe\";\n",
    "let isUserLoggedIn = true;\n",
    "\n",
    "// BAD: abbreviations and short names\n",
    "let usrNm = \"Jane\";\n",
    "let c = 100;\n",
    "let t = new Date();\n",
    "\n",
    "// GOOD: human-readable and consistent\n",
    "let customerName = \"Jane\";\n",
    "let cartTotal = 100;\n",
    "let currentDate = new Date();\n",
    "\n",
    "// BAD: inconsistent terminology\n",
    "let visitorId = 123;\n",
    "let currentVisitor = \"John\";\n",
    "let siteMember = \"Jane\";\n",
    "\n",
    "// GOOD: consistent and concise\n",
    "let userId = 123;\n",
    "let currentUser = \"John\";\n",
    "let newUser = \"Jane\";\n"
   ]
  },
  {
   "cell_type": "markdown",
   "metadata": {},
   "source": [
    "### Further Study on Coding Conventions\n",
    "\n",
    "To deepen your understanding of variables and coding conventions, you can explore the following resource:\n",
    "\n",
    "- [**JavaScript Naming Conventions**](https://www.w3schools.com/js/js_conventions.asp)\n",
    "\n",
    "Click the button below to directly access the tutorial:\n",
    "\n",
    "[![JavaScript Conventions](https://img.shields.io/badge/Explore%20JavaScript%20Conventions-green)](https://www.w3schools.com/js/js_conventions.asp)\n"
   ]
  }
 ],
 "metadata": {
  "kernelspec": {
   "display_name": "Python 3 (ipykernel)",
   "language": "python",
   "name": "python3"
  }
 },
 "nbformat": 4,
 "nbformat_minor": 2
}
