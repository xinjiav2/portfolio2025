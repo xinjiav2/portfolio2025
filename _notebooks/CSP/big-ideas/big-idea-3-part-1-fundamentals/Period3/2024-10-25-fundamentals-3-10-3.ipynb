{
 "cells": [
  {
   "cell_type": "raw",
   "metadata": {
    "vscode": {
     "languageId": "raw"
    }
   },
   "source": [
    "---\n",
    "toc: false\n",
    "comments: true\n",
    "layout: post\n",
    "title: 3.10 Python Hacks\n",
    "description: Following 10.1, now it's your time to show your learning! Complete the following below. These are your hacks for Python lists.\n",
    "permalink: /csp/big-idea/p3/3-10-3\n",
    "categories: [CSP Big Ideas]\n",
    "author:  Aranya \n",
    "menu: nav/csp_units/csp_unit3_p3_fundamentals.html\n",
    "---"
   ]
  },
  {
   "cell_type": "markdown",
   "metadata": {},
   "source": [
    "<div style=\"border: 2px solid #A8D5BA; padding: 15px; border-radius: 10px;\">\n",
    "\n",
    "<span style=\"color: #87CEFA;\">Popcorn Hack (Classwork) 🍿</span>\n",
    "\n",
    "If you have a Python list of numbers, but want to keep certain numbers (EX: even ones), you can actually use what is called a \"list comprehension.\" What this essentially does is it creates another list, but you can apply a filter or operation to it to help you get specific outputs.\n",
    "\n",
    "</div>\n"
   ]
  },
  {
   "cell_type": "code",
   "execution_count": 3,
   "metadata": {},
   "outputs": [
    {
     "name": "stdout",
     "output_type": "stream",
     "text": [
      "[2, 4, 6]\n"
     ]
    }
   ],
   "source": [
    "numbers = [1, 2, 3, 4, 5, 6]\n",
    "even_numbers = [num for num in numbers if num % 2 == 0]\n",
    "\n",
    "print(even_numbers)  # Output: [2, 4, 6], thanks to the list comprehension! \n",
    "\n",
    "# List comprehensions allow you to write shorter code that is easier to read. It could even save you time! \n"
   ]
  },
  {
   "cell_type": "markdown",
   "metadata": {},
   "source": [
    "<div style=\"border: 2px solid #A8D5BA; padding: 15px; border-radius: 10px;\">\n",
    "\n",
    "<span style=\"color: #87CEFA;\">Hacks (Homework)</span>\n",
    "\n",
    "<ul>\n",
    "  <li>Create a program that lets users manage a list of their choosing. Users can add elements, remove them, check if an element exists, and display the current list.</li>\n",
    "  <li>A function that can find the maximum and minimum value of a list using iteration.</li>\n",
    "</ul>\n",
    "\n",
    "</div>\n"
   ]
  },
  {
   "cell_type": "markdown",
   "metadata": {},
   "source": [
    "<div style=\"border: 2px solid #A8D5BA; padding: 15px; border-radius: 10px;\">\n",
    "\n",
    "<span style=\"color: #87CEFA;\">Below is a sample code with explanations if you are stuck. <strong><span style=\"color: #FF9999;\">Use this as a guide. Do NOT copy and paste.</span></strong></span>\n",
    "\n",
    "</div>\n"
   ]
  },
  {
   "cell_type": "code",
   "execution_count": 4,
   "metadata": {},
   "outputs": [
    {
     "name": "stdout",
     "output_type": "stream",
     "text": [
      "'apple' added to the list.\n",
      "'banana' added to the list.\n",
      "'banana' is in the list.\n",
      "'apple' removed from the list.\n",
      "Current list: ['banana']\n",
      "'10' added to the list.\n",
      "'5' added to the list.\n",
      "The list is empty or contains non-numeric values.\n",
      "The list is empty or contains non-numeric values.\n",
      "Exiting program.\n"
     ]
    }
   ],
   "source": [
    "# Basic Python Program for List Management and Finding Max/Min Values\n",
    "\n",
    "# Function to display the list\n",
    "def display_list(aList):\n",
    "    print(\"Current list:\", aList)\n",
    "\n",
    "# Function to add an item to the list\n",
    "def add_item(aList, item):\n",
    "    aList.append(item)\n",
    "    print(f\"'{item}' added to the list.\")\n",
    "\n",
    "# Function to remove an item from the list\n",
    "def remove_item(aList, item):\n",
    "    if item in aList:\n",
    "        aList.remove(item)\n",
    "        print(f\"'{item}' removed from the list.\")\n",
    "    else:\n",
    "        print(f\"'{item}' not found in the list.\")\n",
    "\n",
    "# Function to check if an item exists in the list\n",
    "def check_item(aList, item):\n",
    "    if item in aList:\n",
    "        print(f\"'{item}' is in the list.\")\n",
    "    else:\n",
    "        print(f\"'{item}' is not in the list.\")\n",
    "\n",
    "# Function to find the maximum value in the list\n",
    "def find_max(aList):\n",
    "    max_val = aList[0]\n",
    "    for num in aList:\n",
    "        if num > max_val:\n",
    "            max_val = num\n",
    "    return max_val\n",
    "\n",
    "# Function to find the minimum value in the list\n",
    "def find_min(aList):\n",
    "    min_val = aList[0]\n",
    "    for num in aList:\n",
    "        if num < min_val:\n",
    "            min_val = num\n",
    "    return min_val\n",
    "\n",
    "# Initialize the list\n",
    "user_list = []\n",
    "\n",
    "# Simulating inputs instead of using input() for Jupyter\n",
    "actions = [\n",
    "    ('add', 'apple'),\n",
    "    ('add', 'banana'),\n",
    "    ('check', 'banana'),\n",
    "    ('remove', 'apple'),\n",
    "    ('display', None),\n",
    "    ('add', 10),\n",
    "    ('add', 5),\n",
    "    ('max', None),\n",
    "    ('min', None),\n",
    "    ('quit', None)\n",
    "]\n",
    "\n",
    "# Simulating a loop to execute the operations\n",
    "for action, value in actions:\n",
    "    if action == 'add':\n",
    "        add_item(user_list, value)\n",
    "    elif action == 'remove':\n",
    "        remove_item(user_list, value)\n",
    "    elif action == 'check':\n",
    "        check_item(user_list, value)\n",
    "    elif action == 'display':\n",
    "        display_list(user_list)\n",
    "    elif action == 'max':\n",
    "        if user_list and all(isinstance(x, (int, float)) for x in user_list):\n",
    "            print(\"Max value in the list:\", find_max(user_list))\n",
    "        else:\n",
    "            print(\"The list is empty or contains non-numeric values.\")\n",
    "    elif action == 'min':\n",
    "        if user_list and all(isinstance(x, (int, float)) for x in user_list):\n",
    "            print(\"Min value in the list:\", find_min(user_list))\n",
    "        else:\n",
    "            print(\"The list is empty or contains non-numeric values.\")\n",
    "    elif action == 'quit':\n",
    "        print(\"Exiting program.\")\n",
    "        break\n"
   ]
  },
  {
   "cell_type": "markdown",
   "metadata": {},
   "source": [
    "<div style=\"border: 2px solid #A8D5BA; padding: 15px; border-radius: 10px;\">\n",
    "\n",
    "<span style=\"color: #87CEFA;\">How it Works:</span>\n",
    "\n",
    "<hr>\n",
    "\n",
    "<ol>\n",
    "  <li>\n",
    "    <span style=\"font-weight: bold;\">Predefined Actions:</span>\n",
    "    <ul>\n",
    "      <li>Since Jupyter Notebooks are not well-suited for interactive <code>input()</code> calls, a list of actions called <code>actions</code> is predefined, simulating user inputs.</li>\n",
    "      <li>Each action is a tuple of the form <code>(operation, value)</code>. For example, <code>('add', 'apple')</code> adds the item 'apple' to the list.</li>\n",
    "    </ul>\n",
    "  </li>\n",
    "  \n",
    "  <li>\n",
    "    <span style=\"font-weight: bold;\">Operations Loop:</span>\n",
    "    <ul>\n",
    "      <li>A loop processes each action. Based on the operation (add, remove, check, etc.), the corresponding function is called.</li>\n",
    "      <li>When the operation is <code>'quit'</code>, the loop exits.</li>\n",
    "    </ul>\n",
    "  </li>\n",
    "  \n",
    "  <li>\n",
    "    <span style=\"font-weight: bold;\">Max/Min Operations:</span>\n",
    "    <ul>\n",
    "      <li>The <code>find_max()</code> and <code>find_min()</code> functions are only called when the list contains numerical values. You can mix both string and numerical values in the list, but <code>find_max()</code> and <code>find_min()</code> only make sense for numbers.</li>\n",
    "    </ul>\n",
    "  </li>\n",
    "</ol>\n",
    "\n",
    "<span style=\"color: #87CEFA;\">Customization:</span>\n",
    "\n",
    "<ul>\n",
    "  <li>You can modify the <code>actions</code> list to simulate different scenarios, and the program will print the output in sequence as it processes the actions.</li>\n",
    "</ul>\n",
    "\n",
    "</div>\n"
   ]
  }
 ],
 "metadata": {
  "kernelspec": {
   "display_name": "Python 3",
   "language": "python",
   "name": "python3"
  },
  "language_info": {
   "codemirror_mode": {
    "name": "ipython",
    "version": 3
   },
   "file_extension": ".py",
   "mimetype": "text/x-python",
   "name": "python",
   "nbconvert_exporter": "python",
   "pygments_lexer": "ipython3",
   "version": "3.10.12"
  }
 },
 "nbformat": 4,
 "nbformat_minor": 2
}
