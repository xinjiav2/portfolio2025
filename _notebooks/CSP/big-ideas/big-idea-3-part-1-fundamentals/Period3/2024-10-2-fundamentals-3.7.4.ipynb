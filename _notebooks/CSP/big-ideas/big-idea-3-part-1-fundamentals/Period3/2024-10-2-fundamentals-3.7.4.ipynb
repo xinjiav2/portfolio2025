{
 "cells": [
  {
   "cell_type": "markdown",
   "metadata": {},
   "source": [
    "---\n",
    "toc: false\n",
    "comments: true\n",
    "layout: post\n",
    "title: 3.7 Homework Question\n",
    "description: Test your understanding of nested conditionals\n",
    "permalink: /csp/big-idea/p3/3-7-4\n",
    "categories: [CSP Big Ideas]\n",
    "author:  Zoe, Avika, Rutvik, Jonah, Aarush\n",
    "menu: nav/csp_units/csp_unit3_p3_fundamentals.html\n",
    "---"
   ]
  },
  {
   "cell_type": "markdown",
   "metadata": {},
   "source": [
    "<style>\n",
    "  /* Global styling for the notebook with dark background */\n",
    "  body {\n",
    "      font-family: 'Arial', sans-serif;\n",
    "      background-color: #2c3e50;\n",
    "      color: #ecf0f1;\n",
    "  }\n",
    "\n",
    "  /* Styling headers with lighter text and borders */\n",
    "  h1, h2, h3, h4, h5 {\n",
    "      color: #ecf0f1;\n",
    "      border-bottom: 2px solid #9b59b6; /* Amethyst purple */\n",
    "      padding-bottom: 5px;\n",
    "      margin-bottom: 15px;\n",
    "  }\n",
    "\n",
    "  /* Custom style for inline code */\n",
    "  code {\n",
    "      background-color: #34495e;\n",
    "      color: #8e44ad; /* Deep purple */\n",
    "      padding: 2px 5px;\n",
    "      border-radius: 4px;\n",
    "  }\n",
    "\n",
    "  /* Custom style for preformatted code blocks */\n",
    "  pre {\n",
    "      background-color: #2b2b2b;\n",
    "      color: #f1f1f1;\n",
    "      padding: 10px;\n",
    "      border-radius: 5px;\n",
    "      border: 1px solid #9b59b6; /* Updated border color to amethyst */\n",
    "      overflow-x: auto;\n",
    "  }\n",
    "\n",
    "  /* Code block syntax highlighting */\n",
    "  .hljs-keyword, .hljs-selector-tag, .hljs-subst {\n",
    "      color: #9b59b6; /* Keywords now purple */\n",
    "  }\n",
    "\n",
    "  .hljs-string, .hljs-attr, .hljs-symbol, .hljs-bullet, .hljs-addition {\n",
    "      color: #a6e22e; /* Strings */\n",
    "  }\n",
    "\n",
    "  .hljs-title, .hljs-section, .hljs-attribute {\n",
    "      color: #e6db74; /* Function titles and sections */\n",
    "  }\n",
    "\n",
    "  .hljs-variable, .hljs-template-variable {\n",
    "      color: #fd971f; /* Variables */\n",
    "  }\n",
    "\n",
    "  .hljs-comment, .hljs-quote, .hljs-deletion {\n",
    "      color: #75715e; /* Comments */\n",
    "  }\n",
    "\n",
    "  .hljs-number, .hljs-regexp, .hljs-literal, .hljs-type, .hljs-built_in, .hljs-builtin-name {\n",
    "      color: #ae81ff; /* Numbers and built-ins */\n",
    "  }\n",
    "\n",
    "  .hljs-meta {\n",
    "      color: #66d9ef; /* Meta information */\n",
    "  }\n",
    "\n",
    "  .hljs-emphasis {\n",
    "      font-style: italic;\n",
    "  }\n",
    "\n",
    "  .hljs-strong {\n",
    "      font-weight: bold;\n",
    "  }\n",
    "\n",
    "  /* Highlight blockquotes in purple */\n",
    "  blockquote {\n",
    "      border-left: 4px solid #8e44ad; /* Deep purple */\n",
    "      padding-left: 10px;\n",
    "      color: #ecf0f1;\n",
    "      font-style: italic;\n",
    "      background-color: #2d2d2d;\n",
    "      padding: 10px;\n",
    "      border-radius: 4px;\n",
    "  }\n",
    "\n",
    "  /* Styling for emphasized text */\n",
    "  em {\n",
    "      color: #8e44ad; /* Purple for emphasized text */\n",
    "      font-style: italic;\n",
    "  }\n",
    "\n",
    "  /* Style for bold text */\n",
    "  strong {\n",
    "      color: #ecf0f1;\n",
    "      font-weight: bold;\n",
    "  }\n",
    "\n",
    "  /* Menu styling */\n",
    "  .menu {\n",
    "      background-color: #9b59b6; /* Amethyst purple */\n",
    "      color: white;\n",
    "      padding: 10px;\n",
    "      border-radius: 5px;\n",
    "      text-align: center;\n",
    "  }\n",
    "\n",
    "  .menu a {\n",
    "      color: #f39c12; /* Orange links in menu */\n",
    "      text-decoration: none;\n",
    "      padding: 0 10px;\n",
    "  }\n",
    "\n",
    "  .menu a:hover {\n",
    "      color: #8e44ad; /* Purple on hover */\n",
    "  }\n",
    "\n",
    "  /* Adjust the styling for markdown lists */\n",
    "  ul {\n",
    "      list-style-type: square;\n",
    "      color: #ecf0f1;\n",
    "  }\n",
    "\n",
    "  /* Styling tables with dark theme */\n",
    "  table {\n",
    "      border-collapse: collapse;\n",
    "      width: 100%;\n",
    "      background-color: #48345e;\n",
    "  }\n",
    "  \n",
    "  table, th, td {\n",
    "      border: 1px solid #7f8c8d;\n",
    "      padding: 8px;\n",
    "      color: #ecf0f1;\n",
    "  }\n",
    "\n",
    "  th {\n",
    "      background-color: #9b59b6; /* Purple for table headers */\n",
    "      color: white;\n",
    "  }\n",
    "\n",
    "  /* Custom styling for links with better visibility */\n",
    "  a {\n",
    "      color: #9b59b6; /* Purple links */\n",
    "      text-decoration: none;\n",
    "  }\n",
    "\n",
    "  a:hover {\n",
    "      text-decoration: underline;\n",
    "      color: #8e44ad; /* Dark purple on hover */\n",
    "  }\n",
    "</style>\n"
   ]
  },
  {
   "cell_type": "markdown",
   "metadata": {},
   "source": [
    "## Testing Your Skills (HW Question #1)\n",
    "- Create a simple system using `if` and `else` statements that determines whether or not a user (based on their age) is eligible to vote\n",
    "- If the person is less than 18 years old, they should not be able to vote\n",
    "- If the person is 18 years old or older, they are able to vote \n",
    "- You should get something like this:"
   ]
  },
  {
   "cell_type": "markdown",
   "metadata": {},
   "source": [
    "## Explanation\n",
    "- The if statement checks if the user's age is greater than or equal to 18. If they are 18, that means that the statement is true and will print \"You are eligible to vote.\" If the age requirement is not met, that means the statement will be false and the else statement will print \"You are not eligible to vote.\""
   ]
  },
  {
   "cell_type": "markdown",
   "metadata": {},
   "source": [
    "## Quick Quiz\n",
    "\n",
    "## What would the function output if the user's age was 16?"
   ]
  },
  {
   "cell_type": "code",
   "execution_count": 6,
   "metadata": {},
   "outputs": [
    {
     "data": {
      "text/html": [
       "\n",
       "<div id=\"answer\" style=\"display:none; border: 1px solid; padding: 10px; margin-top: 10px;\">\n",
       "    <b>Answer:</b> It would say, \"You are not eligible to vote.\"\n",
       "</div>\n",
       "\n",
       "<button onclick=\"document.getElementById('answer').style.display='block'; this.style.display='none';\">\n",
       "    Reveal Answer\n",
       "</button>\n"
      ],
      "text/plain": [
       "<IPython.core.display.HTML object>"
      ]
     },
     "metadata": {},
     "output_type": "display_data"
    }
   ],
   "source": [
    "%%html\n",
    "\n",
    "<div id=\"answer\" style=\"display:none; border: 1px solid; padding: 10px; margin-top: 10px;\">\n",
    "    <b>Answer:</b> It would say, \"You are not eligible to vote.\"\n",
    "</div>\n",
    "\n",
    "<button onclick=\"document.getElementById('answer').style.display='block'; this.style.display='none';\">\n",
    "    Reveal Answer\n",
    "</button>"
   ]
  },
  {
   "cell_type": "markdown",
   "metadata": {},
   "source": [
    "## When the age of the user is greater than 18, what is the condition in the if statement?"
   ]
  },
  {
   "cell_type": "code",
   "execution_count": 5,
   "metadata": {},
   "outputs": [
    {
     "data": {
      "text/html": [
       "\n",
       "<div id=\"answer1\" style=\"display:none; border: 1px solid; padding: 10px; margin-top: 10px;\">\n",
       "    <b>Answer:</b> It would say, \"You are eligible to vote.\"\n",
       "</div>\n",
       "\n",
       "<button onclick=\"document.getElementById('answer1').style.display='block'; this.style.display='none';\">\n",
       "    Reveal Answer\n",
       "</button>\n"
      ],
      "text/plain": [
       "<IPython.core.display.HTML object>"
      ]
     },
     "metadata": {},
     "output_type": "display_data"
    }
   ],
   "source": [
    "%%html\n",
    "\n",
    "<div id=\"answer1\" style=\"display:none; border: 1px solid; padding: 10px; margin-top: 10px;\">\n",
    "    <b>Answer:</b> It would say, \"You are eligible to vote.\"\n",
    "</div>\n",
    "\n",
    "<button onclick=\"document.getElementById('answer1').style.display='block'; this.style.display='none';\">\n",
    "    Reveal Answer\n",
    "</button>"
   ]
  },
  {
   "cell_type": "markdown",
   "metadata": {},
   "source": [
    "## What is the purpose of the if statement in the function?"
   ]
  },
  {
   "cell_type": "code",
   "execution_count": 4,
   "metadata": {},
   "outputs": [
    {
     "data": {
      "text/html": [
       "\n",
       "<div id=\"answer2\" style=\"display:none; border: 1px solid; padding: 10px; margin-top: 10px;\">\n",
       "    <b>Answer:</b> To determine if you are eligible to vote!\n",
       "</div>\n",
       "\n",
       "<button onclick=\"document.getElementById('answer2').style.display='block'; this.style.display='none';\">\n",
       "    Reveal Answer\n",
       "</button>\n"
      ],
      "text/plain": [
       "<IPython.core.display.HTML object>"
      ]
     },
     "metadata": {},
     "output_type": "display_data"
    }
   ],
   "source": [
    "%%html\n",
    "\n",
    "<div id=\"answer2\" style=\"display:none; border: 1px solid; padding: 10px; margin-top: 10px;\">\n",
    "    <b>Answer:</b> To determine if you are eligible to vote!\n",
    "</div>\n",
    "\n",
    "<button onclick=\"document.getElementById('answer2').style.display='block'; this.style.display='none';\">\n",
    "    Reveal Answer\n",
    "</button>"
   ]
  },
  {
   "cell_type": "markdown",
   "metadata": {},
   "source": [
    "## HW Question #2\n",
    "- Create a simple system using `if` and `else` statements that determines what the user would eat\n",
    "- If the person is healthy, make them eat an apple\n",
    "- If the person doesn't care about what they eat, make them drink coffee\n",
    "- If the person is unhealthy, make them eat chocolate\n",
    "- You should get something like this:"
   ]
  },
  {
   "cell_type": "code",
   "execution_count": 7,
   "metadata": {},
   "outputs": [
    {
     "name": "stdout",
     "output_type": "stream",
     "text": [
      "You should eat an apple!\n"
     ]
    }
   ],
   "source": [
    "# Get user input\n",
    "health_status = input(\"Are you healthy, unhealthy, or indifferent about food? (healthy/unhealthy/indifferent): \").lower()\n",
    "if health_status == \"healthy\":\n",
    "    print(\"Treat yourself to chocolate!\")\n",
    "else:\n",
    "    # Check for the other conditions within the else block\n",
    "    if health_status == \"unhealthy\":\n",
    "        print(\"You should eat an apple!\")\n",
    "    else: \n",
    "        print(\"You don't care about what you eat. How about a coffee?\")"
   ]
  },
  {
   "cell_type": "markdown",
   "metadata": {},
   "source": [
    "## Explanation\n",
    "- The if statement checks if the user's health status is \"healthy.\" If this condition is true, the program will print \"You should eat an apple!\" indicating a healthy choice.\n",
    "- If the health status is not \"healthy,\" the else statement is executed. Within this block, another if statement checks if the user's health status is \"unhealthy.\" If this condition is true, the program will print \"You should eat chocolate!\"\n",
    "- Lastly, if neither condition is met when the user doesn't care about what they eat, the else statement will execute, printing \"You don't care about what you eat. How about a coffee?\" This covers the case for users who are indifferent about their food choices. Keep in mind, you can also achieve this same result using `elif statements` instead of having to create chains of `if` and `else statements`."
   ]
  },
  {
   "cell_type": "code",
   "execution_count": null,
   "metadata": {},
   "outputs": [],
   "source": [
    "# Get user input\n",
    "health_status = input(\"Are you healthy, unhealthy, or indifferent about food? (healthy/unhealthy/indifferent): \").strip().lower()\n",
    "if health_status == \"healthy\":\n",
    "    print(\"You should eat an apple!\")\n",
    "elif health_status == \"unhealthy\":\n",
    "    print(\"You should eat chocolate!\")\n",
    "elif health_status == \"indifferent\":\n",
    "    print(\"You don't care about what you eat. How about a coffee?\")\n",
    "else:\n",
    "    print(\"Invalid input! Please enter 'healthy', 'unhealthy', or 'indifferent'.\")"
   ]
  },
  {
   "cell_type": "markdown",
   "metadata": {},
   "source": [
    "- Notice how there's no inner constructs in this code, so it does not contain nested conditionals!"
   ]
  },
  {
   "cell_type": "markdown",
   "metadata": {},
   "source": [
    "## Quick Quiz"
   ]
  },
  {
   "cell_type": "markdown",
   "metadata": {},
   "source": [
    "## What would the function output if the user's age was not healthy?"
   ]
  },
  {
   "cell_type": "code",
   "execution_count": 9,
   "metadata": {},
   "outputs": [
    {
     "data": {
      "text/html": [
       "\n",
       "<div id=\"answer3\" style=\"display:none; border: 1px solid; padding: 10px; margin-top: 10px;\">\n",
       "    <b>Answer:</b> It would say, \"You should eat an apple!\"\n",
       "</div>\n",
       "\n",
       "<button onclick=\"document.getElementById('answer3').style.display='block'; this.style.display='none';\">\n",
       "    Reveal Answer\n",
       "</button>\n"
      ],
      "text/plain": [
       "<IPython.core.display.HTML object>"
      ]
     },
     "metadata": {},
     "output_type": "display_data"
    }
   ],
   "source": [
    "%%html\n",
    "\n",
    "<div id=\"answer3\" style=\"display:none; border: 1px solid; padding: 10px; margin-top: 10px;\">\n",
    "    <b>Answer:</b> It would say, \"You should eat an apple!\"\n",
    "</div>\n",
    "\n",
    "<button onclick=\"document.getElementById('answer3').style.display='block'; this.style.display='none';\">\n",
    "    Reveal Answer\n",
    "</button>"
   ]
  },
  {
   "cell_type": "markdown",
   "metadata": {},
   "source": [
    "## When the age of the user is unhealthy, what is the condition in the if statement?"
   ]
  },
  {
   "cell_type": "code",
   "execution_count": 8,
   "metadata": {},
   "outputs": [
    {
     "data": {
      "text/html": [
       "\n",
       "<div id=\"answer4\" style=\"display:none; border: 1px solid; padding: 10px; margin-top: 10px;\">\n",
       "    <b>Answer:</b> It would say, \"Treat yourself to chocolate!\"\n",
       "</div>\n",
       "\n",
       "<button onclick=\"document.getElementById('answer4').style.display='block'; this.style.display='none';\">\n",
       "    Reveal Answer\n",
       "</button>\n"
      ],
      "text/plain": [
       "<IPython.core.display.HTML object>"
      ]
     },
     "metadata": {},
     "output_type": "display_data"
    }
   ],
   "source": [
    "%%html\n",
    "\n",
    "<div id=\"answer4\" style=\"display:none; border: 1px solid; padding: 10px; margin-top: 10px;\">\n",
    "    <b>Answer:</b> It would say, \"Treat yourself to chocolate!\"\n",
    "</div>\n",
    "\n",
    "<button onclick=\"document.getElementById('answer4').style.display='block'; this.style.display='none';\">\n",
    "    Reveal Answer\n",
    "</button>"
   ]
  }
 ],
 "metadata": {
  "kernelspec": {
   "display_name": "Python 3.12.3 64-bit",
   "language": "python",
   "name": "python3"
  },
  "language_info": {
   "codemirror_mode": {
    "name": "ipython",
    "version": 3
   },
   "file_extension": ".py",
   "mimetype": "text/x-python",
   "name": "python",
   "nbconvert_exporter": "python",
   "pygments_lexer": "ipython3",
   "version": "3.12.3"
  },
  "orig_nbformat": 4,
  "vscode": {
   "interpreter": {
    "hash": "949777d72b0d2535278d3dc13498b2535136f6dfe0678499012e853ee9abcab1"
   }
  }
 },
 "nbformat": 4,
 "nbformat_minor": 2
}
