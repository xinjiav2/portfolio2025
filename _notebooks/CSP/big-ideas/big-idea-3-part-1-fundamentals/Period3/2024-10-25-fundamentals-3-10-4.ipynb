{
 "cells": [
  {
   "cell_type": "raw",
   "metadata": {
    "vscode": {
     "languageId": "raw"
    }
   },
   "source": [
    "---\n",
    "toc: false\n",
    "comments: true\n",
    "layout: post\n",
    "title: 3.10 Javascript Hacks \n",
    "description: This builds off the initial 3.10.2 lesson. Here you'll find the popcorn hacks (classwork) and hacks (homework) for arrays!\n",
    "permalink: /csp/big-idea/p3/3-10-4\n",
    "categories: [CSP Big Ideas]\n",
    "author:  Arush Shah and Ryan Nguyen\n",
    "menu: nav/csp_units/csp_unit3_p3_fundamentals.html\n",
    "---"
   ]
  },
  {
   "cell_type": "markdown",
   "metadata": {},
   "source": [
    "<div style=\"border: 2px solid #B8D5D8; padding: 15px; border-radius: 10px;\">\n",
    "\n",
    "<span style=\"color: #87CEFA;\">Popcorn Hacks (Classwork) 🍿</span>\n",
    "\n",
    "<ul>\n",
    "  <li>\n",
    "    All it takes to perform some complex calculations is one method. <code>reduce()</code> sums all the numbers in a given array. More specifically, <code>reduce()</code> takes a callback function (basically a function that can be referenced in later bits of code), which processes all the items in a given array. Create a list that uses this function.\n",
    "  </li>\n",
    "  \n",
    "  <li>\n",
    "    Now create another array containing the integers: 3, 4, 8, 9, 1, 80, and 77. Put these integers in RANDOM ORDER. This will be the second popcorn hack. Now use the <code>sort()</code> method to reorganize these integers in numerical order. Now do the same thing again, but this time write out the integers using words. Sort these alphabetically.\n",
    "  </li>\n",
    "\n",
    "</ul>\n",
    "\n",
    "</div>\n",
    "\n"
   ]
  },
  {
   "cell_type": "code",
   "execution_count": null,
   "metadata": {
    "vscode": {
     "languageId": "javascript"
    }
   },
   "outputs": [],
   "source": [
    "%%javascript\n",
    "\n",
    "const numbers = [1, 2, 3, 4, 5];\n",
    "const sum = numbers.reduce((accumulator, current) => accumulator + current, 0);\n",
    "\n",
    "console.log(sum); // Output: 15\n",
    "\n",
    "// Accumulator holds the running total (or whatever you want to accumulate). Current refers to the current item being processed. The second argument (0) initializes the accumulator."
   ]
  },
  {
   "cell_type": "markdown",
   "metadata": {},
   "source": [
    "<div style=\"border: 2px solid #D8BFD8; padding: 15px; border-radius: 10px;\">\n",
    "\n",
    "<span style=\"color: #87CEFA;\">Javascript Hack 🏬🛒</span>\n",
    "\n",
    "<ul>\n",
    "  <li>\n",
    "    It's time to go shopping! Try to create a program that allows users to manage items using an array, which can be visually represented with a shopping cart. \n",
    "  </li>\n",
    "  <li>\n",
    "    While not necessary, feel free to show the cart filling up with icons (items) as the user adds or subtracts items.\n",
    "  </li>\n",
    "</ul>\n",
    "\n",
    "</div>\n",
    "\n"
   ]
  }
 ],
 "metadata": {
  "language_info": {
   "name": "python"
  }
 },
 "nbformat": 4,
 "nbformat_minor": 2
}
