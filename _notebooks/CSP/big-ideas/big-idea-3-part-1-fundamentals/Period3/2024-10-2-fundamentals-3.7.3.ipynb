{
 "cells": [
  {
   "cell_type": "markdown",
   "metadata": {},
   "source": [
    "---\n",
    "toc: false\n",
    "comments: true\n",
    "layout: post\n",
    "title: 3.7.3 Javascript Hacks\n",
    "description: Javascript example of nested conditionals\n",
    "permalink: /csp/big-idea/p3/3-7-3\n",
    "categories: [CSP Big Ideas]\n",
    "author:  Zoe, Rutvik, Avika, Jonah, Aarush\n",
    "menu: nav/csp_units/csp_unit3_p3_fundamentals.html\n",
    "---"
   ]
  },
  {
   "cell_type": "markdown",
   "metadata": {},
   "source": [
    "Here's an example of a javascript hack that simulates fitness levels. As you can see, the code utilizes `if` and `else statements`. `If statements` and `else statements` are commonly used together. `If statements` check if a statement is true, while `else statements` will check if it is false."
   ]
  },
  {
   "cell_type": "markdown",
   "metadata": {},
   "source": [
    "<style>\n",
    "  /* Global styling for the notebook with dark background */\n",
    "  body {\n",
    "      font-family: 'Arial', sans-serif;\n",
    "      background-color: #2c3e50;\n",
    "      color: #ecf0f1;\n",
    "  }\n",
    "\n",
    "  /* Styling headers with lighter text and borders */\n",
    "  h1, h2, h3, h4, h5 {\n",
    "      color: #ecf0f1;\n",
    "      border-bottom: 2px solid #9b59b6; /* Amethyst purple */\n",
    "      padding-bottom: 5px;\n",
    "      margin-bottom: 15px;\n",
    "  }\n",
    "\n",
    "  /* Custom style for inline code */\n",
    "  code {\n",
    "      background-color: #34495e;\n",
    "      color: #8e44ad; /* Deep purple */\n",
    "      padding: 2px 5px;\n",
    "      border-radius: 4px;\n",
    "  }\n",
    "\n",
    "  /* Custom style for preformatted code blocks */\n",
    "  pre {\n",
    "      background-color: #2b2b2b;\n",
    "      color: #f1f1f1;\n",
    "      padding: 10px;\n",
    "      border-radius: 5px;\n",
    "      border: 1px solid #9b59b6; /* Updated border color to amethyst */\n",
    "      overflow-x: auto;\n",
    "  }\n",
    "\n",
    "  /* Code block syntax highlighting */\n",
    "  .hljs-keyword, .hljs-selector-tag, .hljs-subst {\n",
    "      color: #9b59b6; /* Keywords now purple */\n",
    "  }\n",
    "\n",
    "  .hljs-string, .hljs-attr, .hljs-symbol, .hljs-bullet, .hljs-addition {\n",
    "      color: #a6e22e; /* Strings */\n",
    "  }\n",
    "\n",
    "  .hljs-title, .hljs-section, .hljs-attribute {\n",
    "      color: #e6db74; /* Function titles and sections */\n",
    "  }\n",
    "\n",
    "  .hljs-variable, .hljs-template-variable {\n",
    "      color: #fd971f; /* Variables */\n",
    "  }\n",
    "\n",
    "  .hljs-comment, .hljs-quote, .hljs-deletion {\n",
    "      color: #75715e; /* Comments */\n",
    "  }\n",
    "\n",
    "  .hljs-number, .hljs-regexp, .hljs-literal, .hljs-type, .hljs-built_in, .hljs-builtin-name {\n",
    "      color: #ae81ff; /* Numbers and built-ins */\n",
    "  }\n",
    "\n",
    "  .hljs-meta {\n",
    "      color: #66d9ef; /* Meta information */\n",
    "  }\n",
    "\n",
    "  .hljs-emphasis {\n",
    "      font-style: italic;\n",
    "  }\n",
    "\n",
    "  .hljs-strong {\n",
    "      font-weight: bold;\n",
    "  }\n",
    "\n",
    "  /* Highlight blockquotes in purple */\n",
    "  blockquote {\n",
    "      border-left: 4px solid #8e44ad; /* Deep purple */\n",
    "      padding-left: 10px;\n",
    "      color: #ecf0f1;\n",
    "      font-style: italic;\n",
    "      background-color: #2d2d2d;\n",
    "      padding: 10px;\n",
    "      border-radius: 4px;\n",
    "  }\n",
    "\n",
    "  /* Styling for emphasized text */\n",
    "  em {\n",
    "      color: #8e44ad; /* Purple for emphasized text */\n",
    "      font-style: italic;\n",
    "  }\n",
    "\n",
    "  /* Style for bold text */\n",
    "  strong {\n",
    "      color: #ecf0f1;\n",
    "      font-weight: bold;\n",
    "  }\n",
    "\n",
    "  /* Menu styling */\n",
    "  .menu {\n",
    "      background-color: #9b59b6; /* Amethyst purple */\n",
    "      color: white;\n",
    "      padding: 10px;\n",
    "      border-radius: 5px;\n",
    "      text-align: center;\n",
    "  }\n",
    "\n",
    "  .menu a {\n",
    "      color: #f39c12; /* Orange links in menu */\n",
    "      text-decoration: none;\n",
    "      padding: 0 10px;\n",
    "  }\n",
    "\n",
    "  .menu a:hover {\n",
    "      color: #8e44ad; /* Purple on hover */\n",
    "  }\n",
    "\n",
    "  /* Adjust the styling for markdown lists */\n",
    "  ul {\n",
    "      list-style-type: square;\n",
    "      color: #ecf0f1;\n",
    "  }\n",
    "\n",
    "  /* Styling tables with dark theme */\n",
    "  table {\n",
    "      border-collapse: collapse;\n",
    "      width: 100%;\n",
    "      background-color: #48345e;\n",
    "  }\n",
    "  \n",
    "  table, th, td {\n",
    "      border: 1px solid #7f8c8d;\n",
    "      padding: 8px;\n",
    "      color: #ecf0f1;\n",
    "  }\n",
    "\n",
    "  th {\n",
    "      background-color: #9b59b6; /* Purple for table headers */\n",
    "      color: white;\n",
    "  }\n",
    "\n",
    "  /* Custom styling for links with better visibility */\n",
    "  a {\n",
    "      color: #9b59b6; /* Purple links */\n",
    "      text-decoration: none;\n",
    "  }\n",
    "\n",
    "  a:hover {\n",
    "      text-decoration: underline;\n",
    "      color: #8e44ad; /* Dark purple on hover */\n",
    "  }\n",
    "</style>\n"
   ]
  },
  {
   "cell_type": "code",
   "execution_count": 48,
   "metadata": {
    "vscode": {
     "languageId": "javascript"
    }
   },
   "outputs": [
    {
     "data": {
      "application/javascript": "function assessFitnessLevel(pushUps) {\n    let fitnessLevel;\n    if (pushUps >= 50) {\n        fitnessLevel = \"Elite\";\n    } else {\n        if (pushUps >= 30) {\n            fitnessLevel = \"Advanced\";\n        } else {\n            if (pushUps >= 15) {\n                fitnessLevel = \"Intermediate\";\n            } else {\n                if (pushUps >= 1) {\n                    fitnessLevel = \"Beginner\";\n                } else {\n                    fitnessLevel = \"Unfit\";\n                }\n            }\n        }\n    }\n    return fitnessLevel;\n}\n// Example usage\nconst userPushUps = 28; // Change this value to test different inputs\nconsole.log(`Fitness Level: ${assessFitnessLevel(userPushUps)}`);\n",
      "text/plain": [
       "<IPython.core.display.Javascript object>"
      ]
     },
     "metadata": {},
     "output_type": "display_data"
    }
   ],
   "source": [
    "%%javascript\n",
    "function assessFitnessLevel(pushUps) {\n",
    "    let fitnessLevel;\n",
    "    if (pushUps >= 50) {\n",
    "        fitnessLevel = \"Elite\";\n",
    "    } else {\n",
    "        if (pushUps >= 30) {\n",
    "            fitnessLevel = \"Advanced\";\n",
    "        } else {\n",
    "            if (pushUps >= 15) {\n",
    "                fitnessLevel = \"Intermediate\";\n",
    "            } else {\n",
    "                if (pushUps >= 1) {\n",
    "                    fitnessLevel = \"Beginner\";\n",
    "                } else {\n",
    "                    fitnessLevel = \"Unfit\";\n",
    "                }\n",
    "            }\n",
    "        }\n",
    "    }\n",
    "    return fitnessLevel;\n",
    "}\n",
    "// Example usage\n",
    "const userPushUps = 28; // Change this value to test different inputs\n",
    "console.log(`Fitness Level: ${assessFitnessLevel(userPushUps)}`);"
   ]
  },
  {
   "cell_type": "markdown",
   "metadata": {},
   "source": [
    "## Javascript Hack\n",
    "- In this hack, the `if statement` works with the `else statement` to determine the user's fitness level. The `if statement` checks if the user has gotten more than the given number of pushups,  if it doesn't work,  the `else statement` will be executed. The `else statement` will check if the user has gotten less than the number of pushups, if it doesn't meet the requirements, the user will be classified as the lower level."
   ]
  },
  {
   "cell_type": "markdown",
   "metadata": {},
   "source": [
    "## Here's a short overview of nested conditionals:"
   ]
  },
  {
   "cell_type": "code",
   "execution_count": 49,
   "metadata": {},
   "outputs": [
    {
     "ename": "IndentationError",
     "evalue": "expected an indented block after 'if' statement on line 3 (1518511658.py, line 5)",
     "output_type": "error",
     "traceback": [
      "\u001b[0;36m  File \u001b[0;32m\"/tmp/ipykernel_741876/1518511658.py\"\u001b[0;36m, line \u001b[0;32m5\u001b[0m\n\u001b[0;31m    else:\u001b[0m\n\u001b[0m    ^\u001b[0m\n\u001b[0;31mIndentationError\u001b[0m\u001b[0;31m:\u001b[0m expected an indented block after 'if' statement on line 3\n"
     ]
    }
   ],
   "source": [
    "if outer_condition:\n",
    "    # Code for when outer_condition is true\n",
    "    if inner_condition:\n",
    "        # Code for when both outer_condition and inner_condition are true\n",
    "    else:\n",
    "        # Code for when outer_condition is true but inner_condition is false\n",
    "else:\n",
    "    # Code for when outer_condition is false"
   ]
  },
  {
   "cell_type": "markdown",
   "metadata": {},
   "source": [
    "- Notice that there are `if` and `else statements` inside of the system which makes it so that those statements depend on the outer function to be true. This is what makes them nested conditionals"
   ]
  }
 ],
 "metadata": {
  "kernelspec": {
   "display_name": "Python 3.12.5 64-bit",
   "language": "python",
   "name": "python3"
  },
  "language_info": {
   "name": "python",
   "version": "3.12.5"
  },
  "orig_nbformat": 4,
  "vscode": {
   "interpreter": {
    "hash": "b0fa6594d8f4cbf19f97940f81e996739fb7646882a419484c72d19e05852a7e"
   }
  }
 },
 "nbformat": 4,
 "nbformat_minor": 2
}
