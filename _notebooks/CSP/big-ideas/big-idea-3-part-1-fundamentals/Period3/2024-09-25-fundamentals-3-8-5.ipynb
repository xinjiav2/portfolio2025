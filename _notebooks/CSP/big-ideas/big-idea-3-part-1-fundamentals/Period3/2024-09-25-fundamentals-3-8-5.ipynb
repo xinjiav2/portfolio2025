{
 "cells": [
  {
   "cell_type": "raw",
   "metadata": {
    "vscode": {
     "languageId": "raw"
    }
   },
   "source": [
    "---\n",
    "toc: false\n",
    "comments: true\n",
    "layout: post\n",
    "title: \"3.8.5 Nested If Statements\"\n",
    "description: Learn what a nested if statement is and does, practice problems for getting familiar with nested if statements\n",
    "permalink: /csp/big-idea/p3/3-8-5\n",
    "categories: [CSP Big Ideas]\n",
    "author: Elliot\n",
    "menu: nav/csp_units/csp_unit3_p3_fundamentals.html\n",
    "---"
   ]
  },
  {
   "cell_type": "markdown",
   "metadata": {},
   "source": [
    "<style>\n",
    "  /* Global styling for the notebook with forest green background */\n",
    "  body {\n",
    "      font-family: 'Arial', sans-serif;\n",
    "      background-color: #2e8b57; /* Forest green background */\n",
    "      color: #ecf0f1; /* Light text */\n",
    "  }\n",
    "\n",
    "  /* Styling headers with lighter text and borders */\n",
    "  h1, h2, h3, h4, h5 {\n",
    "      color: #ecf0f1; /* Light text for headings */\n",
    "      border-bottom: 2px solid #66cdaa; /* Lighter green for borders */\n",
    "      padding-bottom: 5px;\n",
    "      margin-bottom: 15px;\n",
    "  }\n",
    "\n",
    "  /* Custom style for inline code */\n",
    "  code {\n",
    "      background-color: #3b6b4b; /* Darker forest green for inline code */\n",
    "      color: #e74c3c; /* Red code color */\n",
    "      padding: 2px 5px;\n",
    "      border-radius: 4px;\n",
    "  }\n",
    "\n",
    "  /* Custom style for preformatted code blocks */\n",
    "  pre {\n",
    "      background-color: #2b4d3a; /* Dark forest green for code blocks */\n",
    "      color: #f1f1f1; /* Light text */\n",
    "      padding: 10px;\n",
    "      border-radius: 5px;\n",
    "      border: 1px solid #66cdaa; /* Lighter green border */\n",
    "      overflow-x: auto;\n",
    "  }\n",
    "\n",
    "  /* Code block syntax highlighting */\n",
    "  .hljs-keyword, .hljs-selector-tag, .hljs-subst {\n",
    "      color: #f92672; /* Keywords in red */\n",
    "  }\n",
    "\n",
    "  .hljs-string, .hljs-attr, .hljs-symbol, .hljs-bullet, .hljs-addition {\n",
    "      color: #a6e22e; /* Strings in green */\n",
    "  }\n",
    "\n",
    "  .hljs-title, .hljs-section, .hljs-attribute {\n",
    "      color: #e6db74; /* Function titles in yellow */\n",
    "  }\n",
    "\n",
    "  .hljs-variable, .hljs-template-variable {\n",
    "      color: #fd971f; /* Variables in orange */\n",
    "  }\n",
    "\n",
    "  .hljs-comment, .hljs-quote, .hljs-deletion {\n",
    "      color: #75715e; /* Comments in gray */\n",
    "  }\n",
    "\n",
    "  .hljs-number, .hljs-regexp, .hljs-literal, .hljs-type, .hljs-built_in, .hljs-builtin-name {\n",
    "      color: #ae81ff; /* Numbers in purple */\n",
    "  }\n",
    "\n",
    "  .hljs-meta {\n",
    "      color: #66d9ef; /* Meta in light blue */\n",
    "  }\n",
    "\n",
    "  .hljs-emphasis {\n",
    "      font-style: italic;\n",
    "  }\n",
    "\n",
    "  .hljs-strong {\n",
    "      font-weight: bold;\n",
    "  }\n",
    "\n",
    "  /* Highlight blockquotes in forest green */\n",
    "  blockquote {\n",
    "      border-left: 4px solid #66cdaa; /* Lighter green border */\n",
    "      padding-left: 10px;\n",
    "      color: #ecf0f1; /* Light text */\n",
    "      font-style: italic;\n",
    "      background-color: #2f4f4f; /* Darker green background */\n",
    "      padding: 10px;\n",
    "      border-radius: 4px;\n",
    "  }\n",
    "\n",
    "  /* Styling for emphasized text */\n",
    "  em {\n",
    "      color: #f39c12; /* Orange for emphasized text */\n",
    "      font-style: italic;\n",
    "  }\n",
    "\n",
    "  /* Style for bold text */\n",
    "  strong {\n",
    "      color: #ecf0f1;\n",
    "      font-weight: bold;\n",
    "  }\n",
    "\n",
    "  /* Menu styling */\n",
    "  .menu {\n",
    "      background-color: #228b22; /* Strong forest green */\n",
    "      color: white;\n",
    "      padding: 10px;\n",
    "      border-radius: 5px;\n",
    "      text-align: center;\n",
    "  }\n",
    "\n",
    "  .menu a {\n",
    "      color: #f1c40f; /* Yellow links in menu */\n",
    "      text-decoration: none;\n",
    "      padding: 0 10px;\n",
    "  }\n",
    "\n",
    "  .menu a:hover {\n",
    "      color: #f39c12; /* Orange on hover */\n",
    "  }\n",
    "\n",
    "  /* Adjust the styling for markdown lists */\n",
    "  ul {\n",
    "      list-style-type: square;\n",
    "      color: #ecf0f1;\n",
    "  }\n",
    "\n",
    "  /* Styling tables with dark theme */\n",
    "  table {\n",
    "      border-collapse: collapse;\n",
    "      width: 100%;\n",
    "      background-color: #34495e;\n",
    "  }\n",
    "  \n",
    "  table, th, td {\n",
    "      border: 1px solid #7f8c8d;\n",
    "      padding: 8px;\n",
    "      color: #ecf0f1;\n",
    "  }\n",
    "\n",
    "  th {\n",
    "      background-color: #228b22; /* Forest green for table headers */\n",
    "      color: white;\n",
    "  }\n",
    "\n",
    "  /* Custom styling for links with better visibility */\n",
    "  a {\n",
    "      color: #1abc9c;\n",
    "      text-decoration: none;\n",
    "  }\n",
    "\n",
    "  a:hover {\n",
    "      text-decoration: underline;\n",
    "      color: #16a085;\n",
    "  }\n",
    "</style>\n"
   ]
  },
  {
   "cell_type": "markdown",
   "metadata": {},
   "source": [
    "### Basic Overview:\n",
    "\n",
    "- A **nested if statement** is an if statement placed inside another if, else if, or even a loop.\n",
    "- You can use nested if statements inside a for loop to perform multiple condition checks.\n",
    "- A **for loop** iterates through a collection (like a list) and checks various conditions using if statements in each iteration.\n",
    "- Based on the condition results, the corresponding code is executed."
   ]
  },
  {
   "cell_type": "code",
   "execution_count": 1,
   "metadata": {},
   "outputs": [
    {
     "name": "stdout",
     "output_type": "stream",
     "text": [
      "1 is odd\n",
      "2 is even and less than or equal to 5\n",
      "3 is odd\n",
      "4 is even and less than or equal to 5\n",
      "5 is odd\n",
      "6 is even and greater than 5\n",
      "7 is odd\n",
      "8 is even and greater than 5\n",
      "9 is odd\n",
      "10 is even and greater than 5\n"
     ]
    }
   ],
   "source": [
    "numbers = [1, 2, 3, 4, 5, 6, 7, 8, 9, 10]\n",
    "\n",
    "\n",
    "for num in numbers:\n",
    "    if num % 2 == 0:  # Check if the number is even\n",
    "        if num > 5:  # Another condition inside the first if statement\n",
    "            print(num, \"is even and greater than 5\")\n",
    "        else:\n",
    "            print(num, \"is even and less than or equal to 5\")\n",
    "    else:  # If it's not even, it must be odd\n",
    "        print(num, \"is odd\")\n"
   ]
  },
  {
   "cell_type": "markdown",
   "metadata": {},
   "source": [
    "### Practice Problem\n",
    "- Here, there are four numbers listed. Using your knowledge of nested if statements, write code that will print the positive numbers in one group and the negative numbers as one group.\n",
    "- Helpful Hint: the command that checks if a number is negative is \"if num<0\""
   ]
  },
  {
   "cell_type": "code",
   "execution_count": 2,
   "metadata": {},
   "outputs": [],
   "source": [
    "# List of numbers\n",
    "numbers = [10, -5, 7, -3]\n",
    "\n",
    "# Your task: Write a loop with nested if statements to print whether each number is positive or negative\n"
   ]
  },
  {
   "cell_type": "code",
   "execution_count": 3,
   "metadata": {},
   "outputs": [
    {
     "name": "stdout",
     "output_type": "stream",
     "text": [
      "0 is zero\n",
      "-3 is negative\n",
      "5 is positive and odd\n",
      "-8 is negative\n",
      "2 is positive and even\n",
      "0 is zero\n",
      "7 is positive and odd\n",
      "-1 is negative\n"
     ]
    }
   ],
   "source": [
    "# <h2> Answer to the Practice Problem </h2>\n",
    "\n",
    "numbers = [0, -3, 5, -8, 2, 0, 7, -1]\n",
    "for num in numbers:\n",
    "    if num == 0:  # Check if the number is zero\n",
    "        print(num, \"is zero\")\n",
    "    else:\n",
    "        if num > 0:  # Check if the number is positive\n",
    "            if num % 2 == 0:  # Nested if to check if it's even\n",
    "                print(num, \"is positive and even\")\n",
    "            else:  # If it's not even, it must be odd\n",
    "                print(num, \"is positive and odd\")\n",
    "        else:  # If it's not positive, it must be negative\n",
    "            print(num, \"is negative\")"
   ]
  },
  {
   "cell_type": "markdown",
   "metadata": {},
   "source": [
    "### What is Happening:\n",
    "- The code loops through a list of numbers.\n",
    "- For each number, it first checks if the number is even.\n",
    "  - If even, it checks if the number is greater than 5.\n",
    "  - If the number is not greater than 5, it prints that it is even and ≤ 5.\n",
    "- If the number is odd, it simply prints that the number is odd."
   ]
  },
  {
   "cell_type": "markdown",
   "metadata": {},
   "source": [
    "### Additional Notes:\n",
    "- **Multiple Conditions**: Nested if statements allow you to add layers of condition checks, which is helpful when you want to ensure that several criteria are met before executing certain code.\n",
    "- **Code Readability**: While nested if statements provide flexibility, too many levels of nesting can make the code harder to read. Always try to keep nesting simple and clear.\n",
    "- **Real-World Use**: Nested if statements are commonly used in scenarios where decisions need to be made based on multiple criteria, such as filtering or categorizing data."
   ]
  }
 ],
 "metadata": {
  "kernelspec": {
   "display_name": "Python 3",
   "language": "python",
   "name": "python3"
  },
  "language_info": {
   "codemirror_mode": {
    "name": "ipython",
    "version": 3
   },
   "file_extension": ".py",
   "mimetype": "text/x-python",
   "name": "python",
   "nbconvert_exporter": "python",
   "pygments_lexer": "ipython3",
   "version": "3.12.3"
  }
 },
 "nbformat": 4,
 "nbformat_minor": 2
}
