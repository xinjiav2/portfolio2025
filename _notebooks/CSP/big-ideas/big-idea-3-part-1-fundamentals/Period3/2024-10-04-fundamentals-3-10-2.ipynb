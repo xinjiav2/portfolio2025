{
 "cells": [
  {
   "cell_type": "raw",
   "metadata": {
    "vscode": {
     "languageId": "raw"
    }
   },
   "source": [
    "---\n",
    "toc: false\n",
    "comments: true\n",
    "layout: post\n",
    "title: 3.10 Javascript Lists (More Information)\n",
    "description: This is part 2 of the lesson. This develops lists even further, focusing on Javascript arrays!\n",
    "permalink: /csp/big-idea/p3/3-10-2\n",
    "categories: [CSP Big Ideas]\n",
    "author:  Jackson Patrick and Arush Shah \n",
    "menu: nav/csp_units/csp_unit3_p3_fundamentals.html\n",
    "---"
   ]
  },
  {
   "cell_type": "markdown",
   "metadata": {},
   "source": [
    "<div style=\"border: 2px solid #A8D5BA; padding: 15px; border-radius: 10px;\">\n",
    "\n",
    "<span style=\"color: #87CEFA;\">How are Lists Displayed in Javascript? 💻</span>\n",
    "\n",
    "In Javascript, lists work slightly differently. Instead, we refer to these kinds of lists as \"arrays.\" How we modify, add (append), delete, or access arrays works differently compared to traditional Python lists. Here’s an example:\n",
    "\n",
    "</div>\n"
   ]
  },
  {
   "cell_type": "code",
   "execution_count": 2,
   "metadata": {
    "vscode": {
     "languageId": "javascript"
    }
   },
   "outputs": [
    {
     "data": {
      "application/javascript": "\nlet fruits = ['apple', 'banana', 'orange']; // This is how you would establish an array. \n",
      "text/plain": [
       "<IPython.core.display.Javascript object>"
      ]
     },
     "metadata": {},
     "output_type": "display_data"
    }
   ],
   "source": [
    "%%javascript\n",
    "\n",
    "let fruits = ['apple', 'banana', 'orange']; // This is how you would establish an array. \n"
   ]
  },
  {
   "cell_type": "markdown",
   "metadata": {
    "vscode": {
     "languageId": "javascript"
    }
   },
   "source": [
    "<div style=\"border: 2px solid #A8D5BA; padding: 15px; border-radius: 10px;\">\n",
    "\n",
    "<span style=\"color: #87CEFA;\">Accessing and Modifying 🗂️</span>\n",
    "\n",
    "Similar to Python, you can reference an element simply by using its index. Remember that the index starts at 0. Negative indexing is not supported by JS, but you can always use `.length` in order to reference a specific element.\n",
    "\n",
    "</div>\n"
   ]
  },
  {
   "cell_type": "code",
   "execution_count": 3,
   "metadata": {
    "vscode": {
     "languageId": "javascript"
    }
   },
   "outputs": [
    {
     "data": {
      "application/javascript": "\nlet fruits = ['apple', 'banana', 'cherry'];\nconsole.log(fruits[0]); // 'apple'\nconsole.log(fruits[1]); // 'banana'\n\nconsole.log(fruits[fruits.length - 1]); // 'cherry'\n",
      "text/plain": [
       "<IPython.core.display.Javascript object>"
      ]
     },
     "metadata": {},
     "output_type": "display_data"
    }
   ],
   "source": [
    "%%javascript\n",
    "\n",
    "let fruits = ['apple', 'banana', 'cherry'];\n",
    "console.log(fruits[0]); // 'apple'\n",
    "console.log(fruits[1]); // 'banana'\n",
    "\n",
    "console.log(fruits[fruits.length - 1]); // 'cherry'\n"
   ]
  },
  {
   "cell_type": "markdown",
   "metadata": {
    "vscode": {
     "languageId": "javascript"
    }
   },
   "source": [
    "<div style=\"border: 2px solid #D8BFD8; padding: 15px; border-radius: 10px;\">\n",
    "\n",
    "<span style=\"color: #87CEFA;\">Removing and Checking for Existence ➖❌</span>\n",
    "\n",
    "There are multiple ways you can remove an element. `pop()` is one way, but it targets the last element in the array. Conversely, `shift()` removes the first element. You will most likely want to target an element of a specific index, in which case you would use `splice(start, deleteCount)`.\n",
    "\n",
    "As for checking for existence, using `indexOf()` is a great way. This will return the index of the value. If it doesn't exist, you will receive an output of -1.\n",
    "\n",
    "</div>\n"
   ]
  },
  {
   "cell_type": "code",
   "execution_count": 4,
   "metadata": {
    "vscode": {
     "languageId": "javascript"
    }
   },
   "outputs": [
    {
     "data": {
      "application/javascript": "\nlet fruits = ['apple', 'banana', 'cherry'];\nlet lastFruit = fruits.pop(); // 'cherry'\nconsole.log(fruits); // ['apple', 'banana']\n\nlet firstFruit = fruits.shift(); // 'apple'\nconsole.log(fruits); // ['banana']\n\nlet colors = ['red', 'green', 'blue'];\ncolors.splice(1, 1); // Removes 'green'\nconsole.log(colors); // ['red', 'blue']\n\n// Checking for existence\nconsole.log(fruits.indexOf('banana')); // 1\nconsole.log(fruits.indexOf('orange')); // -1\n",
      "text/plain": [
       "<IPython.core.display.Javascript object>"
      ]
     },
     "metadata": {},
     "output_type": "display_data"
    }
   ],
   "source": [
    "%%javascript\n",
    "\n",
    "let fruits = ['apple', 'banana', 'cherry'];\n",
    "let lastFruit = fruits.pop(); // 'cherry'\n",
    "console.log(fruits); // ['apple', 'banana']\n",
    "\n",
    "let firstFruit = fruits.shift(); // 'apple'\n",
    "console.log(fruits); // ['banana']\n",
    "\n",
    "let colors = ['red', 'green', 'blue'];\n",
    "colors.splice(1, 1); // Removes 'green'\n",
    "console.log(colors); // ['red', 'blue']\n",
    "\n",
    "// Checking for existence\n",
    "console.log(fruits.indexOf('banana')); // 1\n",
    "console.log(fruits.indexOf('orange')); // -1\n"
   ]
  },
  {
   "cell_type": "markdown",
   "metadata": {
    "vscode": {
     "languageId": "javascript"
    }
   },
   "source": [
    "<div style=\"border: 2px solid #A8D5BA; padding: 15px; border-radius: 10px;\">\n",
    "\n",
    "<span style=\"color: #87CEFA;\">Popcorn Hack (Classwork) 🍿</span>\n",
    "<ul>\n",
    "  <li>\n",
    "    Let's see what you can do with a JS array. Reverse the order of your array WITHOUT creating a new array. This should be quick!\n",
    "  </li>\n",
    "</ul>\n",
    "\n",
    "</div>\n",
    "\n"
   ]
  }
 ],
 "metadata": {
  "kernelspec": {
   "display_name": "Python 3",
   "language": "python",
   "name": "python3"
  },
  "language_info": {
   "codemirror_mode": {
    "name": "ipython",
    "version": 3
   },
   "file_extension": ".py",
   "mimetype": "text/x-python",
   "name": "python",
   "nbconvert_exporter": "python",
   "pygments_lexer": "ipython3",
   "version": "3.10.12"
  }
 },
 "nbformat": 4,
 "nbformat_minor": 2
}
