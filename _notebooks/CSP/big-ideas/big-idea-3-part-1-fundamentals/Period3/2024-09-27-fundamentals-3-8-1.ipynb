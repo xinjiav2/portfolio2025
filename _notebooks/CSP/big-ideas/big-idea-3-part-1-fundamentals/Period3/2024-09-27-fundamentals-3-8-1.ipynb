{
 "cells": [
  {
   "cell_type": "raw",
   "metadata": {
    "vscode": {
     "languageId": "raw"
    }
   },
   "source": [
    "---\n",
    "toc: false\n",
    "comments: true\n",
    "layout: post\n",
    "title: \"3.8.1 Recursion Iteration and Nested For Loops P3\"\n",
    "description: Lesson on Iteration Recursion and Nested For Loops, including popcorn hacks, homework, and basic explanation of what is going on.\n",
    "permalink: /csp/big-idea/p3/3-8-1\n",
    "categories: [CSP Big Ideas]\n",
    "author:  Armaghan\n",
    "menu: nav/csp_units/csp_unit3_p3_fundamentals.html\n",
    "---"
   ]
  },
  {
   "cell_type": "markdown",
   "metadata": {},
   "source": [
    "## Basic Overview\n",
    "\n",
    "Recursion is a process in which a function calls itself as part of its execution. It is a powerful technique used to solve problems by breaking them down into simpler sub-problems of the same type.\n",
    "\n",
    "Recursion typically involves two essential parts:\n",
    "\n",
    "1. **Base case** – The condition that stops the recursion.\n",
    "2. **Recursive case** – The part where the function continues calling itself.\n"
   ]
  },
  {
   "cell_type": "markdown",
   "metadata": {},
   "source": [
    "# Pseudocode Explanation"
   ]
  },
  {
   "cell_type": "code",
   "execution_count": 2,
   "metadata": {
    "vscode": {
     "languageId": "sql"
    }
   },
   "outputs": [
    {
     "ename": "SyntaxError",
     "evalue": "invalid syntax (1118931696.py, line 1)",
     "output_type": "error",
     "traceback": [
      "\u001b[0;36m  Cell \u001b[0;32mIn[2], line 1\u001b[0;36m\u001b[0m\n\u001b[0;31m    Define a function factorial with parameter n\u001b[0m\n\u001b[0m           ^\u001b[0m\n\u001b[0;31mSyntaxError\u001b[0m\u001b[0;31m:\u001b[0m invalid syntax\n"
     ]
    }
   ],
   "source": [
    "Define a function factorial with parameter n\n",
    "  If n equals 0\n",
    "    Return 1\n",
    "  Else if n is less than 0\n",
    "    Return \"undefined\"\n",
    "  Else if n is a float\n",
    "    Return \"not solvable\"\n",
    "  Else\n",
    "    Return n multiplied by factorial of n-1\n",
    "\n",
    "Take user input as num\n",
    "Call factorial(num) and print the result"
   ]
  },
  {
   "cell_type": "markdown",
   "metadata": {
    "vscode": {
     "languageId": "raw"
    }
   },
   "source": [
    "# Python Example\n",
    "Here’s an example of a simple factorial function that uses recursion. It will keep calling itself, multiplying numbers, until the base case (when `n == 0`) is reached."
   ]
  },
  {
   "cell_type": "code",
   "execution_count": null,
   "metadata": {},
   "outputs": [
    {
     "name": "stdout",
     "output_type": "stream",
     "text": [
      "Factorial of 8 is 40320\n"
     ]
    }
   ],
   "source": [
    "# Function to calculate factorial\n",
    "def factorial(n):\n",
    "    # Base case: stop recursion when n is 0\n",
    "    if n == 0:  \n",
    "        return 1  # 0! is 1  \n",
    "    \n",
    "    # Handle negative input\n",
    "    elif n < 0:  \n",
    "        return \"undefined\"  # Undefined for negative numbers  \n",
    "    \n",
    "    # Handle non-integer input\n",
    "    elif isinstance(n, float):  \n",
    "        return \"not solvable without gamma function\"  # Only accept integers  \n",
    "    \n",
    "    # Recursive case: call the function again with (n-1)\n",
    "    else:  \n",
    "        return n * factorial(n - 1)  # Function calls itself with n-1  \n",
    "\n",
    "# Take user input for a number\n",
    "num = int(input(\"Enter a number to calculate its factorial: \"))  \n",
    "\n",
    "# Call the factorial function and print the result\n",
    "result = factorial(num)  \n",
    "print(f\"Factorial of {num} is\", result)\n"
   ]
  },
  {
   "cell_type": "markdown",
   "metadata": {},
   "source": [
    "# Javascript example"
   ]
  },
  {
   "cell_type": "code",
   "execution_count": null,
   "metadata": {
    "vscode": {
     "languageId": "javascript"
    }
   },
   "outputs": [
    {
     "data": {
      "application/javascript": "// Function to calculate factorial\nfunction factorial(n) {\n    if (n === 0) {\n        return 1;  // Base case: 0! is 1\n    } else if (n < 0) {\n        return \"undefined\";  // Handle negative numbers\n    } else if (Math.floor(n) !== n) {\n        return \"not solvable without gamma function\";  // Handle non-integers\n    } else {\n        return n * factorial(n - 1);  // Recursive case\n    }\n}\n\n// Example usage\nlet num = 4;  // Number to calculate factorial for\nconsole.log(\"Factorial of \" + num + \" is \" + factorial(num));  // Output the result\n",
      "text/plain": [
       "<IPython.core.display.Javascript object>"
      ]
     },
     "metadata": {},
     "output_type": "display_data"
    }
   ],
   "source": [
    "%%javascript\n",
    "// Function to calculate factorial\n",
    "function factorial(n) {\n",
    "    if (n === 0) {\n",
    "        return 1;  // Base case: 0! is 1\n",
    "    } else if (n < 0) {\n",
    "        return \"undefined\";  // Handle negative numbers\n",
    "    } else if (Math.floor(n) !== n) {\n",
    "        return \"not solvable without gamma function\";  // Handle non-integers\n",
    "    } else {\n",
    "        return n * factorial(n - 1);  // Recursive case\n",
    "    }\n",
    "}\n",
    "\n",
    "// Example usage\n",
    "let num = 4;  // Number to calculate factorial for\n",
    "console.log(\"Factorial of \" + num + \" is \" + factorial(num));  // Output the result"
   ]
  },
  {
   "cell_type": "markdown",
   "metadata": {},
   "source": [
    "# Notes\n",
    "- **Base Case**: The function checks if `n` is 0 and returns 1, stopping further recursion.\n",
    "- **Recursive Case**: For any other positive integer, it returns `n` multiplied by the factorial of `n-1`, continuing the process."
   ]
  },
  {
   "cell_type": "markdown",
   "metadata": {},
   "source": [
    "## What is Happening\n",
    "\n",
    "- **Factorial Function**: The function checks if `n` is zero (base case), then returns 1. For any other positive integer, it multiplies `n` by the factorial of `n-1`, recursively.\n",
    "\n",
    "- **Stopping Condition**: The recursion stops when `n` reaches 0.\n",
    "\n",
    "- **Negative Input Handling**: In this example, negative numbers return `\"undefined\"`, and floats return a message indicating they are not supported without a gamma function.\n"
   ]
  },
  {
   "cell_type": "markdown",
   "metadata": {},
   "source": [
    "# Overview of Nested For Loops\n",
    "A **nested for loop** occurs when a for loop is placed inside another for loop. This structure allows us to perform repeated actions within multiple layers, making it useful when working with multi-dimensional data, such as matrices or grids.\n",
    "\n",
    "- The **outer loop** controls the number of iterations for the overall process.\n",
    "- The **inner loop** runs completely for each iteration of the outer loop, meaning it executes once for each value of the outer loop.\n"
   ]
  },
  {
   "cell_type": "markdown",
   "metadata": {},
   "source": [
    "### Python Example:"
   ]
  },
  {
   "cell_type": "code",
   "execution_count": null,
   "metadata": {},
   "outputs": [
    {
     "name": "stdout",
     "output_type": "stream",
     "text": [
      "Armaghan is always coding\n",
      "Elliot is always coding\n",
      "Armaghan and Elliot loves to Code Code Code!\n",
      "Nikhil is always coding\n",
      "Hithin is always coding\n",
      "Nikhil and Hithin loves to Code Code Code!\n"
     ]
    }
   ],
   "source": [
    "# List of groups\n",
    "groups = [['Armaghan', 'Elliot'], ['Nikhil', 'Hithin']]\n",
    "\n",
    "# Nested loop to go through each person in each group\n",
    "for pair in groups:\n",
    "    for person in pair:\n",
    "        print(person + ' is always coding')\n",
    "    # Final message after each group\n",
    "    print(pair[0] + ' and ' + pair[1] + ' loves to Code Code Code!')"
   ]
  },
  {
   "cell_type": "markdown",
   "metadata": {},
   "source": [
    "# Notes:\n",
    "- This hack shows how nested loops can be used to loop through multiple levels of data.\n",
    "- The outer loop goes through the groups, while the inner loop goes through the people in each group."
   ]
  },
  {
   "cell_type": "markdown",
   "metadata": {},
   "source": [
    "\n",
    "## Homework Hack for Recursion\n",
    "\n",
    "### Instructions:\n",
    "1. Create a function to calculate the factorial of a number.\n",
    "2. Inside the function, use recursion (calling the function within itself) to continue the calculation.\n",
    "3. Display the result of the factorial calculation along with a custom message.\n",
    "4. Ensure to handle base cases and edge cases like negative or non-integer inputs.\n",
    "5. Find the factorial of any number ranging from 9-13 and make sure the output message makes sense.\n"
   ]
  },
  {
   "cell_type": "markdown",
   "metadata": {},
   "source": [
    "### Python Example:"
   ]
  },
  {
   "cell_type": "markdown",
   "metadata": {},
   "source": [
    "<details>\n",
    "<summary>See Example Answer</summary>\n",
    "<pre><code>\n",
    "# Recursive function to calculate factorial\n",
    "def factorial(n):\n",
    "    if n == 0:  # Base case: stop recursion at 0\n",
    "        return 1\n",
    "    elif n < 0:  # Edge case: Handle negative numbers\n",
    "        return \"undefined\"\n",
    "    elif isinstance(n, float):  # Edge case: Handle non-integers\n",
    "        return \"not solvable without gamma function\"\n",
    "    else:\n",
    "        return n * factorial(n - 1)  # Recursive case\n",
    "# Example use case with recursion\n",
    "result = factorial(9)\n",
    "print(f\"The factorial of 9 is {result}!\")\n",
    "</code></pre>\n",
    "</details>"
   ]
  },
  {
   "cell_type": "markdown",
   "metadata": {},
   "source": [
    "# Popcorn Hack"
   ]
  },
  {
   "cell_type": "code",
   "execution_count": null,
   "metadata": {},
   "outputs": [
    {
     "name": "stdout",
     "output_type": "stream",
     "text": [
      "Numbers divisible by 3:\n",
      "3\n",
      "6\n",
      "9\n",
      "12\n",
      "15\n",
      "18\n"
     ]
    }
   ],
   "source": [
    "# Create an empty list\n",
    "nums = []\n",
    "\n",
    "# Get user input for how many numbers they want to add\n",
    "num_of_inputs = int(input(\"How many numbers do you want to add to the list? \"))\n",
    "\n",
    "# Use a loop to get inputs and append them to the list\n",
    "for _ in range(num_of_inputs):\n",
    "    number = int(input(\"Enter a number: \"))\n",
    "    nums.append(number)\n",
    "\n",
    "# Use a for loop to iterate through the list and check divisibility by 3\n",
    "print(\"Numbers divisible by 3:\")\n",
    "for num in nums:\n",
    "    if num % 3 == 0:  # Nested if statement to check divisibility by 3\n",
    "        print(num)"
   ]
  },
  {
   "cell_type": "markdown",
   "metadata": {},
   "source": [
    "# PopCorn hack: Find numbers divisible by 2."
   ]
  },
  {
   "cell_type": "markdown",
   "metadata": {},
   "source": [
    "<style>\n",
    "  /* Global styling for the notebook with forest green background */\n",
    "  body {\n",
    "      font-family: 'Arial', sans-serif;\n",
    "      background-color: #2e8b57; /* Forest green background */\n",
    "      color: #ecf0f1; /* Light text */\n",
    "  }\n",
    "\n",
    "  /* Styling headers with lighter text and borders */\n",
    "  h1, h2, h3, h4, h5 {\n",
    "      color: #ecf0f1; /* Light text for headings */\n",
    "      border-bottom: 2px solid #66cdaa; /* Lighter green for borders */\n",
    "      padding-bottom: 5px;\n",
    "      margin-bottom: 15px;\n",
    "  }\n",
    "\n",
    "  /* Custom style for inline code */\n",
    "  code {\n",
    "      background-color: #3b6b4b; /* Darker forest green for inline code */\n",
    "      color: #e74c3c; /* Red code color */\n",
    "      padding: 2px 5px;\n",
    "      border-radius: 4px;\n",
    "  }\n",
    "\n",
    "  /* Custom style for preformatted code blocks */\n",
    "  pre {\n",
    "      background-color: #2b4d3a; /* Dark forest green for code blocks */\n",
    "      color: #f1f1f1; /* Light text */\n",
    "      padding: 10px;\n",
    "      border-radius: 5px;\n",
    "      border: 1px solid #66cdaa; /* Lighter green border */\n",
    "      overflow-x: auto;\n",
    "  }\n",
    "\n",
    "  /* Code block syntax highlighting */\n",
    "  .hljs-keyword, .hljs-selector-tag, .hljs-subst {\n",
    "      color: #f92672; /* Keywords in red */\n",
    "  }\n",
    "\n",
    "  .hljs-string, .hljs-attr, .hljs-symbol, .hljs-bullet, .hljs-addition {\n",
    "      color: #a6e22e; /* Strings in green */\n",
    "  }\n",
    "\n",
    "  .hljs-title, .hljs-section, .hljs-attribute {\n",
    "      color: #e6db74; /* Function titles in yellow */\n",
    "  }\n",
    "\n",
    "  .hljs-variable, .hljs-template-variable {\n",
    "      color: #fd971f; /* Variables in orange */\n",
    "  }\n",
    "\n",
    "  .hljs-comment, .hljs-quote, .hljs-deletion {\n",
    "      color: #75715e; /* Comments in gray */\n",
    "  }\n",
    "\n",
    "  .hljs-number, .hljs-regexp, .hljs-literal, .hljs-type, .hljs-built_in, .hljs-builtin-name {\n",
    "      color: #ae81ff; /* Numbers in purple */\n",
    "  }\n",
    "\n",
    "  .hljs-meta {\n",
    "      color: #66d9ef; /* Meta in light blue */\n",
    "  }\n",
    "\n",
    "  .hljs-emphasis {\n",
    "      font-style: italic;\n",
    "  }\n",
    "\n",
    "  .hljs-strong {\n",
    "      font-weight: bold;\n",
    "  }\n",
    "\n",
    "  /* Highlight blockquotes in forest green */\n",
    "  blockquote {\n",
    "      border-left: 4px solid #66cdaa; /* Lighter green border */\n",
    "      padding-left: 10px;\n",
    "      color: #ecf0f1; /* Light text */\n",
    "      font-style: italic;\n",
    "      background-color: #2f4f4f; /* Darker green background */\n",
    "      padding: 10px;\n",
    "      border-radius: 4px;\n",
    "  }\n",
    "\n",
    "  /* Styling for emphasized text */\n",
    "  em {\n",
    "      color: #f39c12; /* Orange for emphasized text */\n",
    "      font-style: italic;\n",
    "  }\n",
    "\n",
    "  /* Style for bold text */\n",
    "  strong {\n",
    "      color: #ecf0f1;\n",
    "      font-weight: bold;\n",
    "  }\n",
    "\n",
    "  /* Menu styling */\n",
    "  .menu {\n",
    "      background-color: #228b22; /* Strong forest green */\n",
    "      color: white;\n",
    "      padding: 10px;\n",
    "      border-radius: 5px;\n",
    "      text-align: center;\n",
    "  }\n",
    "\n",
    "  .menu a {\n",
    "      color: #f1c40f; /* Yellow links in menu */\n",
    "      text-decoration: none;\n",
    "      padding: 0 10px;\n",
    "  }\n",
    "\n",
    "  .menu a:hover {\n",
    "      color: #f39c12; /* Orange on hover */\n",
    "  }\n",
    "\n",
    "  /* Adjust the styling for markdown lists */\n",
    "  ul {\n",
    "      list-style-type: square;\n",
    "      color: #ecf0f1;\n",
    "  }\n",
    "\n",
    "  /* Styling tables with dark theme */\n",
    "  table {\n",
    "      border-collapse: collapse;\n",
    "      width: 100%;\n",
    "      background-color: #34495e;\n",
    "  }\n",
    "  \n",
    "  table, th, td {\n",
    "      border: 1px solid #7f8c8d;\n",
    "      padding: 8px;\n",
    "      color: #ecf0f1;\n",
    "  }\n",
    "\n",
    "  th {\n",
    "      background-color: #228b22; /* Forest green for table headers */\n",
    "      color: white;\n",
    "  }\n",
    "\n",
    "  /* Custom styling for links with better visibility */\n",
    "  a {\n",
    "      color: #1abc9c;\n",
    "      text-decoration: none;\n",
    "  }\n",
    "\n",
    "  a:hover {\n",
    "      text-decoration: underline;\n",
    "      color: #16a085;\n",
    "  }\n",
    "</style>"
   ]
  }
 ],
 "metadata": {
  "kernelspec": {
   "display_name": "venv",
   "language": "python",
   "name": "python3"
  },
  "language_info": {
   "codemirror_mode": {
    "name": "ipython",
    "version": 3
   },
   "file_extension": ".py",
   "mimetype": "text/x-python",
   "name": "python",
   "nbconvert_exporter": "python",
   "pygments_lexer": "ipython3",
   "version": "3.12.7"
  }
 },
 "nbformat": 4,
 "nbformat_minor": 2
}
