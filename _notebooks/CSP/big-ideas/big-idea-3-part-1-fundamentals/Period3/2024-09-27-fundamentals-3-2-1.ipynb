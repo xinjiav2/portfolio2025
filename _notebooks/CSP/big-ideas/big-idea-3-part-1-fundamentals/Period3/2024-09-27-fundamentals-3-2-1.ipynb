{
 "cells": [
  {
   "cell_type": "raw",
   "metadata": {
    "vscode": {
     "languageId": "raw"
    }
   },
   "source": [
    "---\n",
    "toc: false\n",
    "comments: true\n",
    "layout: post\n",
    "title: 3.2.1 Data Types Part 1\n",
    "description: Student led teaching on data types and when to use them.\n",
    "permalink: /csp/big-idea/p3/3-2-1\n",
    "categories: [CSP Big Ideas]\n",
    "author:  Michelle Kuruvilla\n",
    "menu: nav/csp_units/csp_unit3_p3_fundamentals.html\n",
    "---"
   ]
  },
  {
   "cell_type": "markdown",
   "metadata": {},
   "source": [
    "<style>\n",
    "  /* Global styling for the notebook with dark background */\n",
    "  body {\n",
    "      font-family: 'Arial', sans-serif;\n",
    "      background-color: #2c3e50;\n",
    "      color: #ecf0f1;\n",
    "  }\n",
    "\n",
    "  /* Styling headers with lighter text and borders */\n",
    "  h1, h2, h3, h4, h5 {\n",
    "      color: #ecf0f1;\n",
    "      border-bottom: 2px solid #2ecc71; /* Emerald green */\n",
    "      padding-bottom: 5px;\n",
    "      margin-bottom: 15px;\n",
    "  }\n",
    "\n",
    "  /* Custom style for inline code */\n",
    "  code {\n",
    "      background-color: #34495e;\n",
    "      color: #27ae60; /* Darker green */\n",
    "      padding: 2px 5px;\n",
    "      border-radius: 4px;\n",
    "  }\n",
    "\n",
    "  /* Custom style for preformatted code blocks */\n",
    "  pre {\n",
    "      background-color: #2b2b2b;\n",
    "      color: #f1f1f1;\n",
    "      padding: 10px;\n",
    "      border-radius: 5px;\n",
    "      border: 1px solid #2ecc71; /* Updated border color to emerald green */\n",
    "      overflow-x: auto;\n",
    "  }\n",
    "\n",
    "  /* Code block syntax highlighting */\n",
    "  .hljs-keyword, .hljs-selector-tag, .hljs-subst {\n",
    "      color: #2ecc71; /* Keywords now green */\n",
    "  }\n",
    "\n",
    "  .hljs-string, .hljs-attr, .hljs-symbol, .hljs-bullet, .hljs-addition {\n",
    "      color: #a6e22e; /* Strings */\n",
    "  }\n",
    "\n",
    "  .hljs-title, .hljs-section, .hljs-attribute {\n",
    "      color: #e6db74; /* Function titles and sections */\n",
    "  }\n",
    "\n",
    "  .hljs-variable, .hljs-template-variable {\n",
    "      color: #fd971f; /* Variables */\n",
    "  }\n",
    "\n",
    "  .hljs-comment, .hljs-quote, .hljs-deletion {\n",
    "      color: #75715e; /* Comments */\n",
    "  }\n",
    "\n",
    "  .hljs-number, .hljs-regexp, .hljs-literal, .hljs-type, .hljs-built_in, .hljs-builtin-name {\n",
    "      color: #ae81ff; /* Numbers and built-ins */\n",
    "  }\n",
    "\n",
    "  .hljs-meta {\n",
    "      color: #66d9ef; /* Meta information */\n",
    "  }\n",
    "\n",
    "  .hljs-emphasis {\n",
    "      font-style: italic;\n",
    "  }\n",
    "\n",
    "  .hljs-strong {\n",
    "      font-weight: bold;\n",
    "  }\n",
    "\n",
    "  /* Highlight blockquotes in green */\n",
    "  blockquote {\n",
    "      border-left: 4px solid #27ae60; /* Dark green */\n",
    "      padding-left: 10px;\n",
    "      color: #ecf0f1;\n",
    "      font-style: italic;\n",
    "      background-color: #2d2d2d;\n",
    "      padding: 10px;\n",
    "      border-radius: 4px;\n",
    "  }\n",
    "\n",
    "  /* Styling for emphasized text */\n",
    "  em {\n",
    "      color: #27ae60; /* Green color for emphasized text */\n",
    "      font-style: italic;\n",
    "  }\n",
    "\n",
    "  /* Style for bold text */\n",
    "  strong {\n",
    "      color: #ecf0f1;\n",
    "      font-weight: bold;\n",
    "  }\n",
    "\n",
    "  /* Menu styling */\n",
    "  .menu {\n",
    "      background-color: #2ecc71; /* Emerald green */\n",
    "      color: white;\n",
    "      padding: 10px;\n",
    "      border-radius: 5px;\n",
    "      text-align: center;\n",
    "  }\n",
    "\n",
    "  .menu a {\n",
    "      color: #f1c40f; /* Yellow links in menu */\n",
    "      text-decoration: none;\n",
    "      padding: 0 10px;\n",
    "  }\n",
    "\n",
    "  .menu a:hover {\n",
    "      color: #27ae60; /* Green on hover */\n",
    "  }\n",
    "\n",
    "  /* Adjust the styling for markdown lists */\n",
    "  ul {\n",
    "      list-style-type: square;\n",
    "      color: #ecf0f1;\n",
    "  }\n",
    "\n",
    "  /* Styling tables with dark theme */\n",
    "  table {\n",
    "      border-collapse: collapse;\n",
    "      width: 100%;\n",
    "      background-color: #345e40;\n",
    "  }\n",
    "  \n",
    "  table, th, td {\n",
    "      border: 1px solid #7f8c8d;\n",
    "      padding: 8px;\n",
    "      color: #ecf0f1;\n",
    "  }\n",
    "\n",
    "  th {\n",
    "      background-color: #2ecc71; /* Green for table headers */\n",
    "      color: white;\n",
    "  }\n",
    "\n",
    "  /* Custom styling for links with better visibility */\n",
    "  a {\n",
    "      color: #2ecc71; /* Green links */\n",
    "      text-decoration: none;\n",
    "  }\n",
    "\n",
    "  a:hover {\n",
    "      text-decoration: underline;\n",
    "      color: #27ae60; /* Dark green on hover */\n",
    "  }\n",
    "</style>\n"
   ]
  },
  {
   "cell_type": "markdown",
   "metadata": {},
   "source": [
    "<h1>Integers</h1>\n",
    "\n",
    "Integers are a important data type in computer science. They can be used to represent whole numbers, both positive and negative, including zero. In many programming languages, integers are used for counting, indexing, and various arithmetic operations.\n"
   ]
  },
  {
   "cell_type": "code",
   "execution_count": 1,
   "metadata": {},
   "outputs": [
    {
     "name": "stdout",
     "output_type": "stream",
     "text": [
      "Sum: 8\n",
      "Product: 15\n",
      "Modulo: 2\n"
     ]
    }
   ],
   "source": [
    "# Example of integer operations in Python\n",
    "a = 5\n",
    "b = 3\n",
    "\n",
    "\n",
    "# Performing arithmetic operations\n",
    "sum_result = a + b       # 8\n",
    "product_result = a * b   # 15\n",
    "mod_result = a % b       # 2\n",
    "\n",
    "\n",
    "# Output the results\n",
    "print(\"Sum:\", sum_result)\n",
    "print(\"Product:\", product_result)\n",
    "print(\"Modulo:\", mod_result)\n",
    "\n",
    "\n"
   ]
  },
  {
   "cell_type": "code",
   "execution_count": null,
   "metadata": {
    "vscode": {
     "languageId": "javascript"
    }
   },
   "outputs": [],
   "source": [
    "// Integers in JavaScript\n",
    "\n",
    "\n",
    "// In JavaScript, integers are part of the broader \"Number\" type.\n",
    "// All numbers, whether integers or floating-point, are represented as a \"Number\".\n",
    "\n",
    "// Properties of Integers:\n",
    "console.log(\"Properties of Integers in JavaScript:\");\n",
    "console.log(\"1. Whole numbers without any decimal point.\");\n",
    "console.log(\"2. Represented as the Number type.\");\n",
    "console.log(\"3. Safe integers range from -(2^53 - 1) to (2^53 - 1).\");\n",
    "\n",
    "\n",
    "// Common Operations on Integers:\n",
    "let a = 5;\n",
    "let b = 3;\n",
    "\n",
    "\n",
    "// Performing arithmetic operations\n",
    "let sum = a + b;           // Addition\n",
    "let product = a * b;       // Multiplication\n",
    "let division = a / b;      // Division\n",
    "let mod = a % b;           // Modulo\n",
    "\n",
    "\n",
    "// Outputting the results\n",
    "console.log(`Sum: ${sum}`);           // 8\n",
    "console.log(`Product: ${product}`);    // 15\n",
    "console.log(`Division: ${division}`);  // 1.6666666666666667\n",
    "console.log(`Modulo: ${mod}`);         // 2\n",
    "\n",
    "\n",
    "// Incrementing and decrementing\n",
    "a++;                              // a becomes 6\n",
    "b--;                              // b becomes 2\n",
    "console.log(`Incremented a: ${a}`); // 6\n",
    "console.log(`Decremented b: ${b}`); // 2\n",
    "\n",
    "\n",
    "// Using BigInt for very large integers\n",
    "let largeNumber = 123456789012345678901234567890n; // n suffix denotes BigInt\n",
    "let anotherBigInt = BigInt(98765432109876543210);\n",
    "let bigSum = largeNumber + anotherBigInt; // BigInt addition\n",
    "\n"
   ]
  },
  {
   "cell_type": "markdown",
   "metadata": {},
   "source": [
    "<h1>Floating-Point Numbers</h1>\n",
    "\n",
    "Floating-point numbers represent real numbers that have a decimal point. They are used to approximate real numbers when dealing with fractional or very large values in programming."
   ]
  },
  {
   "cell_type": "code",
   "execution_count": 3,
   "metadata": {},
   "outputs": [
    {
     "name": "stdout",
     "output_type": "stream",
     "text": [
      "Sum: 9.15\n",
      "Product: 19.55\n",
      "Division: 1.6911764705882353\n",
      "Precision Issue (0.1 + 0.2): 0.30000000000000004\n"
     ]
    }
   ],
   "source": [
    "# Example of floating-point operations in Python\n",
    "x = 5.75\n",
    "y = 3.4\n",
    "\n",
    "\n",
    "# Performing arithmetic operations\n",
    "sum_result = x + y            # 9.15\n",
    "product_result = x * y        # 19.55\n",
    "division_result = x / y       # 1.6911764705882353\n",
    "\n",
    "\n",
    "# Output the results\n",
    "print(\"Sum:\", sum_result)\n",
    "print(\"Product:\", product_result)\n",
    "print(\"Division:\", division_result)\n",
    "\n",
    "\n",
    "# Floating-point precision issue\n",
    "a = 0.1\n",
    "b = 0.2\n",
    "precision_issue = a + b        # 0.30000000000000004\n",
    "\n",
    "\n",
    "# Output the precision issue result\n",
    "print(\"Precision Issue (0.1 + 0.2):\", precision_issue)\n"
   ]
  },
  {
   "cell_type": "code",
   "execution_count": null,
   "metadata": {
    "vscode": {
     "languageId": "javascript"
    }
   },
   "outputs": [],
   "source": [
    "%%javascript\n",
    "// Lesson on Floating-Point Numbers in JavaScript\n",
    "\n",
    "// Precision Issues\n",
    "let a = 0.1;\n",
    "let b = 0.2;\n",
    "let sum = a + b;\n",
    "console.log(`Expected: 0.3, Actual: ${sum}`); // Outputs: 0.30000000000000004\n",
    "\n",
    "\n",
    "// Understanding Rounding Errors\n",
    "let roundedSum = (0.1 + 0.2).toFixed(2);\n",
    "// rounds sum to 2 decimal places\n",
    "\n",
    "// Range of Floating-Point Numbers\n",
    "let maxFloat = Number.MAX_VALUE; // Maximum floating-point value\n",
    "console.log(`Maximum Float Value: ${maxFloat}`);\n",
    "let overflow = maxFloat * 2; // Attempting to exceed the limit\n",
    "console.log(`Overflow Example: ${overflow}`); // Outputs: Infinity\n"
   ]
  },
  {
   "cell_type": "markdown",
   "metadata": {},
   "source": [
    "<h1>Strings</h1>\n",
    "\n",
    "A string is a sequence of characters, such as letters, numbers, symbols, and spaces. Strings are widely used in programming to represent text and are usually enclosed in quotes (`\" \"` or `' '`)."
   ]
  },
  {
   "cell_type": "code",
   "execution_count": 4,
   "metadata": {},
   "outputs": [
    {
     "name": "stdout",
     "output_type": "stream",
     "text": [
      "Hello, Alice\n"
     ]
    }
   ],
   "source": [
    "# Example of string operations in Python\n",
    "name = \"Alice\"\n",
    "greeting = \"Hello, \" + name   # Concatenation\n",
    "print(greeting)               # Output: Hello, Alice\n",
    "\n",
    "# String length\n",
    "length = len(name)            # 5\n",
    "\n",
    "# Using string methods\n",
    "uppercase_name = name.upper() # 'ALICE'\n"
   ]
  },
  {
   "cell_type": "code",
   "execution_count": null,
   "metadata": {
    "vscode": {
     "languageId": "javascript"
    }
   },
   "outputs": [],
   "source": [
    "%%javascript\n",
    "// Strings in Javascript\n",
    "// Scripts are used to automate tasks, manipulate data, and perform various operations in software applications\n",
    "\n",
    "\n",
    "// Example of a Simple Script: \n",
    "let greeting = \"Hello, World!\"; // Declare a variable with a greeting message\n",
    "console.log(greeting); // Output the greeting to the console\n",
    "\n",
    "\n",
    "// More Complex Script Example: \n",
    "console.log(\"\\n4. More Complex Script Example:\");\n",
    "// Demonstrates a more complex script involving functions.\n",
    "function calculateSum(a, b) {\n",
    "    return a + b; // Function to calculate the sum of two numbers\n",
    "}\n",
    "\n"
   ]
  },
  {
   "cell_type": "markdown",
   "metadata": {},
   "source": [
    "<h1>Lists</h1>\n",
    "\n",
    "A list is an ordered collection of elements, which can include numbers, strings, or other objects. Lists are a fundamental data structure in programming that allows for efficient data management and manipulation."
   ]
  },
  {
   "cell_type": "code",
   "execution_count": 5,
   "metadata": {},
   "outputs": [
    {
     "name": "stdout",
     "output_type": "stream",
     "text": [
      "Initial List: [10, 20, 30, 40]\n"
     ]
    }
   ],
   "source": [
    "## Examples of Lists in Python\n",
    "\n",
    "## Lists in Python are versatile and can be used to store a collection of items. Below are some common operations performed on lists.\n",
    "\n",
    "### Creating a List\n",
    "\n",
    "# Creating a list\n",
    "my_list = [10, 20, 30, 40]\n",
    "print(\"Initial List:\", my_list)  # Output: Initial List: [10, 20, 30, 40]\n"
   ]
  },
  {
   "cell_type": "code",
   "execution_count": null,
   "metadata": {
    "vscode": {
     "languageId": "javascript"
    }
   },
   "outputs": [],
   "source": [
    "%%javascript\n",
    "\n",
    "// In JavaScript, lists are typically represented using Arrays,\n",
    "// which are a special type of object for ordered collections of elements.\n",
    "\n",
    "// Creating an array\n",
    "let myArray = [10, 20, 30, 40];\n",
    "console.log(\"Initial Array:\", myArray);  // Output: Initial Array: [10, 20, 30, 40]\n",
    "\n",
    "\n",
    "// Accessing elements\n",
    "let firstElement = myArray[0];  // 10\n",
    "console.log(\"First Element:\", firstElement);  // Output: First Element: 10\n",
    "\n",
    "\n",
    "// Appending an element\n",
    "myArray.push(50);\n",
    "console.log(\"After Appending 50:\", myArray);  // Output: After Appending 50: [10, 20, 30, 40, 50]\n",
    "\n",
    "\n",
    "// Inserting an element\n",
    "myArray.splice(2, 0, 25);  // Insert 25 at index 2\n",
    "console.log(\"After Inserting 25 at index 2:\", myArray);  // Output: [10, 20, 25, 30, 40, 50]\n",
    "\n",
    "\n",
    "// Removing an element by value\n",
    "let removedElement = myArray.splice(3, 1);  // Remove 1 element at index 3\n",
    "console.log(\"Removed Element:\", removedElement);  // Output: Removed Element: 30\n",
    "console.log(\"Array After Removing Element at Index 3:\", myArray);  // Output: [10, 20, 25, 40, 50]\n",
    "\n"
   ]
  },
  {
   "cell_type": "markdown",
   "metadata": {},
   "source": [
    "<h1>Popcorn Hack: create a simple python script to add two integers</h1>"
   ]
  },
  {
   "cell_type": "code",
   "execution_count": 6,
   "metadata": {},
   "outputs": [],
   "source": [
    "\n",
    "def add_two_numbers(num1, num2):\n",
    "    \"\"\"Function to add two integers.\"\"\"\n",
    "    return num1 + num2\n",
    "\n",
    "# Get user input\n",
    "try:\n",
    "    # Prompt the user for two integers\n",
    "    first_number = int(input(\"Enter the first integer: \"))\n",
    "    second_number = int(input(\"Enter the second integer: \"))\n",
    "\n",
    "    # Call the function to add the numbers\n",
    "    result = add_two_numbers(first_number, second_number)\n",
    "\n",
    "    # Print the result\n",
    "    print(f\"The sum of {first_number} and {second_number} is: {result}\")\n",
    "\n",
    "except ValueError:\n",
    "    print(\"Please enter valid integers.\")\n"
   ]
  },
  {
   "cell_type": "markdown",
   "metadata": {},
   "source": [
    "<h1>Popcorn Hack: Simple Python script to count the length of a string</h1>\n"
   ]
  },
  {
   "cell_type": "code",
   "execution_count": null,
   "metadata": {},
   "outputs": [],
   "source": [
    "# Get user input\n",
    "user_string = input(\"Please enter a string: \")\n",
    "\n",
    "# Count the length of the string\n",
    "string_length = len(user_string)\n",
    "\n",
    "# Print the length of the string\n",
    "print(f\"The length of the entered string is: {string_length}\")\n"
   ]
  },
  {
   "cell_type": "markdown",
   "metadata": {},
   "source": [
    "<h1>Popcorn Hack: Simple JavaScript function to check for `null`(`none` in python)</h1>\n"
   ]
  },
  {
   "cell_type": "code",
   "execution_count": null,
   "metadata": {
    "vscode": {
     "languageId": "javascript"
    }
   },
   "outputs": [],
   "source": [
    "function isNull(val) {\n",
    "    return val === null ? \"No value\" : \"Value exists\";\n",
    "}\n",
    "\n",
    "// Test the function\n",
    "console.log(isNull(null));  // Output: No value\n",
    "console.log(isNull(10));    // Output: Value exists\n"
   ]
  }
 ],
 "metadata": {
  "kernelspec": {
   "display_name": "Python 3",
   "language": "python",
   "name": "python3"
  },
  "language_info": {
   "codemirror_mode": {
    "name": "ipython",
    "version": 3
   },
   "file_extension": ".py",
   "mimetype": "text/x-python",
   "name": "python",
   "nbconvert_exporter": "python",
   "pygments_lexer": "ipython3",
   "version": "3.9.7"
  }
 },
 "nbformat": 4,
 "nbformat_minor": 2
}
