{
 "cells": [
  {
   "cell_type": "raw",
   "metadata": {
    "vscode": {
     "languageId": "raw"
    }
   },
   "source": [
    "---\n",
    "toc: false\n",
    "comments: true\n",
    "layout: post\n",
    "title: \"3.8.6 Iterating over a created list using loops\"\n",
    "description: Learn how to iterate over a list. \n",
    "permalink: /csp/big-idea/p3/3-8-6\n",
    "categories: [CSP Big Ideas]\n",
    "author:  Nikhil\n",
    "menu: nav/csp_units/csp_unit3_p3_fundamentals.html\n",
    "---"
   ]
  },
  {
   "cell_type": "markdown",
   "metadata": {},
   "source": [
    "<style>\n",
    "  /* Global styling for the notebook with forest green background */\n",
    "  body {\n",
    "      font-family: 'Arial', sans-serif;\n",
    "      background-color: #2e8b57; /* Forest green background */\n",
    "      color: #ecf0f1; /* Light text */\n",
    "  }\n",
    "\n",
    "  /* Styling headers with lighter text and borders */\n",
    "  h1, h2, h3, h4, h5 {\n",
    "      color: #ecf0f1; /* Light text for headings */\n",
    "      border-bottom: 2px solid #66cdaa; /* Lighter green for borders */\n",
    "      padding-bottom: 5px;\n",
    "      margin-bottom: 15px;\n",
    "  }\n",
    "\n",
    "  /* Custom style for inline code */\n",
    "  code {\n",
    "      background-color: #3b6b4b; /* Darker forest green for inline code */\n",
    "      color: #e74c3c; /* Red code color */\n",
    "      padding: 2px 5px;\n",
    "      border-radius: 4px;\n",
    "  }\n",
    "\n",
    "  /* Custom style for preformatted code blocks */\n",
    "  pre {\n",
    "      background-color: #2b4d3a; /* Dark forest green for code blocks */\n",
    "      color: #f1f1f1; /* Light text */\n",
    "      padding: 10px;\n",
    "      border-radius: 5px;\n",
    "      border: 1px solid #66cdaa; /* Lighter green border */\n",
    "      overflow-x: auto;\n",
    "  }\n",
    "\n",
    "  /* Code block syntax highlighting */\n",
    "  .hljs-keyword, .hljs-selector-tag, .hljs-subst {\n",
    "      color: #f92672; /* Keywords in red */\n",
    "  }\n",
    "\n",
    "  .hljs-string, .hljs-attr, .hljs-symbol, .hljs-bullet, .hljs-addition {\n",
    "      color: #a6e22e; /* Strings in green */\n",
    "  }\n",
    "\n",
    "  .hljs-title, .hljs-section, .hljs-attribute {\n",
    "      color: #e6db74; /* Function titles in yellow */\n",
    "  }\n",
    "\n",
    "  .hljs-variable, .hljs-template-variable {\n",
    "      color: #fd971f; /* Variables in orange */\n",
    "  }\n",
    "\n",
    "  .hljs-comment, .hljs-quote, .hljs-deletion {\n",
    "      color: #75715e; /* Comments in gray */\n",
    "  }\n",
    "\n",
    "  .hljs-number, .hljs-regexp, .hljs-literal, .hljs-type, .hljs-built_in, .hljs-builtin-name {\n",
    "      color: #ae81ff; /* Numbers in purple */\n",
    "  }\n",
    "\n",
    "  .hljs-meta {\n",
    "      color: #66d9ef; /* Meta in light blue */\n",
    "  }\n",
    "\n",
    "  .hljs-emphasis {\n",
    "      font-style: italic;\n",
    "  }\n",
    "\n",
    "  .hljs-strong {\n",
    "      font-weight: bold;\n",
    "  }\n",
    "\n",
    "  /* Highlight blockquotes in forest green */\n",
    "  blockquote {\n",
    "      border-left: 4px solid #66cdaa; /* Lighter green border */\n",
    "      padding-left: 10px;\n",
    "      color: #ecf0f1; /* Light text */\n",
    "      font-style: italic;\n",
    "      background-color: #2f4f4f; /* Darker green background */\n",
    "      padding: 10px;\n",
    "      border-radius: 4px;\n",
    "  }\n",
    "\n",
    "  /* Styling for emphasized text */\n",
    "  em {\n",
    "      color: #f39c12; /* Orange for emphasized text */\n",
    "      font-style: italic;\n",
    "  }\n",
    "\n",
    "  /* Style for bold text */\n",
    "  strong {\n",
    "      color: #ecf0f1;\n",
    "      font-weight: bold;\n",
    "  }\n",
    "\n",
    "  /* Menu styling */\n",
    "  .menu {\n",
    "      background-color: #228b22; /* Strong forest green */\n",
    "      color: white;\n",
    "      padding: 10px;\n",
    "      border-radius: 5px;\n",
    "      text-align: center;\n",
    "  }\n",
    "\n",
    "  .menu a {\n",
    "      color: #f1c40f; /* Yellow links in menu */\n",
    "      text-decoration: none;\n",
    "      padding: 0 10px;\n",
    "  }\n",
    "\n",
    "  .menu a:hover {\n",
    "      color: #f39c12; /* Orange on hover */\n",
    "  }\n",
    "\n",
    "  /* Adjust the styling for markdown lists */\n",
    "  ul {\n",
    "      list-style-type: square;\n",
    "      color: #ecf0f1;\n",
    "  }\n",
    "\n",
    "  /* Styling tables with dark theme */\n",
    "  table {\n",
    "      border-collapse: collapse;\n",
    "      width: 100%;\n",
    "      background-color: #34495e;\n",
    "  }\n",
    "  \n",
    "  table, th, td {\n",
    "      border: 1px solid #7f8c8d;\n",
    "      padding: 8px;\n",
    "      color: #ecf0f1;\n",
    "  }\n",
    "\n",
    "  th {\n",
    "      background-color: #228b22; /* Forest green for table headers */\n",
    "      color: white;\n",
    "  }\n",
    "\n",
    "  /* Custom styling for links with better visibility */\n",
    "  a {\n",
    "      color: #1abc9c;\n",
    "      text-decoration: none;\n",
    "  }\n",
    "\n",
    "  a:hover {\n",
    "      text-decoration: underline;\n",
    "      color: #16a085;\n",
    "  }\n",
    "</style>\n"
   ]
  },
  {
   "cell_type": "markdown",
   "metadata": {},
   "source": [
    "## Basic Overview:\n",
    "- We create a list of numbers: `[1, 2, 3, 4, 5]`.\n",
    "- A `for` loop iterates over each item in the list.\n",
    "- The loop prints each item in the list."
   ]
  },
  {
   "cell_type": "markdown",
   "metadata": {},
   "source": [
    "## What's Happening:\n",
    "In this lesson, we learn how to iterate over a list using loops. A list is a collection of items, and a loop allows us to access each item one by one. In this example, we use a `for` loop to iterate over a list of numbers, and the loop prints each number from the list. The same concept can be applied to any collection, such as a list of favorite foods, which you can display using a loop."
   ]
  },
  {
   "cell_type": "code",
   "execution_count": 1,
   "metadata": {},
   "outputs": [
    {
     "name": "stdout",
     "output_type": "stream",
     "text": [
      "1\n",
      "2\n",
      "3\n",
      "4\n",
      "5\n"
     ]
    }
   ],
   "source": [
    "# Pseudocode:\n",
    "# numbers ← [1, 2, 3, 4, 5]\n",
    "# FOR EACH number IN numbers:\n",
    "#     DISPLAY number\n",
    "# END FOR\n",
    "\n",
    "# Python Code:\n",
    "numbers = [1, 2, 3, 4, 5]\n",
    "for number in numbers:\n",
    "    print(number)\n",
    "\n",
    "#Problem: Looping Through a List\n",
    "#Create a list of your three favorite foods. Write a loop to display each food item in the list.\n"
   ]
  },
  {
   "cell_type": "markdown",
   "metadata": {},
   "source": [
    "# Homework Hack:\n",
    "\n",
    "You are tasked with writing a simple Python script that uses a for loop to iterate through a list of numbers and print each number.\n",
    "\n",
    "Requirements:\n",
    "\n",
    "Write a for loop to iterate through the given list of numbers.\n",
    "Print each number as you iterate through the list.\n",
    "Input: Use the list of numbers: [1, 2, 3, 4, 5]\n",
    "\n",
    "Expected Output: You should print each number from the list."
   ]
  },
  {
   "cell_type": "code",
   "execution_count": 2,
   "metadata": {},
   "outputs": [
    {
     "name": "stdout",
     "output_type": "stream",
     "text": [
      "1\n",
      "2\n",
      "3\n",
      "4\n",
      "5\n"
     ]
    }
   ],
   "source": [
    "#Sample Answers:\n",
    "\n",
    "numbers = [1, 2, 3, 4, 5]\n",
    "for number in numbers:\n",
    "    print(number)\n"
   ]
  },
  {
   "cell_type": "markdown",
   "metadata": {},
   "source": [
    "## Additional Notes:\n",
    "- **Lists**: A list is a sequence of items stored together in a single variable. You can store numbers, strings, or even other lists inside a list.\n",
    "- **For Loop**: The `for` loop is commonly used to iterate over elements in a collection, such as a list. This loop automatically moves through the collection, one item at a time, until all items have been processed.\n",
    "- **Use Case**: Iterating over a list is helpful when you need to perform the same operation on each item, like printing, modifying, or checking conditions."
   ]
  }
 ],
 "metadata": {
  "kernelspec": {
   "display_name": "Python 3",
   "language": "python",
   "name": "python3"
  },
  "language_info": {
   "codemirror_mode": {
    "name": "ipython",
    "version": 3
   },
   "file_extension": ".py",
   "mimetype": "text/x-python",
   "name": "python",
   "nbconvert_exporter": "python",
   "pygments_lexer": "ipython3",
   "version": "3.10.12"
  }
 },
 "nbformat": 4,
 "nbformat_minor": 2
}
