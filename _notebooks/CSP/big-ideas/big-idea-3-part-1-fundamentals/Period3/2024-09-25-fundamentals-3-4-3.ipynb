{
 "cells": [
  {
   "cell_type": "raw",
   "metadata": {
    "vscode": {
     "languageId": "raw"
    }
   },
   "source": [
    "---\n",
    "toc: false\n",
    "comments: true\n",
    "layout: post\n",
    "title: 3.4.3 Javascript Strings\n",
    "description: Here you'll learn how strings are used in Javascript\n",
    "permalink: /csp/big-idea/p3/3-4-3\n",
    "categories: [CSP Big Ideas]\n",
    "author: Ahaan Vaidyanathan, Spencer Lyons, Vasanth Rajasekaran, Xavier Thompson\n",
    "menu: nav/csp_units/csp_unit3_p3_fundamentals.html\n",
    "---"
   ]
  },
  {
   "cell_type": "markdown",
   "metadata": {},
   "source": [
    "<style>\n",
    "  /* Global styling for the notebook with dark background */\n",
    "  body {\n",
    "      font-family: 'Arial', sans-serif;\n",
    "      background-color: #2c3e50;\n",
    "      color: #ecf0f1;\n",
    "  }\n",
    "\n",
    "  /* Styling headers with lighter text and borders */\n",
    "  h1, h2, h3, h4, h5 {\n",
    "      color: #ecf0f1;\n",
    "      border-bottom: 2px solid #3498db;\n",
    "      padding-bottom: 5px;\n",
    "      margin-bottom: 15px;\n",
    "  }\n",
    "\n",
    "  /* Custom style for inline code */\n",
    "  code {\n",
    "      background-color: #34495e;\n",
    "      color: #e74c3c;\n",
    "      padding: 2px 5px;\n",
    "      border-radius: 4px;\n",
    "  }\n",
    "\n",
    "  /* Custom style for preformatted code blocks */\n",
    "  pre {\n",
    "      background-color: #2b2b2b;\n",
    "      color: #f1f1f1;\n",
    "      padding: 10px;\n",
    "      border-radius: 5px;\n",
    "      border: 1px solid #3498db; /* Updated border color */\n",
    "      overflow-x: auto;\n",
    "  }\n",
    "\n",
    "  /* Code block syntax highlighting */\n",
    "  .hljs-keyword, .hljs-selector-tag, .hljs-subst {\n",
    "      color: #f92672; /* Keywords */\n",
    "  }\n",
    "\n",
    "  .hljs-string, .hljs-attr, .hljs-symbol, .hljs-bullet, .hljs-addition {\n",
    "      color: #a6e22e; /* Strings */\n",
    "  }\n",
    "\n",
    "  .hljs-title, .hljs-section, .hljs-attribute {\n",
    "      color: #e6db74; /* Function titles and sections */\n",
    "  }\n",
    "\n",
    "  .hljs-variable, .hljs-template-variable {\n",
    "      color: #fd971f; /* Variables */\n",
    "  }\n",
    "\n",
    "  .hljs-comment, .hljs-quote, .hljs-deletion {\n",
    "      color: #75715e; /* Comments */\n",
    "  }\n",
    "\n",
    "  .hljs-number, .hljs-regexp, .hljs-literal, .hljs-type, .hljs-built_in, .hljs-builtin-name {\n",
    "      color: #ae81ff; /* Numbers and built-ins */\n",
    "  }\n",
    "\n",
    "  .hljs-meta {\n",
    "      color: #66d9ef; /* Meta information */\n",
    "  }\n",
    "\n",
    "  .hljs-emphasis {\n",
    "      font-style: italic;\n",
    "  }\n",
    "\n",
    "  .hljs-strong {\n",
    "      font-weight: bold;\n",
    "  }\n",
    "\n",
    "  /* Highlight blockquotes in orange */\n",
    "  blockquote {\n",
    "      border-left: 4px solid #f39c12;\n",
    "      padding-left: 10px;\n",
    "      color: #ecf0f1;\n",
    "      font-style: italic;\n",
    "      background-color: #2d2d2d;\n",
    "      padding: 10px;\n",
    "      border-radius: 4px;\n",
    "  }\n",
    "\n",
    "  /* Styling for emphasized text */\n",
    "  em {\n",
    "      color: #f39c12; /* Orange color for emphasized text */\n",
    "      font-style: italic;\n",
    "  }\n",
    "\n",
    "  /* Style for bold text */\n",
    "  strong {\n",
    "      color: #ecf0f1;\n",
    "      font-weight: bold;\n",
    "  }\n",
    "\n",
    "  /* Menu styling */\n",
    "  .menu {\n",
    "      background-color: #2980b9;\n",
    "      color: white;\n",
    "      padding: 10px;\n",
    "      border-radius: 5px;\n",
    "      text-align: center;\n",
    "  }\n",
    "\n",
    "  .menu a {\n",
    "      color: #f1c40f; /* Yellow links in menu */\n",
    "      text-decoration: none;\n",
    "      padding: 0 10px;\n",
    "  }\n",
    "\n",
    "  .menu a:hover {\n",
    "      color: #f39c12; /* Orange on hover */\n",
    "  }\n",
    "\n",
    "  /* Adjust the styling for markdown lists */\n",
    "  ul {\n",
    "      list-style-type: square;\n",
    "      color: #ecf0f1;\n",
    "  }\n",
    "\n",
    "  /* Styling tables with dark theme */\n",
    "  table {\n",
    "      border-collapse: collapse;\n",
    "      width: 100%;\n",
    "      background-color: #34495e;\n",
    "  }\n",
    "  \n",
    "  table, th, td {\n",
    "      border: 1px solid #7f8c8d;\n",
    "      padding: 8px;\n",
    "      color: #ecf0f1;\n",
    "  }\n",
    "\n",
    "  th {\n",
    "      background-color: #2980b9;\n",
    "      color: white;\n",
    "  }\n",
    "\n",
    "  /* Custom styling for links with better visibility */\n",
    "  a {\n",
    "      color: #1abc9c;\n",
    "      text-decoration: none;\n",
    "  }\n",
    "\n",
    "  a:hover {\n",
    "      text-decoration: underline;\n",
    "      color: #16a085;\n",
    "  }\n",
    "</style>\n"
   ]
  },
  {
   "cell_type": "markdown",
   "metadata": {},
   "source": [
    "## Javascript Strings\n",
    "The concepts of Python Strings & Javascript Strings are the same, however the way these concepts are implemented across these two languages vary, and there are some important distinctions that'll be highlighted in this blog. If you haven't already, check out the first blog that goes into detail about what strings are as we won't be covering that here."
   ]
  },
  {
   "cell_type": "markdown",
   "metadata": {},
   "source": [
    "### Making Strings\n",
    "When it comes to making strings, there are three ways of going about it--- Each method requiring that you surround the text you want to make a string with these characters. These methods are listed below:\n",
    "\n",
    "Single Quotes ('')\n",
    "Double Quotes (\"\")\n",
    "Backticks     (``)\n",
    "\n",
    "Single Quotes and Double Quotes are the most conventionally used and serve the same purpose. Surrounding text as to delineate them as strings and not another data type. So most of the time, you'll be using either single or double quotes.\n",
    "\n",
    "However, the last option, strings that use backticks (known as template strings), are also very important to know and a proficient coder in Javascript will take advantage of this type of string when the opportunity arises. We'll come back to this string later, but what you should know now is that it allows you to implant javascript code that isn't inherently a string into your string, such as a variable.\n",
    "\n",
    "To confirm whether a variable is a string or not, you can put the potential string inside typeof().\n"
   ]
  },
  {
   "cell_type": "code",
   "execution_count": null,
   "metadata": {
    "vscode": {
     "languageId": "javascript"
    }
   },
   "outputs": [],
   "source": [
    "%%js\n",
    "\n",
    "// Single Quotes\n",
    "let greeting = 'Hello World.'\n",
    "\n",
    "// Double Quotes\n",
    "let age = \"15\"\n",
    "\n",
    "// Checking if string\n",
    "typeof(greeting) //Output: True\n",
    "typeof(age) //Output: True"
   ]
  },
  {
   "cell_type": "markdown",
   "metadata": {},
   "source": [
    "### Concatenation\n",
    "Concatenation is the combining or joining of different strings. It allows us to take one string and merge it with another. Refer to the example below:"
   ]
  },
  {
   "cell_type": "code",
   "execution_count": null,
   "metadata": {
    "vscode": {
     "languageId": "javascript"
    }
   },
   "outputs": [],
   "source": [
    "%%js\n",
    "\n",
    "let greeting = \"Hello \" + \"World\";\n",
    "console.log(greeting); // Output: Hello World\n",
    "\n",
    "let word = \"Book\" + \"case\";\n",
    "console.log(word) //Output: Bookcase\n",
    "\n",
    "console.log ( greeting + word ) //Output: Hello World Bookcase"
   ]
  },
  {
   "cell_type": "markdown",
   "metadata": {},
   "source": [
    "The idea behind concatenation serves to solve the problem that often we need to separate strings to store dynamic data (such as data inputted by the user) and combine them to create one coherent string."
   ]
  },
  {
   "cell_type": "code",
   "execution_count": null,
   "metadata": {
    "vscode": {
     "languageId": "javascript"
    }
   },
   "outputs": [],
   "source": [
    "%%js\n",
    "\n",
    "// Example 1\n",
    "let userName = prompt(\"Enter your name: \");\n",
    "let userAge = prompt(\"Enter your age: \");\n",
    "\n",
    "let message = \"Your name is \" + userName + \" and you are \" + userAge + \" years old.\"\n",
    "console.log(message)\n",
    "\n",
    "\n",
    "// Example 2\n",
    "let favoriteColor = prompt(\"Enter your favorite color: \");\n",
    "let favoriteAnimal = prompt(\"Enter your favorite animal: \");\n",
    "\n",
    "let message = \"Your favorite color is \" + favoriteColor + \" and your favorite animal is \" + favoriteAnimal + \".\";\n",
    "console.log(message);"
   ]
  },
  {
   "cell_type": "markdown",
   "metadata": {},
   "source": [
    "Now, while concatenation is great to know & understand, when coding in Javascript, there has never been a time where I have actually used concatenation in a real project, simply because of how messy and inefficient it is compared to **string interpolation**. \n"
   ]
  },
  {
   "cell_type": "markdown",
   "metadata": {},
   "source": [
    "### String Interpolation\n",
    "String interpolation brings us back to the sacred backticks or template string! Instead of joining different strings together, template strings allow us to have variables and other javascript expressions directly embedded into our string.\n",
    "\n",
    "The following examples are the same as the ones above, but we utilize interpolation instead of concatenation:"
   ]
  },
  {
   "cell_type": "code",
   "execution_count": null,
   "metadata": {
    "vscode": {
     "languageId": "javascript"
    }
   },
   "outputs": [],
   "source": [
    "%%js\n",
    "\n",
    "// Example 1\n",
    "let userName = prompt(\"Enter your name: \");\n",
    "let userAge = prompt(\"Enter your age: \");\n",
    "\n",
    "let message = `Your name is ${userName} and you are ${userAge} years old.`\n",
    "console.log(message);\n",
    "\n",
    "\n",
    "// Example 2\n",
    "let favoriteColor = prompt(\"Enter your favorite color: \");\n",
    "let favoriteAnimal = prompt(\"Enter your favorite animal: \");\n",
    "\n",
    "let message = `Your favorite color is ${favoriteColor} and your favorite animal is ${favoriteAnimal}.`\n",
    "console.log(message);"
   ]
  },
  {
   "cell_type": "markdown",
   "metadata": {},
   "source": [
    "As you can see for yourself, interpolation is much cleaner & efficient than concatenation. The only things you need to do in order to interpolate a string is to:\n",
    "1. Use backticks\n",
    "2. Surround the variable or javascript expression in **${variable_here}**"
   ]
  },
  {
   "cell_type": "markdown",
   "metadata": {},
   "source": [
    "### Popcorn Hack #1\n",
    "> - Define three variables: name, age, city\n",
    "> - Combine these variables into the following message: Hello, my name is [*name*]. I am [*age*] years old and I live in [*city*].\n",
    "> - Do this exercise using both concatenation and interpolation"
   ]
  },
  {
   "cell_type": "markdown",
   "metadata": {},
   "source": [
    "<details>\n",
    "<summary>See Example Answer</summary>\n",
    "<pre><code>\n",
    "let name = Xavier\n",
    "let age = 15\n",
    "let city = San Diego\n",
    "\n",
    " //Concatenation\n",
    "let concatenatedMessage = \"Hello my name is \" + name + \". I am \" + age + \" years old and I live in \" + city + \".\"\n",
    "\n",
    "//Interpolation\n",
    "let Interpolatedmessage = \"Hello my name is ${name}. I am ${age} years old and I live in ${city}.\n",
    "    \n",
    "</code></pre>\n",
    "</details>"
   ]
  },
  {
   "cell_type": "markdown",
   "metadata": {},
   "source": [
    "### Indexing a Character\n",
    "\n",
    "Indexing a character is just a more technically correct way of saying how to access a character within a string. Each character in a string is assigned a number that we can use to access it individually."
   ]
  },
  {
   "cell_type": "code",
   "execution_count": null,
   "metadata": {
    "vscode": {
     "languageId": "javascript"
    }
   },
   "outputs": [],
   "source": [
    "%%js\n",
    "\n",
    "let state = \"California\"\n",
    "\n",
    "console.log(state[0]) //Output: C\n",
    "console.log(state.at(0)) //Output: C\n",
    "\n",
    "console.log(state[-1]) //Output: undefined\n",
    "console.log(state.at(-1)) //Output: a"
   ]
  },
  {
   "cell_type": "markdown",
   "metadata": {},
   "source": [
    "If you recall from the Python Strings Lesson, the first character starts at 0 and we can only count backwards with negative numbers. For JavaScript, there are two ways to access a character:\n",
    "\n",
    "1. brackets: **[#]**\n",
    "2. at method: **.at(#)**\n",
    "\n",
    "I personally recommend using .at() as brackets can't do negative numbers (outputs undefined) unless you take a few extra steps, making it unreasonably more complex.\n",
    "\n",
    "However, unlike Python, we cannot index multiple characters through the methods listed above. It's not as simple unfortunately as [0:7]. This leads us into our next section on how to index multiple characters through **substrings**"
   ]
  },
  {
   "cell_type": "markdown",
   "metadata": {},
   "source": [
    "### Substrings\n",
    "There are 3 ways to retrieve a substring in JavaScript: ```substring```, ```substr```, & ```slice```\n",
    "\n",
    "For this blog post, we'll be exclusively covering ```slice``` which is arguably the most flexible of the three options. Feel free to look into the others, but keep in mind slice can do anything the other methods can and more.\n",
    "\n",
    "Substrings is a part of a string that we have taken using the **slice** function. It allows us to take more than one character as indexing allows.\n",
    "\n",
    "The slice() method extracts characters from a string between two specified indices and returns a new string. It takes two parameters:\n",
    "- The starting index (inclusive)\n",
    "- The ending index (exclusive)\n"
   ]
  },
  {
   "cell_type": "code",
   "execution_count": null,
   "metadata": {
    "vscode": {
     "languageId": "javascript"
    }
   },
   "outputs": [],
   "source": [
    "%%js\n",
    "\n",
    "let message = \"Hello, World!\";\n",
    "let country = \"Eritrea\";\n",
    "let continent = \"Africa\";\n",
    "\n",
    "console.log( message.slice(0, 5) ); //Output: Hello\n",
    "console.log( message.slice(-6,-1) ); //Output: World\n",
    "\n",
    "//Output everything starting at the \"r\"\n",
    "console.log( country.slice(1) ); //Output: ritrea\n",
    "\n",
    "//Output everything starting at \"t\"\n",
    "console.log ( country.slice(-4) ); //Output: trea\n",
    "\n",
    "//Index starting at f and ending at c (using both positive and negative indices)\n",
    "console.log ( country.slice(1, -1) ) //Output: fric"
   ]
  },
  {
   "cell_type": "markdown",
   "metadata": {},
   "source": [
    "When given a lot of data that is in the form of text (which it often is), utilizing this ability to extract certain portions of text from strings via slicing will serve to be vital."
   ]
  },
  {
   "cell_type": "markdown",
   "metadata": {},
   "source": [
    "### Popcorn Hack #2\n",
    "> You are given a string \"The quick brown fox jumps over the lazy dog\". Your task is to write code that uses the slice() method to:\n",
    "> - Extract the word \"quick\"\n",
    "> - Extract the word \"lazy\" using a negative starting index\n",
    "> - Extract everything from the word \"fox\" to the end of the sentence\n",
    "> - Output these extractions at the end of the code"
   ]
  },
  {
   "cell_type": "markdown",
   "metadata": {},
   "source": [
    "<details>\n",
    "<summary>See Example Answer</summary>\n",
    "<pre><code>\n",
    "//Define string\n",
    "let str = \"The quick brown fox jumps over the lazy dog\"\n",
    "\n",
    "//Extraction\n",
    "let wordOne = str.slice(4,9);\n",
    "let wordTwo = str.slice(-8,-4);\n",
    "let sentence = str.slice(16);\n",
    "\n",
    "//Output\n",
    "console.log(wordOne)\n",
    "console.log(wordTwo)\n",
    "console.log(sentence)\n",
    "    \n",
    "</code></pre>\n",
    "</details>"
   ]
  },
  {
   "cell_type": "markdown",
   "metadata": {},
   "source": [
    "### Escape Characters\n",
    "The \\ is often known as the escape character as inputting it into a string allows you to temporarily escape the string and add something to the string that isn't just text (or text that can't be added conventionally).\n",
    "\n",
    "Here are some of the most common uses:"
   ]
  },
  {
   "cell_type": "code",
   "execution_count": null,
   "metadata": {
    "vscode": {
     "languageId": "javascript"
    }
   },
   "outputs": [],
   "source": [
    "%%js\n",
    "let greeting = \"Hello World\"\n",
    "\n",
    "// Create a new line\n",
    "console.log(\"Hello\\nWorld\") //Output: Hello\n",
    "                            //        World\n",
    "\n",
    "// Create a horizontal tab\n",
    "console.log(\"Hello\\tWorld\") //Output: Hello   World\n",
    "\n",
    "// Create a slash\n",
    "console.log(\"Hello\\\\World\") //Output: Hello\\World\n",
    "\n",
    "//Add a unicode character\n",
    "console.log(\"\\u2665\") //Output: ♥"
   ]
  },
  {
   "cell_type": "markdown",
   "metadata": {},
   "source": [
    "As you can see in the example above, one ought only add a \\ then an n afterwards to create a new line.\n",
    "\n",
    "\n",
    "Other uses of the escape character include adding an actual slash into the string by doing ```\\\\``` or adding a tab by doing ```\\t```. There are plenty more examples of what escape characters can do & I encourage you look into them."
   ]
  },
  {
   "cell_type": "markdown",
   "metadata": {},
   "source": [
    "### String Methods\n",
    "You've already seen an example of a string method (The ```slice``` function), and what methods fundamentally are, are functions that can change or manipulate a string in a variety of ways.\n",
    "\n",
    "I've listed some examples below, but there are countless more that can be utilized."
   ]
  },
  {
   "cell_type": "code",
   "execution_count": null,
   "metadata": {
    "vscode": {
     "languageId": "javascript"
    }
   },
   "outputs": [],
   "source": [
    "%%js\n",
    "\n",
    "let state = \"TeXas\";\n",
    "\n",
    "// Capitalize string\n",
    "let capitalize = state.toUpperCase(); //Output: TEXAS\n",
    "\n",
    "// Lowercase string\n",
    "let lowercase = state.toLowerCase(); //Output: texas\n",
    "\n",
    "\n",
    "// Remove added spaces\n",
    "let stateCapital = \"    Austin    \";\n",
    "let trim = stateCapital.trim() //Output: Austin\n",
    "\n",
    "\n",
    "// Repeat ha three times\n",
    "console.log(\"ha\".repeat(3));  //Output: hahaha"
   ]
  },
  {
   "cell_type": "markdown",
   "metadata": {},
   "source": [
    "### Popcorn Hack #3\n",
    ">Examine the following string: \"Spain, Song Dynasty, Aztecs, Byzantine Empire\"\n",
    "\n",
    ">Using a string method(s), make a program that replaces Spain with \"Al-Andalus\" and \"Aztecs\" with \"The Triple Alliance\" and then outputs the updated string at the end."
   ]
  },
  {
   "cell_type": "markdown",
   "metadata": {},
   "source": [
    "<details>\n",
    "<summary>See Example Answer</summary>\n",
    "<pre><code>\n",
    "let civilizations = \"Spain, Song Dynasty, Aztecs, Byzantine Empire\"\n",
    "\n",
    "let updatedCivilizations = civilizations.replace(\"Spain\", \"Al-Andalus\").replace(\"Aztecs\", \"The Triple Alliance\")\n",
    "\n",
    "console.log(updatedCivilizations)\n",
    "    \n",
    "</code></pre>\n",
    "</details>"
   ]
  },
  {
   "cell_type": "markdown",
   "metadata": {},
   "source": [
    "### Conclusion / Things to Research Further\n",
    "From making strings all the way to using functions to manipulate them, this lesson has covered all that you'll need to know when starting out with JavaScript strings. However, these are only the basics, and there is yet so much more that one can learn when it comes to strings. From comparing strings, converting strings to other data types, usage of regex, listless numbers of other string methods that are used, and much much more.\n",
    "\n",
    "That, I recommend you look into yourself. It's really quite interesting and will enhance your proficiency of not only JavaScript but programming languages in general."
   ]
  },
  {
   "cell_type": "markdown",
   "metadata": {},
   "source": [
    "### Further Study on Strings\n",
    "\n",
    "To learn more about handling strings in JavaScript, check out the following resource:\n",
    "\n",
    "Click the button below to directly access the tutorial:\n",
    "\n",
    "[![JavaScript Strings](https://img.shields.io/badge/Explore%20JavaScript%20Strings-green)](https://www.w3schools.com/js/js_strings.asp)\n"
   ]
  }
 ],
 "metadata": {
  "kernelspec": {
   "display_name": "Python 3 (ipykernel)",
   "language": "python",
   "name": "python3"
  },
  "language_info": {
   "codemirror_mode": {
    "name": "ipython",
    "version": 3
   },
   "file_extension": ".py",
   "mimetype": "text/x-python",
   "name": "python",
   "nbconvert_exporter": "python",
   "pygments_lexer": "ipython3",
   "version": "3.12.1"
  }
 },
 "nbformat": 4,
 "nbformat_minor": 2
}
