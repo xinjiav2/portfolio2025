{
 "cells": [
  {
   "cell_type": "raw",
   "metadata": {
    "vscode": {
     "languageId": "raw"
    }
   },
   "source": [
    "---\n",
    "comments: true\n",
    "layout: post\n",
    "title:  CSP Period 4 Unit 3.6.1 Conditionals in JavaScript\n",
    "description: In this lesson, students will learn how to use conditional statements in JavaScript to control what happens in their programs based on specific conditions. They will explore how to use if, else, and else if statements to check if certain conditions are true or false and execute different parts of the code accordingly. They will also learn to combine conditions using logical operators like && (and), || (or), and ! (not). By the end of the lesson, students will be able to write simple interactive programs that make decisions based on user input or data.\n",
    "permalink: /csp/big-idea/p4/3-6-2\n",
    "type: ccc\n",
    "author: Risha Guha, Vibha Mandayam, Ava Shalon\n",
    "menu: nav/csp_units/csp_unit3_p4_fundamentals.html\n",
    "---"
   ]
  },
  {
   "cell_type": "markdown",
   "metadata": {},
   "source": [
    "Conditionals in JavaScript allow you to execute different code blocks based on certain conditions. They are essential for controlling the flow of your program. Here are the main types of conditional statements in JavaScript:"
   ]
  },
  {
   "cell_type": "markdown",
   "metadata": {},
   "source": [
    "<h2><span style=\"font-family: Ariel; color:#94c4ff\">1. If Statement</span></h2>\n",
    "\n",
    "The `if` statement executes a block of code if the specified condition is true.\n",
    "\n"
   ]
  },
  {
   "cell_type": "code",
   "execution_count": null,
   "metadata": {
    "vscode": {
     "languageId": "javascript"
    }
   },
   "outputs": [],
   "source": [
    "let score = 85;\n",
    "\n",
    "if (score >= 60) {\n",
    "    console.log(\"You passed!\");\n",
    "}\n"
   ]
  },
  {
   "cell_type": "markdown",
   "metadata": {},
   "source": [
    "<h2><span style=\"font-family: Ariel; color:#94c4ff\">Popcorn Hack #1</span></h2>\n",
    "\n",
    "How would you change the code to show a message for scores below 60? What would you add?"
   ]
  },
  {
   "cell_type": "markdown",
   "metadata": {},
   "source": [
    "<h2><span style=\"font-family: Ariel; color:#94c4ff\">2. If ... Else Statement</span></h2>\n",
    "\n",
    "\n",
    "The `if...else` statement allows you to execute one block of code if the condition is true, and another block if it is false.\n"
   ]
  },
  {
   "cell_type": "code",
   "execution_count": null,
   "metadata": {
    "vscode": {
     "languageId": "javascript"
    }
   },
   "outputs": [],
   "source": [
    "let score = 50;\n",
    "\n",
    "if (score >= 60) {\n",
    "    console.log(\"You passed!\");\n",
    "} else {\n",
    "    console.log(\"You failed!\");\n",
    "}\n"
   ]
  },
  {
   "cell_type": "markdown",
   "metadata": {},
   "source": [
    "<h2><span style=\"font-family: Ariel; color:#94c4ff\">Popcorn Hack #2</span></h2>\n",
    "\n",
    "\n",
    "What if you wanted to add a message for scores of exactly 50? How would you modify the code?"
   ]
  },
  {
   "cell_type": "markdown",
   "metadata": {},
   "source": [
    "<h2><span style=\"font-family: Ariel; color:#94c4ff\">3. If...Else If...Else Statement</span></h2>\n",
    "\n",
    "\n",
    "The `if...else if...else` statement allows you to check multiple conditions.\n"
   ]
  },
  {
   "cell_type": "code",
   "execution_count": null,
   "metadata": {
    "vscode": {
     "languageId": "javascript"
    }
   },
   "outputs": [],
   "source": [
    "let score = 75;\n",
    "\n",
    "if (score >= 90) {\n",
    "    console.log(\"Grade: A\");\n",
    "} else if (score >= 80) {\n",
    "    console.log(\"Grade: B\");\n",
    "} else if (score >= 70) {\n",
    "    console.log(\"Grade: C\");\n",
    "} else {\n",
    "    console.log(\"Grade: F\");\n",
    "}\n"
   ]
  },
  {
   "cell_type": "markdown",
   "metadata": {
    "vscode": {
     "languageId": "javascript"
    }
   },
   "source": [
    "<h2><span style=\"font-family: Ariel; color:#94c4ff\">Popcorn Hack #3 </span></h2>\n",
    "How would you modify the code to include a message for scores between 60 and 69? What would you add?\""
   ]
  },
  {
   "cell_type": "markdown",
   "metadata": {},
   "source": [
    "<h2><span style=\"font-family: Ariel; color:#94c4ff\">4. Switch Statement</span></h2>\n",
    "\n",
    "The `switch` statement is a cleaner way to handle multiple conditions based on the same variable. It evaluates an expression and matches it against several cases.\n"
   ]
  },
  {
   "cell_type": "code",
   "execution_count": null,
   "metadata": {
    "vscode": {
     "languageId": "javascript"
    }
   },
   "outputs": [],
   "source": [
    "let day = 3;\n",
    "let dayName;\n",
    "\n",
    "switch (day) {\n",
    "    case 1:\n",
    "        dayName = \"Monday\";\n",
    "        break;\n",
    "    case 2:\n",
    "        dayName = \"Tuesday\";\n",
    "        break;\n",
    "    case 3:\n",
    "        dayName = \"Wednesday\";\n",
    "        break;\n",
    "    default:\n",
    "        dayName = \"Invalid day\";\n",
    "}\n",
    "\n",
    "console.log(dayName); // Output: Wednesday\n"
   ]
  },
  {
   "cell_type": "markdown",
   "metadata": {},
   "source": [
    "<h2><span style=\"font-family: Ariel; color:#94c4ff\">5. Ternary Operator</span></h2>\n",
    "\n",
    "The `ternary operator` is a shorthand for the `if...else` statement. It's often used for simple conditions.\n"
   ]
  },
  {
   "cell_type": "code",
   "execution_count": null,
   "metadata": {
    "vscode": {
     "languageId": "javascript"
    }
   },
   "outputs": [],
   "source": [
    "let age = 18;\n",
    "let message = (age >= 18) ? \"You can vote.\" : \"You cannot vote.\";\n",
    "console.log(message); // Output: You can vote.\n"
   ]
  },
  {
   "cell_type": "markdown",
   "metadata": {},
   "source": [
    "<h2><span style=\"font-family: Ariel; color:#94c4ff\">Key Points to Remember</span></h2>\n",
    "\n",
    "- Conditions are usually expressions that evaluate to true or false.\n",
    "- You can use comparison operators (like `==`, `===`, `!=`, `!==`, `<`, `>`, `<=`, `>=`) and logical operators (like `&&`, `||`, `!`) to build complex conditions.\n",
    "- Always use `===` (strict equality) instead of `==` (loose equality) to avoid unexpected type coercion.\n",
    "- Conditionals are powerful tools that help you control how your code executes, enabling you to create dynamic and responsive applications.\n"
   ]
  },
  {
   "cell_type": "markdown",
   "metadata": {},
   "source": [
    "## Quiz Time!"
   ]
  },
  {
   "cell_type": "code",
   "execution_count": 6,
   "metadata": {
    "vscode": {
     "languageId": "javascript"
    }
   },
   "outputs": [
    {
     "data": {
      "application/javascript": "// Function to ask a question and get a response\nfunction questionWithResponse(prompt) {\n    return prompt(prompt);\n}\n\n// Define the number of questions and initialize the correct answers counter\nconst questions = 5;\nlet correct = 0;\n\n// Personalized greeting message\nconst userName = questionWithResponse(\"Enter your name: \");\nconsole.log('Hello, ' + userName + '!');\n\nconst ready = questionWithResponse(\"Are you ready to take a quiz on JavaScript conditionals? (yes/no): \");\n\nif (ready.toLowerCase() !== 'yes') {\n    console.log(\"Alright! Come back when you're ready.\");\n} else {\n    // Question 1: Boolean Values\n    const response1 = questionWithResponse(\"What are the two possible Boolean values in JavaScript? (separate with a comma): \");\n    if (response1.toLowerCase() === 'true,false' || response1.toLowerCase() === 'false,true') {\n        correct++;\n        console.log(\"Correct!\");\n    } else {\n        console.log(\"Incorrect. The correct answers are 'true' and 'false'.\");\n    }\n\n    // Question 2: Conditional Statements\n    const response2 = questionWithResponse(\"What keyword is used to create a conditional statement in JavaScript? \");\n    if (response2.toLowerCase() === 'if') {\n        correct++;\n        console.log(\"Correct!\");\n    } else {\n        console.log(\"Incorrect. The correct answer is 'if'.\");\n    }\n\n    // Question 3: Ternary Operator\n    const response3 = questionWithResponse(\"What is the ternary operator used for in JavaScript? \");\n    if (response3.toLowerCase().includes('conditional') || response3.toLowerCase().includes('if')) {\n        correct++;\n        console.log(\"Correct!\");\n    } else {\n        console.log(\"Incorrect. The ternary operator is used for conditional expressions.\");\n    }\n\n    // Question 4: Switch Statement\n    const response4 = questionWithResponse(\"What type of statement is used to select one of many blocks of code to be executed? \");\n    if (response4.toLowerCase() === 'switch') {\n        correct++;\n        console.log(\"Correct!\");\n    } else {\n        console.log(\"Incorrect. The correct answer is 'switch'.\");\n    }\n\n    // Question 5: Logical Operators\n    const response5 = questionWithResponse(\"Name one logical operator used in JavaScript. \");\n    if (['and', 'or', 'not', '&&', '||', '!'].includes(response5.toLowerCase())) {\n        correct++;\n        console.log(\"Correct!\");\n    } else {\n        console.log(\"Incorrect. Common logical operators include '&&', '||', and '!'.\");\n    }\n\n    // Final score\n    console.log(userName + \", you scored \" + correct + \"/\" + questions);\n}\n",
      "text/plain": [
       "<IPython.core.display.Javascript object>"
      ]
     },
     "metadata": {},
     "output_type": "display_data"
    }
   ],
   "source": [
    "%%javascript\n",
    "function questionWithResponse(prompt) {\n",
    "    return prompt(prompt);\n",
    "}\n",
    "\n",
    "const questions = 5;\n",
    "let correct = 0;\n",
    "\n",
    "const userName = questionWithResponse(\"Enter your name: \");\n",
    "console.log('Hello, ' + userName + '!');\n",
    "\n",
    "const ready = questionWithResponse(\"Are you ready to take a quiz on JavaScript conditionals? (yes/no): \");\n",
    "\n",
    "if (ready.toLowerCase() !== 'yes') {\n",
    "    console.log(\"Alright! Come back when you're ready.\");\n",
    "} else {\n",
    "    // Question 1: Boolean Values\n",
    "    const response1 = questionWithResponse(\"What are the two possible Boolean values in JavaScript? (separate with a comma): \");\n",
    "    if (response1.toLowerCase() === 'true,false' || response1.toLowerCase() === 'false,true') {\n",
    "        correct++;\n",
    "        console.log(\"Correct!\");\n",
    "    } else {\n",
    "        console.log(\"Incorrect. The correct answers are 'true' and 'false'.\");\n",
    "    }\n",
    "\n",
    "    // Question 2: Conditional Statements\n",
    "    const response2 = questionWithResponse(\"What keyword is used to create a conditional statement in JavaScript? \");\n",
    "    if (response2.toLowerCase() === 'if') {\n",
    "        correct++;\n",
    "        console.log(\"Correct!\");\n",
    "    } else {\n",
    "        console.log(\"Incorrect. The correct answer is 'if'.\");\n",
    "    }\n",
    "\n",
    "    // Question 3: Ternary Operator\n",
    "    const response3 = questionWithResponse(\"What is the ternary operator used for in JavaScript? \");\n",
    "    if (response3.toLowerCase().includes('conditional') || response3.toLowerCase().includes('if')) {\n",
    "        correct++;\n",
    "        console.log(\"Correct!\");\n",
    "    } else {\n",
    "        console.log(\"Incorrect. The ternary operator is used for conditional expressions.\");\n",
    "    }\n",
    "\n",
    "    // Question 4: Switch Statement\n",
    "    const response4 = questionWithResponse(\"What type of statement is used to select one of many blocks of code to be executed? \");\n",
    "    if (response4.toLowerCase() === 'switch') {\n",
    "        correct++;\n",
    "        console.log(\"Correct!\");\n",
    "    } else {\n",
    "        console.log(\"Incorrect. The correct answer is 'switch'.\");\n",
    "    }\n",
    "\n",
    "    // Question 5: Logical Operators\n",
    "    const response5 = questionWithResponse(\"Name one logical operator used in JavaScript. \");\n",
    "    if (['and', 'or', 'not', '&&', '||', '!'].includes(response5.toLowerCase())) {\n",
    "        correct++;\n",
    "        console.log(\"Correct!\");\n",
    "    } else {\n",
    "        console.log(\"Incorrect. Common logical operators include '&&', '||', and '!'.\");\n",
    "    }\n",
    "\n",
    "    // Final score\n",
    "    console.log(userName + \", you scored \" + correct + \"/\" + questions);\n",
    "}\n"
   ]
  }
 ],
 "metadata": {
  "kernelspec": {
   "display_name": "venv",
   "language": "python",
   "name": "python3"
  },
  "language_info": {
   "codemirror_mode": {
    "name": "ipython",
    "version": 3
   },
   "file_extension": ".py",
   "mimetype": "text/x-python",
   "name": "python",
   "nbconvert_exporter": "python",
   "pygments_lexer": "ipython3",
   "version": "3.12.3"
  }
 },
 "nbformat": 4,
 "nbformat_minor": 2
}
