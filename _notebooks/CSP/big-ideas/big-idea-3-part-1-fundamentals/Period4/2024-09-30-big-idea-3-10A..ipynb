{
 "cells": [
  {
   "cell_type": "markdown",
   "metadata": {},
   "source": [
    "---\n",
    "layout: post\n",
    "title: 3.10 Lists\n",
    "categories: [Collaboration]\n",
    "permalink: /csp/big-idea/p4/3-1\n",
    "courses: { csp: {week: 5} }\n",
    "type: collab\n",
    "comments: true\n",
    "permalink: /csp/big-idea/p4/3-10A\n",
    "author: Rowan, Hannah, Gaheera, Rhea\n",
    "menu: nav/csp_units/csp_unit3_p4_fundamentals.html\n",
    "---"
   ]
  },
  {
   "cell_type": "markdown",
   "metadata": {},
   "source": [
    "## What are Lists?\n",
    "\n",
    "- In coding, a list is a data structure used to store an ordered collection of items. Lists are one of the most commonly used data types in many programming languages because they allow for the organization of elements, such as numbers, strings, or other objects, in a single variable.\n",
    "\n"
   ]
  },
  {
   "cell_type": "markdown",
   "metadata": {},
   "source": [
    "## Creating A List\n",
    "\n",
    "- To create a list called \"aList,\" you would write aList = []. This defines an empty list with no elements. If you want to create a list that already contains items, it would look like this: aList = [item1, item2, item3], where each item represents a different element in the list."
   ]
  }
 ],
 "metadata": {
  "language_info": {
   "name": "python"
  }
 },
 "nbformat": 4,
 "nbformat_minor": 2
}
