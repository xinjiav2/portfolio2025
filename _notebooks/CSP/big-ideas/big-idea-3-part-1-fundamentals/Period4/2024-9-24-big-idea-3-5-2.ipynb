{
 "cells": [
  {
   "cell_type": "raw",
   "metadata": {
    "vscode": {
     "languageId": "raw"
    }
   },
   "source": [
    "---\n",
    "toc: false\n",
    "comments: true\n",
    "layout: post\n",
    "title: 3.5 Javascript Booleans\n",
    "description: Student led teaching on Javascript Booleans.\n",
    "permalink: /csp/big-idea/p4/3-5-2\n",
    "author: Anvay, Pranav, Kiruthic, Rayhaan, Yuva\n",
    "menu: nav/csp_units/csp_unit3_p4_fundamentals.html\n",
    "---"
   ]
  },
  {
   "cell_type": "markdown",
   "metadata": {
    "vscode": {
     "languageId": "javascript"
    }
   },
   "source": [
    "# Lesson: JavaScript Relational Operators\n",
    "-------------------------------------------\n",
    "## Introduction\n",
    "Relational operators in JavaScript are used to compare two values, returning a Boolean value (`true` or `false`) based on the relationship. Relational operators are extremley similar to math functions such as less than or equal too. \n",
    "\n",
    "## Common Relational Operators\n",
    "- `==`: Equal to, checks if two values are the same (e.g., verifying a password match).\n",
    "- `!=`: Not equal to, checks if two values are different (e.g., ensuring input changes).\n",
    "- `===`: Strict equal to, checks equality and type (e.g., validating exact user ID).\n",
    "- `!==`: Strict not equal to, checks inequality and type (e.g., ensuring different type or value).\n",
    "- `>`: Greater than, left value is larger than the right (e.g., comparing scores or ages).\n",
    "- `<`: Less than, left value is smaller than the right (e.g., setting age limits).\n",
    "- `>=`: Greater than or equal to, left value is larger or equal (e.g., minimum age validation).\n",
    "- `<=`: Less than or equal to, left value is smaller or equal (e.g., ensuring max quantity in cart).\n",
    "-------------------------------------------\n",
    "## Example: Using Relational Operators in JavaScript\n",
    "Let's consider an example where we compare a person's age with a minimum age requirement.\n",
    "\n",
    "```javascript\n",
    "// Example demonstrating relational operators in JavaScript\n",
    "\n",
    "let age = 20;\n",
    "let minimumAge = 18;\n",
    "\n",
    "// Equal to (==)\n",
    "console.log(age == minimumAge); // false\n",
    "\n",
    "// Not equal to (!=)\n",
    "console.log(age != minimumAge); // true\n",
    "\n",
    "// Strict equal to (===)\n",
    "console.log(age === minimumAge); // false\n",
    "\n",
    "// Strict not equal to (!==)\n",
    "console.log(age !== minimumAge); // true\n",
    "\n",
    "// Greater than (>)\n",
    "console.log(age > minimumAge); // true\n",
    "\n",
    "// Less than (<)\n",
    "console.log(age < minimumAge); // false\n",
    "\n",
    "// Greater than or equal to (>=)\n",
    "console.log(age >= minimumAge); // true\n",
    "\n",
    "// Less than or equal to (<=)\n",
    "console.log(age <= minimumAge); // false\n",
    "\n",
    "## Example: Using Relational Operators in JavaScript\n",
    "Let's consider an example where we compare a person's age with a minimum age requirement.\n"
   ]
  },
  {
   "cell_type": "code",
   "execution_count": null,
   "metadata": {
    "vscode": {
     "languageId": "javascript"
    }
   },
   "outputs": [],
   "source": [
    "// Example demonstrating relational operators in JavaScript\n",
    "\n",
    "let age = 20;\n",
    "let minimumAge = 18;\n",
    "\n",
    "// Equal to (==)\n",
    "console.log(age == minimumAge); // false\n",
    "\n",
    "// Not equal to (!=)\n",
    "console.log(age != minimumAge); // true\n",
    "\n",
    "// Strict equal to (===)\n",
    "console.log(age === minimumAge); // false\n",
    "\n",
    "// Strict not equal to (!==)\n",
    "console.log(age !== minimumAge); // true\n",
    "\n",
    "// Greater than (>)\n",
    "console.log(age > minimumAge); // true\n",
    "\n",
    "// Less than (<)\n",
    "console.log(age < minimumAge); // false\n",
    "\n",
    "// Greater than or equal to (>=)\n",
    "console.log(age >= minimumAge); // true\n",
    "\n",
    "// Less than or equal to (<=)\n",
    "console.log(age <= minimumAge); // false"
   ]
  },
  {
   "cell_type": "raw",
   "metadata": {
    "vscode": {
     "languageId": "raw"
    }
   },
   "source": [
    "<html lang=\"en\">\n",
    "<head>\n",
    "    <meta charset=\"UTF-8\">\n",
    "    <meta name=\"viewport\" content=\"width=device-width, initial-scale=1.0\">\n",
    "    <title>Relational Operators Example</title>\n",
    "</head>\n",
    "<body>\n",
    "    <h1>Relational Operators Example</h1>\n",
    "    <button onclick=\"runExample()\">Run Example</button>\n",
    "    <pre id=\"output\"></pre>\n",
    "\n",
    "    <script>\n",
    "        function runExample() {\n",
    "            let age = 20;\n",
    "            let minimumAge = 18;\n",
    "            let output = '';\n",
    "\n",
    "            // Equal to (==)\n",
    "            output += `age == minimumAge: ${age == minimumAge}\\n`; // false\n",
    "\n",
    "            // Not equal to (!=)\n",
    "            output += `age != minimumAge: ${age != minimumAge}\\n`; // true\n",
    "\n",
    "            // Strict equal to (===)\n",
    "            output += `age === minimumAge: ${age === minimumAge}\\n`; // false\n",
    "\n",
    "            // Strict not equal to (!==)\n",
    "            output += `age !== minimumAge: ${age !== minimumAge}\\n`; // true\n",
    "\n",
    "            // Greater than (>)\n",
    "            output += `age > minimumAge: ${age > minimumAge}\\n`; // true\n",
    "\n",
    "            // Less than (<)\n",
    "            output += `age < minimumAge: ${age < minimumAge}\\n`; // false\n",
    "\n",
    "            // Greater than or equal to (>=)\n",
    "            output += `age >= minimumAge: ${age >= minimumAge}\\n`; // true\n",
    "\n",
    "            // Less than or equal to (<=)\n",
    "            output += `age <= minimumAge: ${age <= minimumAge}\\n`; // false\n",
    "\n",
    "            document.getElementById('output').textContent = output;\n",
    "        }\n",
    "    </script>\n",
    "</body>\n",
    "</html>"
   ]
  },
  {
   "cell_type": "markdown",
   "metadata": {},
   "source": [
    "# Logical Operators"
   ]
  },
  {
   "cell_type": "markdown",
   "metadata": {},
   "source": [
    "## NOT function\n",
    "----------------------------\n",
    "### What is it?\n",
    "\n",
    "The NOT function for booleans is a logical operator that inverts the value of a boolean expression. In simple terms:\n",
    "\n",
    "If the input is TRUE, the NOT function returns FALSE.\n",
    "If the input is FALSE, the NOT function returns TRUE.\n",
    "The NOT function operates on a single boolean value (it is a unary operator).\n",
    "\n",
    "In Boolean algebra:\n",
    "\n",
    "NOT(A)=¬A\n",
    "\n",
    "Where \n",
    " - A is a boolean value, and \n",
    " - ¬𝐴 is the negation of 𝐴\n",
    "\n",
    "For example:\n",
    "\n",
    "NOT(TRUE) = FALSE\n",
    "\n",
    "NOT(FALSE) = TRUE\n",
    "\n",
    "In programming languages, the NOT function is often represented by symbols like ! or the keyword not. For example:\n",
    "\n",
    " - In C, C++, Java, etc.: !TRUE == FALSE\n",
    " - In Python: not True == False\n",
    "\n",
    " ### Real World Example:\n",
    "\n",
    "Essentially the NOT function is an INVERSE function\n",
    " - You put your shoes on in the morning, and you take your shoes off in the night\n",
    " - Wrapping a present before Christmas, unwrapping a present after Christmas\n",
    " - Setting up decorations for Halloween, taking out decorations after Halloween\n",
    " - When you convert Celcius to Farenheit, you are multiplying and adding, but when you convert Farenhiet to Celcius, you are subtracting and adding.\n",
    "\n",
    " ### Coding Example in Javascript:"
   ]
  },
  {
   "cell_type": "code",
   "execution_count": 21,
   "metadata": {
    "vscode": {
     "languageId": "javascript"
    }
   },
   "outputs": [
    {
     "data": {
      "application/javascript": "<script>\n        // Initial state of the light (false = OFF, true = ON)\n        let lightOn = false;\n\n        // Function to toggle the light\n        function toggleLight() {\n            // Use the NOT function to invert the state of the light\n            lightOn = !lightOn;\n\n            // Get the light element\n            const lightDiv = document.getElementById('light');\n\n            // Update the light state and display based on the new state\n            if (lightOn) {\n                lightDiv.className = 'light-on';\n                lightDiv.textContent = 'The light is ON';\n            } else {\n                lightDiv.className = 'light-off';\n                lightDiv.textContent = 'The light is OFF';\n            }\n        }\n</script>\n",
      "text/plain": [
       "<IPython.core.display.Javascript object>"
      ]
     },
     "metadata": {},
     "output_type": "display_data"
    }
   ],
   "source": [
    "%%javascript\n",
    "<script>\n",
    "        // Initial state of the light (false = OFF, true = ON)\n",
    "        let lightOn = false;\n",
    "\n",
    "        // Function to toggle the light\n",
    "        function toggleLight() {\n",
    "            // Use the NOT function to invert the state of the light\n",
    "            lightOn = !lightOn;\n",
    "\n",
    "            // Get the light element\n",
    "            const lightDiv = document.getElementById('light');\n",
    "\n",
    "            // Update the light state and display based on the new state\n",
    "            if (lightOn) {\n",
    "                lightDiv.className = 'light-on';\n",
    "                lightDiv.textContent = 'The light is ON';\n",
    "            } else {\n",
    "                lightDiv.className = 'light-off';\n",
    "                lightDiv.textContent = 'The light is OFF';\n",
    "            }\n",
    "        }\n",
    "</script>"
   ]
  },
  {
   "cell_type": "markdown",
   "metadata": {},
   "source": [
    "## AND FUNCTION\n",
    "_________________________________________________________-\n",
    "### What is it?\n",
    "\n",
    "The Boolean AND function is a logical operation that outputs true if both of its operands are true; otherwise, it outputs false.\n",
    "\n",
    "Here’s the formal definition of the Boolean AND function for two operands \n",
    "\n",
    "𝐴 and 𝐵:\n",
    "\n",
    "𝐴∧𝐵 = true if and only if both 𝐴 = true and 𝐵 = true\n",
    "𝐴∧𝐵 = false if 𝐴 = false or 𝐵 = false.\n",
    "\n",
    "If both 𝐴 and 𝐵 are true, then 𝐴∧𝐵 = true\n",
    "If 𝐴 is false or 𝐵 is false, or 𝐴 and 𝐵 is false, then 𝐴∧𝐵 = false\n",
    "\n",
    "### Real World Example:\n",
    " - You have to scan your keycard and enter a pin to access a safe\n",
    " - When you want to throw away your trash, you need to open the trash can and throw away your trash\n",
    " - To use your phone, you must turn it on and put your passcode in\n",
    "\n",
    "### Coding Example in Javascript:"
   ]
  },
  {
   "cell_type": "code",
   "execution_count": 24,
   "metadata": {
    "vscode": {
     "languageId": "javascript"
    }
   },
   "outputs": [
    {
     "data": {
      "application/javascript": "function isEligibleToVote(age) {\n    // The function returns a boolean value based on the condition\n    return age >= 18;\n}\n\n// Example usage\nlet age1 = 20;\nlet age2 = 15;\n\nresult = console.log(isEligibleToVote(age1));  \nresult = console.log(isEligibleToVote(age2));  \n\nprint(result)\n",
      "text/plain": [
       "<IPython.core.display.Javascript object>"
      ]
     },
     "metadata": {},
     "output_type": "display_data"
    }
   ],
   "source": [
    "%%javascript\n",
    "function isEligibleToVote(age) {\n",
    "    return age >= 18;\n",
    "}\n",
    "\n",
    "// Example usage\n",
    "let age1 = 20;\n",
    "let age2 = 15;\n",
    "\n",
    "result = console.log(isEligibleToVote(age1));  \n",
    "result = console.log(isEligibleToVote(age2));  \n",
    "\n",
    "print(result)"
   ]
  },
  {
   "cell_type": "markdown",
   "metadata": {},
   "source": [
    "## OR\n",
    "---------------------------\n",
    "### What is it?\n",
    "The Boolean OR function is a logical operation that evaluates two or more Boolean values (true or false) and returns:\n",
    "\n",
    "True if at least one of the input values is true.\n",
    "False if all input values are false.\n",
    "\n",
    "The Boolean OR function is inclusive since it returns true if one of or both inputs are true.\n",
    "So  as long as one condition is met, the outcome is positive (True).\n",
    "\n",
    "### Real World Example:\n",
    "Conditions:\n",
    " - It is sunny outside\n",
    " - It is hot outside\n",
    "\n",
    "If one of these conditions are met, I will go outside to swim.\n",
    "\n",
    "If both of these conditions are not met, I will not go outside to swim.\n",
    "\n",
    "### Coding Example in Javascript:"
   ]
  },
  {
   "cell_type": "code",
   "execution_count": 20,
   "metadata": {
    "vscode": {
     "languageId": "javascript"
    }
   },
   "outputs": [
    {
     "data": {
      "application/javascript": "\nlet isSunny = true;\nlet isWeekend = false;\n\nif (isSunny || isWeekend) {\n  console.log(\"Let's go outside!\");\n} else {\n  console.log(\"Maybe stay inside.\");\n}\n",
      "text/plain": [
       "<IPython.core.display.Javascript object>"
      ]
     },
     "metadata": {},
     "output_type": "display_data"
    }
   ],
   "source": [
    "%%javascript\n",
    "\n",
    "let isSunny = true;\n",
    "let isWeekend = false;\n",
    "\n",
    "if (isSunny || isWeekend) {\n",
    "  console.log(\"Let's go outside!\");\n",
    "} else {\n",
    "  console.log(\"Maybe stay inside.\");\n",
    "}"
   ]
  },
  {
   "cell_type": "markdown",
   "metadata": {
    "vscode": {
     "languageId": "raw"
    }
   },
   "source": [
    "## Summary: JavaScript Relational Operators\n",
    "\n",
    "Relational operators in JavaScript are used to compare two values, returning a Boolean (true or false). Common operators include:\n",
    "\n",
    "- `==`: Equal to (checks value equality).\n",
    "- `!=`: Not equal to (checks value inequality).\n",
    "- `===`: Strictly equal (checks value and type).\n",
    "- `!==`: Strictly not equal (checks inequality in value and type).\n",
    "- `>` and `<`: Greater than / Less than.\n",
    "- `>=` and `<=`: Greater than or equal to / Less than or equal to.\n",
    "\n",
    "These are useful in everyday scenarios, like comparing ages or verifying passwords."
   ]
  }
 ],
 "metadata": {
  "kernelspec": {
   "display_name": ".venv",
   "language": "python",
   "name": "python3"
  },
  "language_info": {
   "codemirror_mode": {
    "name": "ipython",
    "version": 3
   },
   "file_extension": ".py",
   "mimetype": "text/x-python",
   "name": "python",
   "nbconvert_exporter": "python",
   "pygments_lexer": "ipython3",
   "version": "3.12.4"
  }
 },
 "nbformat": 4,
 "nbformat_minor": 2
}
