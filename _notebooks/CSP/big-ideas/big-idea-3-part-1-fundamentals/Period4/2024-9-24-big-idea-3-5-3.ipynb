{
 "cells": [
  {
   "cell_type": "raw",
   "metadata": {
    "vscode": {
     "languageId": "raw"
    }
   },
   "source": [
    "---\n",
    "toc: false\n",
    "comments: true\n",
    "layout: post\n",
    "title: 3.5 Python Boolean Hacks\n",
    "description: Student practice on Python Booleans.\n",
    "permalink: /csp/big-idea/p4/3-5-3\n",
    "author: Anvay, Pranav, Kiruthic, Rayhaan, Yuva\n",
    "menu: nav/csp_units/csp_unit3_p4_fundamentals.html\n",
    "---"
   ]
  },
  {
   "cell_type": "markdown",
   "metadata": {
    "vscode": {
     "languageId": "raw"
    }
   },
   "source": [
    "# De Morgan’s Law in Python\n",
    "\n",
    "## Introduction to De Morgan’s Law\n",
    "- Rule for handling logical expressions.\n",
    "- Allows you to simplify conditions.\n",
    "\n",
    "## The Two Key Parts of De Morgan’s Law\n",
    "- **Negating AND:**\n",
    "  - `not (A and B)` becomes `not A or not B`\n",
    "- **Negating OR:**\n",
    "  - `not (A or B)` becomes `not A and not B`"
   ]
  },
  {
   "cell_type": "markdown",
   "metadata": {
    "vscode": {
     "languageId": "javascript"
    }
   },
   "source": [
    "## Applications in Code\n",
    "- Simplifies conditional logic.\n",
    "- Example:"
   ]
  },
  {
   "cell_type": "code",
   "execution_count": null,
   "metadata": {},
   "outputs": [],
   "source": [
    "is_raining = True\n",
    "is_cold = False\n",
    "\n",
    "if not (is_raining and is_cold):\n",
    "    print(\"It's either not raining or not cold.\")\n",
    "\n",
    "if not is_raining or not is_cold:\n",
    "    print(\"It's either not raining or not cold.\")"
   ]
  },
  {
   "cell_type": "markdown",
   "metadata": {},
   "source": [
    "<button class=\"toggle-button9\" onclick=\"toggleOutput9()\">Show Output</button>\n",
    "<div class=\"output-container9\" id=\"outputContainer9\" style=\"display: none;\">\n",
    "    <pre>It's either not raining or not cold.\n",
    "It's either not raining or not cold.</pre>\n",
    "</div>\n",
    "\n",
    "<style>\n",
    "    .toggle-button9 {\n",
    "        padding: 10px 20px;\n",
    "        background-color: #007bff;\n",
    "        color: white;\n",
    "        border: none;\n",
    "        cursor: pointer;\n",
    "        margin-top: 10px;\n",
    "    }\n",
    "    .toggle-button9:hover {\n",
    "        background-color: #0056b3;\n",
    "    }\n",
    "    .output-container9 {\n",
    "        background-color: #252734;\n",
    "        color: white;\n",
    "        padding: 10px;\n",
    "        margin-top: 10px;\n",
    "        font-family: monospace;\n",
    "        white-space: pre-wrap;\n",
    "        border-radius: 5px;\n",
    "    }\n",
    "</style>\n",
    "\n",
    "<script>\n",
    "    function toggleOutput9() {\n",
    "        var outputContainer9 = document.getElementById(\"outputContainer9\");\n",
    "        if (outputContainer9.style.display === \"none\") {\n",
    "            outputContainer9.style.display = \"block\";\n",
    "            document.querySelector(\".toggle-button9\").textContent = \"Hide Output\";\n",
    "        } else {\n",
    "            outputContainer9.style.display = \"none\";\n",
    "            document.querySelector(\".toggle-button9\").textContent = \"Show Output\";\n",
    "        }\n",
    "    }\n",
    "</script>"
   ]
  },
  {
   "cell_type": "markdown",
   "metadata": {
    "vscode": {
     "languageId": "raw"
    }
   },
   "source": [
    "<html lang=\"en\">\n",
    "<head>\n",
    "    <meta charset=\"UTF-8\">\n",
    "    <meta name=\"viewport\" content=\"width=device-width, initial-scale=1.0\">\n",
    "    <title>De Morgan's Law Example in Python</title>\n",
    "</head>\n",
    "<body>\n",
    "    <h1>De Morgan's Law Example in Python</h1>\n",
    "    <button onclick=\"runExample(true, false)\">Example 1 (Raining, Not Cold)</button>\n",
    "    <button onclick=\"runExample(false, true)\">Example 2 (Not Raining, Cold)</button>\n",
    "    <button onclick=\"runExample(true, true)\">Example 3 (Raining and Cold)</button>\n",
    "    <pre id=\"output\"></pre>\n",
    "\n",
    "    <script type=\"text/javascript\">\n",
    "        function runExample(isRaining, isCold) {\n",
    "            let output = '';\n",
    "\n",
    "            // Original condition\n",
    "            if (!(isRaining && isCold)) {\n",
    "                output += \"Original: It's either not raining or not cold.\\n\";\n",
    "            } else {\n",
    "                output += \"Original: It is both raining and cold.\\n\";\n",
    "            }\n",
    "\n",
    "            // Simplified using De Morgan's Law\n",
    "            if (!isRaining || !isCold) {\n",
    "                output += \"Simplified: It's either not raining or not cold.\\n\";\n",
    "            } else {\n",
    "                output += \"Simplified: It is both raining and cold.\\n\";\n",
    "            }\n",
    "\n",
    "            document.getElementById('output').textContent = output;\n",
    "        }\n",
    "    </script>\n",
    "</body>\n",
    "</html>"
   ]
  },
  {
   "cell_type": "markdown",
   "metadata": {},
   "source": [
    "# Python Function Explanation\n",
    "\n",
    "- **What the function does**:\n",
    "  - Creates a function called `run_example` with two inputs: `is_raining` and `is_cold`.\n",
    "  - Starts with an empty message called `output`.\n",
    "\n",
    "- **First Check**:\n",
    "  - It checks if both raining and cold are **not** happening at the same time.\n",
    "  - If that's true, it adds \"Original: It's either not raining or not cold.\" to `output`.\n",
    "\n",
    "- **Second Check**:\n",
    "  - It checks if **either** it's not raining or it's not cold.\n",
    "  - If that's true, it adds \"Simplified: It's either not raining or not cold.\" to `output`.\n",
    "\n",
    "- **Final Step**:\n",
    "  - It returns whatever is in the `output`."
   ]
  },
  {
   "cell_type": "raw",
   "metadata": {
    "vscode": {
     "languageId": "raw"
    }
   },
   "source": [
    "## DeMorgran's Law Game\n",
    "- The game asks the player to solve logic puzzles using **De Morgan's Laws**.\n",
    "- It has 3 levels, each with a different puzzle.\n",
    "- The player inputs either \"True\" or \"False\" as their answer.\n",
    "- Random truth values (`True` or `False`) are generated for `A`, `B`, `X`, `Y`, and `Z`.\n",
    "- **Level 1**: Solve `not (A and B)` using the law: `not A or not B`.\n",
    "- **Level 2**: Solve `not (A or B)` using the law: `not A and not B`.\n",
    "- **Level 3**: Solve `not (X and Y or Z)` using the law: `(not X or not Y) and not Z`.\n",
    "- The game checks if the player's answer matches the correct answer.\n",
    "- If the player answers correctly, they move to the next level. If wrong, the game ends.\n",
    "- The game continues until the player passes all levels or gets an answer wrong.\n"
   ]
  },
  {
   "cell_type": "code",
   "execution_count": null,
   "metadata": {},
   "outputs": [],
   "source": [
    "import random\n",
    "import ipywidgets as widgets\n",
    "from IPython.display import display, clear_output\n",
    "\n",
    "def random_truth_value():\n",
    "    return random.choice([True, False])\n",
    "\n",
    "def check_answer(correct_answer, player_answer):\n",
    "    return correct_answer == player_answer\n",
    "\n",
    "def play_level(expression, correct_answer):\n",
    "    print(expression)\n",
    "    player_answer = input(\"Your answer (True/False): \").strip()\n",
    "    \n",
    "    if player_answer not in [\"True\", \"False\"]:\n",
    "        print(\"Invalid input! Please enter True or False.\")\n",
    "        return False\n",
    "    \n",
    "    player_answer = player_answer == \"True\"\n",
    "    \n",
    "    if check_answer(correct_answer, player_answer):\n",
    "        print(\"Correct!\\n\")\n",
    "        return True\n",
    "    else:\n",
    "        print(f\"Incorrect! The correct answer was {correct_answer}. Game Over.\\n\")\n",
    "        return False\n",
    "\n",
    "def main():\n",
    "    clear_output()\n",
    "    print(\"Welcome to the De Morgan's Law Game!\")\n",
    "    \n",
    "    # Level 1\n",
    "    A = random_truth_value()\n",
    "    B = random_truth_value()\n",
    "    expression = f\"Level 1: Solve this expression using De Morgan's Law: not (A or B)\\nA = {A}, B = {B}\"\n",
    "    correct_answer = (not A) and (not B)\n",
    "    \n",
    "    if not play_level(expression, correct_answer):\n",
    "        return\n",
    "    \n",
    "    # Level 2\n",
    "    X = random_truth_value()\n",
    "    Y = random_truth_value()\n",
    "    expression = f\"Level 2: Solve this expression using De Morgan's Law: not (X and Y)\\nX = {X}, Y = {Y}\"\n",
    "    correct_answer = (not X) or (not Y)\n",
    "    \n",
    "    if not play_level(expression, correct_answer):\n",
    "        return\n",
    "    \n",
    "    print(\"Congratulations! You passed all levels.\")\n",
    "\n",
    "\n",
    "play_button = widgets.Button(description=\"Play\")\n",
    "\n",
    "\n",
    "def on_play_button_clicked(b):\n",
    "    main()\n",
    "\n",
    "\n",
    "play_button.on_click(on_play_button_clicked)\n",
    "\n",
    "\n",
    "display(play_button)"
   ]
  },
  {
   "cell_type": "markdown",
   "metadata": {},
   "source": [
    "## Truth Table Explanation\n",
    "\n",
    "### Explanation of the Code:\n",
    "\n",
    "**Headers:** The list `headers` contains column names like `A && B`, `!(A && B)`, etc., which represent the expressions you're evaluating.\n",
    "\n",
    "**Values:** `itertools.product([True, False], repeat=2)` generates all combinations of `True` and `False` for `A` and `B`, i.e., `(True, True)`, `(True, False)`, etc.\n",
    "\n",
    "**Logic Calculation:** For each row, the following expressions are computed:\n",
    "\n",
    "- `A && B`: AND operation between `A` and `B`\n",
    "- `!(A && B)`: Negation of the AND operation\n",
    "- `!A || !B`: De Morgan’s equivalent of `!(A && B)`\n",
    "- `A || B`: OR operation between `A` and `B`\n",
    "- `!(A || B)`: Negation of the OR operation\n",
    "- `!A && !B`: De Morgan’s equivalent of `!(A || B)`"
   ]
  },
  {
   "cell_type": "code",
   "execution_count": 2,
   "metadata": {},
   "outputs": [
    {
     "name": "stdout",
     "output_type": "stream",
     "text": [
      "A | B | A && B | !(A && B) | !A || !B | A || B | !(A || B) | !A && !B\n",
      "-------------------------------------------------------\n",
      "1     | 1     | 1       | 0         | 0          | 1       | 0         | 0         \n",
      "1     | 0     | 0       | 1         | 1          | 1       | 0         | 0         \n",
      "0     | 1     | 0       | 1         | 1          | 1       | 0         | 0         \n",
      "0     | 0     | 0       | 1         | 1          | 0       | 1         | 1         \n"
     ]
    }
   ],
   "source": [
    "import itertools\n",
    "\n",
    "\n",
    "headers = ['A', 'B', 'A AND B', 'NOT (A AND B)', 'NOT A OR NOT B', 'A OR B', 'NOT (A OR B)', 'NOT A AND NOT B']\n",
    "\n",
    "\n",
    "values = list(itertools.product([True, False], repeat=2))\n",
    "\n",
    "\n",
    "def print_truth_table():\n",
    "\n",
    "    print(f\"{' | '.join(headers)}\")\n",
    "    print(\"-\" * 80)\n",
    "    \n",
    "  \n",
    "    for A, B in values:\n",
    "        a_and_b = A and B\n",
    "        not_a_and_b = not (A and B)\n",
    "        not_a_or_not_b = not A or not B\n",
    "        a_or_b = A or B\n",
    "        not_a_or_b = not (A or B)\n",
    "        not_a_and_not_b = not A and not B\n",
    "        \n",
    "       \n",
    "        print(f\"{A:<5} | {B:<5} | {a_and_b:<9} | {not_a_and_b:<12} | {not_a_or_not_b:<13} | {a_or_b:<7} | {not_a_or_b:<12} | {not_a_and_not_b:<13}\")\n",
    "\n",
    "\n",
    "print_truth_table()\n"
   ]
  },
  {
   "cell_type": "markdown",
   "metadata": {
    "vscode": {
     "languageId": "raw"
    }
   },
   "source": [
    "## Popcorn Hack #1\n",
    " Check Number: Evaluates if number is less than 0.\n",
    " Output: Logs whether the number is negative or non-negative."
   ]
  },
  {
   "cell_type": "code",
   "execution_count": null,
   "metadata": {},
   "outputs": [],
   "source": [
    "def check_number():\n",
    "    try:\n",
    "        number = float(input(\"Please enter a number: \"))\n",
    "        if number < 0:\n",
    "            print(\"The number is negative.\")\n",
    "        else:\n",
    "            print(\"The number is non-negative.\")\n",
    "    except ValueError:\n",
    "        print(\"Invalid input! Please enter a valid number.\")\n",
    "\n",
    "check_number()"
   ]
  },
  {
   "cell_type": "markdown",
   "metadata": {},
   "source": [
    "## Popcorn Hack #2\n",
    "Check Scores: Confirms if both scores are at least 70.\n",
    "Output: Prints if the student passed both subjects."
   ]
  },
  {
   "cell_type": "code",
   "execution_count": null,
   "metadata": {},
   "outputs": [],
   "source": [
    "def check_scores(score1, score2):\n",
    "    if score1 >= 70 and score2 >= 70:\n",
    "        print(\"The student passed both subjects.\")\n",
    "    else:\n",
    "        print(\"The student did not pass both subjects.\")\n",
    "\n",
    "\n",
    "score1 = float(input(\"Enter the first score: \"))\n",
    "score2 = float(input(\"Enter the second score: \"))\n",
    "\n",
    "check_scores(score1, score2)"
   ]
  },
  {
   "cell_type": "markdown",
   "metadata": {},
   "source": [
    "## Popcorn Hack #3\n",
    "Check Vowel: Checks if char is in the string 'aeiou'.\n",
    "Output: Prints whether the character is a vowel or not."
   ]
  },
  {
   "cell_type": "code",
   "execution_count": null,
   "metadata": {},
   "outputs": [],
   "source": [
    "def check_vowel(char):\n",
    "    vowels = 'aeiou'\n",
    "    if char.lower() in vowels:\n",
    "        print(f\"The character '{char}' is a vowel.\")\n",
    "    else:\n",
    "        print(f\"The character '{char}' is not a vowel.\")\n",
    "\n",
    "\n",
    "char = input(\"Enter a character: \")\n",
    "\n",
    "\n",
    "if len(char) == 1:\n",
    "    check_vowel(char)\n",
    "else:\n",
    "    print(\"Please enter a single character.\")"
   ]
  },
  {
   "cell_type": "markdown",
   "metadata": {},
   "source": [
    "### Homework\n",
    "\n",
    "1. **Create a Truth Table**\n",
    "   - Develop a truth table for a given logical expression.\n",
    "\n",
    "2. **Create a Game Using De Morgan's Law**\n",
    "   - Design a simple game that uses De Morgan's Law to simplify yes or no functions."
   ]
  },
  {
   "cell_type": "markdown",
   "metadata": {
    "vscode": {
     "languageId": "raw"
    }
   },
   "source": [
    "## Summary of \"3.5 Python Boolean Hacks\"\n",
    "\n",
    "### De Morgan’s Law in Python\n",
    "\n",
    "**Key Concepts:**\n",
    "- **Negating AND:** `not (A and B)` becomes `not A or not B`.\n",
    "- **Negating OR:** `not (A or B)` becomes `not A and not B`.\n",
    "\n",
    "**Code Applications:** Simplifies conditional logic in code, e.g., checking if it’s not raining or not cold.\n",
    "\n",
    "### De Morgan’s Law Game\n",
    "\n",
    "A game with three levels where players solve logic puzzles using De Morgan's Laws.\n",
    "\n",
    "- **Truth Table:** Generates truth tables to evaluate logical expressions.\n",
    "\n",
    "### Python Boolean Hacks\n",
    "\n",
    "- **Check Number:** Determines if a number is negative.\n",
    "- **Check Scores:** Checks if both scores are 70 or above.\n",
    "- **Check Vowel:** Identifies if a character is a vowel.\n",
    "\n",
    "### Homework\n",
    "\n",
    "- **Create a Truth Table:** Develop a truth table for a given logical expression.\n",
    "- **Design a Game Using De Morgan's Law:** Create a game that uses De Morgan's Law to simplify yes or no functions."
   ]
  }
 ],
 "metadata": {
  "kernelspec": {
   "display_name": "Python 3",
   "language": "python",
   "name": "python3"
  },
  "language_info": {
   "codemirror_mode": {
    "name": "ipython",
    "version": 3
   },
   "file_extension": ".py",
   "mimetype": "text/x-python",
   "name": "python",
   "nbconvert_exporter": "python",
   "pygments_lexer": "ipython3",
   "version": "3.12.3"
  }
 },
 "nbformat": 4,
 "nbformat_minor": 2
}
