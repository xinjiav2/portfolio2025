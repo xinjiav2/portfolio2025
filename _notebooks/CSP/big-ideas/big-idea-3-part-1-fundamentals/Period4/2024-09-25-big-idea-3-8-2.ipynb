{
 "cells": [
  {
   "cell_type": "raw",
   "metadata": {
    "vscode": {
     "languageId": "raw"
    }
   },
   "source": [
    "---\n",
    "layout: post\n",
    "title: 3.8.2 While loops\n",
    "author: Weston Gardner\n",
    "description: While loops nesting\n",
    "permalink: /csp/big-idea/p4/3-8-2\n",
    "menu: nav/csp_units/csp_unit3_p4_fundamentals.html\n",
    "---"
   ]
  },
  {
   "cell_type": "markdown",
   "metadata": {},
   "source": [
    "## Basic Overview\n",
    "\n",
    "Nesting is a term used when we use multiple loops inside of each other\n",
    "\n",
    "Used when you want to you a loop multiple sets of times each set with different values\n",
    "\n",
    "Many other versatile uses\n",
    "\n",
    "\n",
    "## Pseudocode Example\n",
    "\n",
    "```pseudocode\n",
    "initialize outer_counter to 0\n",
    "initialize inner_counter to 0\n",
    "\n",
    "while outer_counter is less than 3:\n",
    "    print \"Apple\"\n",
    "    \n",
    "    while inner_counter is less than 5:\n",
    "        print \"  Banana\"\n",
    "        increment inner_counter by 1\n",
    "    \n",
    "    reset inner_counter to 0\n",
    "    increment outer_counter by 1\n",
    "```\n",
    "\n",
    "## Python Example\n"
   ]
  },
  {
   "cell_type": "code",
   "execution_count": 3,
   "metadata": {},
   "outputs": [
    {
     "name": "stdout",
     "output_type": "stream",
     "text": [
      "Apple\n",
      "  Banana\n",
      "  Banana\n",
      "  Banana\n",
      "  Banana\n",
      "  Banana\n",
      "Apple\n",
      "  Banana\n",
      "  Banana\n",
      "  Banana\n",
      "  Banana\n",
      "  Banana\n",
      "Apple\n",
      "  Banana\n",
      "  Banana\n",
      "  Banana\n",
      "  Banana\n",
      "  Banana\n"
     ]
    }
   ],
   "source": [
    "outer_counter = 0\n",
    "inner_counter = 0\n",
    "\n",
    "while outer_counter < 3:\n",
    "    print(\"Apple\")\n",
    "    \n",
    "    inner_counter = 0\n",
    "    while inner_counter < 5:\n",
    "        print(\"  Banana\")\n",
    "        inner_counter += 1\n",
    "    \n",
    "    outer_counter += 1"
   ]
  },
  {
   "cell_type": "markdown",
   "metadata": {},
   "source": [
    "## Javascript Example"
   ]
  },
  {
   "cell_type": "code",
   "execution_count": 4,
   "metadata": {
    "vscode": {
     "languageId": "javascript"
    }
   },
   "outputs": [
    {
     "data": {
      "application/javascript": "let outerCounter = 0;\ninner_counter = 0\n\nwhile (outerCounter < 3) {\n    console.log(\"Apple\");\n\n    innerCounter = 0;\n    while (innerCounter < 5) {\n        console.log(\"Banana\");\n        innerCounter++;\n    }\n\n    outerCounter++;\n}\n",
      "text/plain": [
       "<IPython.core.display.Javascript object>"
      ]
     },
     "metadata": {},
     "output_type": "display_data"
    }
   ],
   "source": [
    "%%js\n",
    "let outerCounter = 0;\n",
    "inner_counter = 0\n",
    "\n",
    "while (outerCounter < 3) {\n",
    "    console.log(\"Apple\");\n",
    "\n",
    "    innerCounter = 0;\n",
    "    while (innerCounter < 5) {\n",
    "        console.log(\"Banana\");\n",
    "        innerCounter++;\n",
    "    }\n",
    "\n",
    "    outerCounter++;\n",
    "}"
   ]
  },
  {
   "cell_type": "markdown",
   "metadata": {},
   "source": [
    "## What is Happening\n",
    "\n",
    "First, we initialize two different integers\n",
    "\n",
    "Then we begin our first loop that will run until outerCounter greater than or equal to 3\n",
    "\n",
    "Then we print out \"Apple\"\n",
    "\n",
    "Then we set innerCounter to 0\n",
    "\n",
    "Then we begin our second(nested) loop that will run until innterCounter is greater than or equal to 5\n",
    "\n",
    "Then it prints out banana and increases the innercounter by one\n",
    "\n",
    "Then in the first loop we increase outercounter by 1\n",
    "\n",
    "this will lead to an output with 3 sets of\n",
    "\n",
    "Apple\n",
    "Banana\n",
    "Banana\n",
    "Banana\n",
    "Banana\n",
    "Banana"
   ]
  },
  {
   "cell_type": "markdown",
   "metadata": {},
   "source": [
    "## Popcorn Hack #2\n",
    "\n",
    "Create a piece of python code that prints out your name one time\n",
    "\n",
    "then after printing your first name one time, print out your middle name 2 times\n",
    "\n",
    "and finally print out your last name three times\n",
    "\n",
    "this entire thing should be repeated 4 times"
   ]
  },
  {
   "cell_type": "markdown",
   "metadata": {},
   "source": [
    "<img src=\"https://encrypted-tbn0.gstatic.com/images?q=tbn:ANd9GcSyW9jA-EOKAdNPZGx2Ev8thWLS5k6WBLFq7g&s\" alt=\"While loop meme\"></img>\n",
    "\n",
    "<script src=\"https://utteranc.es/client.js\"\n",
    "        repo=\"nighthawkcoders/portfolio_2025\"\n",
    "        issue-term=\"title\"\n",
    "        label=\"blogpost-comment\"\n",
    "        theme=\"github-light\"\n",
    "        crossorigin=\"anonymous\"\n",
    "        async>\n",
    "</script>\n",
    "-->"
   ]
  }
 ],
 "metadata": {
  "kernelspec": {
   "display_name": "Python 3",
   "language": "python",
   "name": "python3"
  },
  "language_info": {
   "codemirror_mode": {
    "name": "ipython",
    "version": 3
   },
   "file_extension": ".py",
   "mimetype": "text/x-python",
   "name": "python",
   "nbconvert_exporter": "python",
   "pygments_lexer": "ipython3",
   "version": "3.12.3"
  }
 },
 "nbformat": 4,
 "nbformat_minor": 2
}
