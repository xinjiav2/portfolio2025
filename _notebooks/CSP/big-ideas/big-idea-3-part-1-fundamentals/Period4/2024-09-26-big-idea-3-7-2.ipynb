{
 "cells": [
  {
   "cell_type": "raw",
   "metadata": {
    "vscode": {
     "languageId": "raw"
    }
   },
   "source": [
    "---\n",
    "comments: true\n",
    "layout: post\n",
    "title: CSP Period 4 Unit 3.7.2 Nested Conditionals Javascript Lesson\n",
    "description: Nested conditionals in JavaScript allow for more complex decision-making by placing one conditional statement inside another. This structure enables a program to check additional conditions only if the previous condition is true, creating a layered decision process. In this lesson, students will learn how to implement nested if, else if, and else statements to create more specific control flows in their programs. Through examples and exercises, they will gain a deeper understanding of how to manage multiple conditions effectively, enhancing the logic of their code.\n",
    "permalink: /csp/big-idea/p4/3-7-2\n",
    "type: ccc\n",
    "author: Risha Guha, Vibha Mandayam, Ava Shalon\n",
    "menu: nav/csp_units/csp_unit3_p4_fundamentals.html\n",
    "---"
   ]
  },
  {
   "cell_type": "markdown",
   "metadata": {},
   "source": [
    "<h1><span style=\"font-family: Ariel; color:#94c4ff\">Nested Conditionals Code Example in Javascript</span></h1>\n",
    "\n",
    "if (condition1) {\n",
    "    // Actions to run for condition 1\n",
    "    // CODE BLOCK A\n",
    "\n",
    "    if (condition2) {\n",
    "        // Actions to run for condition 2\n",
    "        // CODE BLOCK B\n",
    "    } else {\n",
    "        // Actions to run if condition 2 is not met\n",
    "        // CODE BLOCK C\n",
    "    }\n",
    "} else {\n",
    "    // Actions to run if condition 1 was never met\n",
    "    // CODE BLOCK D\n",
    "}\n",
    "\n",
    "This code states that\n",
    "- If condition 1 AND condition 2 are met, run code blocks A and B\n",
    "- If condition 1 is met but condition 2 IS NOT met, run code blocks A and C\n",
    "- If condition 1 was never met, run code block D"
   ]
  },
  {
   "cell_type": "markdown",
   "metadata": {},
   "source": [
    "<h2><span style=\"font-family: Ariel; color:#94c4ff\">Example 1 - Basic</span></h2>\n",
    "\n",
    "1. Write a code that uses information about the weather, boots, and transportation\n",
    "2. Determine whether or not to go hiking\n",
    "3. Give solutions for what to do during each type of weather"
   ]
  },
  {
   "cell_type": "code",
   "execution_count": 1,
   "metadata": {
    "vscode": {
     "languageId": "javascript"
    }
   },
   "outputs": [
    {
     "data": {
      "application/javascript": "\nlet weather = \"sunny\";\nlet transportation = \"available\";\nlet boots = \"not present\";\n\nconsole.log(\"The weather is \" + weather);\nconsole.log(\"Your transportation is \" + transportation);\nconsole.log(\"Your boots are \" + boots);\n\nif (weather === \"sunny\") {\n    if (transportation === \"available\") {\n        if (boots === \"present\") {\n            console.log(\"You are ready to go hiking!\");\n        } else {\n            console.log(\"You need to find your boots first.\");\n        }\n    } else {\n        console.log(\"You need to arrange transportation.\");\n    }\n} else {\n    console.log(\"It's not good weather for hiking.\");\n}\n",
      "text/plain": [
       "<IPython.core.display.Javascript object>"
      ]
     },
     "metadata": {},
     "output_type": "display_data"
    }
   ],
   "source": [
    "%%javascript\n",
    "\n",
    "let weather = \"sunny\";\n",
    "let transportation = \"available\";\n",
    "let boots = \"not present\";\n",
    "\n",
    "console.log(\"The weather is \" + weather);\n",
    "console.log(\"Your transportation is \" + transportation);\n",
    "console.log(\"Your boots are \" + boots);\n",
    "\n",
    "if (weather === \"sunny\") {\n",
    "    if (transportation === \"available\") {\n",
    "        if (boots === \"present\") {\n",
    "            console.log(\"You are ready to go hiking!\");\n",
    "        } else {\n",
    "            console.log(\"You need to find your boots first.\");\n",
    "        }\n",
    "    } else {\n",
    "        console.log(\"You need to arrange transportation.\");\n",
    "    }\n",
    "} else {\n",
    "    console.log(\"It's not good weather for hiking.\");\n",
    "}"
   ]
  },
  {
   "cell_type": "markdown",
   "metadata": {},
   "source": [
    "<h3><span style=\"font-family: Ariel; color:#94c4ff\">Popcorn Hack 1</span></h3>\n",
    "\n",
    "Try adding an additional condition for hiking (like location_determined or miles_in_the_hike)."
   ]
  },
  {
   "cell_type": "markdown",
   "metadata": {},
   "source": [
    "<h2><span style=\"font-family: Ariel; color:#94c4ff\">Example 2 - Booleans</span></h2>\n",
    "\n",
    "1. Write a code that checks if you can host movie night.\n",
    "2. Use the presence of a living room, a projector, and snacks to determine if movie night is possible\n",
    "3. Use booleans in the code"
   ]
  },
  {
   "cell_type": "code",
   "execution_count": null,
   "metadata": {
    "vscode": {
     "languageId": "javascript"
    }
   },
   "outputs": [],
   "source": [
    "%%javascript\n",
    "\n",
    "let living_room_available = true;\n",
    "let projector_working = false;\n",
    "let enough_snacks = true;\n",
    "\n",
    "if (living_room_available) {\n",
    "    if (projector_working) {\n",
    "        if (enough_snacks) {\n",
    "            console.log(\"You're ready to host the movie night!\");\n",
    "        } else {\n",
    "            console.log(\"You need to get more snacks. Ideas: Popcorn, Candy, Soda\");\n",
    "        }\n",
    "    } else {\n",
    "        console.log(\"You need to fix or replace the projector.\");\n",
    "    }\n",
    "} else {\n",
    "    console.log(\"The living room is not available for the movie night. Find another room!\");\n",
    "}"
   ]
  },
  {
   "cell_type": "markdown",
   "metadata": {},
   "source": [
    "<h3><span style=\"font-family: Ariel; color:#94c4ff\">Popcorn Hack 2</span></h3>\n",
    "\n",
    "Try changing some of the defined booleans and see what values you get!"
   ]
  },
  {
   "cell_type": "markdown",
   "metadata": {},
   "source": [
    "<h2><span style=\"font-family: Ariel; color:#94c4ff\">Example 3 - Integers, Booleans, AND Random</span></h2>\n",
    "\n",
    "1. Write a code that checks if you can go on a spontaneous road trip\n",
    "2. Check if you have enough gas, if the weather is good, if you've checked your car, and if you have enough in your budget\n",
    "3. Use integers, booleans, and randomized values"
   ]
  },
  {
   "cell_type": "code",
   "execution_count": 2,
   "metadata": {
    "vscode": {
     "languageId": "javascript"
    }
   },
   "outputs": [
    {
     "data": {
      "application/javascript": "\n// Boolean: Do you have enough gas? (Fixed)\nlet enough_gas = true;\n\n// Random: Is the weather good? (Random outcome)\nlet good_weather = Math.random() < 0.5; // Random true or false\n\n// Random: Did the car pass the check-up? (Random outcome)\nlet car_checked = Math.random() < 0.5; // Random true or false\n\n// Integer: Your current budget (Random between $50 and $200)\nlet budget = Math.floor(Math.random() * (200 - 50 + 1)) + 50;\nlet required_budget = 100; // Assume you need $100 for the trip\n\n// Check the conditions using nested conditionals\nif (enough_gas) {\n    console.log(\"You have enough gas!\");\n    if (good_weather) {\n        console.log(\"The weather is good!\");\n        if (car_checked) {\n            console.log(\"Your car has been checked!\");\n            if (budget >= required_budget) {\n                console.log(`You're ready for the road trip! You have $${budget}, which is enough.`);\n            } else {\n                console.log(`You need more money for the trip. You only have $${budget}, but you need at least $${required_budget}.`);\n            }\n        } else {\n            console.log(\"You need to get the car checked first.\");\n        }\n    } else {\n        console.log(\"The weather isn't good for a road trip.\");\n    }\n} else {\n    console.log(\"You need to fill up the tank first.\");\n}\n",
      "text/plain": [
       "<IPython.core.display.Javascript object>"
      ]
     },
     "metadata": {},
     "output_type": "display_data"
    }
   ],
   "source": [
    "%%javascript\n",
    "\n",
    "// Boolean: Do you have enough gas? (Fixed)\n",
    "let enough_gas = true;\n",
    "\n",
    "// Random: Is the weather good? (Random outcome)\n",
    "let good_weather = Math.random() < 0.5; // Random true or false\n",
    "\n",
    "// Random: Did the car pass the check-up? (Random outcome)\n",
    "let car_checked = Math.random() < 0.5; // Random true or false\n",
    "\n",
    "// Integer: Your current budget (Random between $50 and $200)\n",
    "let budget = Math.floor(Math.random() * (200 - 50 + 1)) + 50;\n",
    "let required_budget = 100; // Assume you need $100 for the trip\n",
    "\n",
    "// Check the conditions using nested conditionals\n",
    "if (enough_gas) {\n",
    "    console.log(\"You have enough gas!\");\n",
    "    if (good_weather) {\n",
    "        console.log(\"The weather is good!\");\n",
    "        if (car_checked) {\n",
    "            console.log(\"Your car has been checked!\");\n",
    "            if (budget >= required_budget) {\n",
    "                console.log(`You're ready for the road trip! You have $${budget}, which is enough.`);\n",
    "            } else {\n",
    "                console.log(`You need more money for the trip. You only have $${budget}, but you need at least $${required_budget}.`);\n",
    "            }\n",
    "        } else {\n",
    "            console.log(\"You need to get the car checked first.\");\n",
    "        }\n",
    "    } else {\n",
    "        console.log(\"The weather isn't good for a road trip.\");\n",
    "    }\n",
    "} else {\n",
    "    console.log(\"You need to fill up the tank first.\");\n",
    "}"
   ]
  },
  {
   "cell_type": "markdown",
   "metadata": {},
   "source": [
    "<h3><span style=\"font-family: Ariel; color:#94c4ff\">Popcorn Hack 3</span></h3>\n",
    "\n",
    "Try changing the enough_gas variable to a randomly-generated value! Also, try adding a gas value and check that the number of gallons is sufficient. "
   ]
  },
  {
   "cell_type": "markdown",
   "metadata": {},
   "source": [
    "## Learn more about Javascript Nested Conditionals\n",
    "\n",
    "[Javascript Nested Conditionals - ThoughtCo](https://www.thoughtco.com/javascript-making-decisions-2037427)"
   ]
  }
 ],
 "metadata": {
  "kernelspec": {
   "display_name": "venv",
   "language": "python",
   "name": "python3"
  },
  "language_info": {
   "codemirror_mode": {
    "name": "ipython",
    "version": 3
   },
   "file_extension": ".py",
   "mimetype": "text/x-python",
   "name": "python",
   "nbconvert_exporter": "python",
   "pygments_lexer": "ipython3",
   "version": "3.12.4"
  }
 },
 "nbformat": 4,
 "nbformat_minor": 2
}
