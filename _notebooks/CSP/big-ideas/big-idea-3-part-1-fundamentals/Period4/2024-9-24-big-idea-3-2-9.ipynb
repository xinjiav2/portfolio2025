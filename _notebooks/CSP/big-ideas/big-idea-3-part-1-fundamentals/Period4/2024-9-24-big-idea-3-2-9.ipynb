{
 "cells": [
  {
   "cell_type": "raw",
   "metadata": {
    "vscode": {
     "languageId": "raw"
    }
   },
   "source": [
    "---\n",
    "toc: false\n",
    "comments: true\n",
    "layout: post\n",
    "title: 3.2 Lesson Period 4 - None Data Abstraction\n",
    "permalink: /csp/big-idea/p4/3-2-9\n",
    "categories: [CSP Big Ideas]\n",
    "author: Ian, Collin, Aarush, Thomas\n",
    "menu: nav/csp_units/csp_unit3_p4_fundamentals.html\n",
    "---"
   ]
  },
  {
   "cell_type": "markdown",
   "metadata": {},
   "source": [
    "<style>\n",
    "  h1 {\n",
    "    animation: glow 1s ease-in-out infinite alternate;\n",
    "    font-size: 3em; /* Increased font size */\n",
    "  }\n",
    "</style>\n",
    "\n",
    "<h1>\n",
    "  None - 3.2.9\n",
    "</h1>\n",
    "\n",
    "<style>\n",
    "@keyframes glow {\n",
    "  from {\n",
    "    text-shadow: 0 0 5px #fff, 0 0 10px #00f, 0 0 15px #00f, 0 0 20px #00f; /* Changed color to blue (#00f) */\n",
    "  }\n",
    "  to {\n",
    "    text-shadow: 0 0 20px #00f, 0 0 30px #00f, 0 0 40px #00f, 0 0 50px #00f; /* Changed color to blue (#00f) */\n",
    "  }\n",
    "}\n",
    "</style>"
   ]
  },
  {
   "cell_type": "markdown",
   "metadata": {},
   "source": [
    "## None in Python\n",
    "\n",
    "The None keyword is used to define a null value, or no value at all. None is not the same as 0, False, or an empty string. None is a data type of its own (NoneType) and only None can be None."
   ]
  },
  {
   "cell_type": "markdown",
   "metadata": {},
   "source": [
    "## Purpose\n",
    "\n",
    "- Represents the absence of a value or a null value in Python.\n",
    "- Used to indicate that a variable has no data assigned to it.\n",
    "- Can serve as a placeholder in data structures (like lists or dictionaries) to signify empty entries.\n",
    "- Useful in conditional statements to check if a variable has been initialized or assigned a meaningful value.\n",
    "- Helps distinguish between \"no value\" and other falsy values (like `0`, `False`, or an empty string)."
   ]
  },
  {
   "cell_type": "markdown",
   "metadata": {},
   "source": [
    "![Python Boolean Functions](https://i0.wp.com/www.fatosmorina.com/wp-content/uploads/2023/03/none.png?ssl=1)"
   ]
  },
  {
   "cell_type": "code",
   "execution_count": 1,
   "metadata": {},
   "outputs": [
    {
     "name": "stdout",
     "output_type": "stream",
     "text": [
      "The result has no value.\n"
     ]
    }
   ],
   "source": [
    "# Assigning None to a variable\n",
    "result = None\n",
    "\n",
    "# Checking if a variable is None\n",
    "if result is None:\n",
    "    print(\"The result has no value.\")\n",
    "else:\n",
    "    print(\"The result has a value:\", result)\n",
    "\n",
    "# None is commonly used as a default argument in functions\n",
    "def my_function(value=None):\n",
    "    if value is None:\n",
    "        print(\"No value provided.\")\n",
    "    else:\n",
    "        print(\"Value provided:\", value)\n"
   ]
  },
  {
   "cell_type": "markdown",
   "metadata": {},
   "source": [
    "# Javascript Version"
   ]
  },
  {
   "cell_type": "code",
   "execution_count": null,
   "metadata": {
    "vscode": {
     "languageId": "javascript"
    }
   },
   "outputs": [],
   "source": [
    "// Assigning null to a variable\n",
    "let result = null;\n",
    "\n",
    "// Checking if a variable is null\n",
    "if (result === null) {\n",
    "    console.log(\"The result has no value.\");\n",
    "} else {\n",
    "    console.log(\"The result has a value:\", result);\n",
    "}\n",
    "\n",
    "// null is often used as a default value in function arguments\n",
    "function myFunction(value = null) {\n",
    "    if (value === null) {\n",
    "        console.log(\"No value provided.\");\n",
    "    } else {\n",
    "        console.log(\"Value provided:\", value);\n",
    "}\n",
    "}\n",
    "\n",
    "// Calling the function with and without a value\n",
    "myFunction();        // No value provided.\n",
    "myFunction(42);      // Value provided: 42\n"
   ]
  }
 ],
 "metadata": {
  "kernelspec": {
   "display_name": "venv",
   "language": "python",
   "name": "python3"
  },
  "language_info": {
   "codemirror_mode": {
    "name": "ipython",
    "version": 3
   },
   "file_extension": ".py",
   "mimetype": "text/x-python",
   "name": "python",
   "nbconvert_exporter": "python",
   "pygments_lexer": "ipython3",
   "version": "3.12.6"
  }
 },
 "nbformat": 4,
 "nbformat_minor": 2
}
