{
 "cells": [
  {
   "cell_type": "raw",
   "metadata": {
    "vscode": {
     "languageId": "raw"
    }
   },
   "source": [
    "---\n",
    "toc: false\n",
    "comments: true\n",
    "layout: post\n",
    "title: 3.10.1 JavaScript Arrays (Lists) - Period 4\n",
    "description: This is student-led teaching on lists\n",
    "categories: [CSP Big Ideas]\n",
    "author: Noah Harris (Period 4)\n",
    "menu: nav/csp_units/csp_unit3_p5_fundamentals.html\n",
    "permalink: /csp/big-idea/p4/3-10B-1\n",
    "---"
   ]
  },
  {
   "cell_type": "markdown",
   "metadata": {},
   "source": [
    "<style>\n",
    "    .glowing-text {\n",
    "        color: white;\n",
    "        text-shadow: 0 0 10px #055cd3, 0 0 20px #055cd3, 0 0 30px #055cd3;\n",
    "        font-size: 32px;\n",
    "    }\n",
    "</style>"
   ]
  },
  {
   "cell_type": "markdown",
   "metadata": {},
   "source": [
    "Here are all of the code snippets used in the lesson:"
   ]
  },
  {
   "cell_type": "code",
   "execution_count": null,
   "metadata": {
    "vscode": {
     "languageId": "javascript"
    }
   },
   "outputs": [],
   "source": [
    "// Initialize an empty array\n",
    "var aList = [];\n",
    "\n",
    "// Assuming 'i' is defined, e.g., var i = 0; before accessing\n",
    "var i = 0; // Example definition\n",
    "\n",
    "// Accessing array values\n",
    "var x = aList[i]; // Assigns value of aList[i] to variable x\n",
    "aList[i] = x; // This does nothing meaningful as x is being assigned back to the same index\n",
    "\n",
    "// Function to insert a value at a specific index\n",
    "var value = 10; // Example value\n",
    "aList.splice(i, 0, value); // Inserts value at index i\n",
    "\n",
    "// Function to remove a value at a specific index\n",
    "aList.splice(i, 1); // Removes the element at index i\n",
    "\n",
    "// Function to get the length of the array\n",
    "console.log(aList.length); // Returns the number of elements in aList\n",
    "\n",
    "// Function to append a value to the end of the array\n",
    "aList.push(value); // Adds value to the end of aList\n",
    "\n",
    "// Using unshift() to add an item at the beginning\n",
    "aList.unshift(value); // Adds value to the beginning of the list\n",
    "\n",
    "// Using pop() to remove the last item\n",
    "aList.pop(); // Removes the last item\n",
    "\n",
    "// Using shift() to remove the first item\n",
    "aList.shift(); // Removes the first item\n",
    "\n",
    "// Function that logs various types of data\n",
    "console.log(aList); // This would output the values of aList\n"
   ]
  },
  {
   "cell_type": "markdown",
   "metadata": {},
   "source": [
    "<div class=\"glowing-text\">\n",
    "Arrays\n",
    "</div>\n",
    "\n",
    "JavaScript lists, which are represented by arrays, are ordered collections that can hold different data types, enabling the storage and manipulation of multiple values within a single variable. Lists are commonly used for iterating over data, transforming data, and creating complex structures like matrices.\n",
    "\n",
    "<div class=\"glowing-text\">\n",
    "Initializing an Array\n",
    "</div>\n",
    "\n",
    "In order to start a list, we need to initialize a variable to store the list. In JavaScript, a list is called an array and we use square brackets to store it. \n",
    "\n",
    "For example:"
   ]
  },
  {
   "cell_type": "code",
   "execution_count": null,
   "metadata": {
    "vscode": {
     "languageId": "javascript"
    }
   },
   "outputs": [],
   "source": [
    "var numbers = [ ]; "
   ]
  },
  {
   "cell_type": "markdown",
   "metadata": {
    "vscode": {
     "languageId": "javascript"
    }
   },
   "source": [
    "\n",
    "numbers is the name of the array and the array is completely empty as there are no values in the brackets. Here is an updated array with 5 numbers: "
   ]
  },
  {
   "cell_type": "code",
   "execution_count": null,
   "metadata": {
    "vscode": {
     "languageId": "javascript"
    }
   },
   "outputs": [],
   "source": [
    "var numbers = [10, 12, 13, 21, 49];"
   ]
  },
  {
   "cell_type": "markdown",
   "metadata": {},
   "source": [
    "\n",
    "Each value in the array is separated by a comma, but you can store more than numbers in a array. Here is an example with an array of strings. "
   ]
  },
  {
   "cell_type": "code",
   "execution_count": null,
   "metadata": {
    "vscode": {
     "languageId": "javascript"
    }
   },
   "outputs": [],
   "source": [
    "var sports = [ \"soccer\", \"football\", \"basketball\", \"tennis\", \"wrestling\"];"
   ]
  },
  {
   "cell_type": "markdown",
   "metadata": {},
   "source": [
    "\n",
    "As you can see, each string is surrounded by quotation marks, and the comma is outside the quotations.\n",
    "\n",
    "Popcorn Hack #1: You can easily reverse an array using the reverse() method. Here is an example using the numbers array from above. "
   ]
  },
  {
   "cell_type": "code",
   "execution_count": null,
   "metadata": {
    "vscode": {
     "languageId": "javascript"
    }
   },
   "outputs": [],
   "source": [
    "var numbers = [10, 12, 13, 21, 49];\n",
    "numbers.reverse();\n",
    "console.log(numbers); // Output: [49, 21, 13, 12, 10]"
   ]
  },
  {
   "cell_type": "markdown",
   "metadata": {},
   "source": [
    "\n",
    "Now create your own array and then reverse it using the reverse() method.\n",
    "\n",
    "<div class=\"glowing-text\">\n",
    "Accessing array values\n",
    "</div>\n",
    "\n",
    "The computer assigns an index to each item in the array, so that it can keep track of where it stored that item in its memory. In JavaScript, the first item in a array is at index 0, not index 1. So here are the indexes for the sports array above:\n",
    "\n",
    "    0              1               2                  3                4\n",
    "    \n",
    "\"soccer\"      \"football\"      \"basketball\"        \"tennis\"        \"wrestling\"\n",
    "\n",
    "To reference an item in the array, use bracket notation: \n"
   ]
  },
  {
   "cell_type": "code",
   "execution_count": null,
   "metadata": {
    "vscode": {
     "languageId": "javascript"
    }
   },
   "outputs": [],
   "source": [
    "var firstSport = sports[0]; // this variable stores \"soccer\"\n",
    "var lastSport = sports[4]; // this variable stores \"wrestling\""
   ]
  },
  {
   "cell_type": "markdown",
   "metadata": {},
   "source": [
    "<div class=\"glowing-text\">\n",
    " Updating Arrays\n",
    "</div>\n",
    "\n",
    "We can update an item in an array if we know its index. In JavaScript, bracket notation is used to update a value. After adding that value, the index of the following values is shifted by 1. For example let's add two sports to the sports array from above.\n"
   ]
  },
  {
   "cell_type": "code",
   "execution_count": null,
   "metadata": {
    "vscode": {
     "languageId": "javascript"
    }
   },
   "outputs": [],
   "source": [
    "sports=[1] = \"swimming\";\n",
    "sports=[2] = \"baseball\";"
   ]
  },
  {
   "cell_type": "markdown",
   "metadata": {},
   "source": [
    "\n",
    "The sports array will now store \"soccer\", \"swimming\", \"baseball\", \"football\", \"basketball\", \"tennis\", and \"wrestling\".\n",
    "\n",
    "<div class=\"glowing-text\">\n",
    "Appending Array Items\n",
    "</div>\n",
    "\n",
    "We can append an item to an array, which is adding a new item to the end of the array. In JavaScript, we can call the push() method on a array, and pass the new item as a parameter. For example, from the previous numbers array, we can add more:\n"
   ]
  },
  {
   "cell_type": "code",
   "execution_count": null,
   "metadata": {
    "vscode": {
     "languageId": "javascript"
    }
   },
   "outputs": [],
   "source": [
    "numbers.push (50);\n",
    "numbers.push (88);\n",
    "numbers.push (92);"
   ]
  },
  {
   "cell_type": "markdown",
   "metadata": {},
   "source": [
    "\n",
    "Now the array will look like this ...\n",
    "\n",
    "10, 12, 13, 21, 49, 50, 88, 92 \n",
    "\n",
    "With the number 10 being index 0 and the number 92 being index 7\n",
    "\n",
    "We can also add an item to the beginning of the array using the unshift() method. For example:\n"
   ]
  },
  {
   "cell_type": "code",
   "execution_count": null,
   "metadata": {
    "vscode": {
     "languageId": "javascript"
    }
   },
   "outputs": [],
   "source": [
    "numbers.unshift (8)\n",
    "numbers.unshift (6)"
   ]
  },
  {
   "cell_type": "markdown",
   "metadata": {},
   "source": [
    "\n",
    "Now the array will look like this...\n",
    "\n",
    "6, 8, 12, 13, 21, 49, 50, 88, 92\n",
    "\n",
    "Popcorn Hack #2: You can combine the push() with the spread operator (...) to add multiple items to an array at once. This also works with the unshift() method.\n",
    "For example:\n"
   ]
  },
  {
   "cell_type": "code",
   "execution_count": null,
   "metadata": {
    "vscode": {
     "languageId": "javascript"
    }
   },
   "outputs": [],
   "source": [
    "var numbers = [1, 2, 3, 4, 5, 6];\n",
    "var moreNumbers= [7, 8, 9, 10];\n",
    "numbers.push(...moreNumbers);\n",
    "console.log(numbers); // Output would be[1, 2, 3, 4, 5, 6, 7, 8, 9, 10]"
   ]
  },
  {
   "cell_type": "markdown",
   "metadata": {},
   "source": [
    "\n",
    "Make your own array using the unshift() method and the spread operator.\n",
    "\n",
    "But what if we wanted to add an item in between two items? One way to do this in JavaScript is by using the splice() method.\n"
   ]
  },
  {
   "cell_type": "code",
   "execution_count": null,
   "metadata": {
    "vscode": {
     "languageId": "javascript"
    }
   },
   "outputs": [],
   "source": [
    "numbers.splice(0, 0, 5)"
   ]
  },
  {
   "cell_type": "markdown",
   "metadata": {},
   "source": [
    "\n",
    "This method has 3 parameters: the index where the computer should insert the item, the number of items to remove, and the item to insert. In the above example, the index of the number is 0, the amount of items removed is 0, so the code will insert the number 5 in the first position and shifter all of the other items up by one index.\n",
    "\n",
    "<div class=\"glowing-text\">\n",
    "Removing an Item\n",
    "</div>\n",
    "\n",
    "We now know how to add an item to the array wherever we want, now we need to know how to delete an item. In JavaScript, one way to remove items is again with the splice() method. If you remember, the second parameter to splice() specifies the number of items to remove, so by specifing a non-zero number and not providing a third parameter, we can remove an item.\n"
   ]
  },
  {
   "cell_type": "code",
   "execution_count": null,
   "metadata": {
    "vscode": {
     "languageId": "javascript"
    }
   },
   "outputs": [],
   "source": [
    "numbers.splice(4,1);"
   ]
  },
  {
   "cell_type": "markdown",
   "metadata": {},
   "source": [
    "\n",
    "That line of code specifies an index of 4 and a number to remove of 1, so that the computer will remove one number at index 4, so in the numbers list, number 21 is in the index 4 position and will be removed.\n",
    "\n",
    "A method to remove just the first element would be the shift() method and just the last element would be the pop() method.\n"
   ]
  },
  {
   "cell_type": "code",
   "execution_count": null,
   "metadata": {
    "vscode": {
     "languageId": "javascript"
    }
   },
   "outputs": [],
   "source": [
    "numbers.pop(); \n",
    "numbers.shift(); "
   ]
  },
  {
   "cell_type": "markdown",
   "metadata": {},
   "source": [
    "<div class=\"glowing-text\">\n",
    "Iteration over arrays with loops\n",
    "</div>\n",
    "\n",
    "Arrays are used to store sequences of related data. We often want to perform the same operation on every element in an array. In JavaScript, you can do this by iterating over the array with a loop.\n",
    "\n",
    "Here is an example using a for loop:\n",
    "\n"
   ]
  },
  {
   "cell_type": "code",
   "execution_count": null,
   "metadata": {
    "vscode": {
     "languageId": "javascript"
    }
   },
   "outputs": [],
   "source": [
    "var numbers = [1, 2, 3, 4, 5]; // Define an array of numbers\n",
    "var squares = []; // Create an empty array to store the squares\n",
    "\n",
    "// Use a for loop to iterate through the numbers\n",
    "for (var i = 0; i < numbers.length; i++) {\n",
    "    var square = numbers[i] * numbers[i]; // Calculate the square of each number\n",
    "    squares.push(square); // Add the square to the squares array\n",
    "}\n",
    "\n",
    "// Display the result\n",
    "console.log(squares); // Output would be [1, 4, 9, 16, 25]\n"
   ]
  },
  {
   "cell_type": "markdown",
   "metadata": {},
   "source": [
    "\n",
    "\n",
    "Lets explain further:\n",
    "var i = 0: This initializes the loop counter variable i to equal 0. This starts the loop at the first element of the array.\n",
    "\n",
    "i < numbers.length: \"i\" is the loop counter variable that starts at zero and is incremented with each repetition of the loop. \"numbers\" is the array that contains elements. \".length\" returns the total number of elements in the numbers array (in this case, there are 5 elements). When i = 0, 0 < 5, which is true, the loop runs. This repeats, with i equaling 1, 2, 3, and 4. When i = 5, 5 < 5, which is not true, therefore the loop stops.\n",
    "\n",
    "i++: \"i\" is the counter loop variable that starts at zero, and \"++\" is a shorthand notation that adds one on every repetition. Without this, \"i\" would always equal 0.\n",
    "\n",
    "<div class=\"glowing-text\">\n",
    "Iteration with Computation\n",
    "</div>\n",
    "\n",
    "Instead of just displaying the elements in the array, we can also compute new values based on all of the values in the array. For example, this code computes the total cost based on the array of individual prices.\n",
    "\n"
   ]
  },
  {
   "cell_type": "code",
   "execution_count": null,
   "metadata": {
    "vscode": {
     "languageId": "javascript"
    }
   },
   "outputs": [],
   "source": [
    "var totalCost = 0;\n",
    "var prices = [1.20, 4.40, 6.31, 9.30];\n",
    "for (var i = 0; i < prices.length; i++) {\n",
    "   totalCost += prices[i];\n",
    "}\n",
    "console.log(totalCost); // Output would be [21.21]"
   ]
  },
  {
   "cell_type": "markdown",
   "metadata": {},
   "source": [
    "\n",
    "We can make it more complicated by using conditionals inside the loop to compute values based on whether or not they meet a requirement. This code computes the number of names with more than 4 letters.\n"
   ]
  },
  {
   "cell_type": "code",
   "execution_count": null,
   "metadata": {
    "vscode": {
     "languageId": "javascript"
    }
   },
   "outputs": [],
   "source": [
    "var longNamesCount = 0;\n",
    "var names = ['Noah', 'James', 'Zafeer', 'Luke', 'John', 'Travis', 'Alex'];\n",
    "for (var i = 0; i < names.length; i++) {\n",
    "   if (names[i].length > 4) {\n",
    "      longNamesCount++;\n",
    "   }\n",
    "}\n",
    "console.log(longNameCount); // Output would be [3]"
   ]
  },
  {
   "cell_type": "markdown",
   "metadata": {},
   "source": [
    "\n",
    "Popcorn Hack #3: Instead of manually iterating through an array and counting every \"long name,\" you can use the filter() method.\n",
    "For example:\n"
   ]
  },
  {
   "cell_type": "code",
   "execution_count": null,
   "metadata": {
    "vscode": {
     "languageId": "javascript"
    }
   },
   "outputs": [],
   "source": [
    "var names = ['Noah', 'James', 'Zafeer', 'Luke', 'John', 'Travis', 'Alex'];\n",
    "var longNameCount = names.filter(name => name.length > 4).length; \n",
    "console.log(longNameCount); // Output would be [3]"
   ]
  },
  {
   "cell_type": "markdown",
   "metadata": {},
   "source": [
    "\n",
    "Make your own array using the filter() method"
   ]
  },
  {
   "cell_type": "markdown",
   "metadata": {},
   "source": [
    "<div class=\"glowing-text\">\n",
    "Key Points:\n",
    "</div>\n",
    "\n",
    "Variables and Arrays:\n",
    "- Variables allow us to store and name data, which can be single pieces of information or collections like lists (arrays)\n",
    "- In JavaScript, lists are called arrays and are initialized using square brackets\n",
    "\n",
    "Accessing and Modifying Arrays:\n",
    "- Each item in an array has an index, starting at 0\n",
    "- We can update specific items in a array using bracket notation\n",
    "\n",
    "Iteration:\n",
    "- Loops enable us to repeatedly perform the same operation on every element in a array, which is vital for scalability\n",
    "- A for loop enables us to perform the same operation on every element in a array\n",
    "- A for loop can also be used to display all items in a array, iterating through each index without needing to write separate lines for each item\n",
    "\n",
    "List Operations:\n",
    "- We can change items in the beginning and end of an array using push(), shift(), unshift(), and pop()\n",
    "- The splice() method allows us to insert items at a specific index in the array, and shift exsisting items as needed\n",
    "- The splice() method also allows us to remove items, by specifying the index and number of items to remove\n",
    "\n",
    "Advanced Iteration:\n",
    "- Loops can be used to compute totals or compile a separate list based on conditions\n",
    "\n",
    "<div class=\"glowing-text\">\n",
    "Hacks\n",
    "</div>\n",
    "\n",
    "Now go onto the Javascript hacks, and complete the hacks for homework. \n"
   ]
  }
 ],
 "metadata": {
  "kernelspec": {
   "display_name": "Python 3",
   "language": "python",
   "name": "python3"
  },
  "language_info": {
   "codemirror_mode": {
    "name": "ipython",
    "version": 3
   },
   "file_extension": ".py",
   "mimetype": "text/x-python",
   "name": "python",
   "nbconvert_exporter": "python",
   "pygments_lexer": "ipython3",
   "version": "3.11.9"
  }
 },
 "nbformat": 4,
 "nbformat_minor": 2
}
