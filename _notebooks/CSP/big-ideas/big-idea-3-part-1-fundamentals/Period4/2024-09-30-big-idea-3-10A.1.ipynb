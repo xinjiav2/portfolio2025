{
 "cells": [
  {
   "cell_type": "raw",
   "metadata": {
    "vscode": {
     "languageId": "html"
    }
   },
   "source": [
    "---\n",
    "layout: post\n",
    "title: 3.10.1 List Operations and Append\n",
    "categories: [Collaboration]\n",
    "permalink: /csp/big-idea/p4/3-1\n",
    "courses: { csp: {week: 5} }\n",
    "type: collab\n",
    "comments: true\n",
    "permalink: /csp/big-idea/p4/3-10A-1\n",
    "author: Rowan, Hannah, Gaheera, Rhea\n",
    "menu: nav/csp_units/csp_unit3_p4_fundamentals.html\n",
    "---"
   ]
  },
  {
   "cell_type": "markdown",
   "metadata": {},
   "source": [
    "\n",
    "<br>\n",
    "<h2>List</h2>\n",
    "<li>A list is like a container that can hold multiple elements. Each element is identified by its position or index.</li>\n",
    "<br>\n",
    "<style>\n",
    "    h1 {\n",
    "        color: #ff69b4;\n",
    "        padding-left: 10px;\n",
    "    }\n",
    "    h2 {\n",
    "        color: #ff69b4;\n",
    "        padding-left: 10px;\n",
    "    }\n",
    "    div {\n",
    "        background-color: #ffb6c1;\n",
    "        border-radius: 10px;\n",
    "    }\n",
    "    li {\n",
    "        color: #ff69b4;\n",
    "        padding-left: 30px;\n",
    "        font-size: 18px;\n",
    "    }\n",
    "</style>\n"
   ]
  },
  {
   "cell_type": "markdown",
   "metadata": {
    "vscode": {
     "languageId": "html"
    }
   },
   "source": [
    "### List Operations:\n",
    "\n",
    "- `aList[i]`: Accesses the element of `aList` at index `i`.  \n",
    "  - An index is a numeric value representing the position of an element.  \n",
    "  - Example: The first element of `aList` is at index `0`, represented by `aList[0]`.\n",
    "\n",
    "- `x <- aList[i]`:\n",
    "  - Assigns the value of `aList[i]` to variable `x`.\n",
    "\n",
    "- `aList[i] <- x`: \n",
    "  - Assigns the value of `x` to `aList[i]`.\n",
    "\n",
    "- `aList[i] <- aList[j]`: \n",
    "  - Assigns the value of `aList[j]` to `aList[i]`.\n",
    "\n",
    "- `INSERT(aList, i, value)`:  \n",
    "  - Inserts `value` into `aList` at index `i`.  \n",
    "  - `aList` is the list, `i` is the index, and `value` is the element to insert.\n",
    "\n",
    "- `APPEND(aList, value)`:  \n",
    "  - Adds `value` to the end of `aList`.\n",
    "\n",
    "- `REMOVE(aList, i)`:  \n",
    "  - Removes the element at index `i` from `aList`.\n",
    "\n",
    "- `LENGTH(aList)`:  \n",
    "  - Returns the number of elements in `aList`.\n",
    "\n",
    "- `FOR EACH item IN aList { ... }`:  \n",
    "  - Iterates over each element (`item`) in `aList` from the first to the last.  \n",
    "  - The code inside the loop is executed once for each `item`.\n",
    "\n"
   ]
  },
  {
   "cell_type": "markdown",
   "metadata": {
    "vscode": {
     "languageId": "html"
    }
   },
   "source": [
    "\n",
    "<br>\n",
    "<h2>Append</h2>\n",
    "<li>To add an element at the end of the list</li>\n",
    "<br>\n",
    "<style>\n",
    "    h1 {\n",
    "        color: #ff69b4;\n",
    "        padding-left: 10px;\n",
    "    }\n",
    "    h2 {\n",
    "        color: #ff69b4;\n",
    "        padding-left: 10px;\n",
    "    }\n",
    "    div {\n",
    "        background-color: #ffb6c1;\n",
    "        border-radius: 10px;\n",
    "    }\n",
    "    li {\n",
    "        color: #ff69b4;\n",
    "        padding-left: 30px;\n",
    "        font-size: 18px;\n",
    "    }\n",
    "</style>\n"
   ]
  },
  {
   "cell_type": "code",
   "execution_count": null,
   "metadata": {},
   "outputs": [],
   "source": [
    "aList ← []\n",
    "\n",
    "USER_INPUT ← (\"Enter an item you want (or 'q' to quit): \")\n",
    "\n",
    "REPEAT UNTIL USER_INPUT ← q{\n",
    "    APPEND (aList, USER_INPUT)\n",
    "}\n",
    "\n",
    "DISPLAY(aList)"
   ]
  },
  {
   "cell_type": "markdown",
   "metadata": {},
   "source": [
    "### Popcorn Hack:\n",
    "\n",
    "- Use `a_list.append(user_input)` to append each item.\n",
    "- Use a `for` loop to print out each item in the list at the end.\n",
    "\n",
    "## Exercise: Build a Shopping List with JavaScript\n",
    "\n",
    "In this exercise, you will create a simple shopping list application that allows users to add items to a list and display them at the end.\n",
    "\n",
    "### Instructions:\n",
    "\n",
    "1. **Set up the array:**\n",
    "   - Create an empty array `aList` that will store the shopping list items.\n",
    "   \n",
    "2. **User input:**\n",
    "   - Use `prompt()` to ask the user to enter an item to add to the shopping list.\n",
    "   - Continue prompting the user until they type `'q'` to quit.\n",
    "\n",
    "3. **Append items to the list:**\n",
    "   - Use the `push()` method to append each item the user enters into the `aList` array.\n",
    "\n",
    "4. **Display the list:**\n",
    "   - After each item is added, print the current shopping list to the console using `console.log()`.\n",
    "   \n",
    "5. **Final display:**\n",
    "   - Once the user quits by typing `'q'`, display the entire shopping list.\n",
    "   - Use a `for` loop to iterate over the array and print each item to the console.\n",
    "\n",
    "### Starter Code"
   ]
  },
  {
   "cell_type": "code",
   "execution_count": null,
   "metadata": {
    "vscode": {
     "languageId": "javascript"
    }
   },
   "outputs": [],
   "source": [
    "%%js\n",
    "function shoppingList() {\n",
    "    // Create an empty array to store items\n",
    "    let aList = [];\n",
    "    let userInput;\n",
    "\n",
    "    while (true) {\n",
    "        userInput = prompt(\"Enter an item to add to the shopping list (or 'q' to quit):\");\n",
    "\n",
    "        if (userInput === 'q') {\n",
    "            break;\n",
    "        }\n",
    "\n",
    "        // TODO: Use the push method to append the user's input to the array\n",
    "        // aList.push(userInput);\n",
    "\n",
    "        // TODO: Display the current list after each append operation\n",
    "        // console.log(\"Current shopping list: \", aList);\n",
    "    }\n",
    "\n",
    "    // Final display of the shopping list\n",
    "    console.log(\"Your final shopping list is:\");\n",
    "    // TODO: Use a for loop to display all items in the list\n",
    "    // for (let i = 0; i < aList.length; i++) {\n",
    "    //     console.log(aList[i]);\n",
    "    // }\n",
    "}\n",
    "\n",
    "shoppingList();"
   ]
  },
  {
   "cell_type": "markdown",
   "metadata": {},
   "source": [
    "### Python Example:"
   ]
  },
  {
   "cell_type": "code",
   "execution_count": null,
   "metadata": {},
   "outputs": [],
   "source": [
    "def shopping_list():\n",
    "    # Create an empty list to store items\n",
    "    a_list = []\n",
    "\n",
    "    while True:\n",
    "        user_input = input(\"Enter an item you want to add to the shopping list (or 'q' to quit): \")\n",
    "\n",
    "        if user_input == 'q':\n",
    "            break\n",
    "\n",
    "        # TODO: Use the append operation to add the user input to the list\n",
    "\n",
    "        # TODO: Print the current list after each append operation\n",
    "    \n",
    "    # Final display of the shopping list\n",
    "    print(\"Your final shopping list is:\")\n",
    "    # TODO: Use a loop to display all the items in the list\n",
    "\n",
    "shopping_list()\n"
   ]
  },
  {
   "cell_type": "markdown",
   "metadata": {},
   "source": [
    "### Java Example: \n"
   ]
  },
  {
   "cell_type": "code",
   "execution_count": null,
   "metadata": {
    "vscode": {
     "languageId": "javascript"
    }
   },
   "outputs": [],
   "source": [
    "%%js \n",
    "// JavaScript Example: List Operations and Append\n",
    "\n",
    "function shoppingList() {\n",
    "    // Create an empty array to store items\n",
    "    let aList = [];\n",
    "    let userInput;\n",
    "\n",
    "    while (true) {\n",
    "        userInput = prompt(\"Enter an item to add to the shopping list (or 'q' to quit):\");\n",
    "\n",
    "        if (userInput === 'q') {\n",
    "            break;\n",
    "        }\n",
    "\n",
    "        // TODO: Use the push method to append the user's input to the array\n",
    "        // aList.push(userInput);\n",
    "\n",
    "        // TODO: Display the current list after each append operation\n",
    "        // console.log(\"Current shopping list: \", aList);\n",
    "    }\n",
    "\n",
    "    // Final display of the shopping list\n",
    "    console.log(\"Your final shopping list is:\");\n",
    "    // TODO: Use a for loop to display all items in the list\n",
    "    // for (let i = 0; i < aList.length; i++) {\n",
    "    //     console.log(aList[i]);\n",
    "    // }\n",
    "}\n",
    "\n",
    "shoppingList();\n"
   ]
  }
 ],
 "metadata": {
  "language_info": {
   "name": "python"
  }
 },
 "nbformat": 4,
 "nbformat_minor": 2
}
