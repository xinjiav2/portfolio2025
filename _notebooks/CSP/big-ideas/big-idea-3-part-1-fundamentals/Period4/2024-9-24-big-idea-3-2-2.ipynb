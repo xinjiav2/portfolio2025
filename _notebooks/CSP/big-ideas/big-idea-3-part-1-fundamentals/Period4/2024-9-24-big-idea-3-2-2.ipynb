{
 "cells": [
  {
   "cell_type": "raw",
   "metadata": {
    "vscode": {
     "languageId": "raw"
    }
   },
   "source": [
    "---\n",
    "toc: false\n",
    "comments: true\n",
    "layout: post\n",
    "title: 3.2 Lesson Period 4 - Float Data Abstraction\n",
    "permalink: /csp/big-idea/p4/3-2-2\n",
    "categories: [CSP Big Ideas]\n",
    "author: Ian, Collin, Aarush, Thomas\n",
    "menu: nav/csp_units/csp_unit3_p4_fundamentals.html\n",
    "---"
   ]
  },
  {
   "cell_type": "markdown",
   "metadata": {
    "vscode": {
     "languageId": "plaintext"
    }
   },
   "source": [
    "<style>\n",
    "  h1 {\n",
    "    animation: glow 1s ease-in-out infinite alternate;\n",
    "    font-size: 3em; /* Increased font size */\n",
    "  }\n",
    "</style>\n",
    "\n",
    "<h1>\n",
    "  Floating - 3.2.2\n",
    "</h1>\n",
    "\n",
    "<style>\n",
    "@keyframes glow {\n",
    "  from {\n",
    "    text-shadow: 0 0 5px #fff, 0 0 10px #00f, 0 0 15px #00f, 0 0 20px #00f; /* Changed color to blue (#00f) */\n",
    "  }\n",
    "  to {\n",
    "    text-shadow: 0 0 20px #00f, 0 0 30px #00f, 0 0 40px #00f, 0 0 50px #00f; /* Changed color to blue (#00f) */\n",
    "  }\n",
    "}\n",
    "</style>\n",
    "\n",
    "\n",
    "A floating-point number (or simply \"float\") in Python is a data type used to represent real numbers that have a decimal point. Floats can represent numbers with a fractional part, making them useful for more precise calculations than integers. Python uses double precision to store floating-point numbers, which means they are accurate to about 15 decimal places.\n",
    "\n"
   ]
  },
  {
   "cell_type": "markdown",
   "metadata": {},
   "source": [
    "## Purpose\n",
    "\n",
    "- Represent numbers with a decimal point (e.g., 3.14, -0.001, 2.0).\n",
    "- Used for calculations requiring fractional values or more precision than integers.\n",
    "- Support arithmetic operations similar to integers but with decimal precision.\n",
    "- Useful for scientific calculations, statistics, and data analysis.\n",
    "- Can represent very large or very small numbers using scientific notation (e.g., `1.2e10`).\n",
    "- Important in division operations, where the result might not be a whole number.\n"
   ]
  },
  {
   "cell_type": "markdown",
   "metadata": {},
   "source": [
    "![Alt text](https://i.ytimg.com/vi/eDq8cLtvlP8/maxresdefault.jpg)\n"
   ]
  },
  {
   "cell_type": "markdown",
   "metadata": {},
   "source": [
    "# Example"
   ]
  },
  {
   "cell_type": "code",
   "execution_count": 1,
   "metadata": {},
   "outputs": [
    {
     "name": "stdout",
     "output_type": "stream",
     "text": [
      "Sum: 7.359999999999999\n",
      "Product: -32.97\n",
      "Square root of z: 4.0\n"
     ]
    }
   ],
   "source": [
    "# Defining floating-point numbers\n",
    "x = 10.5\n",
    "y = -3.14\n",
    "\n",
    "# Performing arithmetic operations with floats\n",
    "sum_of_floats = x + y\n",
    "product_of_floats = x * y\n",
    "\n",
    "print(\"Sum:\", sum_of_floats)  # Output: 7.36\n",
    "print(\"Product:\", product_of_floats)  # Output: -32.97\n",
    "\n",
    "# Using floats in mathematical functions\n",
    "import math\n",
    "\n",
    "z = 16.0\n",
    "print(\"Square root of z:\", math.sqrt(z))  # Output: 4.0\n"
   ]
  },
  {
   "cell_type": "markdown",
   "metadata": {},
   "source": [
    "# Javascript Version"
   ]
  },
  {
   "cell_type": "code",
   "execution_count": null,
   "metadata": {
    "vscode": {
     "languageId": "javascript"
    }
   },
   "outputs": [],
   "source": [
    "// Defining floating-point numbers\n",
    "let x = 10.5;\n",
    "let y = -3.14;\n",
    "\n",
    "// Performing arithmetic operations with floats\n",
    "let sumOfFloats = x + y;\n",
    "let productOfFloats = x * y;\n",
    "\n",
    "console.log(\"Sum:\", sumOfFloats);  // Output: 7.36\n",
    "console.log(\"Product:\", productOfFloats);  // Output: -32.97\n",
    "\n",
    "// Using floats in mathematical functions\n",
    "let z = 16.0;\n",
    "console.log(\"Square root of z:\", Math.sqrt(z));  // Output: 4.0\n"
   ]
  },
  {
   "cell_type": "code",
   "execution_count": null,
   "metadata": {
    "vscode": {
     "languageId": "javascript"
    }
   },
   "outputs": [],
   "source": []
  }
 ],
 "metadata": {
  "kernelspec": {
   "display_name": "venv",
   "language": "python",
   "name": "python3"
  },
  "language_info": {
   "codemirror_mode": {
    "name": "ipython",
    "version": 3
   },
   "file_extension": ".py",
   "mimetype": "text/x-python",
   "name": "python",
   "nbconvert_exporter": "python",
   "pygments_lexer": "ipython3",
   "version": "3.12.6"
  }
 },
 "nbformat": 4,
 "nbformat_minor": 2
}
