{
 "cells": [
  {
   "cell_type": "raw",
   "metadata": {
    "vscode": {
     "languageId": "raw"
    }
   },
   "source": [
    "---\n",
    "toc: false\n",
    "comments: true\n",
    "layout: post\n",
    "title: 3.3 Javascript Mathematical Hacks\n",
    "description: Student led teaching on  Mathematical Expressions. Learn how mathematical expressions involve using arithmetic operators (like addition, subtraction, multiplication, and division) to perform calculations\n",
    "permalink: /csp/big-idea/p4/3-3-4\n",
    "author: Anvay, Pranav, Kiruthic, Rayhaan, Yuva\n",
    "menu: nav/csp_units/csp_unit3_p4_fundamentals.html\n",
    "---"
   ]
  },
  {
   "cell_type": "markdown",
   "metadata": {},
   "source": [
    "# Popcorn Hacks\n",
    "\n",
    "1. Easy\n",
    "    - Create a function that uses **4** of the 5 basic arithmetic operations and returns the number 32 as the answer.\n",
    "\n",
    "2. Medium\n",
    "    - Make a function that lets you make a sandwich. Ask for different ingredients and at the end give the sandwich a name.\n",
    "\n",
    "3. Hard\n",
    "    - Create a \"choose-your-own-path\" type of game. There should be 2-3 different storylines the user can choose from (Ex: You see a fight at school. Do you break it up or mind your own buiness.)\n",
    "    - BONUS: draw a flowchart for your code."
   ]
  },
  {
   "cell_type": "markdown",
   "metadata": {},
   "source": [
    "# Example Hack 1 (Function for Basic Arithmetic Operations)"
   ]
  },
  {
   "cell_type": "code",
   "execution_count": null,
   "metadata": {
    "vscode": {
     "languageId": "javascript"
    }
   },
   "outputs": [],
   "source": [
    "%%javascript\n",
    "\n",
    "function basicOperations(a, b) {\n",
    "    let sum = a + b;\n",
    "    let difference = a - b;\n",
    "    let product = a * b;\n",
    "    let quotient = a / b;\n",
    "    let remainder = a % b;\n",
    "\n",
    "    console.log(`Addition: ${a} + ${b} = ${sum}`);\n",
    "    console.log(`Subtraction: ${a} - ${b} = ${difference}`);\n",
    "    console.log(`Multiplication: ${a} * ${b} = ${product}`);\n",
    "    console.log(`Division: ${a} / ${b} = ${quotient}`);\n",
    "    console.log(`Modulus: ${a} % ${b} = ${remainder}`);\n",
    "}\n",
    "\n",
    "basicOperations(10, 5);"
   ]
  },
  {
   "cell_type": "markdown",
   "metadata": {},
   "source": [
    "# Example Hack 2 (Fibbonaci Sequence)"
   ]
  },
  {
   "cell_type": "code",
   "execution_count": null,
   "metadata": {
    "vscode": {
     "languageId": "javascript"
    }
   },
   "outputs": [],
   "source": [
    "function fibonacci(n) {\n",
    "    if (n === 0) return 0;\n",
    "    if (n === 1) return 1;\n",
    "    \n",
    "    let a = 0;\n",
    "    let b = 1;\n",
    "    let next;\n",
    "\n",
    "    for (let i = 2; i <= n; i++) {\n",
    "        next = a + b;\n",
    "        a = b;\n",
    "        b = next;\n",
    "    }\n",
    "    return b;\n",
    "}\n",
    "\n",
    "let n = 7; // Find the 7th Fibonacci number\n",
    "console.log(`The ${n}th Fibonacci number is: ${fibonacci(n)}`);\n"
   ]
  },
  {
   "cell_type": "markdown",
   "metadata": {},
   "source": [
    "# Homework Hacks\n",
    "\n",
    "After learning about Mathmatical Expressions and Operations in JavaScript, you should be able to complete the hacks listed below...\n",
    "\n",
    "1. Write a function that takes two variables a and b. The function should: \n",
    "- Compute the Greatest Common Divisor (GCD) of a and b.\n",
    "- Compute the Least Common Multiple (LCM) of a and b.\n",
    "- Return both results as an object.\n",
    "\n",
    "2. Write a function that takes a positive integer n and returns an array of its prime factors. Prime factors are the prime numbers that divide n exactly, without leaving a remainder. If n is a prime number, the array should simply contain n."
   ]
  }
 ],
 "metadata": {
  "language_info": {
   "name": "python"
  }
 },
 "nbformat": 4,
 "nbformat_minor": 2
}
