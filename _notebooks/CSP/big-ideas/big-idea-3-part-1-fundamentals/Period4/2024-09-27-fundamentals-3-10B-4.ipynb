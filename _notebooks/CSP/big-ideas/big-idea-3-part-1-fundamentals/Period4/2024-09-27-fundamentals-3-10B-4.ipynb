{
 "cells": [
  {
   "cell_type": "raw",
   "metadata": {
    "vscode": {
     "languageId": "raw"
    }
   },
   "source": [
    "---\n",
    "toc: false\n",
    "comments: true\n",
    "layout: post\n",
    "title: 3.10.4 JavaScript Hacks - Period 4\n",
    "description: This is student-led teaching on lists! Here you'll learn how to manipulate individual elements or items in a list using indexing.\n",
    "categories: [CSP Big Ideas]\n",
    "author: Noah Harris (Period 4)\n",
    "menu: nav/csp_units/csp_unit3_p5_fundamentals.html\n",
    "permalink: /csp/big-idea/p4/3-10B-4\n",
    "---"
   ]
  },
  {
   "cell_type": "markdown",
   "metadata": {
    "vscode": {
     "languageId": "javascript"
    }
   },
   "source": [
    "# Setup\n",
    "- Open up a markdown file in your personal repo, and add it to your blogs as \"Javascript Hacks - Lesson 3.10\"\n",
    "\n",
    "- To start off, create a < script > tag at the beginning and a </ script > in order to start using Javascript \n",
    "\n",
    "- In order to see your \"console.log\", right click the page, click \"inspect\" and click on console. This will allow you to work with javascript and complete your homework. \n"
   ]
  },
  {
   "cell_type": "markdown",
   "metadata": {
    "vscode": {
     "languageId": "raw"
    }
   },
   "source": [
    "## JavaScript Homework\n",
    "\n",
    "Problem #1: Basic Array Creation\n",
    "\n",
    "Create an array in JavaScript with at least 5 values. Then, use console.log() to display the array.\n",
    "\n",
    "Bonus:\n",
    "\n",
    "Use the reverse() popcorn hack to reverse your array\n",
    "\n",
    "Problem #2: Accessing Elements\n",
    "\n",
    "Given the array sports = [\"soccer\", \"football\", \"basketball\", \"wrestling\", \"swimming\"], write code that will display the values \"soccer\" and \"wrestling\" using their indexes. Use console.log() to show the output.\n",
    "\n",
    "Problem #3: Adding and Removing Items\n",
    "\n",
    "Create an array called choresList initialized with four items of your choice. Write code using push(), shift(), pop(), and unshift() to change the list. Use console.log() to display the output each time you change the list.\n",
    "\n",
    "Bonus:\n",
    "\n",
    "Use the push() and spread operator popcorn hack to add multiple values to your choresList at once\n",
    "\n",
    "Problem #4: Iteration and Conditionals\n",
    "\n",
    "Create an array that contains ten random numbers (both even and odd). Write a function that iterates through the entire array and counts how many times an even number appears in the list. Return the count and display the output using console.log().\n",
    "\n",
    "When you're done, submit/show a picture of your console.log. \n"
   ]
  },
  {
   "cell_type": "markdown",
   "metadata": {},
   "source": [
    "# Homework scaling\n",
    "\n",
    "0 = .00 work, but faking understanding/accomplishment\n",
    "\n",
    "1 = .55 incomplete assignment, big gaps\n",
    "\n",
    "2 = .75 meeting some objectives, multiple little gaps\n",
    "\n",
    "3 = .85 meeting most objectives, one little gap\n",
    "\n",
    "4 = .90 meeting all objectives\n",
    "\n",
    "4+= .95 Utilizes all the popcorn hacks, and comples the Bonus effectively"
   ]
  },
  {
   "cell_type": "markdown",
   "metadata": {},
   "source": [
    "<script src=\"https://utteranc.es/client.js\"\n",
    "        repo=\"nighthawkcoders/portfolio_2025\"\n",
    "        issue-term=\"title\"\n",
    "        label=\"blogpost-comment\"\n",
    "        theme=\"github-light\"\n",
    "        crossorigin=\"anonymous\"\n",
    "        async>\n",
    "</script>\n"
   ]
  },
  {
   "cell_type": "markdown",
   "metadata": {},
   "source": [
    "<script src=\"https://utteranc.es/client.js\"\n",
    "        repo=\"nighthawkcoders/portfolio_2025\"\n",
    "        issue-term=\"title\"\n",
    "        label=\"blogpost-comment\"\n",
    "        theme=\"github-light\"\n",
    "        crossorigin=\"anonymous\"\n",
    "        async>\n",
    "</script>"
   ]
  }
 ],
 "metadata": {
  "kernelspec": {
   "display_name": "Python 3",
   "language": "python",
   "name": "python3"
  },
  "language_info": {
   "codemirror_mode": {
    "name": "ipython",
    "version": 3
   },
   "file_extension": ".py",
   "mimetype": "text/x-python",
   "name": "python",
   "nbconvert_exporter": "python",
   "pygments_lexer": "ipython3",
   "version": "3.11.9"
  }
 },
 "nbformat": 4,
 "nbformat_minor": 2
}
