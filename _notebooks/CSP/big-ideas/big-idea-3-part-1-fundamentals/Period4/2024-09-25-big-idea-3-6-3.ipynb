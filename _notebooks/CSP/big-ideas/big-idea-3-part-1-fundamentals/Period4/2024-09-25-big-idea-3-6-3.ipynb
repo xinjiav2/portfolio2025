{
 "cells": [
  {
   "cell_type": "raw",
   "metadata": {
    "vscode": {
     "languageId": "raw"
    }
   },
   "source": [
    "---\n",
    "comments: true\n",
    "layout: post\n",
    "title: CSP Period 4 Unit 3.6.4 Conditionals in Python Hacks\n",
    "description: In this lesson, students will practice using if-else statements in Python through a series of hands-on exercises. They will solve problems that require them to make decisions in their code based on different conditions. These exercises will cover checking conditions with if, handling multiple outcomes with elif, and providing fallback options with else. Students will also practice combining conditions using and, or, and not to create more complex decision-making programs. By the end of the lesson, students will be more confident in using conditionals to solve real-world problems. \n",
    "categories: [Python]\n",
    "permalink: /csp/big-idea/p4/3-6-3\n",
    "type: ccc\n",
    "author: Risha Guha, Vibha Mandayam, Ava Shalon\n",
    "menu: nav/csp_units/csp_unit3_p4_fundamentals.html\n",
    "---"
   ]
  },
  {
   "cell_type": "markdown",
   "metadata": {},
   "source": [
    "<h2><span style=\"font-family: Ariel; color:#ffa994\">Hack 1: Odd or Even Checker</span></h2>\n",
    "\n",
    "**Description:** This hack checks if a given number is odd or even.\n",
    "\n",
    "1. Define a function named `check_odd_even` that takes one parameter: `number`.\n",
    "2. Use an `if` statement to check if the number is divisible by 2.\n",
    "3. Return `\"Even\"` if true; otherwise, return `\"Odd\"`.\n",
    "\n",
    "\n",
    "Call the function with different numbers to test your work. "
   ]
  },
  {
   "cell_type": "markdown",
   "metadata": {},
   "source": [
    "<h2><span style=\"font-family: Ariel; color:#ffa994\">Hack 2: Leap Year Checker</span></h2>\n",
    "\n",
    "**Description:** This hack determines if a given year is a leap year.\n",
    "\n",
    "1. Define a function named `is_leap_year` that takes one parameter: `year`.\n",
    "2. Use an `if` statement to check if the year is divisible by 4 but not by 100, or divisible by 400.\n",
    "3. Return `\"Leap Year\"` if true; otherwise, return `\"Not a Leap Year\"`.\n",
    "\n",
    "Call the function with different years to test your work. "
   ]
  },
  {
   "cell_type": "markdown",
   "metadata": {},
   "source": [
    "<h2><span style=\"font-family: Ariel; color:#ffa994\">Hack 3: Temperature Range Checker</span></h2>\n",
    "\n",
    "**Description:** This hack checks if a given temperature is considered cold, warm, or hot.\n",
    "\n",
    "1. Define a function named `temperature_range` that takes one parameter: `temperature`.\n",
    "2. Use `if...elif...else` statements to categorize the temperature:\n",
    "   - Return `\"Cold\"` for temperatures below 60°F.\n",
    "   - Return `\"Warm\"` for temperatures between 60°F and 80°F.\n",
    "   - Return `\"Hot\"` for temperatures above 85°F.\n",
    "\n",
    "Call the function with different temperature values to check your work. \n"
   ]
  }
 ],
 "metadata": {
  "language_info": {
   "name": "python"
  }
 },
 "nbformat": 4,
 "nbformat_minor": 2
}
