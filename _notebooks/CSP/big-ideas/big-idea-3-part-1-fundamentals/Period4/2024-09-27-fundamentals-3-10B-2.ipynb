{
 "cells": [
  {
   "cell_type": "raw",
   "metadata": {
    "vscode": {
     "languageId": "raw"
    }
   },
   "source": [
    "---\n",
    "toc: false\n",
    "comments: true\n",
    "layout: post\n",
    "title: 3.10.2 Python Lists - Period 4\n",
    "description: This is student-led teaching on lists\n",
    "categories: [CSP Big Ideas]\n",
    "author: Zafeer Ahmed (Period 4)\n",
    "menu: nav/csp_units/csp_unit3_p5_fundamentals.html\n",
    "permalink: /csp/big-idea/p4/3-10B-2\n",
    "---"
   ]
  },
  {
   "cell_type": "markdown",
   "metadata": {
    "vscode": {
     "languageId": "raw"
    }
   },
   "source": [
    "<style>\n",
    "    .glowing-text {\n",
    "        color: white;\n",
    "        text-shadow: 0 0 10px #055cd3, 0 0 20px #055cd3, 0 0 30px #055cd3;\n",
    "        font-size: 32px;\n",
    "    }\n",
    "</style>"
   ]
  },
  {
   "cell_type": "markdown",
   "metadata": {},
   "source": [
    "Here are all of the code snippets used in the lesson:"
   ]
  },
  {
   "cell_type": "code",
   "execution_count": null,
   "metadata": {},
   "outputs": [],
   "source": [
    "# Initialize an empty list\n",
    "aList = []\n",
    "\n",
    "# Assuming 'i' is defined, e.g., i = 0; before accessing\n",
    "i = 0  # Example definition\n",
    "\n",
    "# Accessing list values\n",
    "x = aList[i]  # Assigns value of aList[i] to variable x\n",
    "aList[i] = x  # This does nothing meaningful as x is being assigned back to the same index\n",
    "\n",
    "# Function to insert a value at a specific index\n",
    "value = 10  # Example value\n",
    "aList.insert(i, value)  # Inserts value at index i\n",
    "\n",
    "# Function to remove a value at a specific index\n",
    "aList.pop(i)  # Removes the element at index i\n",
    "\n",
    "# Function to get the length of the list\n",
    "print(len(aList))  # Returns the number of elements in aList\n",
    "\n",
    "# Function to append a value to the end of the list\n",
    "aList.append(value)  # Adds value to the end of aList\n",
    "\n",
    "# Using insert() to add an item at the beginning\n",
    "aList.insert(0, value)  # Adds value to the beginning of the list\n",
    "\n",
    "# Using pop() to remove the last item\n",
    "aList.pop()  # Removes the last item\n",
    "\n",
    "# Using pop(0) to remove the first item\n",
    "aList.pop(0)  # Removes the first item\n",
    "\n",
    "# Using remove() to remove the value \"value\"\n",
    "aList.remove(value)\n",
    "\n",
    "# Function that prints various types of data\n",
    "print(aList)  # This would output the values of aList\n"
   ]
  },
  {
   "cell_type": "markdown",
   "metadata": {},
   "source": [
    "Python lists are ordered collections that can hold different data types (numbers, strings, etc.), allowing the storage and manipulation of multiple values within a single variable. Lists are commonly used for iterating over data, transforming data, and creating complex structures like matrices.\n",
    "\n",
    "<div class=\"glowing-text\">\n",
    "Initializing a List\n",
    "</div>\n",
    "\n",
    "To start a list, we first store the list under a name. Initializing a list in Python is the same as JavaScript, where square brackets are used to store its values. However, defining a variable is not necessary.\n",
    "\n",
    "Here is an example:"
   ]
  },
  {
   "cell_type": "code",
   "execution_count": null,
   "metadata": {},
   "outputs": [],
   "source": [
    "testScores = []"
   ]
  },
  {
   "cell_type": "markdown",
   "metadata": {},
   "source": [
    "testScores is the name of the list and as there is no values inside the brackets, the list is empty. Here is an updated list with some numbers."
   ]
  },
  {
   "cell_type": "code",
   "execution_count": null,
   "metadata": {},
   "outputs": [],
   "source": [
    "testScores = [66, 94, 86, 72]"
   ]
  },
  {
   "cell_type": "markdown",
   "metadata": {},
   "source": [
    "Storing numbers in lists is the same as JavaScript, where each value in the list is separated by a comma. Storing strings in Python is also the same.\n",
    "\n",
    "Here is an example:"
   ]
  },
  {
   "cell_type": "code",
   "execution_count": null,
   "metadata": {},
   "outputs": [],
   "source": [
    "fruits = [\"banana\", \"apple\", \"strawberry\", \"watermelon\"]"
   ]
  },
  {
   "cell_type": "markdown",
   "metadata": {},
   "source": [
    "Each string is surrounded by quotation marks, with a comma after each string.\n",
    "\n",
    "<div class=\"glowing-text\">\n",
    "Accessing List Values\n",
    "</div>\n",
    "\n",
    "Just like in JavaScript, the computer assigns an index to each item in the list. Also,the first item in a list is at index 0, not index 1. So here are the indexes for the fruits list above:\n",
    "\n",
    "    0              1               2                  3      \n",
    "    \n",
    "\"banana\"        \"apple\"      \"strawberry\"        \"watermelon\" \n",
    "\n",
    "To reference an item in the array, use bracket notation:"
   ]
  },
  {
   "cell_type": "code",
   "execution_count": null,
   "metadata": {},
   "outputs": [],
   "source": [
    "firstFruit = fruits[0]; # this variable stores \"banana\"\n",
    "lastFruit = fruits[3]; # this variable stores \"watermelon\""
   ]
  },
  {
   "cell_type": "markdown",
   "metadata": {},
   "source": [
    "<div class=\"glowing-text\">\n",
    "Updating a List\n",
    "</div>\n",
    "\n",
    "To update an item in a list, we need to know its index. In Python, we use bracket notation to update a value. After adding that value, the index of the following values is shifted by 1. Let's add some more fruits to our list"
   ]
  },
  {
   "cell_type": "code",
   "execution_count": null,
   "metadata": {},
   "outputs": [],
   "source": [
    "fruits[1] = \"pear\" \n",
    "fruits[2] = \"pineapple\""
   ]
  },
  {
   "cell_type": "markdown",
   "metadata": {},
   "source": [
    "The fruits list now stores the values \"pear\", \"pineapple\", \"banana\", \"apple\", \"strawberry\", and \"watermelon\".\n",
    "\n",
    "<div class=\"glowing-text\">\n",
    "Appending List Items\n",
    "</div>\n",
    "\n",
    "This is where Python and JavaScript lists really differentiate. We can append an item to a list by calling the append() method. \n",
    "\n",
    "For example, from the previous testScores list, we can add more:"
   ]
  },
  {
   "cell_type": "code",
   "execution_count": null,
   "metadata": {},
   "outputs": [],
   "source": [
    "testScores.append(34)\n",
    "testScores.append(68)"
   ]
  },
  {
   "cell_type": "markdown",
   "metadata": {},
   "source": [
    "Now the list will store the values:\n",
    "66, 94, 86, 72, 34, 68\n",
    "\n",
    "In order to add an item at the beginning or between two values, we use the insert() method.\n",
    "\n",
    "Here is an example:"
   ]
  },
  {
   "cell_type": "code",
   "execution_count": null,
   "metadata": {},
   "outputs": [],
   "source": [
    "testScores.insert(0, 83)\n",
    "testScores.insert(4, 90)"
   ]
  },
  {
   "cell_type": "markdown",
   "metadata": {},
   "source": [
    "Now the list will store the values:\n",
    "83, 66, 94, 86, 90, 72, 34, 68\n",
    "\n",
    "As you can see, the number 83 is at the beginning of the list. If we look at the code snippet that made that happen, we see inside the parentheses the numbers 0, and 83. 83 is the value added, and 0 is the index the value is assigned to. We can see this with the code snippet that added 90 to our test scores at the index 4.\n",
    "\n",
    "Popcorn Hack #1: We can use the insert() method to add values at a certain index. Negative indexes count from the end of the list. \n",
    "\n",
    "Here is an example using the fruits list:"
   ]
  },
  {
   "cell_type": "code",
   "execution_count": null,
   "metadata": {},
   "outputs": [],
   "source": [
    "fruits.insert(-1, \"orange\") # This would add the value \"orange\" to the end of the list\n",
    "fruits.insert(-3, \"blackberry\") # This would add the value \"blackberry\" to the third from the last index"
   ]
  },
  {
   "cell_type": "markdown",
   "metadata": {},
   "source": [
    "Make your own list (with numbers or strings), and add values to it using the insert() method with negative indexes\n",
    "\n",
    "Popcorn Hack #2: We can use the extend() method to add two lists together.\n",
    "\n",
    "For example:"
   ]
  },
  {
   "cell_type": "code",
   "execution_count": null,
   "metadata": {},
   "outputs": [],
   "source": [
    "fruits = [\"apple\", \"banana\"]\n",
    "more_fruits = [\"strawberry\", \"cherry\"]\n",
    "\n",
    "# Using extend to add more_fruits to fruits\n",
    "fruits.extend(more_fruits)"
   ]
  },
  {
   "cell_type": "markdown",
   "metadata": {},
   "source": [
    "Make two lists and add them together using the extend() popcorn hack.\n",
    "\n",
    "<div class=\"glowing-text\">\n",
    "Removing an Item\n",
    "</div>\n",
    "\n",
    "In Python, to remove an item, we use the pop() method. Unlike in JavaScript, pop() is not only used to remove the last item of a list, but any item of the list. \n",
    "\n",
    "Here is an example:"
   ]
  },
  {
   "cell_type": "code",
   "execution_count": null,
   "metadata": {},
   "outputs": [],
   "source": [
    "testScores.pop(0)\n",
    "testScores.pop(3)\n",
    "testScores.pop()"
   ]
  },
  {
   "cell_type": "markdown",
   "metadata": {},
   "source": [
    "Here are three different codes snippets that remove values at different indexes. pop(0) removes the first (index 0) value, pop(3) removes the fourth (index 3) value, and pop() removes the last value.\n",
    "\n",
    "You can also remove items using their value by using the remove() method.\n",
    "\n",
    "Here is an example:"
   ]
  },
  {
   "cell_type": "code",
   "execution_count": null,
   "metadata": {},
   "outputs": [],
   "source": [
    "fruits = [\"apple\", \"banana\", \"cherry\"]\n",
    "fruits.remove(\"banana\")"
   ]
  },
  {
   "cell_type": "markdown",
   "metadata": {},
   "source": [
    "This removes the value \"banana\" from the list.\n",
    "\n",
    "Popcorn Hack #3: You can also remove items by using the del (short for delete) function. \n",
    "\n",
    "Here is an example:"
   ]
  },
  {
   "cell_type": "code",
   "execution_count": null,
   "metadata": {},
   "outputs": [],
   "source": [
    "fruits = [\"apple\", \"banana\", \"cherry\"]\n",
    "del fruits[1] "
   ]
  },
  {
   "cell_type": "markdown",
   "metadata": {},
   "source": [
    "The function \"del\" will delete the value at the index 1, which in this case, is \"banana\". The resulting list is \"apple\", \"cherry\".\n",
    "\n",
    "Create your own list, and remove three items from the list using three different methods.\n",
    "\n",
    "<div class=\"glowing-text\">\n",
    "Iteration over lists with loops\n",
    "</div>\n",
    "\n",
    "In Python, iterating over lists with loops allows us to access and manipulate each element in the list one at a time. There are a multitude of methods to iterate through lists, with the most common being for loops, like in JavaScript. Here is how it works:"
   ]
  },
  {
   "cell_type": "code",
   "execution_count": null,
   "metadata": {},
   "outputs": [],
   "source": [
    "fruits = [\"banana\", \"apple\", \"strawberry\"]\n",
    "\n",
    "for fruit in fruits:\n",
    "    print(fruit)\n"
   ]
  },
  {
   "cell_type": "markdown",
   "metadata": {},
   "source": [
    "This snippet of code tells us that there is a list named fruits, and that for every fruit in fruits, the computer will print that fruit. The output would be banana, apple, and strawberry."
   ]
  },
  {
   "cell_type": "markdown",
   "metadata": {},
   "source": [
    "<div class=\"glowing-text\">\n",
    "Iteration with Computation\n",
    "</div>\n",
    "\n",
    "Instead of just displaying the elements in the list, we can also compute new values based on all of the values in the list. For example, this code computes the total cost based on the list of individual prices."
   ]
  },
  {
   "cell_type": "code",
   "execution_count": null,
   "metadata": {},
   "outputs": [],
   "source": [
    "numbers = [1, 2, 3, 4, 5]\n",
    "total_sum = 0\n",
    "\n",
    "for number in numbers:\n",
    "    total_sum += number\n",
    "\n",
    "print(total_sum) # Output would be 15\n"
   ]
  },
  {
   "cell_type": "markdown",
   "metadata": {},
   "source": [
    "Similar to JavaScript, we can make it more complicated by using conditionals inside the loop to compute values based on whether or not they meet a requirement. This code computes the sum of only the even numbers."
   ]
  },
  {
   "cell_type": "code",
   "execution_count": null,
   "metadata": {},
   "outputs": [],
   "source": [
    "numbers = [1, 2, 3, 4, 5]\n",
    "even_sum = 0\n",
    "\n",
    "for number in numbers:\n",
    "    if number % 2 == 0:  # Checks if the number is even\n",
    "        even_sum += number\n",
    "\n",
    "print(even_sum) # Output would be 6 \n"
   ]
  },
  {
   "cell_type": "markdown",
   "metadata": {},
   "source": [
    "<div class=\"glowing-text\">\n",
    "Key Points\n",
    "</div>\n",
    "\n",
    "Initializing Lists:\n",
    "- Lists are initialized using square brackets\n",
    "\n",
    "Accessing and Modifying Lists:\n",
    "- Each item in a list has an index, starting at 0\n",
    "- We can update specific items in a list using bracket notation\n",
    "\n",
    "Iteration:\n",
    "- Loops enable us to repeatedly perform the same operation on every element in a array, which is vital for scalability\n",
    "- A for loop enables us to perform the same operation on every element in a array\n",
    "- A for loop can also be used to display all items in a array, iterating through each index without needing to write separate lines for each item\n",
    "\n",
    "List Operations:\n",
    "- We can change items in a list using the insert(), pop(), append(), and remove() methods\n",
    "\n",
    "Advanced Iteration:\n",
    "- Loops can be used to compute totals or compile a separate list based on conditions\n",
    "\n",
    "<div class=\"glowing-text\">\n",
    "Hacks\n",
    "</div>\n",
    "\n",
    "Now go onto the Python hacks, and complete the hacks for homework. "
   ]
  }
 ],
 "metadata": {
  "kernelspec": {
   "display_name": "Python 3",
   "language": "python",
   "name": "python3"
  },
  "language_info": {
   "codemirror_mode": {
    "name": "ipython",
    "version": 3
   },
   "file_extension": ".py",
   "mimetype": "text/x-python",
   "name": "python",
   "nbconvert_exporter": "python",
   "pygments_lexer": "ipython3",
   "version": "3.12.6"
  },
  "orig_nbformat": 4
 },
 "nbformat": 4,
 "nbformat_minor": 2
}
