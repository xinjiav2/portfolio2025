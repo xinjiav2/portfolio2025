{
 "cells": [
  {
   "cell_type": "raw",
   "metadata": {
    "vscode": {
     "languageId": "raw"
    }
   },
   "source": [
    "---\n",
    "layout: post\n",
    "title: 3.2 Lesson Period 4 - Strings Data Abstraction\n",
    "categories: [CSP Big Ideas]\n",
    "permalink: /csp/big-idea/p4/3-2-3\n",
    "comments: true\n",
    "menu: nav/csp_units/csp_unit3_p4_fundamentals.html\n",
    "---"
   ]
  },
  {
   "cell_type": "markdown",
   "metadata": {},
   "source": [
    "<style>\n",
    "  h1 {\n",
    "    animation: glow 1s ease-in-out infinite alternate;\n",
    "    font-size: 3em; /* Increased font size */\n",
    "  }\n",
    "</style>\n",
    "\n",
    "<h1>\n",
    "  Strings - 3.2.3\n",
    "</h1>\n",
    "\n",
    "<style>\n",
    "@keyframes glow {\n",
    "  from {\n",
    "    text-shadow: 0 0 5px #fff, 0 0 10px #00f, 0 0 15px #00f, 0 0 20px #00f; /* Changed color to blue (#00f) */\n",
    "  }\n",
    "  to {\n",
    "    text-shadow: 0 0 20px #00f, 0 0 30px #00f, 0 0 40px #00f, 0 0 50px #00f; /* Changed color to blue (#00f) */\n",
    "  }\n",
    "}\n",
    "</style>"
   ]
  },
  {
   "cell_type": "markdown",
   "metadata": {},
   "source": [
    "## Introduction to Strings\n",
    "\n",
    "In programming, a **string** is a sequence of characters. Strings can include letters, numbers, symbols, and whitespace. Strings are used to represent text in a program.\n",
    "\n",
    "### Key Characteristics of Strings\n",
    "- Strings are enclosed in quotes (single or double).\n",
    "- They are **immutable**, meaning once created, they cannot be changed.\n",
    "- Strings can be **indexed** and **sliced**."
   ]
  },
  {
   "cell_type": "markdown",
   "metadata": {},
   "source": [
    "## Definition of a String\n",
    "\n",
    "A string is a data type used in programming to represent text. It is a sequence of characters, which can include letters, digits, punctuation marks, and spaces.\n",
    "\n",
    "### Example:\n",
    "```python\n",
    "my_string = \"I am thomas bao\"\n"
   ]
  },
  {
   "cell_type": "markdown",
   "metadata": {},
   "source": [
    "![Python Strings](https://www.scientecheasy.com/wp-content/uploads/2023/01/python-strings.png)\n"
   ]
  },
  {
   "cell_type": "markdown",
   "metadata": {},
   "source": [
    "## String Operations\n",
    "\n",
    "Strings support various operations. Here are some common ones:\n",
    "\n",
    "### 1. String Length\n",
    "You can find the length of a string using the `len()` function.\n",
    "\n",
    "### Example:\n",
    "```python\n",
    "length = len(my_string)\n",
    "print(length)  # Output: 17"
   ]
  },
  {
   "cell_type": "code",
   "execution_count": 19,
   "metadata": {},
   "outputs": [
    {
     "name": "stdout",
     "output_type": "stream",
     "text": [
      "17\n"
     ]
    }
   ],
   "source": [
    "# String Length\n",
    "length = len(my_string)\n",
    "print(length)  # Output: 17"
   ]
  },
  {
   "cell_type": "markdown",
   "metadata": {},
   "source": [
    "### 2. String Indexing\n",
    "\n",
    "Strings can be accessed using indices. The first character has an index of 0.\n",
    "\n",
    "### Example:\n",
    "```python\n",
    "first_character = my_string[0]\n",
    "print(first_character)  # Output: T\n"
   ]
  },
  {
   "cell_type": "code",
   "execution_count": 20,
   "metadata": {},
   "outputs": [
    {
     "name": "stdout",
     "output_type": "stream",
     "text": [
      "T\n"
     ]
    }
   ],
   "source": [
    "# String Indexing\n",
    "first_character = my_string[0]\n",
    "print(first_character)  # Output: T"
   ]
  },
  {
   "cell_type": "markdown",
   "metadata": {},
   "source": [
    "### 3. String Slicing\n",
    "\n",
    "You can extract a portion of a string using slicing.\n",
    "\n",
    "### Example:\n",
    "```python\n",
    "substring = my_string[0:5]\n",
    "print(substring)  # Output: Thomas"
   ]
  },
  {
   "cell_type": "code",
   "execution_count": 21,
   "metadata": {},
   "outputs": [
    {
     "name": "stdout",
     "output_type": "stream",
     "text": [
      "Thomas\n"
     ]
    }
   ],
   "source": [
    "# String Slicing\n",
    "substring = my_string[0:5]\n",
    "print(f\"Substring: {substring}\")  # Output: Hello"
   ]
  },
  {
   "cell_type": "markdown",
   "metadata": {},
   "source": [
    "### 4. String Methods\n",
    "\n",
    "Strings come with various built-in methods. Here are a few useful ones:\n",
    "\n",
    "- `lower()`: Converts a string to lowercase.\n",
    "- `upper()`: Converts a string to uppercase.\n",
    "- `replace()`: Replaces a substring with another substring.\n",
    "\n",
    "### Example:\n",
    "```python\n",
    "lower_string = my_string.lower()\n",
    "print(lower_string)  # Output: I am Collin.\n"
   ]
  },
  {
   "cell_type": "code",
   "execution_count": 22,
   "metadata": {},
   "outputs": [
    {
     "name": "stdout",
     "output_type": "stream",
     "text": [
      "thomas and collin\n",
      "THOMAS AND COLLIN\n",
      "Ian and Collin\n"
     ]
    }
   ],
   "source": [
    "# String Methods\n",
    "lower_string = my_string.lower()\n",
    "upper_string = my_string.upper()\n",
    "replaced_string = my_string.replace(\"World\", \"Python\")\n",
    "\n",
    "# Convert to lowercase\n",
    "lower_string = my_string.lower()\n",
    "print(lower_string)  # Output: thomas and collin\n",
    "\n",
    "# Convert to uppercase\n",
    "upper_string = my_string.upper()\n",
    "print(upper_string)  # Output: THOMAS AND COLLIN\n",
    "\n",
    "# Replace a substring\n",
    "replaced_string = my_string.replace(\"Thomas\", \"Ian\")\n",
    "print(replaced_string)  # Output: Ian and Collin"
   ]
  },
  {
   "cell_type": "markdown",
   "metadata": {},
   "source": [
    "## Conclusion\n",
    "\n",
    "Strings are fundamental in programming, especially for handling text. Understanding how to manipulate strings is crucial for any programmer. In this lesson, we covered the basics of strings, including their definition, length, indexing, slicing, and some common string methods."
   ]
  }
 ],
 "metadata": {
  "kernelspec": {
   "display_name": "venv",
   "language": "python",
   "name": "python3"
  },
  "language_info": {
   "codemirror_mode": {
    "name": "ipython",
    "version": 3
   },
   "file_extension": ".py",
   "mimetype": "text/x-python",
   "name": "python",
   "nbconvert_exporter": "python",
   "pygments_lexer": "ipython3",
   "version": "3.10.12"
  }
 },
 "nbformat": 4,
 "nbformat_minor": 2
}
