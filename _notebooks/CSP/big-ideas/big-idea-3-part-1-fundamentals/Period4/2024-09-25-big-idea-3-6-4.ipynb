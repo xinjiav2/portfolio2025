{
 "cells": [
  {
   "cell_type": "raw",
   "metadata": {
    "vscode": {
     "languageId": "raw"
    }
   },
   "source": [
    "---\n",
    "comments: true\n",
    "layout: post\n",
    "title: CSP Period 4 Unit 3.6.4 Conditionals in JavaScript Hacks\n",
    "description: In this lesson, students will practice using if-else statements in JavaScript through interactive exercises. They will work on solving problems that require making decisions in their code based on different conditions. The exercises will cover how to use if, else if, and else statements to handle multiple outcomes. Students will also practice combining conditions with logical operators like && (and), || (or), and ! (not). By the end of the lesson, students will have improved their ability to write programs that respond dynamically based on different scenarios. \n",
    "permalink: /csp/big-idea/p4/3-6-4\n",
    "type: ccc\n",
    "author: Risha Guha, Vibha Mandayam, Ava Shalon\n",
    "menu: nav/csp_units/csp_unit3_p4_fundamentals.html\n",
    "---"
   ]
  },
  {
   "cell_type": "markdown",
   "metadata": {},
   "source": [
    "<h2><span style=\"font-family: Ariel; color:#ffa994\">Hack 1: Check Voting Eligibility</span></h2>\n",
    "\n",
    "**Description:** This hack checks if a person is eligible to vote based on their age.\n",
    "\n",
    "1. Define a function named `checkVotingEligibility` that takes one parameter called `age`.\n",
    "2. Inside the function, use an `if` statement to check if the age is 18 or older.\n",
    "   - Return the message `\"You are eligible to vote!\"` if true; otherwise, return `\"You are not eligible to vote yet.\"`.\n",
    "\n",
    "Call the function with different age values to test your work\n"
   ]
  },
  {
   "cell_type": "markdown",
   "metadata": {},
   "source": [
    "<h2><span style=\"font-family: Ariel; color:#ffa994\">Hack 2: Grade Calculator</span></h2>\n",
    "\n",
    "**Description:** This hack assigns a letter grade based on a numerical score.\n",
    "\n",
    "1. Define a function named `getGrade` that takes one parameter called `score`.\n",
    "2. Use `if...else if...else` statements to determine the letter grade based on the score:\n",
    "   - Return `\"Grade: A\"` for scores 90 and above.\n",
    "   - Return `\"Grade: B\"` for scores between 80 and 89.\n",
    "   - Return `\"Grade: C\"` for scores between 70 and 79.\n",
    "   - Return `\"Grade: F\"` for scores below 70.\n",
    "\n",
    "Call the function with different scores to test your work. \n",
    "\n"
   ]
  },
  {
   "cell_type": "markdown",
   "metadata": {},
   "source": [
    "<h2><span style=\"font-family: Ariel; color:#ffa994\">Hack 3: Temperature Converter</span></h2>\n",
    "\n",
    "**Description:** This hack converts temperatures between Celsius and Fahrenheit.\n",
    "\n",
    "1. Define a function named `convertTemperature` that takes two parameters: `value` (the temperature) and `scale` (either \"C\" or \"F\").\n",
    "2. Use an `if` statement to check the scale:\n",
    "   - If it's \"C\", convert the temperature to Fahrenheit using the formula `(value * 9/5) + 32` and return the result with `\"°F\"`.\n",
    "   - If it's \"F\", convert to Celsius using `(value - 32) * 5/9` and return the result with `\"°C\"`.\n",
    "   - If the scale is neither, return an error message.\n",
    "\n",
    "\n",
    "Test the function with different values and scales to check your work\n",
    "\n"
   ]
  }
 ],
 "metadata": {
  "language_info": {
   "name": "python"
  }
 },
 "nbformat": 4,
 "nbformat_minor": 2
}
