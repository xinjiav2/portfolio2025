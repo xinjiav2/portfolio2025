{
 "cells": [
  {
   "cell_type": "raw",
   "metadata": {
    "vscode": {
     "languageId": "raw"
    }
   },
   "source": [
    "---\n",
    "toc: false\n",
    "comments: true\n",
    "layout: post\n",
    "title: 3.2 Lesson Period 4 - Booleans Data Abstraction\n",
    "permalink: /csp/big-idea/p4/3-2-8\n",
    "categories: [CSP Big Ideas]\n",
    "author: Ian, Collin, Aarush, Thomas\n",
    "menu: nav/csp_units/csp_unit3_p4_fundamentals.html\n",
    "---"
   ]
  },
  {
   "cell_type": "markdown",
   "metadata": {},
   "source": [
    "<style>\n",
    "  h1 {\n",
    "    animation: glow 1s ease-in-out infinite alternate;\n",
    "    font-size: 3em; /* Increased font size */\n",
    "  }\n",
    "</style>\n",
    "\n",
    "<h1>\n",
    "  Booleans - 3.2.8\n",
    "</h1>\n",
    "\n",
    "<style>\n",
    "@keyframes glow {\n",
    "  from {\n",
    "    text-shadow: 0 0 5px #fff, 0 0 10px #00f, 0 0 15px #00f, 0 0 20px #00f; /* Changed color to blue (#00f) */\n",
    "  }\n",
    "  to {\n",
    "    text-shadow: 0 0 20px #00f, 0 0 30px #00f, 0 0 40px #00f, 0 0 50px #00f; /* Changed color to blue (#00f) */\n",
    "  }\n",
    "}\n",
    "</style>"
   ]
  },
  {
   "cell_type": "markdown",
   "metadata": {},
   "source": [
    "## Boolean in Python\n",
    "\n",
    "A **boolean** in Python is a data type that can hold one of two possible values: `True` or `False`. It is often used in conditional statements to control the flow of a program. Booleans are derived from the concept of Boolean logic, which is fundamental in computer science.\n",
    "\n",
    "## Purpose\n",
    "- Represent two values: `True` and `False`, used for logical operations.\n",
    "- Useful for conditional statements (e.g., `if` statements) to control the flow of the program.\n",
    "- Serve as the foundation for boolean algebra and logic operations (AND, OR, NOT).\n",
    "- Allow comparisons between values (e.g., checking equality, greater than, less than).\n",
    "\n",
    "![Python Boolean Functions](https://www.trytoprogram.com/images/python_bool_function.jpg)\n",
    "\n",
    "\n",
    "### Example\n",
    "\n",
    "```python\n",
    "# Defining boolean variables\n",
    "is_active = True\n",
    "is_complete = False\n",
    "\n",
    "# Using booleans in conditional statements\n",
    "if is_active:\n",
    "    print(\"The process is active.\")\n",
    "else:\n",
    "    print(\"The process is not active.\")\n"
   ]
  },
  {
   "cell_type": "code",
   "execution_count": 1,
   "metadata": {},
   "outputs": [
    {
     "name": "stdout",
     "output_type": "stream",
     "text": [
      "print(7 <= 10): True\n",
      "print(7 != 10): True\n",
      "print(7 == 10): False\n",
      "\n",
      "num1 is 15, num2 is 30\n",
      "num1 is less than num2\n",
      "\n",
      "Non-empty string 'Python': True\n",
      "Zero: False\n",
      "Non-empty dictionary {}: True\n",
      "Empty dictionary {}: False\n"
     ]
    }
   ],
   "source": [
    "# Boolean Comparisons\n",
    "print(\"print(7 <= 10):\", 7 <= 10)   # True\n",
    "print(\"print(7 != 10):\", 7 != 10)   # True\n",
    "print(\"print(7 == 10):\", 7 == 10)    # False\n",
    "\n",
    "# Variables\n",
    "num1 = 15\n",
    "num2 = 30\n",
    "\n",
    "print(\"\\nnum1 is 15, num2 is 30\")\n",
    "\n",
    "if num1 < num2:\n",
    "    print(\"num1 is less than num2\")\n",
    "else:\n",
    "    print(\"num1 is not less than num2\")\n",
    "\n",
    "# Evaluating Truthiness\n",
    "# Any non-empty string is considered True\n",
    "# Any non-zero integer is considered True\n",
    "# Empty lists and dictionaries are considered False\n",
    "print(\"\\nNon-empty string 'Python':\", bool(\"Python\"))  # True\n",
    "print(\"Zero:\", bool(0))                                # False\n",
    "print(\"Non-empty dictionary {}:\", bool({\"key\": \"value\"}))  # True\n",
    "print(\"Empty dictionary {}:\", bool({}))                # False"
   ]
  },
  {
   "cell_type": "markdown",
   "metadata": {},
   "source": [
    "# Javascript Version"
   ]
  },
  {
   "cell_type": "code",
   "execution_count": null,
   "metadata": {
    "vscode": {
     "languageId": "javascript"
    }
   },
   "outputs": [],
   "source": [
    "// Boolean Comparisons\n",
    "console.log(\"console.log(7 <= 10):\", 7 <= 10);  // true\n",
    "console.log(\"console.log(7 != 10):\", 7 != 10);  // true\n",
    "console.log(\"console.log(7 == 10):\", 7 == 10);  // false\n",
    "\n",
    "// Variables\n",
    "let num1 = 15;\n",
    "let num2 = 30;\n",
    "\n",
    "console.log(\"\\nnum1 is 15, num2 is 30\");\n",
    "\n",
    "if (num1 < num2) {\n",
    "    console.log(\"num1 is less than num2\");\n",
    "} else {\n",
    "    console.log(\"num1 is not less than num2\");\n",
    "}\n",
    "\n",
    "// Evaluating Truthiness\n",
    "// Any non-empty string is considered true\n",
    "// Any non-zero integer is considered true\n",
    "// Empty arrays and objects are considered false\n",
    "console.log(\"\\nNon-empty string 'JavaScript':\", Boolean(\"JavaScript\"));  // true\n",
    "console.log(\"Zero:\", Boolean(0));                                      // false\n",
    "console.log(\"Non-empty object {}:\", Boolean({ key: \"value\" }));       // true\n",
    "console.log(\"Empty object {}:\", Boolean({}));                           // false\n"
   ]
  }
 ],
 "metadata": {
  "kernelspec": {
   "display_name": "venv",
   "language": "python",
   "name": "python3"
  },
  "language_info": {
   "codemirror_mode": {
    "name": "ipython",
    "version": 3
   },
   "file_extension": ".py",
   "mimetype": "text/x-python",
   "name": "python",
   "nbconvert_exporter": "python",
   "pygments_lexer": "ipython3",
   "version": "3.12.6"
  }
 },
 "nbformat": 4,
 "nbformat_minor": 2
}
