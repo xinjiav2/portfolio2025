{
 "cells": [
  {
   "cell_type": "raw",
   "metadata": {
    "vscode": {
     "languageId": "raw"
    }
   },
   "source": [
    "---\n",
    "toc: false\n",
    "comments: true\n",
    "layout: post\n",
    "title: 3.10.3 Python Hacks - Period 4\n",
    "description: This is student-led teaching on lists! Here you'll learn how to manipulate individual elements or items in a list using indexing.\n",
    "categories: [CSP Big Ideas]\n",
    "author: James Edrosolo (Period 4)\n",
    "menu: nav/csp_units/csp_unit3_p5_fundamentals.html\n",
    "permalink: /csp/big-idea/p4/3-10B-3\n",
    "---"
   ]
  },
  {
   "cell_type": "markdown",
   "metadata": {},
   "source": [
    "# Setup \n",
    "- Create a New Jupyter Notebook: Open Jupyter Notebook and create a new notebook with a Python kernel.\n",
    "- Set the Cell Language: Ensure that the language of the code cell is set to Python.\n",
    "- Start Coding: You can now begin writing your Python code and execute it using the Jupyter Notebook interface.\n"
   ]
  },
  {
   "cell_type": "markdown",
   "metadata": {},
   "source": [
    "# Problem #1 - \n",
    "Objective: Create a simple program to manage a grocery list.\n",
    "\n",
    "Requirements:\n",
    "- Create an empty list to store grocery items.\n",
    "- Input three grocery items and add them to the list.\n",
    "- Display the current grocery list after all items are added.\n",
    "- Sort the list alphabetically and print the sorted list.\n",
    "- Remove one item specified by them and display the updated list."
   ]
  },
  {
   "cell_type": "markdown",
   "metadata": {},
   "source": [
    "# Problem #2 - \n",
    "Filtering Even Numbers\n",
    "Objective: Create a list of numbers and filter for even numbers.\n",
    "\n",
    "Requirements:\n",
    "- Create a list of integers from 1 to 20.\n",
    "- Print the original list.\n",
    "- Create a new list that contains only the even numbers from the original list using list comprehension.\n",
    "- Print the list of even numbers."
   ]
  },
  {
   "cell_type": "markdown",
   "metadata": {},
   "source": [
    "# Problem #3 -\n",
    "Write a program that manages a list of student grades.\n",
    "\n",
    "Requirements:\n",
    "- Create an empty list to store student grades.\n",
    "- Input three grades (as integers) and add them to the list.\n",
    "- Print the list of grades after all grades are entered.\n",
    "- Create a new list that contains only grades above 60 and print this list."
   ]
  },
  {
   "cell_type": "markdown",
   "metadata": {},
   "source": [
    "# Problem #4 -\n",
    "Number List Operations\n",
    "Objective: Create a list of numbers and perform basic operations.\n",
    "\n",
    "Requirements:\n",
    "- Create a list of numbers from 1 to 10 (integers).\n",
    "- Print the original list.\n",
    "- Sort the list in descending order.\n",
    "- Slice the list to get the first five numbers and print them.\n",
    "- Sort the list again at the end in ascending order and print it."
   ]
  },
  {
   "cell_type": "markdown",
   "metadata": {},
   "source": [
    "# Homework scaling\n",
    "\n",
    "0 = .00 work, but faking understanding/accomplishment\n",
    "\n",
    "1 = .55 incomplete assignment, big gaps\n",
    "\n",
    "2 = .75 meeting some objectives, multiple little gaps\n",
    "\n",
    "3 = .85 meeting most objectives, one little gap\n",
    "\n",
    "4 = .90 meeting all objectives\n",
    "\n",
    "4+= .95 utilizes all the popcorn hacks, and does all the hacks correctly (if not better)."
   ]
  },
  {
   "cell_type": "markdown",
   "metadata": {},
   "source": [
    "<script src=\"https://utteranc.es/client.js\"\n",
    "        repo=\"nighthawkcoders/portfolio_2025\"\n",
    "        issue-term=\"title\"\n",
    "        label=\"blogpost-comment\"\n",
    "        theme=\"github-light\"\n",
    "        crossorigin=\"anonymous\"\n",
    "        async>\n",
    "</script>\n"
   ]
  },
  {
   "cell_type": "markdown",
   "metadata": {
    "vscode": {
     "languageId": "raw"
    }
   },
   "source": [
    "<script src=\"https://utteranc.es/client.js\"\n",
    "        repo=\"nighthawkcoders/portfolio_2025\"\n",
    "        issue-term=\"title\"\n",
    "        label=\"blogpost-comment\"\n",
    "        theme=\"github-light\"\n",
    "        crossorigin=\"anonymous\"\n",
    "        async>\n",
    "</script>"
   ]
  }
 ],
 "metadata": {
  "kernelspec": {
   "display_name": "Python 3",
   "language": "python",
   "name": "python3"
  },
  "language_info": {
   "codemirror_mode": {
    "name": "ipython",
    "version": 3
   },
   "file_extension": ".py",
   "mimetype": "text/x-python",
   "name": "python",
   "nbconvert_exporter": "python",
   "pygments_lexer": "ipython3",
   "version": "3.11.9"
  }
 },
 "nbformat": 4,
 "nbformat_minor": 2
}
