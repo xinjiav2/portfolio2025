{
 "cells": [
  {
   "cell_type": "raw",
   "metadata": {
    "vscode": {
     "languageId": "raw"
    }
   },
   "source": [
    "---\n",
    "toc: false\n",
    "comments: true\n",
    "layout: post\n",
    "title: 3.2 Lesson Period 4 - Integer Data Abstraction\n",
    "permalink: /csp/big-idea/p4/3-2-1\n",
    "categories: [CSP Big Ideas]\n",
    "author: Ian, Collin, Aarush, Thomas\n",
    "menu: nav/csp_units/csp_unit3_p4_fundamentals.html\n",
    "---\n"
   ]
  },
  {
   "cell_type": "markdown",
   "metadata": {},
   "source": [
    "<style>\n",
    "  h1 {\n",
    "    animation: glow 1s ease-in-out infinite alternate;\n",
    "    font-size: 3em; /* Increased font size */\n",
    "  }\n",
    "</style>\n",
    "\n",
    "<h1>\n",
    "  Integers - 3.2.1\n",
    "</h1>\n",
    "\n",
    "<style>\n",
    "@keyframes glow {\n",
    "  from {\n",
    "    text-shadow: 0 0 5px #fff, 0 0 10px #00f, 0 0 15px #00f, 0 0 20px #00f; /* Changed color to blue (#00f) */\n",
    "  }\n",
    "  to {\n",
    "    text-shadow: 0 0 20px #00f, 0 0 30px #00f, 0 0 40px #00f, 0 0 50px #00f; /* Changed color to blue (#00f) */\n",
    "  }\n",
    "}\n",
    "</style>\n",
    "\n",
    "Integers are whole numbers, which can be positive, negative, or zero, and do not have decimal points. In Python, you can perform various arithmetic operations with integers, making them essential for calculations and counting.\n"
   ]
  },
  {
   "cell_type": "markdown",
   "metadata": {},
   "source": [
    "## Purpose of integers \n",
    "- Represent whole numbers without decimals (e.g., -5, 0, 10).\n",
    "- Used for counting, indexing, and performing arithmetic operations.\n",
    "- Ideal for mathematical calculations that require precision without fractions.\n",
    "- Support basic operations like addition, subtraction, multiplication, division, and more complex operations (modulus, exponentiation)."
   ]
  },
  {
   "cell_type": "markdown",
   "metadata": {},
   "source": [
    "## Example"
   ]
  },
  {
   "cell_type": "code",
   "execution_count": 1,
   "metadata": {},
   "outputs": [
    {
     "name": "stdout",
     "output_type": "stream",
     "text": [
      "Player 1 Score: 45\n",
      "Player 2 Score: 30\n",
      "------------------------------\n",
      "Total Score: 75\n",
      "Score Difference: 15\n",
      "Player 1 Score multiplied by 2: 90\n"
     ]
    }
   ],
   "source": [
    "# Player Scores\n",
    "player1_score = 45  # Player 1's score\n",
    "player2_score = 30  # Player 2's score\n",
    "\n",
    "# Displaying Scores\n",
    "print(\"Player 1 Score:\", player1_score)\n",
    "print(\"Player 2 Score:\", player2_score)\n",
    "print(\"-\" * 30)\n",
    "\n",
    "# Total Score Calculation\n",
    "total_score = player1_score + player2_score\n",
    "print(\"Total Score:\", total_score)  # Sum of both scores\n",
    "\n",
    "# Score Difference\n",
    "score_difference = player1_score - player2_score\n",
    "print(\"Score Difference:\", score_difference)  # Difference between scores\n",
    "\n",
    "# Multiplying Scores\n",
    "print(\"Player 1 Score multiplied by 2:\", player1_score * 2)  # Multiplication\n"
   ]
  },
  {
   "cell_type": "markdown",
   "metadata": {},
   "source": [
    "# Javascript Version"
   ]
  },
  {
   "cell_type": "code",
   "execution_count": null,
   "metadata": {
    "vscode": {
     "languageId": "javascript"
    }
   },
   "outputs": [],
   "source": [
    "// Player Scores\n",
    "let player1_score = 45; // Player 1's score\n",
    "let player2_score = 30; // Player 2's score\n",
    "\n",
    "// Displaying Scores\n",
    "console.log(\"Player 1 Score:\", player1_score);\n",
    "console.log(\"Player 2 Score:\", player2_score);\n",
    "console.log(\"-\".repeat(30));\n",
    "\n",
    "// Total Score Calculation\n",
    "let total_score = player1_score + player2_score;\n",
    "console.log(\"Total Score:\", total_score); // Sum of both scores\n",
    "\n",
    "// Score Difference\n",
    "let score_difference = player1_score - player2_score;\n",
    "console.log(\"Score Difference:\", score_difference); // Difference between scores\n",
    "\n",
    "// Multiplying Scores\n",
    "console.log(\"Player 1 Score multiplied by 2:\", player1_score * 2); // Multiplication\n"
   ]
  }
 ],
 "metadata": {
  "kernelspec": {
   "display_name": "venv",
   "language": "python",
   "name": "python3"
  },
  "language_info": {
   "codemirror_mode": {
    "name": "ipython",
    "version": 3
   },
   "file_extension": ".py",
   "mimetype": "text/x-python",
   "name": "python",
   "nbconvert_exporter": "python",
   "pygments_lexer": "ipython3",
   "version": "3.12.6"
  }
 },
 "nbformat": 4,
 "nbformat_minor": 2
}
