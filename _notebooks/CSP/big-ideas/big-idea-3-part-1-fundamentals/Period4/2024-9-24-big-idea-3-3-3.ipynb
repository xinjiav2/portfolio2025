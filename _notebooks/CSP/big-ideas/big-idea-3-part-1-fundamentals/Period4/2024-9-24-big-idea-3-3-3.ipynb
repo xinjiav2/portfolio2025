{
 "cells": [
  {
   "cell_type": "raw",
   "metadata": {
    "vscode": {
     "languageId": "raw"
    }
   },
   "source": [
    "---\n",
    "toc: false\n",
    "comments: true\n",
    "layout: post\n",
    "title: 3.3 Python Mathematical Hacks\n",
    "description: Student led teaching on  Mathematical Expressions. Learn how mathematical expressions involve using arithmetic operators (like addition, subtraction, multiplication, and division) to perform calculations\n",
    "permalink: /csp/big-idea/p4/3-3-3\n",
    "author: Anvay, Pranav, Kiruthic, Rayhaan, Yuva\n",
    "menu: nav/csp_units/csp_unit3_p4_fundamentals.html\n",
    "---"
   ]
  },
  {
   "cell_type": "markdown",
   "metadata": {},
   "source": [
    "| **Operator**           | **Description**                     | **Python Example**         |\n",
    "|------------------------|-------------------------------------|----------------------------|\n",
    "| **P** - Parentheses     | Operations inside `()`              | `(3 + 2) * 4 = 20`         |\n",
    "| **E** - Exponents       | Powers (using `**` operator)        | `2 ** 3 = 8`               |\n",
    "| **M** - Multiplication  | Multiply two numbers                | `3 * 4 = 12`               |\n",
    "| **D** - Division        | Divide two numbers                  | `12 / 3 = 4.0`             |\n",
    "| **F** - Floor Division  | Division with integer result        | `12 // 5 = 2`              |\n",
    "| **M** - Modulus         | Remainder of division               | `12 % 5 = 2`               |\n",
    "| **A** - Addition        | Sum of numbers                      | `3 + 5 = 8`                |\n",
    "| **S** - Subtraction     | Difference between numbers          | `10 - 4 = 6`               |"
   ]
  },
  {
   "cell_type": "markdown",
   "metadata": {},
   "source": [
    "# Example Hack #1 (Function for Basic Arithmetic Operations)"
   ]
  },
  {
   "cell_type": "code",
   "execution_count": null,
   "metadata": {},
   "outputs": [],
   "source": [
    "def basicOperations(a, b):\n",
    "    sum = a + b\n",
    "    difference = a - b\n",
    "    product = a * b\n",
    "    quotient = a / b\n",
    "    remainder = a % b\n",
    "\n",
    "    print(f\"Addition: {a} + {b} = {sum}\")\n",
    "    print(f\"Subtraction: {a} - {b} = {difference}\")\n",
    "    print(f\"Multiplication: {a} * {b} = {product}\")\n",
    "    print(f\"Division: {a} / {b} = {quotient}\")\n",
    "    print(f\"Modulus: {a} % {b} = {remainder}\")\n",
    "\n",
    "\n",
    "basicOperations(10, 5)"
   ]
  },
  {
   "cell_type": "markdown",
   "metadata": {},
   "source": [
    "<button class=\"toggle-button3\" onclick=\"toggleOutput3()\">Show Output</button>\n",
    "<div class=\"output-container3\" id=\"outputContainer3\" style=\"display: none;\">\n",
    "    <pre>Addition: 10 + 5 = 15\n",
    "Subtraction: 10 - 5 = 5\n",
    "Multiplication: 10 * 5 = 50\n",
    "Division: 10 / 5 = 2.0\n",
    "Modulus: 10 % 5 = 0</pre>\n",
    "</div>\n",
    "\n",
    "<style>\n",
    "    .toggle-button3 {\n",
    "        padding: 10px 20px;\n",
    "        background-color: #007bff;\n",
    "        color: white;\n",
    "        border: none;\n",
    "        cursor: pointer;\n",
    "        margin-top: 10px;\n",
    "    }\n",
    "    .toggle-button3:hover {\n",
    "        background-color: #0056b3;\n",
    "    }\n",
    "    .output-container3 {\n",
    "        background-color: #252734;\n",
    "        color: white;\n",
    "        padding: 10px;\n",
    "        margin-top: 10px;\n",
    "        font-family: monospace;\n",
    "        white-space: pre-wrap;\n",
    "        border-radius: 5px;\n",
    "    }\n",
    "</style>\n",
    "\n",
    "<script>\n",
    "    function toggleOutput3() {\n",
    "        var outputContainer3 = document.getElementById(\"outputContainer3\");\n",
    "        if (outputContainer3.style.display === \"none\") {\n",
    "            outputContainer3.style.display = \"block\";\n",
    "            document.querySelector(\".toggle-button3\").textContent = \"Hide Output\";\n",
    "        } else {\n",
    "            outputContainer3.style.display = \"none\";\n",
    "            document.querySelector(\".toggle-button3\").textContent = \"Show Output\";\n",
    "        }\n",
    "    }\n",
    "</script>"
   ]
  },
  {
   "cell_type": "markdown",
   "metadata": {},
   "source": [
    "# Example Hack #1 (Fibbonaci Sequence)"
   ]
  },
  {
   "cell_type": "code",
   "execution_count": null,
   "metadata": {},
   "outputs": [],
   "source": [
    "def fibonacci(n):\n",
    "    if n == 0:\n",
    "        return 0\n",
    "    if n == 1: \n",
    "        return 1\n",
    "    \n",
    "    a = 0\n",
    "    b = 1\n",
    "    \n",
    "\n",
    "    for i in range(2, n):\n",
    "        next = a + b\n",
    "        a = b\n",
    "        b = next\n",
    "    \n",
    "    return b\n",
    "\n",
    "\n",
    "n = 7 # Find the 7th Fibonacci number\n",
    "print(f\"The {n}th Fibonacci number is: {fibonacci(n)}\")"
   ]
  },
  {
   "cell_type": "markdown",
   "metadata": {},
   "source": [
    "<button class=\"toggle-button4\" onclick=\"toggleOutput4()\">Show Output</button>\n",
    "<div class=\"output-container4\" id=\"outputContainer4\" style=\"display: none;\">\n",
    "    <pre>The 7th Fibonacci number is: 8</pre>\n",
    "</div>\n",
    "\n",
    "<style>\n",
    "    .toggle-button4 {\n",
    "        padding: 10px 20px;\n",
    "        background-color: #007bff;\n",
    "        color: white;\n",
    "        border: none;\n",
    "        cursor: pointer;\n",
    "        margin-top: 10px;\n",
    "    }\n",
    "    .toggle-button4:hover {\n",
    "        background-color: #0056b3;\n",
    "    }\n",
    "    .output-container4 {\n",
    "        background-color: #252734;\n",
    "        color: white;\n",
    "        padding: 10px;\n",
    "        margin-top: 10px;\n",
    "        font-family: monospace;\n",
    "        white-space: pre-wrap;\n",
    "        border-radius: 5px;\n",
    "    }\n",
    "</style>\n",
    "\n",
    "<script>\n",
    "    function toggleOutput4() {\n",
    "        var outputContainer4 = document.getElementById(\"outputContainer4\");\n",
    "        if (outputContainer4.style.display === \"none\") {\n",
    "            outputContainer4.style.display = \"block\";\n",
    "            document.querySelector(\".toggle-button4\").textContent = \"Hide Output\";\n",
    "        } else {\n",
    "            outputContainer4.style.display = \"none\";\n",
    "            document.querySelector(\".toggle-button4\").textContent = \"Show Output\";\n",
    "        }\n",
    "    }\n",
    "</script>"
   ]
  },
  {
   "cell_type": "markdown",
   "metadata": {},
   "source": [
    "# Popcorn Hacks\n",
    "\n",
    "\n",
    "1. Hack #1\n",
    " - Define a list of integers\n",
    " - Compute the sum of all of the integers\n",
    " - Print the sum\n",
    "\n",
    "2. Hack #2\n",
    " - Prompt the user to enter the price per bag of popcorn.\n",
    " - Prompt the user to enter the number of bags they want to buy.\n",
    " - Calculate the total cost using multiplication.\n",
    " - Print the total cost.\n",
    " \n",
    "3. Hack #3\n",
    " - Prompt the user to enter a number n.\n",
    " - Initialize total_sum to 0.\n",
    " - Use a loop to iterate from 1 to n.\n",
    " - Add each number to total_sum.\n",
    " - Print the total_sum."
   ]
  },
  {
   "cell_type": "markdown",
   "metadata": {},
   "source": [
    "# Homework Hacks\n",
    "\n",
    "Now that we have learned about these various math expressions and operations, there are some hacks that you can complete.\n",
    "\n",
    "\n",
    "1. Write a function that has a defined list of integers. The function should: \n",
    "- Compute the arithmetic mean.\n",
    "- Compute the median.\n",
    "- Print both results. \n",
    "\n",
    "\n",
    "2. Make a function that takes one variable a. This function should list the sequence of numbers in the Collatz problem. The Collatz Problem is a math problem where you start with a positive integer and if it is odd you multiply by 3 and add 1, and if it is even you divide by 2. Use conditionals and keep repeating or iterating this process, and eventually you should reach 1 no matter what number is taken as input. Make an array that starts at the variable a, and keeps adding integers until it reaches 1, and print the sequence."
   ]
  }
 ],
 "metadata": {
  "kernelspec": {
   "display_name": "venv",
   "language": "python",
   "name": "python3"
  },
  "language_info": {
   "codemirror_mode": {
    "name": "ipython",
    "version": 3
   },
   "file_extension": ".py",
   "mimetype": "text/x-python",
   "name": "python",
   "nbconvert_exporter": "python",
   "pygments_lexer": "ipython3",
   "version": "3.12.5"
  }
 },
 "nbformat": 4,
 "nbformat_minor": 2
}
