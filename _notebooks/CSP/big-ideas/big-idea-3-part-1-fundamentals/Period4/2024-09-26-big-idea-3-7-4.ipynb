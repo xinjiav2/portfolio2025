{
 "cells": [
  {
   "cell_type": "raw",
   "metadata": {
    "vscode": {
     "languageId": "raw"
    }
   },
   "source": [
    "---\n",
    "comments: true\n",
    "layout: post\n",
    "title: CSP Period 4 Unit 3.7.4 Nested Conditionals Javascript Hacks\n",
    "description: In this lesson on nested conditionals in Javascript, students will explore how to create decision-making structures that involve multiple layers of conditions. By learning how to nest if, elif, and else statements, they will be able to write more precise and complex programs where one condition is checked only after another condition is met. The lesson will include hands-on exercises to help students understand when and how to apply nested conditionals for better control flow and logical clarity in their code.\n",
    "permalink: /csp/big-idea/p4/3-7-4\n",
    "type: ccc\n",
    "author: Risha Guha, Vibha Mandayam, Ava Shalon\n",
    "menu: nav/csp_units/csp_unit3_p4_fundamentals.html\n",
    "---"
   ]
  },
  {
   "cell_type": "markdown",
   "metadata": {},
   "source": [
    "<h1><span style=\"font-family: Ariel; color:#ffa994\"> Javascript Nested Conditionals Hacks Below</span></h1>\n",
    "\n",
    "<h><span style=\"font-family: Ariel; color:#ffa994\"> Hack 1: Write Javascript pseudocode to decide whether or not to study for an exam.</span></h>\n",
    "\n",
    "Check the following conditions:\n",
    "\n",
    "    You must have your study materials (books, notes, etc.).\n",
    "    You must have a quiet place to study.\n",
    "    You must not be feeling too tired.\n",
    "\n",
    "    If all conditions are met, print that you are ready to study.\n",
    "    If you don’t have a quiet place, suggest finding a quiet location.\n",
    "    If you are too tired, suggest taking a nap or resting first.\n",
    "    If you don’t have your study materials, print that you need to gather them first."
   ]
  },
  {
   "cell_type": "markdown",
   "metadata": {},
   "source": [
    "<h><span style=\"font-family: Ariel; color:#ffa994\"> Hack 2: Write Javascript code deciding whether or not you can bake a cake. </span></h>\n",
    "\n",
    "Check the following conditions:\n",
    "\n",
    "    You must have all the ingredients (flour, eggs, sugar).\n",
    "    Your oven must be working.\n",
    "    You must have at least 2 hours to bake and cool the cake.\n",
    "\n",
    "    If all conditions are true, print that you can start baking.\n",
    "    If you don't have enough time, print that you need to find more time.\n",
    "    If the oven is not working, print that you need to fix or replace the oven.\n",
    "    If you don't have all the ingredients, print what you are missing."
   ]
  },
  {
   "cell_type": "markdown",
   "metadata": {},
   "source": [
    "<h><span style=\"font-family: Ariel; color:#ffa994\"> Hack 3: Write Javascript code to determine whether or not to go camping. </span></h>\n",
    "\n",
    "Use the following conditions:\n",
    "\n",
    "    The weather must be clear.\n",
    "    You must have a tent.\n",
    "    You must have enough food and water for the trip.\n",
    "\n",
    "    If all conditions are met, print that you are ready to go camping.\n",
    "    If you don’t have a tent, print that you need to buy or borrow a tent.\n",
    "    If you don’t have enough food and water, print that you need to pack more.\n",
    "    If the weather is not clear, print that it’s not a good time for camping."
   ]
  },
  {
   "cell_type": "markdown",
   "metadata": {},
   "source": [
    "<h3><span style=\"font-family: Ariel; color:#ffa994\"> Javascript Quiz </span></h3>\n",
    "\n",
    "**Question 1:**\n",
    "\n",
    "What will be the output of the following code?\n",
    "\n",
    "    let score = 85;\n",
    "    let hasExtraCredit = false;\n",
    "\n",
    "    if (score >= 90) {\n",
    "        console.log(\"Grade: A\");\n",
    "    } else {\n",
    "        if (score >= 80) {\n",
    "            if (hasExtraCredit) {\n",
    "                console.log(\"Grade: A\");\n",
    "            } else {\n",
    "                console.log(\"Grade: B\");\n",
    "            }\n",
    "        } else {\n",
    "            console.log(\"Grade: C or below\");\n",
    "        }\n",
    "    }\n",
    "\n",
    "A. Grade: A\n",
    "B. Grade: B\n",
    "C. Grade: C or below\n",
    "\n",
    "**Question 2:**\n",
    "\n",
    "Given the following code, what will be printed if age = 30 and isMember = true?\n",
    "\n",
    "    let age = 30;\n",
    "    let isMember = true;\n",
    "\n",
    "    if (age < 18) {\n",
    "        console.log(\"Child discount applies.\");\n",
    "    } else {\n",
    "        if (isMember) {\n",
    "            console.log(\"Member discount applies.\");\n",
    "        } else {\n",
    "            console.log(\"No discount available.\");\n",
    "        }\n",
    "    }\n",
    "\n",
    "A. Child discount applies.\n",
    "B. Member discount applies.\n",
    "C. No discount available.\n",
    "\n",
    "**Question 3:**\n",
    "\n",
    "What will be the output of the following code?\n",
    "\n",
    "    let day = \"Saturday\";\n",
    "    let weather = \"sunny\";\n",
    "\n",
    "    if (day === \"Saturday\") {\n",
    "        if (weather === \"sunny\") {\n",
    "            console.log(\"Let's go to the park!\");\n",
    "        } else {\n",
    "            console.log(\"Let's stay indoors.\");\n",
    "        }\n",
    "    } else {\n",
    "        console.log(\"It's a weekday, time to work.\");\n",
    "    }\n",
    "\n",
    "A. Let's go to the park!\n",
    "B. Let's stay indoors.\n",
    "C. It's a weekday, time to work."
   ]
  }
 ],
 "metadata": {
  "kernelspec": {
   "display_name": "venv",
   "language": "python",
   "name": "python3"
  },
  "language_info": {
   "codemirror_mode": {
    "name": "ipython",
    "version": 3
   },
   "file_extension": ".py",
   "mimetype": "text/x-python",
   "name": "python",
   "nbconvert_exporter": "python",
   "pygments_lexer": "ipython3",
   "version": "3.12.4"
  }
 },
 "nbformat": 4,
 "nbformat_minor": 2
}
