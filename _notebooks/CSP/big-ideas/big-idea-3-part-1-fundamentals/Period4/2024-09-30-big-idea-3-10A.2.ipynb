{
 "cells": [
  {
   "cell_type": "raw",
   "metadata": {},
   "source": [
    "---\n",
    "layout: post\n",
    "title: 3.10.2 Accessing and Deleting Elements\n",
    "categories: [Collaboration]\n",
    "permalink: /csp/big-idea/p4/3-1\n",
    "courses: { csp: {week: 5} }\n",
    "type: collab\n",
    "comments: true\n",
    "permalink: /csp/big-idea/p4/3-10A-2\n",
    "author: Rowan, Hannah, Gaheera, Rhea\n",
    "menu: nav/csp_units/csp_unit3_p4_fundamentals.html\n",
    "---"
   ]
  },
  {
   "cell_type": "markdown",
   "metadata": {},
   "source": [
    "\n",
    "<br>\n",
    "<h2>Accessing an Element</h2>\n",
    "<br>\n",
    "<style>\n",
    "    h1 {\n",
    "        color: #ff69b4;\n",
    "        padding-left: 10px;\n",
    "    }\n",
    "    h2 {\n",
    "        color: #ff69b4;\n",
    "        padding-left: 10px;\n",
    "    }\n",
    "    div {\n",
    "        background-color: #ffb6c1;\n",
    "        border-radius: 10px;\n",
    "    }\n",
    "    li {\n",
    "        color: #ff69b4;\n",
    "        padding-left: 30px;\n",
    "        font-size: 18px;\n",
    "    }\n",
    "</style>\n"
   ]
  },
  {
   "cell_type": "markdown",
   "metadata": {},
   "source": [
    "# 1. Positive Indexing\n",
    "\n",
    "- **Definition**: Accessing elements using their position from the start of the list.\n",
    "- **Indexing Starts**: From `0`.\n",
    "- **Example**:\n",
    "  - For a list: `my_list = [10, 20, 30, 40, 50]`\n",
    "  - Accessing elements:\n",
    "    - `my_list[0]` → **10** (first element)\n",
    "    - `my_list[1]` → **20** (second element)\n",
    "    - `my_list[2]` → **30** (third element)\n",
    "\n",
    "# 2. Negative Indexing\n",
    "\n",
    "- **Definition**: Accessing elements using their position from the end of the list.\n",
    "- **Indexing Starts**: From `-1` for the last element.\n",
    "- **Example**:\n",
    "  - For the same list: `my_list = [10, 20, 30, 40, 50]`\n",
    "  - Accessing elements:\n",
    "    - `my_list[-1]` → **50** (last element)\n",
    "    - `my_list[-2]` → **40** (second to last element)\n",
    "    - `my_list[-3]` → **30** (third to last element)\n",
    "\n",
    "# Summary\n",
    "- Use **positive indexing** (`0, 1, 2, ...`) to access elements from the start.\n",
    "- Use **negative indexing** (`-1, -2, -3, ...`) to access elements from the end.\n",
    "\n",
    "This allows you to easily access any element in a list!\n"
   ]
  },
  {
   "cell_type": "markdown",
   "metadata": {},
   "source": [
    "(Javascript):"
   ]
  },
  {
   "cell_type": "code",
   "execution_count": null,
   "metadata": {
    "vscode": {
     "languageId": "javascript"
    }
   },
   "outputs": [],
   "source": [
    "%%js\n",
    "let aList = [];\n",
    "while (true) {\n",
    "    let user_input = prompt(\"Enter an item you want (or 'q' to quit):\");\n",
    "    if (user_input.toLowerCase() === 'q') {\n",
    "        break;\n",
    "    }\n",
    "    aList.push(user_input);\n",
    "}\n",
    "// Access and display the second element (index 1)\n",
    "console.log(\"The second thing on your list is: \" + aList[1]);\n"
   ]
  },
  {
   "cell_type": "markdown",
   "metadata": {},
   "source": [
    "(Python):"
   ]
  },
  {
   "cell_type": "code",
   "execution_count": null,
   "metadata": {
    "vscode": {
     "languageId": "javascript"
    }
   },
   "outputs": [],
   "source": [
    "aList = []\n",
    "while True:\n",
    "    user_input = input(\"Enter an item you want (or 'q' to quit): \")\n",
    "    if user_input.lower() == 'q':\n",
    "        break\n",
    "    aList.append(user_input)\n",
    "//Displaying the second element (index 1)\n",
    "if len(aList) > 1:\n",
    "    print(\"The second thing on your list is\", aList[1])\n",
    "else:\n",
    "    print(\"There is no second item in your list.\")\n",
    "//Display a range of data from index 1 to 3 (non-inclusive)\n",
    "print(\"Here is a range of data (index 1 to 3):\", aList[1:3])"
   ]
  },
  {
   "cell_type": "markdown",
   "metadata": {},
   "source": [
    "\n",
    "<br>\n",
    "<h2>Deleting an Element</h2>\n",
    "<br>\n",
    "<style>\n",
    "    h1 {\n",
    "        color: #ff69b4;\n",
    "        padding-left: 10px;\n",
    "    }\n",
    "    h2 {\n",
    "        color: #ff69b4;\n",
    "        padding-left: 10px;\n",
    "    }\n",
    "    div {\n",
    "        background-color: #ffb6c1;\n",
    "        border-radius: 10px;\n",
    "    }\n",
    "    li {\n",
    "        color: #ff69b4;\n",
    "        padding-left: 30px;\n",
    "        font-size: 18px;\n",
    "    }\n",
    "</style>\n"
   ]
  },
  {
   "cell_type": "markdown",
   "metadata": {},
   "source": [
    "\n",
    "1. **Using `remove(value)`**: Removes the first occurrence of a specified value from the list(Python).\n",
    "\n",
    "2. **Using `pop(index)`**: Removes and returns the element at the given index. If no index is provided, it removes the last element(Python & Javascript).\n",
    "\n",
    "3. **Using `del`**: Deletes an element at a specified index or can remove the entire list(Python).\n",
    "\n",
    "4. **Using `splice(start, deleteCount)`** (JavaScript): Modifies the array by removing elements starting at a specified index(Javascript).\n",
    "\n",
    "These methods allow you to effectively delete elements from lists or arrays in programming!\n"
   ]
  },
  {
   "cell_type": "markdown",
   "metadata": {},
   "source": [
    "Examples(JavaSript):"
   ]
  },
  {
   "cell_type": "code",
   "execution_count": null,
   "metadata": {
    "vscode": {
     "languageId": "javascript"
    }
   },
   "outputs": [],
   "source": [
    "%%js\n",
    "let aList = [];\n",
    "while (true) {\n",
    "    let user_input = prompt(\"Enter an item you want (or 'q' to quit):\");\n",
    "    if (user_input.toLowerCase() === 'q') {\n",
    "        break;\n",
    "    }\n",
    "    aList.push(user_input);\n",
    "}\n",
    "// Display the full list\n",
    "console.log(\"This is your list: \", aList);\n",
    "// Delete the second element (index 1)\n",
    "aList.splice(1, 1);\n",
    "// Display the list after deletion\n",
    "console.log(\"This is your new list: \", aList);"
   ]
  },
  {
   "cell_type": "markdown",
   "metadata": {
    "vscode": {
     "languageId": "javascript"
    }
   },
   "source": [
    "(Python):"
   ]
  },
  {
   "cell_type": "code",
   "execution_count": null,
   "metadata": {},
   "outputs": [],
   "source": [
    "aList = []\n",
    "while True:\n",
    "    user_input = input(\"Enter an item you want (or 'q' to quit): \")\n",
    "    if user_input.lower() == 'q':\n",
    "        break\n",
    "    aList.append(user_input)\n",
    "print(\"This is your list:\", aList)\n",
    "# Deleting the second item (index 1)\n",
    "if len(aList) > 1:\n",
    "    del aList[1]\n",
    "    print(\"This is your new list after deleting the second item:\", aList)\n",
    "else:\n",
    "    print(\"There is no second item to delete.\")\n"
   ]
  },
  {
   "cell_type": "markdown",
   "metadata": {
    "vscode": {
     "languageId": "javascript"
    }
   },
   "source": [
    "## Explanation:\n",
    "\n",
    "### Accessing an Element:\n",
    "The code first asks the user to input items into the list/array. It then checks if there are at least two elements and prints the second one (index 1). If not, it displays a message stating there is no second item.\n",
    "\n",
    "### Deleting an Element:\n",
    "The code removes the second element from the list/array using `del` in Python and `splice()` in JavaScript, and then prints the updated list/array. If there is no second item, a message is displayed instead.\n"
   ]
  },
  {
   "cell_type": "markdown",
   "metadata": {},
   "source": [
    "\n",
    "### Popcorn Hack: Accessing and Deleting Elements\n",
    "- Create a list/array named aList.\n",
    "- Input items into the list/array. After the user is done adding items, display the second element (if it exists) in the list/array.\n",
    "- After adding items to the list/array, delete the second element (if it exists) and display the updated list/array."
   ]
  }
 ],
 "metadata": {
  "language_info": {
   "name": "python"
  }
 },
 "nbformat": 4,
 "nbformat_minor": 2
}
