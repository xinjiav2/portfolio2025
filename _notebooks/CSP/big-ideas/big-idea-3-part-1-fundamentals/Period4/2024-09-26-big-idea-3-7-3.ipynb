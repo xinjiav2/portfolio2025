{
 "cells": [
  {
   "cell_type": "raw",
   "metadata": {
    "vscode": {
     "languageId": "raw"
    }
   },
   "source": [
    "---\n",
    "comments: true\n",
    "layout: post\n",
    "title: CSP Period 4 Unit 3.7.3 Nested Conditionals Python Hacks\n",
    "description: In this lesson on nested conditionals in Python, students will explore how to create decision-making structures that involve multiple layers of conditions. By learning how to nest if, elif, and else statements, they will be able to write more precise and complex programs where one condition is checked only after another condition is met. The lesson will include hands-on exercises to help students understand when and how to apply nested conditionals for better control flow and logical clarity in their code.\n",
    "permalink: /csp/big-idea/p4/3-7-3\n",
    "type: ccc\n",
    "author: Risha Guha, Vibha Mandayam, Ava Shalon\n",
    "menu: nav/csp_units/csp_unit3_p4_fundamentals.html\n",
    "---"
   ]
  },
  {
   "cell_type": "markdown",
   "metadata": {},
   "source": [
    "<h1><span style=\"font-family: Ariel; color:#ffa994\"> Python Nested Conditionals Hacks Below</span></h1>\n",
    "\n",
    "<h><span style=\"font-family: Ariel; color:#ffa994\"> Hack 1: Write Python pseudocode to decide whether or not to go to the beach.</span></h>\n",
    "\n",
    "Meet the following conditions:\n",
    "\n",
    "    The weather must be sunny.\n",
    "    You must have sunscreen.\n",
    "    You must have enough snacks.\n",
    "\n",
    "    If all conditions are met, output a message that says you are ready for the beach.\n",
    "    If you don’t have enough snacks, suggest getting snacks first.\n",
    "    If you don’t have sunscreen, suggest buying sunscreen.\n",
    "    If the weather is not sunny, output that it’s not a good day for the beach."
   ]
  },
  {
   "cell_type": "markdown",
   "metadata": {},
   "source": [
    "<h><span style=\"font-family: Ariel; color:#ffa994\"> Hack 2: Write a Python code that checks if you can adopt a pet.</span></h>\n",
    "\n",
    "Include the following conditions:\n",
    "\n",
    "    You must be 18 years or older.\n",
    "    You must have enough space in your home (more than 50 square feet).\n",
    "    You must be available to take care of the pet (true/false).\n",
    "\n",
    "    If all conditions are true, print that you can adopt the pet.\n",
    "    If you don’t have enough space, print that you need a bigger home.\n",
    "    If you aren’t available to take care of the pet, print that you need to make time.\n",
    "    If you are not 18 or older, print that you must be at least 18 to adopt a pet."
   ]
  },
  {
   "cell_type": "markdown",
   "metadata": {},
   "source": [
    "<h><span style=\"font-family: Ariel; color:#ffa994\"> Hack 3: Write Python code to determine whether or not to participate in a marathon. </span></h>\n",
    "\n",
    "Check the following conditions:\n",
    "\n",
    "    The weather must be clear.\n",
    "    You must have running shoes.\n",
    "    You must have practiced for at least 10 days.\n",
    "\n",
    "    If all conditions are met, print that you are ready for the marathon.\n",
    "    If you don’t have running shoes, print that you need to buy shoes first.\n",
    "    If you haven’t practiced enough, print that you need to practice more.\n",
    "    If the weather is not clear, print that it’s not the right time for the marathon."
   ]
  },
  {
   "cell_type": "markdown",
   "metadata": {},
   "source": [
    "<h3><span style=\"font-family: Ariel; color:#ffa994\"> Python Quiz </span></h3>\n",
    "\n",
    "**Question 1:**\n",
    "\n",
    "What will be the output of the following code?\n",
    "\n",
    "    let age = 16;\n",
    "    let hasPermission = false;\n",
    "\n",
    "    if (age >= 18) {\n",
    "        if (hasPermission) {\n",
    "            console.log(\"You can enter.\");\n",
    "        } else {\n",
    "            console.log(\"You need permission to enter.\");\n",
    "        }\n",
    "    } else {\n",
    "        console.log(\"You are too young to enter.\");\n",
    "    }\n",
    "\n",
    "A. You can enter.\n",
    "B. You need permission to enter.\n",
    "C. You are too young to enter.\n",
    "\n",
    "\n",
    "**Question 2:**\n",
    "\n",
    "Given the following code, what will be printed if x = 10 and y = -5?\n",
    "\n",
    "    let x = 10;\n",
    "    let y = -5;\n",
    "\n",
    "    if (x > 0) {\n",
    "        if (y > 0) {\n",
    "            console.log(\"Both x and y are positive.\");\n",
    "        } else {\n",
    "            console.log(\"x is positive but y is not.\");\n",
    "        }\n",
    "    } else {\n",
    "        console.log(\"x is not positive.\");\n",
    "    }\n",
    "\n",
    "A. Both x and y are positive.\n",
    "B. x is positive but y is not.\n",
    "C. x is not positive.\n",
    "\n",
    "**Question 3:**\n",
    "\n",
    "What will be the output of the following code?\n",
    "\n",
    "    let temperature = 65;\n",
    "    let isSunny = true;\n",
    "\n",
    "    if (temperature > 70) {\n",
    "        if (isSunny) {\n",
    "            console.log(\"It's a nice day for a picnic.\");\n",
    "        } else {\n",
    "            console.log(\"It's warm but not sunny.\");\n",
    "        }\n",
    "    } else {\n",
    "        console.log(\"It's too cold.\");\n",
    "    }\n",
    "\n",
    "A. It's a nice day for a picnic.\n",
    "B. It's warm but not sunny.\n",
    "C. It's too cold."
   ]
  }
 ],
 "metadata": {
  "language_info": {
   "name": "python"
  }
 },
 "nbformat": 4,
 "nbformat_minor": 2
}
