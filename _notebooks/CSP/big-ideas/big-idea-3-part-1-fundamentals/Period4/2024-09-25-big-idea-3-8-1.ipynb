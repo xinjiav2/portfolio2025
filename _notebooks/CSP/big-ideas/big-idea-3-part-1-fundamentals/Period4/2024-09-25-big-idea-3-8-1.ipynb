{
 "cells": [
  {
   "cell_type": "raw",
   "metadata": {
    "vscode": {
     "languageId": "raw"
    }
   },
   "source": [
    "---\n",
    "layout: post\n",
    "title: 3.8.1 While loops\n",
    "author: Weston Gardner\n",
    "description: Basic concept for while loops\n",
    "permalink: /csp/big-idea/p4/3-8-1\n",
    "menu: nav/csp_units/csp_unit3_p4_fundamentals.html\n",
    "---"
   ]
  },
  {
   "cell_type": "markdown",
   "metadata": {},
   "source": [
    "## Basic Overview\n",
    "While loops are consisted of two main componenets\n",
    "\n",
    "The condition ex: x > y, or y > 8, or string = \"xyz\"\n",
    "\n",
    "The inside code: This could be anything that you want run\n",
    "\n",
    "### What happens?\n",
    "The inside code is run an infinite amount of times until the condition is equated to false\n",
    "\n",
    "note that if the condition is met halfway through the inside code, the rest will still be accomplished\n",
    "\n",
    "## Pseudocode Example\n",
    "\n",
    "```pseudocode\n",
    "# Initialize a variable\n",
    "counter = 1\n",
    "\n",
    "# While loop starts\n",
    "WHILE counter <= 5 DO\n",
    "    # Print the current value of the counter\n",
    "    PRINT \"Counter is: \", counter\n",
    "\n",
    "    # Increment the counter\n",
    "    counter = counter + 1\n",
    "\n",
    "# End of the loop\n",
    "END WHILE\n",
    "```\n",
    "\n",
    "## Python Example"
   ]
  },
  {
   "cell_type": "code",
   "execution_count": 1,
   "metadata": {},
   "outputs": [
    {
     "name": "stdout",
     "output_type": "stream",
     "text": [
      "Counter is: 1\n",
      "Counter is: 2\n",
      "Counter is: 3\n",
      "Counter is: 4\n",
      "Counter is: 5\n"
     ]
    }
   ],
   "source": [
    "# Initialize a variable\n",
    "counter = 1\n",
    "\n",
    "# While loop starts\n",
    "while counter <= 5:\n",
    "    # Print the current value of the counter\n",
    "    print(\"Counter is:\", counter)\n",
    "    \n",
    "    # Increment the counter\n",
    "    counter += 1"
   ]
  },
  {
   "cell_type": "markdown",
   "metadata": {},
   "source": [
    "## Javascript Example"
   ]
  },
  {
   "cell_type": "code",
   "execution_count": 2,
   "metadata": {
    "vscode": {
     "languageId": "javascript"
    }
   },
   "outputs": [
    {
     "data": {
      "application/javascript": "// Initialize a variable\nlet counter = 1;\n\n// While loop starts\nwhile (counter <= 5) {\n    console.log(\"Counter is: \" + counter);\n    counter++;\n}\n",
      "text/plain": [
       "<IPython.core.display.Javascript object>"
      ]
     },
     "metadata": {},
     "output_type": "display_data"
    }
   ],
   "source": [
    "%%js\n",
    "// Initialize a variable\n",
    "let counter = 1;\n",
    "\n",
    "// While loop starts\n",
    "while (counter <= 5) {\n",
    "    console.log(\"Counter is: \" + counter);\n",
    "    counter++;\n",
    "}"
   ]
  },
  {
   "cell_type": "markdown",
   "metadata": {},
   "source": [
    "## What is happening?\n",
    "\n",
    "In both of these examples we are declaring an integer called counter and setting it equal to one.\n",
    "\n",
    "Then our condition for these while loops is if counter <= 5.\n",
    "\n",
    "This means that our code will run until counter is greater than 5\n",
    "\n",
    "Then the inside code prints to the terminal \"Counter is: \" then it adds the integer of counter, then increases the value of counter by one\n",
    "\n",
    "# Popcorn Hack #1\n",
    "\n",
    "I want you to create a while loop that will print out \"hello\" to the terminal 5 times\n",
    "\n",
    "### Example"
   ]
  },
  {
   "cell_type": "code",
   "execution_count": 3,
   "metadata": {},
   "outputs": [],
   "source": [
    "counter = 5\n",
    "while counter < 0:\n",
    "    print(\"Hello\")\n",
    "    counter -= 1"
   ]
  },
  {
   "cell_type": "markdown",
   "metadata": {},
   "source": [
    "<script src=\"https://utteranc.es/client.js\"\n",
    "        repo=\"nighthawkcoders/portfolio_2025\"\n",
    "        issue-term=\"title\"\n",
    "        label=\"blogpost-comment\"\n",
    "        theme=\"github-light\"\n",
    "        crossorigin=\"anonymous\"\n",
    "        async>\n",
    "</script>\n",
    "-->"
   ]
  }
 ],
 "metadata": {
  "kernelspec": {
   "display_name": "Python 3",
   "language": "python",
   "name": "python3"
  },
  "language_info": {
   "codemirror_mode": {
    "name": "ipython",
    "version": 3
   },
   "file_extension": ".py",
   "mimetype": "text/x-python",
   "name": "python",
   "nbconvert_exporter": "python",
   "pygments_lexer": "ipython3",
   "version": "3.12.3"
  }
 },
 "nbformat": 4,
 "nbformat_minor": 2
}
