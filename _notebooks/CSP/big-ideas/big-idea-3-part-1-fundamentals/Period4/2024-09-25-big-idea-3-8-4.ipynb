{
 "cells": [
  {
   "cell_type": "raw",
   "metadata": {
    "vscode": {
     "languageId": "raw"
    }
   },
   "source": [
    "---\n",
    "layout: post\n",
    "title: 3.8.4 For Loops\n",
    "author: Arnav Mittal\n",
    "description: Looping with strings, dictionaries, and indexes\n",
    "permalink: /csp/big-idea/p4/3-8-4\n",
    "menu: nav/csp_units/csp_unit3_p4_fundamentals.html\n",
    "---"
   ]
  },
  {
   "cell_type": "markdown",
   "metadata": {
    "vscode": {
     "languageId": "html"
    }
   },
   "source": [
    "## Looping with lists and dictionaries and index and range"
   ]
  },
  {
   "cell_type": "markdown",
   "metadata": {},
   "source": [
    "## Overview"
   ]
  },
  {
   "cell_type": "markdown",
   "metadata": {},
   "source": [
    "For loops can be used to get each element of a string or dictionary, which can be very useful\n",
    "\n",
    "\n",
    "You can also use the range function with for loops and call on an element with its index"
   ]
  },
  {
   "cell_type": "markdown",
   "metadata": {},
   "source": [
    "## Looping through a string/dictionary with for loops"
   ]
  },
  {
   "cell_type": "code",
   "execution_count": 1,
   "metadata": {},
   "outputs": [
    {
     "name": "stdout",
     "output_type": "stream",
     "text": [
      "John\n",
      "Abraham\n",
      "Bill\n",
      "Henry\n"
     ]
    }
   ],
   "source": [
    "names = [\"John\", \"Abraham\", \"Bill\", \"Henry\"]\n",
    "\n",
    "for name in names:\n",
    "    print(name)"
   ]
  },
  {
   "cell_type": "code",
   "execution_count": 2,
   "metadata": {
    "vscode": {
     "languageId": "javascript"
    }
   },
   "outputs": [
    {
     "data": {
      "application/javascript": "const names = [\"John\", \"Abraham\", \"Bill\", \"Henry\"];\n\nfor (const name of names) {\n    console.log(name);\n}\n",
      "text/plain": [
       "<IPython.core.display.Javascript object>"
      ]
     },
     "metadata": {},
     "output_type": "display_data"
    }
   ],
   "source": [
    "%%js\n",
    "const names = [\"John\", \"Abraham\", \"Bill\", \"Henry\"];\n",
    "\n",
    "for (const name of names) {\n",
    "    console.log(name);\n",
    "}"
   ]
  },
  {
   "cell_type": "markdown",
   "metadata": {},
   "source": [
    "In this example, we first created a list. Then, using the for loop, we iterate through each index of the list. For each iteration, we print the corresponding name in our list. So, on the first iteration, we will print the first name in our list. "
   ]
  },
  {
   "cell_type": "code",
   "execution_count": 3,
   "metadata": {},
   "outputs": [
    {
     "name": "stdout",
     "output_type": "stream",
     "text": [
      "dict_items([('John', 15), ('Abraham', 17), ('Bill', 14), ('Henry', 16)])\n",
      "John is 15\n",
      "Abraham is 17\n",
      "Bill is 14\n",
      "Henry is 16\n"
     ]
    }
   ],
   "source": [
    "student_info = {\n",
    "    \"John\": 15,\n",
    "    \"Abraham\": 17,\n",
    "    \"Bill\": 14,\n",
    "    \"Henry\": 16\n",
    "}\n",
    "\n",
    "print(student_info.items())\n",
    "\n",
    "for name, age in student_info.items():\n",
    "    print(f\"{name} is {age}\")"
   ]
  },
  {
   "cell_type": "code",
   "execution_count": 4,
   "metadata": {
    "vscode": {
     "languageId": "javascript"
    }
   },
   "outputs": [
    {
     "data": {
      "application/javascript": "student_info = {\n    'John': 15,\n    'Abraham': 17,\n    'Bill': 14,\n    'Henry': 16\n};\n\nconsole.log(student_info.items());\n\nfor (name, age in student_info.items()) {\n    console.log(name, \" is \", age);\n}\n",
      "text/plain": [
       "<IPython.core.display.Javascript object>"
      ]
     },
     "metadata": {},
     "output_type": "display_data"
    }
   ],
   "source": [
    "%%js\n",
    "student_info = {\n",
    "    'John': 15,\n",
    "    'Abraham': 17,\n",
    "    'Bill': 14,\n",
    "    'Henry': 16\n",
    "};\n",
    "\n",
    "console.log(student_info.items());\n",
    "\n",
    "for (name, age in student_info.items()) {\n",
    "    console.log(name, \" is \", age);\n",
    "}"
   ]
  },
  {
   "cell_type": "markdown",
   "metadata": {},
   "source": [
    "This is a bit more complicated. Instead of one temporary variable, we create two because we want to take two different values from the dictionary in each iteration. The name is the item in the dictionary and the age is the value. As you see in the list of items in the dictionary, since each item has two values, we can use two variables to get each. Then, we use a formatted string to print the name and age of each student."
   ]
  },
  {
   "cell_type": "markdown",
   "metadata": {},
   "source": [
    "## Popcorn Hack #4"
   ]
  },
  {
   "cell_type": "markdown",
   "metadata": {},
   "source": [
    "Create a dictionary and create a for loop that runs through each key and value of the dictionary\n",
    "For each iteration, print the key and value as well as a message of your choice\n",
    "\n",
    "(Use Example Above)"
   ]
  },
  {
   "cell_type": "markdown",
   "metadata": {
    "vscode": {
     "languageId": "javascript"
    }
   },
   "source": [
    "## Using index with range and len functions in a for loop"
   ]
  },
  {
   "cell_type": "code",
   "execution_count": 5,
   "metadata": {},
   "outputs": [
    {
     "name": "stdout",
     "output_type": "stream",
     "text": [
      "0\n",
      "1\n",
      "3\n",
      "6\n",
      "10\n",
      "15\n",
      "21\n",
      "28\n",
      "36\n",
      "45\n",
      "55\n"
     ]
    }
   ],
   "source": [
    "test_string = \"Bobby James\"\n",
    "\n",
    "x = 0 \n",
    "\n",
    "for index in range(len(test_string)):\n",
    "    x += index\n",
    "    print(x)"
   ]
  },
  {
   "cell_type": "markdown",
   "metadata": {},
   "source": [
    "This is a different way to use for loops. We create a string and then use 'range' to run the for loop for as many times as the length of the string. The count for len starts at 0, so each time it would count up from 0 by 1, as you can see in the addition to x each time."
   ]
  },
  {
   "cell_type": "markdown",
   "metadata": {},
   "source": [
    "<script src=\"https://utteranc.es/client.js\"\n",
    "        repo=\"nighthawkcoders/portfolio_2025\"\n",
    "        issue-term=\"title\"\n",
    "        label=\"blogpost-comment\"\n",
    "        theme=\"github-light\"\n",
    "        crossorigin=\"anonymous\"\n",
    "        async>\n",
    "</script>\n",
    "-->"
   ]
  }
 ],
 "metadata": {
  "kernelspec": {
   "display_name": "Python 3",
   "language": "python",
   "name": "python3"
  },
  "language_info": {
   "codemirror_mode": {
    "name": "ipython",
    "version": 3
   },
   "file_extension": ".py",
   "mimetype": "text/x-python",
   "name": "python",
   "nbconvert_exporter": "python",
   "pygments_lexer": "ipython3",
   "version": "3.12.3"
  }
 },
 "nbformat": 4,
 "nbformat_minor": 2
}
